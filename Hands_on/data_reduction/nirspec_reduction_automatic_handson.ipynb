{
 "cells": [
  {
   "cell_type": "markdown",
   "id": "5eb8c827",
   "metadata": {},
   "source": [
    "# This notebook will run the pipeline for real data DDT 2756"
   ]
  },
  {
   "cell_type": "code",
   "execution_count": 1,
   "id": "ad23a5c6",
   "metadata": {},
   "outputs": [],
   "source": [
    "# Packages that allow us to get information about objects:\n",
    "import asdf\n",
    "import os\n",
    "# Update to a path in your system (see details below at \"Reference files\")\n",
    "os.environ[\"CRDS_PATH\"] = \"/data/handson/cal_ref_files\"\n",
    "os.environ[\"CRDS_SERVER_URL\"] = \"https://jwst-crds.stsci.edu\"\n",
    "\n",
    "# Astropy tools:\n",
    "from astropy.io import fits\n",
    "\n",
    "# JWST data models\n",
    "from jwst import datamodels\n",
    "\n",
    "import glob\n",
    "\n",
    "# The entire calwebb_spec2 pipeline\n",
    "from jwst.pipeline.calwebb_spec2 import Spec2Pipeline\n",
    "\n",
    "# Individual steps that make up calwebb_spec2 and datamodels\n",
    "from jwst.assign_wcs.assign_wcs_step import AssignWcsStep\n",
    "from jwst.background.background_step import BackgroundStep\n",
    "from jwst.imprint.imprint_step import ImprintStep\n",
    "from jwst.msaflagopen.msaflagopen_step import MSAFlagOpenStep\n",
    "from jwst.extract_2d.extract_2d_step import Extract2dStep\n",
    "from jwst.srctype.srctype_step import SourceTypeStep\n",
    "from jwst.master_background.master_background_step import MasterBackgroundStep\n",
    "from jwst.wavecorr.wavecorr_step import WavecorrStep\n",
    "from jwst.flatfield.flat_field_step import FlatFieldStep\n",
    "from jwst.straylight.straylight_step import StraylightStep\n",
    "from jwst.fringe.fringe_step import FringeStep\n",
    "from jwst.pathloss.pathloss_step import PathLossStep\n",
    "from jwst.barshadow.barshadow_step import BarShadowStep\n",
    "from jwst.photom.photom_step import PhotomStep\n",
    "from jwst.resample import ResampleSpecStep\n",
    "from jwst.cube_build.cube_build_step import CubeBuildStep\n",
    "from jwst.extract_1d.extract_1d_step import Extract1dStep\n",
    "\n",
    "\n",
    "from jwst.assign_wcs import nirspec"
   ]
  },
  {
   "cell_type": "code",
   "execution_count": 2,
   "id": "3bc97437",
   "metadata": {},
   "outputs": [],
   "source": [
    "from jwst.pipeline.calwebb_detector1 import Detector1Pipeline"
   ]
  },
  {
   "cell_type": "code",
   "execution_count": 3,
   "id": "a7d682d8",
   "metadata": {},
   "outputs": [
    {
     "name": "stdout",
     "output_type": "stream",
     "text": [
      "1.8.4\n"
     ]
    }
   ],
   "source": [
    "import jwst\n",
    "print(jwst.__version__)"
   ]
  },
  {
   "cell_type": "code",
   "execution_count": 4,
   "id": "ad72f9fd",
   "metadata": {},
   "outputs": [],
   "source": [
    "# To make everything easier, all files saved by the pipeline\n",
    "# and pipeline steps will be saved to the working directory.\n",
    "output_dir = '/data/handson'\n",
    "\n",
    "# Make sure the output directory exists before downloading any data\n",
    "if not os.path.exists(output_dir):\n",
    "    os.makedirs(output_dir)"
   ]
  },
  {
   "cell_type": "code",
   "execution_count": 5,
   "id": "3fc749dc",
   "metadata": {},
   "outputs": [],
   "source": [
    "## level 1"
   ]
  },
  {
   "cell_type": "code",
   "execution_count": 6,
   "id": "52c065f3",
   "metadata": {},
   "outputs": [
    {
     "name": "stderr",
     "output_type": "stream",
     "text": [
      "2022-12-01 10:46:05,758 - stpipe.Detector1Pipeline - INFO - Detector1Pipeline instance created.\n",
      "2022-12-01 10:46:05,759 - stpipe.Detector1Pipeline.group_scale - INFO - GroupScaleStep instance created.\n",
      "2022-12-01 10:46:05,760 - stpipe.Detector1Pipeline.dq_init - INFO - DQInitStep instance created.\n",
      "2022-12-01 10:46:05,761 - stpipe.Detector1Pipeline.saturation - INFO - SaturationStep instance created.\n",
      "2022-12-01 10:46:05,762 - stpipe.Detector1Pipeline.ipc - INFO - IPCStep instance created.\n",
      "2022-12-01 10:46:05,763 - stpipe.Detector1Pipeline.superbias - INFO - SuperBiasStep instance created.\n",
      "2022-12-01 10:46:05,765 - stpipe.Detector1Pipeline.refpix - INFO - RefPixStep instance created.\n",
      "2022-12-01 10:46:05,766 - stpipe.Detector1Pipeline.rscd - INFO - RscdStep instance created.\n",
      "2022-12-01 10:46:05,767 - stpipe.Detector1Pipeline.firstframe - INFO - FirstFrameStep instance created.\n",
      "2022-12-01 10:46:05,768 - stpipe.Detector1Pipeline.lastframe - INFO - LastFrameStep instance created.\n",
      "2022-12-01 10:46:05,769 - stpipe.Detector1Pipeline.linearity - INFO - LinearityStep instance created.\n",
      "2022-12-01 10:46:05,770 - stpipe.Detector1Pipeline.dark_current - INFO - DarkCurrentStep instance created.\n",
      "2022-12-01 10:46:05,772 - stpipe.Detector1Pipeline.reset - INFO - ResetStep instance created.\n",
      "2022-12-01 10:46:05,773 - stpipe.Detector1Pipeline.persistence - INFO - PersistenceStep instance created.\n",
      "2022-12-01 10:46:05,775 - stpipe.Detector1Pipeline.jump - INFO - JumpStep instance created.\n",
      "2022-12-01 10:46:05,776 - stpipe.Detector1Pipeline.ramp_fit - INFO - RampFitStep instance created.\n",
      "2022-12-01 10:46:05,777 - stpipe.Detector1Pipeline.gain_scale - INFO - GainScaleStep instance created.\n"
     ]
    }
   ],
   "source": [
    "det1 = Detector1Pipeline()\n",
    "\n",
    "## ONLY do this once, and manually edit the file as necessary\n",
    "det_param_reffile = os.path.join(output_dir, 'manual_calwebb_det1.asdf')\n",
    "if not os.path.exists(det_param_reffile):\n",
    "    det1.export_config(det_param_reffile)\n",
    "\n",
    "\n",
    "det1.save_results = True\n",
    "det1.output_dir = output_dir\n"
   ]
  },
  {
   "cell_type": "code",
   "execution_count": 7,
   "id": "2ad2e7aa",
   "metadata": {},
   "outputs": [
    {
     "data": {
      "text/plain": [
       "['/data/handson/jw02756001001_02101_00001_nrs1_uncal.fits',\n",
       " '/data/handson/jw02756001001_02101_00001_nrs2_uncal.fits',\n",
       " '/data/handson/jw02756001001_02101_00002_nrs1_uncal.fits',\n",
       " '/data/handson/jw02756001001_02101_00002_nrs2_uncal.fits',\n",
       " '/data/handson/jw02756001001_02101_00003_nrs1_uncal.fits',\n",
       " '/data/handson/jw02756001001_02101_00003_nrs2_uncal.fits',\n",
       " '/data/handson/jw02756001001_03101_00001_nrs1_uncal.fits',\n",
       " '/data/handson/jw02756001001_03101_00001_nrs2_uncal.fits',\n",
       " '/data/handson/jw02756001001_03101_00002_nrs1_uncal.fits',\n",
       " '/data/handson/jw02756001001_03101_00002_nrs2_uncal.fits',\n",
       " '/data/handson/jw02756001001_03101_00003_nrs1_uncal.fits',\n",
       " '/data/handson/jw02756001001_03101_00003_nrs2_uncal.fits',\n",
       " '/data/handson/jw02756001001_03103_00001_nrs1_uncal.fits',\n",
       " '/data/handson/jw02756001001_03103_00001_nrs2_uncal.fits',\n",
       " '/data/handson/jw02756001001_03103_00002_nrs1_uncal.fits',\n",
       " '/data/handson/jw02756001001_03103_00002_nrs2_uncal.fits',\n",
       " '/data/handson/jw02756001001_03103_00003_nrs1_uncal.fits',\n",
       " '/data/handson/jw02756001001_03103_00003_nrs2_uncal.fits']"
      ]
     },
     "execution_count": 7,
     "metadata": {},
     "output_type": "execute_result"
    }
   ],
   "source": [
    "level0_data_files = glob.glob(output_dir+'/*uncal.fits')\n",
    "level0_data_files.sort()\n",
    "level0_data_files"
   ]
  },
  {
   "cell_type": "code",
   "execution_count": 8,
   "id": "2158da97",
   "metadata": {
    "scrolled": true
   },
   "outputs": [
    {
     "name": "stderr",
     "output_type": "stream",
     "text": [
      "2022-12-01 10:46:12,719 - stpipe - INFO - PARS-DETECTOR1PIPELINE parameters found: /data/handson/cal_ref_files/references/jwst/nirspec/jwst_nirspec_pars-detector1pipeline_0004.asdf\n",
      "2022-12-01 10:46:12,756 - stpipe.Detector1Pipeline - INFO - Detector1Pipeline instance created.\n",
      "2022-12-01 10:46:12,757 - stpipe.Detector1Pipeline.group_scale - INFO - GroupScaleStep instance created.\n",
      "2022-12-01 10:46:12,758 - stpipe.Detector1Pipeline.dq_init - INFO - DQInitStep instance created.\n",
      "2022-12-01 10:46:12,759 - stpipe.Detector1Pipeline.saturation - INFO - SaturationStep instance created.\n",
      "2022-12-01 10:46:12,760 - stpipe.Detector1Pipeline.ipc - INFO - IPCStep instance created.\n",
      "2022-12-01 10:46:12,761 - stpipe.Detector1Pipeline.superbias - INFO - SuperBiasStep instance created.\n",
      "2022-12-01 10:46:12,762 - stpipe.Detector1Pipeline.refpix - INFO - RefPixStep instance created.\n",
      "2022-12-01 10:46:12,763 - stpipe.Detector1Pipeline.rscd - INFO - RscdStep instance created.\n",
      "2022-12-01 10:46:12,764 - stpipe.Detector1Pipeline.firstframe - INFO - FirstFrameStep instance created.\n",
      "2022-12-01 10:46:12,765 - stpipe.Detector1Pipeline.lastframe - INFO - LastFrameStep instance created.\n",
      "2022-12-01 10:46:12,766 - stpipe.Detector1Pipeline.linearity - INFO - LinearityStep instance created.\n",
      "2022-12-01 10:46:12,767 - stpipe.Detector1Pipeline.dark_current - INFO - DarkCurrentStep instance created.\n",
      "2022-12-01 10:46:12,768 - stpipe.Detector1Pipeline.reset - INFO - ResetStep instance created.\n",
      "2022-12-01 10:46:12,769 - stpipe.Detector1Pipeline.persistence - INFO - PersistenceStep instance created.\n",
      "2022-12-01 10:46:12,771 - stpipe.Detector1Pipeline.jump - INFO - JumpStep instance created.\n",
      "2022-12-01 10:46:12,772 - stpipe.Detector1Pipeline.ramp_fit - INFO - RampFitStep instance created.\n",
      "2022-12-01 10:46:12,773 - stpipe.Detector1Pipeline.gain_scale - INFO - GainScaleStep instance created.\n",
      "2022-12-01 10:46:12,840 - stpipe.Detector1Pipeline - INFO - Step Detector1Pipeline running with args ('/data/handson/jw02756001001_02101_00001_nrs1_uncal.fits',).\n",
      "2022-12-01 10:46:12,850 - stpipe.Detector1Pipeline - INFO - Step Detector1Pipeline parameters are: {'pre_hooks': [], 'post_hooks': [], 'output_file': None, 'output_dir': '/data/handson', 'output_ext': '.fits', 'output_use_model': False, 'output_use_index': True, 'save_results': True, 'skip': False, 'suffix': None, 'search_output_file': True, 'input_dir': '', 'save_calibrated_ramp': False, 'steps': {'group_scale': {'pre_hooks': [], 'post_hooks': [], 'output_file': None, 'output_dir': None, 'output_ext': '.fits', 'output_use_model': False, 'output_use_index': True, 'save_results': False, 'skip': False, 'suffix': None, 'search_output_file': True, 'input_dir': ''}, 'dq_init': {'pre_hooks': [], 'post_hooks': [], 'output_file': None, 'output_dir': None, 'output_ext': '.fits', 'output_use_model': False, 'output_use_index': True, 'save_results': False, 'skip': False, 'suffix': None, 'search_output_file': True, 'input_dir': ''}, 'saturation': {'pre_hooks': [], 'post_hooks': [], 'output_file': None, 'output_dir': None, 'output_ext': '.fits', 'output_use_model': False, 'output_use_index': True, 'save_results': False, 'skip': False, 'suffix': None, 'search_output_file': True, 'input_dir': '', 'n_pix_grow_sat': 1}, 'ipc': {'pre_hooks': [], 'post_hooks': [], 'output_file': None, 'output_dir': None, 'output_ext': '.fits', 'output_use_model': False, 'output_use_index': True, 'save_results': False, 'skip': False, 'suffix': None, 'search_output_file': True, 'input_dir': ''}, 'superbias': {'pre_hooks': [], 'post_hooks': [], 'output_file': None, 'output_dir': None, 'output_ext': '.fits', 'output_use_model': False, 'output_use_index': True, 'save_results': False, 'skip': False, 'suffix': None, 'search_output_file': True, 'input_dir': ''}, 'refpix': {'pre_hooks': [], 'post_hooks': [], 'output_file': None, 'output_dir': None, 'output_ext': '.fits', 'output_use_model': False, 'output_use_index': True, 'save_results': False, 'skip': False, 'suffix': None, 'search_output_file': True, 'input_dir': '', 'odd_even_columns': True, 'use_side_ref_pixels': True, 'side_smoothing_length': 11, 'side_gain': 1.0, 'odd_even_rows': True}, 'rscd': {'pre_hooks': [], 'post_hooks': [], 'output_file': None, 'output_dir': None, 'output_ext': '.fits', 'output_use_model': False, 'output_use_index': True, 'save_results': False, 'skip': False, 'suffix': None, 'search_output_file': True, 'input_dir': '', 'type': 'baseline'}, 'firstframe': {'pre_hooks': [], 'post_hooks': [], 'output_file': None, 'output_dir': None, 'output_ext': '.fits', 'output_use_model': False, 'output_use_index': True, 'save_results': False, 'skip': False, 'suffix': None, 'search_output_file': True, 'input_dir': ''}, 'lastframe': {'pre_hooks': [], 'post_hooks': [], 'output_file': None, 'output_dir': None, 'output_ext': '.fits', 'output_use_model': False, 'output_use_index': True, 'save_results': False, 'skip': False, 'suffix': None, 'search_output_file': True, 'input_dir': ''}, 'linearity': {'pre_hooks': [], 'post_hooks': [], 'output_file': None, 'output_dir': None, 'output_ext': '.fits', 'output_use_model': False, 'output_use_index': True, 'save_results': False, 'skip': False, 'suffix': None, 'search_output_file': True, 'input_dir': ''}, 'dark_current': {'pre_hooks': [], 'post_hooks': [], 'output_file': None, 'output_dir': None, 'output_ext': '.fits', 'output_use_model': False, 'output_use_index': True, 'save_results': False, 'skip': False, 'suffix': None, 'search_output_file': True, 'input_dir': '', 'dark_output': None}, 'reset': {'pre_hooks': [], 'post_hooks': [], 'output_file': None, 'output_dir': None, 'output_ext': '.fits', 'output_use_model': False, 'output_use_index': True, 'save_results': False, 'skip': False, 'suffix': None, 'search_output_file': True, 'input_dir': ''}, 'persistence': {'pre_hooks': [], 'post_hooks': [], 'output_file': None, 'output_dir': None, 'output_ext': '.fits', 'output_use_model': False, 'output_use_index': True, 'save_results': False, 'skip': False, 'suffix': None, 'search_output_file': True, 'input_dir': '', 'input_trapsfilled': '', 'flag_pers_cutoff': 40.0, 'save_persistence': False, 'save_trapsfilled': True}, 'jump': {'pre_hooks': [], 'post_hooks': [], 'output_file': None, 'output_dir': None, 'output_ext': '.fits', 'output_use_model': False, 'output_use_index': True, 'save_results': False, 'skip': False, 'suffix': None, 'search_output_file': True, 'input_dir': '', 'rejection_threshold': 4.0, 'three_group_rejection_threshold': 6.0, 'four_group_rejection_threshold': 5.0, 'maximum_cores': 'none', 'flag_4_neighbors': True, 'max_jump_to_flag_neighbors': 1000.0, 'min_jump_to_flag_neighbors': 10.0, 'after_jump_flag_dn1': 0.0, 'after_jump_flag_time1': 0.0, 'after_jump_flag_dn2': 0.0, 'after_jump_flag_time2': 0.0, 'min_sat_area': 1.0, 'min_jump_area': 5.0, 'expand_factor': 2.0, 'use_ellipses': False, 'sat_required_snowball': True, 'expand_large_events': False}, 'ramp_fit': {'pre_hooks': [], 'post_hooks': [], 'output_file': None, 'output_dir': None, 'output_ext': '.fits', 'output_use_model': False, 'output_use_index': True, 'save_results': False, 'skip': False, 'suffix': None, 'search_output_file': True, 'input_dir': '', 'int_name': '', 'save_opt': False, 'opt_name': '', 'suppress_one_group': True, 'maximum_cores': 'none'}, 'gain_scale': {'pre_hooks': [], 'post_hooks': [], 'output_file': None, 'output_dir': None, 'output_ext': '.fits', 'output_use_model': False, 'output_use_index': True, 'save_results': False, 'skip': False, 'suffix': None, 'search_output_file': True, 'input_dir': ''}}}\n",
      "2022-12-01 10:46:13,176 - stpipe.Detector1Pipeline - INFO - Prefetching reference files for dataset: 'jw02756001001_02101_00001_nrs1_uncal.fits' reftypes = ['dark', 'gain', 'ipc', 'linearity', 'mask', 'persat', 'readnoise', 'refpix', 'reset', 'rscd', 'saturation', 'superbias', 'trapdensity', 'trappars']\n",
      "2022-12-01 10:46:13,181 - stpipe.Detector1Pipeline - INFO - Prefetch for DARK reference file is '/data/handson/cal_ref_files/references/jwst/nirspec/jwst_nirspec_dark_0284.fits'.\n",
      "2022-12-01 10:46:13,181 - stpipe.Detector1Pipeline - INFO - Prefetch for GAIN reference file is '/data/handson/cal_ref_files/references/jwst/nirspec/jwst_nirspec_gain_0023.fits'.\n"
     ]
    },
    {
     "name": "stderr",
     "output_type": "stream",
     "text": [
      "2022-12-01 10:46:13,182 - stpipe.Detector1Pipeline - INFO - Prefetch for IPC reference file is '/data/handson/cal_ref_files/references/jwst/nirspec/jwst_nirspec_ipc_0011.fits'.\n",
      "2022-12-01 10:46:13,182 - stpipe.Detector1Pipeline - INFO - Prefetch for LINEARITY reference file is '/data/handson/cal_ref_files/references/jwst/nirspec/jwst_nirspec_linearity_0022.fits'.\n",
      "2022-12-01 10:46:13,182 - stpipe.Detector1Pipeline - INFO - Prefetch for MASK reference file is '/data/handson/cal_ref_files/references/jwst/nirspec/jwst_nirspec_mask_0037.fits'.\n",
      "2022-12-01 10:46:13,183 - stpipe.Detector1Pipeline - INFO - Prefetch for PERSAT reference file is 'N/A'.\n",
      "2022-12-01 10:46:13,183 - stpipe.Detector1Pipeline - INFO - Prefetch for READNOISE reference file is '/data/handson/cal_ref_files/references/jwst/nirspec/jwst_nirspec_readnoise_0037.fits'.\n",
      "2022-12-01 10:46:13,183 - stpipe.Detector1Pipeline - INFO - Prefetch for REFPIX reference file is 'N/A'.\n",
      "2022-12-01 10:46:13,184 - stpipe.Detector1Pipeline - INFO - Prefetch for RESET reference file is 'N/A'.\n",
      "2022-12-01 10:46:13,184 - stpipe.Detector1Pipeline - INFO - Prefetch for RSCD reference file is 'N/A'.\n",
      "2022-12-01 10:46:13,184 - stpipe.Detector1Pipeline - INFO - Prefetch for SATURATION reference file is '/data/handson/cal_ref_files/references/jwst/nirspec/jwst_nirspec_saturation_0031.fits'.\n",
      "2022-12-01 10:46:13,185 - stpipe.Detector1Pipeline - INFO - Prefetch for SUPERBIAS reference file is '/data/handson/cal_ref_files/references/jwst/nirspec/jwst_nirspec_superbias_0253.fits'.\n",
      "2022-12-01 10:46:13,186 - stpipe.Detector1Pipeline - INFO - Prefetch for TRAPDENSITY reference file is 'N/A'.\n",
      "2022-12-01 10:46:13,186 - stpipe.Detector1Pipeline - INFO - Prefetch for TRAPPARS reference file is 'N/A'.\n",
      "2022-12-01 10:46:13,187 - stpipe.Detector1Pipeline - INFO - Starting calwebb_detector1 ...\n",
      "2022-12-01 10:46:13,628 - stpipe.Detector1Pipeline.group_scale - INFO - Step group_scale running with args (<RampModel(1, 3, 2048, 2048) from jw02756001001_02101_00001_nrs1_uncal.fits>,).\n",
      "2022-12-01 10:46:13,630 - stpipe.Detector1Pipeline.group_scale - INFO - Step group_scale parameters are: {'pre_hooks': [], 'post_hooks': [], 'output_file': None, 'output_dir': None, 'output_ext': '.fits', 'output_use_model': False, 'output_use_index': True, 'save_results': False, 'skip': False, 'suffix': None, 'search_output_file': True, 'input_dir': ''}\n",
      "2022-12-01 10:46:13,727 - stpipe.Detector1Pipeline.group_scale - INFO - NFRAMES and FRMDIVSR are equal; correction not needed\n",
      "2022-12-01 10:46:13,727 - stpipe.Detector1Pipeline.group_scale - INFO - Step will be skipped\n",
      "2022-12-01 10:46:13,730 - stpipe.Detector1Pipeline.group_scale - INFO - Step group_scale done\n",
      "2022-12-01 10:46:13,799 - stpipe.Detector1Pipeline.dq_init - INFO - Step dq_init running with args (<RampModel(1, 3, 2048, 2048) from jw02756001001_02101_00001_nrs1_uncal.fits>,).\n",
      "2022-12-01 10:46:13,800 - stpipe.Detector1Pipeline.dq_init - INFO - Step dq_init parameters are: {'pre_hooks': [], 'post_hooks': [], 'output_file': None, 'output_dir': None, 'output_ext': '.fits', 'output_use_model': False, 'output_use_index': True, 'save_results': False, 'skip': False, 'suffix': None, 'search_output_file': True, 'input_dir': ''}\n",
      "2022-12-01 10:46:13,824 - stpipe.Detector1Pipeline.dq_init - INFO - Using MASK reference file /data/handson/cal_ref_files/references/jwst/nirspec/jwst_nirspec_mask_0037.fits\n",
      "2022-12-01 10:46:14,108 - stpipe.Detector1Pipeline.dq_init - INFO - Step dq_init done\n",
      "2022-12-01 10:46:14,191 - stpipe.Detector1Pipeline.saturation - INFO - Step saturation running with args (<RampModel(1, 3, 2048, 2048) from jw02756001001_02101_00001_nrs1_uncal.fits>,).\n",
      "2022-12-01 10:46:14,192 - stpipe.Detector1Pipeline.saturation - INFO - Step saturation parameters are: {'pre_hooks': [], 'post_hooks': [], 'output_file': None, 'output_dir': None, 'output_ext': '.fits', 'output_use_model': False, 'output_use_index': True, 'save_results': False, 'skip': False, 'suffix': None, 'search_output_file': True, 'input_dir': '', 'n_pix_grow_sat': 1}\n",
      "2022-12-01 10:46:14,217 - stpipe.Detector1Pipeline.saturation - INFO - Using SATURATION reference file /data/handson/cal_ref_files/references/jwst/nirspec/jwst_nirspec_saturation_0031.fits\n",
      "2022-12-01 10:46:14,881 - stpipe.Detector1Pipeline.saturation - INFO - Detected 6939 saturated pixels\n",
      "2022-12-01 10:46:14,891 - stpipe.Detector1Pipeline.saturation - INFO - Detected 0 A/D floor pixels\n",
      "2022-12-01 10:46:14,903 - stpipe.Detector1Pipeline.saturation - INFO - Step saturation done\n",
      "2022-12-01 10:46:14,987 - stpipe.Detector1Pipeline.ipc - INFO - Step ipc running with args (<RampModel(1, 3, 2048, 2048) from jw02756001001_02101_00001_nrs1_uncal.fits>,).\n",
      "2022-12-01 10:46:14,988 - stpipe.Detector1Pipeline.ipc - INFO - Step ipc parameters are: {'pre_hooks': [], 'post_hooks': [], 'output_file': None, 'output_dir': None, 'output_ext': '.fits', 'output_use_model': False, 'output_use_index': True, 'save_results': False, 'skip': False, 'suffix': None, 'search_output_file': True, 'input_dir': ''}\n",
      "2022-12-01 10:46:15,013 - stpipe.Detector1Pipeline.ipc - INFO - Using IPC reference file /data/handson/cal_ref_files/references/jwst/nirspec/jwst_nirspec_ipc_0011.fits\n",
      "2022-12-01 10:46:15,317 - stpipe.Detector1Pipeline.ipc - INFO - Step ipc done\n",
      "2022-12-01 10:46:15,404 - stpipe.Detector1Pipeline.superbias - INFO - Step superbias running with args (<RampModel(1, 3, 2048, 2048) from jw02756001001_02101_00001_nrs1_uncal.fits>,).\n",
      "2022-12-01 10:46:15,405 - stpipe.Detector1Pipeline.superbias - INFO - Step superbias parameters are: {'pre_hooks': [], 'post_hooks': [], 'output_file': None, 'output_dir': None, 'output_ext': '.fits', 'output_use_model': False, 'output_use_index': True, 'save_results': False, 'skip': False, 'suffix': None, 'search_output_file': True, 'input_dir': ''}\n",
      "2022-12-01 10:46:15,430 - stpipe.Detector1Pipeline.superbias - INFO - Using SUPERBIAS reference file /data/handson/cal_ref_files/references/jwst/nirspec/jwst_nirspec_superbias_0253.fits\n",
      "2022-12-01 10:46:15,664 - stpipe.Detector1Pipeline.superbias - INFO - Step superbias done\n",
      "2022-12-01 10:46:15,747 - stpipe.Detector1Pipeline.refpix - INFO - Step refpix running with args (<RampModel(1, 3, 2048, 2048) from jw02756001001_02101_00001_nrs1_uncal.fits>,).\n",
      "2022-12-01 10:46:15,748 - stpipe.Detector1Pipeline.refpix - INFO - Step refpix parameters are: {'pre_hooks': [], 'post_hooks': [], 'output_file': None, 'output_dir': None, 'output_ext': '.fits', 'output_use_model': False, 'output_use_index': True, 'save_results': False, 'skip': False, 'suffix': None, 'search_output_file': True, 'input_dir': '', 'odd_even_columns': True, 'use_side_ref_pixels': True, 'side_smoothing_length': 11, 'side_gain': 1.0, 'odd_even_rows': True}\n",
      "2022-12-01 10:46:15,824 - stpipe.Detector1Pipeline.refpix - INFO - NIR full frame data\n",
      "2022-12-01 10:46:15,824 - stpipe.Detector1Pipeline.refpix - INFO - The following parameters are valid for this mode:\n",
      "2022-12-01 10:46:15,824 - stpipe.Detector1Pipeline.refpix - INFO - use_side_ref_pixels = True\n",
      "2022-12-01 10:46:15,825 - stpipe.Detector1Pipeline.refpix - INFO - odd_even_columns = True\n",
      "2022-12-01 10:46:15,825 - stpipe.Detector1Pipeline.refpix - INFO - side_smoothing_length = 11\n",
      "2022-12-01 10:46:15,826 - stpipe.Detector1Pipeline.refpix - INFO - side_gain = 1.0\n",
      "2022-12-01 10:46:15,826 - stpipe.Detector1Pipeline.refpix - INFO - The following parameter is not applicable and is ignored:\n",
      "2022-12-01 10:46:15,826 - stpipe.Detector1Pipeline.refpix - INFO - odd_even_rows = False\n",
      "2022-12-01 10:46:16,653 - stpipe.Detector1Pipeline.refpix - INFO - Step refpix done\n",
      "2022-12-01 10:46:16,737 - stpipe.Detector1Pipeline.linearity - INFO - Step linearity running with args (<RampModel(1, 3, 2048, 2048) from jw02756001001_02101_00001_nrs1_uncal.fits>,).\n",
      "2022-12-01 10:46:16,738 - stpipe.Detector1Pipeline.linearity - INFO - Step linearity parameters are: {'pre_hooks': [], 'post_hooks': [], 'output_file': None, 'output_dir': None, 'output_ext': '.fits', 'output_use_model': False, 'output_use_index': True, 'save_results': False, 'skip': False, 'suffix': None, 'search_output_file': True, 'input_dir': ''}\n",
      "2022-12-01 10:46:16,763 - stpipe.Detector1Pipeline.linearity - INFO - Using Linearity reference file /data/handson/cal_ref_files/references/jwst/nirspec/jwst_nirspec_linearity_0022.fits\n"
     ]
    },
    {
     "name": "stderr",
     "output_type": "stream",
     "text": [
      "2022-12-01 10:46:16,893 - stpipe.Detector1Pipeline.linearity - WARNING - Keyword BAD_LIN_CORR does not correspond to an existing DQ mnemonic, so will be ignored\n",
      "2022-12-01 10:46:17,234 - stpipe.Detector1Pipeline.linearity - INFO - Step linearity done\n",
      "2022-12-01 10:46:17,319 - stpipe.Detector1Pipeline.dark_current - INFO - Step dark_current running with args (<RampModel(1, 3, 2048, 2048) from jw02756001001_02101_00001_nrs1_uncal.fits>,).\n",
      "2022-12-01 10:46:17,320 - stpipe.Detector1Pipeline.dark_current - INFO - Step dark_current parameters are: {'pre_hooks': [], 'post_hooks': [], 'output_file': None, 'output_dir': '/data/handson', 'output_ext': '.fits', 'output_use_model': False, 'output_use_index': True, 'save_results': False, 'skip': False, 'suffix': None, 'search_output_file': True, 'input_dir': '', 'dark_output': None}\n",
      "2022-12-01 10:46:17,345 - stpipe.Detector1Pipeline.dark_current - INFO - Using DARK reference file /data/handson/cal_ref_files/references/jwst/nirspec/jwst_nirspec_dark_0284.fits\n",
      "2022-12-01 10:46:19,544 - stpipe.Detector1Pipeline.dark_current - INFO - Science data nints=1, ngroups=3, nframes=1, groupgap=0\n",
      "2022-12-01 10:46:19,544 - stpipe.Detector1Pipeline.dark_current - INFO - Dark data nints=1, ngroups=160, nframes=1, groupgap=0\n",
      "2022-12-01 10:46:20,431 - stpipe.Detector1Pipeline.dark_current - INFO - Step dark_current done\n",
      "2022-12-01 10:46:20,526 - stpipe.Detector1Pipeline.jump - INFO - Step jump running with args (<RampModel(1, 3, 2048, 2048) from jw02756001001_02101_00001_nrs1_uncal.fits>,).\n",
      "2022-12-01 10:46:20,528 - stpipe.Detector1Pipeline.jump - INFO - Step jump parameters are: {'pre_hooks': [], 'post_hooks': [], 'output_file': None, 'output_dir': None, 'output_ext': '.fits', 'output_use_model': False, 'output_use_index': True, 'save_results': False, 'skip': False, 'suffix': None, 'search_output_file': True, 'input_dir': '', 'rejection_threshold': 4.0, 'three_group_rejection_threshold': 6.0, 'four_group_rejection_threshold': 5.0, 'maximum_cores': 'none', 'flag_4_neighbors': True, 'max_jump_to_flag_neighbors': 1000.0, 'min_jump_to_flag_neighbors': 10.0, 'after_jump_flag_dn1': 0.0, 'after_jump_flag_time1': 0.0, 'after_jump_flag_dn2': 0.0, 'after_jump_flag_time2': 0.0, 'min_sat_area': 1.0, 'min_jump_area': 5.0, 'expand_factor': 2.0, 'use_ellipses': False, 'sat_required_snowball': True, 'expand_large_events': False}\n",
      "2022-12-01 10:46:20,540 - stpipe.Detector1Pipeline.jump - INFO - CR rejection threshold = 4 sigma\n",
      "2022-12-01 10:46:20,553 - stpipe.Detector1Pipeline.jump - INFO - Using GAIN reference file: /data/handson/cal_ref_files/references/jwst/nirspec/jwst_nirspec_gain_0023.fits\n",
      "2022-12-01 10:46:20,598 - stpipe.Detector1Pipeline.jump - INFO - Using READNOISE reference file: /data/handson/cal_ref_files/references/jwst/nirspec/jwst_nirspec_readnoise_0037.fits\n",
      "2022-12-01 10:46:20,778 - stpipe.Detector1Pipeline.jump - INFO - Executing two-point difference method\n",
      "2022-12-01 10:46:20,808 - stpipe.Detector1Pipeline.jump - INFO - Working on integration 1:\n",
      "2022-12-01 10:46:21,822 - stpipe.Detector1Pipeline.jump - WARNING - /home/coljac/masterclass/env/lib/python3.10/site-packages/stcal/jump/twopoint_difference.py:154: RuntimeWarning: All-NaN slice encountered\n",
      "  max_ratio = np.nanmax(ratio, axis=0)\n",
      "\n",
      "2022-12-01 10:46:21,924 - stpipe.Detector1Pipeline.jump - INFO - From highest outlier, two-point found 0 pixels with at least one CR from five or more groups.\n",
      "2022-12-01 10:46:22,445 - stpipe.Detector1Pipeline.jump - INFO - Total elapsed time = 1.6665 sec\n",
      "2022-12-01 10:46:22,461 - stpipe.Detector1Pipeline.jump - WARNING - /home/coljac/masterclass/env/lib/python3.10/site-packages/stcal/jump/jump.py:302: RuntimeWarning: invalid value encountered in divide\n",
      "  data /= gain_2d\n",
      "\n",
      "2022-12-01 10:46:22,476 - stpipe.Detector1Pipeline.jump - WARNING - /home/coljac/masterclass/env/lib/python3.10/site-packages/stcal/jump/jump.py:303: RuntimeWarning: invalid value encountered in divide\n",
      "  err /= gain_2d\n",
      "\n",
      "2022-12-01 10:46:22,486 - stpipe.Detector1Pipeline.jump - WARNING - /home/coljac/masterclass/env/lib/python3.10/site-packages/stcal/jump/jump.py:304: RuntimeWarning: invalid value encountered in divide\n",
      "  readnoise_2d /= gain_2d\n",
      "\n",
      "2022-12-01 10:46:22,489 - stpipe.Detector1Pipeline.jump - INFO - The execution time in seconds: 1.949411\n",
      "2022-12-01 10:46:22,496 - stpipe.Detector1Pipeline.jump - INFO - Step jump done\n",
      "2022-12-01 10:46:22,582 - stpipe.Detector1Pipeline.ramp_fit - INFO - Step ramp_fit running with args (<RampModel(1, 3, 2048, 2048) from jw02756001001_02101_00001_nrs1_uncal.fits>,).\n",
      "2022-12-01 10:46:22,584 - stpipe.Detector1Pipeline.ramp_fit - INFO - Step ramp_fit parameters are: {'pre_hooks': [], 'post_hooks': [], 'output_file': None, 'output_dir': '/data/handson', 'output_ext': '.fits', 'output_use_model': False, 'output_use_index': True, 'save_results': False, 'skip': False, 'suffix': None, 'search_output_file': True, 'input_dir': '', 'int_name': '', 'save_opt': False, 'opt_name': '', 'suppress_one_group': True, 'maximum_cores': 'none'}\n",
      "2022-12-01 10:46:22,622 - stpipe.Detector1Pipeline.ramp_fit - INFO - Using READNOISE reference file: /data/handson/cal_ref_files/references/jwst/nirspec/jwst_nirspec_readnoise_0037.fits\n",
      "2022-12-01 10:46:22,622 - stpipe.Detector1Pipeline.ramp_fit - INFO - Using GAIN reference file: /data/handson/cal_ref_files/references/jwst/nirspec/jwst_nirspec_gain_0023.fits\n",
      "2022-12-01 10:46:22,692 - stpipe.Detector1Pipeline.ramp_fit - INFO - Using algorithm = ols\n",
      "2022-12-01 10:46:22,693 - stpipe.Detector1Pipeline.ramp_fit - INFO - Using weighting = optimal\n",
      "2022-12-01 10:46:32,482 - stpipe.Detector1Pipeline.ramp_fit - WARNING - /home/coljac/masterclass/env/lib/python3.10/site-packages/stcal/ramp_fitting/ols_fit.py:1089: RuntimeWarning: invalid value encountered in multiply\n",
      "  var_p4[num_int, :, :, :] *= (segs_4[num_int, :, :, :] > 0)\n",
      "\n",
      "2022-12-01 10:46:33,015 - stpipe.Detector1Pipeline.ramp_fit - INFO - Number of groups per integration: 3\n",
      "2022-12-01 10:46:33,015 - stpipe.Detector1Pipeline.ramp_fit - INFO - Number of integrations: 1\n",
      "2022-12-01 10:46:33,231 - stpipe.Detector1Pipeline.ramp_fit - INFO - Step ramp_fit done\n",
      "2022-12-01 10:46:33,316 - stpipe.Detector1Pipeline.gain_scale - INFO - Step gain_scale running with args (<ImageModel(2048, 2048) from jw02756001001_02101_00001_nrs1_uncal.fits>,).\n",
      "2022-12-01 10:46:33,317 - stpipe.Detector1Pipeline.gain_scale - INFO - Step gain_scale parameters are: {'pre_hooks': [], 'post_hooks': [], 'output_file': None, 'output_dir': None, 'output_ext': '.fits', 'output_use_model': False, 'output_use_index': True, 'save_results': False, 'skip': False, 'suffix': 'gain_scale', 'search_output_file': True, 'input_dir': ''}\n",
      "2022-12-01 10:46:33,356 - stpipe.Detector1Pipeline.gain_scale - INFO - Rescaling by 1.0\n",
      "2022-12-01 10:46:33,371 - stpipe.Detector1Pipeline.gain_scale - INFO - Step gain_scale done\n",
      "2022-12-01 10:46:33,439 - stpipe.Detector1Pipeline.gain_scale - INFO - Step gain_scale running with args (<CubeModel(1, 2048, 2048) from jw02756001001_02101_00001_nrs1_uncal.fits>,).\n",
      "2022-12-01 10:46:33,440 - stpipe.Detector1Pipeline.gain_scale - INFO - Step gain_scale parameters are: {'pre_hooks': [], 'post_hooks': [], 'output_file': None, 'output_dir': None, 'output_ext': '.fits', 'output_use_model': False, 'output_use_index': True, 'save_results': False, 'skip': False, 'suffix': 'gain_scaleints', 'search_output_file': True, 'input_dir': ''}\n",
      "2022-12-01 10:46:33,486 - stpipe.Detector1Pipeline.gain_scale - INFO - Rescaling by 1.0\n",
      "2022-12-01 10:46:33,501 - stpipe.Detector1Pipeline.gain_scale - INFO - Step gain_scale done\n",
      "2022-12-01 10:46:33,675 - stpipe.Detector1Pipeline - INFO - Saved model in /data/handson/jw02756001001_02101_00001_nrs1_rateints.fits\n",
      "2022-12-01 10:46:33,676 - stpipe.Detector1Pipeline - INFO - ... ending calwebb_detector1\n",
      "2022-12-01 10:46:33,676 - stpipe.Detector1Pipeline - INFO - Results used CRDS context: jwst_1018.pmap\n",
      "2022-12-01 10:46:33,836 - stpipe.Detector1Pipeline - INFO - Saved model in /data/handson/jw02756001001_02101_00001_nrs1_rate.fits\n",
      "2022-12-01 10:46:33,837 - stpipe.Detector1Pipeline - INFO - Step Detector1Pipeline done\n"
     ]
    },
    {
     "ename": "KeyboardInterrupt",
     "evalue": "",
     "output_type": "error",
     "traceback": [
      "\u001b[0;31m---------------------------------------------------------------------------\u001b[0m",
      "\u001b[0;31mKeyboardInterrupt\u001b[0m                         Traceback (most recent call last)",
      "Cell \u001b[0;32mIn[8], line 2\u001b[0m\n\u001b[1;32m      1\u001b[0m \u001b[38;5;28;01mfor\u001b[39;00m fits_image \u001b[38;5;129;01min\u001b[39;00m level0_data_files:\n\u001b[0;32m----> 2\u001b[0m     \u001b[43mdet1\u001b[49m\u001b[38;5;241;43m.\u001b[39;49m\u001b[43mcall\u001b[49m\u001b[43m(\u001b[49m\u001b[43mfits_image\u001b[49m\u001b[43m,\u001b[49m\u001b[43m \u001b[49m\u001b[43mconfig_file\u001b[49m\u001b[38;5;241;43m=\u001b[39;49m\u001b[43mdet_param_reffile\u001b[49m\u001b[43m,\u001b[49m\u001b[43m \u001b[49m\u001b[43moutput_dir\u001b[49m\u001b[38;5;241;43m=\u001b[39;49m\u001b[43moutput_dir\u001b[49m\u001b[43m)\u001b[49m\n",
      "File \u001b[0;32m~/masterclass/env/lib/python3.10/site-packages/stpipe/step.py:644\u001b[0m, in \u001b[0;36mStep.call\u001b[0;34m(cls, *args, **kwargs)\u001b[0m\n\u001b[1;32m    642\u001b[0m \u001b[38;5;28;01mif\u001b[39;00m \u001b[38;5;28mlen\u001b[39m(args) \u001b[38;5;241m>\u001b[39m \u001b[38;5;241m0\u001b[39m:\n\u001b[1;32m    643\u001b[0m     filename \u001b[38;5;241m=\u001b[39m args[\u001b[38;5;241m0\u001b[39m]\n\u001b[0;32m--> 644\u001b[0m config, config_file \u001b[38;5;241m=\u001b[39m \u001b[38;5;28;43mcls\u001b[39;49m\u001b[38;5;241;43m.\u001b[39;49m\u001b[43mbuild_config\u001b[49m\u001b[43m(\u001b[49m\u001b[43mfilename\u001b[49m\u001b[43m,\u001b[49m\u001b[43m \u001b[49m\u001b[38;5;241;43m*\u001b[39;49m\u001b[38;5;241;43m*\u001b[39;49m\u001b[43mkwargs\u001b[49m\u001b[43m)\u001b[49m\n\u001b[1;32m    646\u001b[0m \u001b[38;5;28;01mif\u001b[39;00m \u001b[38;5;124m'\u001b[39m\u001b[38;5;124mclass\u001b[39m\u001b[38;5;124m'\u001b[39m \u001b[38;5;129;01min\u001b[39;00m config:\n\u001b[1;32m    647\u001b[0m     \u001b[38;5;28;01mdel\u001b[39;00m config[\u001b[38;5;124m'\u001b[39m\u001b[38;5;124mclass\u001b[39m\u001b[38;5;124m'\u001b[39m]\n",
      "File \u001b[0;32m~/masterclass/env/lib/python3.10/site-packages/stpipe/step.py:1379\u001b[0m, in \u001b[0;36mStep.build_config\u001b[0;34m(cls, input, **kwargs)\u001b[0m\n\u001b[1;32m   1377\u001b[0m log_cls \u001b[38;5;241m=\u001b[39m log\u001b[38;5;241m.\u001b[39mgetLogger(logger_name)\n\u001b[1;32m   1378\u001b[0m \u001b[38;5;28;01mif\u001b[39;00m \u001b[38;5;28minput\u001b[39m:\n\u001b[0;32m-> 1379\u001b[0m     config \u001b[38;5;241m=\u001b[39m \u001b[38;5;28;43mcls\u001b[39;49m\u001b[38;5;241;43m.\u001b[39;49m\u001b[43mget_config_from_reference\u001b[49m\u001b[43m(\u001b[49m\u001b[38;5;28;43minput\u001b[39;49m\u001b[43m)\u001b[49m\n\u001b[1;32m   1380\u001b[0m \u001b[38;5;28;01melse\u001b[39;00m:\n\u001b[1;32m   1381\u001b[0m     log_cls\u001b[38;5;241m.\u001b[39minfo(\u001b[38;5;124m\"\u001b[39m\u001b[38;5;124mNo filename given, cannot retrieve config from CRDS\u001b[39m\u001b[38;5;124m\"\u001b[39m)\n",
      "File \u001b[0;32m~/masterclass/env/lib/python3.10/site-packages/stpipe/pipeline.py:185\u001b[0m, in \u001b[0;36mPipeline.get_config_from_reference\u001b[0;34m(cls, dataset, disable, crds_observatory)\u001b[0m\n\u001b[1;32m    182\u001b[0m logger\u001b[38;5;241m.\u001b[39mdebug(\u001b[38;5;124m'\u001b[39m\u001b[38;5;124mRetrieving all substep parameters from CRDS\u001b[39m\u001b[38;5;124m'\u001b[39m)\n\u001b[1;32m    183\u001b[0m \u001b[38;5;66;03m#\u001b[39;00m\n\u001b[1;32m    184\u001b[0m \u001b[38;5;66;03m# Iterate over the steps in the pipeline\u001b[39;00m\n\u001b[0;32m--> 185\u001b[0m \u001b[38;5;28;01mwith\u001b[39;00m \u001b[38;5;28;43mcls\u001b[39;49m\u001b[38;5;241;43m.\u001b[39;49m\u001b[43m_datamodels_open\u001b[49m\u001b[43m(\u001b[49m\u001b[43mdataset\u001b[49m\u001b[43m,\u001b[49m\u001b[43m \u001b[49m\u001b[43masn_n_members\u001b[49m\u001b[38;5;241;43m=\u001b[39;49m\u001b[38;5;241;43m1\u001b[39;49m\u001b[43m)\u001b[49m \u001b[38;5;28;01mas\u001b[39;00m model:\n\u001b[1;32m    186\u001b[0m     \u001b[38;5;28;01mif\u001b[39;00m \u001b[38;5;28misinstance\u001b[39m(model, Sequence):\n\u001b[1;32m    187\u001b[0m         crds_parameters \u001b[38;5;241m=\u001b[39m model\u001b[38;5;241m.\u001b[39m_models[\u001b[38;5;241m0\u001b[39m]\u001b[38;5;241m.\u001b[39mget_crds_parameters()\n",
      "File \u001b[0;32m~/masterclass/env/lib/python3.10/site-packages/jwst/stpipe/core.py:28\u001b[0m, in \u001b[0;36mJwstStep._datamodels_open\u001b[0;34m(cls, init, **kwargs)\u001b[0m\n\u001b[1;32m     26\u001b[0m \u001b[38;5;129m@classmethod\u001b[39m\n\u001b[1;32m     27\u001b[0m \u001b[38;5;28;01mdef\u001b[39;00m \u001b[38;5;21m_datamodels_open\u001b[39m(\u001b[38;5;28mcls\u001b[39m, init, \u001b[38;5;241m*\u001b[39m\u001b[38;5;241m*\u001b[39mkwargs):\n\u001b[0;32m---> 28\u001b[0m     \u001b[38;5;28;01mreturn\u001b[39;00m \u001b[43mdatamodels\u001b[49m\u001b[38;5;241;43m.\u001b[39;49m\u001b[43mopen\u001b[49m\u001b[43m(\u001b[49m\u001b[43minit\u001b[49m\u001b[43m,\u001b[49m\u001b[43m \u001b[49m\u001b[38;5;241;43m*\u001b[39;49m\u001b[38;5;241;43m*\u001b[39;49m\u001b[43mkwargs\u001b[49m\u001b[43m)\u001b[49m\n",
      "File \u001b[0;32m~/masterclass/env/lib/python3.10/site-packages/jwst/datamodels/util.py:217\u001b[0m, in \u001b[0;36mopen\u001b[0;34m(init, guess, memmap, **kwargs)\u001b[0m\n\u001b[1;32m    214\u001b[0m     log\u001b[38;5;241m.\u001b[39mdebug(\u001b[38;5;124mf\u001b[39m\u001b[38;5;124m'\u001b[39m\u001b[38;5;124mOpening as \u001b[39m\u001b[38;5;132;01m{\u001b[39;00mnew_class\u001b[38;5;132;01m}\u001b[39;00m\u001b[38;5;124m'\u001b[39m)\n\u001b[1;32m    216\u001b[0m \u001b[38;5;66;03m# Actually open the model\u001b[39;00m\n\u001b[0;32m--> 217\u001b[0m model \u001b[38;5;241m=\u001b[39m \u001b[43mnew_class\u001b[49m\u001b[43m(\u001b[49m\u001b[43minit\u001b[49m\u001b[43m,\u001b[49m\u001b[43m \u001b[49m\u001b[38;5;241;43m*\u001b[39;49m\u001b[38;5;241;43m*\u001b[39;49m\u001b[43mkwargs\u001b[49m\u001b[43m)\u001b[49m\n\u001b[1;32m    219\u001b[0m \u001b[38;5;66;03m# Close the hdulist if we opened it\u001b[39;00m\n\u001b[1;32m    220\u001b[0m \u001b[38;5;28;01mif\u001b[39;00m file_to_close \u001b[38;5;129;01mis\u001b[39;00m \u001b[38;5;129;01mnot\u001b[39;00m \u001b[38;5;28;01mNone\u001b[39;00m:\n\u001b[1;32m    221\u001b[0m     \u001b[38;5;66;03m# TODO: We need a better solution than messing with DataModel\u001b[39;00m\n\u001b[1;32m    222\u001b[0m     \u001b[38;5;66;03m# internals.\u001b[39;00m\n",
      "File \u001b[0;32m~/masterclass/env/lib/python3.10/site-packages/stdatamodels/model_base.py:226\u001b[0m, in \u001b[0;36mDataModel.__init__\u001b[0;34m(self, init, schema, memmap, pass_invalid_values, strict_validation, validate_on_assignment, cast_fits_arrays, validate_arrays, ignore_missing_extensions, **kwargs)\u001b[0m\n\u001b[1;32m    223\u001b[0m     asdffile \u001b[38;5;241m=\u001b[39m init\n\u001b[1;32m    225\u001b[0m \u001b[38;5;28;01melif\u001b[39;00m \u001b[38;5;28misinstance\u001b[39m(init, fits\u001b[38;5;241m.\u001b[39mHDUList):\n\u001b[0;32m--> 226\u001b[0m     asdffile \u001b[38;5;241m=\u001b[39m \u001b[43mfits_support\u001b[49m\u001b[38;5;241;43m.\u001b[39;49m\u001b[43mfrom_fits\u001b[49m\u001b[43m(\u001b[49m\u001b[43minit\u001b[49m\u001b[43m,\u001b[49m\u001b[43m \u001b[49m\u001b[38;5;28;43mself\u001b[39;49m\u001b[38;5;241;43m.\u001b[39;49m\u001b[43m_schema\u001b[49m\u001b[43m,\u001b[49m\u001b[43m \u001b[49m\u001b[38;5;28;43mself\u001b[39;49m\u001b[38;5;241;43m.\u001b[39;49m\u001b[43m_ctx\u001b[49m\u001b[43m,\u001b[49m\n\u001b[1;32m    227\u001b[0m \u001b[43m                                      \u001b[49m\u001b[38;5;241;43m*\u001b[39;49m\u001b[38;5;241;43m*\u001b[39;49m\u001b[43mkwargs\u001b[49m\u001b[43m)\u001b[49m\n\u001b[1;32m    229\u001b[0m \u001b[38;5;28;01melif\u001b[39;00m \u001b[38;5;28misinstance\u001b[39m(init, (\u001b[38;5;28mstr\u001b[39m, \u001b[38;5;28mbytes\u001b[39m, PurePath)):\n\u001b[1;32m    230\u001b[0m     \u001b[38;5;28;01mif\u001b[39;00m \u001b[38;5;28misinstance\u001b[39m(init, PurePath):\n",
      "File \u001b[0;32m~/masterclass/env/lib/python3.10/site-packages/stdatamodels/fits_support.py:628\u001b[0m, in \u001b[0;36mfrom_fits\u001b[0;34m(hdulist, schema, context, skip_fits_update, **kwargs)\u001b[0m\n\u001b[1;32m    623\u001b[0m \u001b[38;5;66;03m# Determine whether skipping the FITS loading can be done.\u001b[39;00m\n\u001b[1;32m    624\u001b[0m skip_fits_update \u001b[38;5;241m=\u001b[39m _verify_skip_fits_update(\n\u001b[1;32m    625\u001b[0m     skip_fits_update, hdulist, ff, context\n\u001b[1;32m    626\u001b[0m )\n\u001b[0;32m--> 628\u001b[0m known_keywords, known_datas \u001b[38;5;241m=\u001b[39m \u001b[43m_load_from_schema\u001b[49m\u001b[43m(\u001b[49m\n\u001b[1;32m    629\u001b[0m \u001b[43m    \u001b[49m\u001b[43mhdulist\u001b[49m\u001b[43m,\u001b[49m\u001b[43m \u001b[49m\u001b[43mschema\u001b[49m\u001b[43m,\u001b[49m\u001b[43m \u001b[49m\u001b[43mff\u001b[49m\u001b[38;5;241;43m.\u001b[39;49m\u001b[43mtree\u001b[49m\u001b[43m,\u001b[49m\u001b[43m \u001b[49m\u001b[43mcontext\u001b[49m\u001b[43m,\u001b[49m\u001b[43m \u001b[49m\u001b[43mskip_fits_update\u001b[49m\u001b[38;5;241;43m=\u001b[39;49m\u001b[43mskip_fits_update\u001b[49m\n\u001b[1;32m    630\u001b[0m \u001b[43m\u001b[49m\u001b[43m)\u001b[49m\n\u001b[1;32m    631\u001b[0m \u001b[38;5;28;01mif\u001b[39;00m \u001b[38;5;129;01mnot\u001b[39;00m skip_fits_update:\n\u001b[1;32m    632\u001b[0m     _load_extra_fits(hdulist, known_keywords, known_datas, ff\u001b[38;5;241m.\u001b[39mtree)\n",
      "File \u001b[0;32m~/masterclass/env/lib/python3.10/site-packages/stdatamodels/fits_support.py:548\u001b[0m, in \u001b[0;36m_load_from_schema\u001b[0;34m(hdulist, schema, tree, context, skip_fits_update)\u001b[0m\n\u001b[1;32m    542\u001b[0m                 recurse(schema[\u001b[38;5;124m'\u001b[39m\u001b[38;5;124mitems\u001b[39m\u001b[38;5;124m'\u001b[39m],\n\u001b[1;32m    543\u001b[0m                         path \u001b[38;5;241m+\u001b[39m [i],\n\u001b[1;32m    544\u001b[0m                         combiner,\n\u001b[1;32m    545\u001b[0m                         {\u001b[38;5;124m'\u001b[39m\u001b[38;5;124mhdu_index\u001b[39m\u001b[38;5;124m'\u001b[39m: i})\n\u001b[1;32m    546\u001b[0m             \u001b[38;5;28;01mreturn\u001b[39;00m \u001b[38;5;28;01mTrue\u001b[39;00m\n\u001b[0;32m--> 548\u001b[0m \u001b[43mmschema\u001b[49m\u001b[38;5;241;43m.\u001b[39;49m\u001b[43mwalk_schema\u001b[49m\u001b[43m(\u001b[49m\u001b[43mschema\u001b[49m\u001b[43m,\u001b[49m\u001b[43m \u001b[49m\u001b[43mcallback\u001b[49m\u001b[43m)\u001b[49m\n\u001b[1;32m    549\u001b[0m \u001b[38;5;28;01mreturn\u001b[39;00m known_keywords, known_datas\n",
      "File \u001b[0;32m~/masterclass/env/lib/python3.10/site-packages/stdatamodels/schema.py:149\u001b[0m, in \u001b[0;36mwalk_schema\u001b[0;34m(schema, callback, ctx)\u001b[0m\n\u001b[1;32m    147\u001b[0m \u001b[38;5;28;01mif\u001b[39;00m ctx \u001b[38;5;129;01mis\u001b[39;00m \u001b[38;5;28;01mNone\u001b[39;00m:\n\u001b[1;32m    148\u001b[0m     ctx \u001b[38;5;241m=\u001b[39m {}\n\u001b[0;32m--> 149\u001b[0m \u001b[43mrecurse\u001b[49m\u001b[43m(\u001b[49m\u001b[43mschema\u001b[49m\u001b[43m,\u001b[49m\u001b[43m \u001b[49m\u001b[43m[\u001b[49m\u001b[43m]\u001b[49m\u001b[43m,\u001b[49m\u001b[43m \u001b[49m\u001b[38;5;28;43;01mNone\u001b[39;49;00m\u001b[43m,\u001b[49m\u001b[43m \u001b[49m\u001b[43mctx\u001b[49m\u001b[43m)\u001b[49m\n",
      "File \u001b[0;32m~/masterclass/env/lib/python3.10/site-packages/stdatamodels/schema.py:137\u001b[0m, in \u001b[0;36mwalk_schema.<locals>.recurse\u001b[0;34m(schema, path, combiner, ctx)\u001b[0m\n\u001b[1;32m    135\u001b[0m \u001b[38;5;28;01mif\u001b[39;00m schema\u001b[38;5;241m.\u001b[39mget(\u001b[38;5;124m'\u001b[39m\u001b[38;5;124mtype\u001b[39m\u001b[38;5;124m'\u001b[39m) \u001b[38;5;241m==\u001b[39m \u001b[38;5;124m'\u001b[39m\u001b[38;5;124mobject\u001b[39m\u001b[38;5;124m'\u001b[39m:\n\u001b[1;32m    136\u001b[0m     \u001b[38;5;28;01mfor\u001b[39;00m key, val \u001b[38;5;129;01min\u001b[39;00m schema\u001b[38;5;241m.\u001b[39mget(\u001b[38;5;124m'\u001b[39m\u001b[38;5;124mproperties\u001b[39m\u001b[38;5;124m'\u001b[39m, {})\u001b[38;5;241m.\u001b[39mitems():\n\u001b[0;32m--> 137\u001b[0m         \u001b[43mrecurse\u001b[49m\u001b[43m(\u001b[49m\u001b[43mval\u001b[49m\u001b[43m,\u001b[49m\u001b[43m \u001b[49m\u001b[43mpath\u001b[49m\u001b[43m \u001b[49m\u001b[38;5;241;43m+\u001b[39;49m\u001b[43m \u001b[49m\u001b[43m[\u001b[49m\u001b[43mkey\u001b[49m\u001b[43m]\u001b[49m\u001b[43m,\u001b[49m\u001b[43m \u001b[49m\u001b[43mcombiner\u001b[49m\u001b[43m,\u001b[49m\u001b[43m \u001b[49m\u001b[43mctx\u001b[49m\u001b[43m)\u001b[49m\n\u001b[1;32m    139\u001b[0m \u001b[38;5;28;01mif\u001b[39;00m schema\u001b[38;5;241m.\u001b[39mget(\u001b[38;5;124m'\u001b[39m\u001b[38;5;124mtype\u001b[39m\u001b[38;5;124m'\u001b[39m) \u001b[38;5;241m==\u001b[39m \u001b[38;5;124m'\u001b[39m\u001b[38;5;124marray\u001b[39m\u001b[38;5;124m'\u001b[39m:\n\u001b[1;32m    140\u001b[0m     items \u001b[38;5;241m=\u001b[39m schema\u001b[38;5;241m.\u001b[39mget(\u001b[38;5;124m'\u001b[39m\u001b[38;5;124mitems\u001b[39m\u001b[38;5;124m'\u001b[39m, {})\n",
      "File \u001b[0;32m~/masterclass/env/lib/python3.10/site-packages/stdatamodels/schema.py:124\u001b[0m, in \u001b[0;36mwalk_schema.<locals>.recurse\u001b[0;34m(schema, path, combiner, ctx)\u001b[0m\n\u001b[1;32m    123\u001b[0m \u001b[38;5;28;01mdef\u001b[39;00m \u001b[38;5;21mrecurse\u001b[39m(schema, path, combiner, ctx):\n\u001b[0;32m--> 124\u001b[0m     \u001b[38;5;28;01mif\u001b[39;00m \u001b[43mcallback\u001b[49m\u001b[43m(\u001b[49m\u001b[43mschema\u001b[49m\u001b[43m,\u001b[49m\u001b[43m \u001b[49m\u001b[43mpath\u001b[49m\u001b[43m,\u001b[49m\u001b[43m \u001b[49m\u001b[43mcombiner\u001b[49m\u001b[43m,\u001b[49m\u001b[43m \u001b[49m\u001b[43mctx\u001b[49m\u001b[43m,\u001b[49m\u001b[43m \u001b[49m\u001b[43mrecurse\u001b[49m\u001b[43m)\u001b[49m:\n\u001b[1;32m    125\u001b[0m         \u001b[38;5;28;01mreturn\u001b[39;00m\n\u001b[1;32m    127\u001b[0m     \u001b[38;5;28;01mfor\u001b[39;00m c \u001b[38;5;129;01min\u001b[39;00m [\u001b[38;5;124m'\u001b[39m\u001b[38;5;124mallOf\u001b[39m\u001b[38;5;124m'\u001b[39m, \u001b[38;5;124m'\u001b[39m\u001b[38;5;124mnot\u001b[39m\u001b[38;5;124m'\u001b[39m]:\n",
      "File \u001b[0;32m~/masterclass/env/lib/python3.10/site-packages/stdatamodels/fits_support.py:526\u001b[0m, in \u001b[0;36m_load_from_schema.<locals>.callback\u001b[0;34m(schema, path, combiner, ctx, recurse)\u001b[0m\n\u001b[1;32m    522\u001b[0m             properties\u001b[38;5;241m.\u001b[39mput_value(path, result, tree)\n\u001b[1;32m    524\u001b[0m \u001b[38;5;28;01melif\u001b[39;00m \u001b[38;5;124m'\u001b[39m\u001b[38;5;124mfits_hdu\u001b[39m\u001b[38;5;124m'\u001b[39m \u001b[38;5;129;01min\u001b[39;00m schema \u001b[38;5;129;01mand\u001b[39;00m (\n\u001b[1;32m    525\u001b[0m         \u001b[38;5;124m'\u001b[39m\u001b[38;5;124mmax_ndim\u001b[39m\u001b[38;5;124m'\u001b[39m \u001b[38;5;129;01min\u001b[39;00m schema \u001b[38;5;129;01mor\u001b[39;00m \u001b[38;5;124m'\u001b[39m\u001b[38;5;124mndim\u001b[39m\u001b[38;5;124m'\u001b[39m \u001b[38;5;129;01min\u001b[39;00m schema \u001b[38;5;129;01mor\u001b[39;00m \u001b[38;5;124m'\u001b[39m\u001b[38;5;124mdatatype\u001b[39m\u001b[38;5;124m'\u001b[39m \u001b[38;5;129;01min\u001b[39;00m schema):\n\u001b[0;32m--> 526\u001b[0m     result \u001b[38;5;241m=\u001b[39m \u001b[43m_fits_array_loader\u001b[49m\u001b[43m(\u001b[49m\n\u001b[1;32m    527\u001b[0m \u001b[43m        \u001b[49m\u001b[43mhdulist\u001b[49m\u001b[43m,\u001b[49m\u001b[43m \u001b[49m\u001b[43mschema\u001b[49m\u001b[43m,\u001b[49m\u001b[43m \u001b[49m\u001b[43mctx\u001b[49m\u001b[38;5;241;43m.\u001b[39;49m\u001b[43mget\u001b[49m\u001b[43m(\u001b[49m\u001b[38;5;124;43m'\u001b[39;49m\u001b[38;5;124;43mhdu_index\u001b[39;49m\u001b[38;5;124;43m'\u001b[39;49m\u001b[43m)\u001b[49m\u001b[43m,\u001b[49m\u001b[43m \u001b[49m\u001b[43mknown_datas\u001b[49m\u001b[43m,\u001b[49m\u001b[43m \u001b[49m\u001b[43mcontext\u001b[49m\u001b[43m)\u001b[49m\n\u001b[1;32m    529\u001b[0m     \u001b[38;5;28;01mif\u001b[39;00m result \u001b[38;5;129;01mis\u001b[39;00m \u001b[38;5;28;01mNone\u001b[39;00m \u001b[38;5;129;01mand\u001b[39;00m context\u001b[38;5;241m.\u001b[39m_validate_on_assignment:\n\u001b[1;32m    530\u001b[0m         validate\u001b[38;5;241m.\u001b[39mvalue_change(path, result, schema, context)\n",
      "File \u001b[0;32m~/masterclass/env/lib/python3.10/site-packages/stdatamodels/fits_support.py:478\u001b[0m, in \u001b[0;36m_fits_array_loader\u001b[0;34m(hdulist, schema, hdu_index, known_datas, context)\u001b[0m\n\u001b[1;32m    475\u001b[0m     \u001b[38;5;28;01mreturn\u001b[39;00m \u001b[38;5;28;01mNone\u001b[39;00m\n\u001b[1;32m    477\u001b[0m known_datas\u001b[38;5;241m.\u001b[39madd(hdu)\n\u001b[0;32m--> 478\u001b[0m \u001b[38;5;28;01mreturn\u001b[39;00m \u001b[43mfrom_fits_hdu\u001b[49m\u001b[43m(\u001b[49m\u001b[43mhdu\u001b[49m\u001b[43m,\u001b[49m\u001b[43m \u001b[49m\u001b[43mschema\u001b[49m\u001b[43m,\u001b[49m\u001b[43m \u001b[49m\u001b[43mcontext\u001b[49m\u001b[38;5;241;43m.\u001b[39;49m\u001b[43m_cast_fits_arrays\u001b[49m\u001b[43m)\u001b[49m\n",
      "File \u001b[0;32m~/masterclass/env/lib/python3.10/site-packages/stdatamodels/fits_support.py:657\u001b[0m, in \u001b[0;36mfrom_fits_hdu\u001b[0;34m(hdu, schema, cast_arrays)\u001b[0m\n\u001b[1;32m    653\u001b[0m \u001b[38;5;28;01mdef\u001b[39;00m \u001b[38;5;21mfrom_fits_hdu\u001b[39m(hdu, schema, cast_arrays\u001b[38;5;241m=\u001b[39m\u001b[38;5;28;01mTrue\u001b[39;00m):\n\u001b[1;32m    654\u001b[0m     \u001b[38;5;124;03m\"\"\"\u001b[39;00m\n\u001b[1;32m    655\u001b[0m \u001b[38;5;124;03m    Read the data from a fits hdu into a numpy ndarray\u001b[39;00m\n\u001b[1;32m    656\u001b[0m \u001b[38;5;124;03m    \"\"\"\u001b[39;00m\n\u001b[0;32m--> 657\u001b[0m     data \u001b[38;5;241m=\u001b[39m \u001b[43mhdu\u001b[49m\u001b[38;5;241;43m.\u001b[39;49m\u001b[43mdata\u001b[49m\n\u001b[1;32m    659\u001b[0m     \u001b[38;5;28;01mif\u001b[39;00m cast_arrays:\n\u001b[1;32m    660\u001b[0m         \u001b[38;5;66;03m# Save the column listeners for possible restoration\u001b[39;00m\n\u001b[1;32m    661\u001b[0m         \u001b[38;5;28;01mif\u001b[39;00m \u001b[38;5;28mhasattr\u001b[39m(data, \u001b[38;5;124m'\u001b[39m\u001b[38;5;124m_coldefs\u001b[39m\u001b[38;5;124m'\u001b[39m):\n",
      "File \u001b[0;32m~/masterclass/env/lib/python3.10/site-packages/astropy/utils/decorators.py:785\u001b[0m, in \u001b[0;36mlazyproperty.__get__\u001b[0;34m(self, obj, owner)\u001b[0m\n\u001b[1;32m    783\u001b[0m         val \u001b[38;5;241m=\u001b[39m obj_dict\u001b[38;5;241m.\u001b[39mget(\u001b[38;5;28mself\u001b[39m\u001b[38;5;241m.\u001b[39m_key, _NotFound)\n\u001b[1;32m    784\u001b[0m         \u001b[38;5;28;01mif\u001b[39;00m val \u001b[38;5;129;01mis\u001b[39;00m _NotFound:\n\u001b[0;32m--> 785\u001b[0m             val \u001b[38;5;241m=\u001b[39m \u001b[38;5;28;43mself\u001b[39;49m\u001b[38;5;241;43m.\u001b[39;49m\u001b[43mfget\u001b[49m\u001b[43m(\u001b[49m\u001b[43mobj\u001b[49m\u001b[43m)\u001b[49m\n\u001b[1;32m    786\u001b[0m             obj_dict[\u001b[38;5;28mself\u001b[39m\u001b[38;5;241m.\u001b[39m_key] \u001b[38;5;241m=\u001b[39m val\n\u001b[1;32m    787\u001b[0m \u001b[38;5;28;01mreturn\u001b[39;00m val\n",
      "File \u001b[0;32m~/masterclass/env/lib/python3.10/site-packages/astropy/io/fits/hdu/table.py:400\u001b[0m, in \u001b[0;36m_TableBaseHDU.data\u001b[0;34m(self)\u001b[0m\n\u001b[1;32m    398\u001b[0m \u001b[38;5;129m@lazyproperty\u001b[39m\n\u001b[1;32m    399\u001b[0m \u001b[38;5;28;01mdef\u001b[39;00m \u001b[38;5;21mdata\u001b[39m(\u001b[38;5;28mself\u001b[39m):\n\u001b[0;32m--> 400\u001b[0m     data \u001b[38;5;241m=\u001b[39m \u001b[38;5;28;43mself\u001b[39;49m\u001b[38;5;241;43m.\u001b[39;49m\u001b[43m_get_tbdata\u001b[49m\u001b[43m(\u001b[49m\u001b[43m)\u001b[49m\n\u001b[1;32m    401\u001b[0m     data\u001b[38;5;241m.\u001b[39m_coldefs \u001b[38;5;241m=\u001b[39m \u001b[38;5;28mself\u001b[39m\u001b[38;5;241m.\u001b[39mcolumns\n\u001b[1;32m    402\u001b[0m     data\u001b[38;5;241m.\u001b[39m_character_as_bytes \u001b[38;5;241m=\u001b[39m \u001b[38;5;28mself\u001b[39m\u001b[38;5;241m.\u001b[39m_character_as_bytes\n",
      "File \u001b[0;32m~/masterclass/env/lib/python3.10/site-packages/astropy/io/fits/hdu/table.py:154\u001b[0m, in \u001b[0;36m_TableLikeHDU._get_tbdata\u001b[0;34m(self)\u001b[0m\n\u001b[1;32m    151\u001b[0m \u001b[38;5;28;01mdef\u001b[39;00m \u001b[38;5;21m_get_tbdata\u001b[39m(\u001b[38;5;28mself\u001b[39m):\n\u001b[1;32m    152\u001b[0m     \u001b[38;5;124;03m\"\"\"Get the table data from an input HDU object.\"\"\"\u001b[39;00m\n\u001b[0;32m--> 154\u001b[0m     columns \u001b[38;5;241m=\u001b[39m \u001b[38;5;28;43mself\u001b[39;49m\u001b[38;5;241;43m.\u001b[39;49m\u001b[43mcolumns\u001b[49m\n\u001b[1;32m    156\u001b[0m     \u001b[38;5;66;03m# TODO: Details related to variable length arrays need to be dealt with\u001b[39;00m\n\u001b[1;32m    157\u001b[0m     \u001b[38;5;66;03m# specifically in the BinTableHDU class, since they're a detail\u001b[39;00m\n\u001b[1;32m    158\u001b[0m     \u001b[38;5;66;03m# specific to FITS binary tables\u001b[39;00m\n\u001b[1;32m    159\u001b[0m     \u001b[38;5;28;01mif\u001b[39;00m (\u001b[38;5;28many\u001b[39m(\u001b[38;5;28mtype\u001b[39m(r) \u001b[38;5;129;01min\u001b[39;00m (_FormatP, _FormatQ)\n\u001b[1;32m    160\u001b[0m             \u001b[38;5;28;01mfor\u001b[39;00m r \u001b[38;5;129;01min\u001b[39;00m columns\u001b[38;5;241m.\u001b[39m_recformats) \u001b[38;5;129;01mand\u001b[39;00m\n\u001b[1;32m    161\u001b[0m             \u001b[38;5;28mself\u001b[39m\u001b[38;5;241m.\u001b[39m_data_size \u001b[38;5;129;01mis\u001b[39;00m \u001b[38;5;129;01mnot\u001b[39;00m \u001b[38;5;28;01mNone\u001b[39;00m \u001b[38;5;129;01mand\u001b[39;00m\n\u001b[1;32m    162\u001b[0m             \u001b[38;5;28mself\u001b[39m\u001b[38;5;241m.\u001b[39m_data_size \u001b[38;5;241m>\u001b[39m \u001b[38;5;28mself\u001b[39m\u001b[38;5;241m.\u001b[39m_theap):\n\u001b[1;32m    163\u001b[0m         \u001b[38;5;66;03m# We have a heap; include it in the raw_data\u001b[39;00m\n",
      "File \u001b[0;32m~/masterclass/env/lib/python3.10/site-packages/astropy/utils/decorators.py:785\u001b[0m, in \u001b[0;36mlazyproperty.__get__\u001b[0;34m(self, obj, owner)\u001b[0m\n\u001b[1;32m    783\u001b[0m         val \u001b[38;5;241m=\u001b[39m obj_dict\u001b[38;5;241m.\u001b[39mget(\u001b[38;5;28mself\u001b[39m\u001b[38;5;241m.\u001b[39m_key, _NotFound)\n\u001b[1;32m    784\u001b[0m         \u001b[38;5;28;01mif\u001b[39;00m val \u001b[38;5;129;01mis\u001b[39;00m _NotFound:\n\u001b[0;32m--> 785\u001b[0m             val \u001b[38;5;241m=\u001b[39m \u001b[38;5;28;43mself\u001b[39;49m\u001b[38;5;241;43m.\u001b[39;49m\u001b[43mfget\u001b[49m\u001b[43m(\u001b[49m\u001b[43mobj\u001b[49m\u001b[43m)\u001b[49m\n\u001b[1;32m    786\u001b[0m             obj_dict[\u001b[38;5;28mself\u001b[39m\u001b[38;5;241m.\u001b[39m_key] \u001b[38;5;241m=\u001b[39m val\n\u001b[1;32m    787\u001b[0m \u001b[38;5;28;01mreturn\u001b[39;00m val\n",
      "File \u001b[0;32m~/masterclass/env/lib/python3.10/site-packages/astropy/io/fits/hdu/table.py:396\u001b[0m, in \u001b[0;36m_TableBaseHDU.columns\u001b[0;34m(self)\u001b[0m\n\u001b[1;32m    394\u001b[0m \u001b[38;5;28;01mif\u001b[39;00m \u001b[38;5;28mself\u001b[39m\u001b[38;5;241m.\u001b[39m_has_data \u001b[38;5;129;01mand\u001b[39;00m \u001b[38;5;28mhasattr\u001b[39m(\u001b[38;5;28mself\u001b[39m\u001b[38;5;241m.\u001b[39mdata, \u001b[38;5;124m'\u001b[39m\u001b[38;5;124m_coldefs\u001b[39m\u001b[38;5;124m'\u001b[39m):\n\u001b[1;32m    395\u001b[0m     \u001b[38;5;28;01mreturn\u001b[39;00m \u001b[38;5;28mself\u001b[39m\u001b[38;5;241m.\u001b[39mdata\u001b[38;5;241m.\u001b[39m_coldefs\n\u001b[0;32m--> 396\u001b[0m \u001b[38;5;28;01mreturn\u001b[39;00m \u001b[38;5;28;43mself\u001b[39;49m\u001b[38;5;241;43m.\u001b[39;49m\u001b[43m_columns_type\u001b[49m\u001b[43m(\u001b[49m\u001b[38;5;28;43mself\u001b[39;49m\u001b[43m)\u001b[49m\n",
      "File \u001b[0;32m~/masterclass/env/lib/python3.10/site-packages/astropy/io/fits/column.py:1409\u001b[0m, in \u001b[0;36mColDefs.__init__\u001b[0;34m(self, input, ascii)\u001b[0m\n\u001b[1;32m   1406\u001b[0m     \u001b[38;5;28mself\u001b[39m\u001b[38;5;241m.\u001b[39m_init_from_sequence(\u001b[38;5;28minput\u001b[39m)\n\u001b[1;32m   1407\u001b[0m \u001b[38;5;28;01melif\u001b[39;00m \u001b[38;5;28misinstance\u001b[39m(\u001b[38;5;28minput\u001b[39m, _TableBaseHDU):\n\u001b[1;32m   1408\u001b[0m     \u001b[38;5;66;03m# Construct columns from fields in an HDU header\u001b[39;00m\n\u001b[0;32m-> 1409\u001b[0m     \u001b[38;5;28;43mself\u001b[39;49m\u001b[38;5;241;43m.\u001b[39;49m\u001b[43m_init_from_table\u001b[49m\u001b[43m(\u001b[49m\u001b[38;5;28;43minput\u001b[39;49m\u001b[43m)\u001b[49m\n\u001b[1;32m   1410\u001b[0m \u001b[38;5;28;01melse\u001b[39;00m:\n\u001b[1;32m   1411\u001b[0m     \u001b[38;5;28;01mraise\u001b[39;00m \u001b[38;5;167;01mTypeError\u001b[39;00m(\u001b[38;5;124m'\u001b[39m\u001b[38;5;124mInput to ColDefs must be a table HDU, a list \u001b[39m\u001b[38;5;124m'\u001b[39m\n\u001b[1;32m   1412\u001b[0m                     \u001b[38;5;124m'\u001b[39m\u001b[38;5;124mof Columns, or a record/field array.\u001b[39m\u001b[38;5;124m'\u001b[39m)\n",
      "File \u001b[0;32m~/masterclass/env/lib/python3.10/site-packages/astropy/io/fits/column.py:1511\u001b[0m, in \u001b[0;36mColDefs._init_from_table\u001b[0;34m(self, table)\u001b[0m\n\u001b[1;32m   1508\u001b[0m     col_keywords[col][\u001b[38;5;124m'\u001b[39m\u001b[38;5;124marray\u001b[39m\u001b[38;5;124m'\u001b[39m] \u001b[38;5;241m=\u001b[39m Delayed(table, col)\n\u001b[1;32m   1510\u001b[0m \u001b[38;5;66;03m# now build the columns\u001b[39;00m\n\u001b[0;32m-> 1511\u001b[0m \u001b[38;5;28mself\u001b[39m\u001b[38;5;241m.\u001b[39mcolumns \u001b[38;5;241m=\u001b[39m [Column(\u001b[38;5;241m*\u001b[39m\u001b[38;5;241m*\u001b[39mattrs) \u001b[38;5;28;01mfor\u001b[39;00m attrs \u001b[38;5;129;01min\u001b[39;00m col_keywords]\n\u001b[1;32m   1513\u001b[0m \u001b[38;5;66;03m# Add the table HDU is a listener to changes to the columns\u001b[39;00m\n\u001b[1;32m   1514\u001b[0m \u001b[38;5;66;03m# (either changes to individual columns, or changes to the set of\u001b[39;00m\n\u001b[1;32m   1515\u001b[0m \u001b[38;5;66;03m# columns (add/remove/etc.))\u001b[39;00m\n\u001b[1;32m   1516\u001b[0m \u001b[38;5;28mself\u001b[39m\u001b[38;5;241m.\u001b[39m_add_listener(table)\n",
      "File \u001b[0;32m~/masterclass/env/lib/python3.10/site-packages/astropy/io/fits/column.py:1511\u001b[0m, in \u001b[0;36m<listcomp>\u001b[0;34m(.0)\u001b[0m\n\u001b[1;32m   1508\u001b[0m     col_keywords[col][\u001b[38;5;124m'\u001b[39m\u001b[38;5;124marray\u001b[39m\u001b[38;5;124m'\u001b[39m] \u001b[38;5;241m=\u001b[39m Delayed(table, col)\n\u001b[1;32m   1510\u001b[0m \u001b[38;5;66;03m# now build the columns\u001b[39;00m\n\u001b[0;32m-> 1511\u001b[0m \u001b[38;5;28mself\u001b[39m\u001b[38;5;241m.\u001b[39mcolumns \u001b[38;5;241m=\u001b[39m [\u001b[43mColumn\u001b[49m\u001b[43m(\u001b[49m\u001b[38;5;241;43m*\u001b[39;49m\u001b[38;5;241;43m*\u001b[39;49m\u001b[43mattrs\u001b[49m\u001b[43m)\u001b[49m \u001b[38;5;28;01mfor\u001b[39;00m attrs \u001b[38;5;129;01min\u001b[39;00m col_keywords]\n\u001b[1;32m   1513\u001b[0m \u001b[38;5;66;03m# Add the table HDU is a listener to changes to the columns\u001b[39;00m\n\u001b[1;32m   1514\u001b[0m \u001b[38;5;66;03m# (either changes to individual columns, or changes to the set of\u001b[39;00m\n\u001b[1;32m   1515\u001b[0m \u001b[38;5;66;03m# columns (add/remove/etc.))\u001b[39;00m\n\u001b[1;32m   1516\u001b[0m \u001b[38;5;28mself\u001b[39m\u001b[38;5;241m.\u001b[39m_add_listener(table)\n",
      "File \u001b[0;32m~/masterclass/env/lib/python3.10/site-packages/astropy/io/fits/column.py:624\u001b[0m, in \u001b[0;36mColumn.__init__\u001b[0;34m(self, name, format, unit, null, bscale, bzero, disp, start, dim, array, ascii, coord_type, coord_unit, coord_ref_point, coord_ref_value, coord_inc, time_ref_pos)\u001b[0m\n\u001b[1;32m    621\u001b[0m     \u001b[38;5;28;01mraise\u001b[39;00m VerifyError(\u001b[38;5;124m'\u001b[39m\u001b[38;5;130;01m\\n\u001b[39;00m\u001b[38;5;124m'\u001b[39m\u001b[38;5;241m.\u001b[39mjoin(msg))\n\u001b[1;32m    623\u001b[0m \u001b[38;5;28;01mfor\u001b[39;00m attr \u001b[38;5;129;01min\u001b[39;00m KEYWORD_ATTRIBUTES:\n\u001b[0;32m--> 624\u001b[0m     \u001b[38;5;28;43msetattr\u001b[39;49m\u001b[43m(\u001b[49m\u001b[38;5;28;43mself\u001b[39;49m\u001b[43m,\u001b[49m\u001b[43m \u001b[49m\u001b[43mattr\u001b[49m\u001b[43m,\u001b[49m\u001b[43m \u001b[49m\u001b[43mvalid_kwargs\u001b[49m\u001b[38;5;241;43m.\u001b[39;49m\u001b[43mget\u001b[49m\u001b[43m(\u001b[49m\u001b[43mattr\u001b[49m\u001b[43m)\u001b[49m\u001b[43m)\u001b[49m\n\u001b[1;32m    626\u001b[0m \u001b[38;5;66;03m# TODO: Try to eliminate the following two special cases\u001b[39;00m\n\u001b[1;32m    627\u001b[0m \u001b[38;5;66;03m# for recformat and dim:\u001b[39;00m\n\u001b[1;32m    628\u001b[0m \u001b[38;5;66;03m# This is not actually stored as an attribute on columns for some\u001b[39;00m\n\u001b[1;32m    629\u001b[0m \u001b[38;5;66;03m# reason\u001b[39;00m\n\u001b[1;32m    630\u001b[0m recformat \u001b[38;5;241m=\u001b[39m valid_kwargs[\u001b[38;5;124m'\u001b[39m\u001b[38;5;124mrecformat\u001b[39m\u001b[38;5;124m'\u001b[39m]\n",
      "File \u001b[0;32m~/masterclass/env/lib/python3.10/site-packages/astropy/io/fits/column.py:492\u001b[0m, in \u001b[0;36mColumnAttribute.__set__\u001b[0;34m(self, obj, value)\u001b[0m\n\u001b[1;32m    490\u001b[0m \u001b[38;5;28;01mdef\u001b[39;00m \u001b[38;5;21m__set__\u001b[39m(\u001b[38;5;28mself\u001b[39m, obj, value):\n\u001b[1;32m    491\u001b[0m     \u001b[38;5;28;01mif\u001b[39;00m \u001b[38;5;28mself\u001b[39m\u001b[38;5;241m.\u001b[39m_validator \u001b[38;5;129;01mis\u001b[39;00m \u001b[38;5;129;01mnot\u001b[39;00m \u001b[38;5;28;01mNone\u001b[39;00m:\n\u001b[0;32m--> 492\u001b[0m         \u001b[38;5;28;43mself\u001b[39;49m\u001b[38;5;241;43m.\u001b[39;49m\u001b[43m_validator\u001b[49m\u001b[43m(\u001b[49m\u001b[43mobj\u001b[49m\u001b[43m,\u001b[49m\u001b[43m \u001b[49m\u001b[43mvalue\u001b[49m\u001b[43m)\u001b[49m\n\u001b[1;32m    494\u001b[0m     old_value \u001b[38;5;241m=\u001b[39m \u001b[38;5;28mgetattr\u001b[39m(obj, \u001b[38;5;28mself\u001b[39m\u001b[38;5;241m.\u001b[39m_attr, \u001b[38;5;28;01mNone\u001b[39;00m)\n\u001b[1;32m    495\u001b[0m     \u001b[38;5;28msetattr\u001b[39m(obj, \u001b[38;5;28mself\u001b[39m\u001b[38;5;241m.\u001b[39m_attr, value)\n",
      "File \u001b[0;32m~/masterclass/env/lib/python3.10/site-packages/astropy/io/fits/column.py:840\u001b[0m, in \u001b[0;36mColumn.name\u001b[0;34m(col, name)\u001b[0m\n\u001b[1;32m    831\u001b[0m     warnings\u001b[38;5;241m.\u001b[39mwarn(\n\u001b[1;32m    832\u001b[0m         \u001b[38;5;124m'\u001b[39m\u001b[38;5;124mIt is strongly recommended that column names contain only \u001b[39m\u001b[38;5;124m'\u001b[39m\n\u001b[1;32m    833\u001b[0m         \u001b[38;5;124m'\u001b[39m\u001b[38;5;124mupper and lower-case ASCII letters, digits, or underscores \u001b[39m\u001b[38;5;124m'\u001b[39m\n\u001b[1;32m    834\u001b[0m         \u001b[38;5;124m'\u001b[39m\u001b[38;5;124mfor maximum compatibility with other software \u001b[39m\u001b[38;5;124m'\u001b[39m\n\u001b[1;32m    835\u001b[0m         \u001b[38;5;124m'\u001b[39m\u001b[38;5;124m(got \u001b[39m\u001b[38;5;132;01m{!r}\u001b[39;00m\u001b[38;5;124m).\u001b[39m\u001b[38;5;124m'\u001b[39m\u001b[38;5;241m.\u001b[39mformat(name), VerifyWarning)\n\u001b[1;32m    837\u001b[0m \u001b[38;5;66;03m# This ensures that the new name can fit into a single FITS card\u001b[39;00m\n\u001b[1;32m    838\u001b[0m \u001b[38;5;66;03m# without any special extension like CONTINUE cards or the like.\u001b[39;00m\n\u001b[1;32m    839\u001b[0m \u001b[38;5;28;01mif\u001b[39;00m (\u001b[38;5;129;01mnot\u001b[39;00m \u001b[38;5;28misinstance\u001b[39m(name, \u001b[38;5;28mstr\u001b[39m)\n\u001b[0;32m--> 840\u001b[0m         \u001b[38;5;129;01mor\u001b[39;00m \u001b[38;5;28mlen\u001b[39m(\u001b[38;5;28;43mstr\u001b[39;49m\u001b[43m(\u001b[49m\u001b[43mCard\u001b[49m\u001b[43m(\u001b[49m\u001b[38;5;124;43m'\u001b[39;49m\u001b[38;5;124;43mTTYPE\u001b[39;49m\u001b[38;5;124;43m'\u001b[39;49m\u001b[43m,\u001b[49m\u001b[43m \u001b[49m\u001b[43mname\u001b[49m\u001b[43m)\u001b[49m\u001b[43m)\u001b[49m) \u001b[38;5;241m!=\u001b[39m CARD_LENGTH):\n\u001b[1;32m    841\u001b[0m     \u001b[38;5;28;01mraise\u001b[39;00m \u001b[38;5;167;01mAssertionError\u001b[39;00m(\n\u001b[1;32m    842\u001b[0m         \u001b[38;5;124m'\u001b[39m\u001b[38;5;124mColumn name must be a string able to fit in a single \u001b[39m\u001b[38;5;124m'\u001b[39m\n\u001b[1;32m    843\u001b[0m         \u001b[38;5;124m'\u001b[39m\u001b[38;5;124mFITS card--typically this means a maximum of 68 \u001b[39m\u001b[38;5;124m'\u001b[39m\n\u001b[1;32m    844\u001b[0m         \u001b[38;5;124m'\u001b[39m\u001b[38;5;124mcharacters, though it may be fewer if the string \u001b[39m\u001b[38;5;124m'\u001b[39m\n\u001b[1;32m    845\u001b[0m         \u001b[38;5;124m'\u001b[39m\u001b[38;5;124mcontains special characters like quotes.\u001b[39m\u001b[38;5;124m'\u001b[39m)\n",
      "File \u001b[0;32m~/masterclass/env/lib/python3.10/site-packages/astropy/io/fits/card.py:206\u001b[0m, in \u001b[0;36mCard.__str__\u001b[0;34m(self)\u001b[0m\n\u001b[1;32m    205\u001b[0m \u001b[38;5;28;01mdef\u001b[39;00m \u001b[38;5;21m__str__\u001b[39m(\u001b[38;5;28mself\u001b[39m):\n\u001b[0;32m--> 206\u001b[0m     \u001b[38;5;28;01mreturn\u001b[39;00m \u001b[38;5;28;43mself\u001b[39;49m\u001b[38;5;241;43m.\u001b[39;49m\u001b[43mimage\u001b[49m\n",
      "File \u001b[0;32m~/masterclass/env/lib/python3.10/site-packages/astropy/io/fits/card.py:505\u001b[0m, in \u001b[0;36mCard.image\u001b[0;34m(self)\u001b[0m\n\u001b[1;32m    503\u001b[0m     \u001b[38;5;28mself\u001b[39m\u001b[38;5;241m.\u001b[39mverify(\u001b[38;5;124m'\u001b[39m\u001b[38;5;124mfix+warn\u001b[39m\u001b[38;5;124m'\u001b[39m)\n\u001b[1;32m    504\u001b[0m \u001b[38;5;28;01mif\u001b[39;00m \u001b[38;5;28mself\u001b[39m\u001b[38;5;241m.\u001b[39m_image \u001b[38;5;129;01mis\u001b[39;00m \u001b[38;5;28;01mNone\u001b[39;00m \u001b[38;5;129;01mor\u001b[39;00m \u001b[38;5;28mself\u001b[39m\u001b[38;5;241m.\u001b[39m_modified:\n\u001b[0;32m--> 505\u001b[0m     \u001b[38;5;28mself\u001b[39m\u001b[38;5;241m.\u001b[39m_image \u001b[38;5;241m=\u001b[39m \u001b[38;5;28;43mself\u001b[39;49m\u001b[38;5;241;43m.\u001b[39;49m\u001b[43m_format_image\u001b[49m\u001b[43m(\u001b[49m\u001b[43m)\u001b[49m\n\u001b[1;32m    506\u001b[0m \u001b[38;5;28;01mreturn\u001b[39;00m \u001b[38;5;28mself\u001b[39m\u001b[38;5;241m.\u001b[39m_image\n",
      "\u001b[0;31mKeyboardInterrupt\u001b[0m: "
     ]
    }
   ],
   "source": [
    "for fits_image in level0_data_files:\n",
    "    det1.call(fits_image, config_file=det_param_reffile, output_dir=output_dir)"
   ]
  },
  {
   "cell_type": "markdown",
   "id": "576dd755",
   "metadata": {},
   "source": [
    "## level 2"
   ]
  },
  {
   "cell_type": "code",
   "execution_count": null,
   "id": "76d4ac31",
   "metadata": {},
   "outputs": [],
   "source": [
    "os.path.join(output_dir, 'calwebb_spec2.asdf')"
   ]
  },
  {
   "cell_type": "code",
   "execution_count": null,
   "id": "74846e86",
   "metadata": {},
   "outputs": [],
   "source": [
    "spec2 = Spec2Pipeline()\n",
    "spec2_param_reffile = os.path.join(output_dir, 'calwebb_spec2.asdf')\n",
    "if not os.path.exists(spec2_param_reffile):\n",
    "    spec2.export_config(spec2_param_reffile)\n",
    "\n",
    "spec2_reffile = asdf.open(spec2_param_reffile)\n",
    "\n",
    "# Set some parameters that pertain to the entire pipeline\n",
    "spec2.save_results = True\n",
    "spec2.output_dir = output_dir"
   ]
  },
  {
   "cell_type": "code",
   "execution_count": null,
   "id": "71f6c6b3",
   "metadata": {},
   "outputs": [],
   "source": [
    "# python -m ipykernel install --user --name myenv --display-name \"Python (myenv)\"\n",
    "spec2_asn_file = 'data/jw02756-o001_spec2_001_asn.json'\n"
   ]
  },
  {
   "cell_type": "code",
   "execution_count": null,
   "id": "9f94bf75",
   "metadata": {},
   "outputs": [],
   "source": [
    "result = spec2(spec2_asn_file)"
   ]
  },
  {
   "cell_type": "code",
   "execution_count": null,
   "id": "f0d40c90",
   "metadata": {},
   "outputs": [],
   "source": [
    "for j, i in enumerate(result_2d.slits):\n",
    "    print(j, i.source_id, i.slitlet_id)"
   ]
  },
  {
   "cell_type": "markdown",
   "id": "5bd3b74a",
   "metadata": {},
   "source": [
    "## level 3"
   ]
  },
  {
   "cell_type": "code",
   "execution_count": null,
   "id": "18856b91",
   "metadata": {},
   "outputs": [],
   "source": [
    "from jwst.associations import asn_from_list\n",
    "from jwst.associations.lib.rules_level3_base import DMS_Level3_Base\n",
    "from jwst.pipeline.calwebb_spec3 import Spec3Pipeline"
   ]
  },
  {
   "cell_type": "code",
   "execution_count": null,
   "id": "b2efe016",
   "metadata": {},
   "outputs": [],
   "source": [
    "spec3 = Spec3Pipeline()\n",
    "\n",
    "spec3_param_reffile = os.path.join(output_dir, 'calwebb_spec3.asdf')\n",
    "# spec3.export_config(spec3_param_reffile)\n",
    "\n",
    "\n",
    "spec3.outlier_detection.skip = True"
   ]
  },
  {
   "cell_type": "code",
   "execution_count": null,
   "id": "c59093d1",
   "metadata": {},
   "outputs": [],
   "source": [
    "result = spec3.call(output_dir+ '/jw02756-o001_spec3_001_asn.json' , save_results=True, \n",
    "                  config_file=spec3_param_reffile, output_dir=output_dir)\n"
   ]
  },
  {
   "cell_type": "code",
   "execution_count": 9,
   "id": "a1363c6c",
   "metadata": {},
   "outputs": [
    {
     "name": "stdout",
     "output_type": "stream",
     "text": [
      "jw02756001001_02101_00001_nrs1_uncal.fits\r\n",
      "jw02756001001_02101_00001_nrs2_uncal.fits\r\n",
      "jw02756001001_02101_00002_nrs1_uncal.fits\r\n",
      "jw02756001001_02101_00002_nrs2_uncal.fits\r\n",
      "jw02756001001_02101_00003_nrs1_uncal.fits\r\n",
      "jw02756001001_02101_00003_nrs2_uncal.fits\r\n",
      "jw02756001001_03101_00001_nrs1_uncal.fits\r\n",
      "jw02756001001_03101_00001_nrs2_uncal.fits\r\n",
      "jw02756001001_03101_00002_nrs1_uncal.fits\r\n",
      "jw02756001001_03101_00002_nrs2_uncal.fits\r\n",
      "jw02756001001_03101_00003_nrs1_uncal.fits\r\n",
      "jw02756001001_03101_00003_nrs2_uncal.fits\r\n",
      "jw02756001001_03103_00001_nrs1_uncal.fits\r\n",
      "jw02756001001_03103_00001_nrs2_uncal.fits\r\n",
      "jw02756001001_03103_00002_nrs1_uncal.fits\r\n",
      "jw02756001001_03103_00002_nrs2_uncal.fits\r\n"
     ]
    }
   ],
   "source": [
    "!ls data/"
   ]
  },
  {
   "cell_type": "code",
   "execution_count": null,
   "id": "c881ca28",
   "metadata": {},
   "outputs": [],
   "source": []
  }
 ],
 "metadata": {
  "kernelspec": {
   "display_name": "Python (env)",
   "language": "python",
   "name": "myenv"
  },
  "language_info": {
   "codemirror_mode": {
    "name": "ipython",
    "version": 3
   },
   "file_extension": ".py",
   "mimetype": "text/x-python",
   "name": "python",
   "nbconvert_exporter": "python",
   "pygments_lexer": "ipython3",
   "version": "3.10.6"
  }
 },
 "nbformat": 4,
 "nbformat_minor": 5
}
