{
 "cells": [
  {
   "cell_type": "markdown",
   "id": "8ceeaf74-3c74-478a-9609-cae41ef9b2c7",
   "metadata": {},
   "source": [
    "# 1. INSTALL \n",
    "\n",
    "## 1.A conda env & Jupyter\n",
    "\n",
    "```\n",
    "conda create --name jadc_nircam python=3.9\n",
    "conda activate jadc_nircam\n",
    "conda install jupyter \n",
    "# delete with:  conda env remove --name jadc_nircam\n",
    "```\n",
    "\n",
    "## 1.B jupyter and grizli install\n",
    "```\n",
    "pip install \"grizli[jwst]\"\n",
    "pip install pyregion\n",
    "pip install git+https://github.com/gbrammer/dust_attenuation.git\n",
    "pip install git+https://github.com/gbrammer/dust_extinction.git \n",
    "```\n",
    "\n",
    "## 1.C put these into the ~/.bashrc or equivalent\n",
    "```\n",
    "export GRIZLI=\"${HOME}/grizli\" # dir for config files, here or anywhere else \n",
    "export iref=\"${GRIZLI}/iref/\"  # for WFC3 calibration files\n",
    "export jref=\"${GRIZLI}/jref/\"  # for ACS calibration files\n",
    "mkdir $GRIZLI\n",
    "mkdir $GRIZLI/CONF      # needed for grism configuration files\n",
    "mkdir $GRIZLI/templates # for redshift fits\n",
    "mkdir $iref\n",
    "mkdir $jref\n",
    "```"
   ]
  },
  {
   "cell_type": "code",
   "execution_count": 2,
   "id": "80d1ed5f",
   "metadata": {},
   "outputs": [
    {
     "name": "stdout",
     "output_type": "stream",
     "text": [
      "3.9.15 (main, Nov 24 2022, 08:29:02) \n",
      "[Clang 14.0.6 ]\n",
      "\n",
      "              grizli : 1.7\n",
      "            tristars : 0.1\n",
      "           mastquery : 1.5.1\n",
      "                 sep : 1.2.1\n",
      "               numpy : 1.23.5\n",
      "               scipy : 1.9.3\n",
      "             astropy : 5.1.1\n",
      "          astroquery : 0.4.6\n",
      "             shapely : 1.8.5.post1\n",
      "\n",
      "\n",
      "The following task in the stsci.skypac package can be run with TEAL:\n",
      "                                    skymatch                                    \n",
      "The following tasks in the drizzlepac package can be run with TEAL:\n",
      "    astrodrizzle       config_testbed      imagefindpars           mapreg       \n",
      "       photeq            pixreplace           pixtopix            pixtosky      \n",
      "  refimagefindpars       resetbits          runastrodriz          skytopix      \n",
      "     tweakback            tweakreg           updatenpol\n",
      "          drizzlepac : 3.5.0\n",
      "                jwst : 1.8.4\n"
     ]
    }
   ],
   "source": [
    "# Grizli and requirements, e.g., on google collab\n",
    "import importlib\n",
    "import sys\n",
    "import os\n",
    "\n",
    "import grizli\n",
    "\n",
    "## Module versions\n",
    "print(sys.version + '\\n')\n",
    "for module in ['grizli', 'tristars', 'mastquery', 'sep',\n",
    "               'numpy', 'scipy', 'astropy', 'astroquery', \n",
    "               'shapely', 'drizzlepac','jwst']:\n",
    "    try:\n",
    "        mod = importlib.import_module(module)\n",
    "        print('{0:>20} : {1}'.format(module, mod.__version__))\n",
    "    except ImportError:\n",
    "        print('{0:>20} : {1}'.format(module, '*failed*'))"
   ]
  },
  {
   "cell_type": "code",
   "execution_count": 3,
   "id": "58aa44fa",
   "metadata": {},
   "outputs": [
    {
     "name": "stdout",
     "output_type": "stream",
     "text": [
      "CRDS_PATH={ /Users/ivo/Astro/PROJECTS/JWST/crds_cache }\n",
      "CRDS_SERVER_URL={ https://jwst-crds.stsci.edu }\n"
     ]
    }
   ],
   "source": [
    "import jwst\n",
    "\n",
    "if os.getenv('CRDS_PATH') is None:\n",
    "    cache_dir = os.path.join(os.getcwd(), 'crds_cache')\n",
    "    print('Set CRDS_PATH=',cache_dir)\n",
    "    os.environ['CRDS_PATH'] = cache_dir\n",
    "    if not os.path.exists(cache_dir):\n",
    "        os.makedirs(cache_dir)\n",
    "else:\n",
    "    print(\"CRDS_PATH={\",os.getenv('CRDS_PATH'),'}')\n",
    "\n",
    "if os.getenv('CRDS_SERVER_URL') is None:\n",
    "    server = 'https://jwst-crds.stsci.edu'\n",
    "    print('Set CRDS_SERVER_URL={',server,'}')\n",
    "    os.environ['CRDS_SERVER_URL'] = 'https://jwst-crds.stsci.edu'\n",
    "else:\n",
    "    print(\"CRDS_SERVER_URL={\",os.getenv('CRDS_SERVER_URL'),\"}\")"
   ]
  },
  {
   "cell_type": "markdown",
   "id": "5da43a5d-63c1-47ff-a7eb-b3fba75fa899",
   "metadata": {},
   "source": [
    "# 2. Download observations from MAST"
   ]
  },
  {
   "cell_type": "code",
   "execution_count": 19,
   "id": "e79241cb",
   "metadata": {},
   "outputs": [],
   "source": [
    "from astroquery.mast import Observations\n",
    "from astropy.table import unique, vstack, Table"
   ]
  },
  {
   "cell_type": "code",
   "execution_count": 40,
   "id": "074919fb",
   "metadata": {
    "tags": []
   },
   "outputs": [
    {
     "data": {
      "text/html": [
       "<div><i>Table length=4</i>\n",
       "<table id=\"table140161828988384\" class=\"table-striped table-bordered table-condensed\">\n",
       "<thead><tr><th>dataproduct_type</th><th>calib_level</th><th>obs_collection</th><th>obs_id</th><th>target_name</th><th>s_ra</th><th>s_dec</th><th>t_min</th><th>t_max</th><th>t_exptime</th><th>wavelength_region</th><th>filters</th><th>em_min</th><th>em_max</th><th>target_classification</th><th>obs_title</th><th>t_obs_release</th><th>instrument_name</th><th>proposal_pi</th><th>proposal_id</th><th>proposal_type</th><th>project</th><th>sequence_number</th><th>provenance_name</th><th>s_region</th><th>jpegURL</th><th>dataURL</th><th>dataRights</th><th>mtFlag</th><th>srcDen</th><th>intentType</th><th>obsid</th><th>objID</th></tr></thead>\n",
       "<thead><tr><th>str5</th><th>int64</th><th>str4</th><th>str36</th><th>str31</th><th>float64</th><th>float64</th><th>float64</th><th>float64</th><th>float64</th><th>str8</th><th>str5</th><th>float64</th><th>float64</th><th>str1</th><th>str84</th><th>float64</th><th>str6</th><th>str10</th><th>str4</th><th>str2</th><th>str4</th><th>int64</th><th>str7</th><th>str111</th><th>str62</th><th>str63</th><th>str6</th><th>bool</th><th>float64</th><th>str7</th><th>str9</th><th>str9</th></tr></thead>\n",
       "<tr><td>image</td><td>3</td><td>JWST</td><td>jw02561-o003_t006_nircam_clear-f200w</td><td>ABELL2744-PREIMG-REPEAT1-19N47D</td><td>3.587564583333333</td><td>-30.35995277777778</td><td>59898.59822264086</td><td>59898.68309895833</td><td>53597.952</td><td>Infrared</td><td>F200W</td><td>1755.0</td><td>2226.0</td><td>--</td><td>UNCOVER: Ultra-deep NIRCam and NIRSpec Observations Before the Epoch of Reionization</td><td>59899.8116434</td><td>NIRCAM</td><td>Labbe, Ivo</td><td>2561</td><td>GO</td><td>JWST</td><td>--</td><td>CALJWST</td><td>POLYGON 3.533472689 -30.342853699 3.56835268 -30.313121634 3.642172977 -30.377569012 3.607292447 -30.407320676</td><td>mast:JWST/product/jw02561-o003_t006_nircam_clear-f200w_i2d.jpg</td><td>mast:JWST/product/jw02561-o003_t006_nircam_clear-f200w_i2d.fits</td><td>PUBLIC</td><td>False</td><td>nan</td><td>science</td><td>101124318</td><td>188917710</td></tr>\n",
       "<tr><td>image</td><td>3</td><td>JWST</td><td>jw02561-o001_t003_nircam_clear-f200w</td><td>ABELL2744-PREIMG</td><td>3.5760475</td><td>-30.37945555555558</td><td>59885.53356233993</td><td>59890.26014797454</td><td>160793.856</td><td>Infrared</td><td>F200W</td><td>1755.0</td><td>2226.0</td><td>--</td><td>UNCOVER: Ultra-deep NIRCam and NIRSpec Observations Before the Epoch of Reionization</td><td>59890.89464115</td><td>NIRCAM</td><td>Labbe, Ivo</td><td>2561</td><td>GO</td><td>JWST</td><td>--</td><td>CALJWST</td><td>POLYGON 3.501657733 -30.37399924 3.560945726 -30.316498285 3.65083826 -30.38543215 3.591561352 -30.442973698</td><td>mast:JWST/product/jw02561-o001_t003_nircam_clear-f200w_i2d.jpg</td><td>mast:JWST/product/jw02561-o001_t003_nircam_clear-f200w_i2d.fits</td><td>PUBLIC</td><td>False</td><td>nan</td><td>science</td><td>100380644</td><td>188917735</td></tr>\n",
       "<tr><td>image</td><td>3</td><td>JWST</td><td>jw02561-o003_t006_nircam_clear-f444w</td><td>ABELL2744-PREIMG-REPEAT1-19N47D</td><td>3.587564583333333</td><td>-30.35995277777778</td><td>59898.68757129942</td><td>59898.80140328703</td><td>16491.68</td><td>Infrared</td><td>F444W</td><td>3880.0</td><td>4986.0</td><td>--</td><td>UNCOVER: Ultra-deep NIRCam and NIRSpec Observations Before the Epoch of Reionization</td><td>59899.8116434</td><td>NIRCAM</td><td>Labbe, Ivo</td><td>2561</td><td>GO</td><td>JWST</td><td>--</td><td>CALJWST</td><td>POLYGON 3.53374544 -30.342876319 3.567901705 -30.313395677 3.641598538 -30.376938111 3.6074423 -30.406437914</td><td>mast:JWST/product/jw02561-o003_t006_nircam_clear-f444w_i2d.jpg</td><td>mast:JWST/product/jw02561-o003_t006_nircam_clear-f444w_i2d.fits</td><td>PUBLIC</td><td>False</td><td>nan</td><td>science</td><td>101095956</td><td>188917653</td></tr>\n",
       "<tr><td>image</td><td>3</td><td>JWST</td><td>jw02561-o001_t003_nircam_clear-f444w</td><td>ABELL2744-PREIMG</td><td>3.5760475</td><td>-30.37945555555558</td><td>59885.62440289665</td><td>59890.37869892361</td><td>49475.03999999999</td><td>Infrared</td><td>F444W</td><td>3880.0</td><td>4986.0</td><td>--</td><td>UNCOVER: Ultra-deep NIRCam and NIRSpec Observations Before the Epoch of Reionization</td><td>59890.89464115</td><td>NIRCAM</td><td>Labbe, Ivo</td><td>2561</td><td>GO</td><td>JWST</td><td>--</td><td>CALJWST</td><td>POLYGON 3.501873815 -30.374067855 3.560267414 -30.316718691 3.650216664 -30.384835698 3.591835162 -30.442224868</td><td>mast:JWST/product/jw02561-o001_t003_nircam_clear-f444w_i2d.jpg</td><td>mast:JWST/product/jw02561-o001_t003_nircam_clear-f444w_i2d.fits</td><td>PUBLIC</td><td>False</td><td>nan</td><td>science</td><td>100380027</td><td>188917701</td></tr>\n",
       "</table></div>"
      ],
      "text/plain": [
       "<Table length=4>\n",
       "dataproduct_type calib_level obs_collection                obs_id                          target_name           ... mtFlag  srcDen intentType   obsid     objID  \n",
       "      str5          int64         str4                     str36                              str31              ...  bool  float64    str7       str9      str9  \n",
       "---------------- ----------- -------------- ------------------------------------ ------------------------------- ... ------ ------- ---------- --------- ---------\n",
       "           image           3           JWST jw02561-o003_t006_nircam_clear-f200w ABELL2744-PREIMG-REPEAT1-19N47D ...  False     nan    science 101124318 188917710\n",
       "           image           3           JWST jw02561-o001_t003_nircam_clear-f200w                ABELL2744-PREIMG ...  False     nan    science 100380644 188917735\n",
       "           image           3           JWST jw02561-o003_t006_nircam_clear-f444w ABELL2744-PREIMG-REPEAT1-19N47D ...  False     nan    science 101095956 188917653\n",
       "           image           3           JWST jw02561-o001_t003_nircam_clear-f444w                ABELL2744-PREIMG ...  False     nan    science 100380027 188917701"
      ]
     },
     "execution_count": 40,
     "metadata": {},
     "output_type": "execute_result"
    }
   ],
   "source": [
    "# get F277W band data from UNCOVER program 2561\n",
    "filters = ['F444W','F200W']\n",
    "obs = [Observations.query_criteria(obs_collection = 'JWST', proposal_id = '2561', \n",
    "                                   productType='science',\n",
    "                                   instrument_name = 'Nircam', filters = f)\n",
    "                                   for f in filters ]\n",
    "obs = vstack(obs)\n",
    "obs"
   ]
  },
  {
   "cell_type": "code",
   "execution_count": 41,
   "id": "fa854a77",
   "metadata": {},
   "outputs": [
    {
     "data": {
      "text/html": [
       "<div><i>Table length=6430</i>\n",
       "<table id=\"table140161023634160\" class=\"table-striped table-bordered table-condensed\">\n",
       "<thead><tr><th>obsID</th><th>obs_collection</th><th>dataproduct_type</th><th>obs_id</th><th>description</th><th>type</th><th>dataURI</th><th>productType</th><th>productGroupDescription</th><th>productSubGroupDescription</th><th>productDocumentationURL</th><th>project</th><th>prvversion</th><th>proposal_id</th><th>productFilename</th><th>size</th><th>parent_obsid</th><th>dataRights</th><th>calib_level</th></tr></thead>\n",
       "<thead><tr><th>str9</th><th>str4</th><th>str5</th><th>str36</th><th>str64</th><th>str1</th><th>str69</th><th>str9</th><th>str28</th><th>str11</th><th>str1</th><th>str7</th><th>str5</th><th>str4</th><th>str51</th><th>int64</th><th>str9</th><th>str6</th><th>int64</th></tr></thead>\n",
       "<tr><td>100379049</td><td>JWST</td><td>image</td><td>jw02561001004_10101_00007_nrcalong</td><td>source/target (L3) : association generator</td><td>S</td><td>mast:JWST/product/jw02561-o001_20221118t004454_image2_00014_asn.json</td><td>INFO</td><td>--</td><td>ASN</td><td>--</td><td>CALJWST</td><td>1.8.2</td><td>2561</td><td>jw02561-o001_20221118t004454_image2_00014_asn.json</td><td>1795</td><td>100380027</td><td>PUBLIC</td><td>2</td></tr>\n",
       "<tr><td>100379352</td><td>JWST</td><td>image</td><td>jw02561001004_10101_00006_nrcblong</td><td>source/target (L3) : association generator</td><td>S</td><td>mast:JWST/product/jw02561-o001_20221118t004454_image2_00018_asn.json</td><td>INFO</td><td>--</td><td>ASN</td><td>--</td><td>CALJWST</td><td>1.8.2</td><td>2561</td><td>jw02561-o001_20221118t004454_image2_00018_asn.json</td><td>1795</td><td>100380027</td><td>PUBLIC</td><td>2</td></tr>\n",
       "<tr><td>100379152</td><td>JWST</td><td>image</td><td>jw02561001004_10101_00007_nrcblong</td><td>source/target (L3) : association generator</td><td>S</td><td>mast:JWST/product/jw02561-o001_20221118t004454_image2_00020_asn.json</td><td>INFO</td><td>--</td><td>ASN</td><td>--</td><td>CALJWST</td><td>1.8.2</td><td>2561</td><td>jw02561-o001_20221118t004454_image2_00020_asn.json</td><td>1795</td><td>100380027</td><td>PUBLIC</td><td>2</td></tr>\n",
       "<tr><td>100379288</td><td>JWST</td><td>image</td><td>jw02561001004_10101_00008_nrcblong</td><td>source/target (L3) : association generator</td><td>S</td><td>mast:JWST/product/jw02561-o001_20221118t004454_image2_00024_asn.json</td><td>INFO</td><td>--</td><td>ASN</td><td>--</td><td>CALJWST</td><td>1.8.2</td><td>2561</td><td>jw02561-o001_20221118t004454_image2_00024_asn.json</td><td>1795</td><td>100380027</td><td>PUBLIC</td><td>2</td></tr>\n",
       "<tr><td>100379011</td><td>JWST</td><td>image</td><td>jw02561001004_10101_00006_nrcalong</td><td>source/target (L3) : association generator</td><td>S</td><td>mast:JWST/product/jw02561-o001_20221118t004454_image2_00028_asn.json</td><td>INFO</td><td>--</td><td>ASN</td><td>--</td><td>CALJWST</td><td>1.8.2</td><td>2561</td><td>jw02561-o001_20221118t004454_image2_00028_asn.json</td><td>1795</td><td>100380027</td><td>PUBLIC</td><td>2</td></tr>\n",
       "<tr><td>100379278</td><td>JWST</td><td>image</td><td>jw02561001004_10101_00003_nrcblong</td><td>source/target (L3) : association generator</td><td>S</td><td>mast:JWST/product/jw02561-o001_20221118t004454_image2_00037_asn.json</td><td>INFO</td><td>--</td><td>ASN</td><td>--</td><td>CALJWST</td><td>1.8.2</td><td>2561</td><td>jw02561-o001_20221118t004454_image2_00037_asn.json</td><td>1795</td><td>100380027</td><td>PUBLIC</td><td>2</td></tr>\n",
       "<tr><td>100379148</td><td>JWST</td><td>image</td><td>jw02561001004_10101_00005_nrcblong</td><td>source/target (L3) : association generator</td><td>S</td><td>mast:JWST/product/jw02561-o001_20221118t004454_image2_00038_asn.json</td><td>INFO</td><td>--</td><td>ASN</td><td>--</td><td>CALJWST</td><td>1.8.2</td><td>2561</td><td>jw02561-o001_20221118t004454_image2_00038_asn.json</td><td>1795</td><td>100380027</td><td>PUBLIC</td><td>2</td></tr>\n",
       "<tr><td>100379150</td><td>JWST</td><td>image</td><td>jw02561001004_10101_00002_nrcblong</td><td>source/target (L3) : association generator</td><td>S</td><td>mast:JWST/product/jw02561-o001_20221118t004454_image2_00044_asn.json</td><td>INFO</td><td>--</td><td>ASN</td><td>--</td><td>CALJWST</td><td>1.8.2</td><td>2561</td><td>jw02561-o001_20221118t004454_image2_00044_asn.json</td><td>1795</td><td>100380027</td><td>PUBLIC</td><td>2</td></tr>\n",
       "<tr><td>100378998</td><td>JWST</td><td>image</td><td>jw02561001004_10101_00005_nrcalong</td><td>source/target (L3) : association generator</td><td>S</td><td>mast:JWST/product/jw02561-o001_20221118t004454_image2_00047_asn.json</td><td>INFO</td><td>--</td><td>ASN</td><td>--</td><td>CALJWST</td><td>1.8.2</td><td>2561</td><td>jw02561-o001_20221118t004454_image2_00047_asn.json</td><td>1795</td><td>100380027</td><td>PUBLIC</td><td>2</td></tr>\n",
       "<tr><td>100379214</td><td>JWST</td><td>image</td><td>jw02561001004_10101_00004_nrcblong</td><td>source/target (L3) : association generator</td><td>S</td><td>mast:JWST/product/jw02561-o001_20221118t004454_image2_00057_asn.json</td><td>INFO</td><td>--</td><td>ASN</td><td>--</td><td>CALJWST</td><td>1.8.2</td><td>2561</td><td>jw02561-o001_20221118t004454_image2_00057_asn.json</td><td>1795</td><td>100380027</td><td>PUBLIC</td><td>2</td></tr>\n",
       "<tr><td>100379001</td><td>JWST</td><td>image</td><td>jw02561001004_10101_00003_nrcalong</td><td>source/target (L3) : association generator</td><td>S</td><td>mast:JWST/product/jw02561-o001_20221118t004454_image2_00058_asn.json</td><td>INFO</td><td>--</td><td>ASN</td><td>--</td><td>CALJWST</td><td>1.8.2</td><td>2561</td><td>jw02561-o001_20221118t004454_image2_00058_asn.json</td><td>1795</td><td>100380027</td><td>PUBLIC</td><td>2</td></tr>\n",
       "<tr><td>100379036</td><td>JWST</td><td>image</td><td>jw02561001004_10101_00004_nrcalong</td><td>source/target (L3) : association generator</td><td>S</td><td>mast:JWST/product/jw02561-o001_20221118t004454_image2_00059_asn.json</td><td>INFO</td><td>--</td><td>ASN</td><td>--</td><td>CALJWST</td><td>1.8.2</td><td>2561</td><td>jw02561-o001_20221118t004454_image2_00059_asn.json</td><td>1795</td><td>100380027</td><td>PUBLIC</td><td>2</td></tr>\n",
       "<tr><td>100379060</td><td>JWST</td><td>image</td><td>jw02561001004_10101_00008_nrcalong</td><td>source/target (L3) : association generator</td><td>S</td><td>mast:JWST/product/jw02561-o001_20221118t004454_image2_00060_asn.json</td><td>INFO</td><td>--</td><td>ASN</td><td>--</td><td>CALJWST</td><td>1.8.2</td><td>2561</td><td>jw02561-o001_20221118t004454_image2_00060_asn.json</td><td>1795</td><td>100380027</td><td>PUBLIC</td><td>2</td></tr>\n",
       "<tr><td>100379170</td><td>JWST</td><td>image</td><td>jw02561001004_10101_00001_nrcblong</td><td>source/target (L3) : association generator</td><td>S</td><td>mast:JWST/product/jw02561-o001_20221118t004454_image2_00069_asn.json</td><td>INFO</td><td>--</td><td>ASN</td><td>--</td><td>CALJWST</td><td>1.8.2</td><td>2561</td><td>jw02561-o001_20221118t004454_image2_00069_asn.json</td><td>1795</td><td>100380027</td><td>PUBLIC</td><td>2</td></tr>\n",
       "<tr><td>...</td><td>...</td><td>...</td><td>...</td><td>...</td><td>...</td><td>...</td><td>...</td><td>...</td><td>...</td><td>...</td><td>...</td><td>...</td><td>...</td><td>...</td><td>...</td><td>...</td><td>...</td><td>...</td></tr>\n",
       "<tr><td>101003883</td><td>JWST</td><td>image</td><td>jw02561003001_06101_00001_nrca1</td><td>FGS guide star tracking</td><td>S</td><td>mast:JWST/product/jw02561003001_gs-track_2022319182442_uncal.fits</td><td>AUXILIARY</td><td>--</td><td>GS-TRACK</td><td>--</td><td>CALJWST</td><td>--</td><td>2561</td><td>jw02561003001_gs-track_2022319182442_uncal.fits</td><td>875520</td><td>101124318</td><td>PUBLIC</td><td>1</td></tr>\n",
       "<tr><td>101003883</td><td>JWST</td><td>image</td><td>jw02561003001_06101_00001_nrca1</td><td>FGS guide star tracking</td><td>S</td><td>mast:JWST/product/jw02561003001_gs-track_2022319183445_cal.fits</td><td>AUXILIARY</td><td>--</td><td>GS-TRACK</td><td>--</td><td>CALJWST</td><td>1.8.2</td><td>2561</td><td>jw02561003001_gs-track_2022319183445_cal.fits</td><td>2465280</td><td>101124318</td><td>PUBLIC</td><td>2</td></tr>\n",
       "<tr><td>101003883</td><td>JWST</td><td>image</td><td>jw02561003001_06101_00001_nrca1</td><td>FGS guide star tracking</td><td>S</td><td>mast:JWST/product/jw02561003001_gs-track_2022319183445_stream.fits</td><td>AUXILIARY</td><td>--</td><td>GS-TRACK</td><td>--</td><td>CALJWST</td><td>--</td><td>2561</td><td>jw02561003001_gs-track_2022319183445_stream.fits</td><td>803520</td><td>101124318</td><td>PUBLIC</td><td>1</td></tr>\n",
       "<tr><td>101003883</td><td>JWST</td><td>image</td><td>jw02561003001_06101_00001_nrca1</td><td>FGS guide star tracking</td><td>S</td><td>mast:JWST/product/jw02561003001_gs-track_2022319183445_uncal.fits</td><td>AUXILIARY</td><td>--</td><td>GS-TRACK</td><td>--</td><td>CALJWST</td><td>--</td><td>2561</td><td>jw02561003001_gs-track_2022319183445_uncal.fits</td><td>878400</td><td>101124318</td><td>PUBLIC</td><td>1</td></tr>\n",
       "<tr><td>101003883</td><td>JWST</td><td>image</td><td>jw02561003001_06101_00001_nrca1</td><td>FGS guide star tracking</td><td>S</td><td>mast:JWST/product/jw02561003001_gs-track_2022319184459_cal.fits</td><td>AUXILIARY</td><td>--</td><td>GS-TRACK</td><td>--</td><td>CALJWST</td><td>1.8.2</td><td>2561</td><td>jw02561003001_gs-track_2022319184459_cal.fits</td><td>2465280</td><td>101124318</td><td>PUBLIC</td><td>2</td></tr>\n",
       "<tr><td>101003883</td><td>JWST</td><td>image</td><td>jw02561003001_06101_00001_nrca1</td><td>FGS guide star tracking</td><td>S</td><td>mast:JWST/product/jw02561003001_gs-track_2022319184459_stream.fits</td><td>AUXILIARY</td><td>--</td><td>GS-TRACK</td><td>--</td><td>CALJWST</td><td>--</td><td>2561</td><td>jw02561003001_gs-track_2022319184459_stream.fits</td><td>803520</td><td>101124318</td><td>PUBLIC</td><td>1</td></tr>\n",
       "<tr><td>101003883</td><td>JWST</td><td>image</td><td>jw02561003001_06101_00001_nrca1</td><td>FGS guide star tracking</td><td>S</td><td>mast:JWST/product/jw02561003001_gs-track_2022319184459_uncal.fits</td><td>AUXILIARY</td><td>--</td><td>GS-TRACK</td><td>--</td><td>CALJWST</td><td>--</td><td>2561</td><td>jw02561003001_gs-track_2022319184459_uncal.fits</td><td>878400</td><td>101124318</td><td>PUBLIC</td><td>1</td></tr>\n",
       "<tr><td>101003883</td><td>JWST</td><td>image</td><td>jw02561003001_06101_00001_nrca1</td><td>FGS guide star tracking</td><td>S</td><td>mast:JWST/product/jw02561003001_gs-track_2022319185507_cal.fits</td><td>AUXILIARY</td><td>--</td><td>GS-TRACK</td><td>--</td><td>CALJWST</td><td>1.8.2</td><td>2561</td><td>jw02561003001_gs-track_2022319185507_cal.fits</td><td>2459520</td><td>101124318</td><td>PUBLIC</td><td>2</td></tr>\n",
       "<tr><td>101003883</td><td>JWST</td><td>image</td><td>jw02561003001_06101_00001_nrca1</td><td>FGS guide star tracking</td><td>S</td><td>mast:JWST/product/jw02561003001_gs-track_2022319185507_stream.fits</td><td>AUXILIARY</td><td>--</td><td>GS-TRACK</td><td>--</td><td>CALJWST</td><td>--</td><td>2561</td><td>jw02561003001_gs-track_2022319185507_stream.fits</td><td>803520</td><td>101124318</td><td>PUBLIC</td><td>1</td></tr>\n",
       "<tr><td>101003883</td><td>JWST</td><td>image</td><td>jw02561003001_06101_00001_nrca1</td><td>FGS guide star tracking</td><td>S</td><td>mast:JWST/product/jw02561003001_gs-track_2022319185507_uncal.fits</td><td>AUXILIARY</td><td>--</td><td>GS-TRACK</td><td>--</td><td>CALJWST</td><td>--</td><td>2561</td><td>jw02561003001_gs-track_2022319185507_uncal.fits</td><td>875520</td><td>101124318</td><td>PUBLIC</td><td>1</td></tr>\n",
       "<tr><td>101003883</td><td>JWST</td><td>image</td><td>jw02561003001_06101_00001_nrca1</td><td>FGS guide star tracking</td><td>S</td><td>mast:JWST/product/jw02561003001_gs-track_2022319190507_cal.fits</td><td>AUXILIARY</td><td>--</td><td>GS-TRACK</td><td>--</td><td>CALJWST</td><td>1.8.2</td><td>2561</td><td>jw02561003001_gs-track_2022319190507_cal.fits</td><td>2459520</td><td>101124318</td><td>PUBLIC</td><td>2</td></tr>\n",
       "<tr><td>101003883</td><td>JWST</td><td>image</td><td>jw02561003001_06101_00001_nrca1</td><td>FGS guide star tracking</td><td>S</td><td>mast:JWST/product/jw02561003001_gs-track_2022319190507_stream.fits</td><td>AUXILIARY</td><td>--</td><td>GS-TRACK</td><td>--</td><td>CALJWST</td><td>--</td><td>2561</td><td>jw02561003001_gs-track_2022319190507_stream.fits</td><td>803520</td><td>101124318</td><td>PUBLIC</td><td>1</td></tr>\n",
       "<tr><td>101003883</td><td>JWST</td><td>image</td><td>jw02561003001_06101_00001_nrca1</td><td>FGS guide star tracking</td><td>S</td><td>mast:JWST/product/jw02561003001_gs-track_2022319190507_uncal.fits</td><td>AUXILIARY</td><td>--</td><td>GS-TRACK</td><td>--</td><td>CALJWST</td><td>--</td><td>2561</td><td>jw02561003001_gs-track_2022319190507_uncal.fits</td><td>875520</td><td>101124318</td><td>PUBLIC</td><td>1</td></tr>\n",
       "<tr><td>101124318</td><td>JWST</td><td>image</td><td>jw02561-o003_t006_nircam_clear-f200w</td><td>source/target (L3) : association pool</td><td>D</td><td>mast:JWST/product/jw02561_20221118t004454_pool.csv</td><td>INFO</td><td>Minimum Recommended Products</td><td>POOL</td><td>--</td><td>CALJWST</td><td>1.8.2</td><td>2561</td><td>jw02561_20221118t004454_pool.csv</td><td>772429</td><td>101124318</td><td>PUBLIC</td><td>3</td></tr>\n",
       "</table></div>"
      ],
      "text/plain": [
       "<Table length=6430>\n",
       "  obsID   obs_collection dataproduct_type                obs_id                ...   size  parent_obsid dataRights calib_level\n",
       "   str9        str4            str5                      str36                 ...  int64      str9        str6       int64   \n",
       "--------- -------------- ---------------- ------------------------------------ ... ------- ------------ ---------- -----------\n",
       "100379049           JWST            image   jw02561001004_10101_00007_nrcalong ...    1795    100380027     PUBLIC           2\n",
       "100379352           JWST            image   jw02561001004_10101_00006_nrcblong ...    1795    100380027     PUBLIC           2\n",
       "100379152           JWST            image   jw02561001004_10101_00007_nrcblong ...    1795    100380027     PUBLIC           2\n",
       "100379288           JWST            image   jw02561001004_10101_00008_nrcblong ...    1795    100380027     PUBLIC           2\n",
       "100379011           JWST            image   jw02561001004_10101_00006_nrcalong ...    1795    100380027     PUBLIC           2\n",
       "100379278           JWST            image   jw02561001004_10101_00003_nrcblong ...    1795    100380027     PUBLIC           2\n",
       "100379148           JWST            image   jw02561001004_10101_00005_nrcblong ...    1795    100380027     PUBLIC           2\n",
       "100379150           JWST            image   jw02561001004_10101_00002_nrcblong ...    1795    100380027     PUBLIC           2\n",
       "100378998           JWST            image   jw02561001004_10101_00005_nrcalong ...    1795    100380027     PUBLIC           2\n",
       "100379214           JWST            image   jw02561001004_10101_00004_nrcblong ...    1795    100380027     PUBLIC           2\n",
       "100379001           JWST            image   jw02561001004_10101_00003_nrcalong ...    1795    100380027     PUBLIC           2\n",
       "100379036           JWST            image   jw02561001004_10101_00004_nrcalong ...    1795    100380027     PUBLIC           2\n",
       "100379060           JWST            image   jw02561001004_10101_00008_nrcalong ...    1795    100380027     PUBLIC           2\n",
       "100379170           JWST            image   jw02561001004_10101_00001_nrcblong ...    1795    100380027     PUBLIC           2\n",
       "      ...            ...              ...                                  ... ...     ...          ...        ...         ...\n",
       "101003883           JWST            image      jw02561003001_06101_00001_nrca1 ...  875520    101124318     PUBLIC           1\n",
       "101003883           JWST            image      jw02561003001_06101_00001_nrca1 ... 2465280    101124318     PUBLIC           2\n",
       "101003883           JWST            image      jw02561003001_06101_00001_nrca1 ...  803520    101124318     PUBLIC           1\n",
       "101003883           JWST            image      jw02561003001_06101_00001_nrca1 ...  878400    101124318     PUBLIC           1\n",
       "101003883           JWST            image      jw02561003001_06101_00001_nrca1 ... 2465280    101124318     PUBLIC           2\n",
       "101003883           JWST            image      jw02561003001_06101_00001_nrca1 ...  803520    101124318     PUBLIC           1\n",
       "101003883           JWST            image      jw02561003001_06101_00001_nrca1 ...  878400    101124318     PUBLIC           1\n",
       "101003883           JWST            image      jw02561003001_06101_00001_nrca1 ... 2459520    101124318     PUBLIC           2\n",
       "101003883           JWST            image      jw02561003001_06101_00001_nrca1 ...  803520    101124318     PUBLIC           1\n",
       "101003883           JWST            image      jw02561003001_06101_00001_nrca1 ...  875520    101124318     PUBLIC           1\n",
       "101003883           JWST            image      jw02561003001_06101_00001_nrca1 ... 2459520    101124318     PUBLIC           2\n",
       "101003883           JWST            image      jw02561003001_06101_00001_nrca1 ...  803520    101124318     PUBLIC           1\n",
       "101003883           JWST            image      jw02561003001_06101_00001_nrca1 ...  875520    101124318     PUBLIC           1\n",
       "101124318           JWST            image jw02561-o003_t006_nircam_clear-f200w ...  772429    101124318     PUBLIC           3"
      ]
     },
     "execution_count": 41,
     "metadata": {},
     "output_type": "execute_result"
    }
   ],
   "source": [
    "# unpack obs list into a Table with each entry corresponding to a unique file\n",
    "t = [Observations.get_product_list(o) for o in obs]\n",
    "files = unique(vstack(t), keys='productFilename')\n",
    "files"
   ]
  },
  {
   "cell_type": "markdown",
   "id": "868dadb5-6478-4622-8ef2-50c991b35f42",
   "metadata": {},
   "source": [
    "## 2.A First look at \"level 3\" STScI pipeline reduced coadded images "
   ]
  },
  {
   "cell_type": "code",
   "execution_count": null,
   "id": "8b5d558d-ca32-498b-8013-957a8b25def9",
   "metadata": {},
   "outputs": [],
   "source": [
    "# only select \"level3\" reduced rectified 2D image (i2d.fits)\n",
    "lvl3 = (files['calib_level'] == 3)\n",
    "files_lvl3 = vstack( [f for f in files[lvl3] if 'i2d.fits' in f['dataURI']] )\n",
    "files_lvl3"
   ]
  },
  {
   "cell_type": "code",
   "execution_count": null,
   "id": "66beac1a",
   "metadata": {},
   "outputs": [],
   "source": [
    "# download only the first of the two files  \n",
    "manifest = Observations.download_products(files_lvl3[0])\n",
    "\n",
    "# add curl flag to get a download script\n",
    "# manifest = Observations.download_products(files_lvl3, curl_flag=True)"
   ]
  },
  {
   "cell_type": "code",
   "execution_count": null,
   "id": "1f413277",
   "metadata": {
    "tags": []
   },
   "outputs": [],
   "source": [
    "! find . \n",
    "# inspect the pipeline reduced files in ds9"
   ]
  },
  {
   "cell_type": "markdown",
   "id": "06c0a573-8b08-4e14-8490-020eec5310be",
   "metadata": {},
   "source": [
    "## 2.B download level 2b calibrated frames"
   ]
  },
  {
   "cell_type": "code",
   "execution_count": null,
   "id": "3b3ab596",
   "metadata": {},
   "outputs": [],
   "source": [
    "# download level 2b products (calibrated individual frames ending in _cal.fits)\n",
    "lvl2 = (files['calib_level'] == 2) & (files['productType'] == 'SCIENCE')\n",
    "files_lvl2 = vstack( [f for f in files[lvl2] if 'cal.fits' in f['dataURI']] )\n",
    "\n",
    "files_lvl2[0]"
   ]
  },
  {
   "cell_type": "code",
   "execution_count": 40,
   "id": "2a357645",
   "metadata": {},
   "outputs": [
    {
     "name": "stdout",
     "output_type": "stream",
     "text": [
      "Downloading URL https://mast.stsci.edu/api/v0.1/Download/file?uri=mast:JWST/product/jw02561001002_02101_00001_nrcalong_cal.fits to ./mastDownload/JWST/jw02561001002_02101_00001_nrcalong/jw02561001002_02101_00001_nrcalong_cal.fits ... [Done]\n",
      "Downloading URL https://mast.stsci.edu/api/v0.1/Download/file?uri=mast:JWST/product/jw02561001002_02101_00001_nrcblong_cal.fits to ./mastDownload/JWST/jw02561001002_02101_00001_nrcblong/jw02561001002_02101_00001_nrcblong_cal.fits ... [Done]\n",
      "Downloading URL https://mast.stsci.edu/api/v0.1/Download/file?uri=mast:JWST/product/jw02561001002_02101_00002_nrcalong_cal.fits to ./mastDownload/JWST/jw02561001002_02101_00002_nrcalong/jw02561001002_02101_00002_nrcalong_cal.fits ... [Done]\n",
      "Downloading URL https://mast.stsci.edu/api/v0.1/Download/file?uri=mast:JWST/product/jw02561001002_02101_00002_nrcblong_cal.fits to ./mastDownload/JWST/jw02561001002_02101_00002_nrcblong/jw02561001002_02101_00002_nrcblong_cal.fits ... [Done]\n",
      "Downloading URL https://mast.stsci.edu/api/v0.1/Download/file?uri=mast:JWST/product/jw02561001002_02101_00003_nrcalong_cal.fits to ./mastDownload/JWST/jw02561001002_02101_00003_nrcalong/jw02561001002_02101_00003_nrcalong_cal.fits ... [Done]\n",
      "Downloading URL https://mast.stsci.edu/api/v0.1/Download/file?uri=mast:JWST/product/jw02561001002_02101_00003_nrcblong_cal.fits to ./mastDownload/JWST/jw02561001002_02101_00003_nrcblong/jw02561001002_02101_00003_nrcblong_cal.fits ... [Done]\n",
      "Downloading URL https://mast.stsci.edu/api/v0.1/Download/file?uri=mast:JWST/product/jw02561001002_02101_00004_nrcalong_cal.fits to ./mastDownload/JWST/jw02561001002_02101_00004_nrcalong/jw02561001002_02101_00004_nrcalong_cal.fits ... [Done]\n",
      "Downloading URL https://mast.stsci.edu/api/v0.1/Download/file?uri=mast:JWST/product/jw02561001002_02101_00004_nrcblong_cal.fits to ./mastDownload/JWST/jw02561001002_02101_00004_nrcblong/jw02561001002_02101_00004_nrcblong_cal.fits ... [Done]\n"
     ]
    }
   ],
   "source": [
    "# download only the first 8 files (4 exposures of each a/b module)  \n",
    "manifest = Observations.download_products(files_lvl2[0:8])"
   ]
  },
  {
   "cell_type": "markdown",
   "id": "318b32c2-5b29-49fb-bb51-e38a62e6371f",
   "metadata": {},
   "source": [
    "# Reduction of level 2b cal frames with Grizli"
   ]
  },
  {
   "cell_type": "code",
   "execution_count": 98,
   "id": "c64a3c3a",
   "metadata": {},
   "outputs": [
    {
     "name": "stdout",
     "output_type": "stream",
     "text": [
      "/Users/ivo/Astro/PROJECTS/JWST/crds_cache\n",
      "https://jwst-crds.stsci.edu\n"
     ]
    }
   ],
   "source": [
    "print(os.environ['CRDS_PATH'])\n",
    "print(os.environ[\"CRDS_SERVER_URL\"])\n",
    "#os.environ['CRDS_CONTEXT'] = 'jwst_0863.pmap'\n",
    "#print(os.environ['CRDS_CONTEXT'])"
   ]
  },
  {
   "cell_type": "code",
   "execution_count": 14,
   "id": "32e32644-75e3-4b7b-bd5c-80ef8f871c52",
   "metadata": {},
   "outputs": [
    {
     "name": "stdout",
     "output_type": "stream",
     "text": [
      "Grizli version:  1.7\n",
      "cp: RAW/jw02561001002_02101_00003_nrcalong_cal.fits and ./RAW/jw02561001002_02101_00003_nrcalong_cal.fits are identical (not copied).\n",
      "cp: RAW/jw02561001002_02101_00002_nrcalong_cal.fits and ./RAW/jw02561001002_02101_00002_nrcalong_cal.fits are identical (not copied).\n",
      "cp: RAW/jw02561001002_02101_00001_nrcalong_cal.fits and ./RAW/jw02561001002_02101_00001_nrcalong_cal.fits are identical (not copied).\n",
      "cp: RAW/jw02561001002_02101_00004_nrcalong_cal.fits and ./RAW/jw02561001002_02101_00004_nrcalong_cal.fits are identical (not copied).\n",
      "cp: RAW/jw02561001002_02101_00001_nrcblong_cal.fits and ./RAW/jw02561001002_02101_00001_nrcblong_cal.fits are identical (not copied).\n",
      "cp: RAW/jw02561001002_02101_00004_nrcblong_cal.fits and ./RAW/jw02561001002_02101_00004_nrcblong_cal.fits are identical (not copied).\n",
      "cp: RAW/jw02561001002_02101_00003_nrcblong_cal.fits and ./RAW/jw02561001002_02101_00003_nrcblong_cal.fits are identical (not copied).\n",
      "cp: RAW/jw02561001002_02101_00002_nrcblong_cal.fits and ./RAW/jw02561001002_02101_00002_nrcblong_cal.fits are identical (not copied).\n",
      "--2022-12-02 12:55:20--  https://archive.stsci.edu/pub/hlsp/frontier/abell2744/images/hst/v1.0-epoch2/hlsp_frontier_hst_acs-60mas-selfcal_abell2744_f814w_v1.0-epoch2_drz.fits\n",
      "Resolving archive.stsci.edu (archive.stsci.edu)... 130.167.201.60\n",
      "Connecting to archive.stsci.edu (archive.stsci.edu)|130.167.201.60|:443... connected.\n",
      "HTTP request sent, awaiting response... 200 OK\n",
      "Length: 132330240 (126M) [allicashion/octet-stream]\n",
      "Saving to: 'hlsp_frontier_hst_acs-60mas-selfcal_abell2744_f814w_v1.0-epoch2_drz.fits.1'\n",
      "\n",
      "hlsp_frontier_hst_a 100%[===================>] 126.20M  6.74MB/s    in 35s     \n",
      "\n",
      "2022-12-02 12:55:57 (3.56 MB/s) - 'hlsp_frontier_hst_acs-60mas-selfcal_abell2744_f814w_v1.0-epoch2_drz.fits.1' saved [132330240/132330240]\n",
      "\n"
     ]
    }
   ],
   "source": [
    "# setup paths and files for grizli\n",
    "from pathlib import Path\n",
    "from glob import glob\n",
    "\n",
    "import os\n",
    "import grizli\n",
    "from grizli import utils, prep, jwst_utils, multifit\n",
    "from grizli.pipeline import auto_script\n",
    "print('Grizli version: ', grizli.__version__)\n",
    "\n",
    "# This rootname used throughout\n",
    "root='uncover'            \n",
    "\n",
    "# Some directories needed for grizli \n",
    "if 'HOME_PATH' not in locals(): HOME_PATH=os.getcwd()\n",
    "working_dir = 'Prep'   # hardcoded in autoscript grizli... beware !\n",
    "raw_dir = '../RAW'\n",
    "\n",
    "Path(working_dir).mkdir(exist_ok=True)\n",
    "os.chdir(HOME_PATH+'/'+working_dir)\n",
    "Path(raw_dir).mkdir(exist_ok=True)\n",
    "os.chdir(HOME_PATH)\n",
    "\n",
    "# copy cal files into RAW directory\n",
    "! find . -name \"*cal.fits\" -exec cp {} RAW \\;\n",
    "\n",
    "# download 60mas F814W image from MAST archive\n",
    "# note: may want to use 30mas for better resolution\n",
    "# https://archive.stsci.edu/pub/hlsp/frontier/abell2744/images/hst/v1.0-epoch2/hlsp_frontier_hst_acs-30mas_abell2744_f814w_v1.0-epoch2_drz.fits\n",
    "! wget https://archive.stsci.edu/pub/hlsp/frontier/abell2744/images/hst/v1.0-epoch2/hlsp_frontier_hst_acs-60mas-selfcal_abell2744_f814w_v1.0-epoch2_drz.fits\n",
    "! cp pub/hlsp/frontier/abell2744/images/hst/v1.0-epoch2/hlsp_frontier_hst_acs-60mas-selfcal_abell2744_f814w_v1.0-epoch2_drz.fits hst_abell2744_f814w.fits"
   ]
  },
  {
   "cell_type": "code",
   "execution_count": 15,
   "id": "b6a73275-9c1a-4b3b-aa43-9c937e43a0be",
   "metadata": {},
   "outputs": [
    {
     "data": {
      "text/html": [
       "<div><i>Table length=8</i>\n",
       "<table id=\"table140162682392432\" class=\"table-striped table-bordered table-condensed\">\n",
       "<thead><tr><th>FILE</th><th>FILTER</th><th>PUPIL</th><th>INSTRUME</th><th>DETECTOR</th><th>TARGNAME</th><th>DATE-OBS</th><th>TIME-OBS</th><th>EXPSTART</th><th>EXPTIME</th><th>PA_V3</th><th>RA_TARG</th><th>DEC_TARG</th><th>POSTARG1</th><th>POSTARG2</th></tr></thead>\n",
       "<thead><tr><th>str43</th><th>str17</th><th>str5</th><th>str6</th><th>str8</th><th>str16</th><th>str10</th><th>str12</th><th>float64</th><th>float64</th><th>float64</th><th>float64</th><th>float64</th><th>float64</th><th>float64</th></tr></thead>\n",
       "<tr><td>jw02561001002_02101_00003_nrcalong_cal.fits</td><td>NRCA5-F277W-CLEAR</td><td>CLEAR</td><td>NIRCAM</td><td>NRCALONG</td><td>ABELL2744-PREIMG</td><td>2022-11-02</td><td>08:58:12.376</td><td>59885.37375435382</td><td>837.468</td><td>41.33649879566452</td><td>3.5760475</td><td>-30.37945555555558</td><td>nan</td><td>nan</td></tr>\n",
       "<tr><td>jw02561001002_02101_00002_nrcalong_cal.fits</td><td>NRCA5-F277W-CLEAR</td><td>CLEAR</td><td>NIRCAM</td><td>NRCALONG</td><td>ABELL2744-PREIMG</td><td>2022-11-02</td><td>08:42:38.232</td><td>59885.36294250197</td><td>837.468</td><td>41.33780687139559</td><td>3.5760475</td><td>-30.37945555555558</td><td>nan</td><td>nan</td></tr>\n",
       "<tr><td>jw02561001002_02101_00001_nrcalong_cal.fits</td><td>NRCA5-F277W-CLEAR</td><td>CLEAR</td><td>NIRCAM</td><td>NRCALONG</td><td>ABELL2744-PREIMG</td><td>2022-11-02</td><td>08:27:04.153</td><td>59885.35213140243</td><td>837.468</td><td>41.33863158684239</td><td>3.5760475</td><td>-30.37945555555558</td><td>nan</td><td>nan</td></tr>\n",
       "<tr><td>jw02561001002_02101_00004_nrcalong_cal.fits</td><td>NRCA5-F277W-CLEAR</td><td>CLEAR</td><td>NIRCAM</td><td>NRCALONG</td><td>ABELL2744-PREIMG</td><td>2022-11-02</td><td>09:13:46.455</td><td>59885.38456545336</td><td>837.468</td><td>41.33514613828189</td><td>3.5760475</td><td>-30.37945555555558</td><td>nan</td><td>nan</td></tr>\n",
       "<tr><td>jw02561001002_02101_00001_nrcblong_cal.fits</td><td>NRCB5-F277W-CLEAR</td><td>CLEAR</td><td>NIRCAM</td><td>NRCBLONG</td><td>ABELL2744-PREIMG</td><td>2022-11-02</td><td>08:27:04.153</td><td>59885.35213140243</td><td>837.468</td><td>41.33863158684239</td><td>3.5760475</td><td>-30.37945555555558</td><td>nan</td><td>nan</td></tr>\n",
       "<tr><td>jw02561001002_02101_00004_nrcblong_cal.fits</td><td>NRCB5-F277W-CLEAR</td><td>CLEAR</td><td>NIRCAM</td><td>NRCBLONG</td><td>ABELL2744-PREIMG</td><td>2022-11-02</td><td>09:13:46.455</td><td>59885.38456545336</td><td>837.468</td><td>41.33514613828189</td><td>3.5760475</td><td>-30.37945555555558</td><td>nan</td><td>nan</td></tr>\n",
       "<tr><td>jw02561001002_02101_00003_nrcblong_cal.fits</td><td>NRCB5-F277W-CLEAR</td><td>CLEAR</td><td>NIRCAM</td><td>NRCBLONG</td><td>ABELL2744-PREIMG</td><td>2022-11-02</td><td>08:58:12.312</td><td>59885.37375361308</td><td>837.468</td><td>41.33649879566526</td><td>3.5760475</td><td>-30.37945555555558</td><td>nan</td><td>nan</td></tr>\n",
       "<tr><td>jw02561001002_02101_00002_nrcblong_cal.fits</td><td>NRCB5-F277W-CLEAR</td><td>CLEAR</td><td>NIRCAM</td><td>NRCBLONG</td><td>ABELL2744-PREIMG</td><td>2022-11-02</td><td>08:42:38.232</td><td>59885.36294250197</td><td>837.468</td><td>41.33780687139559</td><td>3.5760475</td><td>-30.37945555555558</td><td>nan</td><td>nan</td></tr>\n",
       "</table></div>"
      ],
      "text/plain": [
       "<Table length=8>\n",
       "                    FILE                          FILTER      PUPIL INSTRUME DETECTOR ...       PA_V3        RA_TARG       DEC_TARG      POSTARG1 POSTARG2\n",
       "                   str43                          str17        str5   str6     str8   ...      float64       float64       float64       float64  float64 \n",
       "------------------------------------------- ----------------- ----- -------- -------- ... ----------------- --------- ------------------ -------- --------\n",
       "jw02561001002_02101_00003_nrcalong_cal.fits NRCA5-F277W-CLEAR CLEAR   NIRCAM NRCALONG ... 41.33649879566452 3.5760475 -30.37945555555558      nan      nan\n",
       "jw02561001002_02101_00002_nrcalong_cal.fits NRCA5-F277W-CLEAR CLEAR   NIRCAM NRCALONG ... 41.33780687139559 3.5760475 -30.37945555555558      nan      nan\n",
       "jw02561001002_02101_00001_nrcalong_cal.fits NRCA5-F277W-CLEAR CLEAR   NIRCAM NRCALONG ... 41.33863158684239 3.5760475 -30.37945555555558      nan      nan\n",
       "jw02561001002_02101_00004_nrcalong_cal.fits NRCA5-F277W-CLEAR CLEAR   NIRCAM NRCALONG ... 41.33514613828189 3.5760475 -30.37945555555558      nan      nan\n",
       "jw02561001002_02101_00001_nrcblong_cal.fits NRCB5-F277W-CLEAR CLEAR   NIRCAM NRCBLONG ... 41.33863158684239 3.5760475 -30.37945555555558      nan      nan\n",
       "jw02561001002_02101_00004_nrcblong_cal.fits NRCB5-F277W-CLEAR CLEAR   NIRCAM NRCBLONG ... 41.33514613828189 3.5760475 -30.37945555555558      nan      nan\n",
       "jw02561001002_02101_00003_nrcblong_cal.fits NRCB5-F277W-CLEAR CLEAR   NIRCAM NRCBLONG ... 41.33649879566526 3.5760475 -30.37945555555558      nan      nan\n",
       "jw02561001002_02101_00002_nrcblong_cal.fits NRCB5-F277W-CLEAR CLEAR   NIRCAM NRCBLONG ... 41.33780687139559 3.5760475 -30.37945555555558      nan      nan"
      ]
     },
     "execution_count": 15,
     "metadata": {},
     "output_type": "execute_result"
    }
   ],
   "source": [
    "# go into Prep working director, parse file list\n",
    "os.chdir(os.path.join(HOME_PATH, working_dir))\n",
    "os.getcwd()\n",
    "\n",
    "files = glob(raw_dir+'/*_cal.fits*')\n",
    "info = utils.get_flt_info(files=files)\n",
    "info"
   ]
  },
  {
   "cell_type": "code",
   "execution_count": 17,
   "id": "12478c44-323f-4d7d-a722-ecb9bed1dc36",
   "metadata": {
    "tags": []
   },
   "outputs": [
    {
     "name": "stderr",
     "output_type": "stream",
     "text": [
      "2022-12-02 12:55:58,919 - stpipe - WARNING - /Users/ivo/anaconda/envs/jadc_nircam/lib/python3.9/site-packages/astropy/wcs/wcs.py:725: FITSFixedWarning: 'obsfix' made the change 'Set OBSGEO-L to    63.263556 from OBSGEO-[XYZ].\n",
      "Set OBSGEO-B to    28.494908 from OBSGEO-[XYZ].\n",
      "Set OBSGEO-H to 1394727362.015 from OBSGEO-[XYZ]'.\n",
      "  warnings.warn(\n",
      "\n",
      "2022-12-02 12:55:58,935 - stpipe - WARNING - /Users/ivo/anaconda/envs/jadc_nircam/lib/python3.9/site-packages/astropy/wcs/wcs.py:725: FITSFixedWarning: 'obsfix' made the change 'Set OBSGEO-L to    63.281076 from OBSGEO-[XYZ].\n",
      "Set OBSGEO-B to    28.491626 from OBSGEO-[XYZ].\n",
      "Set OBSGEO-H to 1394836264.421 from OBSGEO-[XYZ]'.\n",
      "  warnings.warn(\n",
      "\n",
      "2022-12-02 12:55:58,951 - stpipe - WARNING - /Users/ivo/anaconda/envs/jadc_nircam/lib/python3.9/site-packages/astropy/wcs/wcs.py:725: FITSFixedWarning: 'obsfix' made the change 'Set OBSGEO-L to    63.299758 from OBSGEO-[XYZ].\n",
      "Set OBSGEO-B to    28.488124 from OBSGEO-[XYZ].\n",
      "Set OBSGEO-H to 1394952435.627 from OBSGEO-[XYZ]'.\n",
      "  warnings.warn(\n",
      "\n",
      "2022-12-02 12:55:58,967 - stpipe - WARNING - /Users/ivo/anaconda/envs/jadc_nircam/lib/python3.9/site-packages/astropy/wcs/wcs.py:725: FITSFixedWarning: 'obsfix' made the change 'Set OBSGEO-L to    63.317268 from OBSGEO-[XYZ].\n",
      "Set OBSGEO-B to    28.484837 from OBSGEO-[XYZ].\n",
      "Set OBSGEO-H to 1395061354.150 from OBSGEO-[XYZ]'.\n",
      "  warnings.warn(\n",
      "\n"
     ]
    },
    {
     "name": "stdout",
     "output_type": "stream",
     "text": [
      "# (2022-12-02 01:55:58.849)\n",
      "\n",
      "auto_script.parse_visits(**{'files': ['../RAW/jw02561001002_02101_00001_nrcalong_cal.fits', '../RAW/jw02561001002_02101_00001_nrcblong_cal.fits', '../RAW/jw02561001002_02101_00002_nrcalong_cal.fits', '../RAW/jw02561001002_02101_00002_nrcblong_cal.fits', '../RAW/jw02561001002_02101_00003_nrcalong_cal.fits', '../RAW/jw02561001002_02101_00003_nrcblong_cal.fits', '../RAW/jw02561001002_02101_00004_nrcalong_cal.fits', '../RAW/jw02561001002_02101_00004_nrcblong_cal.fits'], 'field_root': 'uncover', 'RAW_PATH': '../RAW', 'use_visit': True, 'combine_same_pa': False, 'combine_minexp': 2, 'is_dash': False, 'filters': ['F410M', 'F467M', 'F547M', 'F550M', 'F621M', 'F689M', 'F763M', 'F845M', 'F200LP', 'F350LP', 'F435W', 'F438W', 'F439W', 'F450W', 'F475W', 'F475X', 'F555W', 'F569W', 'F600LP', 'F606W', 'F622W', 'F625W', 'F675W', 'F702W', 'F775W', 'F791W', 'F814W', 'F850LP', 'G800L', 'F098M', 'F127M', 'F139M', 'F153M', 'F105W', 'F110W', 'F125W', 'F140W', 'F160W', 'G102', 'G141', 'F070W', 'F090W', 'F1000W', 'F1130W', 'F115W', 'F1280W', 'F140M', 'F1500W', 'F150W', 'F150W2', 'F158M', 'F162M', 'F164N', 'F1800W', 'F182M', 'F187N', 'F200W', 'F2100W', 'F210M', 'F212N', 'F250M', 'F2550W', 'F277W', 'F300M', 'F322W2', 'F323N', 'F335M', 'F356W', 'F360M', 'F380M', 'F405N', 'F410M', 'F430M', 'F444W', 'F460M', 'F466N', 'F470N', 'F480M', 'F560W', 'F770W', 'GR150C', 'GR150R', 'GRISMR', 'GRISMC'], 'max_dt': 1000000000.0, 'visit_split_shift': 0, 'file_query': '*'})\n",
      "\n",
      "ABELL2744-PREIMG-02561-001-041.0-NRCA5-F277W-CLEAR 4\n",
      "ABELL2744-PREIMG-02561-001-041.0-NRCB5-F277W-CLEAR 4\n",
      "** Combine Singles: **\n",
      "0 abell2744-preimg-02561-001-041.0-nrca5-f277w-clear 4\n",
      "1 abell2744-preimg-02561-001-041.0-nrcb5-f277w-clear 4\n",
      "\n",
      " == Grism groups ==\n",
      "\n"
     ]
    }
   ],
   "source": [
    "# from file list create visit groups \n",
    "visits, all_groups, info = auto_script.parse_visits(field_root=root,\n",
    "                                                    visit_split_shift=0,\n",
    "                                                    files=files,\n",
    "                                                    combine_same_pa=False,\n",
    "                                                    RAW_PATH=raw_dir)"
   ]
  },
  {
   "cell_type": "code",
   "execution_count": 11,
   "id": "b5ab8a17-d1f5-4fe1-98fc-274d6b82a49d",
   "metadata": {},
   "outputs": [],
   "source": [
    "from grizli.pipeline.auto_script import get_yml_parameters\n",
    "\n",
    "# Read the default parameters that can be edited and passed en-masse to `auto_script.go`\n",
    "kwargs = get_yml_parameters()\n",
    "\n",
    "# Parameter lists\n",
    "visit_prep_args = kwargs['visit_prep_args']\n",
    "preprocess_args = kwargs['preprocess_args']\n",
    "\n",
    "# Maximum shift for \"tweakshifts\" relative alignment\n",
    "visit_prep_args['tweak_max_dist'] = 3.\n",
    "\n",
    "# Will fit and subtract a SExtractor-like background to each visit\n",
    "# filter size is bh x pixel_scale arcsec, which is then interpreted\n",
    "# at the pixel scale of each intrument\n",
    "visit_prep_args['imaging_bkg_params']  = {'bh': 256, 'bw': 256, 'fh': 3, 'fw': 3,\n",
    "                                          'pixel_scale': 0.06, 'get_median': False}\n",
    "\n",
    "# External alignment reference catalogs, searched in this order\n",
    "# LS_DR9 is a good option for fairly high source density and sky coverage, deeper than PS1\n",
    "# GAIA preferred of course, but source density isn't usually very high for\n",
    "# extragalactic fields\n",
    "visit_prep_args['reference_catalogs'] = ['PS1','GAIA','SDSS','WISE']\n",
    "\n",
    "# we dont have a master reference file \n",
    "# Use the alignment catalog we made earlier, which will supercede `reference_catalogs`\n",
    "# preprocess_args['master_radec'] = os.path.join(HOME_PATH, 'uncover.radec') # (with absolute path)\n"
   ]
  },
  {
   "cell_type": "code",
   "execution_count": 12,
   "id": "77130c2c-5bc9-47e0-a51e-89a91d25ef37",
   "metadata": {},
   "outputs": [
    {
     "name": "stdout",
     "output_type": "stream",
     "text": [
      "CRDS_CONTEXT:  jwst_1017.pmap\n",
      "/Users/ivo/Astro/PROJECTS/UNCOVER/work/reduce/jadc/Prep\n"
     ]
    }
   ],
   "source": [
    "# use calibration context of images \n",
    "from astropy.io import fits\n",
    "im = fits.open(glob('../RAW/*_cal.fits*')[0])\n",
    "print('CRDS_CONTEXT: ', im[0].header['CRDS_CTX'])\n",
    "os.environ['CRDS_CONTEXT'] = im[0].header['CRDS_CTX']\n",
    "print(os.getcwd())"
   ]
  },
  {
   "cell_type": "code",
   "execution_count": 12,
   "id": "90d25cbd-ceca-4479-86d3-e2a2f137489a",
   "metadata": {
    "collapsed": true,
    "jupyter": {
     "outputs_hidden": true
    },
    "tags": []
   },
   "outputs": [
    {
     "name": "stdout",
     "output_type": "stream",
     "text": [
      "# (2022-12-01 14:24:02.281)\n",
      "\n",
      "auto_script.preprocess(**{'field_root': 'uncover', 'HOME_PATH': '/Users/ivo/Astro/PROJECTS/UNCOVER/work/reduce/jadc', 'PERSIST_PATH': None, 'min_overlap': 0.2, 'make_combined': False, 'catalogs': ['PS1', 'DES', 'NSC', 'SDSS', 'GAIA', 'WISE'], 'use_visit': True, 'master_radec': None, 'parent_radec': None, 'use_first_radec': False, 'skip_imaging': False, 'clean': True, 'skip_single_optical_visits': False, 'visit_prep_args': {'align_thresh': None, 'align_rms_limit': 2, 'align_mag_limits': [14, 24, 0.05], 'align_assume_close': False, 'align_transform': None, 'align_ref_border': 100, 'max_err_percentile': 99, 'align_min_flux_radius': 1.0, 'catalog_mask_pad': 0.05, 'match_catalog_density': False, 'skymethod': 'localmin', 'drizzle_params': {}, 'single_image_CRs': True, 'run_tweak_align': False, 'tweak_threshold': 1.5, 'tweak_fit_order': -1, 'tweak_max_dist': 3.0, 'tweak_n_min': 10, 'tweak_ref_exp': 0, 'align_simple': False, 'align_clip': 120, 'column_average': True, 'sky_iter': 10, 'iter_atol': 0.0001, 'imaging_bkg_params': {'bh': 256, 'bw': 256, 'fh': 3, 'fw': 3, 'pixel_scale': 0.06, 'get_median': False}, 'run_separate_chip_sky': True, 'fix_stars': True, 'reference_catalogs': ['PS1', 'GAIA', 'SDSS', 'WISE'], 'outlier_threshold': 4, 'nircam_wisp_kwargs': {'niter': 3, 'update': True}, 'oneoverf_kwargs': {'thresholds': [5, 4, 3], 'dilate_iterations': 3, 'deg_pix': 64}, 'snowball_kwargs': {'snowball_erode': 4, 'snowball_dilate': 18, 'mask_bit': 1024, 'instruments': ['NIRCAM', 'NIRISS']}, 'miri_skyflat': False, 'miri_skyfile': None, 'use_skyflats': True}, 'persistence_args': {'dq_value': 1024, 'err_threshold': 0.5, 'grow_mask': 3, 'verbose': True, 'reset': False}})\n",
      "\n",
      "abell2744-preimg-02561-001-041.0-nrca5-f277w-clear\n",
      "\n",
      "\n",
      "\n",
      "abell2744-preimg-02561-001-041.0-nrca5-f277w-clear radec: None (0.00)\n",
      "\n",
      "\n",
      "\n",
      "# (2022-12-01 14:24:02.317)\n",
      "\n",
      "prep.process_direct_grism_visit(**{'direct': {'files': ['jw02561001002_02101_00001_nrcalong_cal.fits', 'jw02561001002_02101_00002_nrcalong_cal.fits', 'jw02561001002_02101_00003_nrcalong_cal.fits', 'jw02561001002_02101_00004_nrcalong_cal.fits'], 'footprint': <shapely.geometry.polygon.Polygon object at 0x7fbf28dac5e0>, 'product': 'abell2744-preimg-02561-001-041.0-nrca5-f277w-clear'}, 'grism': {}, 'radec': None, 'outlier_threshold': 4, 'align_clip': 120, 'align_thresh': None, 'align_mag_limits': [14, 24, 0.05], 'align_rms_limit': 2, 'align_triangle_ba_max': 0.9, 'align_ref_border': 100, 'align_min_flux_radius': 1.0, 'align_assume_close': False, 'align_transform': None, 'max_err_percentile': 99, 'catalog_mask_pad': 0.05, 'match_catalog_density': False, 'column_average': True, 'sky_iter': 10, 'run_tweak_align': False, 'tweak_fit_order': -1, 'skip_direct': False, 'fix_stars': True, 'tweak_max_dist': 3.0, 'tweak_n_min': 10, 'tweak_threshold': 1.5, 'tweak_ref_exp': 0, 'align_simple': False, 'single_image_CRs': True, 'skymethod': 'localmin', 'drizzle_params': {}, 'iter_atol': 0.0001, 'imaging_bkg_params': {'bh': 256, 'bw': 256, 'fh': 3, 'fw': 3, 'pixel_scale': 0.06, 'get_median': False}, 'run_separate_chip_sky': True, 'separate_chip_kwargs': {}, 'reference_catalogs': ['PS1', 'GAIA', 'SDSS', 'WISE'], 'use_self_catalog': False, 'nircam_wisp_kwargs': {'niter': 3, 'update': True}, 'oneoverf_kwargs': {'thresholds': [5, 4, 3], 'dilate_iterations': 3, 'deg_pix': 64}, 'snowball_kwargs': {'snowball_erode': 4, 'snowball_dilate': 18, 'mask_bit': 1024, 'instruments': ['NIRCAM', 'NIRISS']}, 'miri_skyflat': False, 'miri_skyfile': None, 'use_skyflats': True})\n",
      "\n",
      "# ../RAW/jw02561001002_02101_00001_nrcalong_cal.fits -> jw02561001002_02101_00001_nrcalong_cal.fits \n",
      "# (2022-12-01 14:24:02.604)\n",
      "\n",
      "jwst_utils.initialize_jwst_image(**{'filename': 'jw02561001002_02101_00001_nrcalong_cal.fits', 'verbose': True, 'max_dq_bit': 14, 'orig_keys': ['TELESCOP', 'INSTRUME', 'DETECTOR', 'FILTER', 'PUPIL', 'EXP_TYPE'], 'oneoverf_correction': True, 'oneoverf_kwargs': {'thresholds': [5, 4, 3], 'dilate_iterations': 3, 'deg_pix': 64}, 'use_skyflats': True})\n",
      "\n",
      "ENV CRDS_CONTEXT = jwst_1017.pmap\n",
      "OTELESCO = TELESCOP JWST\n",
      "OINSTRUM = INSTRUME NIRCAM\n",
      "ODETECTO = DETECTOR NRCALONG\n",
      "OFILTER = FILTER F277W\n",
      "OPUPIL = PUPIL CLEAR\n",
      "OEXP_TYP = EXP_TYPE NRC_IMAGE\n",
      "ENGQLPTG = CALCULATED_TR_202105\n",
      "TARGNAME > ABELL2744-PREIMG (no spaces)\n",
      "PFLTFILE = /Users/ivo/Astro/PROJECTS/JWST/crds_cache/references/jwst/nircam/jwst_nircam_flat_0502.fits\n",
      "Clip MAXDQBIT = 14\n",
      "initialize_jwst_image: Mask outer ring of 6 pixels for NRCALONG\n"
     ]
    },
    {
     "name": "stderr",
     "output_type": "stream",
     "text": [
      "2022-12-02 01:24:03,735 - stpipe - WARNING - /Users/ivo/anaconda/envs/jwst_nircam/lib/python3.9/site-packages/grizli/jwst_utils.py:895: RuntimeWarning: divide by zero encountered in divide\n",
      "  sn_mask = (sci - back)/err > thresholds[0]\n",
      "\n"
     ]
    },
    {
     "name": "stdout",
     "output_type": "stream",
     "text": [
      "exposure_oneoverf_correction: jw02561001002_02101_00001_nrcalong_cal.fits axis=1 deg_pix=64\n"
     ]
    },
    {
     "name": "stderr",
     "output_type": "stream",
     "text": [
      "2022-12-02 01:24:03,820 - stpipe - WARNING - /Users/ivo/anaconda/envs/jwst_nircam/lib/python3.9/site-packages/numpy/lib/nanfunctions.py:1095: RuntimeWarning: All-NaN slice encountered\n",
      "  result = np.apply_along_axis(_nanmedian1d, axis, a, overwrite_input)\n",
      "\n"
     ]
    },
    {
     "name": "stdout",
     "output_type": "stream",
     "text": [
      "exposure_oneoverf_correction: jw02561001002_02101_00001_nrcalong_cal.fits apply to file\n",
      "ENV CRDS_CONTEXT = jwst_1017.pmap\n",
      "jwst_utils.img_with_flat: Flat already applied\n",
      "jwst_utils.get_jwst_skyflat: /Users/ivo//Astro/SOFT/grizli/CONF/NircamSkyFlat/nrcalong-f277w-clear_skyflat_smooth.fits not found\n",
      "ENV CRDS_CONTEXT = jwst_1017.pmap\n",
      "jwst.assign_wcs.AssignWcsStep: /Users/ivo/Astro/PROJECTS/JWST/crds_cache/references/jwst/nircam/jwst_nircam_distortion_0156.asdf\n",
      "# (2022-12-01 14:24:06.274)\n",
      "\n",
      "jwst_utils.pipeline_model_wcs_header(**{'datamodel': <ImageModel(2048, 2048) from jw02561001002_02101_00001_nrcalong_cal.fits>, 'step': 64, 'degrees': [3, 4, 5, 5], 'lsq_args': {'jac': '2-point', 'bounds': (-inf, inf), 'method': 'trf', 'ftol': 1e-12, 'xtol': 1e-12, 'gtol': 1e-12, 'x_scale': 1.0, 'loss': 'soft_l1', 'f_scale': 1000.0, 'diff_step': 1e-06, 'tr_solver': None, 'tr_options': {}, 'jac_sparsity': None, 'max_nfev': 100, 'verbose': 0, 'kwargs': {}}, 'crpix': None, 'verbose': True, 'initial_header': None, 'max_rms': 0.0001, 'set_diff_step': False, 'get_guess': False, 'fast_coeffs': True})\n",
      "\n",
      "Fit SIP degree=3 rms= 7.87e-03, 8.14e-03 pix\n",
      "Fit SIP degree=4 rms= 6.48e-03, 5.74e-03 pix\n",
      "Fit SIP degree=5 rms= 4.50e-04, 4.52e-04 pix\n",
      "Fit SIP degree=5 rms= 4.50e-04, 4.52e-04 pix\n",
      "# photometry keywords\n",
      "PHOTFNU = 9.3078e-08\n",
      "PHOTPLAM = 27578.0\n",
      "PHOTFLAM = 3.6592e-21\n",
      "ZP = 26.48\n",
      "TO_MJYSR = 1.000\n",
      "\n",
      "# (2022-12-01 14:24:10.352)\n",
      "\n",
      "jwst_utils.set_jwst_to_hst_keywords(**{'input': 'jw02561001002_02101_00001_nrcalong_cal.fits', 'reset': False, 'verbose': True, 'orig_keys': ['TELESCOP', 'INSTRUME', 'DETECTOR', 'FILTER', 'PUPIL', 'EXP_TYPE']})\n",
      "\n",
      "  Set: TELESCOP > HST\n",
      "  Set: INSTRUME > WFC3\n",
      "  Set: DETECTOR > IR\n",
      "# ../RAW/jw02561001002_02101_00002_nrcalong_cal.fits -> jw02561001002_02101_00002_nrcalong_cal.fits \n",
      "# (2022-12-01 14:24:10.887)\n",
      "\n",
      "jwst_utils.initialize_jwst_image(**{'filename': 'jw02561001002_02101_00002_nrcalong_cal.fits', 'verbose': True, 'max_dq_bit': 14, 'orig_keys': ['TELESCOP', 'INSTRUME', 'DETECTOR', 'FILTER', 'PUPIL', 'EXP_TYPE'], 'oneoverf_correction': True, 'oneoverf_kwargs': {'thresholds': [5, 4, 3], 'dilate_iterations': 3, 'deg_pix': 64}, 'use_skyflats': True})\n",
      "\n",
      "ENV CRDS_CONTEXT = jwst_1017.pmap\n",
      "OTELESCO = TELESCOP JWST\n",
      "OINSTRUM = INSTRUME NIRCAM\n",
      "ODETECTO = DETECTOR NRCALONG\n",
      "OFILTER = FILTER F277W\n",
      "OPUPIL = PUPIL CLEAR\n",
      "OEXP_TYP = EXP_TYPE NRC_IMAGE\n",
      "ENGQLPTG = CALCULATED_TR_202105\n",
      "TARGNAME > ABELL2744-PREIMG (no spaces)\n",
      "PFLTFILE = /Users/ivo/Astro/PROJECTS/JWST/crds_cache/references/jwst/nircam/jwst_nircam_flat_0502.fits\n",
      "Clip MAXDQBIT = 14\n",
      "initialize_jwst_image: Mask outer ring of 6 pixels for NRCALONG\n"
     ]
    },
    {
     "name": "stderr",
     "output_type": "stream",
     "text": [
      "2022-12-02 01:24:11,956 - stpipe - WARNING - /Users/ivo/anaconda/envs/jwst_nircam/lib/python3.9/site-packages/grizli/jwst_utils.py:895: RuntimeWarning: divide by zero encountered in divide\n",
      "  sn_mask = (sci - back)/err > thresholds[0]\n",
      "\n",
      "2022-12-02 01:24:12,039 - stpipe - WARNING - /Users/ivo/anaconda/envs/jwst_nircam/lib/python3.9/site-packages/numpy/lib/nanfunctions.py:1095: RuntimeWarning: All-NaN slice encountered\n",
      "  result = np.apply_along_axis(_nanmedian1d, axis, a, overwrite_input)\n",
      "\n"
     ]
    },
    {
     "name": "stdout",
     "output_type": "stream",
     "text": [
      "exposure_oneoverf_correction: jw02561001002_02101_00002_nrcalong_cal.fits axis=1 deg_pix=64\n",
      "exposure_oneoverf_correction: jw02561001002_02101_00002_nrcalong_cal.fits apply to file\n",
      "ENV CRDS_CONTEXT = jwst_1017.pmap\n",
      "jwst_utils.img_with_flat: Flat already applied\n",
      "jwst_utils.get_jwst_skyflat: /Users/ivo//Astro/SOFT/grizli/CONF/NircamSkyFlat/nrcalong-f277w-clear_skyflat_smooth.fits not found\n",
      "ENV CRDS_CONTEXT = jwst_1017.pmap\n",
      "jwst.assign_wcs.AssignWcsStep: /Users/ivo/Astro/PROJECTS/JWST/crds_cache/references/jwst/nircam/jwst_nircam_distortion_0156.asdf\n",
      "# (2022-12-01 14:24:14.430)\n",
      "\n",
      "jwst_utils.pipeline_model_wcs_header(**{'datamodel': <ImageModel(2048, 2048) from jw02561001002_02101_00002_nrcalong_cal.fits>, 'step': 64, 'degrees': [3, 4, 5, 5], 'lsq_args': {'jac': '2-point', 'bounds': (-inf, inf), 'method': 'trf', 'ftol': 1e-12, 'xtol': 1e-12, 'gtol': 1e-12, 'x_scale': 1.0, 'loss': 'soft_l1', 'f_scale': 1000.0, 'diff_step': 1e-06, 'tr_solver': None, 'tr_options': {}, 'jac_sparsity': None, 'max_nfev': 100, 'verbose': 0, 'kwargs': {}}, 'crpix': None, 'verbose': True, 'initial_header': None, 'max_rms': 0.0001, 'set_diff_step': False, 'get_guess': False, 'fast_coeffs': True})\n",
      "\n",
      "Fit SIP degree=3 rms= 7.87e-03, 8.15e-03 pix\n",
      "Fit SIP degree=4 rms= 6.48e-03, 5.74e-03 pix\n",
      "Fit SIP degree=5 rms= 4.50e-04, 4.52e-04 pix\n",
      "Fit SIP degree=5 rms= 4.49e-04, 4.52e-04 pix\n",
      "# photometry keywords\n",
      "PHOTFNU = 9.3078e-08\n",
      "PHOTPLAM = 27578.0\n",
      "PHOTFLAM = 3.6592e-21\n",
      "ZP = 26.48\n",
      "TO_MJYSR = 1.000\n",
      "\n",
      "# (2022-12-01 14:24:18.073)\n",
      "\n",
      "jwst_utils.set_jwst_to_hst_keywords(**{'input': 'jw02561001002_02101_00002_nrcalong_cal.fits', 'reset': False, 'verbose': True, 'orig_keys': ['TELESCOP', 'INSTRUME', 'DETECTOR', 'FILTER', 'PUPIL', 'EXP_TYPE']})\n",
      "\n",
      "  Set: TELESCOP > HST\n",
      "  Set: INSTRUME > WFC3\n",
      "  Set: DETECTOR > IR\n",
      "# ../RAW/jw02561001002_02101_00003_nrcalong_cal.fits -> jw02561001002_02101_00003_nrcalong_cal.fits \n",
      "# (2022-12-01 14:24:18.598)\n",
      "\n",
      "jwst_utils.initialize_jwst_image(**{'filename': 'jw02561001002_02101_00003_nrcalong_cal.fits', 'verbose': True, 'max_dq_bit': 14, 'orig_keys': ['TELESCOP', 'INSTRUME', 'DETECTOR', 'FILTER', 'PUPIL', 'EXP_TYPE'], 'oneoverf_correction': True, 'oneoverf_kwargs': {'thresholds': [5, 4, 3], 'dilate_iterations': 3, 'deg_pix': 64}, 'use_skyflats': True})\n",
      "\n",
      "ENV CRDS_CONTEXT = jwst_1017.pmap\n",
      "OTELESCO = TELESCOP JWST\n",
      "OINSTRUM = INSTRUME NIRCAM\n",
      "ODETECTO = DETECTOR NRCALONG\n",
      "OFILTER = FILTER F277W\n",
      "OPUPIL = PUPIL CLEAR\n",
      "OEXP_TYP = EXP_TYPE NRC_IMAGE\n",
      "ENGQLPTG = CALCULATED_TR_202105\n",
      "TARGNAME > ABELL2744-PREIMG (no spaces)\n",
      "PFLTFILE = /Users/ivo/Astro/PROJECTS/JWST/crds_cache/references/jwst/nircam/jwst_nircam_flat_0502.fits\n",
      "Clip MAXDQBIT = 14\n",
      "initialize_jwst_image: Mask outer ring of 6 pixels for NRCALONG\n"
     ]
    },
    {
     "name": "stderr",
     "output_type": "stream",
     "text": [
      "2022-12-02 01:24:19,675 - stpipe - WARNING - /Users/ivo/anaconda/envs/jwst_nircam/lib/python3.9/site-packages/grizli/jwst_utils.py:895: RuntimeWarning: divide by zero encountered in divide\n",
      "  sn_mask = (sci - back)/err > thresholds[0]\n",
      "\n"
     ]
    },
    {
     "name": "stdout",
     "output_type": "stream",
     "text": [
      "exposure_oneoverf_correction: jw02561001002_02101_00003_nrcalong_cal.fits axis=1 deg_pix=64\n"
     ]
    },
    {
     "name": "stderr",
     "output_type": "stream",
     "text": [
      "2022-12-02 01:24:19,757 - stpipe - WARNING - /Users/ivo/anaconda/envs/jwst_nircam/lib/python3.9/site-packages/numpy/lib/nanfunctions.py:1095: RuntimeWarning: All-NaN slice encountered\n",
      "  result = np.apply_along_axis(_nanmedian1d, axis, a, overwrite_input)\n",
      "\n"
     ]
    },
    {
     "name": "stdout",
     "output_type": "stream",
     "text": [
      "exposure_oneoverf_correction: jw02561001002_02101_00003_nrcalong_cal.fits apply to file\n",
      "ENV CRDS_CONTEXT = jwst_1017.pmap\n",
      "jwst_utils.img_with_flat: Flat already applied\n",
      "jwst_utils.get_jwst_skyflat: /Users/ivo//Astro/SOFT/grizli/CONF/NircamSkyFlat/nrcalong-f277w-clear_skyflat_smooth.fits not found\n",
      "ENV CRDS_CONTEXT = jwst_1017.pmap\n",
      "jwst.assign_wcs.AssignWcsStep: /Users/ivo/Astro/PROJECTS/JWST/crds_cache/references/jwst/nircam/jwst_nircam_distortion_0156.asdf\n",
      "# (2022-12-01 14:24:22.149)\n",
      "\n",
      "jwst_utils.pipeline_model_wcs_header(**{'datamodel': <ImageModel(2048, 2048) from jw02561001002_02101_00003_nrcalong_cal.fits>, 'step': 64, 'degrees': [3, 4, 5, 5], 'lsq_args': {'jac': '2-point', 'bounds': (-inf, inf), 'method': 'trf', 'ftol': 1e-12, 'xtol': 1e-12, 'gtol': 1e-12, 'x_scale': 1.0, 'loss': 'soft_l1', 'f_scale': 1000.0, 'diff_step': 1e-06, 'tr_solver': None, 'tr_options': {}, 'jac_sparsity': None, 'max_nfev': 100, 'verbose': 0, 'kwargs': {}}, 'crpix': None, 'verbose': True, 'initial_header': None, 'max_rms': 0.0001, 'set_diff_step': False, 'get_guess': False, 'fast_coeffs': True})\n",
      "\n",
      "Fit SIP degree=3 rms= 7.87e-03, 8.14e-03 pix\n",
      "Fit SIP degree=4 rms= 6.47e-03, 5.74e-03 pix\n",
      "Fit SIP degree=5 rms= 4.50e-04, 4.52e-04 pix\n",
      "Fit SIP degree=5 rms= 4.50e-04, 4.52e-04 pix\n",
      "# photometry keywords\n",
      "PHOTFNU = 9.3078e-08\n",
      "PHOTPLAM = 27578.0\n",
      "PHOTFLAM = 3.6592e-21\n",
      "ZP = 26.48\n",
      "TO_MJYSR = 1.000\n",
      "\n",
      "# (2022-12-01 14:24:26.025)\n",
      "\n",
      "jwst_utils.set_jwst_to_hst_keywords(**{'input': 'jw02561001002_02101_00003_nrcalong_cal.fits', 'reset': False, 'verbose': True, 'orig_keys': ['TELESCOP', 'INSTRUME', 'DETECTOR', 'FILTER', 'PUPIL', 'EXP_TYPE']})\n",
      "\n",
      "  Set: TELESCOP > HST\n",
      "  Set: INSTRUME > WFC3\n",
      "  Set: DETECTOR > IR\n",
      "# ../RAW/jw02561001002_02101_00004_nrcalong_cal.fits -> jw02561001002_02101_00004_nrcalong_cal.fits \n",
      "# (2022-12-01 14:24:26.566)\n",
      "\n",
      "jwst_utils.initialize_jwst_image(**{'filename': 'jw02561001002_02101_00004_nrcalong_cal.fits', 'verbose': True, 'max_dq_bit': 14, 'orig_keys': ['TELESCOP', 'INSTRUME', 'DETECTOR', 'FILTER', 'PUPIL', 'EXP_TYPE'], 'oneoverf_correction': True, 'oneoverf_kwargs': {'thresholds': [5, 4, 3], 'dilate_iterations': 3, 'deg_pix': 64}, 'use_skyflats': True})\n",
      "\n",
      "ENV CRDS_CONTEXT = jwst_1017.pmap\n",
      "OTELESCO = TELESCOP JWST\n",
      "OINSTRUM = INSTRUME NIRCAM\n",
      "ODETECTO = DETECTOR NRCALONG\n",
      "OFILTER = FILTER F277W\n",
      "OPUPIL = PUPIL CLEAR\n",
      "OEXP_TYP = EXP_TYPE NRC_IMAGE\n",
      "ENGQLPTG = CALCULATED_TR_202105\n",
      "TARGNAME > ABELL2744-PREIMG (no spaces)\n",
      "PFLTFILE = /Users/ivo/Astro/PROJECTS/JWST/crds_cache/references/jwst/nircam/jwst_nircam_flat_0502.fits\n",
      "Clip MAXDQBIT = 14\n",
      "initialize_jwst_image: Mask outer ring of 6 pixels for NRCALONG\n"
     ]
    },
    {
     "name": "stderr",
     "output_type": "stream",
     "text": [
      "2022-12-02 01:24:27,603 - stpipe - WARNING - /Users/ivo/anaconda/envs/jwst_nircam/lib/python3.9/site-packages/grizli/jwst_utils.py:895: RuntimeWarning: divide by zero encountered in divide\n",
      "  sn_mask = (sci - back)/err > thresholds[0]\n",
      "\n",
      "2022-12-02 01:24:27,683 - stpipe - WARNING - /Users/ivo/anaconda/envs/jwst_nircam/lib/python3.9/site-packages/numpy/lib/nanfunctions.py:1095: RuntimeWarning: All-NaN slice encountered\n",
      "  result = np.apply_along_axis(_nanmedian1d, axis, a, overwrite_input)\n",
      "\n"
     ]
    },
    {
     "name": "stdout",
     "output_type": "stream",
     "text": [
      "exposure_oneoverf_correction: jw02561001002_02101_00004_nrcalong_cal.fits axis=1 deg_pix=64\n",
      "exposure_oneoverf_correction: jw02561001002_02101_00004_nrcalong_cal.fits apply to file\n",
      "ENV CRDS_CONTEXT = jwst_1017.pmap\n",
      "jwst_utils.img_with_flat: Flat already applied\n",
      "jwst_utils.get_jwst_skyflat: /Users/ivo//Astro/SOFT/grizli/CONF/NircamSkyFlat/nrcalong-f277w-clear_skyflat_smooth.fits not found\n",
      "ENV CRDS_CONTEXT = jwst_1017.pmap\n",
      "jwst.assign_wcs.AssignWcsStep: /Users/ivo/Astro/PROJECTS/JWST/crds_cache/references/jwst/nircam/jwst_nircam_distortion_0156.asdf\n",
      "# (2022-12-01 14:24:30.051)\n",
      "\n",
      "jwst_utils.pipeline_model_wcs_header(**{'datamodel': <ImageModel(2048, 2048) from jw02561001002_02101_00004_nrcalong_cal.fits>, 'step': 64, 'degrees': [3, 4, 5, 5], 'lsq_args': {'jac': '2-point', 'bounds': (-inf, inf), 'method': 'trf', 'ftol': 1e-12, 'xtol': 1e-12, 'gtol': 1e-12, 'x_scale': 1.0, 'loss': 'soft_l1', 'f_scale': 1000.0, 'diff_step': 1e-06, 'tr_solver': None, 'tr_options': {}, 'jac_sparsity': None, 'max_nfev': 100, 'verbose': 0, 'kwargs': {}}, 'crpix': None, 'verbose': True, 'initial_header': None, 'max_rms': 0.0001, 'set_diff_step': False, 'get_guess': False, 'fast_coeffs': True})\n",
      "\n",
      "Fit SIP degree=3 rms= 7.88e-03, 8.15e-03 pix\n",
      "Fit SIP degree=4 rms= 6.48e-03, 5.74e-03 pix\n",
      "Fit SIP degree=5 rms= 4.50e-04, 4.52e-04 pix\n",
      "Fit SIP degree=5 rms= 4.49e-04, 4.52e-04 pix\n",
      "# photometry keywords\n",
      "PHOTFNU = 9.3078e-08\n",
      "PHOTPLAM = 27578.0\n",
      "PHOTFLAM = 3.6592e-21\n",
      "ZP = 26.48\n",
      "TO_MJYSR = 1.000\n",
      "\n",
      "# (2022-12-01 14:24:34.518)\n",
      "\n",
      "jwst_utils.set_jwst_to_hst_keywords(**{'input': 'jw02561001002_02101_00004_nrcalong_cal.fits', 'reset': False, 'verbose': True, 'orig_keys': ['TELESCOP', 'INSTRUME', 'DETECTOR', 'FILTER', 'PUPIL', 'EXP_TYPE']})\n",
      "\n",
      "  Set: TELESCOP > HST\n",
      "  Set: INSTRUME > WFC3\n",
      "  Set: DETECTOR > IR\n",
      "# (2022-12-01 14:24:34.807)\n",
      "\n",
      "prep.mask_snowballs(**{'visit': {'files': ['jw02561001002_02101_00001_nrcalong_cal.fits', 'jw02561001002_02101_00002_nrcalong_cal.fits', 'jw02561001002_02101_00003_nrcalong_cal.fits', 'jw02561001002_02101_00004_nrcalong_cal.fits'], 'footprint': <shapely.geometry.polygon.Polygon object at 0x7fbf28dac5e0>, 'product': 'abell2744-preimg-02561-001-041.0-nrca5-f277w-clear'}, 'snowball_erode': 4, 'snowball_dilate': 18, 'mask_bit': 1024, 'instruments': ['NIRCAM', 'NIRISS'], 'unset4': False, 'kwargs': {}})\n",
      "\n",
      "Snowball mask: jw02561001002_02101_00001_nrcalong_cal.fits  N= 37(f=0.74%)\n",
      "Snowball mask: jw02561001002_02101_00002_nrcalong_cal.fits  N= 19(f=0.44%)\n",
      "Snowball mask: jw02561001002_02101_00003_nrcalong_cal.fits  N= 33(f=0.79%)\n",
      "Snowball mask: jw02561001002_02101_00004_nrcalong_cal.fits  N= 37(f=0.75%)\n",
      "Query PanSTARRS catalog (3.574163647991082,-30.40449312619872,3.0)\n",
      "Query \"II/349/ps1\" from VizieR TAP server\n",
      "Launched query: 'SELECT TOP 500000 * FROM \"II/349/ps1\" WHERE RAJ2000 > 3.5161908848022145 AND RAJ2000 < 3.6321364111799497 AND DEJ2000 > -30.45449312619872 AND DEJ2000 < -30.35449312619872 AND \"II/349/ps1\".e_imag < 0.2 AND \"II/349/ps1\".e_RAJ2000 < 0.15 AND \"II/349/ps1\".e_DEJ2000 < 0.15'\n",
      "------>http\n",
      "host = tapvizier.u-strasbg.fr:80\n",
      "context = /TAPVizieR/tap/sync\n",
      "Content-type = application/x-www-form-urlencoded\n",
      "200 200\n",
      "[('date', 'Thu, 01 Dec 2022 14:24:36 GMT'), ('server', 'Apache/2.4.41 (Ubuntu) mod_jk/1.2.46 OpenSSL/1.1.1f'), ('vary', 'Accept-Encoding'), ('access-control-allow-origin', '*'), ('access-control-allow-credentials', 'true'), ('transfer-encoding', 'chunked'), ('content-type', 'application/x-votable+xml; serialization=TABLEDATA;charset=UTF-8')]\n",
      "Retrieving sync. results...\n",
      "Saving results to: sync_20221202012539.xml\n",
      "Query finished.\n",
      "abell2744-preimg-02561-001-041.0-nrca5-f277w-clear_ps1.reg: x = ra, y=dec, ellipse=False\n",
      "abell2744-preimg-02561-001-041.0-nrca5-f277w-clear - Reference RADEC: abell2744-preimg-02561-001-041.0-nrca5-f277w-clear_ps1.radec [PS1] N=378\n",
      "# (2022-12-01 14:25:40.862)\n",
      "#  abell2744-preimg-02561-001-041.0-nrca5-f277w-clear: First Drizzle\n"
     ]
    },
    {
     "name": "stderr",
     "output_type": "stream",
     "text": [
      "WARNING: FITSFixedWarning: 'datfix' made the change 'Set DATE-BEG to '2022-11-02T08:27:04.153' from MJD-BEG.\n",
      "Set DATE-AVG to '2022-11-02T08:34:08.256' from MJD-AVG.\n",
      "Set DATE-END to '2022-11-02T08:41:12.358' from MJD-END'. [astropy.wcs.wcs]\n",
      "2022-12-02 01:25:42,078 - stpipe - WARNING - FITSFixedWarning: 'datfix' made the change 'Set DATE-BEG to '2022-11-02T08:27:04.153' from MJD-BEG.\n",
      "Set DATE-AVG to '2022-11-02T08:34:08.256' from MJD-AVG.\n",
      "Set DATE-END to '2022-11-02T08:41:12.358' from MJD-END'.\n",
      "WARNING: FITSFixedWarning: 'obsfix' made the change 'Set OBSGEO-L to    63.263556 from OBSGEO-[XYZ].\n",
      "Set OBSGEO-B to    28.494908 from OBSGEO-[XYZ].\n",
      "Set OBSGEO-H to 1394727362.015 from OBSGEO-[XYZ]'. [astropy.wcs.wcs]\n",
      "2022-12-02 01:25:42,082 - stpipe - WARNING - FITSFixedWarning: 'obsfix' made the change 'Set OBSGEO-L to    63.263556 from OBSGEO-[XYZ].\n",
      "Set OBSGEO-B to    28.494908 from OBSGEO-[XYZ].\n",
      "Set OBSGEO-H to 1394727362.015 from OBSGEO-[XYZ]'.\n",
      "WARNING: FITSFixedWarning: 'datfix' made the change 'Set DATE-BEG to '2022-11-02T08:42:38.232' from MJD-BEG.\n",
      "Set DATE-AVG to '2022-11-02T08:49:42.335' from MJD-AVG.\n",
      "Set DATE-END to '2022-11-02T08:56:46.437' from MJD-END'. [astropy.wcs.wcs]\n",
      "2022-12-02 01:25:42,163 - stpipe - WARNING - FITSFixedWarning: 'datfix' made the change 'Set DATE-BEG to '2022-11-02T08:42:38.232' from MJD-BEG.\n",
      "Set DATE-AVG to '2022-11-02T08:49:42.335' from MJD-AVG.\n",
      "Set DATE-END to '2022-11-02T08:56:46.437' from MJD-END'.\n",
      "WARNING: FITSFixedWarning: 'obsfix' made the change 'Set OBSGEO-L to    63.281076 from OBSGEO-[XYZ].\n",
      "Set OBSGEO-B to    28.491626 from OBSGEO-[XYZ].\n",
      "Set OBSGEO-H to 1394836264.421 from OBSGEO-[XYZ]'. [astropy.wcs.wcs]\n",
      "2022-12-02 01:25:42,166 - stpipe - WARNING - FITSFixedWarning: 'obsfix' made the change 'Set OBSGEO-L to    63.281076 from OBSGEO-[XYZ].\n",
      "Set OBSGEO-B to    28.491626 from OBSGEO-[XYZ].\n",
      "Set OBSGEO-H to 1394836264.421 from OBSGEO-[XYZ]'.\n",
      "WARNING: FITSFixedWarning: 'datfix' made the change 'Set DATE-BEG to '2022-11-02T08:58:12.376' from MJD-BEG.\n",
      "Set DATE-AVG to '2022-11-02T09:05:16.479' from MJD-AVG.\n",
      "Set DATE-END to '2022-11-02T09:12:20.581' from MJD-END'. [astropy.wcs.wcs]\n",
      "2022-12-02 01:25:42,246 - stpipe - WARNING - FITSFixedWarning: 'datfix' made the change 'Set DATE-BEG to '2022-11-02T08:58:12.376' from MJD-BEG.\n",
      "Set DATE-AVG to '2022-11-02T09:05:16.479' from MJD-AVG.\n",
      "Set DATE-END to '2022-11-02T09:12:20.581' from MJD-END'.\n",
      "WARNING: FITSFixedWarning: 'obsfix' made the change 'Set OBSGEO-L to    63.299758 from OBSGEO-[XYZ].\n",
      "Set OBSGEO-B to    28.488124 from OBSGEO-[XYZ].\n",
      "Set OBSGEO-H to 1394952435.627 from OBSGEO-[XYZ]'. [astropy.wcs.wcs]\n",
      "2022-12-02 01:25:42,249 - stpipe - WARNING - FITSFixedWarning: 'obsfix' made the change 'Set OBSGEO-L to    63.299758 from OBSGEO-[XYZ].\n",
      "Set OBSGEO-B to    28.488124 from OBSGEO-[XYZ].\n",
      "Set OBSGEO-H to 1394952435.627 from OBSGEO-[XYZ]'.\n",
      "WARNING: FITSFixedWarning: 'datfix' made the change 'Set DATE-BEG to '2022-11-02T09:13:46.455' from MJD-BEG.\n",
      "Set DATE-AVG to '2022-11-02T09:20:50.558' from MJD-AVG.\n",
      "Set DATE-END to '2022-11-02T09:27:54.660' from MJD-END'. [astropy.wcs.wcs]\n",
      "2022-12-02 01:25:42,333 - stpipe - WARNING - FITSFixedWarning: 'datfix' made the change 'Set DATE-BEG to '2022-11-02T09:13:46.455' from MJD-BEG.\n",
      "Set DATE-AVG to '2022-11-02T09:20:50.558' from MJD-AVG.\n",
      "Set DATE-END to '2022-11-02T09:27:54.660' from MJD-END'.\n",
      "WARNING: FITSFixedWarning: 'obsfix' made the change 'Set OBSGEO-L to    63.317268 from OBSGEO-[XYZ].\n",
      "Set OBSGEO-B to    28.484837 from OBSGEO-[XYZ].\n",
      "Set OBSGEO-H to 1395061354.150 from OBSGEO-[XYZ]'. [astropy.wcs.wcs]\n",
      "2022-12-02 01:25:42,336 - stpipe - WARNING - FITSFixedWarning: 'obsfix' made the change 'Set OBSGEO-L to    63.317268 from OBSGEO-[XYZ].\n",
      "Set OBSGEO-B to    28.484837 from OBSGEO-[XYZ].\n",
      "Set OBSGEO-H to 1395061354.150 from OBSGEO-[XYZ]'.\n",
      "WARNING: FITSFixedWarning: 'datfix' made the change 'Set DATE-BEG to '2022-11-02T08:27:04.153' from MJD-BEG.\n",
      "Set DATE-AVG to '2022-11-02T08:34:08.256' from MJD-AVG.\n",
      "Set DATE-END to '2022-11-02T08:41:12.358' from MJD-END'. [astropy.wcs.wcs]\n",
      "2022-12-02 01:25:42,920 - stpipe - WARNING - FITSFixedWarning: 'datfix' made the change 'Set DATE-BEG to '2022-11-02T08:27:04.153' from MJD-BEG.\n",
      "Set DATE-AVG to '2022-11-02T08:34:08.256' from MJD-AVG.\n",
      "Set DATE-END to '2022-11-02T08:41:12.358' from MJD-END'.\n",
      "WARNING: FITSFixedWarning: 'obsfix' made the change 'Set OBSGEO-L to    63.263556 from OBSGEO-[XYZ].\n",
      "Set OBSGEO-B to    28.494908 from OBSGEO-[XYZ].\n",
      "Set OBSGEO-H to 1394727362.015 from OBSGEO-[XYZ]'. [astropy.wcs.wcs]\n",
      "2022-12-02 01:25:42,924 - stpipe - WARNING - FITSFixedWarning: 'obsfix' made the change 'Set OBSGEO-L to    63.263556 from OBSGEO-[XYZ].\n",
      "Set OBSGEO-B to    28.494908 from OBSGEO-[XYZ].\n",
      "Set OBSGEO-H to 1394727362.015 from OBSGEO-[XYZ]'.\n",
      "WARNING: FITSFixedWarning: 'datfix' made the change 'Set DATE-BEG to '2022-11-02T08:42:38.232' from MJD-BEG.\n",
      "Set DATE-AVG to '2022-11-02T08:49:42.335' from MJD-AVG.\n",
      "Set DATE-END to '2022-11-02T08:56:46.437' from MJD-END'. [astropy.wcs.wcs]\n",
      "2022-12-02 01:25:42,943 - stpipe - WARNING - FITSFixedWarning: 'datfix' made the change 'Set DATE-BEG to '2022-11-02T08:42:38.232' from MJD-BEG.\n",
      "Set DATE-AVG to '2022-11-02T08:49:42.335' from MJD-AVG.\n",
      "Set DATE-END to '2022-11-02T08:56:46.437' from MJD-END'.\n",
      "WARNING: FITSFixedWarning: 'obsfix' made the change 'Set OBSGEO-L to    63.281076 from OBSGEO-[XYZ].\n",
      "Set OBSGEO-B to    28.491626 from OBSGEO-[XYZ].\n",
      "Set OBSGEO-H to 1394836264.421 from OBSGEO-[XYZ]'. [astropy.wcs.wcs]\n",
      "2022-12-02 01:25:42,947 - stpipe - WARNING - FITSFixedWarning: 'obsfix' made the change 'Set OBSGEO-L to    63.281076 from OBSGEO-[XYZ].\n",
      "Set OBSGEO-B to    28.491626 from OBSGEO-[XYZ].\n",
      "Set OBSGEO-H to 1394836264.421 from OBSGEO-[XYZ]'.\n",
      "WARNING: FITSFixedWarning: 'datfix' made the change 'Set DATE-BEG to '2022-11-02T08:58:12.376' from MJD-BEG.\n",
      "Set DATE-AVG to '2022-11-02T09:05:16.479' from MJD-AVG.\n",
      "Set DATE-END to '2022-11-02T09:12:20.581' from MJD-END'. [astropy.wcs.wcs]\n",
      "2022-12-02 01:25:42,964 - stpipe - WARNING - FITSFixedWarning: 'datfix' made the change 'Set DATE-BEG to '2022-11-02T08:58:12.376' from MJD-BEG.\n",
      "Set DATE-AVG to '2022-11-02T09:05:16.479' from MJD-AVG.\n",
      "Set DATE-END to '2022-11-02T09:12:20.581' from MJD-END'.\n",
      "WARNING: FITSFixedWarning: 'obsfix' made the change 'Set OBSGEO-L to    63.299758 from OBSGEO-[XYZ].\n",
      "Set OBSGEO-B to    28.488124 from OBSGEO-[XYZ].\n",
      "Set OBSGEO-H to 1394952435.627 from OBSGEO-[XYZ]'. [astropy.wcs.wcs]\n",
      "2022-12-02 01:25:42,970 - stpipe - WARNING - FITSFixedWarning: 'obsfix' made the change 'Set OBSGEO-L to    63.299758 from OBSGEO-[XYZ].\n",
      "Set OBSGEO-B to    28.488124 from OBSGEO-[XYZ].\n",
      "Set OBSGEO-H to 1394952435.627 from OBSGEO-[XYZ]'.\n",
      "WARNING: FITSFixedWarning: 'datfix' made the change 'Set DATE-BEG to '2022-11-02T09:13:46.455' from MJD-BEG.\n",
      "Set DATE-AVG to '2022-11-02T09:20:50.558' from MJD-AVG.\n",
      "Set DATE-END to '2022-11-02T09:27:54.660' from MJD-END'. [astropy.wcs.wcs]\n",
      "2022-12-02 01:25:42,987 - stpipe - WARNING - FITSFixedWarning: 'datfix' made the change 'Set DATE-BEG to '2022-11-02T09:13:46.455' from MJD-BEG.\n",
      "Set DATE-AVG to '2022-11-02T09:20:50.558' from MJD-AVG.\n",
      "Set DATE-END to '2022-11-02T09:27:54.660' from MJD-END'.\n",
      "WARNING: FITSFixedWarning: 'obsfix' made the change 'Set OBSGEO-L to    63.317268 from OBSGEO-[XYZ].\n",
      "Set OBSGEO-B to    28.484837 from OBSGEO-[XYZ].\n",
      "Set OBSGEO-H to 1395061354.150 from OBSGEO-[XYZ]'. [astropy.wcs.wcs]\n",
      "2022-12-02 01:25:42,993 - stpipe - WARNING - FITSFixedWarning: 'obsfix' made the change 'Set OBSGEO-L to    63.317268 from OBSGEO-[XYZ].\n",
      "Set OBSGEO-B to    28.484837 from OBSGEO-[XYZ].\n",
      "Set OBSGEO-H to 1395061354.150 from OBSGEO-[XYZ]'.\n",
      "WARNING: VerifyWarning: Card is too long, comment will be truncated. [astropy.io.fits.card]\n",
      "WARNING: VerifyWarning: Card is too long, comment will be truncated. [astropy.io.fits.card]\n",
      "2022-12-02 01:25:44,083 - stpipe - WARNING - VerifyWarning: Card is too long, comment will be truncated.\n",
      "2022-12-02 01:25:44,085 - stpipe - WARNING - VerifyWarning: Card is too long, comment will be truncated.\n",
      "WARNING: VerifyWarning: Card is too long, comment will be truncated. [astropy.io.fits.card]\n",
      "WARNING: VerifyWarning: Card is too long, comment will be truncated. [astropy.io.fits.card]\n",
      "2022-12-02 01:25:44,089 - stpipe - WARNING - VerifyWarning: Card is too long, comment will be truncated.\n",
      "2022-12-02 01:25:44,090 - stpipe - WARNING - VerifyWarning: Card is too long, comment will be truncated.\n",
      "2022-12-02 01:25:44,103 - stpipe - INFO - Writing out image to disk: jw02561001002_02101_00001_nrcalong_single_sci.fits\n",
      "2022-12-02 01:25:44,103 - stpipe - INFO - Writing out image to disk: jw02561001002_02101_00003_nrcalong_single_sci.fits\n"
     ]
    },
    {
     "name": "stdout",
     "output_type": "stream",
     "text": [
      "Writing out image to disk: jw02561001002_02101_00001_nrcalong_single_sci.fits\n",
      "Writing out image to disk: jw02561001002_02101_00003_nrcalong_single_sci.fits\n"
     ]
    },
    {
     "name": "stderr",
     "output_type": "stream",
     "text": [
      "2022-12-02 01:25:44,108 - stpipe - INFO - Writing out image to disk: jw02561001002_02101_00002_nrcalong_single_sci.fits\n",
      "2022-12-02 01:25:44,109 - stpipe - INFO - Writing out image to disk: jw02561001002_02101_00004_nrcalong_single_sci.fits\n"
     ]
    },
    {
     "name": "stdout",
     "output_type": "stream",
     "text": [
      "Writing out image to disk: jw02561001002_02101_00002_nrcalong_single_sci.fits\n",
      "Writing out image to disk: jw02561001002_02101_00004_nrcalong_single_sci.fits\n"
     ]
    },
    {
     "name": "stderr",
     "output_type": "stream",
     "text": [
      "2022-12-02 01:25:44,299 - stpipe - INFO - Writing out image to disk: jw02561001002_02101_00001_nrcalong_single_wht.fits\n",
      "2022-12-02 01:25:44,299 - stpipe - INFO - Writing out image to disk: jw02561001002_02101_00003_nrcalong_single_wht.fits\n"
     ]
    },
    {
     "name": "stdout",
     "output_type": "stream",
     "text": [
      "Writing out image to disk: jw02561001002_02101_00003_nrcalong_single_wht.fits\n",
      "Writing out image to disk: jw02561001002_02101_00001_nrcalong_single_wht.fits\n"
     ]
    },
    {
     "name": "stderr",
     "output_type": "stream",
     "text": [
      "2022-12-02 01:25:44,305 - stpipe - INFO - Writing out image to disk: jw02561001002_02101_00004_nrcalong_single_wht.fits\n",
      "2022-12-02 01:25:44,305 - stpipe - INFO - Writing out image to disk: jw02561001002_02101_00002_nrcalong_single_wht.fits\n"
     ]
    },
    {
     "name": "stdout",
     "output_type": "stream",
     "text": [
      "Writing out image to disk: jw02561001002_02101_00004_nrcalong_single_wht.fits\n",
      "Writing out image to disk: jw02561001002_02101_00002_nrcalong_single_wht.fits\n"
     ]
    },
    {
     "name": "stderr",
     "output_type": "stream",
     "text": [
      "2022-12-02 01:25:49,349 - stpipe - WARNING - Cannot find flat field file 'jwst_nircam_flat_0502.fits'\n",
      "2022-12-02 01:25:49,350 - stpipe - WARNING - Treating flatfield as a constant value of '1'.\n",
      "2022-12-02 01:25:50,187 - stpipe - WARNING - Cannot find flat field file 'jwst_nircam_flat_0502.fits'\n",
      "2022-12-02 01:25:50,187 - stpipe - WARNING - Treating flatfield as a constant value of '1'.\n",
      "2022-12-02 01:25:51,011 - stpipe - WARNING - Cannot find flat field file 'jwst_nircam_flat_0502.fits'\n",
      "2022-12-02 01:25:51,012 - stpipe - WARNING - Treating flatfield as a constant value of '1'.\n",
      "2022-12-02 01:25:51,815 - stpipe - WARNING - Cannot find flat field file 'jwst_nircam_flat_0502.fits'\n",
      "2022-12-02 01:25:51,816 - stpipe - WARNING - Treating flatfield as a constant value of '1'.\n",
      "WARNING: VerifyWarning: Card is too long, comment will be truncated. [astropy.io.fits.card]\n",
      "2022-12-02 01:25:53,010 - stpipe - WARNING - VerifyWarning: Card is too long, comment will be truncated.\n",
      "2022-12-02 01:25:53,034 - stpipe - INFO - Writing out image to disk: abell2744-preimg-02561-001-041.0-nrca5-f277w-clear_drz_sci.fits\n"
     ]
    },
    {
     "name": "stdout",
     "output_type": "stream",
     "text": [
      "Writing out image to disk: abell2744-preimg-02561-001-041.0-nrca5-f277w-clear_drz_sci.fits\n"
     ]
    },
    {
     "name": "stderr",
     "output_type": "stream",
     "text": [
      "2022-12-02 01:25:53,174 - stpipe - INFO - Writing out image to disk: abell2744-preimg-02561-001-041.0-nrca5-f277w-clear_drz_wht.fits\n"
     ]
    },
    {
     "name": "stdout",
     "output_type": "stream",
     "text": [
      "Writing out image to disk: abell2744-preimg-02561-001-041.0-nrca5-f277w-clear_drz_wht.fits\n"
     ]
    },
    {
     "name": "stderr",
     "output_type": "stream",
     "text": [
      "2022-12-02 01:25:53,232 - stpipe - INFO - ==== Processing Step Final Drizzle finished at 01:25:53.231 (02/12/2022)\n"
     ]
    },
    {
     "name": "stdout",
     "output_type": "stream",
     "text": [
      "==== Processing Step Final Drizzle finished at 01:25:53.231 (02/12/2022)\n"
     ]
    },
    {
     "name": "stderr",
     "output_type": "stream",
     "text": [
      "2022-12-02 01:25:53,233 - stpipe - INFO - \n"
     ]
    },
    {
     "name": "stdout",
     "output_type": "stream",
     "text": [
      "\n"
     ]
    },
    {
     "name": "stderr",
     "output_type": "stream",
     "text": [
      "2022-12-02 01:25:53,234 - stpipe - INFO - AstroDrizzle Version 3.5.0 is finished processing at 01:25:53.234 (02/12/2022).\n"
     ]
    },
    {
     "name": "stdout",
     "output_type": "stream",
     "text": [
      "AstroDrizzle Version 3.5.0 is finished processing at 01:25:53.234 (02/12/2022).\n"
     ]
    },
    {
     "name": "stderr",
     "output_type": "stream",
     "text": [
      "2022-12-02 01:25:53,235 - stpipe - INFO - \n"
     ]
    },
    {
     "name": "stdout",
     "output_type": "stream",
     "text": [
      "\n"
     ]
    },
    {
     "name": "stderr",
     "output_type": "stream",
     "text": [
      "2022-12-02 01:25:53,236 - stpipe - INFO - \n"
     ]
    },
    {
     "name": "stdout",
     "output_type": "stream",
     "text": [
      "\n"
     ]
    },
    {
     "name": "stderr",
     "output_type": "stream",
     "text": [
      "2022-12-02 01:25:53,237 - stpipe - INFO - \n"
     ]
    },
    {
     "name": "stdout",
     "output_type": "stream",
     "text": [
      "\n"
     ]
    },
    {
     "name": "stderr",
     "output_type": "stream",
     "text": [
      "2022-12-02 01:25:53,238 - stpipe - INFO -    --------------------          --------------------\n"
     ]
    },
    {
     "name": "stdout",
     "output_type": "stream",
     "text": [
      "   --------------------          --------------------\n"
     ]
    },
    {
     "name": "stderr",
     "output_type": "stream",
     "text": [
      "2022-12-02 01:25:53,239 - stpipe - INFO -                    Step          Elapsed time\n"
     ]
    },
    {
     "name": "stdout",
     "output_type": "stream",
     "text": [
      "                   Step          Elapsed time\n"
     ]
    },
    {
     "name": "stderr",
     "output_type": "stream",
     "text": [
      "2022-12-02 01:25:53,240 - stpipe - INFO -    --------------------          --------------------\n"
     ]
    },
    {
     "name": "stdout",
     "output_type": "stream",
     "text": [
      "   --------------------          --------------------\n"
     ]
    },
    {
     "name": "stderr",
     "output_type": "stream",
     "text": [
      "2022-12-02 01:25:53,241 - stpipe - INFO - \n"
     ]
    },
    {
     "name": "stdout",
     "output_type": "stream",
     "text": [
      "\n"
     ]
    },
    {
     "name": "stderr",
     "output_type": "stream",
     "text": [
      "2022-12-02 01:25:53,242 - stpipe - INFO -          Initialization          0.5336 sec.\n"
     ]
    },
    {
     "name": "stdout",
     "output_type": "stream",
     "text": [
      "         Initialization          0.5336 sec.\n"
     ]
    },
    {
     "name": "stderr",
     "output_type": "stream",
     "text": [
      "2022-12-02 01:25:53,243 - stpipe - INFO -             Static Mask          0.3422 sec.\n"
     ]
    },
    {
     "name": "stdout",
     "output_type": "stream",
     "text": [
      "            Static Mask          0.3422 sec.\n"
     ]
    },
    {
     "name": "stderr",
     "output_type": "stream",
     "text": [
      "2022-12-02 01:25:53,244 - stpipe - INFO -            Subtract Sky          0.7792 sec.\n"
     ]
    },
    {
     "name": "stdout",
     "output_type": "stream",
     "text": [
      "           Subtract Sky          0.7792 sec.\n"
     ]
    },
    {
     "name": "stderr",
     "output_type": "stream",
     "text": [
      "2022-12-02 01:25:53,245 - stpipe - INFO -        Separate Drizzle          1.0489 sec.\n"
     ]
    },
    {
     "name": "stdout",
     "output_type": "stream",
     "text": [
      "       Separate Drizzle          1.0489 sec.\n"
     ]
    },
    {
     "name": "stderr",
     "output_type": "stream",
     "text": [
      "2022-12-02 01:25:53,246 - stpipe - INFO -           Create Median          1.3610 sec.\n"
     ]
    },
    {
     "name": "stdout",
     "output_type": "stream",
     "text": [
      "          Create Median          1.3610 sec.\n"
     ]
    },
    {
     "name": "stderr",
     "output_type": "stream",
     "text": [
      "2022-12-02 01:25:53,247 - stpipe - INFO -                    Blot          1.9597 sec.\n"
     ]
    },
    {
     "name": "stdout",
     "output_type": "stream",
     "text": [
      "                   Blot          1.9597 sec.\n"
     ]
    },
    {
     "name": "stderr",
     "output_type": "stream",
     "text": [
      "2022-12-02 01:25:53,247 - stpipe - INFO -                 Driz_CR          1.1418 sec.\n"
     ]
    },
    {
     "name": "stdout",
     "output_type": "stream",
     "text": [
      "                Driz_CR          1.1418 sec.\n"
     ]
    },
    {
     "name": "stderr",
     "output_type": "stream",
     "text": [
      "2022-12-02 01:25:53,248 - stpipe - INFO -           Final Drizzle          4.0832 sec.\n"
     ]
    },
    {
     "name": "stdout",
     "output_type": "stream",
     "text": [
      "          Final Drizzle          4.0832 sec.\n"
     ]
    },
    {
     "name": "stderr",
     "output_type": "stream",
     "text": [
      "2022-12-02 01:25:53,249 - stpipe - INFO -    ====================          ====================\n"
     ]
    },
    {
     "name": "stdout",
     "output_type": "stream",
     "text": [
      "   ====================          ====================\n"
     ]
    },
    {
     "name": "stderr",
     "output_type": "stream",
     "text": [
      "2022-12-02 01:25:53,250 - stpipe - INFO -                   Total          11.2496 sec.\n"
     ]
    },
    {
     "name": "stdout",
     "output_type": "stream",
     "text": [
      "                  Total          11.2496 sec.\n"
     ]
    },
    {
     "name": "stderr",
     "output_type": "stream",
     "text": [
      "2022-12-02 01:25:53,251 - stpipe - INFO - \n"
     ]
    },
    {
     "name": "stdout",
     "output_type": "stream",
     "text": [
      "\n"
     ]
    },
    {
     "name": "stderr",
     "output_type": "stream",
     "text": [
      "2022-12-02 01:25:53,252 - stpipe - INFO - Removing intermediate files for jw02561001002_02101_00001_nrcalong_cal.fits\n",
      "2022-12-02 01:25:53,259 - stpipe - INFO - Removing intermediate files for jw02561001002_02101_00002_nrcalong_cal.fits\n",
      "2022-12-02 01:25:53,265 - stpipe - INFO - Removing intermediate files for jw02561001002_02101_00003_nrcalong_cal.fits\n",
      "2022-12-02 01:25:53,271 - stpipe - INFO - Removing intermediate files for jw02561001002_02101_00004_nrcalong_cal.fits\n",
      "2022-12-02 01:25:53,277 - stpipe - INFO - Trailer file written to:  astrodrizzle.log\n"
     ]
    },
    {
     "name": "stdout",
     "output_type": "stream",
     "text": [
      "Trailer file written to:  astrodrizzle.log\n"
     ]
    },
    {
     "name": "stderr",
     "output_type": "stream",
     "text": [
      "WARNING: FITSFixedWarning: 'datfix' made the change 'Set MJD-OBS to 59885.000000 from DATE-OBS.\n",
      "Set DATE-AVG to '2022-11-02T08:34:08.256' from MJD-AVG'. [astropy.wcs.wcs]\n",
      "2022-12-02 01:25:53,367 - stpipe - WARNING - FITSFixedWarning: 'datfix' made the change 'Set MJD-OBS to 59885.000000 from DATE-OBS.\n",
      "Set DATE-AVG to '2022-11-02T08:34:08.256' from MJD-AVG'.\n",
      "WARNING: FITSFixedWarning: 'obsfix' made the change 'Set OBSGEO-L to    63.263556 from OBSGEO-[XYZ].\n",
      "Set OBSGEO-B to    28.494908 from OBSGEO-[XYZ].\n",
      "Set OBSGEO-H to 1394727362.015 from OBSGEO-[XYZ]'. [astropy.wcs.wcs]\n",
      "2022-12-02 01:25:53,369 - stpipe - WARNING - FITSFixedWarning: 'obsfix' made the change 'Set OBSGEO-L to    63.263556 from OBSGEO-[XYZ].\n",
      "Set OBSGEO-B to    28.494908 from OBSGEO-[XYZ].\n",
      "Set OBSGEO-H to 1394727362.015 from OBSGEO-[XYZ]'.\n"
     ]
    },
    {
     "name": "stdout",
     "output_type": "stream",
     "text": [
      "make_SEP_catalog: sep version = 1.2.1\n",
      "# (2022-12-01 14:25:53.283)\n",
      "sep: Image AB zeropoint =  26.478\n"
     ]
    },
    {
     "name": "stderr",
     "output_type": "stream",
     "text": [
      "/Users/ivo/anaconda/envs/jwst_nircam/lib/python3.9/site-packages/grizli/prep.py:1697: RuntimeWarning: divide by zero encountered in divide\n",
      "  err = 1/np.sqrt(wht_data)\n"
     ]
    },
    {
     "name": "stdout",
     "output_type": "stream",
     "text": [
      "# (2022-12-01 14:25:53.419)\n",
      "SEP: Get background {'bw': 32.0, 'bh': 32.0, 'fw': 3, 'fh': 3}\n"
     ]
    },
    {
     "name": "stderr",
     "output_type": "stream",
     "text": [
      "/Users/ivo/anaconda/envs/jwst_nircam/lib/python3.9/site-packages/grizli/prep.py:1772: RuntimeWarning: divide by zero encountered in divide\n",
      "  ratio = bkg.rms()/err\n"
     ]
    },
    {
     "name": "stdout",
     "output_type": "stream",
     "text": [
      "SEP: err_scale=0.051\n",
      "   SEP: Extract...\n",
      "    Done.\n",
      "compute_SEP_auto_params: sep version = 1.2.1\n",
      "compute_SEP_auto_params: autoparams=[2.5, <Quantity 0.35 arcsec>, 2.4, 3.8]; pixel_scale=0.06290256633102839; subpix=0; flux_radii=[0.2, 0.5, 0.9]\n"
     ]
    },
    {
     "name": "stderr",
     "output_type": "stream",
     "text": [
      "/Users/ivo/anaconda/envs/jwst_nircam/lib/python3.9/site-packages/grizli/prep.py:1913: RuntimeWarning: invalid value encountered in log10\n",
      "  tab['mag_auto'] = 23.9-2.5*np.log10(total_flux)\n",
      "WARNING: VerifyWarning: Keyword name 'FILTER_TYPE' is greater than 8 characters or contains characters not allowed by the FITS standard; a HIERARCH card will be created. [astropy.io.fits.card]\n",
      "2022-12-02 01:25:55,797 - stpipe - WARNING - VerifyWarning: Keyword name 'FILTER_TYPE' is greater than 8 characters or contains characters not allowed by the FITS standard; a HIERARCH card will be created.\n",
      "WARNING: VerifyWarning: Keyword name 'THRESHOLD' is greater than 8 characters or contains characters not allowed by the FITS standard; a HIERARCH card will be created. [astropy.io.fits.card]\n",
      "2022-12-02 01:25:55,799 - stpipe - WARNING - VerifyWarning: Keyword name 'THRESHOLD' is greater than 8 characters or contains characters not allowed by the FITS standard; a HIERARCH card will be created.\n",
      "WARNING: VerifyWarning: Keyword name 'ERR_SCALE' is greater than 8 characters or contains characters not allowed by the FITS standard; a HIERARCH card will be created. [astropy.io.fits.card]\n",
      "2022-12-02 01:25:55,802 - stpipe - WARNING - VerifyWarning: Keyword name 'ERR_SCALE' is greater than 8 characters or contains characters not allowed by the FITS standard; a HIERARCH card will be created.\n",
      "WARNING: VerifyWarning: Card is too long, comment will be truncated. [astropy.io.fits.card]\n",
      "2022-12-02 01:25:55,809 - stpipe - WARNING - VerifyWarning: Card is too long, comment will be truncated.\n",
      "WARNING: FITSFixedWarning: 'datfix' made the change 'Set MJD-OBS to 59885.000000 from DATE-OBS.\n",
      "Set DATE-AVG to '2022-11-02T08:34:08.256' from MJD-AVG'. [astropy.wcs.wcs]\n",
      "2022-12-02 01:25:55,995 - stpipe - WARNING - FITSFixedWarning: 'datfix' made the change 'Set MJD-OBS to 59885.000000 from DATE-OBS.\n",
      "Set DATE-AVG to '2022-11-02T08:34:08.256' from MJD-AVG'.\n",
      "WARNING: FITSFixedWarning: 'obsfix' made the change 'Set OBSGEO-L to    63.263556 from OBSGEO-[XYZ].\n",
      "Set OBSGEO-B to    28.494908 from OBSGEO-[XYZ].\n",
      "Set OBSGEO-H to 1394727362.015 from OBSGEO-[XYZ]'. [astropy.wcs.wcs]\n",
      "2022-12-02 01:25:55,997 - stpipe - WARNING - FITSFixedWarning: 'obsfix' made the change 'Set OBSGEO-L to    63.263556 from OBSGEO-[XYZ].\n",
      "Set OBSGEO-B to    28.494908 from OBSGEO-[XYZ].\n",
      "Set OBSGEO-H to 1394727362.015 from OBSGEO-[XYZ]'.\n"
     ]
    },
    {
     "name": "stdout",
     "output_type": "stream",
     "text": [
      "# SEP abell2744-preimg-02561-001-041.0-nrca5-f277w-clear.cat.fits: 2481 objects\n",
      "# (2022-12-01 14:25:55.854)\n",
      "\n",
      "prep.align_drizzled_image(**{'root': 'abell2744-preimg-02561-001-041.0-nrca5-f277w-clear', 'mag_limits': [16, 23, 0.05], 'radec': 'abell2744-preimg-02561-001-041.0-nrca5-f277w-clear_ps1.radec', 'NITER': 3, 'clip': 120, 'log': True, 'outlier_threshold': 4, 'verbose': True, 'guess': [0.0, 0.0, 0.0, 1], 'simple': False, 'rms_limit': 2, 'use_guess': False, 'triangle_size_limit': [5, 2400], 'max_sources': 200, 'triangle_ba_max': 0.9, 'max_err_percentile': 99, 'catalog_mask_pad': 0.05, 'min_flux_radius': 1.0, 'match_catalog_density': False, 'assume_close': False, 'ref_border': 100, 'transform': None})\n",
      "\n",
      "# wcs abell2744-preimg-02561-001-041.0-nrca5-f277w-clear radec=\"abell2744-preimg-02561-001-041.0-nrca5-f277w-clear_ps1.radec\"; Ncat=198; Nref=111\n",
      "# wcs abell2744-preimg-02561-001-041.0-nrca5-f277w-clear (guess)   :   0.00   0.00   0.000   1.000\n",
      "  tristars.match: Nin=83, Nout=129, match=49\n",
      "  tristars.match: Nin=38, Nout=38, match=38\n",
      "# wcs abell2744-preimg-02561-001-041.0-nrca5-f277w-clear (0) 38:  -1.91   1.94   0.022   1.000\n",
      "  tristars.match: Nin=83, Nout=129, match=49\n",
      "  tristars.match: Nin=39, Nout=39, match=39\n",
      "# wcs abell2744-preimg-02561-001-041.0-nrca5-f277w-clear (1) 39:  -0.04   0.03  -0.003   1.000\n",
      "  tristars.match: Nin=83, Nout=129, match=49\n",
      "  tristars.match: Nin=39, Nout=39, match=39\n",
      "# wcs abell2744-preimg-02561-001-041.0-nrca5-f277w-clear (2) 39:  -0.00  -0.00  -0.000   1.000\n"
     ]
    },
    {
     "name": "stderr",
     "output_type": "stream",
     "text": [
      "WARNING: FITSFixedWarning: The WCS transformation has more axes (2) than the image it is associated with (0) [astropy.wcs.wcs]\n",
      "2022-12-02 01:26:01,137 - stpipe - WARNING - FITSFixedWarning: The WCS transformation has more axes (2) than the image it is associated with (0)\n",
      "WARNING: FITSFixedWarning: 'obsfix' made the change 'Set OBSGEO-L to    63.263556 from OBSGEO-[XYZ].\n",
      "Set OBSGEO-B to    28.494908 from OBSGEO-[XYZ].\n",
      "Set OBSGEO-H to 1394727362.015 from OBSGEO-[XYZ]'. [astropy.wcs.wcs]\n",
      "2022-12-02 01:26:01,139 - stpipe - WARNING - FITSFixedWarning: 'obsfix' made the change 'Set OBSGEO-L to    63.263556 from OBSGEO-[XYZ].\n",
      "Set OBSGEO-B to    28.494908 from OBSGEO-[XYZ].\n",
      "Set OBSGEO-H to 1394727362.015 from OBSGEO-[XYZ]'.\n",
      "WARNING: FITSFixedWarning: 'datfix' made the change 'Set DATE-BEG to '2022-11-02T08:27:04.153' from MJD-BEG.\n",
      "Set DATE-AVG to '2022-11-02T08:34:08.256' from MJD-AVG.\n",
      "Set DATE-END to '2022-11-02T08:41:12.358' from MJD-END'. [astropy.wcs.wcs]\n",
      "2022-12-02 01:26:01,160 - stpipe - WARNING - FITSFixedWarning: 'datfix' made the change 'Set DATE-BEG to '2022-11-02T08:27:04.153' from MJD-BEG.\n",
      "Set DATE-AVG to '2022-11-02T08:34:08.256' from MJD-AVG.\n",
      "Set DATE-END to '2022-11-02T08:41:12.358' from MJD-END'.\n",
      "WARNING: FITSFixedWarning: 'datfix' made the change 'Set DATE-BEG to '2022-11-02T08:27:04.153' from MJD-BEG.\n",
      "Set DATE-AVG to '2022-11-02T08:34:08.256' from MJD-AVG.\n",
      "Set DATE-END to '2022-11-02T08:41:12.358' from MJD-END'. [astropy.wcs.wcs]\n",
      "2022-12-02 01:26:01,180 - stpipe - WARNING - FITSFixedWarning: 'datfix' made the change 'Set DATE-BEG to '2022-11-02T08:27:04.153' from MJD-BEG.\n",
      "Set DATE-AVG to '2022-11-02T08:34:08.256' from MJD-AVG.\n",
      "Set DATE-END to '2022-11-02T08:41:12.358' from MJD-END'.\n",
      "WARNING: FITSFixedWarning: 'obsfix' made the change 'Set OBSGEO-L to    63.263556 from OBSGEO-[XYZ].\n",
      "Set OBSGEO-B to    28.494908 from OBSGEO-[XYZ].\n",
      "Set OBSGEO-H to 1394727362.015 from OBSGEO-[XYZ]'. [astropy.wcs.wcs]\n",
      "2022-12-02 01:26:01,182 - stpipe - WARNING - FITSFixedWarning: 'obsfix' made the change 'Set OBSGEO-L to    63.263556 from OBSGEO-[XYZ].\n",
      "Set OBSGEO-B to    28.494908 from OBSGEO-[XYZ].\n",
      "Set OBSGEO-H to 1394727362.015 from OBSGEO-[XYZ]'.\n",
      "2022-12-02 01:26:01,188 - stpipe - INFO -     with WCS of\n",
      "WARNING: FITSFixedWarning: The WCS transformation has more axes (2) than the image it is associated with (0) [astropy.wcs.wcs]\n",
      "2022-12-02 01:26:01,234 - stpipe - WARNING - FITSFixedWarning: The WCS transformation has more axes (2) than the image it is associated with (0)\n",
      "WARNING: FITSFixedWarning: 'obsfix' made the change 'Set OBSGEO-L to    63.263556 from OBSGEO-[XYZ].\n",
      "Set OBSGEO-B to    28.494908 from OBSGEO-[XYZ].\n",
      "Set OBSGEO-H to 1394727362.015 from OBSGEO-[XYZ]'. [astropy.wcs.wcs]\n",
      "2022-12-02 01:26:01,236 - stpipe - WARNING - FITSFixedWarning: 'obsfix' made the change 'Set OBSGEO-L to    63.263556 from OBSGEO-[XYZ].\n",
      "Set OBSGEO-B to    28.494908 from OBSGEO-[XYZ].\n",
      "Set OBSGEO-H to 1394727362.015 from OBSGEO-[XYZ]'.\n",
      "WARNING: FITSFixedWarning: 'datfix' made the change 'Set DATE-BEG to '2022-11-02T08:42:38.232' from MJD-BEG.\n",
      "Set DATE-AVG to '2022-11-02T08:49:42.335' from MJD-AVG.\n",
      "Set DATE-END to '2022-11-02T08:56:46.437' from MJD-END'. [astropy.wcs.wcs]\n",
      "2022-12-02 01:26:01,256 - stpipe - WARNING - FITSFixedWarning: 'datfix' made the change 'Set DATE-BEG to '2022-11-02T08:42:38.232' from MJD-BEG.\n",
      "Set DATE-AVG to '2022-11-02T08:49:42.335' from MJD-AVG.\n",
      "Set DATE-END to '2022-11-02T08:56:46.437' from MJD-END'.\n",
      "WARNING: FITSFixedWarning: 'obsfix' made the change 'Set OBSGEO-L to    63.281076 from OBSGEO-[XYZ].\n",
      "Set OBSGEO-B to    28.491626 from OBSGEO-[XYZ].\n",
      "Set OBSGEO-H to 1394836264.421 from OBSGEO-[XYZ]'. [astropy.wcs.wcs]\n",
      "2022-12-02 01:26:01,258 - stpipe - WARNING - FITSFixedWarning: 'obsfix' made the change 'Set OBSGEO-L to    63.281076 from OBSGEO-[XYZ].\n",
      "Set OBSGEO-B to    28.491626 from OBSGEO-[XYZ].\n",
      "Set OBSGEO-H to 1394836264.421 from OBSGEO-[XYZ]'.\n",
      "WARNING: FITSFixedWarning: 'datfix' made the change 'Set DATE-BEG to '2022-11-02T08:42:38.232' from MJD-BEG.\n",
      "Set DATE-AVG to '2022-11-02T08:49:42.335' from MJD-AVG.\n",
      "Set DATE-END to '2022-11-02T08:56:46.437' from MJD-END'. [astropy.wcs.wcs]\n",
      "2022-12-02 01:26:01,279 - stpipe - WARNING - FITSFixedWarning: 'datfix' made the change 'Set DATE-BEG to '2022-11-02T08:42:38.232' from MJD-BEG.\n",
      "Set DATE-AVG to '2022-11-02T08:49:42.335' from MJD-AVG.\n",
      "Set DATE-END to '2022-11-02T08:56:46.437' from MJD-END'.\n",
      "WARNING: FITSFixedWarning: 'obsfix' made the change 'Set OBSGEO-L to    63.281076 from OBSGEO-[XYZ].\n",
      "Set OBSGEO-B to    28.491626 from OBSGEO-[XYZ].\n",
      "Set OBSGEO-H to 1394836264.421 from OBSGEO-[XYZ]'. [astropy.wcs.wcs]\n",
      "2022-12-02 01:26:01,281 - stpipe - WARNING - FITSFixedWarning: 'obsfix' made the change 'Set OBSGEO-L to    63.281076 from OBSGEO-[XYZ].\n",
      "Set OBSGEO-B to    28.491626 from OBSGEO-[XYZ].\n",
      "Set OBSGEO-H to 1394836264.421 from OBSGEO-[XYZ]'.\n",
      "2022-12-02 01:26:01,286 - stpipe - INFO -     with WCS of\n"
     ]
    },
    {
     "name": "stdout",
     "output_type": "stream",
     "text": [
      "Initialize abell2744-preimg-02561-001-041.0-nrca5-f277w-clear_wcs.log\n",
      "\n",
      "....Updating header for 'jw02561001002_02101_00001_nrcalong_cal.fits' ...\n",
      "\n",
      "\n",
      "Processing jw02561001002_02101_00001_nrcalong_cal.fits['SCI',1]\n",
      "\n",
      "Updating header for jw02561001002_02101_00001_nrcalong_cal.fits[1]\n",
      "WCS Keywords\n",
      "\n",
      "CD_11  CD_12: -1.3111278959986862e-05 1.1561801623619767e-05\n",
      "CD_21  CD_22: 1.1485522162151682e-05 1.3157383997306876e-05\n",
      "CRVAL    : 3.5741076277123063 -30.404497762521444\n",
      "CRPIX    : 1024.51 1024.569\n",
      "NAXIS    : 2048 2048\n",
      "Plate Scale : 0.06274985421338751\n",
      "ORIENTAT : 41.30677617088609\n",
      "WCSNAME  :  PS1\n",
      "\n",
      "....Updating header for 'jw02561001002_02101_00002_nrcalong_cal.fits' ...\n",
      "\n",
      "\n",
      "Processing jw02561001002_02101_00002_nrcalong_cal.fits['SCI',1]\n",
      "\n",
      "Updating header for jw02561001002_02101_00002_nrcalong_cal.fits[1]\n",
      "WCS Keywords\n",
      "\n",
      "CD_11  CD_12: -1.3111444424318224e-05 1.1561611872557668e-05\n",
      "CD_21  CD_22: 1.1485333068561664e-05 1.3157550568719702e-05\n",
      "CRVAL    : 3.576780565210913 -30.404348939257225\n",
      "CRPIX    : 1024.51 1024.569\n",
      "NAXIS    : 2048 2048\n",
      "Plate Scale : 0.06274985375217076\n",
      "ORIENTAT : 41.30595023608472\n",
      "WCSNAME  :  PS1\n"
     ]
    },
    {
     "name": "stderr",
     "output_type": "stream",
     "text": [
      "WARNING: FITSFixedWarning: The WCS transformation has more axes (2) than the image it is associated with (0) [astropy.wcs.wcs]\n",
      "2022-12-02 01:26:01,334 - stpipe - WARNING - FITSFixedWarning: The WCS transformation has more axes (2) than the image it is associated with (0)\n",
      "WARNING: FITSFixedWarning: 'obsfix' made the change 'Set OBSGEO-L to    63.263556 from OBSGEO-[XYZ].\n",
      "Set OBSGEO-B to    28.494908 from OBSGEO-[XYZ].\n",
      "Set OBSGEO-H to 1394727362.015 from OBSGEO-[XYZ]'. [astropy.wcs.wcs]\n",
      "2022-12-02 01:26:01,337 - stpipe - WARNING - FITSFixedWarning: 'obsfix' made the change 'Set OBSGEO-L to    63.263556 from OBSGEO-[XYZ].\n",
      "Set OBSGEO-B to    28.494908 from OBSGEO-[XYZ].\n",
      "Set OBSGEO-H to 1394727362.015 from OBSGEO-[XYZ]'.\n",
      "WARNING: FITSFixedWarning: 'datfix' made the change 'Set DATE-BEG to '2022-11-02T08:58:12.376' from MJD-BEG.\n",
      "Set DATE-AVG to '2022-11-02T09:05:16.479' from MJD-AVG.\n",
      "Set DATE-END to '2022-11-02T09:12:20.581' from MJD-END'. [astropy.wcs.wcs]\n",
      "2022-12-02 01:26:01,356 - stpipe - WARNING - FITSFixedWarning: 'datfix' made the change 'Set DATE-BEG to '2022-11-02T08:58:12.376' from MJD-BEG.\n",
      "Set DATE-AVG to '2022-11-02T09:05:16.479' from MJD-AVG.\n",
      "Set DATE-END to '2022-11-02T09:12:20.581' from MJD-END'.\n",
      "WARNING: FITSFixedWarning: 'obsfix' made the change 'Set OBSGEO-L to    63.299758 from OBSGEO-[XYZ].\n",
      "Set OBSGEO-B to    28.488124 from OBSGEO-[XYZ].\n",
      "Set OBSGEO-H to 1394952435.627 from OBSGEO-[XYZ]'. [astropy.wcs.wcs]\n",
      "2022-12-02 01:26:01,359 - stpipe - WARNING - FITSFixedWarning: 'obsfix' made the change 'Set OBSGEO-L to    63.299758 from OBSGEO-[XYZ].\n",
      "Set OBSGEO-B to    28.488124 from OBSGEO-[XYZ].\n",
      "Set OBSGEO-H to 1394952435.627 from OBSGEO-[XYZ]'.\n",
      "WARNING: FITSFixedWarning: 'datfix' made the change 'Set DATE-BEG to '2022-11-02T08:58:12.376' from MJD-BEG.\n",
      "Set DATE-AVG to '2022-11-02T09:05:16.479' from MJD-AVG.\n",
      "Set DATE-END to '2022-11-02T09:12:20.581' from MJD-END'. [astropy.wcs.wcs]\n",
      "2022-12-02 01:26:01,379 - stpipe - WARNING - FITSFixedWarning: 'datfix' made the change 'Set DATE-BEG to '2022-11-02T08:58:12.376' from MJD-BEG.\n",
      "Set DATE-AVG to '2022-11-02T09:05:16.479' from MJD-AVG.\n",
      "Set DATE-END to '2022-11-02T09:12:20.581' from MJD-END'.\n",
      "WARNING: FITSFixedWarning: 'obsfix' made the change 'Set OBSGEO-L to    63.299758 from OBSGEO-[XYZ].\n",
      "Set OBSGEO-B to    28.488124 from OBSGEO-[XYZ].\n",
      "Set OBSGEO-H to 1394952435.627 from OBSGEO-[XYZ]'. [astropy.wcs.wcs]\n",
      "2022-12-02 01:26:01,382 - stpipe - WARNING - FITSFixedWarning: 'obsfix' made the change 'Set OBSGEO-L to    63.299758 from OBSGEO-[XYZ].\n",
      "Set OBSGEO-B to    28.488124 from OBSGEO-[XYZ].\n",
      "Set OBSGEO-H to 1394952435.627 from OBSGEO-[XYZ]'.\n",
      "2022-12-02 01:26:01,387 - stpipe - INFO -     with WCS of\n",
      "WARNING: FITSFixedWarning: The WCS transformation has more axes (2) than the image it is associated with (0) [astropy.wcs.wcs]\n",
      "2022-12-02 01:26:01,434 - stpipe - WARNING - FITSFixedWarning: The WCS transformation has more axes (2) than the image it is associated with (0)\n",
      "WARNING: FITSFixedWarning: 'obsfix' made the change 'Set OBSGEO-L to    63.263556 from OBSGEO-[XYZ].\n",
      "Set OBSGEO-B to    28.494908 from OBSGEO-[XYZ].\n",
      "Set OBSGEO-H to 1394727362.015 from OBSGEO-[XYZ]'. [astropy.wcs.wcs]\n",
      "2022-12-02 01:26:01,436 - stpipe - WARNING - FITSFixedWarning: 'obsfix' made the change 'Set OBSGEO-L to    63.263556 from OBSGEO-[XYZ].\n",
      "Set OBSGEO-B to    28.494908 from OBSGEO-[XYZ].\n",
      "Set OBSGEO-H to 1394727362.015 from OBSGEO-[XYZ]'.\n",
      "WARNING: FITSFixedWarning: 'datfix' made the change 'Set DATE-BEG to '2022-11-02T09:13:46.455' from MJD-BEG.\n",
      "Set DATE-AVG to '2022-11-02T09:20:50.558' from MJD-AVG.\n",
      "Set DATE-END to '2022-11-02T09:27:54.660' from MJD-END'. [astropy.wcs.wcs]\n",
      "2022-12-02 01:26:01,456 - stpipe - WARNING - FITSFixedWarning: 'datfix' made the change 'Set DATE-BEG to '2022-11-02T09:13:46.455' from MJD-BEG.\n",
      "Set DATE-AVG to '2022-11-02T09:20:50.558' from MJD-AVG.\n",
      "Set DATE-END to '2022-11-02T09:27:54.660' from MJD-END'.\n",
      "WARNING: FITSFixedWarning: 'obsfix' made the change 'Set OBSGEO-L to    63.317268 from OBSGEO-[XYZ].\n",
      "Set OBSGEO-B to    28.484837 from OBSGEO-[XYZ].\n",
      "Set OBSGEO-H to 1395061354.150 from OBSGEO-[XYZ]'. [astropy.wcs.wcs]\n",
      "2022-12-02 01:26:01,458 - stpipe - WARNING - FITSFixedWarning: 'obsfix' made the change 'Set OBSGEO-L to    63.317268 from OBSGEO-[XYZ].\n",
      "Set OBSGEO-B to    28.484837 from OBSGEO-[XYZ].\n",
      "Set OBSGEO-H to 1395061354.150 from OBSGEO-[XYZ]'.\n",
      "WARNING: FITSFixedWarning: 'datfix' made the change 'Set DATE-BEG to '2022-11-02T09:13:46.455' from MJD-BEG.\n",
      "Set DATE-AVG to '2022-11-02T09:20:50.558' from MJD-AVG.\n",
      "Set DATE-END to '2022-11-02T09:27:54.660' from MJD-END'. [astropy.wcs.wcs]\n",
      "2022-12-02 01:26:01,479 - stpipe - WARNING - FITSFixedWarning: 'datfix' made the change 'Set DATE-BEG to '2022-11-02T09:13:46.455' from MJD-BEG.\n",
      "Set DATE-AVG to '2022-11-02T09:20:50.558' from MJD-AVG.\n",
      "Set DATE-END to '2022-11-02T09:27:54.660' from MJD-END'.\n",
      "WARNING: FITSFixedWarning: 'obsfix' made the change 'Set OBSGEO-L to    63.317268 from OBSGEO-[XYZ].\n",
      "Set OBSGEO-B to    28.484837 from OBSGEO-[XYZ].\n",
      "Set OBSGEO-H to 1395061354.150 from OBSGEO-[XYZ]'. [astropy.wcs.wcs]\n",
      "2022-12-02 01:26:01,481 - stpipe - WARNING - FITSFixedWarning: 'obsfix' made the change 'Set OBSGEO-L to    63.317268 from OBSGEO-[XYZ].\n",
      "Set OBSGEO-B to    28.484837 from OBSGEO-[XYZ].\n",
      "Set OBSGEO-H to 1395061354.150 from OBSGEO-[XYZ]'.\n",
      "2022-12-02 01:26:01,486 - stpipe - INFO -     with WCS of\n"
     ]
    },
    {
     "name": "stdout",
     "output_type": "stream",
     "text": [
      "\n",
      "....Updating header for 'jw02561001002_02101_00003_nrcalong_cal.fits' ...\n",
      "\n",
      "\n",
      "Processing jw02561001002_02101_00003_nrcalong_cal.fits['SCI',1]\n",
      "\n",
      "Updating header for jw02561001002_02101_00003_nrcalong_cal.fits[1]\n",
      "WCS Keywords\n",
      "\n",
      "CD_11  CD_12: -1.3111706896812664e-05 1.1561311001518041e-05\n",
      "CD_21  CD_22: 1.1485033244589997e-05 1.315781477472907e-05\n",
      "CRVAL    : 3.5794531868104373 -30.40419948079263\n",
      "CRPIX    : 1024.51 1024.569\n",
      "NAXIS    : 2048 2048\n",
      "Plate Scale : 0.06274985329043402\n",
      "ORIENTAT : 41.30464043438682\n",
      "WCSNAME  :  PS1\n",
      "\n",
      "....Updating header for 'jw02561001002_02101_00004_nrcalong_cal.fits' ...\n",
      "\n",
      "\n",
      "Processing jw02561001002_02101_00004_nrcalong_cal.fits['SCI',1]\n",
      "\n",
      "Updating header for jw02561001002_02101_00004_nrcalong_cal.fits[1]\n",
      "WCS Keywords\n",
      "\n",
      "CD_11  CD_12: -1.3111978324197941e-05 1.1560999832495027e-05\n",
      "CD_21  CD_22: 1.1484723170525759e-05 1.3158088008333889e-05\n",
      "CRVAL    : 3.5821257532453568 -30.40404991149889\n",
      "CRPIX    : 1024.51 1024.569\n",
      "NAXIS    : 2048 2048\n",
      "Plate Scale : 0.06274985282020079\n",
      "ORIENTAT : 41.30328583512956\n",
      "WCSNAME  :  PS1\n",
      "# (2022-12-01 14:26:01.525)\n",
      "# abell2744-preimg-02561-001-041.0-nrca5-f277w-clear: Second Drizzle\n"
     ]
    },
    {
     "name": "stderr",
     "output_type": "stream",
     "text": [
      "2022-12-02 01:26:01,538 - stpipe - INFO - Setting up logfile :  astrodrizzle.log\n"
     ]
    },
    {
     "name": "stdout",
     "output_type": "stream",
     "text": [
      "Setting up logfile :  astrodrizzle.log\n"
     ]
    },
    {
     "name": "stderr",
     "output_type": "stream",
     "text": [
      "2022-12-02 01:26:01,539 - stpipe - INFO - AstroDrizzle log file: astrodrizzle.log\n"
     ]
    },
    {
     "name": "stdout",
     "output_type": "stream",
     "text": [
      "AstroDrizzle log file: astrodrizzle.log\n"
     ]
    },
    {
     "name": "stderr",
     "output_type": "stream",
     "text": [
      "2022-12-02 01:26:01,540 - stpipe - INFO - AstroDrizzle Version 3.5.0 started at: 01:26:01.540 (02/12/2022)\n"
     ]
    },
    {
     "name": "stdout",
     "output_type": "stream",
     "text": [
      "AstroDrizzle Version 3.5.0 started at: 01:26:01.540 (02/12/2022)\n"
     ]
    },
    {
     "name": "stderr",
     "output_type": "stream",
     "text": [
      "2022-12-02 01:26:01,540 - stpipe - INFO - \n"
     ]
    },
    {
     "name": "stdout",
     "output_type": "stream",
     "text": [
      "\n"
     ]
    },
    {
     "name": "stderr",
     "output_type": "stream",
     "text": [
      "2022-12-02 01:26:01,541 - stpipe - INFO - Version Information\n",
      "2022-12-02 01:26:01,541 - stpipe - INFO - --------------------\n",
      "2022-12-02 01:26:01,542 - stpipe - INFO - Python Version [Clang 14.0.6 ]\n",
      "2022-12-02 01:26:01,542 - stpipe - INFO - 3.9.15 (main, Nov 24 2022, 08:29:02) \n",
      "2022-12-02 01:26:01,542 - stpipe - INFO - numpy Version -> 1.23.5 \n",
      "2022-12-02 01:26:01,542 - stpipe - INFO - astropy Version -> 5.1.1 \n",
      "2022-12-02 01:26:01,543 - stpipe - INFO - stwcs Version -> 1.7.2 \n",
      "2022-12-02 01:26:01,544 - stpipe - INFO - ==== Processing Step  Initialization  started at  01:26:01.544 (02/12/2022)\n"
     ]
    },
    {
     "name": "stdout",
     "output_type": "stream",
     "text": [
      "==== Processing Step  Initialization  started at  01:26:01.544 (02/12/2022)\n"
     ]
    },
    {
     "name": "stderr",
     "output_type": "stream",
     "text": [
      "2022-12-02 01:26:01,545 - stpipe - INFO - \n"
     ]
    },
    {
     "name": "stdout",
     "output_type": "stream",
     "text": [
      "\n"
     ]
    },
    {
     "name": "stderr",
     "output_type": "stream",
     "text": [
      "2022-12-02 01:26:01,586 - stpipe - INFO - Executing serially\n",
      "2022-12-02 01:26:01,637 - stpipe - INFO - Setting up output name: abell2744-preimg-02561-001-041.0-nrca5-f277w-clear_drz.fits\n",
      "2022-12-02 01:26:01,638 - stpipe - INFO - -Creating imageObject List as input for processing steps.\n",
      "2022-12-02 01:26:01,696 - stpipe - WARNING - /Users/ivo/anaconda/envs/jwst_nircam/lib/python3.9/site-packages/astropy/wcs/wcs.py:725: FITSFixedWarning: 'obsfix' made the change 'Set OBSGEO-L to    63.263556 from OBSGEO-[XYZ].\n",
      "Set OBSGEO-B to    28.494908 from OBSGEO-[XYZ].\n",
      "Set OBSGEO-H to 1394727362.015 from OBSGEO-[XYZ]'.\n",
      "  warnings.warn(\n",
      "\n",
      "2022-12-02 01:26:01,703 - stpipe - INFO - Reading in MDRIZSKY of 0.1155039295554161\n",
      "2022-12-02 01:26:01,774 - stpipe - WARNING - /Users/ivo/anaconda/envs/jwst_nircam/lib/python3.9/site-packages/astropy/wcs/wcs.py:725: FITSFixedWarning: 'obsfix' made the change 'Set OBSGEO-L to    63.281076 from OBSGEO-[XYZ].\n",
      "Set OBSGEO-B to    28.491626 from OBSGEO-[XYZ].\n",
      "Set OBSGEO-H to 1394836264.421 from OBSGEO-[XYZ]'.\n",
      "  warnings.warn(\n",
      "\n",
      "2022-12-02 01:26:01,781 - stpipe - INFO - Reading in MDRIZSKY of 0.1151477247476578\n",
      "2022-12-02 01:26:01,936 - stpipe - WARNING - /Users/ivo/anaconda/envs/jwst_nircam/lib/python3.9/site-packages/astropy/wcs/wcs.py:725: FITSFixedWarning: 'obsfix' made the change 'Set OBSGEO-L to    63.299758 from OBSGEO-[XYZ].\n",
      "Set OBSGEO-B to    28.488124 from OBSGEO-[XYZ].\n",
      "Set OBSGEO-H to 1394952435.627 from OBSGEO-[XYZ]'.\n",
      "  warnings.warn(\n",
      "\n",
      "2022-12-02 01:26:01,943 - stpipe - INFO - Reading in MDRIZSKY of 0.117072619497776\n",
      "2022-12-02 01:26:02,015 - stpipe - WARNING - /Users/ivo/anaconda/envs/jwst_nircam/lib/python3.9/site-packages/astropy/wcs/wcs.py:725: FITSFixedWarning: 'obsfix' made the change 'Set OBSGEO-L to    63.317268 from OBSGEO-[XYZ].\n",
      "Set OBSGEO-B to    28.484837 from OBSGEO-[XYZ].\n",
      "Set OBSGEO-H to 1395061354.150 from OBSGEO-[XYZ]'.\n",
      "  warnings.warn(\n",
      "\n",
      "2022-12-02 01:26:02,022 - stpipe - INFO - Reading in MDRIZSKY of 0.1160110980272293\n",
      "2022-12-02 01:26:02,037 - stpipe - INFO - No context image will be created for jw02561001002_02101_00001_nrcalong_cal.fits\n",
      "2022-12-02 01:26:02,037 - stpipe - INFO - No context image will be created for jw02561001002_02101_00002_nrcalong_cal.fits\n",
      "2022-12-02 01:26:02,037 - stpipe - INFO - No context image will be created for jw02561001002_02101_00003_nrcalong_cal.fits\n",
      "2022-12-02 01:26:02,038 - stpipe - INFO - No context image will be created for jw02561001002_02101_00004_nrcalong_cal.fits\n",
      "2022-12-02 01:26:02,047 - stpipe - INFO - Reset bit values of 4096 to a value of 0 in jw02561001002_02101_00001_nrcalong_cal.fits[DQ,1]\n",
      "2022-12-02 01:26:02,075 - stpipe - INFO - Reset bit values of 4096 to a value of 0 in jw02561001002_02101_00002_nrcalong_cal.fits[DQ,1]\n",
      "2022-12-02 01:26:02,104 - stpipe - INFO - Reset bit values of 4096 to a value of 0 in jw02561001002_02101_00003_nrcalong_cal.fits[DQ,1]\n",
      "2022-12-02 01:26:02,132 - stpipe - INFO - Reset bit values of 4096 to a value of 0 in jw02561001002_02101_00004_nrcalong_cal.fits[DQ,1]\n",
      "2022-12-02 01:26:02,151 - stpipe - INFO - -Creating output WCS.\n",
      "2022-12-02 01:26:02,153 - stpipe - INFO - No context image will be created for abell2744-preimg-02561-001-041.0-nrca5-f277w-clear_drz.fits\n",
      "2022-12-02 01:26:02,154 - stpipe - INFO - WCS Keywords\n"
     ]
    },
    {
     "name": "stdout",
     "output_type": "stream",
     "text": [
      "WCS Keywords\n"
     ]
    },
    {
     "name": "stderr",
     "output_type": "stream",
     "text": [
      "2022-12-02 01:26:02,155 - stpipe - INFO - \n"
     ]
    },
    {
     "name": "stdout",
     "output_type": "stream",
     "text": [
      "\n"
     ]
    },
    {
     "name": "stderr",
     "output_type": "stream",
     "text": [
      "2022-12-02 01:26:02,155 - stpipe - INFO - Number of WCS axes: 2\n"
     ]
    },
    {
     "name": "stdout",
     "output_type": "stream",
     "text": [
      "Number of WCS axes: 2\n"
     ]
    },
    {
     "name": "stderr",
     "output_type": "stream",
     "text": [
      "2022-12-02 01:26:02,156 - stpipe - INFO - CTYPE : 'RA---TAN'  'DEC--TAN'  \n"
     ]
    },
    {
     "name": "stdout",
     "output_type": "stream",
     "text": [
      "CTYPE : 'RA---TAN'  'DEC--TAN'  \n"
     ]
    },
    {
     "name": "stderr",
     "output_type": "stream",
     "text": [
      "2022-12-02 01:26:02,157 - stpipe - INFO - CRVAL : 3.578062735318098  -30.404334693667945  \n"
     ]
    },
    {
     "name": "stdout",
     "output_type": "stream",
     "text": [
      "CRVAL : 3.578062735318098  -30.404334693667945  \n"
     ]
    },
    {
     "name": "stderr",
     "output_type": "stream",
     "text": [
      "2022-12-02 01:26:02,157 - stpipe - INFO - CRPIX : 1177.5  1174.0  \n"
     ]
    },
    {
     "name": "stdout",
     "output_type": "stream",
     "text": [
      "CRPIX : 1177.5  1174.0  \n"
     ]
    },
    {
     "name": "stderr",
     "output_type": "stream",
     "text": [
      "2022-12-02 01:26:02,158 - stpipe - INFO - CD1_1 CD1_2  : -1.3125425480958589e-05  1.153371868355523e-05  \n"
     ]
    },
    {
     "name": "stdout",
     "output_type": "stream",
     "text": [
      "CD1_1 CD1_2  : -1.3125425480958589e-05  1.153371868355523e-05  \n"
     ]
    },
    {
     "name": "stderr",
     "output_type": "stream",
     "text": [
      "2022-12-02 01:26:02,159 - stpipe - INFO - CD2_1 CD2_2  : 1.153371868355523e-05  1.3125425480958589e-05  \n"
     ]
    },
    {
     "name": "stdout",
     "output_type": "stream",
     "text": [
      "CD2_1 CD2_2  : 1.153371868355523e-05  1.3125425480958589e-05  \n"
     ]
    },
    {
     "name": "stderr",
     "output_type": "stream",
     "text": [
      "2022-12-02 01:26:02,160 - stpipe - INFO - NAXIS : 2355  2348\n"
     ]
    },
    {
     "name": "stdout",
     "output_type": "stream",
     "text": [
      "NAXIS : 2355  2348\n"
     ]
    },
    {
     "name": "stderr",
     "output_type": "stream",
     "text": [
      "2022-12-02 01:26:02,161 - stpipe - INFO - ********************************************************************************\n"
     ]
    },
    {
     "name": "stdout",
     "output_type": "stream",
     "text": [
      "********************************************************************************\n"
     ]
    },
    {
     "name": "stderr",
     "output_type": "stream",
     "text": [
      "2022-12-02 01:26:02,162 - stpipe - INFO - *\n"
     ]
    },
    {
     "name": "stdout",
     "output_type": "stream",
     "text": [
      "*\n"
     ]
    },
    {
     "name": "stderr",
     "output_type": "stream",
     "text": [
      "2022-12-02 01:26:02,162 - stpipe - INFO - *  Estimated memory usage:  up to 381 Mb.\n"
     ]
    },
    {
     "name": "stdout",
     "output_type": "stream",
     "text": [
      "*  Estimated memory usage:  up to 381 Mb.\n"
     ]
    },
    {
     "name": "stderr",
     "output_type": "stream",
     "text": [
      "2022-12-02 01:26:02,163 - stpipe - INFO - *  Output image size:       2355 X 2348 pixels. \n"
     ]
    },
    {
     "name": "stdout",
     "output_type": "stream",
     "text": [
      "*  Output image size:       2355 X 2348 pixels. \n"
     ]
    },
    {
     "name": "stderr",
     "output_type": "stream",
     "text": [
      "2022-12-02 01:26:02,164 - stpipe - INFO - *  Output image file:       ~ 63 Mb. \n"
     ]
    },
    {
     "name": "stdout",
     "output_type": "stream",
     "text": [
      "*  Output image file:       ~ 63 Mb. \n"
     ]
    },
    {
     "name": "stderr",
     "output_type": "stream",
     "text": [
      "2022-12-02 01:26:02,164 - stpipe - INFO - *  Cores available:         4\n"
     ]
    },
    {
     "name": "stdout",
     "output_type": "stream",
     "text": [
      "*  Cores available:         4\n"
     ]
    },
    {
     "name": "stderr",
     "output_type": "stream",
     "text": [
      "2022-12-02 01:26:02,165 - stpipe - INFO - *\n"
     ]
    },
    {
     "name": "stdout",
     "output_type": "stream",
     "text": [
      "*\n"
     ]
    },
    {
     "name": "stderr",
     "output_type": "stream",
     "text": [
      "2022-12-02 01:26:02,166 - stpipe - INFO - ********************************************************************************\n"
     ]
    },
    {
     "name": "stdout",
     "output_type": "stream",
     "text": [
      "********************************************************************************\n"
     ]
    },
    {
     "name": "stderr",
     "output_type": "stream",
     "text": [
      "2022-12-02 01:26:02,167 - stpipe - INFO - ==== Processing Step Initialization finished at 01:26:02.16 (02/12/2022)\n"
     ]
    },
    {
     "name": "stdout",
     "output_type": "stream",
     "text": [
      "==== Processing Step Initialization finished at 01:26:02.16 (02/12/2022)\n"
     ]
    },
    {
     "name": "stderr",
     "output_type": "stream",
     "text": [
      "2022-12-02 01:26:02,168 - stpipe - INFO - USER INPUT PARAMETERS common to all Processing Steps:\n",
      "2022-12-02 01:26:02,168 - stpipe - INFO - \tbuild :\tFalse\n",
      "2022-12-02 01:26:02,168 - stpipe - INFO - \tcoeffs :\tTrue\n",
      "2022-12-02 01:26:02,169 - stpipe - INFO - \tcontext :\tFalse\n",
      "2022-12-02 01:26:02,169 - stpipe - INFO - \tcrbit :\t4096\n",
      "2022-12-02 01:26:02,169 - stpipe - INFO - \tgroup :\t\n",
      "2022-12-02 01:26:02,170 - stpipe - INFO - \tin_memory :\tFalse\n",
      "2022-12-02 01:26:02,170 - stpipe - INFO - \tinput :\t['jw02561001002_02101_00001_nrcalong_cal.fits', 'jw02561001002_02101_00002_nrcalong_cal.fits', 'jw02561001002_02101_00003_nrcalong_cal.fits', 'jw02561001002_02101_00004_nrcalong_cal.fits']\n",
      "2022-12-02 01:26:02,171 - stpipe - INFO - \tmdriztab :\tFalse\n",
      "2022-12-02 01:26:02,171 - stpipe - INFO - \tnum_cores :\tNone\n",
      "2022-12-02 01:26:02,172 - stpipe - INFO - \toutput :\tabell2744-preimg-02561-001-041.0-nrca5-f277w-clear\n",
      "2022-12-02 01:26:02,172 - stpipe - INFO - \tproc_unit :\tnative\n",
      "2022-12-02 01:26:02,172 - stpipe - INFO - \tresetbits :\t4096\n",
      "2022-12-02 01:26:02,173 - stpipe - INFO - \trules_file :\t\n",
      "2022-12-02 01:26:02,173 - stpipe - INFO - \trunfile :\tastrodrizzle.log\n",
      "2022-12-02 01:26:02,173 - stpipe - INFO - \tstepsize :\t10\n",
      "2022-12-02 01:26:02,174 - stpipe - INFO - \tupdatewcs :\tFalse\n",
      "2022-12-02 01:26:02,174 - stpipe - INFO - \twcskey :\t\n",
      "2022-12-02 01:26:02,174 - stpipe - INFO - ==== Processing Step  Static Mask  started at  01:26:02.174 (02/12/2022)\n"
     ]
    },
    {
     "name": "stdout",
     "output_type": "stream",
     "text": [
      "==== Processing Step  Static Mask  started at  01:26:02.174 (02/12/2022)\n"
     ]
    },
    {
     "name": "stderr",
     "output_type": "stream",
     "text": [
      "2022-12-02 01:26:02,175 - stpipe - INFO - \n"
     ]
    },
    {
     "name": "stdout",
     "output_type": "stream",
     "text": [
      "\n"
     ]
    },
    {
     "name": "stderr",
     "output_type": "stream",
     "text": [
      "2022-12-02 01:26:02,176 - stpipe - INFO - USER INPUT PARAMETERS for Static Mask Step:\n",
      "2022-12-02 01:26:02,176 - stpipe - INFO - \tstatic :\tTrue\n",
      "2022-12-02 01:26:02,177 - stpipe - INFO - \tstatic_sig :\t4.0\n",
      "2022-12-02 01:26:02,177 - stpipe - INFO - Computing static mask:\n",
      "2022-12-02 01:26:02,177 - stpipe - INFO - \n",
      "2022-12-02 01:26:02,258 - stpipe - INFO -   mode =  0.112504;   rms = 0.038719;   static_sig = 4.00\n",
      "2022-12-02 01:26:02,262 - stpipe - INFO - Computing static mask:\n",
      "2022-12-02 01:26:02,262 - stpipe - INFO - \n",
      "2022-12-02 01:26:02,341 - stpipe - INFO -   mode =  0.112442;   rms = 0.038875;   static_sig = 4.00\n",
      "2022-12-02 01:26:02,344 - stpipe - INFO - Computing static mask:\n",
      "2022-12-02 01:26:02,344 - stpipe - INFO - \n",
      "2022-12-02 01:26:02,427 - stpipe - INFO -   mode =  0.113425;   rms = 0.044142;   static_sig = 4.00\n",
      "2022-12-02 01:26:02,430 - stpipe - INFO - Computing static mask:\n",
      "2022-12-02 01:26:02,431 - stpipe - INFO - \n",
      "2022-12-02 01:26:02,510 - stpipe - INFO -   mode =  0.112328;   rms = 0.037914;   static_sig = 4.00\n",
      "2022-12-02 01:26:02,533 - stpipe - INFO - Saving static mask to disk: ./_2048x2048_1_staticMask.fits\n",
      "2022-12-02 01:26:02,533 - stpipe - INFO - ==== Processing Step Static Mask finished at 01:26:02.533 (02/12/2022)\n"
     ]
    },
    {
     "name": "stdout",
     "output_type": "stream",
     "text": [
      "==== Processing Step Static Mask finished at 01:26:02.533 (02/12/2022)\n"
     ]
    },
    {
     "name": "stderr",
     "output_type": "stream",
     "text": [
      "2022-12-02 01:26:02,534 - stpipe - INFO - ==== Processing Step  Subtract Sky  started at  01:26:02.534 (02/12/2022)\n"
     ]
    },
    {
     "name": "stdout",
     "output_type": "stream",
     "text": [
      "==== Processing Step  Subtract Sky  started at  01:26:02.534 (02/12/2022)\n"
     ]
    },
    {
     "name": "stderr",
     "output_type": "stream",
     "text": [
      "2022-12-02 01:26:02,535 - stpipe - INFO - \n"
     ]
    },
    {
     "name": "stdout",
     "output_type": "stream",
     "text": [
      "\n"
     ]
    },
    {
     "name": "stderr",
     "output_type": "stream",
     "text": [
      "2022-12-02 01:26:02,535 - stpipe - INFO - USER INPUT PARAMETERS for Sky Subtraction Step:\n",
      "2022-12-02 01:26:02,536 - stpipe - INFO - \tsky_bits :\t0\n",
      "2022-12-02 01:26:02,536 - stpipe - INFO - \tskyclip :\t5\n",
      "2022-12-02 01:26:02,537 - stpipe - INFO - \tskyfile :\t\n",
      "2022-12-02 01:26:02,537 - stpipe - INFO - \tskylower :\tNone\n",
      "2022-12-02 01:26:02,537 - stpipe - INFO - \tskylsigma :\t4.0\n",
      "2022-12-02 01:26:02,538 - stpipe - INFO - \tskymask_cat :\t\n",
      "2022-12-02 01:26:02,538 - stpipe - INFO - \tskymethod :\tlocalmin\n",
      "2022-12-02 01:26:02,538 - stpipe - INFO - \tskystat :\tmedian\n",
      "2022-12-02 01:26:02,538 - stpipe - INFO - \tskysub :\tTrue\n",
      "2022-12-02 01:26:02,539 - stpipe - INFO - \tskyupper :\tNone\n",
      "2022-12-02 01:26:02,539 - stpipe - INFO - \tskyuser :\t\n",
      "2022-12-02 01:26:02,539 - stpipe - INFO - \tskyusigma :\t4.0\n",
      "2022-12-02 01:26:02,540 - stpipe - INFO - \tskywidth :\t0.1\n",
      "2022-12-02 01:26:02,540 - stpipe - INFO - \tuse_static :\tTrue\n",
      "2022-12-02 01:26:02,623 - stpipe - INFO - ***** skymatch started on 2022-12-02 01:26:02.623370\n"
     ]
    },
    {
     "name": "stdout",
     "output_type": "stream",
     "text": [
      "***** skymatch started on 2022-12-02 01:26:02.623370\n"
     ]
    },
    {
     "name": "stderr",
     "output_type": "stream",
     "text": [
      "2022-12-02 01:26:02,624 - stpipe - INFO -       Version 1.0.9\n"
     ]
    },
    {
     "name": "stdout",
     "output_type": "stream",
     "text": [
      "      Version 1.0.9\n"
     ]
    },
    {
     "name": "stderr",
     "output_type": "stream",
     "text": [
      "2022-12-02 01:26:02,625 - stpipe - INFO - \n"
     ]
    },
    {
     "name": "stdout",
     "output_type": "stream",
     "text": [
      "\n"
     ]
    },
    {
     "name": "stderr",
     "output_type": "stream",
     "text": [
      "2022-12-02 01:26:02,625 - stpipe - INFO - 'skymatch' task will apply computed sky differences to input image file(s).\n"
     ]
    },
    {
     "name": "stdout",
     "output_type": "stream",
     "text": [
      "'skymatch' task will apply computed sky differences to input image file(s).\n"
     ]
    },
    {
     "name": "stderr",
     "output_type": "stream",
     "text": [
      "2022-12-02 01:26:02,626 - stpipe - INFO - \n"
     ]
    },
    {
     "name": "stdout",
     "output_type": "stream",
     "text": [
      "\n"
     ]
    },
    {
     "name": "stderr",
     "output_type": "stream",
     "text": [
      "2022-12-02 01:26:02,627 - stpipe - INFO - NOTE: Computed sky values WILL NOT be subtracted from image data ('subtractsky'=False).\n"
     ]
    },
    {
     "name": "stdout",
     "output_type": "stream",
     "text": [
      "NOTE: Computed sky values WILL NOT be subtracted from image data ('subtractsky'=False).\n"
     ]
    },
    {
     "name": "stderr",
     "output_type": "stream",
     "text": [
      "2022-12-02 01:26:02,627 - stpipe - INFO - 'MDRIZSKY' header keyword will represent sky value *computed* from data.\n"
     ]
    },
    {
     "name": "stdout",
     "output_type": "stream",
     "text": [
      "'MDRIZSKY' header keyword will represent sky value *computed* from data.\n"
     ]
    },
    {
     "name": "stderr",
     "output_type": "stream",
     "text": [
      "2022-12-02 01:26:02,628 - stpipe - INFO - \n"
     ]
    },
    {
     "name": "stdout",
     "output_type": "stream",
     "text": [
      "\n"
     ]
    },
    {
     "name": "stderr",
     "output_type": "stream",
     "text": [
      "2022-12-02 01:26:02,629 - stpipe - INFO - -----  User specified keywords:  -----\n"
     ]
    },
    {
     "name": "stdout",
     "output_type": "stream",
     "text": [
      "-----  User specified keywords:  -----\n"
     ]
    },
    {
     "name": "stderr",
     "output_type": "stream",
     "text": [
      "2022-12-02 01:26:02,629 - stpipe - INFO -        Sky Value Keyword:  'MDRIZSKY'\n"
     ]
    },
    {
     "name": "stdout",
     "output_type": "stream",
     "text": [
      "       Sky Value Keyword:  'MDRIZSKY'\n"
     ]
    },
    {
     "name": "stderr",
     "output_type": "stream",
     "text": [
      "2022-12-02 01:26:02,630 - stpipe - INFO -        Data Units Keyword: 'BUNIT'\n"
     ]
    },
    {
     "name": "stdout",
     "output_type": "stream",
     "text": [
      "       Data Units Keyword: 'BUNIT'\n"
     ]
    },
    {
     "name": "stderr",
     "output_type": "stream",
     "text": [
      "2022-12-02 01:26:02,631 - stpipe - INFO - \n"
     ]
    },
    {
     "name": "stdout",
     "output_type": "stream",
     "text": [
      "\n"
     ]
    },
    {
     "name": "stderr",
     "output_type": "stream",
     "text": [
      "2022-12-02 01:26:02,632 - stpipe - INFO - \n"
     ]
    },
    {
     "name": "stdout",
     "output_type": "stream",
     "text": [
      "\n"
     ]
    },
    {
     "name": "stderr",
     "output_type": "stream",
     "text": [
      "2022-12-02 01:26:02,633 - stpipe - INFO - -----  Input file list:  -----\n"
     ]
    },
    {
     "name": "stdout",
     "output_type": "stream",
     "text": [
      "-----  Input file list:  -----\n"
     ]
    },
    {
     "name": "stderr",
     "output_type": "stream",
     "text": [
      "2022-12-02 01:26:02,633 - stpipe - INFO - \n"
     ]
    },
    {
     "name": "stdout",
     "output_type": "stream",
     "text": [
      "\n"
     ]
    },
    {
     "name": "stderr",
     "output_type": "stream",
     "text": [
      "2022-12-02 01:26:02,634 - stpipe - INFO -    **  Input image: 'jw02561001002_02101_00001_nrcalong_cal.fits'\n"
     ]
    },
    {
     "name": "stdout",
     "output_type": "stream",
     "text": [
      "   **  Input image: 'jw02561001002_02101_00001_nrcalong_cal.fits'\n"
     ]
    },
    {
     "name": "stderr",
     "output_type": "stream",
     "text": [
      "2022-12-02 01:26:02,635 - stpipe - INFO -        EXT: 'SCI',1;\tMASK: jw02561001002_02101_00001_nrcalong_skymatch_mask_sci1.fits[0]\n"
     ]
    },
    {
     "name": "stdout",
     "output_type": "stream",
     "text": [
      "       EXT: 'SCI',1;\tMASK: jw02561001002_02101_00001_nrcalong_skymatch_mask_sci1.fits[0]\n"
     ]
    },
    {
     "name": "stderr",
     "output_type": "stream",
     "text": [
      "2022-12-02 01:26:02,635 - stpipe - INFO - \n"
     ]
    },
    {
     "name": "stdout",
     "output_type": "stream",
     "text": [
      "\n"
     ]
    },
    {
     "name": "stderr",
     "output_type": "stream",
     "text": [
      "2022-12-02 01:26:02,636 - stpipe - INFO -    **  Input image: 'jw02561001002_02101_00002_nrcalong_cal.fits'\n"
     ]
    },
    {
     "name": "stdout",
     "output_type": "stream",
     "text": [
      "   **  Input image: 'jw02561001002_02101_00002_nrcalong_cal.fits'\n"
     ]
    },
    {
     "name": "stderr",
     "output_type": "stream",
     "text": [
      "2022-12-02 01:26:02,637 - stpipe - INFO -        EXT: 'SCI',1;\tMASK: jw02561001002_02101_00002_nrcalong_skymatch_mask_sci1.fits[0]\n"
     ]
    },
    {
     "name": "stdout",
     "output_type": "stream",
     "text": [
      "       EXT: 'SCI',1;\tMASK: jw02561001002_02101_00002_nrcalong_skymatch_mask_sci1.fits[0]\n"
     ]
    },
    {
     "name": "stderr",
     "output_type": "stream",
     "text": [
      "2022-12-02 01:26:02,638 - stpipe - INFO - \n"
     ]
    },
    {
     "name": "stdout",
     "output_type": "stream",
     "text": [
      "\n"
     ]
    },
    {
     "name": "stderr",
     "output_type": "stream",
     "text": [
      "2022-12-02 01:26:02,638 - stpipe - INFO -    **  Input image: 'jw02561001002_02101_00003_nrcalong_cal.fits'\n"
     ]
    },
    {
     "name": "stdout",
     "output_type": "stream",
     "text": [
      "   **  Input image: 'jw02561001002_02101_00003_nrcalong_cal.fits'\n"
     ]
    },
    {
     "name": "stderr",
     "output_type": "stream",
     "text": [
      "2022-12-02 01:26:02,639 - stpipe - INFO -        EXT: 'SCI',1;\tMASK: jw02561001002_02101_00003_nrcalong_skymatch_mask_sci1.fits[0]\n"
     ]
    },
    {
     "name": "stdout",
     "output_type": "stream",
     "text": [
      "       EXT: 'SCI',1;\tMASK: jw02561001002_02101_00003_nrcalong_skymatch_mask_sci1.fits[0]\n"
     ]
    },
    {
     "name": "stderr",
     "output_type": "stream",
     "text": [
      "2022-12-02 01:26:02,640 - stpipe - INFO - \n"
     ]
    },
    {
     "name": "stdout",
     "output_type": "stream",
     "text": [
      "\n"
     ]
    },
    {
     "name": "stderr",
     "output_type": "stream",
     "text": [
      "2022-12-02 01:26:02,640 - stpipe - INFO -    **  Input image: 'jw02561001002_02101_00004_nrcalong_cal.fits'\n"
     ]
    },
    {
     "name": "stdout",
     "output_type": "stream",
     "text": [
      "   **  Input image: 'jw02561001002_02101_00004_nrcalong_cal.fits'\n"
     ]
    },
    {
     "name": "stderr",
     "output_type": "stream",
     "text": [
      "2022-12-02 01:26:02,641 - stpipe - INFO -        EXT: 'SCI',1;\tMASK: jw02561001002_02101_00004_nrcalong_skymatch_mask_sci1.fits[0]\n"
     ]
    },
    {
     "name": "stdout",
     "output_type": "stream",
     "text": [
      "       EXT: 'SCI',1;\tMASK: jw02561001002_02101_00004_nrcalong_skymatch_mask_sci1.fits[0]\n"
     ]
    },
    {
     "name": "stderr",
     "output_type": "stream",
     "text": [
      "2022-12-02 01:26:02,641 - stpipe - INFO - \n"
     ]
    },
    {
     "name": "stdout",
     "output_type": "stream",
     "text": [
      "\n"
     ]
    },
    {
     "name": "stderr",
     "output_type": "stream",
     "text": [
      "2022-12-02 01:26:02,642 - stpipe - INFO - -----  Sky statistics parameters:  -----\n"
     ]
    },
    {
     "name": "stdout",
     "output_type": "stream",
     "text": [
      "-----  Sky statistics parameters:  -----\n"
     ]
    },
    {
     "name": "stderr",
     "output_type": "stream",
     "text": [
      "2022-12-02 01:26:02,643 - stpipe - INFO -        statistics function: 'median'\n"
     ]
    },
    {
     "name": "stdout",
     "output_type": "stream",
     "text": [
      "       statistics function: 'median'\n"
     ]
    },
    {
     "name": "stderr",
     "output_type": "stream",
     "text": [
      "2022-12-02 01:26:02,643 - stpipe - INFO -        lower = None\n"
     ]
    },
    {
     "name": "stdout",
     "output_type": "stream",
     "text": [
      "       lower = None\n"
     ]
    },
    {
     "name": "stderr",
     "output_type": "stream",
     "text": [
      "2022-12-02 01:26:02,644 - stpipe - INFO -        upper = None\n"
     ]
    },
    {
     "name": "stdout",
     "output_type": "stream",
     "text": [
      "       upper = None\n"
     ]
    },
    {
     "name": "stderr",
     "output_type": "stream",
     "text": [
      "2022-12-02 01:26:02,644 - stpipe - INFO -        nclip = 5\n"
     ]
    },
    {
     "name": "stdout",
     "output_type": "stream",
     "text": [
      "       nclip = 5\n"
     ]
    },
    {
     "name": "stderr",
     "output_type": "stream",
     "text": [
      "2022-12-02 01:26:02,645 - stpipe - INFO -        lsigma = 4.0\n"
     ]
    },
    {
     "name": "stdout",
     "output_type": "stream",
     "text": [
      "       lsigma = 4.0\n"
     ]
    },
    {
     "name": "stderr",
     "output_type": "stream",
     "text": [
      "2022-12-02 01:26:02,646 - stpipe - INFO -        usigma = 4.0\n"
     ]
    },
    {
     "name": "stdout",
     "output_type": "stream",
     "text": [
      "       usigma = 4.0\n"
     ]
    },
    {
     "name": "stderr",
     "output_type": "stream",
     "text": [
      "2022-12-02 01:26:02,647 - stpipe - INFO -        binwidth = 0.1\n"
     ]
    },
    {
     "name": "stdout",
     "output_type": "stream",
     "text": [
      "       binwidth = 0.1\n"
     ]
    },
    {
     "name": "stderr",
     "output_type": "stream",
     "text": [
      "2022-12-02 01:26:02,647 - stpipe - INFO - \n"
     ]
    },
    {
     "name": "stdout",
     "output_type": "stream",
     "text": [
      "\n"
     ]
    },
    {
     "name": "stderr",
     "output_type": "stream",
     "text": [
      "2022-12-02 01:26:02,648 - stpipe - INFO - -----  Data->Brightness conversion parameters for input files:  -----\n"
     ]
    },
    {
     "name": "stdout",
     "output_type": "stream",
     "text": [
      "-----  Data->Brightness conversion parameters for input files:  -----\n"
     ]
    },
    {
     "name": "stderr",
     "output_type": "stream",
     "text": [
      "2022-12-02 01:26:02,648 - stpipe - INFO - \n"
     ]
    },
    {
     "name": "stdout",
     "output_type": "stream",
     "text": [
      "\n"
     ]
    },
    {
     "name": "stderr",
     "output_type": "stream",
     "text": [
      "2022-12-02 01:26:02,649 - stpipe - INFO -    *   Image: jw02561001002_02101_00001_nrcalong_cal.fits\n"
     ]
    },
    {
     "name": "stdout",
     "output_type": "stream",
     "text": [
      "   *   Image: jw02561001002_02101_00001_nrcalong_cal.fits\n"
     ]
    },
    {
     "name": "stderr",
     "output_type": "stream",
     "text": [
      "2022-12-02 01:26:02,661 - stpipe - WARNING - /Users/ivo/anaconda/envs/jwst_nircam/lib/python3.9/site-packages/astropy/wcs/wcs.py:725: FITSFixedWarning: 'obsfix' made the change 'Set OBSGEO-L to    63.263556 from OBSGEO-[XYZ].\n",
      "Set OBSGEO-B to    28.494908 from OBSGEO-[XYZ].\n",
      "Set OBSGEO-H to 1394727362.015 from OBSGEO-[XYZ]'.\n",
      "  warnings.warn(\n",
      "\n",
      "2022-12-02 01:26:02,663 - stpipe - INFO -        EXT = 'SCI',1\n"
     ]
    },
    {
     "name": "stdout",
     "output_type": "stream",
     "text": [
      "       EXT = 'SCI',1\n"
     ]
    },
    {
     "name": "stderr",
     "output_type": "stream",
     "text": [
      "2022-12-02 01:26:02,664 - stpipe - INFO -              Data units type: COUNT-RATE\n"
     ]
    },
    {
     "name": "stdout",
     "output_type": "stream",
     "text": [
      "             Data units type: COUNT-RATE\n"
     ]
    },
    {
     "name": "stderr",
     "output_type": "stream",
     "text": [
      "2022-12-02 01:26:02,665 - stpipe - INFO -              Conversion factor (data->brightness):  252.7337673908918\n"
     ]
    },
    {
     "name": "stdout",
     "output_type": "stream",
     "text": [
      "             Conversion factor (data->brightness):  252.7337673908918\n"
     ]
    },
    {
     "name": "stderr",
     "output_type": "stream",
     "text": [
      "2022-12-02 01:26:02,666 - stpipe - INFO - \n"
     ]
    },
    {
     "name": "stdout",
     "output_type": "stream",
     "text": [
      "\n"
     ]
    },
    {
     "name": "stderr",
     "output_type": "stream",
     "text": [
      "2022-12-02 01:26:02,667 - stpipe - INFO -    *   Image: jw02561001002_02101_00002_nrcalong_cal.fits\n"
     ]
    },
    {
     "name": "stdout",
     "output_type": "stream",
     "text": [
      "   *   Image: jw02561001002_02101_00002_nrcalong_cal.fits\n"
     ]
    },
    {
     "name": "stderr",
     "output_type": "stream",
     "text": [
      "2022-12-02 01:26:02,679 - stpipe - WARNING - /Users/ivo/anaconda/envs/jwst_nircam/lib/python3.9/site-packages/astropy/wcs/wcs.py:725: FITSFixedWarning: 'obsfix' made the change 'Set OBSGEO-L to    63.281076 from OBSGEO-[XYZ].\n",
      "Set OBSGEO-B to    28.491626 from OBSGEO-[XYZ].\n",
      "Set OBSGEO-H to 1394836264.421 from OBSGEO-[XYZ]'.\n",
      "  warnings.warn(\n",
      "\n",
      "2022-12-02 01:26:02,681 - stpipe - INFO -        EXT = 'SCI',1\n"
     ]
    },
    {
     "name": "stdout",
     "output_type": "stream",
     "text": [
      "       EXT = 'SCI',1\n"
     ]
    },
    {
     "name": "stderr",
     "output_type": "stream",
     "text": [
      "2022-12-02 01:26:02,682 - stpipe - INFO -              Data units type: COUNT-RATE\n"
     ]
    },
    {
     "name": "stdout",
     "output_type": "stream",
     "text": [
      "             Data units type: COUNT-RATE\n"
     ]
    },
    {
     "name": "stderr",
     "output_type": "stream",
     "text": [
      "2022-12-02 01:26:02,683 - stpipe - INFO -              Conversion factor (data->brightness):  252.73377103180647\n"
     ]
    },
    {
     "name": "stdout",
     "output_type": "stream",
     "text": [
      "             Conversion factor (data->brightness):  252.73377103180647\n"
     ]
    },
    {
     "name": "stderr",
     "output_type": "stream",
     "text": [
      "2022-12-02 01:26:02,683 - stpipe - INFO - \n"
     ]
    },
    {
     "name": "stdout",
     "output_type": "stream",
     "text": [
      "\n"
     ]
    },
    {
     "name": "stderr",
     "output_type": "stream",
     "text": [
      "2022-12-02 01:26:02,684 - stpipe - INFO -    *   Image: jw02561001002_02101_00003_nrcalong_cal.fits\n"
     ]
    },
    {
     "name": "stdout",
     "output_type": "stream",
     "text": [
      "   *   Image: jw02561001002_02101_00003_nrcalong_cal.fits\n"
     ]
    },
    {
     "name": "stderr",
     "output_type": "stream",
     "text": [
      "2022-12-02 01:26:02,697 - stpipe - WARNING - /Users/ivo/anaconda/envs/jwst_nircam/lib/python3.9/site-packages/astropy/wcs/wcs.py:725: FITSFixedWarning: 'obsfix' made the change 'Set OBSGEO-L to    63.299758 from OBSGEO-[XYZ].\n",
      "Set OBSGEO-B to    28.488124 from OBSGEO-[XYZ].\n",
      "Set OBSGEO-H to 1394952435.627 from OBSGEO-[XYZ]'.\n",
      "  warnings.warn(\n",
      "\n",
      "2022-12-02 01:26:02,699 - stpipe - INFO -        EXT = 'SCI',1\n"
     ]
    },
    {
     "name": "stdout",
     "output_type": "stream",
     "text": [
      "       EXT = 'SCI',1\n"
     ]
    },
    {
     "name": "stderr",
     "output_type": "stream",
     "text": [
      "2022-12-02 01:26:02,699 - stpipe - INFO -              Data units type: COUNT-RATE\n"
     ]
    },
    {
     "name": "stdout",
     "output_type": "stream",
     "text": [
      "             Data units type: COUNT-RATE\n"
     ]
    },
    {
     "name": "stderr",
     "output_type": "stream",
     "text": [
      "2022-12-02 01:26:02,700 - stpipe - INFO -              Conversion factor (data->brightness):  252.73377467308006\n"
     ]
    },
    {
     "name": "stdout",
     "output_type": "stream",
     "text": [
      "             Conversion factor (data->brightness):  252.73377467308006\n"
     ]
    },
    {
     "name": "stderr",
     "output_type": "stream",
     "text": [
      "2022-12-02 01:26:02,701 - stpipe - INFO - \n"
     ]
    },
    {
     "name": "stdout",
     "output_type": "stream",
     "text": [
      "\n"
     ]
    },
    {
     "name": "stderr",
     "output_type": "stream",
     "text": [
      "2022-12-02 01:26:02,702 - stpipe - INFO -    *   Image: jw02561001002_02101_00004_nrcalong_cal.fits\n"
     ]
    },
    {
     "name": "stdout",
     "output_type": "stream",
     "text": [
      "   *   Image: jw02561001002_02101_00004_nrcalong_cal.fits\n"
     ]
    },
    {
     "name": "stderr",
     "output_type": "stream",
     "text": [
      "2022-12-02 01:26:02,714 - stpipe - WARNING - /Users/ivo/anaconda/envs/jwst_nircam/lib/python3.9/site-packages/astropy/wcs/wcs.py:725: FITSFixedWarning: 'obsfix' made the change 'Set OBSGEO-L to    63.317268 from OBSGEO-[XYZ].\n",
      "Set OBSGEO-B to    28.484837 from OBSGEO-[XYZ].\n",
      "Set OBSGEO-H to 1395061354.150 from OBSGEO-[XYZ]'.\n",
      "  warnings.warn(\n",
      "\n",
      "2022-12-02 01:26:02,716 - stpipe - INFO -        EXT = 'SCI',1\n"
     ]
    },
    {
     "name": "stdout",
     "output_type": "stream",
     "text": [
      "       EXT = 'SCI',1\n"
     ]
    },
    {
     "name": "stderr",
     "output_type": "stream",
     "text": [
      "2022-12-02 01:26:02,717 - stpipe - INFO -              Data units type: COUNT-RATE\n"
     ]
    },
    {
     "name": "stdout",
     "output_type": "stream",
     "text": [
      "             Data units type: COUNT-RATE\n"
     ]
    },
    {
     "name": "stderr",
     "output_type": "stream",
     "text": [
      "2022-12-02 01:26:02,717 - stpipe - INFO -              Conversion factor (data->brightness):  252.7337785341064\n"
     ]
    },
    {
     "name": "stdout",
     "output_type": "stream",
     "text": [
      "             Conversion factor (data->brightness):  252.7337785341064\n"
     ]
    },
    {
     "name": "stderr",
     "output_type": "stream",
     "text": [
      "2022-12-02 01:26:02,718 - stpipe - INFO - \n"
     ]
    },
    {
     "name": "stdout",
     "output_type": "stream",
     "text": [
      "\n"
     ]
    },
    {
     "name": "stderr",
     "output_type": "stream",
     "text": [
      "2022-12-02 01:26:02,719 - stpipe - INFO - \n"
     ]
    },
    {
     "name": "stdout",
     "output_type": "stream",
     "text": [
      "\n"
     ]
    },
    {
     "name": "stderr",
     "output_type": "stream",
     "text": [
      "2022-12-02 01:26:02,720 - stpipe - INFO - -----  Computing sky values requested image extensions (detector chips):  -----\n"
     ]
    },
    {
     "name": "stdout",
     "output_type": "stream",
     "text": [
      "-----  Computing sky values requested image extensions (detector chips):  -----\n"
     ]
    },
    {
     "name": "stderr",
     "output_type": "stream",
     "text": [
      "2022-12-02 01:26:02,721 - stpipe - INFO - \n"
     ]
    },
    {
     "name": "stdout",
     "output_type": "stream",
     "text": [
      "\n"
     ]
    },
    {
     "name": "stderr",
     "output_type": "stream",
     "text": [
      "2022-12-02 01:26:02,852 - stpipe - INFO -    *   Image:   'jw02561001002_02101_00001_nrcalong_cal.fits['SCI',1]'  --  SKY = 29.19174326499249 (brightness units)\n"
     ]
    },
    {
     "name": "stdout",
     "output_type": "stream",
     "text": [
      "   *   Image:   'jw02561001002_02101_00001_nrcalong_cal.fits['SCI',1]'  --  SKY = 29.19174326499249 (brightness units)\n"
     ]
    },
    {
     "name": "stderr",
     "output_type": "stream",
     "text": [
      "2022-12-02 01:26:02,852 - stpipe - INFO -        Sky change (data units):\n"
     ]
    },
    {
     "name": "stdout",
     "output_type": "stream",
     "text": [
      "       Sky change (data units):\n"
     ]
    },
    {
     "name": "stderr",
     "output_type": "stream",
     "text": [
      "2022-12-02 01:26:02,853 - stpipe - INFO -       - EXT = 'SCI',1   delta(MDRIZSKY) = 0.115504   NEW MDRIZSKY = 0.115504\n"
     ]
    },
    {
     "name": "stdout",
     "output_type": "stream",
     "text": [
      "      - EXT = 'SCI',1   delta(MDRIZSKY) = 0.115504   NEW MDRIZSKY = 0.115504\n"
     ]
    },
    {
     "name": "stderr",
     "output_type": "stream",
     "text": [
      "2022-12-02 01:26:02,986 - stpipe - INFO -    *   Image:   'jw02561001002_02101_00002_nrcalong_cal.fits['SCI',1]'  --  SKY = 29.101718701208014 (brightness units)\n"
     ]
    },
    {
     "name": "stdout",
     "output_type": "stream",
     "text": [
      "   *   Image:   'jw02561001002_02101_00002_nrcalong_cal.fits['SCI',1]'  --  SKY = 29.101718701208014 (brightness units)\n"
     ]
    },
    {
     "name": "stderr",
     "output_type": "stream",
     "text": [
      "2022-12-02 01:26:02,987 - stpipe - INFO -        Sky change (data units):\n"
     ]
    },
    {
     "name": "stdout",
     "output_type": "stream",
     "text": [
      "       Sky change (data units):\n"
     ]
    },
    {
     "name": "stderr",
     "output_type": "stream",
     "text": [
      "2022-12-02 01:26:02,988 - stpipe - INFO -       - EXT = 'SCI',1   delta(MDRIZSKY) = 0.115148   NEW MDRIZSKY = 0.115148\n"
     ]
    },
    {
     "name": "stdout",
     "output_type": "stream",
     "text": [
      "      - EXT = 'SCI',1   delta(MDRIZSKY) = 0.115148   NEW MDRIZSKY = 0.115148\n"
     ]
    },
    {
     "name": "stderr",
     "output_type": "stream",
     "text": [
      "2022-12-02 01:26:03,109 - stpipe - INFO -    *   Image:   'jw02561001002_02101_00003_nrcalong_cal.fits['SCI',1]'  --  SKY = 29.588205036538167 (brightness units)\n"
     ]
    },
    {
     "name": "stdout",
     "output_type": "stream",
     "text": [
      "   *   Image:   'jw02561001002_02101_00003_nrcalong_cal.fits['SCI',1]'  --  SKY = 29.588205036538167 (brightness units)\n"
     ]
    },
    {
     "name": "stderr",
     "output_type": "stream",
     "text": [
      "2022-12-02 01:26:03,110 - stpipe - INFO -        Sky change (data units):\n"
     ]
    },
    {
     "name": "stdout",
     "output_type": "stream",
     "text": [
      "       Sky change (data units):\n"
     ]
    },
    {
     "name": "stderr",
     "output_type": "stream",
     "text": [
      "2022-12-02 01:26:03,111 - stpipe - INFO -       - EXT = 'SCI',1   delta(MDRIZSKY) = 0.117073   NEW MDRIZSKY = 0.117073\n"
     ]
    },
    {
     "name": "stdout",
     "output_type": "stream",
     "text": [
      "      - EXT = 'SCI',1   delta(MDRIZSKY) = 0.117073   NEW MDRIZSKY = 0.117073\n"
     ]
    },
    {
     "name": "stderr",
     "output_type": "stream",
     "text": [
      "2022-12-02 01:26:03,239 - stpipe - INFO -    *   Image:   'jw02561001002_02101_00004_nrcalong_cal.fits['SCI',1]'  --  SKY = 29.319923156312278 (brightness units)\n"
     ]
    },
    {
     "name": "stdout",
     "output_type": "stream",
     "text": [
      "   *   Image:   'jw02561001002_02101_00004_nrcalong_cal.fits['SCI',1]'  --  SKY = 29.319923156312278 (brightness units)\n"
     ]
    },
    {
     "name": "stderr",
     "output_type": "stream",
     "text": [
      "2022-12-02 01:26:03,240 - stpipe - INFO -        Sky change (data units):\n"
     ]
    },
    {
     "name": "stdout",
     "output_type": "stream",
     "text": [
      "       Sky change (data units):\n"
     ]
    },
    {
     "name": "stderr",
     "output_type": "stream",
     "text": [
      "2022-12-02 01:26:03,241 - stpipe - INFO -       - EXT = 'SCI',1   delta(MDRIZSKY) = 0.116011   NEW MDRIZSKY = 0.116011\n"
     ]
    },
    {
     "name": "stdout",
     "output_type": "stream",
     "text": [
      "      - EXT = 'SCI',1   delta(MDRIZSKY) = 0.116011   NEW MDRIZSKY = 0.116011\n"
     ]
    },
    {
     "name": "stderr",
     "output_type": "stream",
     "text": [
      "2022-12-02 01:26:03,241 - stpipe - INFO - ***** skymatch ended on 2022-12-02 01:26:03.241732\n"
     ]
    },
    {
     "name": "stdout",
     "output_type": "stream",
     "text": [
      "***** skymatch ended on 2022-12-02 01:26:03.241732\n"
     ]
    },
    {
     "name": "stderr",
     "output_type": "stream",
     "text": [
      "2022-12-02 01:26:03,242 - stpipe - INFO - TOTAL RUN TIME: 0:00:00.618362\n"
     ]
    },
    {
     "name": "stdout",
     "output_type": "stream",
     "text": [
      "TOTAL RUN TIME: 0:00:00.618362\n"
     ]
    },
    {
     "name": "stderr",
     "output_type": "stream",
     "text": [
      "2022-12-02 01:26:03,323 - stpipe - INFO - ==== Processing Step Subtract Sky finished at 01:26:03.323 (02/12/2022)\n"
     ]
    },
    {
     "name": "stdout",
     "output_type": "stream",
     "text": [
      "==== Processing Step Subtract Sky finished at 01:26:03.323 (02/12/2022)\n"
     ]
    },
    {
     "name": "stderr",
     "output_type": "stream",
     "text": [
      "2022-12-02 01:26:03,324 - stpipe - INFO - ==== Processing Step  Separate Drizzle  started at  01:26:03.324 (02/12/2022)\n"
     ]
    },
    {
     "name": "stdout",
     "output_type": "stream",
     "text": [
      "==== Processing Step  Separate Drizzle  started at  01:26:03.324 (02/12/2022)\n"
     ]
    },
    {
     "name": "stderr",
     "output_type": "stream",
     "text": [
      "2022-12-02 01:26:03,325 - stpipe - INFO - \n"
     ]
    },
    {
     "name": "stdout",
     "output_type": "stream",
     "text": [
      "\n"
     ]
    },
    {
     "name": "stderr",
     "output_type": "stream",
     "text": [
      "2022-12-02 01:26:03,325 - stpipe - INFO - Interpreted paramDict with single=True as:\n",
      "2022-12-02 01:26:03,326 - stpipe - INFO - {'build': False, 'stepsize': 10, 'coeffs': True, 'wcskey': '', 'kernel': 'turbo', 'wt_scl': 'exptime', 'pixfrac': 1.0, 'fillval': None, 'bits': 4, 'compress': False, 'units': 'cps'}\n",
      "2022-12-02 01:26:03,326 - stpipe - INFO - USER INPUT PARAMETERS for Separate Drizzle Step:\n",
      "2022-12-02 01:26:03,326 - stpipe - INFO - \tbits :\t4\n",
      "2022-12-02 01:26:03,327 - stpipe - INFO - \tbuild :\tFalse\n",
      "2022-12-02 01:26:03,327 - stpipe - INFO - \tclean :\tTrue\n",
      "2022-12-02 01:26:03,327 - stpipe - INFO - \tcoeffs :\tTrue\n",
      "2022-12-02 01:26:03,328 - stpipe - INFO - \tcompress :\tFalse\n",
      "2022-12-02 01:26:03,328 - stpipe - INFO - \tcrbit :\tNone\n",
      "2022-12-02 01:26:03,328 - stpipe - INFO - \tfillval :\tNone\n",
      "2022-12-02 01:26:03,329 - stpipe - INFO - \tkernel :\tturbo\n",
      "2022-12-02 01:26:03,329 - stpipe - INFO - \tnum_cores :\tNone\n",
      "2022-12-02 01:26:03,330 - stpipe - INFO - \tpixfrac :\t1.0\n",
      "2022-12-02 01:26:03,330 - stpipe - INFO - \tproc_unit :\telectrons\n",
      "2022-12-02 01:26:03,330 - stpipe - INFO - \trules_file :\tNone\n",
      "2022-12-02 01:26:03,331 - stpipe - INFO - \tstepsize :\t10\n",
      "2022-12-02 01:26:03,331 - stpipe - INFO - \tunits :\tcps\n",
      "2022-12-02 01:26:03,331 - stpipe - INFO - \twcskey :\t\n",
      "2022-12-02 01:26:03,332 - stpipe - INFO - \twht_type :\tNone\n",
      "2022-12-02 01:26:03,332 - stpipe - INFO - \twt_scl :\texptime\n",
      "2022-12-02 01:26:03,332 - stpipe - INFO -   **Using sub-sampling value of 10 for kernel turbo\n",
      "2022-12-02 01:26:03,333 - stpipe - INFO - Running Drizzle to create output frame with WCS of: \n",
      "2022-12-02 01:26:03,333 - stpipe - INFO - WCS Keywords\n"
     ]
    },
    {
     "name": "stdout",
     "output_type": "stream",
     "text": [
      "WCS Keywords\n"
     ]
    },
    {
     "name": "stderr",
     "output_type": "stream",
     "text": [
      "2022-12-02 01:26:03,334 - stpipe - INFO - \n"
     ]
    },
    {
     "name": "stdout",
     "output_type": "stream",
     "text": [
      "\n"
     ]
    },
    {
     "name": "stderr",
     "output_type": "stream",
     "text": [
      "2022-12-02 01:26:03,335 - stpipe - INFO - Number of WCS axes: 2\n"
     ]
    },
    {
     "name": "stdout",
     "output_type": "stream",
     "text": [
      "Number of WCS axes: 2\n"
     ]
    },
    {
     "name": "stderr",
     "output_type": "stream",
     "text": [
      "2022-12-02 01:26:03,336 - stpipe - INFO - CTYPE : 'RA---TAN'  'DEC--TAN'  \n"
     ]
    },
    {
     "name": "stdout",
     "output_type": "stream",
     "text": [
      "CTYPE : 'RA---TAN'  'DEC--TAN'  \n"
     ]
    },
    {
     "name": "stderr",
     "output_type": "stream",
     "text": [
      "2022-12-02 01:26:03,336 - stpipe - INFO - CRVAL : 3.578062735318098  -30.404334693667945  \n"
     ]
    },
    {
     "name": "stdout",
     "output_type": "stream",
     "text": [
      "CRVAL : 3.578062735318098  -30.404334693667945  \n"
     ]
    },
    {
     "name": "stderr",
     "output_type": "stream",
     "text": [
      "2022-12-02 01:26:03,337 - stpipe - INFO - CRPIX : 1177.5  1174.0  \n"
     ]
    },
    {
     "name": "stdout",
     "output_type": "stream",
     "text": [
      "CRPIX : 1177.5  1174.0  \n"
     ]
    },
    {
     "name": "stderr",
     "output_type": "stream",
     "text": [
      "2022-12-02 01:26:03,337 - stpipe - INFO - CD1_1 CD1_2  : -1.3125425480958589e-05  1.153371868355523e-05  \n"
     ]
    },
    {
     "name": "stdout",
     "output_type": "stream",
     "text": [
      "CD1_1 CD1_2  : -1.3125425480958589e-05  1.153371868355523e-05  \n"
     ]
    },
    {
     "name": "stderr",
     "output_type": "stream",
     "text": [
      "2022-12-02 01:26:03,338 - stpipe - INFO - CD2_1 CD2_2  : 1.153371868355523e-05  1.3125425480958589e-05  \n"
     ]
    },
    {
     "name": "stdout",
     "output_type": "stream",
     "text": [
      "CD2_1 CD2_2  : 1.153371868355523e-05  1.3125425480958589e-05  \n"
     ]
    },
    {
     "name": "stderr",
     "output_type": "stream",
     "text": [
      "2022-12-02 01:26:03,339 - stpipe - INFO - NAXIS : 2355  2348\n"
     ]
    },
    {
     "name": "stdout",
     "output_type": "stream",
     "text": [
      "NAXIS : 2355  2348\n"
     ]
    },
    {
     "name": "stderr",
     "output_type": "stream",
     "text": [
      "2022-12-02 01:26:03,340 - stpipe - INFO - Executing 4 parallel workers\n",
      "2022-12-02 01:26:03,387 - stpipe - INFO - -Drizzle input: jw02561001002_02101_00001_nrcalong_cal.fits[sci,1]\n",
      "2022-12-02 01:26:03,390 - stpipe - INFO - -Drizzle input: jw02561001002_02101_00002_nrcalong_cal.fits[sci,1]\n",
      "2022-12-02 01:26:03,396 - stpipe - INFO - -Drizzle input: jw02561001002_02101_00003_nrcalong_cal.fits[sci,1]\n",
      "2022-12-02 01:26:03,403 - stpipe - INFO - -Drizzle input: jw02561001002_02101_00004_nrcalong_cal.fits[sci,1]\n",
      "2022-12-02 01:26:03,411 - stpipe - INFO - Applying sky value of 0.115504 to jw02561001002_02101_00001_nrcalong_cal.fits[sci,1]\n",
      "2022-12-02 01:26:03,412 - stpipe - INFO - Applying sky value of 0.115148 to jw02561001002_02101_00002_nrcalong_cal.fits[sci,1]\n",
      "2022-12-02 01:26:03,418 - stpipe - INFO - Applying sky value of 0.117073 to jw02561001002_02101_00003_nrcalong_cal.fits[sci,1]\n",
      "2022-12-02 01:26:03,426 - stpipe - INFO - Applying sky value of 0.116011 to jw02561001002_02101_00004_nrcalong_cal.fits[sci,1]\n",
      "2022-12-02 01:26:03,478 - stpipe - INFO - Using WCSLIB-based coordinate transformation...\n",
      "2022-12-02 01:26:03,478 - stpipe - INFO - Using WCSLIB-based coordinate transformation...\n",
      "2022-12-02 01:26:03,478 - stpipe - INFO - Using WCSLIB-based coordinate transformation...\n",
      "2022-12-02 01:26:03,478 - stpipe - INFO - Using WCSLIB-based coordinate transformation...\n",
      "2022-12-02 01:26:03,481 - stpipe - INFO - stepsize = 10\n",
      "2022-12-02 01:26:03,481 - stpipe - INFO - stepsize = 10\n",
      "2022-12-02 01:26:03,481 - stpipe - INFO - stepsize = 10\n",
      "2022-12-02 01:26:03,481 - stpipe - INFO - stepsize = 10\n",
      "2022-12-02 01:26:03,494 - stpipe - INFO - -Drizzling using kernel = turbo\n",
      "2022-12-02 01:26:03,494 - stpipe - INFO - -Drizzling using kernel = turbo\n",
      "2022-12-02 01:26:03,495 - stpipe - INFO - -Drizzling using kernel = turbo\n",
      "2022-12-02 01:26:03,495 - stpipe - INFO - -Drizzling using kernel = turbo\n",
      "2022-12-02 01:26:03,495 - stpipe - INFO - \n",
      "2022-12-02 01:26:03,495 - stpipe - INFO - \n",
      "2022-12-02 01:26:03,496 - stpipe - INFO - \n",
      "2022-12-02 01:26:03,496 - stpipe - INFO - \n",
      "2022-12-02 01:26:03,812 - stpipe - INFO - -Generating simple FITS output: jw02561001002_02101_00001_nrcalong_single_sci.fits\n"
     ]
    },
    {
     "name": "stdout",
     "output_type": "stream",
     "text": [
      "-Generating simple FITS output: jw02561001002_02101_00001_nrcalong_single_sci.fits\n"
     ]
    },
    {
     "name": "stderr",
     "output_type": "stream",
     "text": [
      "2022-12-02 01:26:03,816 - stpipe - INFO - -Generating simple FITS output: jw02561001002_02101_00004_nrcalong_single_sci.fits\n"
     ]
    },
    {
     "name": "stdout",
     "output_type": "stream",
     "text": [
      "-Generating simple FITS output: jw02561001002_02101_00004_nrcalong_single_sci.fits\n"
     ]
    },
    {
     "name": "stderr",
     "output_type": "stream",
     "text": [
      "2022-12-02 01:26:03,819 - stpipe - INFO - -Generating simple FITS output: jw02561001002_02101_00003_nrcalong_single_sci.fits\n"
     ]
    },
    {
     "name": "stdout",
     "output_type": "stream",
     "text": [
      "-Generating simple FITS output: jw02561001002_02101_00003_nrcalong_single_sci.fits\n"
     ]
    },
    {
     "name": "stderr",
     "output_type": "stream",
     "text": [
      "2022-12-02 01:26:03,822 - stpipe - INFO - -Generating simple FITS output: jw02561001002_02101_00002_nrcalong_single_sci.fits\n"
     ]
    },
    {
     "name": "stdout",
     "output_type": "stream",
     "text": [
      "-Generating simple FITS output: jw02561001002_02101_00002_nrcalong_single_sci.fits\n"
     ]
    },
    {
     "name": "stderr",
     "output_type": "stream",
     "text": [
      "2022-12-02 01:26:03,832 - stpipe - WARNING - /Users/ivo/anaconda/envs/jwst_nircam/lib/python3.9/site-packages/astropy/io/fits/card.py:1008: VerifyWarning: Card is too long, comment will be truncated.\n",
      "  warnings.warn('Card is too long, comment will be truncated.',\n",
      "\n",
      "2022-12-02 01:26:03,835 - stpipe - WARNING - /Users/ivo/anaconda/envs/jwst_nircam/lib/python3.9/site-packages/astropy/io/fits/card.py:1008: VerifyWarning: Card is too long, comment will be truncated.\n",
      "  warnings.warn('Card is too long, comment will be truncated.',\n",
      "\n",
      "2022-12-02 01:26:03,838 - stpipe - WARNING - /Users/ivo/anaconda/envs/jwst_nircam/lib/python3.9/site-packages/astropy/io/fits/card.py:1008: VerifyWarning: Card is too long, comment will be truncated.\n",
      "  warnings.warn('Card is too long, comment will be truncated.',\n",
      "\n",
      "2022-12-02 01:26:03,841 - stpipe - WARNING - /Users/ivo/anaconda/envs/jwst_nircam/lib/python3.9/site-packages/astropy/io/fits/card.py:1008: VerifyWarning: Card is too long, comment will be truncated.\n",
      "  warnings.warn('Card is too long, comment will be truncated.',\n",
      "\n",
      "2022-12-02 01:26:03,858 - stpipe - WARNING - /Users/ivo/anaconda/envs/jwst_nircam/lib/python3.9/site-packages/astropy/wcs/wcs.py:725: FITSFixedWarning: 'obsfix' made the change 'Set OBSGEO-L to    63.263556 from OBSGEO-[XYZ].\n",
      "Set OBSGEO-B to    28.494908 from OBSGEO-[XYZ].\n",
      "Set OBSGEO-H to 1394727362.015 from OBSGEO-[XYZ]'.\n",
      "  warnings.warn(\n",
      "\n",
      "2022-12-02 01:26:03,861 - stpipe - WARNING - /Users/ivo/anaconda/envs/jwst_nircam/lib/python3.9/site-packages/astropy/wcs/wcs.py:725: FITSFixedWarning: 'obsfix' made the change 'Set OBSGEO-L to    63.317268 from OBSGEO-[XYZ].\n",
      "Set OBSGEO-B to    28.484837 from OBSGEO-[XYZ].\n",
      "Set OBSGEO-H to 1395061354.150 from OBSGEO-[XYZ]'.\n",
      "  warnings.warn(\n",
      "\n",
      "2022-12-02 01:26:03,864 - stpipe - WARNING - /Users/ivo/anaconda/envs/jwst_nircam/lib/python3.9/site-packages/astropy/wcs/wcs.py:725: FITSFixedWarning: 'obsfix' made the change 'Set OBSGEO-L to    63.299758 from OBSGEO-[XYZ].\n",
      "Set OBSGEO-B to    28.488124 from OBSGEO-[XYZ].\n",
      "Set OBSGEO-H to 1394952435.627 from OBSGEO-[XYZ]'.\n",
      "  warnings.warn(\n",
      "\n",
      "2022-12-02 01:26:03,868 - stpipe - WARNING - /Users/ivo/anaconda/envs/jwst_nircam/lib/python3.9/site-packages/astropy/wcs/wcs.py:725: FITSFixedWarning: 'obsfix' made the change 'Set OBSGEO-L to    63.281076 from OBSGEO-[XYZ].\n",
      "Set OBSGEO-B to    28.491626 from OBSGEO-[XYZ].\n",
      "Set OBSGEO-H to 1394836264.421 from OBSGEO-[XYZ]'.\n",
      "  warnings.warn(\n",
      "\n",
      "2022-12-02 01:26:03,873 - stpipe - INFO - Writing out image to disk: jw02561001002_02101_00001_nrcalong_single_sci.fits\n"
     ]
    },
    {
     "name": "stdout",
     "output_type": "stream",
     "text": [
      "Writing out image to disk: jw02561001002_02101_00001_nrcalong_single_sci.fits\n"
     ]
    },
    {
     "name": "stderr",
     "output_type": "stream",
     "text": [
      "2022-12-02 01:26:03,876 - stpipe - INFO - Writing out image to disk: jw02561001002_02101_00004_nrcalong_single_sci.fits\n"
     ]
    },
    {
     "name": "stdout",
     "output_type": "stream",
     "text": [
      "Writing out image to disk: jw02561001002_02101_00004_nrcalong_single_sci.fits\n"
     ]
    },
    {
     "name": "stderr",
     "output_type": "stream",
     "text": [
      "2022-12-02 01:26:03,878 - stpipe - INFO - Writing out image to disk: jw02561001002_02101_00003_nrcalong_single_sci.fits\n"
     ]
    },
    {
     "name": "stdout",
     "output_type": "stream",
     "text": [
      "Writing out image to disk: jw02561001002_02101_00003_nrcalong_single_sci.fits\n"
     ]
    },
    {
     "name": "stderr",
     "output_type": "stream",
     "text": [
      "2022-12-02 01:26:03,883 - stpipe - INFO - Writing out image to disk: jw02561001002_02101_00002_nrcalong_single_sci.fits\n"
     ]
    },
    {
     "name": "stdout",
     "output_type": "stream",
     "text": [
      "Writing out image to disk: jw02561001002_02101_00002_nrcalong_single_sci.fits\n"
     ]
    },
    {
     "name": "stderr",
     "output_type": "stream",
     "text": [
      "2022-12-02 01:26:04,048 - stpipe - INFO - Writing out image to disk: jw02561001002_02101_00001_nrcalong_single_wht.fits\n"
     ]
    },
    {
     "name": "stdout",
     "output_type": "stream",
     "text": [
      "Writing out image to disk: jw02561001002_02101_00001_nrcalong_single_wht.fits\n"
     ]
    },
    {
     "name": "stderr",
     "output_type": "stream",
     "text": [
      "2022-12-02 01:26:04,054 - stpipe - INFO - Writing out image to disk: jw02561001002_02101_00004_nrcalong_single_wht.fits\n"
     ]
    },
    {
     "name": "stdout",
     "output_type": "stream",
     "text": [
      "Writing out image to disk: jw02561001002_02101_00004_nrcalong_single_wht.fits\n"
     ]
    },
    {
     "name": "stderr",
     "output_type": "stream",
     "text": [
      "2022-12-02 01:26:04,057 - stpipe - INFO - Writing out image to disk: jw02561001002_02101_00003_nrcalong_single_wht.fits\n",
      "2022-12-02 01:26:04,058 - stpipe - INFO - Writing out image to disk: jw02561001002_02101_00002_nrcalong_single_wht.fits\n"
     ]
    },
    {
     "name": "stdout",
     "output_type": "stream",
     "text": [
      "Writing out image to disk: jw02561001002_02101_00003_nrcalong_single_wht.fits\n",
      "Writing out image to disk: jw02561001002_02101_00002_nrcalong_single_wht.fits\n"
     ]
    },
    {
     "name": "stderr",
     "output_type": "stream",
     "text": [
      "2022-12-02 01:26:04,398 - stpipe - INFO - ==== Processing Step Separate Drizzle finished at 01:26:04.395 (02/12/2022)\n"
     ]
    },
    {
     "name": "stdout",
     "output_type": "stream",
     "text": [
      "==== Processing Step Separate Drizzle finished at 01:26:04.395 (02/12/2022)\n"
     ]
    },
    {
     "name": "stderr",
     "output_type": "stream",
     "text": [
      "2022-12-02 01:26:04,404 - stpipe - INFO - ==== Processing Step  Create Median  started at  01:26:04.404 (02/12/2022)\n"
     ]
    },
    {
     "name": "stdout",
     "output_type": "stream",
     "text": [
      "==== Processing Step  Create Median  started at  01:26:04.404 (02/12/2022)\n"
     ]
    },
    {
     "name": "stderr",
     "output_type": "stream",
     "text": [
      "2022-12-02 01:26:04,405 - stpipe - INFO - \n"
     ]
    },
    {
     "name": "stdout",
     "output_type": "stream",
     "text": [
      "\n"
     ]
    },
    {
     "name": "stderr",
     "output_type": "stream",
     "text": [
      "2022-12-02 01:26:04,407 - stpipe - INFO - USER INPUT PARAMETERS for Create Median Step:\n",
      "2022-12-02 01:26:04,408 - stpipe - INFO - \tcombine_bufsize :\tNone\n",
      "2022-12-02 01:26:04,408 - stpipe - INFO - \tcombine_grow :\t1\n",
      "2022-12-02 01:26:04,409 - stpipe - INFO - \tcombine_hthresh :\tNone\n",
      "2022-12-02 01:26:04,410 - stpipe - INFO - \tcombine_lthresh :\tNone\n",
      "2022-12-02 01:26:04,410 - stpipe - INFO - \tcombine_maskpt :\t0.3\n",
      "2022-12-02 01:26:04,411 - stpipe - INFO - \tcombine_nhigh :\t0\n",
      "2022-12-02 01:26:04,412 - stpipe - INFO - \tcombine_nlow :\t0\n",
      "2022-12-02 01:26:04,412 - stpipe - INFO - \tcombine_nsigma :\t4 3\n",
      "2022-12-02 01:26:04,413 - stpipe - INFO - \tcombine_type :\tminmed\n",
      "2022-12-02 01:26:04,413 - stpipe - INFO - \tcompress :\tFalse\n",
      "2022-12-02 01:26:04,414 - stpipe - INFO - \tmedian :\tTrue\n",
      "2022-12-02 01:26:04,414 - stpipe - INFO - \tmedian_newmasks :\tTrue\n",
      "2022-12-02 01:26:04,415 - stpipe - INFO - \tproc_unit :\tnative\n",
      "2022-12-02 01:26:04,499 - stpipe - INFO - reference sky value for image 'jw02561001002_02101_00001_nrcalong_cal.fits' is 96.73084487691521\n"
     ]
    },
    {
     "name": "stdout",
     "output_type": "stream",
     "text": [
      "reference sky value for image 'jw02561001002_02101_00001_nrcalong_cal.fits' is 96.73084487691521\n"
     ]
    },
    {
     "name": "stderr",
     "output_type": "stream",
     "text": [
      "2022-12-02 01:26:04,549 - stpipe - INFO - reference sky value for image 'jw02561001002_02101_00002_nrcalong_cal.fits' is 96.43253474897146\n"
     ]
    },
    {
     "name": "stdout",
     "output_type": "stream",
     "text": [
      "reference sky value for image 'jw02561001002_02101_00002_nrcalong_cal.fits' is 96.43253474897146\n"
     ]
    },
    {
     "name": "stderr",
     "output_type": "stream",
     "text": [
      "2022-12-02 01:26:04,604 - stpipe - INFO - reference sky value for image 'jw02561001002_02101_00003_nrcalong_cal.fits' is 98.0445725055635\n"
     ]
    },
    {
     "name": "stdout",
     "output_type": "stream",
     "text": [
      "reference sky value for image 'jw02561001002_02101_00003_nrcalong_cal.fits' is 98.0445725055635\n"
     ]
    },
    {
     "name": "stderr",
     "output_type": "stream",
     "text": [
      "2022-12-02 01:26:04,658 - stpipe - INFO - reference sky value for image 'jw02561001002_02101_00004_nrcalong_cal.fits' is 97.15558224266768\n"
     ]
    },
    {
     "name": "stdout",
     "output_type": "stream",
     "text": [
      "reference sky value for image 'jw02561001002_02101_00004_nrcalong_cal.fits' is 97.15558224266768\n"
     ]
    },
    {
     "name": "stderr",
     "output_type": "stream",
     "text": [
      "2022-12-02 01:26:05,703 - stpipe - INFO - Saving output median image to: 'abell2744-preimg-02561-001-041.0-nrca5-f277w-clear_med.fits'\n"
     ]
    },
    {
     "name": "stdout",
     "output_type": "stream",
     "text": [
      "Saving output median image to: 'abell2744-preimg-02561-001-041.0-nrca5-f277w-clear_med.fits'\n"
     ]
    },
    {
     "name": "stderr",
     "output_type": "stream",
     "text": [
      "2022-12-02 01:26:05,750 - stpipe - INFO - ==== Processing Step Create Median finished at 01:26:05.750 (02/12/2022)\n"
     ]
    },
    {
     "name": "stdout",
     "output_type": "stream",
     "text": [
      "==== Processing Step Create Median finished at 01:26:05.750 (02/12/2022)\n"
     ]
    },
    {
     "name": "stderr",
     "output_type": "stream",
     "text": [
      "2022-12-02 01:26:05,751 - stpipe - INFO - ==== Processing Step  Blot  started at  01:26:05.751 (02/12/2022)\n"
     ]
    },
    {
     "name": "stdout",
     "output_type": "stream",
     "text": [
      "==== Processing Step  Blot  started at  01:26:05.751 (02/12/2022)\n"
     ]
    },
    {
     "name": "stderr",
     "output_type": "stream",
     "text": [
      "2022-12-02 01:26:05,752 - stpipe - INFO - \n"
     ]
    },
    {
     "name": "stdout",
     "output_type": "stream",
     "text": [
      "\n"
     ]
    },
    {
     "name": "stderr",
     "output_type": "stream",
     "text": [
      "2022-12-02 01:26:05,752 - stpipe - INFO - USER INPUT PARAMETERS for Blot Step:\n",
      "2022-12-02 01:26:05,753 - stpipe - INFO - \tblot_addsky :\tTrue\n",
      "2022-12-02 01:26:05,753 - stpipe - INFO - \tblot_interp :\tpoly5\n",
      "2022-12-02 01:26:05,753 - stpipe - INFO - \tblot_sinscl :\t1.0\n",
      "2022-12-02 01:26:05,754 - stpipe - INFO - \tblot_skyval :\t0.0\n",
      "2022-12-02 01:26:05,754 - stpipe - INFO - \tcoeffs :\tTrue\n",
      "2022-12-02 01:26:05,755 - stpipe - INFO -     Blot: creating blotted image:  jw02561001002_02101_00001_nrcalong_cal.fits[sci,1]\n"
     ]
    },
    {
     "name": "stdout",
     "output_type": "stream",
     "text": [
      "    Blot: creating blotted image:  jw02561001002_02101_00001_nrcalong_cal.fits[sci,1]\n"
     ]
    },
    {
     "name": "stderr",
     "output_type": "stream",
     "text": [
      "2022-12-02 01:26:05,794 - stpipe - INFO - Using default C-based coordinate transformation...\n"
     ]
    },
    {
     "name": "stdout",
     "output_type": "stream",
     "text": [
      "Using default C-based coordinate transformation...\n"
     ]
    },
    {
     "name": "stderr",
     "output_type": "stream",
     "text": [
      "2022-12-02 01:26:06,145 - stpipe - INFO - Applying sky value of 0.115504 to blotted image jw02561001002_02101_00001_nrcalong_cal.fits[sci,1]\n",
      "2022-12-02 01:26:06,186 - stpipe - INFO - -Generating simple FITS output: jw02561001002_02101_00001_nrcalong_sci1_blt.fits\n"
     ]
    },
    {
     "name": "stdout",
     "output_type": "stream",
     "text": [
      "-Generating simple FITS output: jw02561001002_02101_00001_nrcalong_sci1_blt.fits\n"
     ]
    },
    {
     "name": "stderr",
     "output_type": "stream",
     "text": [
      "2022-12-02 01:26:06,201 - stpipe - INFO - Writing out image to disk: jw02561001002_02101_00001_nrcalong_sci1_blt.fits\n"
     ]
    },
    {
     "name": "stdout",
     "output_type": "stream",
     "text": [
      "Writing out image to disk: jw02561001002_02101_00001_nrcalong_sci1_blt.fits\n"
     ]
    },
    {
     "name": "stderr",
     "output_type": "stream",
     "text": [
      "2022-12-02 01:26:06,241 - stpipe - INFO -     Blot: creating blotted image:  jw02561001002_02101_00002_nrcalong_cal.fits[sci,1]\n"
     ]
    },
    {
     "name": "stdout",
     "output_type": "stream",
     "text": [
      "    Blot: creating blotted image:  jw02561001002_02101_00002_nrcalong_cal.fits[sci,1]\n"
     ]
    },
    {
     "name": "stderr",
     "output_type": "stream",
     "text": [
      "2022-12-02 01:26:06,285 - stpipe - INFO - Using default C-based coordinate transformation...\n"
     ]
    },
    {
     "name": "stdout",
     "output_type": "stream",
     "text": [
      "Using default C-based coordinate transformation...\n"
     ]
    },
    {
     "name": "stderr",
     "output_type": "stream",
     "text": [
      "2022-12-02 01:26:06,640 - stpipe - INFO - Applying sky value of 0.115148 to blotted image jw02561001002_02101_00002_nrcalong_cal.fits[sci,1]\n",
      "2022-12-02 01:26:06,681 - stpipe - INFO - -Generating simple FITS output: jw02561001002_02101_00002_nrcalong_sci1_blt.fits\n"
     ]
    },
    {
     "name": "stdout",
     "output_type": "stream",
     "text": [
      "-Generating simple FITS output: jw02561001002_02101_00002_nrcalong_sci1_blt.fits\n"
     ]
    },
    {
     "name": "stderr",
     "output_type": "stream",
     "text": [
      "2022-12-02 01:26:06,695 - stpipe - INFO - Writing out image to disk: jw02561001002_02101_00002_nrcalong_sci1_blt.fits\n"
     ]
    },
    {
     "name": "stdout",
     "output_type": "stream",
     "text": [
      "Writing out image to disk: jw02561001002_02101_00002_nrcalong_sci1_blt.fits\n"
     ]
    },
    {
     "name": "stderr",
     "output_type": "stream",
     "text": [
      "2022-12-02 01:26:06,736 - stpipe - INFO -     Blot: creating blotted image:  jw02561001002_02101_00003_nrcalong_cal.fits[sci,1]\n"
     ]
    },
    {
     "name": "stdout",
     "output_type": "stream",
     "text": [
      "    Blot: creating blotted image:  jw02561001002_02101_00003_nrcalong_cal.fits[sci,1]\n"
     ]
    },
    {
     "name": "stderr",
     "output_type": "stream",
     "text": [
      "2022-12-02 01:26:06,771 - stpipe - INFO - Using default C-based coordinate transformation...\n"
     ]
    },
    {
     "name": "stdout",
     "output_type": "stream",
     "text": [
      "Using default C-based coordinate transformation...\n"
     ]
    },
    {
     "name": "stderr",
     "output_type": "stream",
     "text": [
      "2022-12-02 01:26:07,120 - stpipe - INFO - Applying sky value of 0.117073 to blotted image jw02561001002_02101_00003_nrcalong_cal.fits[sci,1]\n",
      "2022-12-02 01:26:07,161 - stpipe - INFO - -Generating simple FITS output: jw02561001002_02101_00003_nrcalong_sci1_blt.fits\n"
     ]
    },
    {
     "name": "stdout",
     "output_type": "stream",
     "text": [
      "-Generating simple FITS output: jw02561001002_02101_00003_nrcalong_sci1_blt.fits\n"
     ]
    },
    {
     "name": "stderr",
     "output_type": "stream",
     "text": [
      "2022-12-02 01:26:07,176 - stpipe - INFO - Writing out image to disk: jw02561001002_02101_00003_nrcalong_sci1_blt.fits\n"
     ]
    },
    {
     "name": "stdout",
     "output_type": "stream",
     "text": [
      "Writing out image to disk: jw02561001002_02101_00003_nrcalong_sci1_blt.fits\n"
     ]
    },
    {
     "name": "stderr",
     "output_type": "stream",
     "text": [
      "2022-12-02 01:26:07,216 - stpipe - INFO -     Blot: creating blotted image:  jw02561001002_02101_00004_nrcalong_cal.fits[sci,1]\n"
     ]
    },
    {
     "name": "stdout",
     "output_type": "stream",
     "text": [
      "    Blot: creating blotted image:  jw02561001002_02101_00004_nrcalong_cal.fits[sci,1]\n"
     ]
    },
    {
     "name": "stderr",
     "output_type": "stream",
     "text": [
      "2022-12-02 01:26:07,254 - stpipe - INFO - Using default C-based coordinate transformation...\n"
     ]
    },
    {
     "name": "stdout",
     "output_type": "stream",
     "text": [
      "Using default C-based coordinate transformation...\n"
     ]
    },
    {
     "name": "stderr",
     "output_type": "stream",
     "text": [
      "2022-12-02 01:26:07,604 - stpipe - INFO - Applying sky value of 0.116011 to blotted image jw02561001002_02101_00004_nrcalong_cal.fits[sci,1]\n",
      "2022-12-02 01:26:07,645 - stpipe - INFO - -Generating simple FITS output: jw02561001002_02101_00004_nrcalong_sci1_blt.fits\n"
     ]
    },
    {
     "name": "stdout",
     "output_type": "stream",
     "text": [
      "-Generating simple FITS output: jw02561001002_02101_00004_nrcalong_sci1_blt.fits\n"
     ]
    },
    {
     "name": "stderr",
     "output_type": "stream",
     "text": [
      "2022-12-02 01:26:07,659 - stpipe - INFO - Writing out image to disk: jw02561001002_02101_00004_nrcalong_sci1_blt.fits\n"
     ]
    },
    {
     "name": "stdout",
     "output_type": "stream",
     "text": [
      "Writing out image to disk: jw02561001002_02101_00004_nrcalong_sci1_blt.fits\n"
     ]
    },
    {
     "name": "stderr",
     "output_type": "stream",
     "text": [
      "2022-12-02 01:26:07,699 - stpipe - INFO - ==== Processing Step Blot finished at 01:26:07.699 (02/12/2022)\n"
     ]
    },
    {
     "name": "stdout",
     "output_type": "stream",
     "text": [
      "==== Processing Step Blot finished at 01:26:07.699 (02/12/2022)\n"
     ]
    },
    {
     "name": "stderr",
     "output_type": "stream",
     "text": [
      "2022-12-02 01:26:07,700 - stpipe - INFO - ==== Processing Step  Driz_CR  started at  01:26:07.700 (02/12/2022)\n"
     ]
    },
    {
     "name": "stdout",
     "output_type": "stream",
     "text": [
      "==== Processing Step  Driz_CR  started at  01:26:07.700 (02/12/2022)\n"
     ]
    },
    {
     "name": "stderr",
     "output_type": "stream",
     "text": [
      "2022-12-02 01:26:07,700 - stpipe - INFO - \n"
     ]
    },
    {
     "name": "stdout",
     "output_type": "stream",
     "text": [
      "\n"
     ]
    },
    {
     "name": "stderr",
     "output_type": "stream",
     "text": [
      "2022-12-02 01:26:07,701 - stpipe - INFO - USER INPUT PARAMETERS for Driz_CR Step:\n",
      "2022-12-02 01:26:07,701 - stpipe - INFO - \tcrbit :\t4096\n",
      "2022-12-02 01:26:07,701 - stpipe - INFO - \tdriz_cr :\tTrue\n",
      "2022-12-02 01:26:07,702 - stpipe - INFO - \tdriz_cr_corr :\tFalse\n",
      "2022-12-02 01:26:07,702 - stpipe - INFO - \tdriz_cr_ctegrow :\t0\n",
      "2022-12-02 01:26:07,702 - stpipe - INFO - \tdriz_cr_grow :\t1\n",
      "2022-12-02 01:26:07,703 - stpipe - INFO - \tdriz_cr_scale :\t2.5 0.7\n",
      "2022-12-02 01:26:07,703 - stpipe - INFO - \tdriz_cr_snr :\t8.0 5.0\n",
      "2022-12-02 01:26:07,703 - stpipe - INFO - \tinmemory :\tFalse\n",
      "2022-12-02 01:26:07,704 - stpipe - INFO - Executing 4 parallel workers\n",
      "2022-12-02 01:26:08,219 - stpipe - INFO - Creating output: jw02561001002_02101_00001_nrcalong_sci1_crmask.fits\n"
     ]
    },
    {
     "name": "stdout",
     "output_type": "stream",
     "text": [
      "Creating output: jw02561001002_02101_00001_nrcalong_sci1_crmask.fits\n"
     ]
    },
    {
     "name": "stderr",
     "output_type": "stream",
     "text": [
      "2022-12-02 01:26:08,244 - stpipe - INFO - Creating output: jw02561001002_02101_00002_nrcalong_sci1_crmask.fits\n"
     ]
    },
    {
     "name": "stdout",
     "output_type": "stream",
     "text": [
      "Creating output: jw02561001002_02101_00002_nrcalong_sci1_crmask.fits\n"
     ]
    },
    {
     "name": "stderr",
     "output_type": "stream",
     "text": [
      "2022-12-02 01:26:08,287 - stpipe - INFO - Creating output: jw02561001002_02101_00003_nrcalong_sci1_crmask.fits\n"
     ]
    },
    {
     "name": "stdout",
     "output_type": "stream",
     "text": [
      "Creating output: jw02561001002_02101_00003_nrcalong_sci1_crmask.fits\n"
     ]
    },
    {
     "name": "stderr",
     "output_type": "stream",
     "text": [
      "2022-12-02 01:26:08,296 - stpipe - INFO - Creating output: jw02561001002_02101_00004_nrcalong_sci1_crmask.fits\n"
     ]
    },
    {
     "name": "stdout",
     "output_type": "stream",
     "text": [
      "Creating output: jw02561001002_02101_00004_nrcalong_sci1_crmask.fits\n"
     ]
    },
    {
     "name": "stderr",
     "output_type": "stream",
     "text": [
      "2022-12-02 01:26:08,847 - stpipe - INFO - ==== Processing Step Driz_CR finished at 01:26:08.842 (02/12/2022)\n"
     ]
    },
    {
     "name": "stdout",
     "output_type": "stream",
     "text": [
      "==== Processing Step Driz_CR finished at 01:26:08.842 (02/12/2022)\n"
     ]
    },
    {
     "name": "stderr",
     "output_type": "stream",
     "text": [
      "2022-12-02 01:26:08,878 - stpipe - INFO - ==== Processing Step  Final Drizzle  started at  01:26:08.877 (02/12/2022)\n"
     ]
    },
    {
     "name": "stdout",
     "output_type": "stream",
     "text": [
      "==== Processing Step  Final Drizzle  started at  01:26:08.877 (02/12/2022)\n"
     ]
    },
    {
     "name": "stderr",
     "output_type": "stream",
     "text": [
      "2022-12-02 01:26:08,880 - stpipe - INFO - \n"
     ]
    },
    {
     "name": "stdout",
     "output_type": "stream",
     "text": [
      "\n"
     ]
    },
    {
     "name": "stderr",
     "output_type": "stream",
     "text": [
      "2022-12-02 01:26:08,886 - stpipe - INFO - Interpreted paramDict with single=False as:\n",
      "2022-12-02 01:26:08,886 - stpipe - INFO - {'build': False, 'stepsize': 10, 'coeffs': True, 'wcskey': '', 'wht_type': 'IVM', 'kernel': 'square', 'wt_scl': 'exptime', 'pixfrac': 0.8, 'fillval': None, 'maskval': None, 'bits': 4, 'units': 'cps'}\n",
      "2022-12-02 01:26:08,887 - stpipe - INFO - USER INPUT PARAMETERS for Final Drizzle Step:\n",
      "2022-12-02 01:26:08,888 - stpipe - INFO - \tbits :\t4\n",
      "2022-12-02 01:26:08,889 - stpipe - INFO - \tbuild :\tFalse\n",
      "2022-12-02 01:26:08,889 - stpipe - INFO - \tclean :\tTrue\n",
      "2022-12-02 01:26:08,890 - stpipe - INFO - \tcoeffs :\tTrue\n",
      "2022-12-02 01:26:08,890 - stpipe - INFO - \tcrbit :\t4096\n",
      "2022-12-02 01:26:08,891 - stpipe - INFO - \tfillval :\tNone\n",
      "2022-12-02 01:26:08,891 - stpipe - INFO - \tkernel :\tsquare\n",
      "2022-12-02 01:26:08,892 - stpipe - INFO - \tlogfile :\tastrodrizzle.log\n",
      "2022-12-02 01:26:08,892 - stpipe - INFO - \tmaskval :\tNone\n",
      "2022-12-02 01:26:08,893 - stpipe - INFO - \tpixfrac :\t0.8\n",
      "2022-12-02 01:26:08,893 - stpipe - INFO - \tproc_unit :\tnative\n",
      "2022-12-02 01:26:08,894 - stpipe - INFO - \trules_file :\tNone\n",
      "2022-12-02 01:26:08,894 - stpipe - INFO - \tstepsize :\t10\n",
      "2022-12-02 01:26:08,895 - stpipe - INFO - \tunits :\tcps\n",
      "2022-12-02 01:26:08,895 - stpipe - INFO - \twcskey :\t\n",
      "2022-12-02 01:26:08,896 - stpipe - INFO - \twht_type :\tIVM\n",
      "2022-12-02 01:26:08,897 - stpipe - INFO - \twt_scl :\texptime\n",
      "2022-12-02 01:26:08,897 - stpipe - INFO -   **Using sub-sampling value of 10 for kernel square\n",
      "2022-12-02 01:26:08,899 - stpipe - INFO - Running Drizzle to create output frame with WCS of: \n",
      "2022-12-02 01:26:08,900 - stpipe - INFO - WCS Keywords\n"
     ]
    },
    {
     "name": "stdout",
     "output_type": "stream",
     "text": [
      "WCS Keywords\n"
     ]
    },
    {
     "name": "stderr",
     "output_type": "stream",
     "text": [
      "2022-12-02 01:26:08,901 - stpipe - INFO - \n"
     ]
    },
    {
     "name": "stdout",
     "output_type": "stream",
     "text": [
      "\n"
     ]
    },
    {
     "name": "stderr",
     "output_type": "stream",
     "text": [
      "2022-12-02 01:26:08,902 - stpipe - INFO - Number of WCS axes: 2\n"
     ]
    },
    {
     "name": "stdout",
     "output_type": "stream",
     "text": [
      "Number of WCS axes: 2\n"
     ]
    },
    {
     "name": "stderr",
     "output_type": "stream",
     "text": [
      "2022-12-02 01:26:08,903 - stpipe - INFO - CTYPE : 'RA---TAN'  'DEC--TAN'  \n"
     ]
    },
    {
     "name": "stdout",
     "output_type": "stream",
     "text": [
      "CTYPE : 'RA---TAN'  'DEC--TAN'  \n"
     ]
    },
    {
     "name": "stderr",
     "output_type": "stream",
     "text": [
      "2022-12-02 01:26:08,904 - stpipe - INFO - CRVAL : 3.578062735318098  -30.404334693667945  \n"
     ]
    },
    {
     "name": "stdout",
     "output_type": "stream",
     "text": [
      "CRVAL : 3.578062735318098  -30.404334693667945  \n"
     ]
    },
    {
     "name": "stderr",
     "output_type": "stream",
     "text": [
      "2022-12-02 01:26:08,905 - stpipe - INFO - CRPIX : 1177.5  1174.0  \n"
     ]
    },
    {
     "name": "stdout",
     "output_type": "stream",
     "text": [
      "CRPIX : 1177.5  1174.0  \n"
     ]
    },
    {
     "name": "stderr",
     "output_type": "stream",
     "text": [
      "2022-12-02 01:26:08,906 - stpipe - INFO - CD1_1 CD1_2  : -1.3125425480958589e-05  1.153371868355523e-05  \n"
     ]
    },
    {
     "name": "stdout",
     "output_type": "stream",
     "text": [
      "CD1_1 CD1_2  : -1.3125425480958589e-05  1.153371868355523e-05  \n"
     ]
    },
    {
     "name": "stderr",
     "output_type": "stream",
     "text": [
      "2022-12-02 01:26:08,907 - stpipe - INFO - CD2_1 CD2_2  : 1.153371868355523e-05  1.3125425480958589e-05  \n"
     ]
    },
    {
     "name": "stdout",
     "output_type": "stream",
     "text": [
      "CD2_1 CD2_2  : 1.153371868355523e-05  1.3125425480958589e-05  \n"
     ]
    },
    {
     "name": "stderr",
     "output_type": "stream",
     "text": [
      "2022-12-02 01:26:08,908 - stpipe - INFO - NAXIS : 2355  2348\n"
     ]
    },
    {
     "name": "stdout",
     "output_type": "stream",
     "text": [
      "NAXIS : 2355  2348\n"
     ]
    },
    {
     "name": "stderr",
     "output_type": "stream",
     "text": [
      "2022-12-02 01:26:08,935 - stpipe - INFO - -Drizzle input: jw02561001002_02101_00001_nrcalong_cal.fits[sci,1]\n",
      "2022-12-02 01:26:08,952 - stpipe - INFO - Applying sky value of 0.115504 to jw02561001002_02101_00001_nrcalong_cal.fits[sci,1]\n",
      "2022-12-02 01:26:09,078 - stpipe - INFO - Automatically creating IVM files for chip 1\n",
      "2022-12-02 01:26:09,079 - stpipe - WARNING - Cannot find flat field file 'jwst_nircam_flat_0502.fits'\n",
      "2022-12-02 01:26:09,080 - stpipe - WARNING - Treating flatfield as a constant value of '1'.\n",
      "2022-12-02 01:26:09,128 - stpipe - INFO - Using WCSLIB-based coordinate transformation...\n",
      "2022-12-02 01:26:09,128 - stpipe - INFO - stepsize = 10\n",
      "2022-12-02 01:26:09,140 - stpipe - INFO - -Drizzling using kernel = square\n",
      "2022-12-02 01:26:09,141 - stpipe - INFO - \n",
      "2022-12-02 01:26:09,768 - stpipe - INFO - -Drizzle input: jw02561001002_02101_00002_nrcalong_cal.fits[sci,1]\n",
      "2022-12-02 01:26:09,784 - stpipe - INFO - Applying sky value of 0.115148 to jw02561001002_02101_00002_nrcalong_cal.fits[sci,1]\n",
      "2022-12-02 01:26:09,859 - stpipe - INFO - Automatically creating IVM files for chip 1\n",
      "2022-12-02 01:26:09,860 - stpipe - WARNING - Cannot find flat field file 'jwst_nircam_flat_0502.fits'\n",
      "2022-12-02 01:26:09,860 - stpipe - WARNING - Treating flatfield as a constant value of '1'.\n",
      "2022-12-02 01:26:09,878 - stpipe - INFO - Using WCSLIB-based coordinate transformation...\n",
      "2022-12-02 01:26:09,879 - stpipe - INFO - stepsize = 10\n",
      "2022-12-02 01:26:09,889 - stpipe - INFO - -Drizzling using kernel = square\n",
      "2022-12-02 01:26:09,889 - stpipe - INFO - \n",
      "2022-12-02 01:26:10,511 - stpipe - INFO - -Drizzle input: jw02561001002_02101_00003_nrcalong_cal.fits[sci,1]\n",
      "2022-12-02 01:26:10,526 - stpipe - INFO - Applying sky value of 0.117073 to jw02561001002_02101_00003_nrcalong_cal.fits[sci,1]\n",
      "2022-12-02 01:26:10,607 - stpipe - INFO - Automatically creating IVM files for chip 1\n",
      "2022-12-02 01:26:10,608 - stpipe - WARNING - Cannot find flat field file 'jwst_nircam_flat_0502.fits'\n",
      "2022-12-02 01:26:10,608 - stpipe - WARNING - Treating flatfield as a constant value of '1'.\n",
      "2022-12-02 01:26:10,627 - stpipe - INFO - Using WCSLIB-based coordinate transformation...\n",
      "2022-12-02 01:26:10,627 - stpipe - INFO - stepsize = 10\n",
      "2022-12-02 01:26:10,638 - stpipe - INFO - -Drizzling using kernel = square\n",
      "2022-12-02 01:26:10,638 - stpipe - INFO - \n",
      "2022-12-02 01:26:11,268 - stpipe - INFO - -Drizzle input: jw02561001002_02101_00004_nrcalong_cal.fits[sci,1]\n",
      "2022-12-02 01:26:11,283 - stpipe - INFO - Applying sky value of 0.116011 to jw02561001002_02101_00004_nrcalong_cal.fits[sci,1]\n",
      "2022-12-02 01:26:11,357 - stpipe - INFO - Automatically creating IVM files for chip 1\n",
      "2022-12-02 01:26:11,358 - stpipe - WARNING - Cannot find flat field file 'jwst_nircam_flat_0502.fits'\n",
      "2022-12-02 01:26:11,359 - stpipe - WARNING - Treating flatfield as a constant value of '1'.\n",
      "2022-12-02 01:26:11,376 - stpipe - INFO - Using WCSLIB-based coordinate transformation...\n",
      "2022-12-02 01:26:11,377 - stpipe - INFO - stepsize = 10\n",
      "2022-12-02 01:26:11,387 - stpipe - INFO - -Drizzling using kernel = square\n",
      "2022-12-02 01:26:11,387 - stpipe - INFO - \n",
      "2022-12-02 01:26:12,011 - stpipe - INFO - Deleting previous output product: abell2744-preimg-02561-001-041.0-nrca5-f277w-clear_drz_sci.fits\n",
      "2022-12-02 01:26:12,012 - stpipe - INFO - Deleting previous output WHT product: abell2744-preimg-02561-001-041.0-nrca5-f277w-clear_drz_wht.fits\n",
      "2022-12-02 01:26:12,370 - stpipe - INFO - -Generating simple FITS output: abell2744-preimg-02561-001-041.0-nrca5-f277w-clear_drz_sci.fits\n"
     ]
    },
    {
     "name": "stdout",
     "output_type": "stream",
     "text": [
      "-Generating simple FITS output: abell2744-preimg-02561-001-041.0-nrca5-f277w-clear_drz_sci.fits\n"
     ]
    },
    {
     "name": "stderr",
     "output_type": "stream",
     "text": [
      "2022-12-02 01:26:12,407 - stpipe - WARNING - /Users/ivo/anaconda/envs/jwst_nircam/lib/python3.9/site-packages/astropy/io/fits/card.py:1008: VerifyWarning: Card is too long, comment will be truncated.\n",
      "  warnings.warn('Card is too long, comment will be truncated.',\n",
      "\n",
      "2022-12-02 01:26:12,446 - stpipe - WARNING - /Users/ivo/anaconda/envs/jwst_nircam/lib/python3.9/site-packages/astropy/wcs/wcs.py:725: FITSFixedWarning: 'obsfix' made the change 'Set OBSGEO-L to    63.263556 from OBSGEO-[XYZ].\n",
      "Set OBSGEO-B to    28.494908 from OBSGEO-[XYZ].\n",
      "Set OBSGEO-H to 1394727362.015 from OBSGEO-[XYZ]'.\n",
      "  warnings.warn(\n",
      "\n",
      "2022-12-02 01:26:12,466 - stpipe - INFO - Writing out image to disk: abell2744-preimg-02561-001-041.0-nrca5-f277w-clear_drz_sci.fits\n"
     ]
    },
    {
     "name": "stdout",
     "output_type": "stream",
     "text": [
      "Writing out image to disk: abell2744-preimg-02561-001-041.0-nrca5-f277w-clear_drz_sci.fits\n"
     ]
    },
    {
     "name": "stderr",
     "output_type": "stream",
     "text": [
      "2022-12-02 01:26:12,600 - stpipe - INFO - Writing out image to disk: abell2744-preimg-02561-001-041.0-nrca5-f277w-clear_drz_wht.fits\n"
     ]
    },
    {
     "name": "stdout",
     "output_type": "stream",
     "text": [
      "Writing out image to disk: abell2744-preimg-02561-001-041.0-nrca5-f277w-clear_drz_wht.fits\n"
     ]
    },
    {
     "name": "stderr",
     "output_type": "stream",
     "text": [
      "2022-12-02 01:26:12,653 - stpipe - INFO - ==== Processing Step Final Drizzle finished at 01:26:12.65 (02/12/2022)\n"
     ]
    },
    {
     "name": "stdout",
     "output_type": "stream",
     "text": [
      "==== Processing Step Final Drizzle finished at 01:26:12.65 (02/12/2022)\n"
     ]
    },
    {
     "name": "stderr",
     "output_type": "stream",
     "text": [
      "2022-12-02 01:26:12,654 - stpipe - INFO - \n"
     ]
    },
    {
     "name": "stdout",
     "output_type": "stream",
     "text": [
      "\n"
     ]
    },
    {
     "name": "stderr",
     "output_type": "stream",
     "text": [
      "2022-12-02 01:26:12,655 - stpipe - INFO - AstroDrizzle Version 3.5.0 is finished processing at 01:26:12.65 (02/12/2022).\n"
     ]
    },
    {
     "name": "stdout",
     "output_type": "stream",
     "text": [
      "AstroDrizzle Version 3.5.0 is finished processing at 01:26:12.65 (02/12/2022).\n"
     ]
    },
    {
     "name": "stderr",
     "output_type": "stream",
     "text": [
      "2022-12-02 01:26:12,655 - stpipe - INFO - \n"
     ]
    },
    {
     "name": "stdout",
     "output_type": "stream",
     "text": [
      "\n"
     ]
    },
    {
     "name": "stderr",
     "output_type": "stream",
     "text": [
      "2022-12-02 01:26:12,656 - stpipe - INFO - \n"
     ]
    },
    {
     "name": "stdout",
     "output_type": "stream",
     "text": [
      "\n"
     ]
    },
    {
     "name": "stderr",
     "output_type": "stream",
     "text": [
      "2022-12-02 01:26:12,657 - stpipe - INFO - \n"
     ]
    },
    {
     "name": "stdout",
     "output_type": "stream",
     "text": [
      "\n"
     ]
    },
    {
     "name": "stderr",
     "output_type": "stream",
     "text": [
      "2022-12-02 01:26:12,657 - stpipe - INFO -    --------------------          --------------------\n"
     ]
    },
    {
     "name": "stdout",
     "output_type": "stream",
     "text": [
      "   --------------------          --------------------\n"
     ]
    },
    {
     "name": "stderr",
     "output_type": "stream",
     "text": [
      "2022-12-02 01:26:12,658 - stpipe - INFO -                    Step          Elapsed time\n"
     ]
    },
    {
     "name": "stdout",
     "output_type": "stream",
     "text": [
      "                   Step          Elapsed time\n"
     ]
    },
    {
     "name": "stderr",
     "output_type": "stream",
     "text": [
      "2022-12-02 01:26:12,658 - stpipe - INFO -    --------------------          --------------------\n"
     ]
    },
    {
     "name": "stdout",
     "output_type": "stream",
     "text": [
      "   --------------------          --------------------\n"
     ]
    },
    {
     "name": "stderr",
     "output_type": "stream",
     "text": [
      "2022-12-02 01:26:12,659 - stpipe - INFO - \n"
     ]
    },
    {
     "name": "stdout",
     "output_type": "stream",
     "text": [
      "\n"
     ]
    },
    {
     "name": "stderr",
     "output_type": "stream",
     "text": [
      "2022-12-02 01:26:12,660 - stpipe - INFO -          Initialization          0.6229 sec.\n"
     ]
    },
    {
     "name": "stdout",
     "output_type": "stream",
     "text": [
      "         Initialization          0.6229 sec.\n"
     ]
    },
    {
     "name": "stderr",
     "output_type": "stream",
     "text": [
      "2022-12-02 01:26:12,661 - stpipe - INFO -             Static Mask          0.3589 sec.\n"
     ]
    },
    {
     "name": "stdout",
     "output_type": "stream",
     "text": [
      "            Static Mask          0.3589 sec.\n"
     ]
    },
    {
     "name": "stderr",
     "output_type": "stream",
     "text": [
      "2022-12-02 01:26:12,662 - stpipe - INFO -            Subtract Sky          0.7889 sec.\n"
     ]
    },
    {
     "name": "stdout",
     "output_type": "stream",
     "text": [
      "           Subtract Sky          0.7889 sec.\n"
     ]
    },
    {
     "name": "stderr",
     "output_type": "stream",
     "text": [
      "2022-12-02 01:26:12,663 - stpipe - INFO -        Separate Drizzle          1.0708 sec.\n"
     ]
    },
    {
     "name": "stdout",
     "output_type": "stream",
     "text": [
      "       Separate Drizzle          1.0708 sec.\n"
     ]
    },
    {
     "name": "stderr",
     "output_type": "stream",
     "text": [
      "2022-12-02 01:26:12,664 - stpipe - INFO -           Create Median          1.3461 sec.\n"
     ]
    },
    {
     "name": "stdout",
     "output_type": "stream",
     "text": [
      "          Create Median          1.3461 sec.\n"
     ]
    },
    {
     "name": "stderr",
     "output_type": "stream",
     "text": [
      "2022-12-02 01:26:12,664 - stpipe - INFO -                    Blot          1.9477 sec.\n"
     ]
    },
    {
     "name": "stdout",
     "output_type": "stream",
     "text": [
      "                   Blot          1.9477 sec.\n"
     ]
    },
    {
     "name": "stderr",
     "output_type": "stream",
     "text": [
      "2022-12-02 01:26:12,665 - stpipe - INFO -                 Driz_CR          1.1426 sec.\n"
     ]
    },
    {
     "name": "stdout",
     "output_type": "stream",
     "text": [
      "                Driz_CR          1.1426 sec.\n"
     ]
    },
    {
     "name": "stderr",
     "output_type": "stream",
     "text": [
      "2022-12-02 01:26:12,666 - stpipe - INFO -           Final Drizzle          3.7757 sec.\n"
     ]
    },
    {
     "name": "stdout",
     "output_type": "stream",
     "text": [
      "          Final Drizzle          3.7757 sec.\n"
     ]
    },
    {
     "name": "stderr",
     "output_type": "stream",
     "text": [
      "2022-12-02 01:26:12,666 - stpipe - INFO -    ====================          ====================\n"
     ]
    },
    {
     "name": "stdout",
     "output_type": "stream",
     "text": [
      "   ====================          ====================\n"
     ]
    },
    {
     "name": "stderr",
     "output_type": "stream",
     "text": [
      "2022-12-02 01:26:12,667 - stpipe - INFO -                   Total          11.0537 sec.\n"
     ]
    },
    {
     "name": "stdout",
     "output_type": "stream",
     "text": [
      "                  Total          11.0537 sec.\n"
     ]
    },
    {
     "name": "stderr",
     "output_type": "stream",
     "text": [
      "2022-12-02 01:26:12,668 - stpipe - INFO - \n"
     ]
    },
    {
     "name": "stdout",
     "output_type": "stream",
     "text": [
      "\n"
     ]
    },
    {
     "name": "stderr",
     "output_type": "stream",
     "text": [
      "2022-12-02 01:26:12,668 - stpipe - INFO - Removing intermediate files for jw02561001002_02101_00001_nrcalong_cal.fits\n",
      "2022-12-02 01:26:12,674 - stpipe - INFO - Removing intermediate files for jw02561001002_02101_00002_nrcalong_cal.fits\n",
      "2022-12-02 01:26:12,681 - stpipe - INFO - Removing intermediate files for jw02561001002_02101_00003_nrcalong_cal.fits\n",
      "2022-12-02 01:26:12,686 - stpipe - INFO - Removing intermediate files for jw02561001002_02101_00004_nrcalong_cal.fits\n",
      "2022-12-02 01:26:12,692 - stpipe - INFO - Trailer file written to:  astrodrizzle.log\n"
     ]
    },
    {
     "name": "stdout",
     "output_type": "stream",
     "text": [
      "Trailer file written to:  astrodrizzle.log\n",
      "nircam_wisp_correction - jw02561001002_02101_00001_nrcalong_cal.fits: NIRCam filter F277W not supported\n",
      "nircam_wisp_correction - jw02561001002_02101_00002_nrcalong_cal.fits: NIRCam filter F277W not supported\n",
      "nircam_wisp_correction - jw02561001002_02101_00003_nrcalong_cal.fits: NIRCam filter F277W not supported\n"
     ]
    },
    {
     "name": "stderr",
     "output_type": "stream",
     "text": [
      "2022-12-02 01:26:12,941 - stpipe - INFO - Setting up logfile :  astrodrizzle.log\n"
     ]
    },
    {
     "name": "stdout",
     "output_type": "stream",
     "text": [
      "nircam_wisp_correction - jw02561001002_02101_00004_nrcalong_cal.fits: NIRCam filter F277W not supported\n",
      "Setting up logfile :  astrodrizzle.log\n"
     ]
    },
    {
     "name": "stderr",
     "output_type": "stream",
     "text": [
      "2022-12-02 01:26:12,942 - stpipe - INFO - AstroDrizzle log file: astrodrizzle.log\n"
     ]
    },
    {
     "name": "stdout",
     "output_type": "stream",
     "text": [
      "AstroDrizzle log file: astrodrizzle.log\n"
     ]
    },
    {
     "name": "stderr",
     "output_type": "stream",
     "text": [
      "2022-12-02 01:26:12,942 - stpipe - INFO - AstroDrizzle Version 3.5.0 started at: 01:26:12.942 (02/12/2022)\n"
     ]
    },
    {
     "name": "stdout",
     "output_type": "stream",
     "text": [
      "AstroDrizzle Version 3.5.0 started at: 01:26:12.942 (02/12/2022)\n"
     ]
    },
    {
     "name": "stderr",
     "output_type": "stream",
     "text": [
      "2022-12-02 01:26:12,943 - stpipe - INFO - \n"
     ]
    },
    {
     "name": "stdout",
     "output_type": "stream",
     "text": [
      "\n"
     ]
    },
    {
     "name": "stderr",
     "output_type": "stream",
     "text": [
      "2022-12-02 01:26:12,944 - stpipe - INFO - Version Information\n",
      "2022-12-02 01:26:12,944 - stpipe - INFO - --------------------\n",
      "2022-12-02 01:26:12,944 - stpipe - INFO - Python Version [Clang 14.0.6 ]\n",
      "2022-12-02 01:26:12,945 - stpipe - INFO - 3.9.15 (main, Nov 24 2022, 08:29:02) \n",
      "2022-12-02 01:26:12,945 - stpipe - INFO - numpy Version -> 1.23.5 \n",
      "2022-12-02 01:26:12,945 - stpipe - INFO - astropy Version -> 5.1.1 \n",
      "2022-12-02 01:26:12,946 - stpipe - INFO - stwcs Version -> 1.7.2 \n",
      "2022-12-02 01:26:12,946 - stpipe - INFO - ==== Processing Step  Initialization  started at  01:26:12.946 (02/12/2022)\n"
     ]
    },
    {
     "name": "stdout",
     "output_type": "stream",
     "text": [
      "==== Processing Step  Initialization  started at  01:26:12.946 (02/12/2022)\n"
     ]
    },
    {
     "name": "stderr",
     "output_type": "stream",
     "text": [
      "2022-12-02 01:26:12,947 - stpipe - INFO - \n"
     ]
    },
    {
     "name": "stdout",
     "output_type": "stream",
     "text": [
      "\n"
     ]
    },
    {
     "name": "stderr",
     "output_type": "stream",
     "text": [
      "2022-12-02 01:26:12,986 - stpipe - INFO - Executing serially\n",
      "2022-12-02 01:26:13,035 - stpipe - INFO - Setting up output name: abell2744-preimg-02561-001-041.0-nrca5-f277w-clear_drz.fits\n",
      "2022-12-02 01:26:13,036 - stpipe - INFO - -Creating imageObject List as input for processing steps.\n",
      "2022-12-02 01:26:13,100 - stpipe - INFO - Reading in MDRIZSKY of 0.1155039295554161\n",
      "2022-12-02 01:26:13,172 - stpipe - WARNING - /Users/ivo/anaconda/envs/jwst_nircam/lib/python3.9/site-packages/astropy/wcs/wcs.py:725: FITSFixedWarning: 'obsfix' made the change 'Set OBSGEO-L to    63.281076 from OBSGEO-[XYZ].\n",
      "Set OBSGEO-B to    28.491626 from OBSGEO-[XYZ].\n",
      "Set OBSGEO-H to 1394836264.421 from OBSGEO-[XYZ]'.\n",
      "  warnings.warn(\n",
      "\n",
      "2022-12-02 01:26:13,179 - stpipe - INFO - Reading in MDRIZSKY of 0.1151477247476578\n",
      "2022-12-02 01:26:13,250 - stpipe - WARNING - /Users/ivo/anaconda/envs/jwst_nircam/lib/python3.9/site-packages/astropy/wcs/wcs.py:725: FITSFixedWarning: 'obsfix' made the change 'Set OBSGEO-L to    63.299758 from OBSGEO-[XYZ].\n",
      "Set OBSGEO-B to    28.488124 from OBSGEO-[XYZ].\n",
      "Set OBSGEO-H to 1394952435.627 from OBSGEO-[XYZ]'.\n",
      "  warnings.warn(\n",
      "\n",
      "2022-12-02 01:26:13,256 - stpipe - INFO - Reading in MDRIZSKY of 0.117072619497776\n",
      "2022-12-02 01:26:13,328 - stpipe - WARNING - /Users/ivo/anaconda/envs/jwst_nircam/lib/python3.9/site-packages/astropy/wcs/wcs.py:725: FITSFixedWarning: 'obsfix' made the change 'Set OBSGEO-L to    63.317268 from OBSGEO-[XYZ].\n",
      "Set OBSGEO-B to    28.484837 from OBSGEO-[XYZ].\n",
      "Set OBSGEO-H to 1395061354.150 from OBSGEO-[XYZ]'.\n",
      "  warnings.warn(\n",
      "\n",
      "2022-12-02 01:26:13,335 - stpipe - INFO - Reading in MDRIZSKY of 0.1160110980272293\n",
      "2022-12-02 01:26:13,350 - stpipe - INFO - No context image will be created for jw02561001002_02101_00001_nrcalong_cal.fits\n",
      "2022-12-02 01:26:13,351 - stpipe - INFO - No context image will be created for jw02561001002_02101_00002_nrcalong_cal.fits\n",
      "2022-12-02 01:26:13,351 - stpipe - INFO - No context image will be created for jw02561001002_02101_00003_nrcalong_cal.fits\n",
      "2022-12-02 01:26:13,351 - stpipe - INFO - No context image will be created for jw02561001002_02101_00004_nrcalong_cal.fits\n",
      "2022-12-02 01:26:13,352 - stpipe - INFO - -Creating output WCS.\n",
      "2022-12-02 01:26:13,354 - stpipe - INFO - No context image will be created for abell2744-preimg-02561-001-041.0-nrca5-f277w-clear_drz.fits\n",
      "2022-12-02 01:26:13,355 - stpipe - INFO - WCS Keywords\n"
     ]
    },
    {
     "name": "stdout",
     "output_type": "stream",
     "text": [
      "WCS Keywords\n"
     ]
    },
    {
     "name": "stderr",
     "output_type": "stream",
     "text": [
      "2022-12-02 01:26:13,355 - stpipe - INFO - \n"
     ]
    },
    {
     "name": "stdout",
     "output_type": "stream",
     "text": [
      "\n"
     ]
    },
    {
     "name": "stderr",
     "output_type": "stream",
     "text": [
      "2022-12-02 01:26:13,356 - stpipe - INFO - Number of WCS axes: 2\n"
     ]
    },
    {
     "name": "stdout",
     "output_type": "stream",
     "text": [
      "Number of WCS axes: 2\n"
     ]
    },
    {
     "name": "stderr",
     "output_type": "stream",
     "text": [
      "2022-12-02 01:26:13,356 - stpipe - INFO - CTYPE : 'RA---TAN'  'DEC--TAN'  \n"
     ]
    },
    {
     "name": "stdout",
     "output_type": "stream",
     "text": [
      "CTYPE : 'RA---TAN'  'DEC--TAN'  \n"
     ]
    },
    {
     "name": "stderr",
     "output_type": "stream",
     "text": [
      "2022-12-02 01:26:13,357 - stpipe - INFO - CRVAL : 3.578062735318098  -30.404334693667945  \n"
     ]
    },
    {
     "name": "stdout",
     "output_type": "stream",
     "text": [
      "CRVAL : 3.578062735318098  -30.404334693667945  \n"
     ]
    },
    {
     "name": "stderr",
     "output_type": "stream",
     "text": [
      "2022-12-02 01:26:13,358 - stpipe - INFO - CRPIX : 1177.5  1174.0  \n"
     ]
    },
    {
     "name": "stdout",
     "output_type": "stream",
     "text": [
      "CRPIX : 1177.5  1174.0  \n"
     ]
    },
    {
     "name": "stderr",
     "output_type": "stream",
     "text": [
      "2022-12-02 01:26:13,358 - stpipe - INFO - CD1_1 CD1_2  : -1.3125425480958589e-05  1.153371868355523e-05  \n"
     ]
    },
    {
     "name": "stdout",
     "output_type": "stream",
     "text": [
      "CD1_1 CD1_2  : -1.3125425480958589e-05  1.153371868355523e-05  \n"
     ]
    },
    {
     "name": "stderr",
     "output_type": "stream",
     "text": [
      "2022-12-02 01:26:13,359 - stpipe - INFO - CD2_1 CD2_2  : 1.153371868355523e-05  1.3125425480958589e-05  \n"
     ]
    },
    {
     "name": "stdout",
     "output_type": "stream",
     "text": [
      "CD2_1 CD2_2  : 1.153371868355523e-05  1.3125425480958589e-05  \n"
     ]
    },
    {
     "name": "stderr",
     "output_type": "stream",
     "text": [
      "2022-12-02 01:26:13,359 - stpipe - INFO - NAXIS : 2355  2348\n"
     ]
    },
    {
     "name": "stdout",
     "output_type": "stream",
     "text": [
      "NAXIS : 2355  2348\n"
     ]
    },
    {
     "name": "stderr",
     "output_type": "stream",
     "text": [
      "2022-12-02 01:26:13,360 - stpipe - INFO - ********************************************************************************\n"
     ]
    },
    {
     "name": "stdout",
     "output_type": "stream",
     "text": [
      "********************************************************************************\n"
     ]
    },
    {
     "name": "stderr",
     "output_type": "stream",
     "text": [
      "2022-12-02 01:26:13,360 - stpipe - INFO - *\n"
     ]
    },
    {
     "name": "stdout",
     "output_type": "stream",
     "text": [
      "*\n"
     ]
    },
    {
     "name": "stderr",
     "output_type": "stream",
     "text": [
      "2022-12-02 01:26:13,361 - stpipe - INFO - *  Estimated memory usage:  up to 95 Mb.\n"
     ]
    },
    {
     "name": "stdout",
     "output_type": "stream",
     "text": [
      "*  Estimated memory usage:  up to 95 Mb.\n"
     ]
    },
    {
     "name": "stderr",
     "output_type": "stream",
     "text": [
      "2022-12-02 01:26:13,362 - stpipe - INFO - *  Output image size:       2355 X 2348 pixels. \n"
     ]
    },
    {
     "name": "stdout",
     "output_type": "stream",
     "text": [
      "*  Output image size:       2355 X 2348 pixels. \n"
     ]
    },
    {
     "name": "stderr",
     "output_type": "stream",
     "text": [
      "2022-12-02 01:26:13,363 - stpipe - INFO - *  Output image file:       ~ 63 Mb. \n"
     ]
    },
    {
     "name": "stdout",
     "output_type": "stream",
     "text": [
      "*  Output image file:       ~ 63 Mb. \n"
     ]
    },
    {
     "name": "stderr",
     "output_type": "stream",
     "text": [
      "2022-12-02 01:26:13,364 - stpipe - INFO - *  Cores available:         1\n"
     ]
    },
    {
     "name": "stdout",
     "output_type": "stream",
     "text": [
      "*  Cores available:         1\n"
     ]
    },
    {
     "name": "stderr",
     "output_type": "stream",
     "text": [
      "2022-12-02 01:26:13,364 - stpipe - INFO - *\n"
     ]
    },
    {
     "name": "stdout",
     "output_type": "stream",
     "text": [
      "*\n"
     ]
    },
    {
     "name": "stderr",
     "output_type": "stream",
     "text": [
      "2022-12-02 01:26:13,365 - stpipe - INFO - ********************************************************************************\n"
     ]
    },
    {
     "name": "stdout",
     "output_type": "stream",
     "text": [
      "********************************************************************************\n"
     ]
    },
    {
     "name": "stderr",
     "output_type": "stream",
     "text": [
      "2022-12-02 01:26:13,366 - stpipe - INFO - ==== Processing Step Initialization finished at 01:26:13.36 (02/12/2022)\n"
     ]
    },
    {
     "name": "stdout",
     "output_type": "stream",
     "text": [
      "==== Processing Step Initialization finished at 01:26:13.36 (02/12/2022)\n"
     ]
    },
    {
     "name": "stderr",
     "output_type": "stream",
     "text": [
      "2022-12-02 01:26:13,366 - stpipe - INFO - USER INPUT PARAMETERS common to all Processing Steps:\n",
      "2022-12-02 01:26:13,366 - stpipe - INFO - \tbuild :\tFalse\n",
      "2022-12-02 01:26:13,367 - stpipe - INFO - \tcoeffs :\tTrue\n",
      "2022-12-02 01:26:13,367 - stpipe - INFO - \tcontext :\tFalse\n",
      "2022-12-02 01:26:13,367 - stpipe - INFO - \tcrbit :\t4096\n",
      "2022-12-02 01:26:13,368 - stpipe - INFO - \tgroup :\t\n",
      "2022-12-02 01:26:13,368 - stpipe - INFO - \tin_memory :\tFalse\n",
      "2022-12-02 01:26:13,368 - stpipe - INFO - \tinput :\t['jw02561001002_02101_00001_nrcalong_cal.fits', 'jw02561001002_02101_00002_nrcalong_cal.fits', 'jw02561001002_02101_00003_nrcalong_cal.fits', 'jw02561001002_02101_00004_nrcalong_cal.fits']\n",
      "2022-12-02 01:26:13,368 - stpipe - INFO - \tmdriztab :\tFalse\n",
      "2022-12-02 01:26:13,369 - stpipe - INFO - \tnum_cores :\tNone\n",
      "2022-12-02 01:26:13,369 - stpipe - INFO - \toutput :\tabell2744-preimg-02561-001-041.0-nrca5-f277w-clear\n",
      "2022-12-02 01:26:13,370 - stpipe - INFO - \tproc_unit :\tnative\n",
      "2022-12-02 01:26:13,370 - stpipe - INFO - \tresetbits :\t0\n",
      "2022-12-02 01:26:13,370 - stpipe - INFO - \trules_file :\t\n",
      "2022-12-02 01:26:13,371 - stpipe - INFO - \trunfile :\tastrodrizzle.log\n",
      "2022-12-02 01:26:13,371 - stpipe - INFO - \tstepsize :\t10\n",
      "2022-12-02 01:26:13,372 - stpipe - INFO - \tupdatewcs :\tFalse\n",
      "2022-12-02 01:26:13,372 - stpipe - INFO - \twcskey :\t\n",
      "2022-12-02 01:26:13,372 - stpipe - INFO - ==== Processing Step  Static Mask  started at  01:26:13.372 (02/12/2022)\n"
     ]
    },
    {
     "name": "stdout",
     "output_type": "stream",
     "text": [
      "==== Processing Step  Static Mask  started at  01:26:13.372 (02/12/2022)\n"
     ]
    },
    {
     "name": "stderr",
     "output_type": "stream",
     "text": [
      "2022-12-02 01:26:13,373 - stpipe - INFO - \n"
     ]
    },
    {
     "name": "stdout",
     "output_type": "stream",
     "text": [
      "\n"
     ]
    },
    {
     "name": "stderr",
     "output_type": "stream",
     "text": [
      "2022-12-02 01:26:13,374 - stpipe - INFO - USER INPUT PARAMETERS for Static Mask Step:\n",
      "2022-12-02 01:26:13,374 - stpipe - INFO - \tstatic :\tTrue\n",
      "2022-12-02 01:26:13,375 - stpipe - INFO - \tstatic_sig :\t4.0\n",
      "2022-12-02 01:26:13,375 - stpipe - INFO - Computing static mask:\n",
      "2022-12-02 01:26:13,375 - stpipe - INFO - \n",
      "2022-12-02 01:26:13,460 - stpipe - INFO -   mode =  0.112504;   rms = 0.038719;   static_sig = 4.00\n",
      "2022-12-02 01:26:13,465 - stpipe - INFO - Computing static mask:\n",
      "2022-12-02 01:26:13,465 - stpipe - INFO - \n",
      "2022-12-02 01:26:13,548 - stpipe - INFO -   mode =  0.112442;   rms = 0.038875;   static_sig = 4.00\n",
      "2022-12-02 01:26:13,551 - stpipe - INFO - Computing static mask:\n",
      "2022-12-02 01:26:13,552 - stpipe - INFO - \n",
      "2022-12-02 01:26:13,630 - stpipe - INFO -   mode =  0.113425;   rms = 0.044142;   static_sig = 4.00\n",
      "2022-12-02 01:26:13,633 - stpipe - INFO - Computing static mask:\n",
      "2022-12-02 01:26:13,634 - stpipe - INFO - \n",
      "2022-12-02 01:26:13,717 - stpipe - INFO -   mode =  0.112328;   rms = 0.037914;   static_sig = 4.00\n",
      "2022-12-02 01:26:13,741 - stpipe - INFO - Saving static mask to disk: ./_2048x2048_1_staticMask.fits\n",
      "2022-12-02 01:26:13,741 - stpipe - INFO - ==== Processing Step Static Mask finished at 01:26:13.741 (02/12/2022)\n"
     ]
    },
    {
     "name": "stdout",
     "output_type": "stream",
     "text": [
      "==== Processing Step Static Mask finished at 01:26:13.741 (02/12/2022)\n"
     ]
    },
    {
     "name": "stderr",
     "output_type": "stream",
     "text": [
      "2022-12-02 01:26:13,742 - stpipe - INFO - ==== Processing Step  Subtract Sky  started at  01:26:13.742 (02/12/2022)\n"
     ]
    },
    {
     "name": "stdout",
     "output_type": "stream",
     "text": [
      "==== Processing Step  Subtract Sky  started at  01:26:13.742 (02/12/2022)\n"
     ]
    },
    {
     "name": "stderr",
     "output_type": "stream",
     "text": [
      "2022-12-02 01:26:13,743 - stpipe - INFO - \n"
     ]
    },
    {
     "name": "stdout",
     "output_type": "stream",
     "text": [
      "\n"
     ]
    },
    {
     "name": "stderr",
     "output_type": "stream",
     "text": [
      "2022-12-02 01:26:13,743 - stpipe - INFO - USER INPUT PARAMETERS for Sky Subtraction Step:\n",
      "2022-12-02 01:26:13,744 - stpipe - INFO - \tsky_bits :\t0\n",
      "2022-12-02 01:26:13,744 - stpipe - INFO - \tskyclip :\t5\n",
      "2022-12-02 01:26:13,744 - stpipe - INFO - \tskyfile :\t\n",
      "2022-12-02 01:26:13,744 - stpipe - INFO - \tskylower :\tNone\n",
      "2022-12-02 01:26:13,745 - stpipe - INFO - \tskylsigma :\t4.0\n",
      "2022-12-02 01:26:13,745 - stpipe - INFO - \tskymask_cat :\t\n",
      "2022-12-02 01:26:13,745 - stpipe - INFO - \tskymethod :\tlocalmin\n",
      "2022-12-02 01:26:13,746 - stpipe - INFO - \tskystat :\tmedian\n",
      "2022-12-02 01:26:13,746 - stpipe - INFO - \tskysub :\tTrue\n",
      "2022-12-02 01:26:13,746 - stpipe - INFO - \tskyupper :\tNone\n",
      "2022-12-02 01:26:13,747 - stpipe - INFO - \tskyuser :\t\n",
      "2022-12-02 01:26:13,747 - stpipe - INFO - \tskyusigma :\t4.0\n",
      "2022-12-02 01:26:13,747 - stpipe - INFO - \tskywidth :\t0.1\n",
      "2022-12-02 01:26:13,747 - stpipe - INFO - \tuse_static :\tTrue\n",
      "2022-12-02 01:26:13,849 - stpipe - INFO - ***** skymatch started on 2022-12-02 01:26:13.849802\n"
     ]
    },
    {
     "name": "stdout",
     "output_type": "stream",
     "text": [
      "***** skymatch started on 2022-12-02 01:26:13.849802\n"
     ]
    },
    {
     "name": "stderr",
     "output_type": "stream",
     "text": [
      "2022-12-02 01:26:13,850 - stpipe - INFO -       Version 1.0.9\n"
     ]
    },
    {
     "name": "stdout",
     "output_type": "stream",
     "text": [
      "      Version 1.0.9\n"
     ]
    },
    {
     "name": "stderr",
     "output_type": "stream",
     "text": [
      "2022-12-02 01:26:13,851 - stpipe - INFO - \n"
     ]
    },
    {
     "name": "stdout",
     "output_type": "stream",
     "text": [
      "\n"
     ]
    },
    {
     "name": "stderr",
     "output_type": "stream",
     "text": [
      "2022-12-02 01:26:13,852 - stpipe - INFO - 'skymatch' task will apply computed sky differences to input image file(s).\n"
     ]
    },
    {
     "name": "stdout",
     "output_type": "stream",
     "text": [
      "'skymatch' task will apply computed sky differences to input image file(s).\n"
     ]
    },
    {
     "name": "stderr",
     "output_type": "stream",
     "text": [
      "2022-12-02 01:26:13,852 - stpipe - INFO - \n"
     ]
    },
    {
     "name": "stdout",
     "output_type": "stream",
     "text": [
      "\n"
     ]
    },
    {
     "name": "stderr",
     "output_type": "stream",
     "text": [
      "2022-12-02 01:26:13,853 - stpipe - INFO - NOTE: Computed sky values WILL NOT be subtracted from image data ('subtractsky'=False).\n"
     ]
    },
    {
     "name": "stdout",
     "output_type": "stream",
     "text": [
      "NOTE: Computed sky values WILL NOT be subtracted from image data ('subtractsky'=False).\n"
     ]
    },
    {
     "name": "stderr",
     "output_type": "stream",
     "text": [
      "2022-12-02 01:26:13,853 - stpipe - INFO - 'MDRIZSKY' header keyword will represent sky value *computed* from data.\n"
     ]
    },
    {
     "name": "stdout",
     "output_type": "stream",
     "text": [
      "'MDRIZSKY' header keyword will represent sky value *computed* from data.\n"
     ]
    },
    {
     "name": "stderr",
     "output_type": "stream",
     "text": [
      "2022-12-02 01:26:13,854 - stpipe - INFO - \n"
     ]
    },
    {
     "name": "stdout",
     "output_type": "stream",
     "text": [
      "\n"
     ]
    },
    {
     "name": "stderr",
     "output_type": "stream",
     "text": [
      "2022-12-02 01:26:13,854 - stpipe - INFO - -----  User specified keywords:  -----\n"
     ]
    },
    {
     "name": "stdout",
     "output_type": "stream",
     "text": [
      "-----  User specified keywords:  -----\n"
     ]
    },
    {
     "name": "stderr",
     "output_type": "stream",
     "text": [
      "2022-12-02 01:26:13,855 - stpipe - INFO -        Sky Value Keyword:  'MDRIZSKY'\n"
     ]
    },
    {
     "name": "stdout",
     "output_type": "stream",
     "text": [
      "       Sky Value Keyword:  'MDRIZSKY'\n"
     ]
    },
    {
     "name": "stderr",
     "output_type": "stream",
     "text": [
      "2022-12-02 01:26:13,856 - stpipe - INFO -        Data Units Keyword: 'BUNIT'\n"
     ]
    },
    {
     "name": "stdout",
     "output_type": "stream",
     "text": [
      "       Data Units Keyword: 'BUNIT'\n"
     ]
    },
    {
     "name": "stderr",
     "output_type": "stream",
     "text": [
      "2022-12-02 01:26:13,856 - stpipe - INFO - \n"
     ]
    },
    {
     "name": "stdout",
     "output_type": "stream",
     "text": [
      "\n"
     ]
    },
    {
     "name": "stderr",
     "output_type": "stream",
     "text": [
      "2022-12-02 01:26:13,858 - stpipe - INFO - \n"
     ]
    },
    {
     "name": "stdout",
     "output_type": "stream",
     "text": [
      "\n"
     ]
    },
    {
     "name": "stderr",
     "output_type": "stream",
     "text": [
      "2022-12-02 01:26:13,858 - stpipe - INFO - -----  Input file list:  -----\n"
     ]
    },
    {
     "name": "stdout",
     "output_type": "stream",
     "text": [
      "-----  Input file list:  -----\n"
     ]
    },
    {
     "name": "stderr",
     "output_type": "stream",
     "text": [
      "2022-12-02 01:26:13,859 - stpipe - INFO - \n"
     ]
    },
    {
     "name": "stdout",
     "output_type": "stream",
     "text": [
      "\n"
     ]
    },
    {
     "name": "stderr",
     "output_type": "stream",
     "text": [
      "2022-12-02 01:26:13,860 - stpipe - INFO -    **  Input image: 'jw02561001002_02101_00001_nrcalong_cal.fits'\n"
     ]
    },
    {
     "name": "stdout",
     "output_type": "stream",
     "text": [
      "   **  Input image: 'jw02561001002_02101_00001_nrcalong_cal.fits'\n"
     ]
    },
    {
     "name": "stderr",
     "output_type": "stream",
     "text": [
      "2022-12-02 01:26:13,861 - stpipe - INFO -        EXT: 'SCI',1;\tMASK: jw02561001002_02101_00001_nrcalong_skymatch_mask_sci1.fits[0]\n"
     ]
    },
    {
     "name": "stdout",
     "output_type": "stream",
     "text": [
      "       EXT: 'SCI',1;\tMASK: jw02561001002_02101_00001_nrcalong_skymatch_mask_sci1.fits[0]\n"
     ]
    },
    {
     "name": "stderr",
     "output_type": "stream",
     "text": [
      "2022-12-02 01:26:13,861 - stpipe - INFO - \n"
     ]
    },
    {
     "name": "stdout",
     "output_type": "stream",
     "text": [
      "\n"
     ]
    },
    {
     "name": "stderr",
     "output_type": "stream",
     "text": [
      "2022-12-02 01:26:13,862 - stpipe - INFO -    **  Input image: 'jw02561001002_02101_00002_nrcalong_cal.fits'\n"
     ]
    },
    {
     "name": "stdout",
     "output_type": "stream",
     "text": [
      "   **  Input image: 'jw02561001002_02101_00002_nrcalong_cal.fits'\n"
     ]
    },
    {
     "name": "stderr",
     "output_type": "stream",
     "text": [
      "2022-12-02 01:26:13,863 - stpipe - INFO -        EXT: 'SCI',1;\tMASK: jw02561001002_02101_00002_nrcalong_skymatch_mask_sci1.fits[0]\n"
     ]
    },
    {
     "name": "stdout",
     "output_type": "stream",
     "text": [
      "       EXT: 'SCI',1;\tMASK: jw02561001002_02101_00002_nrcalong_skymatch_mask_sci1.fits[0]\n"
     ]
    },
    {
     "name": "stderr",
     "output_type": "stream",
     "text": [
      "2022-12-02 01:26:13,864 - stpipe - INFO - \n"
     ]
    },
    {
     "name": "stdout",
     "output_type": "stream",
     "text": [
      "\n"
     ]
    },
    {
     "name": "stderr",
     "output_type": "stream",
     "text": [
      "2022-12-02 01:26:13,864 - stpipe - INFO -    **  Input image: 'jw02561001002_02101_00003_nrcalong_cal.fits'\n"
     ]
    },
    {
     "name": "stdout",
     "output_type": "stream",
     "text": [
      "   **  Input image: 'jw02561001002_02101_00003_nrcalong_cal.fits'\n"
     ]
    },
    {
     "name": "stderr",
     "output_type": "stream",
     "text": [
      "2022-12-02 01:26:13,865 - stpipe - INFO -        EXT: 'SCI',1;\tMASK: jw02561001002_02101_00003_nrcalong_skymatch_mask_sci1.fits[0]\n"
     ]
    },
    {
     "name": "stdout",
     "output_type": "stream",
     "text": [
      "       EXT: 'SCI',1;\tMASK: jw02561001002_02101_00003_nrcalong_skymatch_mask_sci1.fits[0]\n"
     ]
    },
    {
     "name": "stderr",
     "output_type": "stream",
     "text": [
      "2022-12-02 01:26:13,865 - stpipe - INFO - \n"
     ]
    },
    {
     "name": "stdout",
     "output_type": "stream",
     "text": [
      "\n"
     ]
    },
    {
     "name": "stderr",
     "output_type": "stream",
     "text": [
      "2022-12-02 01:26:13,866 - stpipe - INFO -    **  Input image: 'jw02561001002_02101_00004_nrcalong_cal.fits'\n"
     ]
    },
    {
     "name": "stdout",
     "output_type": "stream",
     "text": [
      "   **  Input image: 'jw02561001002_02101_00004_nrcalong_cal.fits'\n"
     ]
    },
    {
     "name": "stderr",
     "output_type": "stream",
     "text": [
      "2022-12-02 01:26:13,867 - stpipe - INFO -        EXT: 'SCI',1;\tMASK: jw02561001002_02101_00004_nrcalong_skymatch_mask_sci1.fits[0]\n"
     ]
    },
    {
     "name": "stdout",
     "output_type": "stream",
     "text": [
      "       EXT: 'SCI',1;\tMASK: jw02561001002_02101_00004_nrcalong_skymatch_mask_sci1.fits[0]\n"
     ]
    },
    {
     "name": "stderr",
     "output_type": "stream",
     "text": [
      "2022-12-02 01:26:13,867 - stpipe - INFO - \n"
     ]
    },
    {
     "name": "stdout",
     "output_type": "stream",
     "text": [
      "\n"
     ]
    },
    {
     "name": "stderr",
     "output_type": "stream",
     "text": [
      "2022-12-02 01:26:13,868 - stpipe - INFO - -----  Sky statistics parameters:  -----\n"
     ]
    },
    {
     "name": "stdout",
     "output_type": "stream",
     "text": [
      "-----  Sky statistics parameters:  -----\n"
     ]
    },
    {
     "name": "stderr",
     "output_type": "stream",
     "text": [
      "2022-12-02 01:26:13,868 - stpipe - INFO -        statistics function: 'median'\n"
     ]
    },
    {
     "name": "stdout",
     "output_type": "stream",
     "text": [
      "       statistics function: 'median'\n"
     ]
    },
    {
     "name": "stderr",
     "output_type": "stream",
     "text": [
      "2022-12-02 01:26:13,869 - stpipe - INFO -        lower = None\n"
     ]
    },
    {
     "name": "stdout",
     "output_type": "stream",
     "text": [
      "       lower = None\n"
     ]
    },
    {
     "name": "stderr",
     "output_type": "stream",
     "text": [
      "2022-12-02 01:26:13,870 - stpipe - INFO -        upper = None\n"
     ]
    },
    {
     "name": "stdout",
     "output_type": "stream",
     "text": [
      "       upper = None\n"
     ]
    },
    {
     "name": "stderr",
     "output_type": "stream",
     "text": [
      "2022-12-02 01:26:13,870 - stpipe - INFO -        nclip = 5\n"
     ]
    },
    {
     "name": "stdout",
     "output_type": "stream",
     "text": [
      "       nclip = 5\n"
     ]
    },
    {
     "name": "stderr",
     "output_type": "stream",
     "text": [
      "2022-12-02 01:26:13,871 - stpipe - INFO -        lsigma = 4.0\n"
     ]
    },
    {
     "name": "stdout",
     "output_type": "stream",
     "text": [
      "       lsigma = 4.0\n"
     ]
    },
    {
     "name": "stderr",
     "output_type": "stream",
     "text": [
      "2022-12-02 01:26:13,872 - stpipe - INFO -        usigma = 4.0\n"
     ]
    },
    {
     "name": "stdout",
     "output_type": "stream",
     "text": [
      "       usigma = 4.0\n"
     ]
    },
    {
     "name": "stderr",
     "output_type": "stream",
     "text": [
      "2022-12-02 01:26:13,872 - stpipe - INFO -        binwidth = 0.1\n"
     ]
    },
    {
     "name": "stdout",
     "output_type": "stream",
     "text": [
      "       binwidth = 0.1\n"
     ]
    },
    {
     "name": "stderr",
     "output_type": "stream",
     "text": [
      "2022-12-02 01:26:13,873 - stpipe - INFO - \n"
     ]
    },
    {
     "name": "stdout",
     "output_type": "stream",
     "text": [
      "\n"
     ]
    },
    {
     "name": "stderr",
     "output_type": "stream",
     "text": [
      "2022-12-02 01:26:13,873 - stpipe - INFO - -----  Data->Brightness conversion parameters for input files:  -----\n"
     ]
    },
    {
     "name": "stdout",
     "output_type": "stream",
     "text": [
      "-----  Data->Brightness conversion parameters for input files:  -----\n"
     ]
    },
    {
     "name": "stderr",
     "output_type": "stream",
     "text": [
      "2022-12-02 01:26:13,874 - stpipe - INFO - \n"
     ]
    },
    {
     "name": "stdout",
     "output_type": "stream",
     "text": [
      "\n"
     ]
    },
    {
     "name": "stderr",
     "output_type": "stream",
     "text": [
      "2022-12-02 01:26:13,874 - stpipe - INFO -    *   Image: jw02561001002_02101_00001_nrcalong_cal.fits\n"
     ]
    },
    {
     "name": "stdout",
     "output_type": "stream",
     "text": [
      "   *   Image: jw02561001002_02101_00001_nrcalong_cal.fits\n"
     ]
    },
    {
     "name": "stderr",
     "output_type": "stream",
     "text": [
      "2022-12-02 01:26:13,887 - stpipe - WARNING - /Users/ivo/anaconda/envs/jwst_nircam/lib/python3.9/site-packages/astropy/wcs/wcs.py:725: FITSFixedWarning: 'obsfix' made the change 'Set OBSGEO-L to    63.263556 from OBSGEO-[XYZ].\n",
      "Set OBSGEO-B to    28.494908 from OBSGEO-[XYZ].\n",
      "Set OBSGEO-H to 1394727362.015 from OBSGEO-[XYZ]'.\n",
      "  warnings.warn(\n",
      "\n",
      "2022-12-02 01:26:13,890 - stpipe - INFO -        EXT = 'SCI',1\n"
     ]
    },
    {
     "name": "stdout",
     "output_type": "stream",
     "text": [
      "       EXT = 'SCI',1\n"
     ]
    },
    {
     "name": "stderr",
     "output_type": "stream",
     "text": [
      "2022-12-02 01:26:13,890 - stpipe - INFO -              Data units type: COUNT-RATE\n"
     ]
    },
    {
     "name": "stdout",
     "output_type": "stream",
     "text": [
      "             Data units type: COUNT-RATE\n"
     ]
    },
    {
     "name": "stderr",
     "output_type": "stream",
     "text": [
      "2022-12-02 01:26:13,891 - stpipe - INFO -              Conversion factor (data->brightness):  252.7337673908918\n"
     ]
    },
    {
     "name": "stdout",
     "output_type": "stream",
     "text": [
      "             Conversion factor (data->brightness):  252.7337673908918\n"
     ]
    },
    {
     "name": "stderr",
     "output_type": "stream",
     "text": [
      "2022-12-02 01:26:13,891 - stpipe - INFO - \n"
     ]
    },
    {
     "name": "stdout",
     "output_type": "stream",
     "text": [
      "\n"
     ]
    },
    {
     "name": "stderr",
     "output_type": "stream",
     "text": [
      "2022-12-02 01:26:13,892 - stpipe - INFO -    *   Image: jw02561001002_02101_00002_nrcalong_cal.fits\n"
     ]
    },
    {
     "name": "stdout",
     "output_type": "stream",
     "text": [
      "   *   Image: jw02561001002_02101_00002_nrcalong_cal.fits\n"
     ]
    },
    {
     "name": "stderr",
     "output_type": "stream",
     "text": [
      "2022-12-02 01:26:13,904 - stpipe - WARNING - /Users/ivo/anaconda/envs/jwst_nircam/lib/python3.9/site-packages/astropy/wcs/wcs.py:725: FITSFixedWarning: 'obsfix' made the change 'Set OBSGEO-L to    63.281076 from OBSGEO-[XYZ].\n",
      "Set OBSGEO-B to    28.491626 from OBSGEO-[XYZ].\n",
      "Set OBSGEO-H to 1394836264.421 from OBSGEO-[XYZ]'.\n",
      "  warnings.warn(\n",
      "\n",
      "2022-12-02 01:26:13,906 - stpipe - INFO -        EXT = 'SCI',1\n"
     ]
    },
    {
     "name": "stdout",
     "output_type": "stream",
     "text": [
      "       EXT = 'SCI',1\n"
     ]
    },
    {
     "name": "stderr",
     "output_type": "stream",
     "text": [
      "2022-12-02 01:26:13,906 - stpipe - INFO -              Data units type: COUNT-RATE\n"
     ]
    },
    {
     "name": "stdout",
     "output_type": "stream",
     "text": [
      "             Data units type: COUNT-RATE\n"
     ]
    },
    {
     "name": "stderr",
     "output_type": "stream",
     "text": [
      "2022-12-02 01:26:13,907 - stpipe - INFO -              Conversion factor (data->brightness):  252.73377103180647\n"
     ]
    },
    {
     "name": "stdout",
     "output_type": "stream",
     "text": [
      "             Conversion factor (data->brightness):  252.73377103180647\n"
     ]
    },
    {
     "name": "stderr",
     "output_type": "stream",
     "text": [
      "2022-12-02 01:26:13,908 - stpipe - INFO - \n"
     ]
    },
    {
     "name": "stdout",
     "output_type": "stream",
     "text": [
      "\n"
     ]
    },
    {
     "name": "stderr",
     "output_type": "stream",
     "text": [
      "2022-12-02 01:26:13,909 - stpipe - INFO -    *   Image: jw02561001002_02101_00003_nrcalong_cal.fits\n"
     ]
    },
    {
     "name": "stdout",
     "output_type": "stream",
     "text": [
      "   *   Image: jw02561001002_02101_00003_nrcalong_cal.fits\n"
     ]
    },
    {
     "name": "stderr",
     "output_type": "stream",
     "text": [
      "2022-12-02 01:26:13,921 - stpipe - WARNING - /Users/ivo/anaconda/envs/jwst_nircam/lib/python3.9/site-packages/astropy/wcs/wcs.py:725: FITSFixedWarning: 'obsfix' made the change 'Set OBSGEO-L to    63.299758 from OBSGEO-[XYZ].\n",
      "Set OBSGEO-B to    28.488124 from OBSGEO-[XYZ].\n",
      "Set OBSGEO-H to 1394952435.627 from OBSGEO-[XYZ]'.\n",
      "  warnings.warn(\n",
      "\n",
      "2022-12-02 01:26:13,923 - stpipe - INFO -        EXT = 'SCI',1\n"
     ]
    },
    {
     "name": "stdout",
     "output_type": "stream",
     "text": [
      "       EXT = 'SCI',1\n"
     ]
    },
    {
     "name": "stderr",
     "output_type": "stream",
     "text": [
      "2022-12-02 01:26:13,924 - stpipe - INFO -              Data units type: COUNT-RATE\n"
     ]
    },
    {
     "name": "stdout",
     "output_type": "stream",
     "text": [
      "             Data units type: COUNT-RATE\n"
     ]
    },
    {
     "name": "stderr",
     "output_type": "stream",
     "text": [
      "2022-12-02 01:26:13,925 - stpipe - INFO -              Conversion factor (data->brightness):  252.73377467308006\n"
     ]
    },
    {
     "name": "stdout",
     "output_type": "stream",
     "text": [
      "             Conversion factor (data->brightness):  252.73377467308006\n"
     ]
    },
    {
     "name": "stderr",
     "output_type": "stream",
     "text": [
      "2022-12-02 01:26:13,926 - stpipe - INFO - \n"
     ]
    },
    {
     "name": "stdout",
     "output_type": "stream",
     "text": [
      "\n"
     ]
    },
    {
     "name": "stderr",
     "output_type": "stream",
     "text": [
      "2022-12-02 01:26:13,926 - stpipe - INFO -    *   Image: jw02561001002_02101_00004_nrcalong_cal.fits\n"
     ]
    },
    {
     "name": "stdout",
     "output_type": "stream",
     "text": [
      "   *   Image: jw02561001002_02101_00004_nrcalong_cal.fits\n"
     ]
    },
    {
     "name": "stderr",
     "output_type": "stream",
     "text": [
      "2022-12-02 01:26:13,938 - stpipe - WARNING - /Users/ivo/anaconda/envs/jwst_nircam/lib/python3.9/site-packages/astropy/wcs/wcs.py:725: FITSFixedWarning: 'obsfix' made the change 'Set OBSGEO-L to    63.317268 from OBSGEO-[XYZ].\n",
      "Set OBSGEO-B to    28.484837 from OBSGEO-[XYZ].\n",
      "Set OBSGEO-H to 1395061354.150 from OBSGEO-[XYZ]'.\n",
      "  warnings.warn(\n",
      "\n",
      "2022-12-02 01:26:13,940 - stpipe - INFO -        EXT = 'SCI',1\n"
     ]
    },
    {
     "name": "stdout",
     "output_type": "stream",
     "text": [
      "       EXT = 'SCI',1\n"
     ]
    },
    {
     "name": "stderr",
     "output_type": "stream",
     "text": [
      "2022-12-02 01:26:13,941 - stpipe - INFO -              Data units type: COUNT-RATE\n"
     ]
    },
    {
     "name": "stdout",
     "output_type": "stream",
     "text": [
      "             Data units type: COUNT-RATE\n"
     ]
    },
    {
     "name": "stderr",
     "output_type": "stream",
     "text": [
      "2022-12-02 01:26:13,942 - stpipe - INFO -              Conversion factor (data->brightness):  252.7337785341064\n"
     ]
    },
    {
     "name": "stdout",
     "output_type": "stream",
     "text": [
      "             Conversion factor (data->brightness):  252.7337785341064\n"
     ]
    },
    {
     "name": "stderr",
     "output_type": "stream",
     "text": [
      "2022-12-02 01:26:13,943 - stpipe - INFO - \n"
     ]
    },
    {
     "name": "stdout",
     "output_type": "stream",
     "text": [
      "\n"
     ]
    },
    {
     "name": "stderr",
     "output_type": "stream",
     "text": [
      "2022-12-02 01:26:13,943 - stpipe - INFO - \n"
     ]
    },
    {
     "name": "stdout",
     "output_type": "stream",
     "text": [
      "\n"
     ]
    },
    {
     "name": "stderr",
     "output_type": "stream",
     "text": [
      "2022-12-02 01:26:13,944 - stpipe - INFO - -----  Computing sky values requested image extensions (detector chips):  -----\n"
     ]
    },
    {
     "name": "stdout",
     "output_type": "stream",
     "text": [
      "-----  Computing sky values requested image extensions (detector chips):  -----\n"
     ]
    },
    {
     "name": "stderr",
     "output_type": "stream",
     "text": [
      "2022-12-02 01:26:13,945 - stpipe - INFO - \n"
     ]
    },
    {
     "name": "stdout",
     "output_type": "stream",
     "text": [
      "\n"
     ]
    },
    {
     "name": "stderr",
     "output_type": "stream",
     "text": [
      "2022-12-02 01:26:14,089 - stpipe - INFO -    *   Image:   'jw02561001002_02101_00001_nrcalong_cal.fits['SCI',1]'  --  SKY = 29.19172820088606 (brightness units)\n"
     ]
    },
    {
     "name": "stdout",
     "output_type": "stream",
     "text": [
      "   *   Image:   'jw02561001002_02101_00001_nrcalong_cal.fits['SCI',1]'  --  SKY = 29.19172820088606 (brightness units)\n"
     ]
    },
    {
     "name": "stderr",
     "output_type": "stream",
     "text": [
      "2022-12-02 01:26:14,090 - stpipe - INFO -        Sky change (data units):\n"
     ]
    },
    {
     "name": "stdout",
     "output_type": "stream",
     "text": [
      "       Sky change (data units):\n"
     ]
    },
    {
     "name": "stderr",
     "output_type": "stream",
     "text": [
      "2022-12-02 01:26:14,090 - stpipe - INFO -       - EXT = 'SCI',1   delta(MDRIZSKY) = 0.115504   NEW MDRIZSKY = 0.115504\n"
     ]
    },
    {
     "name": "stdout",
     "output_type": "stream",
     "text": [
      "      - EXT = 'SCI',1   delta(MDRIZSKY) = 0.115504   NEW MDRIZSKY = 0.115504\n"
     ]
    },
    {
     "name": "stderr",
     "output_type": "stream",
     "text": [
      "2022-12-02 01:26:14,215 - stpipe - INFO -    *   Image:   'jw02561001002_02101_00002_nrcalong_cal.fits['SCI',1]'  --  SKY = 29.10170928614136 (brightness units)\n"
     ]
    },
    {
     "name": "stdout",
     "output_type": "stream",
     "text": [
      "   *   Image:   'jw02561001002_02101_00002_nrcalong_cal.fits['SCI',1]'  --  SKY = 29.10170928614136 (brightness units)\n"
     ]
    },
    {
     "name": "stderr",
     "output_type": "stream",
     "text": [
      "2022-12-02 01:26:14,216 - stpipe - INFO -        Sky change (data units):\n"
     ]
    },
    {
     "name": "stdout",
     "output_type": "stream",
     "text": [
      "       Sky change (data units):\n"
     ]
    },
    {
     "name": "stderr",
     "output_type": "stream",
     "text": [
      "2022-12-02 01:26:14,216 - stpipe - INFO -       - EXT = 'SCI',1   delta(MDRIZSKY) = 0.115148   NEW MDRIZSKY = 0.115148\n"
     ]
    },
    {
     "name": "stdout",
     "output_type": "stream",
     "text": [
      "      - EXT = 'SCI',1   delta(MDRIZSKY) = 0.115148   NEW MDRIZSKY = 0.115148\n"
     ]
    },
    {
     "name": "stderr",
     "output_type": "stream",
     "text": [
      "2022-12-02 01:26:14,347 - stpipe - INFO -    *   Image:   'jw02561001002_02101_00003_nrcalong_cal.fits['SCI',1]'  --  SKY = 29.588197504484736 (brightness units)\n"
     ]
    },
    {
     "name": "stdout",
     "output_type": "stream",
     "text": [
      "   *   Image:   'jw02561001002_02101_00003_nrcalong_cal.fits['SCI',1]'  --  SKY = 29.588197504484736 (brightness units)\n"
     ]
    },
    {
     "name": "stderr",
     "output_type": "stream",
     "text": [
      "2022-12-02 01:26:14,348 - stpipe - INFO -        Sky change (data units):\n"
     ]
    },
    {
     "name": "stdout",
     "output_type": "stream",
     "text": [
      "       Sky change (data units):\n"
     ]
    },
    {
     "name": "stderr",
     "output_type": "stream",
     "text": [
      "2022-12-02 01:26:14,348 - stpipe - INFO -       - EXT = 'SCI',1   delta(MDRIZSKY) = 0.117073   NEW MDRIZSKY = 0.117073\n"
     ]
    },
    {
     "name": "stdout",
     "output_type": "stream",
     "text": [
      "      - EXT = 'SCI',1   delta(MDRIZSKY) = 0.117073   NEW MDRIZSKY = 0.117073\n"
     ]
    },
    {
     "name": "stderr",
     "output_type": "stream",
     "text": [
      "2022-12-02 01:26:14,470 - stpipe - INFO -    *   Image:   'jw02561001002_02101_00004_nrcalong_cal.fits['SCI',1]'  --  SKY = 29.319891145084707 (brightness units)\n"
     ]
    },
    {
     "name": "stdout",
     "output_type": "stream",
     "text": [
      "   *   Image:   'jw02561001002_02101_00004_nrcalong_cal.fits['SCI',1]'  --  SKY = 29.319891145084707 (brightness units)\n"
     ]
    },
    {
     "name": "stderr",
     "output_type": "stream",
     "text": [
      "2022-12-02 01:26:14,471 - stpipe - INFO -        Sky change (data units):\n"
     ]
    },
    {
     "name": "stdout",
     "output_type": "stream",
     "text": [
      "       Sky change (data units):\n"
     ]
    },
    {
     "name": "stderr",
     "output_type": "stream",
     "text": [
      "2022-12-02 01:26:14,472 - stpipe - INFO -       - EXT = 'SCI',1   delta(MDRIZSKY) = 0.116011   NEW MDRIZSKY = 0.116011\n"
     ]
    },
    {
     "name": "stdout",
     "output_type": "stream",
     "text": [
      "      - EXT = 'SCI',1   delta(MDRIZSKY) = 0.116011   NEW MDRIZSKY = 0.116011\n"
     ]
    },
    {
     "name": "stderr",
     "output_type": "stream",
     "text": [
      "2022-12-02 01:26:14,472 - stpipe - INFO - ***** skymatch ended on 2022-12-02 01:26:14.472716\n"
     ]
    },
    {
     "name": "stdout",
     "output_type": "stream",
     "text": [
      "***** skymatch ended on 2022-12-02 01:26:14.472716\n"
     ]
    },
    {
     "name": "stderr",
     "output_type": "stream",
     "text": [
      "2022-12-02 01:26:14,473 - stpipe - INFO - TOTAL RUN TIME: 0:00:00.622914\n"
     ]
    },
    {
     "name": "stdout",
     "output_type": "stream",
     "text": [
      "TOTAL RUN TIME: 0:00:00.622914\n"
     ]
    },
    {
     "name": "stderr",
     "output_type": "stream",
     "text": [
      "2022-12-02 01:26:14,555 - stpipe - INFO - ==== Processing Step Subtract Sky finished at 01:26:14.555 (02/12/2022)\n"
     ]
    },
    {
     "name": "stdout",
     "output_type": "stream",
     "text": [
      "==== Processing Step Subtract Sky finished at 01:26:14.555 (02/12/2022)\n"
     ]
    },
    {
     "name": "stderr",
     "output_type": "stream",
     "text": [
      "2022-12-02 01:26:14,556 - stpipe - INFO - ==== Processing Step  Separate Drizzle  started at  01:26:14.556 (02/12/2022)\n"
     ]
    },
    {
     "name": "stdout",
     "output_type": "stream",
     "text": [
      "==== Processing Step  Separate Drizzle  started at  01:26:14.556 (02/12/2022)\n"
     ]
    },
    {
     "name": "stderr",
     "output_type": "stream",
     "text": [
      "2022-12-02 01:26:14,557 - stpipe - INFO - \n"
     ]
    },
    {
     "name": "stdout",
     "output_type": "stream",
     "text": [
      "\n"
     ]
    },
    {
     "name": "stderr",
     "output_type": "stream",
     "text": [
      "2022-12-02 01:26:14,557 - stpipe - INFO - Single drizzle step not performed.\n",
      "2022-12-02 01:26:14,558 - stpipe - INFO - ==== Processing Step Separate Drizzle finished at 01:26:14.558 (02/12/2022)\n"
     ]
    },
    {
     "name": "stdout",
     "output_type": "stream",
     "text": [
      "==== Processing Step Separate Drizzle finished at 01:26:14.558 (02/12/2022)\n"
     ]
    },
    {
     "name": "stderr",
     "output_type": "stream",
     "text": [
      "2022-12-02 01:26:14,559 - stpipe - INFO - ==== Processing Step  Create Median  started at  01:26:14.559 (02/12/2022)\n"
     ]
    },
    {
     "name": "stdout",
     "output_type": "stream",
     "text": [
      "==== Processing Step  Create Median  started at  01:26:14.559 (02/12/2022)\n"
     ]
    },
    {
     "name": "stderr",
     "output_type": "stream",
     "text": [
      "2022-12-02 01:26:14,559 - stpipe - INFO - \n"
     ]
    },
    {
     "name": "stdout",
     "output_type": "stream",
     "text": [
      "\n"
     ]
    },
    {
     "name": "stderr",
     "output_type": "stream",
     "text": [
      "2022-12-02 01:26:14,560 - stpipe - INFO - Median combination step not performed.\n",
      "2022-12-02 01:26:14,561 - stpipe - INFO - ==== Processing Step  Blot  started at  01:26:14.560 (02/12/2022)\n"
     ]
    },
    {
     "name": "stdout",
     "output_type": "stream",
     "text": [
      "==== Processing Step  Blot  started at  01:26:14.560 (02/12/2022)\n"
     ]
    },
    {
     "name": "stderr",
     "output_type": "stream",
     "text": [
      "2022-12-02 01:26:14,561 - stpipe - INFO - \n"
     ]
    },
    {
     "name": "stdout",
     "output_type": "stream",
     "text": [
      "\n"
     ]
    },
    {
     "name": "stderr",
     "output_type": "stream",
     "text": [
      "2022-12-02 01:26:14,562 - stpipe - INFO - Blot step not performed.\n",
      "2022-12-02 01:26:14,562 - stpipe - INFO - ==== Processing Step Blot finished at 01:26:14.562 (02/12/2022)\n"
     ]
    },
    {
     "name": "stdout",
     "output_type": "stream",
     "text": [
      "==== Processing Step Blot finished at 01:26:14.562 (02/12/2022)\n"
     ]
    },
    {
     "name": "stderr",
     "output_type": "stream",
     "text": [
      "2022-12-02 01:26:14,563 - stpipe - INFO - ==== Processing Step  Driz_CR  started at  01:26:14.56 (02/12/2022)\n"
     ]
    },
    {
     "name": "stdout",
     "output_type": "stream",
     "text": [
      "==== Processing Step  Driz_CR  started at  01:26:14.56 (02/12/2022)\n"
     ]
    },
    {
     "name": "stderr",
     "output_type": "stream",
     "text": [
      "2022-12-02 01:26:14,564 - stpipe - INFO - \n"
     ]
    },
    {
     "name": "stdout",
     "output_type": "stream",
     "text": [
      "\n"
     ]
    },
    {
     "name": "stderr",
     "output_type": "stream",
     "text": [
      "2022-12-02 01:26:14,564 - stpipe - INFO - Cosmic-ray identification (driz_cr) step not performed.\n",
      "2022-12-02 01:26:14,565 - stpipe - INFO - ==== Processing Step  Final Drizzle  started at  01:26:14.565 (02/12/2022)\n"
     ]
    },
    {
     "name": "stdout",
     "output_type": "stream",
     "text": [
      "==== Processing Step  Final Drizzle  started at  01:26:14.565 (02/12/2022)\n"
     ]
    },
    {
     "name": "stderr",
     "output_type": "stream",
     "text": [
      "2022-12-02 01:26:14,566 - stpipe - INFO - \n"
     ]
    },
    {
     "name": "stdout",
     "output_type": "stream",
     "text": [
      "\n"
     ]
    },
    {
     "name": "stderr",
     "output_type": "stream",
     "text": [
      "2022-12-02 01:26:14,566 - stpipe - INFO - Interpreted paramDict with single=False as:\n",
      "2022-12-02 01:26:14,567 - stpipe - INFO - {'build': False, 'stepsize': 10, 'coeffs': True, 'wcskey': '', 'wht_type': 'IVM', 'kernel': 'square', 'wt_scl': 'exptime', 'pixfrac': 0.8, 'fillval': None, 'maskval': None, 'bits': 4, 'units': 'cps'}\n",
      "2022-12-02 01:26:14,567 - stpipe - INFO - USER INPUT PARAMETERS for Final Drizzle Step:\n",
      "2022-12-02 01:26:14,567 - stpipe - INFO - \tbits :\t4\n",
      "2022-12-02 01:26:14,567 - stpipe - INFO - \tbuild :\tFalse\n",
      "2022-12-02 01:26:14,568 - stpipe - INFO - \tclean :\tTrue\n",
      "2022-12-02 01:26:14,568 - stpipe - INFO - \tcoeffs :\tTrue\n",
      "2022-12-02 01:26:14,569 - stpipe - INFO - \tcrbit :\t4096\n",
      "2022-12-02 01:26:14,569 - stpipe - INFO - \tfillval :\tNone\n",
      "2022-12-02 01:26:14,569 - stpipe - INFO - \tkernel :\tsquare\n",
      "2022-12-02 01:26:14,570 - stpipe - INFO - \tlogfile :\tastrodrizzle.log\n",
      "2022-12-02 01:26:14,570 - stpipe - INFO - \tmaskval :\tNone\n",
      "2022-12-02 01:26:14,571 - stpipe - INFO - \tpixfrac :\t0.8\n",
      "2022-12-02 01:26:14,571 - stpipe - INFO - \tproc_unit :\tnative\n",
      "2022-12-02 01:26:14,571 - stpipe - INFO - \trules_file :\tNone\n",
      "2022-12-02 01:26:14,572 - stpipe - INFO - \tstepsize :\t10\n",
      "2022-12-02 01:26:14,572 - stpipe - INFO - \tunits :\tcps\n",
      "2022-12-02 01:26:14,572 - stpipe - INFO - \twcskey :\t\n",
      "2022-12-02 01:26:14,573 - stpipe - INFO - \twht_type :\tIVM\n",
      "2022-12-02 01:26:14,573 - stpipe - INFO - \twt_scl :\texptime\n",
      "2022-12-02 01:26:14,573 - stpipe - INFO -   **Using sub-sampling value of 10 for kernel square\n",
      "2022-12-02 01:26:14,574 - stpipe - INFO - Running Drizzle to create output frame with WCS of: \n",
      "2022-12-02 01:26:14,574 - stpipe - INFO - WCS Keywords\n"
     ]
    },
    {
     "name": "stdout",
     "output_type": "stream",
     "text": [
      "WCS Keywords\n"
     ]
    },
    {
     "name": "stderr",
     "output_type": "stream",
     "text": [
      "2022-12-02 01:26:14,575 - stpipe - INFO - \n"
     ]
    },
    {
     "name": "stdout",
     "output_type": "stream",
     "text": [
      "\n"
     ]
    },
    {
     "name": "stderr",
     "output_type": "stream",
     "text": [
      "2022-12-02 01:26:14,576 - stpipe - INFO - Number of WCS axes: 2\n"
     ]
    },
    {
     "name": "stdout",
     "output_type": "stream",
     "text": [
      "Number of WCS axes: 2\n"
     ]
    },
    {
     "name": "stderr",
     "output_type": "stream",
     "text": [
      "2022-12-02 01:26:14,577 - stpipe - INFO - CTYPE : 'RA---TAN'  'DEC--TAN'  \n"
     ]
    },
    {
     "name": "stdout",
     "output_type": "stream",
     "text": [
      "CTYPE : 'RA---TAN'  'DEC--TAN'  \n"
     ]
    },
    {
     "name": "stderr",
     "output_type": "stream",
     "text": [
      "2022-12-02 01:26:14,577 - stpipe - INFO - CRVAL : 3.578062735318098  -30.404334693667945  \n"
     ]
    },
    {
     "name": "stdout",
     "output_type": "stream",
     "text": [
      "CRVAL : 3.578062735318098  -30.404334693667945  \n"
     ]
    },
    {
     "name": "stderr",
     "output_type": "stream",
     "text": [
      "2022-12-02 01:26:14,578 - stpipe - INFO - CRPIX : 1177.5  1174.0  \n"
     ]
    },
    {
     "name": "stdout",
     "output_type": "stream",
     "text": [
      "CRPIX : 1177.5  1174.0  \n"
     ]
    },
    {
     "name": "stderr",
     "output_type": "stream",
     "text": [
      "2022-12-02 01:26:14,579 - stpipe - INFO - CD1_1 CD1_2  : -1.3125425480958589e-05  1.153371868355523e-05  \n"
     ]
    },
    {
     "name": "stdout",
     "output_type": "stream",
     "text": [
      "CD1_1 CD1_2  : -1.3125425480958589e-05  1.153371868355523e-05  \n"
     ]
    },
    {
     "name": "stderr",
     "output_type": "stream",
     "text": [
      "2022-12-02 01:26:14,580 - stpipe - INFO - CD2_1 CD2_2  : 1.153371868355523e-05  1.3125425480958589e-05  \n"
     ]
    },
    {
     "name": "stdout",
     "output_type": "stream",
     "text": [
      "CD2_1 CD2_2  : 1.153371868355523e-05  1.3125425480958589e-05  \n"
     ]
    },
    {
     "name": "stderr",
     "output_type": "stream",
     "text": [
      "2022-12-02 01:26:14,581 - stpipe - INFO - NAXIS : 2355  2348\n"
     ]
    },
    {
     "name": "stdout",
     "output_type": "stream",
     "text": [
      "NAXIS : 2355  2348\n"
     ]
    },
    {
     "name": "stderr",
     "output_type": "stream",
     "text": [
      "2022-12-02 01:26:14,584 - stpipe - INFO - -Drizzle input: jw02561001002_02101_00001_nrcalong_cal.fits[sci,1]\n",
      "2022-12-02 01:26:14,600 - stpipe - INFO - Applying sky value of 0.115504 to jw02561001002_02101_00001_nrcalong_cal.fits[sci,1]\n",
      "2022-12-02 01:26:14,632 - stpipe - WARNING - No CR mask file found! Input DQ array not updated.\n",
      "2022-12-02 01:26:14,633 - stpipe - INFO - Automatically creating IVM files for chip 1\n",
      "2022-12-02 01:26:14,634 - stpipe - WARNING - Cannot find flat field file 'jwst_nircam_flat_0502.fits'\n",
      "2022-12-02 01:26:14,634 - stpipe - WARNING - Treating flatfield as a constant value of '1'.\n",
      "2022-12-02 01:26:14,646 - stpipe - INFO - Using WCSLIB-based coordinate transformation...\n",
      "2022-12-02 01:26:14,647 - stpipe - INFO - stepsize = 10\n",
      "2022-12-02 01:26:14,657 - stpipe - INFO - -Drizzling using kernel = square\n",
      "2022-12-02 01:26:14,657 - stpipe - INFO - \n",
      "2022-12-02 01:26:15,282 - stpipe - INFO - -Drizzle input: jw02561001002_02101_00002_nrcalong_cal.fits[sci,1]\n",
      "2022-12-02 01:26:15,297 - stpipe - INFO - Applying sky value of 0.115148 to jw02561001002_02101_00002_nrcalong_cal.fits[sci,1]\n",
      "2022-12-02 01:26:15,333 - stpipe - WARNING - No CR mask file found! Input DQ array not updated.\n",
      "2022-12-02 01:26:15,334 - stpipe - INFO - Automatically creating IVM files for chip 1\n",
      "2022-12-02 01:26:15,334 - stpipe - WARNING - Cannot find flat field file 'jwst_nircam_flat_0502.fits'\n",
      "2022-12-02 01:26:15,335 - stpipe - WARNING - Treating flatfield as a constant value of '1'.\n",
      "2022-12-02 01:26:15,347 - stpipe - INFO - Using WCSLIB-based coordinate transformation...\n",
      "2022-12-02 01:26:15,347 - stpipe - INFO - stepsize = 10\n",
      "2022-12-02 01:26:15,357 - stpipe - INFO - -Drizzling using kernel = square\n",
      "2022-12-02 01:26:15,358 - stpipe - INFO - \n",
      "2022-12-02 01:26:15,987 - stpipe - INFO - -Drizzle input: jw02561001002_02101_00003_nrcalong_cal.fits[sci,1]\n",
      "2022-12-02 01:26:16,002 - stpipe - INFO - Applying sky value of 0.117073 to jw02561001002_02101_00003_nrcalong_cal.fits[sci,1]\n",
      "2022-12-02 01:26:16,037 - stpipe - WARNING - No CR mask file found! Input DQ array not updated.\n",
      "2022-12-02 01:26:16,038 - stpipe - INFO - Automatically creating IVM files for chip 1\n",
      "2022-12-02 01:26:16,039 - stpipe - WARNING - Cannot find flat field file 'jwst_nircam_flat_0502.fits'\n",
      "2022-12-02 01:26:16,039 - stpipe - WARNING - Treating flatfield as a constant value of '1'.\n",
      "2022-12-02 01:26:16,051 - stpipe - INFO - Using WCSLIB-based coordinate transformation...\n",
      "2022-12-02 01:26:16,052 - stpipe - INFO - stepsize = 10\n",
      "2022-12-02 01:26:16,062 - stpipe - INFO - -Drizzling using kernel = square\n",
      "2022-12-02 01:26:16,062 - stpipe - INFO - \n",
      "2022-12-02 01:26:16,687 - stpipe - INFO - -Drizzle input: jw02561001002_02101_00004_nrcalong_cal.fits[sci,1]\n",
      "2022-12-02 01:26:16,702 - stpipe - INFO - Applying sky value of 0.116011 to jw02561001002_02101_00004_nrcalong_cal.fits[sci,1]\n",
      "2022-12-02 01:26:16,738 - stpipe - WARNING - No CR mask file found! Input DQ array not updated.\n",
      "2022-12-02 01:26:16,739 - stpipe - INFO - Automatically creating IVM files for chip 1\n",
      "2022-12-02 01:26:16,740 - stpipe - WARNING - Cannot find flat field file 'jwst_nircam_flat_0502.fits'\n",
      "2022-12-02 01:26:16,741 - stpipe - WARNING - Treating flatfield as a constant value of '1'.\n",
      "2022-12-02 01:26:16,753 - stpipe - INFO - Using WCSLIB-based coordinate transformation...\n",
      "2022-12-02 01:26:16,753 - stpipe - INFO - stepsize = 10\n",
      "2022-12-02 01:26:16,763 - stpipe - INFO - -Drizzling using kernel = square\n",
      "2022-12-02 01:26:16,764 - stpipe - INFO - \n",
      "2022-12-02 01:26:17,386 - stpipe - INFO - Deleting previous output product: abell2744-preimg-02561-001-041.0-nrca5-f277w-clear_drz_sci.fits\n",
      "2022-12-02 01:26:17,387 - stpipe - INFO - Deleting previous output WHT product: abell2744-preimg-02561-001-041.0-nrca5-f277w-clear_drz_wht.fits\n",
      "2022-12-02 01:26:17,847 - stpipe - INFO - -Generating simple FITS output: abell2744-preimg-02561-001-041.0-nrca5-f277w-clear_drz_sci.fits\n"
     ]
    },
    {
     "name": "stdout",
     "output_type": "stream",
     "text": [
      "-Generating simple FITS output: abell2744-preimg-02561-001-041.0-nrca5-f277w-clear_drz_sci.fits\n"
     ]
    },
    {
     "name": "stderr",
     "output_type": "stream",
     "text": [
      "2022-12-02 01:26:17,883 - stpipe - WARNING - /Users/ivo/anaconda/envs/jwst_nircam/lib/python3.9/site-packages/astropy/io/fits/card.py:1008: VerifyWarning: Card is too long, comment will be truncated.\n",
      "  warnings.warn('Card is too long, comment will be truncated.',\n",
      "\n",
      "2022-12-02 01:26:17,921 - stpipe - WARNING - /Users/ivo/anaconda/envs/jwst_nircam/lib/python3.9/site-packages/astropy/wcs/wcs.py:725: FITSFixedWarning: 'obsfix' made the change 'Set OBSGEO-L to    63.263556 from OBSGEO-[XYZ].\n",
      "Set OBSGEO-B to    28.494908 from OBSGEO-[XYZ].\n",
      "Set OBSGEO-H to 1394727362.015 from OBSGEO-[XYZ]'.\n",
      "  warnings.warn(\n",
      "\n",
      "2022-12-02 01:26:17,941 - stpipe - INFO - Writing out image to disk: abell2744-preimg-02561-001-041.0-nrca5-f277w-clear_drz_sci.fits\n"
     ]
    },
    {
     "name": "stdout",
     "output_type": "stream",
     "text": [
      "Writing out image to disk: abell2744-preimg-02561-001-041.0-nrca5-f277w-clear_drz_sci.fits\n"
     ]
    },
    {
     "name": "stderr",
     "output_type": "stream",
     "text": [
      "2022-12-02 01:26:18,078 - stpipe - INFO - Writing out image to disk: abell2744-preimg-02561-001-041.0-nrca5-f277w-clear_drz_wht.fits\n"
     ]
    },
    {
     "name": "stdout",
     "output_type": "stream",
     "text": [
      "Writing out image to disk: abell2744-preimg-02561-001-041.0-nrca5-f277w-clear_drz_wht.fits\n"
     ]
    },
    {
     "name": "stderr",
     "output_type": "stream",
     "text": [
      "2022-12-02 01:26:18,131 - stpipe - INFO - ==== Processing Step Final Drizzle finished at 01:26:18.131 (02/12/2022)\n"
     ]
    },
    {
     "name": "stdout",
     "output_type": "stream",
     "text": [
      "==== Processing Step Final Drizzle finished at 01:26:18.131 (02/12/2022)\n"
     ]
    },
    {
     "name": "stderr",
     "output_type": "stream",
     "text": [
      "2022-12-02 01:26:18,132 - stpipe - INFO - \n"
     ]
    },
    {
     "name": "stdout",
     "output_type": "stream",
     "text": [
      "\n"
     ]
    },
    {
     "name": "stderr",
     "output_type": "stream",
     "text": [
      "2022-12-02 01:26:18,133 - stpipe - INFO - AstroDrizzle Version 3.5.0 is finished processing at 01:26:18.133 (02/12/2022).\n"
     ]
    },
    {
     "name": "stdout",
     "output_type": "stream",
     "text": [
      "AstroDrizzle Version 3.5.0 is finished processing at 01:26:18.133 (02/12/2022).\n"
     ]
    },
    {
     "name": "stderr",
     "output_type": "stream",
     "text": [
      "2022-12-02 01:26:18,133 - stpipe - INFO - \n"
     ]
    },
    {
     "name": "stdout",
     "output_type": "stream",
     "text": [
      "\n"
     ]
    },
    {
     "name": "stderr",
     "output_type": "stream",
     "text": [
      "2022-12-02 01:26:18,134 - stpipe - INFO - \n"
     ]
    },
    {
     "name": "stdout",
     "output_type": "stream",
     "text": [
      "\n"
     ]
    },
    {
     "name": "stderr",
     "output_type": "stream",
     "text": [
      "2022-12-02 01:26:18,135 - stpipe - INFO - \n"
     ]
    },
    {
     "name": "stdout",
     "output_type": "stream",
     "text": [
      "\n"
     ]
    },
    {
     "name": "stderr",
     "output_type": "stream",
     "text": [
      "2022-12-02 01:26:18,135 - stpipe - INFO -    --------------------          --------------------\n"
     ]
    },
    {
     "name": "stdout",
     "output_type": "stream",
     "text": [
      "   --------------------          --------------------\n"
     ]
    },
    {
     "name": "stderr",
     "output_type": "stream",
     "text": [
      "2022-12-02 01:26:18,136 - stpipe - INFO -                    Step          Elapsed time\n"
     ]
    },
    {
     "name": "stdout",
     "output_type": "stream",
     "text": [
      "                   Step          Elapsed time\n"
     ]
    },
    {
     "name": "stderr",
     "output_type": "stream",
     "text": [
      "2022-12-02 01:26:18,137 - stpipe - INFO -    --------------------          --------------------\n"
     ]
    },
    {
     "name": "stdout",
     "output_type": "stream",
     "text": [
      "   --------------------          --------------------\n"
     ]
    },
    {
     "name": "stderr",
     "output_type": "stream",
     "text": [
      "2022-12-02 01:26:18,137 - stpipe - INFO - \n"
     ]
    },
    {
     "name": "stdout",
     "output_type": "stream",
     "text": [
      "\n"
     ]
    },
    {
     "name": "stderr",
     "output_type": "stream",
     "text": [
      "2022-12-02 01:26:18,138 - stpipe - INFO -          Initialization          0.4191 sec.\n"
     ]
    },
    {
     "name": "stdout",
     "output_type": "stream",
     "text": [
      "         Initialization          0.4191 sec.\n"
     ]
    },
    {
     "name": "stderr",
     "output_type": "stream",
     "text": [
      "2022-12-02 01:26:18,139 - stpipe - INFO -             Static Mask          0.3689 sec.\n"
     ]
    },
    {
     "name": "stdout",
     "output_type": "stream",
     "text": [
      "            Static Mask          0.3689 sec.\n"
     ]
    },
    {
     "name": "stderr",
     "output_type": "stream",
     "text": [
      "2022-12-02 01:26:18,140 - stpipe - INFO -            Subtract Sky          0.8130 sec.\n"
     ]
    },
    {
     "name": "stdout",
     "output_type": "stream",
     "text": [
      "           Subtract Sky          0.8130 sec.\n"
     ]
    },
    {
     "name": "stderr",
     "output_type": "stream",
     "text": [
      "2022-12-02 01:26:18,140 - stpipe - INFO -        Separate Drizzle          0.0018 sec.\n"
     ]
    },
    {
     "name": "stdout",
     "output_type": "stream",
     "text": [
      "       Separate Drizzle          0.0018 sec.\n"
     ]
    },
    {
     "name": "stderr",
     "output_type": "stream",
     "text": [
      "2022-12-02 01:26:18,141 - stpipe - INFO -           Create Median          0.0000 sec.\n"
     ]
    },
    {
     "name": "stdout",
     "output_type": "stream",
     "text": [
      "          Create Median          0.0000 sec.\n"
     ]
    },
    {
     "name": "stderr",
     "output_type": "stream",
     "text": [
      "2022-12-02 01:26:18,142 - stpipe - INFO -                    Blot          0.0018 sec.\n"
     ]
    },
    {
     "name": "stdout",
     "output_type": "stream",
     "text": [
      "                   Blot          0.0018 sec.\n"
     ]
    },
    {
     "name": "stderr",
     "output_type": "stream",
     "text": [
      "2022-12-02 01:26:18,142 - stpipe - INFO -                 Driz_CR          0.0000 sec.\n"
     ]
    },
    {
     "name": "stdout",
     "output_type": "stream",
     "text": [
      "                Driz_CR          0.0000 sec.\n"
     ]
    },
    {
     "name": "stderr",
     "output_type": "stream",
     "text": [
      "2022-12-02 01:26:18,143 - stpipe - INFO -           Final Drizzle          3.5661 sec.\n"
     ]
    },
    {
     "name": "stdout",
     "output_type": "stream",
     "text": [
      "          Final Drizzle          3.5661 sec.\n"
     ]
    },
    {
     "name": "stderr",
     "output_type": "stream",
     "text": [
      "2022-12-02 01:26:18,143 - stpipe - INFO -    ====================          ====================\n"
     ]
    },
    {
     "name": "stdout",
     "output_type": "stream",
     "text": [
      "   ====================          ====================\n"
     ]
    },
    {
     "name": "stderr",
     "output_type": "stream",
     "text": [
      "2022-12-02 01:26:18,145 - stpipe - INFO -                   Total          5.1706 sec.\n"
     ]
    },
    {
     "name": "stdout",
     "output_type": "stream",
     "text": [
      "                  Total          5.1706 sec.\n"
     ]
    },
    {
     "name": "stderr",
     "output_type": "stream",
     "text": [
      "2022-12-02 01:26:18,145 - stpipe - INFO - \n"
     ]
    },
    {
     "name": "stdout",
     "output_type": "stream",
     "text": [
      "\n"
     ]
    },
    {
     "name": "stderr",
     "output_type": "stream",
     "text": [
      "2022-12-02 01:26:18,146 - stpipe - INFO - Removing intermediate files for jw02561001002_02101_00001_nrcalong_cal.fits\n",
      "2022-12-02 01:26:18,150 - stpipe - INFO - Removing intermediate files for jw02561001002_02101_00002_nrcalong_cal.fits\n",
      "2022-12-02 01:26:18,153 - stpipe - INFO - Removing intermediate files for jw02561001002_02101_00003_nrcalong_cal.fits\n",
      "2022-12-02 01:26:18,156 - stpipe - INFO - Removing intermediate files for jw02561001002_02101_00004_nrcalong_cal.fits\n",
      "2022-12-02 01:26:18,160 - stpipe - INFO - Trailer file written to:  astrodrizzle.log\n"
     ]
    },
    {
     "name": "stdout",
     "output_type": "stream",
     "text": [
      "Trailer file written to:  astrodrizzle.log\n",
      "# Imaging background: {'bh': 256, 'bw': 256, 'fh': 3, 'fw': 3, 'pixel_scale': 0.06, 'get_median': False}\n",
      "# (2022-12-01 14:26:18.269)\n",
      "\n",
      "prep.blot_background(**{'visit': {'files': ['jw02561001002_02101_00001_nrcalong_cal.fits', 'jw02561001002_02101_00002_nrcalong_cal.fits', 'jw02561001002_02101_00003_nrcalong_cal.fits', 'jw02561001002_02101_00004_nrcalong_cal.fits'], 'footprint': <shapely.geometry.polygon.Polygon object at 0x7fbf28dac5e0>, 'product': 'abell2744-preimg-02561-001-041.0-nrca5-f277w-clear'}, 'bkg_params': {'bh': 256, 'bw': 256, 'fh': 3, 'fw': 3, 'pixel_scale': 0.06}, 'verbose': True, 'skip_existing': True, 'get_median': False, 'log': True, 'stepsize': 10, 'kwargs': {}})\n",
      "\n",
      "#   Blot background from abell2744-preimg-02561-001-041.0-nrca5-f277w-clear_drz_sci.fits\n",
      "#   Blot background: jw02561001002_02101_00001_nrcalong_cal.fits[SCI,1]\n"
     ]
    },
    {
     "name": "stderr",
     "output_type": "stream",
     "text": [
      "/Users/ivo/anaconda/envs/jwst_nircam/lib/python3.9/site-packages/grizli/prep.py:1697: RuntimeWarning: divide by zero encountered in divide\n",
      "  err = 1/np.sqrt(wht_data)\n",
      "WARNING: FITSFixedWarning: 'obsfix' made the change 'Set OBSGEO-L to    63.263556 from OBSGEO-[XYZ].\n",
      "Set OBSGEO-B to    28.494908 from OBSGEO-[XYZ].\n",
      "Set OBSGEO-H to 1394727362.015 from OBSGEO-[XYZ]'. [astropy.wcs.wcs]\n",
      "2022-12-02 01:26:18,478 - stpipe - WARNING - FITSFixedWarning: 'obsfix' made the change 'Set OBSGEO-L to    63.263556 from OBSGEO-[XYZ].\n",
      "Set OBSGEO-B to    28.494908 from OBSGEO-[XYZ].\n",
      "Set OBSGEO-H to 1394727362.015 from OBSGEO-[XYZ]'.\n",
      "WARNING: VerifyWarning: Card is too long, comment will be truncated. [astropy.io.fits.card]\n",
      "2022-12-02 01:26:18,825 - stpipe - WARNING - VerifyWarning: Card is too long, comment will be truncated.\n",
      "WARNING: FITSFixedWarning: 'obsfix' made the change 'Set OBSGEO-L to    63.281076 from OBSGEO-[XYZ].\n",
      "Set OBSGEO-B to    28.491626 from OBSGEO-[XYZ].\n",
      "Set OBSGEO-H to 1394836264.421 from OBSGEO-[XYZ]'. [astropy.wcs.wcs]\n",
      "2022-12-02 01:26:19,047 - stpipe - WARNING - FITSFixedWarning: 'obsfix' made the change 'Set OBSGEO-L to    63.281076 from OBSGEO-[XYZ].\n",
      "Set OBSGEO-B to    28.491626 from OBSGEO-[XYZ].\n",
      "Set OBSGEO-H to 1394836264.421 from OBSGEO-[XYZ]'.\n"
     ]
    },
    {
     "name": "stdout",
     "output_type": "stream",
     "text": [
      "#   Blot background: jw02561001002_02101_00002_nrcalong_cal.fits[SCI,1]\n"
     ]
    },
    {
     "name": "stderr",
     "output_type": "stream",
     "text": [
      "WARNING: VerifyWarning: Card is too long, comment will be truncated. [astropy.io.fits.card]\n",
      "2022-12-02 01:26:19,321 - stpipe - WARNING - VerifyWarning: Card is too long, comment will be truncated.\n",
      "WARNING: FITSFixedWarning: 'obsfix' made the change 'Set OBSGEO-L to    63.299758 from OBSGEO-[XYZ].\n",
      "Set OBSGEO-B to    28.488124 from OBSGEO-[XYZ].\n",
      "Set OBSGEO-H to 1394952435.627 from OBSGEO-[XYZ]'. [astropy.wcs.wcs]\n",
      "2022-12-02 01:26:19,544 - stpipe - WARNING - FITSFixedWarning: 'obsfix' made the change 'Set OBSGEO-L to    63.299758 from OBSGEO-[XYZ].\n",
      "Set OBSGEO-B to    28.488124 from OBSGEO-[XYZ].\n",
      "Set OBSGEO-H to 1394952435.627 from OBSGEO-[XYZ]'.\n"
     ]
    },
    {
     "name": "stdout",
     "output_type": "stream",
     "text": [
      "#   Blot background: jw02561001002_02101_00003_nrcalong_cal.fits[SCI,1]\n"
     ]
    },
    {
     "name": "stderr",
     "output_type": "stream",
     "text": [
      "WARNING: VerifyWarning: Card is too long, comment will be truncated. [astropy.io.fits.card]\n",
      "2022-12-02 01:26:19,810 - stpipe - WARNING - VerifyWarning: Card is too long, comment will be truncated.\n",
      "WARNING: FITSFixedWarning: 'obsfix' made the change 'Set OBSGEO-L to    63.317268 from OBSGEO-[XYZ].\n",
      "Set OBSGEO-B to    28.484837 from OBSGEO-[XYZ].\n",
      "Set OBSGEO-H to 1395061354.150 from OBSGEO-[XYZ]'. [astropy.wcs.wcs]\n",
      "2022-12-02 01:26:20,030 - stpipe - WARNING - FITSFixedWarning: 'obsfix' made the change 'Set OBSGEO-L to    63.317268 from OBSGEO-[XYZ].\n",
      "Set OBSGEO-B to    28.484837 from OBSGEO-[XYZ].\n",
      "Set OBSGEO-H to 1395061354.150 from OBSGEO-[XYZ]'.\n"
     ]
    },
    {
     "name": "stdout",
     "output_type": "stream",
     "text": [
      "#   Blot background: jw02561001002_02101_00004_nrcalong_cal.fits[SCI,1]\n"
     ]
    },
    {
     "name": "stderr",
     "output_type": "stream",
     "text": [
      "WARNING: VerifyWarning: Card is too long, comment will be truncated. [astropy.io.fits.card]\n",
      "2022-12-02 01:26:20,296 - stpipe - WARNING - VerifyWarning: Card is too long, comment will be truncated.\n"
     ]
    },
    {
     "name": "stdout",
     "output_type": "stream",
     "text": [
      "make_SEP_catalog: sep version = 1.2.1\n",
      "# (2022-12-01 14:26:20.499)\n",
      "sep: Image AB zeropoint =  26.478\n",
      "# (2022-12-01 14:26:20.620)\n",
      "SEP: Get background {'bw': 32.0, 'bh': 32.0, 'fw': 3, 'fh': 3}\n"
     ]
    },
    {
     "name": "stderr",
     "output_type": "stream",
     "text": [
      "/Users/ivo/anaconda/envs/jwst_nircam/lib/python3.9/site-packages/grizli/prep.py:1697: RuntimeWarning: divide by zero encountered in divide\n",
      "  err = 1/np.sqrt(wht_data)\n",
      "/Users/ivo/anaconda/envs/jwst_nircam/lib/python3.9/site-packages/grizli/prep.py:1772: RuntimeWarning: divide by zero encountered in divide\n",
      "  ratio = bkg.rms()/err\n"
     ]
    },
    {
     "name": "stdout",
     "output_type": "stream",
     "text": [
      "SEP: err_scale=0.055\n",
      "   SEP: Extract...\n",
      "    Done.\n",
      "compute_SEP_auto_params: sep version = 1.2.1\n",
      "compute_SEP_auto_params: autoparams=[2.5, <Quantity 0.35 arcsec>, 2.4, 3.8]; pixel_scale=0.06290256633102828; subpix=0; flux_radii=[0.2, 0.5, 0.9]\n"
     ]
    },
    {
     "name": "stderr",
     "output_type": "stream",
     "text": [
      "/Users/ivo/anaconda/envs/jwst_nircam/lib/python3.9/site-packages/grizli/prep.py:1878: RuntimeWarning: divide by zero encountered in log10\n",
      "  tab['mag_iso'] = 23.9-2.5*np.log10(tab['flux_iso'])\n",
      "/Users/ivo/anaconda/envs/jwst_nircam/lib/python3.9/site-packages/grizli/prep.py:1913: RuntimeWarning: invalid value encountered in log10\n",
      "  tab['mag_auto'] = 23.9-2.5*np.log10(total_flux)\n",
      "WARNING: VerifyWarning: Keyword name 'FILTER_TYPE' is greater than 8 characters or contains characters not allowed by the FITS standard; a HIERARCH card will be created. [astropy.io.fits.card]\n",
      "2022-12-02 01:26:23,037 - stpipe - WARNING - VerifyWarning: Keyword name 'FILTER_TYPE' is greater than 8 characters or contains characters not allowed by the FITS standard; a HIERARCH card will be created.\n",
      "WARNING: VerifyWarning: Keyword name 'THRESHOLD' is greater than 8 characters or contains characters not allowed by the FITS standard; a HIERARCH card will be created. [astropy.io.fits.card]\n",
      "2022-12-02 01:26:23,040 - stpipe - WARNING - VerifyWarning: Keyword name 'THRESHOLD' is greater than 8 characters or contains characters not allowed by the FITS standard; a HIERARCH card will be created.\n",
      "WARNING: VerifyWarning: Keyword name 'ERR_SCALE' is greater than 8 characters or contains characters not allowed by the FITS standard; a HIERARCH card will be created. [astropy.io.fits.card]\n",
      "2022-12-02 01:26:23,043 - stpipe - WARNING - VerifyWarning: Keyword name 'ERR_SCALE' is greater than 8 characters or contains characters not allowed by the FITS standard; a HIERARCH card will be created.\n",
      "WARNING: VerifyWarning: Card is too long, comment will be truncated. [astropy.io.fits.card]\n",
      "2022-12-02 01:26:23,051 - stpipe - WARNING - VerifyWarning: Card is too long, comment will be truncated.\n"
     ]
    },
    {
     "name": "stdout",
     "output_type": "stream",
     "text": [
      "# SEP abell2744-preimg-02561-001-041.0-nrca5-f277w-clear.cat.fits: 2430 objects\n",
      "abell2744-preimg-02561-001-041.0-nrca5-f277w-clear.cat.reg: x = X_WORLD, y=Y_WORLD, ellipse=False\n",
      "# (2022-12-01 14:26:23.156)\n",
      "\n",
      "jwst_utils.set_jwst_to_hst_keywords(**{'input': 'jw02561001002_02101_00001_nrcalong_cal.fits', 'reset': True, 'verbose': True, 'orig_keys': ['TELESCOP', 'INSTRUME', 'DETECTOR', 'FILTER', 'PUPIL', 'EXP_TYPE']})\n",
      "\n",
      "Reset: TELESCOP > JWST (OTELESCO)\n",
      "Reset: INSTRUME > NIRCAM (OINSTRUM)\n",
      "Reset: DETECTOR > NRCALONG (ODETECTO)\n",
      "Reset: FILTER > F277W (OFILTER)\n",
      "Reset: PUPIL > CLEAR (OPUPIL)\n",
      "Reset: EXP_TYPE > NRC_IMAGE (OEXP_TYP)\n",
      "# (2022-12-01 14:26:23.396)\n",
      "\n",
      "jwst_utils.set_jwst_to_hst_keywords(**{'input': 'jw02561001002_02101_00002_nrcalong_cal.fits', 'reset': True, 'verbose': True, 'orig_keys': ['TELESCOP', 'INSTRUME', 'DETECTOR', 'FILTER', 'PUPIL', 'EXP_TYPE']})\n",
      "\n",
      "Reset: TELESCOP > JWST (OTELESCO)\n",
      "Reset: INSTRUME > NIRCAM (OINSTRUM)\n",
      "Reset: DETECTOR > NRCALONG (ODETECTO)\n",
      "Reset: FILTER > F277W (OFILTER)\n",
      "Reset: PUPIL > CLEAR (OPUPIL)\n",
      "Reset: EXP_TYPE > NRC_IMAGE (OEXP_TYP)\n",
      "# (2022-12-01 14:26:23.648)\n",
      "\n",
      "jwst_utils.set_jwst_to_hst_keywords(**{'input': 'jw02561001002_02101_00003_nrcalong_cal.fits', 'reset': True, 'verbose': True, 'orig_keys': ['TELESCOP', 'INSTRUME', 'DETECTOR', 'FILTER', 'PUPIL', 'EXP_TYPE']})\n",
      "\n",
      "Reset: TELESCOP > JWST (OTELESCO)\n",
      "Reset: INSTRUME > NIRCAM (OINSTRUM)\n",
      "Reset: DETECTOR > NRCALONG (ODETECTO)\n",
      "Reset: FILTER > F277W (OFILTER)\n",
      "Reset: PUPIL > CLEAR (OPUPIL)\n",
      "Reset: EXP_TYPE > NRC_IMAGE (OEXP_TYP)\n",
      "# (2022-12-01 14:26:23.894)\n",
      "\n",
      "jwst_utils.set_jwst_to_hst_keywords(**{'input': 'jw02561001002_02101_00004_nrcalong_cal.fits', 'reset': True, 'verbose': True, 'orig_keys': ['TELESCOP', 'INSTRUME', 'DETECTOR', 'FILTER', 'PUPIL', 'EXP_TYPE']})\n",
      "\n",
      "Reset: TELESCOP > JWST (OTELESCO)\n",
      "Reset: INSTRUME > NIRCAM (OINSTRUM)\n",
      "Reset: DETECTOR > NRCALONG (ODETECTO)\n",
      "Reset: FILTER > F277W (OFILTER)\n",
      "Reset: PUPIL > CLEAR (OPUPIL)\n",
      "Reset: EXP_TYPE > NRC_IMAGE (OEXP_TYP)\n",
      "jw02561001002_02101_00001_nrcalong_cal.fits\n",
      "utils.fix_flt_nan: jw02561001002_02101_00001_nrcalong_cal.fits[SCI,1] NaNPixels=0\n",
      "jw02561001002_02101_00002_nrcalong_cal.fits\n",
      "utils.fix_flt_nan: jw02561001002_02101_00002_nrcalong_cal.fits[SCI,1] NaNPixels=0\n",
      "jw02561001002_02101_00003_nrcalong_cal.fits\n",
      "utils.fix_flt_nan: jw02561001002_02101_00003_nrcalong_cal.fits[SCI,1] NaNPixels=0\n",
      "jw02561001002_02101_00004_nrcalong_cal.fits\n",
      "utils.fix_flt_nan: jw02561001002_02101_00004_nrcalong_cal.fits[SCI,1] NaNPixels=0\n",
      "abell2744-preimg-02561-001-041.0-nrcb5-f277w-clear\n",
      "\n",
      "\n",
      "\n",
      "abell2744-preimg-02561-001-041.0-nrcb5-f277w-clear radec: None (0.00)\n",
      "\n",
      "\n",
      "\n",
      "# (2022-12-01 14:26:24.318)\n",
      "\n",
      "prep.process_direct_grism_visit(**{'direct': {'files': ['jw02561001002_02101_00001_nrcblong_cal.fits', 'jw02561001002_02101_00002_nrcblong_cal.fits', 'jw02561001002_02101_00003_nrcblong_cal.fits', 'jw02561001002_02101_00004_nrcblong_cal.fits'], 'footprint': <shapely.geometry.polygon.Polygon object at 0x7fbee85611c0>, 'product': 'abell2744-preimg-02561-001-041.0-nrcb5-f277w-clear'}, 'grism': {}, 'radec': None, 'outlier_threshold': 4, 'align_clip': 120, 'align_thresh': None, 'align_mag_limits': [14, 24, 0.05], 'align_rms_limit': 2, 'align_triangle_ba_max': 0.9, 'align_ref_border': 100, 'align_min_flux_radius': 1.0, 'align_assume_close': False, 'align_transform': None, 'max_err_percentile': 99, 'catalog_mask_pad': 0.05, 'match_catalog_density': False, 'column_average': True, 'sky_iter': 10, 'run_tweak_align': False, 'tweak_fit_order': -1, 'skip_direct': False, 'fix_stars': True, 'tweak_max_dist': 3.0, 'tweak_n_min': 10, 'tweak_threshold': 1.5, 'tweak_ref_exp': 0, 'align_simple': False, 'single_image_CRs': True, 'skymethod': 'localmin', 'drizzle_params': {}, 'iter_atol': 0.0001, 'imaging_bkg_params': {'bh': 256, 'bw': 256, 'fh': 3, 'fw': 3, 'pixel_scale': 0.06, 'get_median': False}, 'run_separate_chip_sky': True, 'separate_chip_kwargs': {}, 'reference_catalogs': ['PS1', 'GAIA', 'SDSS', 'WISE'], 'use_self_catalog': False, 'nircam_wisp_kwargs': {'niter': 3, 'update': True}, 'oneoverf_kwargs': {'thresholds': [5, 4, 3], 'dilate_iterations': 3, 'deg_pix': 64}, 'snowball_kwargs': {'snowball_erode': 4, 'snowball_dilate': 18, 'mask_bit': 1024, 'instruments': ['NIRCAM', 'NIRISS']}, 'miri_skyflat': False, 'miri_skyfile': None, 'use_skyflats': True})\n",
      "\n",
      "# ../RAW/jw02561001002_02101_00001_nrcblong_cal.fits -> jw02561001002_02101_00001_nrcblong_cal.fits \n",
      "# (2022-12-01 14:26:24.589)\n",
      "\n",
      "jwst_utils.initialize_jwst_image(**{'filename': 'jw02561001002_02101_00001_nrcblong_cal.fits', 'verbose': True, 'max_dq_bit': 14, 'orig_keys': ['TELESCOP', 'INSTRUME', 'DETECTOR', 'FILTER', 'PUPIL', 'EXP_TYPE'], 'oneoverf_correction': True, 'oneoverf_kwargs': {'thresholds': [5, 4, 3], 'dilate_iterations': 3, 'deg_pix': 64}, 'use_skyflats': True})\n",
      "\n",
      "ENV CRDS_CONTEXT = jwst_1017.pmap\n",
      "OTELESCO = TELESCOP JWST\n",
      "OINSTRUM = INSTRUME NIRCAM\n",
      "ODETECTO = DETECTOR NRCBLONG\n",
      "OFILTER = FILTER F277W\n",
      "OPUPIL = PUPIL CLEAR\n",
      "OEXP_TYP = EXP_TYPE NRC_IMAGE\n",
      "ENGQLPTG = CALCULATED_TR_202105\n",
      "TARGNAME > ABELL2744-PREIMG (no spaces)\n",
      "PFLTFILE = /Users/ivo/Astro/PROJECTS/JWST/crds_cache/references/jwst/nircam/jwst_nircam_flat_0517.fits\n",
      "Clip MAXDQBIT = 14\n",
      "initialize_jwst_image: Mask outer ring of 6 pixels for NRCBLONG\n",
      "exposure_oneoverf_correction: jw02561001002_02101_00001_nrcblong_cal.fits axis=1 deg_pix=64\n"
     ]
    },
    {
     "name": "stderr",
     "output_type": "stream",
     "text": [
      "/Users/ivo/anaconda/envs/jwst_nircam/lib/python3.9/site-packages/grizli/jwst_utils.py:895: RuntimeWarning: divide by zero encountered in divide\n",
      "  sn_mask = (sci - back)/err > thresholds[0]\n",
      "/Users/ivo/anaconda/envs/jwst_nircam/lib/python3.9/site-packages/numpy/lib/nanfunctions.py:1095: RuntimeWarning: All-NaN slice encountered\n",
      "  result = np.apply_along_axis(_nanmedian1d, axis, a, overwrite_input)\n"
     ]
    },
    {
     "name": "stdout",
     "output_type": "stream",
     "text": [
      "exposure_oneoverf_correction: jw02561001002_02101_00001_nrcblong_cal.fits apply to file\n",
      "ENV CRDS_CONTEXT = jwst_1017.pmap\n",
      "jwst_utils.img_with_flat: Flat already applied\n",
      "jwst_utils.get_jwst_skyflat: /Users/ivo//Astro/SOFT/grizli/CONF/NircamSkyFlat/nrcblong-f277w-clear_skyflat_smooth.fits not found\n",
      "ENV CRDS_CONTEXT = jwst_1017.pmap\n",
      "jwst.assign_wcs.AssignWcsStep: /Users/ivo/Astro/PROJECTS/JWST/crds_cache/references/jwst/nircam/jwst_nircam_distortion_0159.asdf\n",
      "# (2022-12-01 14:26:28.077)\n",
      "\n",
      "jwst_utils.pipeline_model_wcs_header(**{'datamodel': <ImageModel(2048, 2048) from jw02561001002_02101_00001_nrcblong_cal.fits>, 'step': 64, 'degrees': [3, 4, 5, 5], 'lsq_args': {'jac': '2-point', 'bounds': (-inf, inf), 'method': 'trf', 'ftol': 1e-12, 'xtol': 1e-12, 'gtol': 1e-12, 'x_scale': 1.0, 'loss': 'soft_l1', 'f_scale': 1000.0, 'diff_step': 1e-06, 'tr_solver': None, 'tr_options': {}, 'jac_sparsity': None, 'max_nfev': 100, 'verbose': 0, 'kwargs': {}}, 'crpix': None, 'verbose': True, 'initial_header': None, 'max_rms': 0.0001, 'set_diff_step': False, 'get_guess': False, 'fast_coeffs': True})\n",
      "\n",
      "Fit SIP degree=3 rms= 7.31e-03, 4.02e-03 pix\n",
      "Fit SIP degree=4 rms= 4.40e-03, 3.59e-03 pix\n",
      "Fit SIP degree=5 rms= 3.62e-04, 3.62e-04 pix\n",
      "Fit SIP degree=5 rms= 3.63e-04, 3.62e-04 pix\n",
      "# photometry keywords\n",
      "PHOTFNU = 9.3313e-08\n",
      "PHOTPLAM = 27578.0\n",
      "PHOTFLAM = 3.6685e-21\n",
      "ZP = 26.48\n",
      "TO_MJYSR = 1.000\n",
      "\n",
      "# (2022-12-01 14:26:31.863)\n",
      "\n",
      "jwst_utils.set_jwst_to_hst_keywords(**{'input': 'jw02561001002_02101_00001_nrcblong_cal.fits', 'reset': False, 'verbose': True, 'orig_keys': ['TELESCOP', 'INSTRUME', 'DETECTOR', 'FILTER', 'PUPIL', 'EXP_TYPE']})\n",
      "\n",
      "  Set: TELESCOP > HST\n",
      "  Set: INSTRUME > WFC3\n",
      "  Set: DETECTOR > IR\n",
      "# ../RAW/jw02561001002_02101_00002_nrcblong_cal.fits -> jw02561001002_02101_00002_nrcblong_cal.fits \n",
      "# (2022-12-01 14:26:32.415)\n",
      "\n",
      "jwst_utils.initialize_jwst_image(**{'filename': 'jw02561001002_02101_00002_nrcblong_cal.fits', 'verbose': True, 'max_dq_bit': 14, 'orig_keys': ['TELESCOP', 'INSTRUME', 'DETECTOR', 'FILTER', 'PUPIL', 'EXP_TYPE'], 'oneoverf_correction': True, 'oneoverf_kwargs': {'thresholds': [5, 4, 3], 'dilate_iterations': 3, 'deg_pix': 64}, 'use_skyflats': True})\n",
      "\n",
      "ENV CRDS_CONTEXT = jwst_1017.pmap\n",
      "OTELESCO = TELESCOP JWST\n",
      "OINSTRUM = INSTRUME NIRCAM\n",
      "ODETECTO = DETECTOR NRCBLONG\n",
      "OFILTER = FILTER F277W\n",
      "OPUPIL = PUPIL CLEAR\n",
      "OEXP_TYP = EXP_TYPE NRC_IMAGE\n",
      "ENGQLPTG = CALCULATED_TR_202105\n",
      "TARGNAME > ABELL2744-PREIMG (no spaces)\n",
      "PFLTFILE = /Users/ivo/Astro/PROJECTS/JWST/crds_cache/references/jwst/nircam/jwst_nircam_flat_0517.fits\n",
      "Clip MAXDQBIT = 14\n",
      "initialize_jwst_image: Mask outer ring of 6 pixels for NRCBLONG\n",
      "exposure_oneoverf_correction: jw02561001002_02101_00002_nrcblong_cal.fits axis=1 deg_pix=64\n"
     ]
    },
    {
     "name": "stderr",
     "output_type": "stream",
     "text": [
      "/Users/ivo/anaconda/envs/jwst_nircam/lib/python3.9/site-packages/grizli/jwst_utils.py:895: RuntimeWarning: divide by zero encountered in divide\n",
      "  sn_mask = (sci - back)/err > thresholds[0]\n",
      "/Users/ivo/anaconda/envs/jwst_nircam/lib/python3.9/site-packages/numpy/lib/nanfunctions.py:1095: RuntimeWarning: All-NaN slice encountered\n",
      "  result = np.apply_along_axis(_nanmedian1d, axis, a, overwrite_input)\n"
     ]
    },
    {
     "name": "stdout",
     "output_type": "stream",
     "text": [
      "exposure_oneoverf_correction: jw02561001002_02101_00002_nrcblong_cal.fits apply to file\n",
      "ENV CRDS_CONTEXT = jwst_1017.pmap\n",
      "jwst_utils.img_with_flat: Flat already applied\n",
      "jwst_utils.get_jwst_skyflat: /Users/ivo//Astro/SOFT/grizli/CONF/NircamSkyFlat/nrcblong-f277w-clear_skyflat_smooth.fits not found\n",
      "ENV CRDS_CONTEXT = jwst_1017.pmap\n",
      "jwst.assign_wcs.AssignWcsStep: /Users/ivo/Astro/PROJECTS/JWST/crds_cache/references/jwst/nircam/jwst_nircam_distortion_0159.asdf\n",
      "# (2022-12-01 14:26:35.880)\n",
      "\n",
      "jwst_utils.pipeline_model_wcs_header(**{'datamodel': <ImageModel(2048, 2048) from jw02561001002_02101_00002_nrcblong_cal.fits>, 'step': 64, 'degrees': [3, 4, 5, 5], 'lsq_args': {'jac': '2-point', 'bounds': (-inf, inf), 'method': 'trf', 'ftol': 1e-12, 'xtol': 1e-12, 'gtol': 1e-12, 'x_scale': 1.0, 'loss': 'soft_l1', 'f_scale': 1000.0, 'diff_step': 1e-06, 'tr_solver': None, 'tr_options': {}, 'jac_sparsity': None, 'max_nfev': 100, 'verbose': 0, 'kwargs': {}}, 'crpix': None, 'verbose': True, 'initial_header': None, 'max_rms': 0.0001, 'set_diff_step': False, 'get_guess': False, 'fast_coeffs': True})\n",
      "\n",
      "Fit SIP degree=3 rms= 7.30e-03, 4.02e-03 pix\n",
      "Fit SIP degree=4 rms= 4.40e-03, 3.59e-03 pix\n",
      "Fit SIP degree=5 rms= 3.63e-04, 3.60e-04 pix\n",
      "Fit SIP degree=5 rms= 3.63e-04, 3.61e-04 pix\n",
      "# photometry keywords\n",
      "PHOTFNU = 9.3313e-08\n",
      "PHOTPLAM = 27578.0\n",
      "PHOTFLAM = 3.6685e-21\n",
      "ZP = 26.48\n",
      "TO_MJYSR = 1.000\n",
      "\n",
      "# (2022-12-01 14:26:39.925)\n",
      "\n",
      "jwst_utils.set_jwst_to_hst_keywords(**{'input': 'jw02561001002_02101_00002_nrcblong_cal.fits', 'reset': False, 'verbose': True, 'orig_keys': ['TELESCOP', 'INSTRUME', 'DETECTOR', 'FILTER', 'PUPIL', 'EXP_TYPE']})\n",
      "\n",
      "  Set: TELESCOP > HST\n",
      "  Set: INSTRUME > WFC3\n",
      "  Set: DETECTOR > IR\n",
      "# ../RAW/jw02561001002_02101_00003_nrcblong_cal.fits -> jw02561001002_02101_00003_nrcblong_cal.fits \n",
      "# (2022-12-01 14:26:40.453)\n",
      "\n",
      "jwst_utils.initialize_jwst_image(**{'filename': 'jw02561001002_02101_00003_nrcblong_cal.fits', 'verbose': True, 'max_dq_bit': 14, 'orig_keys': ['TELESCOP', 'INSTRUME', 'DETECTOR', 'FILTER', 'PUPIL', 'EXP_TYPE'], 'oneoverf_correction': True, 'oneoverf_kwargs': {'thresholds': [5, 4, 3], 'dilate_iterations': 3, 'deg_pix': 64}, 'use_skyflats': True})\n",
      "\n",
      "ENV CRDS_CONTEXT = jwst_1017.pmap\n",
      "OTELESCO = TELESCOP JWST\n",
      "OINSTRUM = INSTRUME NIRCAM\n",
      "ODETECTO = DETECTOR NRCBLONG\n",
      "OFILTER = FILTER F277W\n",
      "OPUPIL = PUPIL CLEAR\n",
      "OEXP_TYP = EXP_TYPE NRC_IMAGE\n",
      "ENGQLPTG = CALCULATED_TR_202105\n",
      "TARGNAME > ABELL2744-PREIMG (no spaces)\n",
      "PFLTFILE = /Users/ivo/Astro/PROJECTS/JWST/crds_cache/references/jwst/nircam/jwst_nircam_flat_0517.fits\n",
      "Clip MAXDQBIT = 14\n",
      "initialize_jwst_image: Mask outer ring of 6 pixels for NRCBLONG\n",
      "exposure_oneoverf_correction: jw02561001002_02101_00003_nrcblong_cal.fits axis=1 deg_pix=64\n"
     ]
    },
    {
     "name": "stderr",
     "output_type": "stream",
     "text": [
      "/Users/ivo/anaconda/envs/jwst_nircam/lib/python3.9/site-packages/grizli/jwst_utils.py:895: RuntimeWarning: divide by zero encountered in divide\n",
      "  sn_mask = (sci - back)/err > thresholds[0]\n",
      "/Users/ivo/anaconda/envs/jwst_nircam/lib/python3.9/site-packages/numpy/lib/nanfunctions.py:1095: RuntimeWarning: All-NaN slice encountered\n",
      "  result = np.apply_along_axis(_nanmedian1d, axis, a, overwrite_input)\n"
     ]
    },
    {
     "name": "stdout",
     "output_type": "stream",
     "text": [
      "exposure_oneoverf_correction: jw02561001002_02101_00003_nrcblong_cal.fits apply to file\n",
      "ENV CRDS_CONTEXT = jwst_1017.pmap\n",
      "jwst_utils.img_with_flat: Flat already applied\n",
      "jwst_utils.get_jwst_skyflat: /Users/ivo//Astro/SOFT/grizli/CONF/NircamSkyFlat/nrcblong-f277w-clear_skyflat_smooth.fits not found\n",
      "ENV CRDS_CONTEXT = jwst_1017.pmap\n",
      "jwst.assign_wcs.AssignWcsStep: /Users/ivo/Astro/PROJECTS/JWST/crds_cache/references/jwst/nircam/jwst_nircam_distortion_0159.asdf\n",
      "# (2022-12-01 14:26:43.975)\n",
      "\n",
      "jwst_utils.pipeline_model_wcs_header(**{'datamodel': <ImageModel(2048, 2048) from jw02561001002_02101_00003_nrcblong_cal.fits>, 'step': 64, 'degrees': [3, 4, 5, 5], 'lsq_args': {'jac': '2-point', 'bounds': (-inf, inf), 'method': 'trf', 'ftol': 1e-12, 'xtol': 1e-12, 'gtol': 1e-12, 'x_scale': 1.0, 'loss': 'soft_l1', 'f_scale': 1000.0, 'diff_step': 1e-06, 'tr_solver': None, 'tr_options': {}, 'jac_sparsity': None, 'max_nfev': 100, 'verbose': 0, 'kwargs': {}}, 'crpix': None, 'verbose': True, 'initial_header': None, 'max_rms': 0.0001, 'set_diff_step': False, 'get_guess': False, 'fast_coeffs': True})\n",
      "\n",
      "Fit SIP degree=3 rms= 7.30e-03, 4.02e-03 pix\n",
      "Fit SIP degree=4 rms= 4.40e-03, 3.59e-03 pix\n",
      "Fit SIP degree=5 rms= 3.61e-04, 3.64e-04 pix\n",
      "Fit SIP degree=5 rms= 3.61e-04, 3.64e-04 pix\n",
      "# photometry keywords\n",
      "PHOTFNU = 9.3313e-08\n",
      "PHOTPLAM = 27578.0\n",
      "PHOTFLAM = 3.6685e-21\n",
      "ZP = 26.48\n",
      "TO_MJYSR = 1.000\n",
      "\n",
      "# (2022-12-01 14:26:47.911)\n",
      "\n",
      "jwst_utils.set_jwst_to_hst_keywords(**{'input': 'jw02561001002_02101_00003_nrcblong_cal.fits', 'reset': False, 'verbose': True, 'orig_keys': ['TELESCOP', 'INSTRUME', 'DETECTOR', 'FILTER', 'PUPIL', 'EXP_TYPE']})\n",
      "\n",
      "  Set: TELESCOP > HST\n",
      "  Set: INSTRUME > WFC3\n",
      "  Set: DETECTOR > IR\n",
      "# ../RAW/jw02561001002_02101_00004_nrcblong_cal.fits -> jw02561001002_02101_00004_nrcblong_cal.fits \n",
      "# (2022-12-01 14:26:48.437)\n",
      "\n",
      "jwst_utils.initialize_jwst_image(**{'filename': 'jw02561001002_02101_00004_nrcblong_cal.fits', 'verbose': True, 'max_dq_bit': 14, 'orig_keys': ['TELESCOP', 'INSTRUME', 'DETECTOR', 'FILTER', 'PUPIL', 'EXP_TYPE'], 'oneoverf_correction': True, 'oneoverf_kwargs': {'thresholds': [5, 4, 3], 'dilate_iterations': 3, 'deg_pix': 64}, 'use_skyflats': True})\n",
      "\n",
      "ENV CRDS_CONTEXT = jwst_1017.pmap\n",
      "OTELESCO = TELESCOP JWST\n",
      "OINSTRUM = INSTRUME NIRCAM\n",
      "ODETECTO = DETECTOR NRCBLONG\n",
      "OFILTER = FILTER F277W\n",
      "OPUPIL = PUPIL CLEAR\n",
      "OEXP_TYP = EXP_TYPE NRC_IMAGE\n",
      "ENGQLPTG = CALCULATED_TR_202105\n",
      "TARGNAME > ABELL2744-PREIMG (no spaces)\n",
      "PFLTFILE = /Users/ivo/Astro/PROJECTS/JWST/crds_cache/references/jwst/nircam/jwst_nircam_flat_0517.fits\n",
      "Clip MAXDQBIT = 14\n",
      "initialize_jwst_image: Mask outer ring of 6 pixels for NRCBLONG\n",
      "exposure_oneoverf_correction: jw02561001002_02101_00004_nrcblong_cal.fits axis=1 deg_pix=64\n"
     ]
    },
    {
     "name": "stderr",
     "output_type": "stream",
     "text": [
      "/Users/ivo/anaconda/envs/jwst_nircam/lib/python3.9/site-packages/grizli/jwst_utils.py:895: RuntimeWarning: divide by zero encountered in divide\n",
      "  sn_mask = (sci - back)/err > thresholds[0]\n",
      "/Users/ivo/anaconda/envs/jwst_nircam/lib/python3.9/site-packages/numpy/lib/nanfunctions.py:1095: RuntimeWarning: All-NaN slice encountered\n",
      "  result = np.apply_along_axis(_nanmedian1d, axis, a, overwrite_input)\n"
     ]
    },
    {
     "name": "stdout",
     "output_type": "stream",
     "text": [
      "exposure_oneoverf_correction: jw02561001002_02101_00004_nrcblong_cal.fits apply to file\n",
      "ENV CRDS_CONTEXT = jwst_1017.pmap\n",
      "jwst_utils.img_with_flat: Flat already applied\n",
      "jwst_utils.get_jwst_skyflat: /Users/ivo//Astro/SOFT/grizli/CONF/NircamSkyFlat/nrcblong-f277w-clear_skyflat_smooth.fits not found\n",
      "ENV CRDS_CONTEXT = jwst_1017.pmap\n",
      "jwst.assign_wcs.AssignWcsStep: /Users/ivo/Astro/PROJECTS/JWST/crds_cache/references/jwst/nircam/jwst_nircam_distortion_0159.asdf\n",
      "# (2022-12-01 14:26:51.951)\n",
      "\n",
      "jwst_utils.pipeline_model_wcs_header(**{'datamodel': <ImageModel(2048, 2048) from jw02561001002_02101_00004_nrcblong_cal.fits>, 'step': 64, 'degrees': [3, 4, 5, 5], 'lsq_args': {'jac': '2-point', 'bounds': (-inf, inf), 'method': 'trf', 'ftol': 1e-12, 'xtol': 1e-12, 'gtol': 1e-12, 'x_scale': 1.0, 'loss': 'soft_l1', 'f_scale': 1000.0, 'diff_step': 1e-06, 'tr_solver': None, 'tr_options': {}, 'jac_sparsity': None, 'max_nfev': 100, 'verbose': 0, 'kwargs': {}}, 'crpix': None, 'verbose': True, 'initial_header': None, 'max_rms': 0.0001, 'set_diff_step': False, 'get_guess': False, 'fast_coeffs': True})\n",
      "\n",
      "Fit SIP degree=3 rms= 7.31e-03, 4.02e-03 pix\n",
      "Fit SIP degree=4 rms= 4.40e-03, 3.59e-03 pix\n",
      "Fit SIP degree=5 rms= 3.63e-04, 3.63e-04 pix\n",
      "Fit SIP degree=5 rms= 3.63e-04, 3.63e-04 pix\n",
      "# photometry keywords\n",
      "PHOTFNU = 9.3313e-08\n",
      "PHOTPLAM = 27578.0\n",
      "PHOTFLAM = 3.6685e-21\n",
      "ZP = 26.48\n",
      "TO_MJYSR = 1.000\n",
      "\n",
      "# (2022-12-01 14:26:55.862)\n",
      "\n",
      "jwst_utils.set_jwst_to_hst_keywords(**{'input': 'jw02561001002_02101_00004_nrcblong_cal.fits', 'reset': False, 'verbose': True, 'orig_keys': ['TELESCOP', 'INSTRUME', 'DETECTOR', 'FILTER', 'PUPIL', 'EXP_TYPE']})\n",
      "\n",
      "  Set: TELESCOP > HST\n",
      "  Set: INSTRUME > WFC3\n",
      "  Set: DETECTOR > IR\n",
      "# (2022-12-01 14:26:56.142)\n",
      "\n",
      "prep.mask_snowballs(**{'visit': {'files': ['jw02561001002_02101_00001_nrcblong_cal.fits', 'jw02561001002_02101_00002_nrcblong_cal.fits', 'jw02561001002_02101_00003_nrcblong_cal.fits', 'jw02561001002_02101_00004_nrcblong_cal.fits'], 'footprint': <shapely.geometry.polygon.Polygon object at 0x7fbee85611c0>, 'product': 'abell2744-preimg-02561-001-041.0-nrcb5-f277w-clear'}, 'snowball_erode': 4, 'snowball_dilate': 18, 'mask_bit': 1024, 'instruments': ['NIRCAM', 'NIRISS'], 'unset4': False, 'kwargs': {}})\n",
      "\n",
      "Snowball mask: jw02561001002_02101_00001_nrcblong_cal.fits  N= 32(f=0.70%)\n",
      "Snowball mask: jw02561001002_02101_00002_nrcblong_cal.fits  N= 36(f=0.92%)\n",
      "Snowball mask: jw02561001002_02101_00003_nrcblong_cal.fits  N= 46(f=1.06%)\n",
      "Snowball mask: jw02561001002_02101_00004_nrcblong_cal.fits  N= 27(f=0.58%)\n",
      "Query PanSTARRS catalog (3.532268003265407,-30.37184160283077,3.0)\n",
      "Query \"II/349/ps1\" from VizieR TAP server\n",
      "Launched query: 'SELECT TOP 500000 * FROM \"II/349/ps1\" WHERE RAJ2000 > 3.474314610551004 AND RAJ2000 < 3.5902213959798095 AND DEJ2000 > -30.42184160283077 AND DEJ2000 < -30.32184160283077 AND \"II/349/ps1\".e_imag < 0.2 AND \"II/349/ps1\".e_RAJ2000 < 0.15 AND \"II/349/ps1\".e_DEJ2000 < 0.15'\n",
      "------>http\n",
      "host = tapvizier.u-strasbg.fr:80\n",
      "context = /TAPVizieR/tap/sync\n",
      "Content-type = application/x-www-form-urlencoded\n",
      "200 200\n",
      "[('date', 'Thu, 01 Dec 2022 14:26:57 GMT'), ('server', 'Apache/2.4.41 (Ubuntu) mod_jk/1.2.46 OpenSSL/1.1.1f'), ('vary', 'Accept-Encoding'), ('access-control-allow-origin', '*'), ('access-control-allow-credentials', 'true'), ('transfer-encoding', 'chunked'), ('content-type', 'application/x-votable+xml; serialization=TABLEDATA;charset=UTF-8')]\n",
      "Retrieving sync. results...\n",
      "Saving results to: sync_20221202012706.xml\n",
      "Query finished.\n",
      "abell2744-preimg-02561-001-041.0-nrcb5-f277w-clear_ps1.reg: x = ra, y=dec, ellipse=False\n",
      "abell2744-preimg-02561-001-041.0-nrcb5-f277w-clear - Reference RADEC: abell2744-preimg-02561-001-041.0-nrcb5-f277w-clear_ps1.radec [PS1] N=357\n",
      "# (2022-12-01 14:27:08.031)\n",
      "#  abell2744-preimg-02561-001-041.0-nrcb5-f277w-clear: First Drizzle\n"
     ]
    },
    {
     "name": "stderr",
     "output_type": "stream",
     "text": [
      "2022-12-02 01:27:09,241 - stpipe - WARNING - /Users/ivo/anaconda/envs/jwst_nircam/lib/python3.9/site-packages/astropy/wcs/wcs.py:725: FITSFixedWarning: 'datfix' made the change 'Set DATE-BEG to '2022-11-02T08:27:04.153' from MJD-BEG.\n",
      "Set DATE-AVG to '2022-11-02T08:34:08.256' from MJD-AVG.\n",
      "Set DATE-END to '2022-11-02T08:41:12.358' from MJD-END'.\n",
      "  warnings.warn(\n",
      "\n",
      "2022-12-02 01:27:09,241 - stpipe - WARNING - /Users/ivo/anaconda/envs/jwst_nircam/lib/python3.9/site-packages/astropy/wcs/wcs.py:725: FITSFixedWarning: 'obsfix' made the change 'Set OBSGEO-L to    63.263556 from OBSGEO-[XYZ].\n",
      "Set OBSGEO-B to    28.494908 from OBSGEO-[XYZ].\n",
      "Set OBSGEO-H to 1394727362.015 from OBSGEO-[XYZ]'.\n",
      "  warnings.warn(\n",
      "\n",
      "2022-12-02 01:27:09,314 - stpipe - WARNING - /Users/ivo/anaconda/envs/jwst_nircam/lib/python3.9/site-packages/astropy/wcs/wcs.py:725: FITSFixedWarning: 'datfix' made the change 'Set DATE-BEG to '2022-11-02T08:42:38.232' from MJD-BEG.\n",
      "Set DATE-AVG to '2022-11-02T08:49:42.335' from MJD-AVG.\n",
      "Set DATE-END to '2022-11-02T08:56:46.437' from MJD-END'.\n",
      "  warnings.warn(\n",
      "\n",
      "2022-12-02 01:27:09,315 - stpipe - WARNING - /Users/ivo/anaconda/envs/jwst_nircam/lib/python3.9/site-packages/astropy/wcs/wcs.py:725: FITSFixedWarning: 'obsfix' made the change 'Set OBSGEO-L to    63.281076 from OBSGEO-[XYZ].\n",
      "Set OBSGEO-B to    28.491626 from OBSGEO-[XYZ].\n",
      "Set OBSGEO-H to 1394836264.421 from OBSGEO-[XYZ]'.\n",
      "  warnings.warn(\n",
      "\n",
      "2022-12-02 01:27:09,389 - stpipe - WARNING - /Users/ivo/anaconda/envs/jwst_nircam/lib/python3.9/site-packages/astropy/wcs/wcs.py:725: FITSFixedWarning: 'datfix' made the change 'Set DATE-BEG to '2022-11-02T08:58:12.312' from MJD-BEG.\n",
      "Set DATE-AVG to '2022-11-02T09:05:16.415' from MJD-AVG.\n",
      "Set DATE-END to '2022-11-02T09:12:20.517' from MJD-END'.\n",
      "  warnings.warn(\n",
      "\n",
      "2022-12-02 01:27:09,390 - stpipe - WARNING - /Users/ivo/anaconda/envs/jwst_nircam/lib/python3.9/site-packages/astropy/wcs/wcs.py:725: FITSFixedWarning: 'obsfix' made the change 'Set OBSGEO-L to    63.299758 from OBSGEO-[XYZ].\n",
      "Set OBSGEO-B to    28.488124 from OBSGEO-[XYZ].\n",
      "Set OBSGEO-H to 1394952435.627 from OBSGEO-[XYZ]'.\n",
      "  warnings.warn(\n",
      "\n",
      "2022-12-02 01:27:09,463 - stpipe - WARNING - /Users/ivo/anaconda/envs/jwst_nircam/lib/python3.9/site-packages/astropy/wcs/wcs.py:725: FITSFixedWarning: 'datfix' made the change 'Set DATE-BEG to '2022-11-02T09:13:46.455' from MJD-BEG.\n",
      "Set DATE-AVG to '2022-11-02T09:20:50.558' from MJD-AVG.\n",
      "Set DATE-END to '2022-11-02T09:27:54.660' from MJD-END'.\n",
      "  warnings.warn(\n",
      "\n",
      "2022-12-02 01:27:09,463 - stpipe - WARNING - /Users/ivo/anaconda/envs/jwst_nircam/lib/python3.9/site-packages/astropy/wcs/wcs.py:725: FITSFixedWarning: 'obsfix' made the change 'Set OBSGEO-L to    63.317268 from OBSGEO-[XYZ].\n",
      "Set OBSGEO-B to    28.484837 from OBSGEO-[XYZ].\n",
      "Set OBSGEO-H to 1395061354.150 from OBSGEO-[XYZ]'.\n",
      "  warnings.warn(\n",
      "\n",
      "2022-12-02 01:27:10,022 - stpipe - WARNING - /Users/ivo/anaconda/envs/jwst_nircam/lib/python3.9/site-packages/astropy/wcs/wcs.py:725: FITSFixedWarning: 'datfix' made the change 'Set DATE-BEG to '2022-11-02T08:27:04.153' from MJD-BEG.\n",
      "Set DATE-AVG to '2022-11-02T08:34:08.256' from MJD-AVG.\n",
      "Set DATE-END to '2022-11-02T08:41:12.358' from MJD-END'.\n",
      "  warnings.warn(\n",
      "\n",
      "2022-12-02 01:27:10,022 - stpipe - WARNING - /Users/ivo/anaconda/envs/jwst_nircam/lib/python3.9/site-packages/astropy/wcs/wcs.py:725: FITSFixedWarning: 'obsfix' made the change 'Set OBSGEO-L to    63.263556 from OBSGEO-[XYZ].\n",
      "Set OBSGEO-B to    28.494908 from OBSGEO-[XYZ].\n",
      "Set OBSGEO-H to 1394727362.015 from OBSGEO-[XYZ]'.\n",
      "  warnings.warn(\n",
      "\n",
      "2022-12-02 01:27:10,034 - stpipe - WARNING - /Users/ivo/anaconda/envs/jwst_nircam/lib/python3.9/site-packages/astropy/wcs/wcs.py:725: FITSFixedWarning: 'datfix' made the change 'Set DATE-BEG to '2022-11-02T08:42:38.232' from MJD-BEG.\n",
      "Set DATE-AVG to '2022-11-02T08:49:42.335' from MJD-AVG.\n",
      "Set DATE-END to '2022-11-02T08:56:46.437' from MJD-END'.\n",
      "  warnings.warn(\n",
      "\n",
      "2022-12-02 01:27:10,034 - stpipe - WARNING - /Users/ivo/anaconda/envs/jwst_nircam/lib/python3.9/site-packages/astropy/wcs/wcs.py:725: FITSFixedWarning: 'obsfix' made the change 'Set OBSGEO-L to    63.281076 from OBSGEO-[XYZ].\n",
      "Set OBSGEO-B to    28.491626 from OBSGEO-[XYZ].\n",
      "Set OBSGEO-H to 1394836264.421 from OBSGEO-[XYZ]'.\n",
      "  warnings.warn(\n",
      "\n",
      "2022-12-02 01:27:10,045 - stpipe - WARNING - /Users/ivo/anaconda/envs/jwst_nircam/lib/python3.9/site-packages/astropy/wcs/wcs.py:725: FITSFixedWarning: 'datfix' made the change 'Set DATE-BEG to '2022-11-02T08:58:12.312' from MJD-BEG.\n",
      "Set DATE-AVG to '2022-11-02T09:05:16.415' from MJD-AVG.\n",
      "Set DATE-END to '2022-11-02T09:12:20.517' from MJD-END'.\n",
      "  warnings.warn(\n",
      "\n",
      "2022-12-02 01:27:10,045 - stpipe - WARNING - /Users/ivo/anaconda/envs/jwst_nircam/lib/python3.9/site-packages/astropy/wcs/wcs.py:725: FITSFixedWarning: 'obsfix' made the change 'Set OBSGEO-L to    63.299758 from OBSGEO-[XYZ].\n",
      "Set OBSGEO-B to    28.488124 from OBSGEO-[XYZ].\n",
      "Set OBSGEO-H to 1394952435.627 from OBSGEO-[XYZ]'.\n",
      "  warnings.warn(\n",
      "\n",
      "2022-12-02 01:27:10,056 - stpipe - WARNING - /Users/ivo/anaconda/envs/jwst_nircam/lib/python3.9/site-packages/astropy/wcs/wcs.py:725: FITSFixedWarning: 'datfix' made the change 'Set DATE-BEG to '2022-11-02T09:13:46.455' from MJD-BEG.\n",
      "Set DATE-AVG to '2022-11-02T09:20:50.558' from MJD-AVG.\n",
      "Set DATE-END to '2022-11-02T09:27:54.660' from MJD-END'.\n",
      "  warnings.warn(\n",
      "\n",
      "2022-12-02 01:27:10,057 - stpipe - WARNING - /Users/ivo/anaconda/envs/jwst_nircam/lib/python3.9/site-packages/astropy/wcs/wcs.py:725: FITSFixedWarning: 'obsfix' made the change 'Set OBSGEO-L to    63.317268 from OBSGEO-[XYZ].\n",
      "Set OBSGEO-B to    28.484837 from OBSGEO-[XYZ].\n",
      "Set OBSGEO-H to 1395061354.150 from OBSGEO-[XYZ]'.\n",
      "  warnings.warn(\n",
      "\n",
      "2022-12-02 01:27:11,151 - stpipe - WARNING - /Users/ivo/anaconda/envs/jwst_nircam/lib/python3.9/site-packages/astropy/io/fits/card.py:1008: VerifyWarning: Card is too long, comment will be truncated.\n",
      "  warnings.warn('Card is too long, comment will be truncated.',\n",
      "\n",
      "2022-12-02 01:27:11,158 - stpipe - WARNING - /Users/ivo/anaconda/envs/jwst_nircam/lib/python3.9/site-packages/astropy/io/fits/card.py:1008: VerifyWarning: Card is too long, comment will be truncated.\n",
      "  warnings.warn('Card is too long, comment will be truncated.',\n",
      "\n",
      "2022-12-02 01:27:11,166 - stpipe - WARNING - /Users/ivo/anaconda/envs/jwst_nircam/lib/python3.9/site-packages/astropy/io/fits/card.py:1008: VerifyWarning: Card is too long, comment will be truncated.\n",
      "  warnings.warn('Card is too long, comment will be truncated.',\n",
      "\n",
      "2022-12-02 01:27:11,169 - stpipe - INFO - Writing out image to disk: jw02561001002_02101_00002_nrcblong_single_sci.fits\n"
     ]
    },
    {
     "name": "stdout",
     "output_type": "stream",
     "text": [
      "Writing out image to disk: jw02561001002_02101_00002_nrcblong_single_sci.fits\n"
     ]
    },
    {
     "name": "stderr",
     "output_type": "stream",
     "text": [
      "2022-12-02 01:27:11,176 - stpipe - INFO - Writing out image to disk: jw02561001002_02101_00003_nrcblong_single_sci.fits\n"
     ]
    },
    {
     "name": "stdout",
     "output_type": "stream",
     "text": [
      "Writing out image to disk: jw02561001002_02101_00003_nrcblong_single_sci.fits\n"
     ]
    },
    {
     "name": "stderr",
     "output_type": "stream",
     "text": [
      "2022-12-02 01:27:11,184 - stpipe - INFO - Writing out image to disk: jw02561001002_02101_00001_nrcblong_single_sci.fits\n"
     ]
    },
    {
     "name": "stdout",
     "output_type": "stream",
     "text": [
      "Writing out image to disk: jw02561001002_02101_00001_nrcblong_single_sci.fits\n"
     ]
    },
    {
     "name": "stderr",
     "output_type": "stream",
     "text": [
      "2022-12-02 01:27:11,185 - stpipe - WARNING - /Users/ivo/anaconda/envs/jwst_nircam/lib/python3.9/site-packages/astropy/io/fits/card.py:1008: VerifyWarning: Card is too long, comment will be truncated.\n",
      "  warnings.warn('Card is too long, comment will be truncated.',\n",
      "\n",
      "2022-12-02 01:27:11,204 - stpipe - INFO - Writing out image to disk: jw02561001002_02101_00004_nrcblong_single_sci.fits\n"
     ]
    },
    {
     "name": "stdout",
     "output_type": "stream",
     "text": [
      "Writing out image to disk: jw02561001002_02101_00004_nrcblong_single_sci.fits\n"
     ]
    },
    {
     "name": "stderr",
     "output_type": "stream",
     "text": [
      "2022-12-02 01:27:11,332 - stpipe - INFO - Writing out image to disk: jw02561001002_02101_00002_nrcblong_single_wht.fits\n"
     ]
    },
    {
     "name": "stdout",
     "output_type": "stream",
     "text": [
      "Writing out image to disk: jw02561001002_02101_00002_nrcblong_single_wht.fits\n"
     ]
    },
    {
     "name": "stderr",
     "output_type": "stream",
     "text": [
      "2022-12-02 01:27:11,347 - stpipe - INFO - Writing out image to disk: jw02561001002_02101_00003_nrcblong_single_wht.fits\n"
     ]
    },
    {
     "name": "stdout",
     "output_type": "stream",
     "text": [
      "Writing out image to disk: jw02561001002_02101_00003_nrcblong_single_wht.fits\n"
     ]
    },
    {
     "name": "stderr",
     "output_type": "stream",
     "text": [
      "2022-12-02 01:27:11,351 - stpipe - INFO - Writing out image to disk: jw02561001002_02101_00001_nrcblong_single_wht.fits\n"
     ]
    },
    {
     "name": "stdout",
     "output_type": "stream",
     "text": [
      "Writing out image to disk: jw02561001002_02101_00001_nrcblong_single_wht.fits\n"
     ]
    },
    {
     "name": "stderr",
     "output_type": "stream",
     "text": [
      "2022-12-02 01:27:11,361 - stpipe - INFO - Writing out image to disk: jw02561001002_02101_00004_nrcblong_single_wht.fits\n"
     ]
    },
    {
     "name": "stdout",
     "output_type": "stream",
     "text": [
      "Writing out image to disk: jw02561001002_02101_00004_nrcblong_single_wht.fits\n"
     ]
    },
    {
     "name": "stderr",
     "output_type": "stream",
     "text": [
      "2022-12-02 01:27:16,416 - stpipe - WARNING - Cannot find flat field file 'jwst_nircam_flat_0517.fits'\n",
      "2022-12-02 01:27:16,418 - stpipe - WARNING - Treating flatfield as a constant value of '1'.\n",
      "2022-12-02 01:27:17,252 - stpipe - WARNING - Cannot find flat field file 'jwst_nircam_flat_0517.fits'\n",
      "2022-12-02 01:27:17,253 - stpipe - WARNING - Treating flatfield as a constant value of '1'.\n",
      "2022-12-02 01:27:18,105 - stpipe - WARNING - Cannot find flat field file 'jwst_nircam_flat_0517.fits'\n",
      "2022-12-02 01:27:18,106 - stpipe - WARNING - Treating flatfield as a constant value of '1'.\n",
      "2022-12-02 01:27:18,909 - stpipe - WARNING - Cannot find flat field file 'jwst_nircam_flat_0517.fits'\n",
      "2022-12-02 01:27:18,910 - stpipe - WARNING - Treating flatfield as a constant value of '1'.\n",
      "2022-12-02 01:27:20,011 - stpipe - WARNING - /Users/ivo/anaconda/envs/jwst_nircam/lib/python3.9/site-packages/astropy/io/fits/card.py:1008: VerifyWarning: Card is too long, comment will be truncated.\n",
      "  warnings.warn('Card is too long, comment will be truncated.',\n",
      "\n",
      "2022-12-02 01:27:20,035 - stpipe - INFO - Writing out image to disk: abell2744-preimg-02561-001-041.0-nrcb5-f277w-clear_drz_sci.fits\n"
     ]
    },
    {
     "name": "stdout",
     "output_type": "stream",
     "text": [
      "Writing out image to disk: abell2744-preimg-02561-001-041.0-nrcb5-f277w-clear_drz_sci.fits\n"
     ]
    },
    {
     "name": "stderr",
     "output_type": "stream",
     "text": [
      "2022-12-02 01:27:20,170 - stpipe - INFO - Writing out image to disk: abell2744-preimg-02561-001-041.0-nrcb5-f277w-clear_drz_wht.fits\n"
     ]
    },
    {
     "name": "stdout",
     "output_type": "stream",
     "text": [
      "Writing out image to disk: abell2744-preimg-02561-001-041.0-nrcb5-f277w-clear_drz_wht.fits\n"
     ]
    },
    {
     "name": "stderr",
     "output_type": "stream",
     "text": [
      "2022-12-02 01:27:20,222 - stpipe - INFO - ==== Processing Step Final Drizzle finished at 01:27:20.222 (02/12/2022)\n"
     ]
    },
    {
     "name": "stdout",
     "output_type": "stream",
     "text": [
      "==== Processing Step Final Drizzle finished at 01:27:20.222 (02/12/2022)\n"
     ]
    },
    {
     "name": "stderr",
     "output_type": "stream",
     "text": [
      "2022-12-02 01:27:20,223 - stpipe - INFO - \n"
     ]
    },
    {
     "name": "stdout",
     "output_type": "stream",
     "text": [
      "\n"
     ]
    },
    {
     "name": "stderr",
     "output_type": "stream",
     "text": [
      "2022-12-02 01:27:20,224 - stpipe - INFO - AstroDrizzle Version 3.5.0 is finished processing at 01:27:20.224 (02/12/2022).\n"
     ]
    },
    {
     "name": "stdout",
     "output_type": "stream",
     "text": [
      "AstroDrizzle Version 3.5.0 is finished processing at 01:27:20.224 (02/12/2022).\n"
     ]
    },
    {
     "name": "stderr",
     "output_type": "stream",
     "text": [
      "2022-12-02 01:27:20,224 - stpipe - INFO - \n"
     ]
    },
    {
     "name": "stdout",
     "output_type": "stream",
     "text": [
      "\n"
     ]
    },
    {
     "name": "stderr",
     "output_type": "stream",
     "text": [
      "2022-12-02 01:27:20,225 - stpipe - INFO - \n"
     ]
    },
    {
     "name": "stdout",
     "output_type": "stream",
     "text": [
      "\n"
     ]
    },
    {
     "name": "stderr",
     "output_type": "stream",
     "text": [
      "2022-12-02 01:27:20,226 - stpipe - INFO - \n"
     ]
    },
    {
     "name": "stdout",
     "output_type": "stream",
     "text": [
      "\n"
     ]
    },
    {
     "name": "stderr",
     "output_type": "stream",
     "text": [
      "2022-12-02 01:27:20,226 - stpipe - INFO -    --------------------          --------------------\n"
     ]
    },
    {
     "name": "stdout",
     "output_type": "stream",
     "text": [
      "   --------------------          --------------------\n"
     ]
    },
    {
     "name": "stderr",
     "output_type": "stream",
     "text": [
      "2022-12-02 01:27:20,227 - stpipe - INFO -                    Step          Elapsed time\n"
     ]
    },
    {
     "name": "stdout",
     "output_type": "stream",
     "text": [
      "                   Step          Elapsed time\n"
     ]
    },
    {
     "name": "stderr",
     "output_type": "stream",
     "text": [
      "2022-12-02 01:27:20,228 - stpipe - INFO -    --------------------          --------------------\n"
     ]
    },
    {
     "name": "stdout",
     "output_type": "stream",
     "text": [
      "   --------------------          --------------------\n"
     ]
    },
    {
     "name": "stderr",
     "output_type": "stream",
     "text": [
      "2022-12-02 01:27:20,228 - stpipe - INFO - \n"
     ]
    },
    {
     "name": "stdout",
     "output_type": "stream",
     "text": [
      "\n"
     ]
    },
    {
     "name": "stderr",
     "output_type": "stream",
     "text": [
      "2022-12-02 01:27:20,229 - stpipe - INFO -          Initialization          0.4859 sec.\n"
     ]
    },
    {
     "name": "stdout",
     "output_type": "stream",
     "text": [
      "         Initialization          0.4859 sec.\n"
     ]
    },
    {
     "name": "stderr",
     "output_type": "stream",
     "text": [
      "2022-12-02 01:27:20,229 - stpipe - INFO -             Static Mask          0.3371 sec.\n"
     ]
    },
    {
     "name": "stdout",
     "output_type": "stream",
     "text": [
      "            Static Mask          0.3371 sec.\n"
     ]
    },
    {
     "name": "stderr",
     "output_type": "stream",
     "text": [
      "2022-12-02 01:27:20,230 - stpipe - INFO -            Subtract Sky          0.7271 sec.\n"
     ]
    },
    {
     "name": "stdout",
     "output_type": "stream",
     "text": [
      "           Subtract Sky          0.7271 sec.\n"
     ]
    },
    {
     "name": "stderr",
     "output_type": "stream",
     "text": [
      "2022-12-02 01:27:20,230 - stpipe - INFO -        Separate Drizzle          1.0577 sec.\n"
     ]
    },
    {
     "name": "stdout",
     "output_type": "stream",
     "text": [
      "       Separate Drizzle          1.0577 sec.\n"
     ]
    },
    {
     "name": "stderr",
     "output_type": "stream",
     "text": [
      "2022-12-02 01:27:20,231 - stpipe - INFO -           Create Median          1.4404 sec.\n"
     ]
    },
    {
     "name": "stdout",
     "output_type": "stream",
     "text": [
      "          Create Median          1.4404 sec.\n"
     ]
    },
    {
     "name": "stderr",
     "output_type": "stream",
     "text": [
      "2022-12-02 01:27:20,232 - stpipe - INFO -                    Blot          1.9040 sec.\n"
     ]
    },
    {
     "name": "stdout",
     "output_type": "stream",
     "text": [
      "                   Blot          1.9040 sec.\n"
     ]
    },
    {
     "name": "stderr",
     "output_type": "stream",
     "text": [
      "2022-12-02 01:27:20,233 - stpipe - INFO -                 Driz_CR          1.1392 sec.\n"
     ]
    },
    {
     "name": "stdout",
     "output_type": "stream",
     "text": [
      "                Driz_CR          1.1392 sec.\n"
     ]
    },
    {
     "name": "stderr",
     "output_type": "stream",
     "text": [
      "2022-12-02 01:27:20,233 - stpipe - INFO -           Final Drizzle          3.9859 sec.\n"
     ]
    },
    {
     "name": "stdout",
     "output_type": "stream",
     "text": [
      "          Final Drizzle          3.9859 sec.\n"
     ]
    },
    {
     "name": "stderr",
     "output_type": "stream",
     "text": [
      "2022-12-02 01:27:20,234 - stpipe - INFO -    ====================          ====================\n"
     ]
    },
    {
     "name": "stdout",
     "output_type": "stream",
     "text": [
      "   ====================          ====================\n"
     ]
    },
    {
     "name": "stderr",
     "output_type": "stream",
     "text": [
      "2022-12-02 01:27:20,235 - stpipe - INFO -                   Total          11.0772 sec.\n"
     ]
    },
    {
     "name": "stdout",
     "output_type": "stream",
     "text": [
      "                  Total          11.0772 sec.\n"
     ]
    },
    {
     "name": "stderr",
     "output_type": "stream",
     "text": [
      "2022-12-02 01:27:20,235 - stpipe - INFO - \n"
     ]
    },
    {
     "name": "stdout",
     "output_type": "stream",
     "text": [
      "\n"
     ]
    },
    {
     "name": "stderr",
     "output_type": "stream",
     "text": [
      "2022-12-02 01:27:20,236 - stpipe - INFO - Removing intermediate files for jw02561001002_02101_00001_nrcblong_cal.fits\n",
      "2022-12-02 01:27:20,243 - stpipe - INFO - Removing intermediate files for jw02561001002_02101_00002_nrcblong_cal.fits\n",
      "2022-12-02 01:27:20,249 - stpipe - INFO - Removing intermediate files for jw02561001002_02101_00003_nrcblong_cal.fits\n",
      "2022-12-02 01:27:20,255 - stpipe - INFO - Removing intermediate files for jw02561001002_02101_00004_nrcblong_cal.fits\n",
      "2022-12-02 01:27:20,261 - stpipe - INFO - Trailer file written to:  astrodrizzle.log\n"
     ]
    },
    {
     "name": "stdout",
     "output_type": "stream",
     "text": [
      "Trailer file written to:  astrodrizzle.log\n"
     ]
    },
    {
     "name": "stderr",
     "output_type": "stream",
     "text": [
      "WARNING: FITSFixedWarning: 'datfix' made the change 'Set MJD-OBS to 59885.000000 from DATE-OBS.\n",
      "Set DATE-AVG to '2022-11-02T08:34:08.256' from MJD-AVG'. [astropy.wcs.wcs]\n",
      "2022-12-02 01:27:20,350 - stpipe - WARNING - FITSFixedWarning: 'datfix' made the change 'Set MJD-OBS to 59885.000000 from DATE-OBS.\n",
      "Set DATE-AVG to '2022-11-02T08:34:08.256' from MJD-AVG'.\n",
      "WARNING: FITSFixedWarning: 'obsfix' made the change 'Set OBSGEO-L to    63.263556 from OBSGEO-[XYZ].\n",
      "Set OBSGEO-B to    28.494908 from OBSGEO-[XYZ].\n",
      "Set OBSGEO-H to 1394727362.015 from OBSGEO-[XYZ]'. [astropy.wcs.wcs]\n",
      "2022-12-02 01:27:20,352 - stpipe - WARNING - FITSFixedWarning: 'obsfix' made the change 'Set OBSGEO-L to    63.263556 from OBSGEO-[XYZ].\n",
      "Set OBSGEO-B to    28.494908 from OBSGEO-[XYZ].\n",
      "Set OBSGEO-H to 1394727362.015 from OBSGEO-[XYZ]'.\n"
     ]
    },
    {
     "name": "stdout",
     "output_type": "stream",
     "text": [
      "make_SEP_catalog: sep version = 1.2.1\n",
      "# (2022-12-01 14:27:20.268)\n",
      "sep: Image AB zeropoint =  26.475\n"
     ]
    },
    {
     "name": "stderr",
     "output_type": "stream",
     "text": [
      "/Users/ivo/anaconda/envs/jwst_nircam/lib/python3.9/site-packages/grizli/prep.py:1697: RuntimeWarning: divide by zero encountered in divide\n",
      "  err = 1/np.sqrt(wht_data)\n"
     ]
    },
    {
     "name": "stdout",
     "output_type": "stream",
     "text": [
      "# (2022-12-01 14:27:20.383)\n",
      "SEP: Get background {'bw': 32.0, 'bh': 32.0, 'fw': 3, 'fh': 3}\n"
     ]
    },
    {
     "name": "stderr",
     "output_type": "stream",
     "text": [
      "/Users/ivo/anaconda/envs/jwst_nircam/lib/python3.9/site-packages/grizli/prep.py:1772: RuntimeWarning: divide by zero encountered in divide\n",
      "  ratio = bkg.rms()/err\n"
     ]
    },
    {
     "name": "stdout",
     "output_type": "stream",
     "text": [
      "SEP: err_scale=0.044\n",
      "   SEP: Extract...\n",
      "    Done.\n",
      "compute_SEP_auto_params: sep version = 1.2.1\n",
      "compute_SEP_auto_params: autoparams=[2.5, <Quantity 0.35 arcsec>, 2.4, 3.8]; pixel_scale=0.06299535663233154; subpix=0; flux_radii=[0.2, 0.5, 0.9]\n"
     ]
    },
    {
     "name": "stderr",
     "output_type": "stream",
     "text": [
      "/Users/ivo/anaconda/envs/jwst_nircam/lib/python3.9/site-packages/grizli/prep.py:1913: RuntimeWarning: invalid value encountered in log10\n",
      "  tab['mag_auto'] = 23.9-2.5*np.log10(total_flux)\n",
      "WARNING: VerifyWarning: Keyword name 'FILTER_TYPE' is greater than 8 characters or contains characters not allowed by the FITS standard; a HIERARCH card will be created. [astropy.io.fits.card]\n",
      "2022-12-02 01:27:23,081 - stpipe - WARNING - VerifyWarning: Keyword name 'FILTER_TYPE' is greater than 8 characters or contains characters not allowed by the FITS standard; a HIERARCH card will be created.\n",
      "WARNING: VerifyWarning: Keyword name 'THRESHOLD' is greater than 8 characters or contains characters not allowed by the FITS standard; a HIERARCH card will be created. [astropy.io.fits.card]\n",
      "2022-12-02 01:27:23,083 - stpipe - WARNING - VerifyWarning: Keyword name 'THRESHOLD' is greater than 8 characters or contains characters not allowed by the FITS standard; a HIERARCH card will be created.\n",
      "WARNING: VerifyWarning: Keyword name 'ERR_SCALE' is greater than 8 characters or contains characters not allowed by the FITS standard; a HIERARCH card will be created. [astropy.io.fits.card]\n",
      "2022-12-02 01:27:23,086 - stpipe - WARNING - VerifyWarning: Keyword name 'ERR_SCALE' is greater than 8 characters or contains characters not allowed by the FITS standard; a HIERARCH card will be created.\n",
      "WARNING: VerifyWarning: Card is too long, comment will be truncated. [astropy.io.fits.card]\n",
      "2022-12-02 01:27:23,093 - stpipe - WARNING - VerifyWarning: Card is too long, comment will be truncated.\n",
      "WARNING: FITSFixedWarning: 'datfix' made the change 'Set MJD-OBS to 59885.000000 from DATE-OBS.\n",
      "Set DATE-AVG to '2022-11-02T08:34:08.256' from MJD-AVG'. [astropy.wcs.wcs]\n",
      "2022-12-02 01:27:23,284 - stpipe - WARNING - FITSFixedWarning: 'datfix' made the change 'Set MJD-OBS to 59885.000000 from DATE-OBS.\n",
      "Set DATE-AVG to '2022-11-02T08:34:08.256' from MJD-AVG'.\n",
      "WARNING: FITSFixedWarning: 'obsfix' made the change 'Set OBSGEO-L to    63.263556 from OBSGEO-[XYZ].\n",
      "Set OBSGEO-B to    28.494908 from OBSGEO-[XYZ].\n",
      "Set OBSGEO-H to 1394727362.015 from OBSGEO-[XYZ]'. [astropy.wcs.wcs]\n",
      "2022-12-02 01:27:23,287 - stpipe - WARNING - FITSFixedWarning: 'obsfix' made the change 'Set OBSGEO-L to    63.263556 from OBSGEO-[XYZ].\n",
      "Set OBSGEO-B to    28.494908 from OBSGEO-[XYZ].\n",
      "Set OBSGEO-H to 1394727362.015 from OBSGEO-[XYZ]'.\n"
     ]
    },
    {
     "name": "stdout",
     "output_type": "stream",
     "text": [
      "# SEP abell2744-preimg-02561-001-041.0-nrcb5-f277w-clear.cat.fits: 2752 objects\n",
      "# (2022-12-01 14:27:23.140)\n",
      "\n",
      "prep.align_drizzled_image(**{'root': 'abell2744-preimg-02561-001-041.0-nrcb5-f277w-clear', 'mag_limits': [16, 23, 0.05], 'radec': 'abell2744-preimg-02561-001-041.0-nrcb5-f277w-clear_ps1.radec', 'NITER': 3, 'clip': 120, 'log': True, 'outlier_threshold': 4, 'verbose': True, 'guess': [0.0, 0.0, 0.0, 1], 'simple': False, 'rms_limit': 2, 'use_guess': False, 'triangle_size_limit': [5, 2400], 'max_sources': 200, 'triangle_ba_max': 0.9, 'max_err_percentile': 99, 'catalog_mask_pad': 0.05, 'min_flux_radius': 1.0, 'match_catalog_density': False, 'assume_close': False, 'ref_border': 100, 'transform': None})\n",
      "\n",
      "# wcs abell2744-preimg-02561-001-041.0-nrcb5-f277w-clear radec=\"abell2744-preimg-02561-001-041.0-nrcb5-f277w-clear_ps1.radec\"; Ncat=237; Nref=87\n",
      "# wcs abell2744-preimg-02561-001-041.0-nrcb5-f277w-clear (guess)   :   0.00   0.00   0.000   1.000\n",
      "  tristars.match: Nin=60, Nout=148, match=30\n",
      "  tristars.match: Nin=29, Nout=29, match=29\n",
      "# wcs abell2744-preimg-02561-001-041.0-nrcb5-f277w-clear (0) 29:  -2.43   3.36   0.066   1.000\n",
      "  tristars.match: Nin=60, Nout=148, match=30\n",
      "  tristars.match: Nin=29, Nout=29, match=29\n",
      "# wcs abell2744-preimg-02561-001-041.0-nrcb5-f277w-clear (1) 29:   0.00   0.00  -0.000   1.000\n"
     ]
    },
    {
     "name": "stderr",
     "output_type": "stream",
     "text": [
      "WARNING: FITSFixedWarning: The WCS transformation has more axes (2) than the image it is associated with (0) [astropy.wcs.wcs]\n",
      "2022-12-02 01:27:29,950 - stpipe - WARNING - FITSFixedWarning: The WCS transformation has more axes (2) than the image it is associated with (0)\n",
      "WARNING: FITSFixedWarning: 'obsfix' made the change 'Set OBSGEO-L to    63.263556 from OBSGEO-[XYZ].\n",
      "Set OBSGEO-B to    28.494908 from OBSGEO-[XYZ].\n",
      "Set OBSGEO-H to 1394727362.015 from OBSGEO-[XYZ]'. [astropy.wcs.wcs]\n",
      "2022-12-02 01:27:30,067 - stpipe - WARNING - FITSFixedWarning: 'obsfix' made the change 'Set OBSGEO-L to    63.263556 from OBSGEO-[XYZ].\n",
      "Set OBSGEO-B to    28.494908 from OBSGEO-[XYZ].\n",
      "Set OBSGEO-H to 1394727362.015 from OBSGEO-[XYZ]'.\n"
     ]
    },
    {
     "name": "stdout",
     "output_type": "stream",
     "text": [
      "  tristars.match: Nin=60, Nout=148, match=30\n",
      "  tristars.match: Nin=29, Nout=29, match=29\n",
      "# wcs abell2744-preimg-02561-001-041.0-nrcb5-f277w-clear (2) 29:  -0.00   0.00   0.000   1.000\n",
      "Initialize abell2744-preimg-02561-001-041.0-nrcb5-f277w-clear_wcs.log\n"
     ]
    },
    {
     "name": "stderr",
     "output_type": "stream",
     "text": [
      "WARNING: FITSFixedWarning: 'datfix' made the change 'Set DATE-BEG to '2022-11-02T08:27:04.153' from MJD-BEG.\n",
      "Set DATE-AVG to '2022-11-02T08:34:08.256' from MJD-AVG.\n",
      "Set DATE-END to '2022-11-02T08:41:12.358' from MJD-END'. [astropy.wcs.wcs]\n",
      "2022-12-02 01:27:30,089 - stpipe - WARNING - FITSFixedWarning: 'datfix' made the change 'Set DATE-BEG to '2022-11-02T08:27:04.153' from MJD-BEG.\n",
      "Set DATE-AVG to '2022-11-02T08:34:08.256' from MJD-AVG.\n",
      "Set DATE-END to '2022-11-02T08:41:12.358' from MJD-END'.\n",
      "WARNING: FITSFixedWarning: 'datfix' made the change 'Set DATE-BEG to '2022-11-02T08:27:04.153' from MJD-BEG.\n",
      "Set DATE-AVG to '2022-11-02T08:34:08.256' from MJD-AVG.\n",
      "Set DATE-END to '2022-11-02T08:41:12.358' from MJD-END'. [astropy.wcs.wcs]\n",
      "2022-12-02 01:27:30,110 - stpipe - WARNING - FITSFixedWarning: 'datfix' made the change 'Set DATE-BEG to '2022-11-02T08:27:04.153' from MJD-BEG.\n",
      "Set DATE-AVG to '2022-11-02T08:34:08.256' from MJD-AVG.\n",
      "Set DATE-END to '2022-11-02T08:41:12.358' from MJD-END'.\n",
      "WARNING: FITSFixedWarning: 'obsfix' made the change 'Set OBSGEO-L to    63.263556 from OBSGEO-[XYZ].\n",
      "Set OBSGEO-B to    28.494908 from OBSGEO-[XYZ].\n",
      "Set OBSGEO-H to 1394727362.015 from OBSGEO-[XYZ]'. [astropy.wcs.wcs]\n",
      "2022-12-02 01:27:30,112 - stpipe - WARNING - FITSFixedWarning: 'obsfix' made the change 'Set OBSGEO-L to    63.263556 from OBSGEO-[XYZ].\n",
      "Set OBSGEO-B to    28.494908 from OBSGEO-[XYZ].\n",
      "Set OBSGEO-H to 1394727362.015 from OBSGEO-[XYZ]'.\n",
      "2022-12-02 01:27:30,118 - stpipe - INFO -     with WCS of\n",
      "WARNING: FITSFixedWarning: The WCS transformation has more axes (2) than the image it is associated with (0) [astropy.wcs.wcs]\n",
      "2022-12-02 01:27:30,167 - stpipe - WARNING - FITSFixedWarning: The WCS transformation has more axes (2) than the image it is associated with (0)\n",
      "WARNING: FITSFixedWarning: 'obsfix' made the change 'Set OBSGEO-L to    63.263556 from OBSGEO-[XYZ].\n",
      "Set OBSGEO-B to    28.494908 from OBSGEO-[XYZ].\n",
      "Set OBSGEO-H to 1394727362.015 from OBSGEO-[XYZ]'. [astropy.wcs.wcs]\n",
      "2022-12-02 01:27:30,169 - stpipe - WARNING - FITSFixedWarning: 'obsfix' made the change 'Set OBSGEO-L to    63.263556 from OBSGEO-[XYZ].\n",
      "Set OBSGEO-B to    28.494908 from OBSGEO-[XYZ].\n",
      "Set OBSGEO-H to 1394727362.015 from OBSGEO-[XYZ]'.\n",
      "WARNING: FITSFixedWarning: 'datfix' made the change 'Set DATE-BEG to '2022-11-02T08:42:38.232' from MJD-BEG.\n",
      "Set DATE-AVG to '2022-11-02T08:49:42.335' from MJD-AVG.\n",
      "Set DATE-END to '2022-11-02T08:56:46.437' from MJD-END'. [astropy.wcs.wcs]\n",
      "2022-12-02 01:27:30,190 - stpipe - WARNING - FITSFixedWarning: 'datfix' made the change 'Set DATE-BEG to '2022-11-02T08:42:38.232' from MJD-BEG.\n",
      "Set DATE-AVG to '2022-11-02T08:49:42.335' from MJD-AVG.\n",
      "Set DATE-END to '2022-11-02T08:56:46.437' from MJD-END'.\n",
      "WARNING: FITSFixedWarning: 'obsfix' made the change 'Set OBSGEO-L to    63.281076 from OBSGEO-[XYZ].\n",
      "Set OBSGEO-B to    28.491626 from OBSGEO-[XYZ].\n",
      "Set OBSGEO-H to 1394836264.421 from OBSGEO-[XYZ]'. [astropy.wcs.wcs]\n",
      "2022-12-02 01:27:30,192 - stpipe - WARNING - FITSFixedWarning: 'obsfix' made the change 'Set OBSGEO-L to    63.281076 from OBSGEO-[XYZ].\n",
      "Set OBSGEO-B to    28.491626 from OBSGEO-[XYZ].\n",
      "Set OBSGEO-H to 1394836264.421 from OBSGEO-[XYZ]'.\n",
      "WARNING: FITSFixedWarning: 'datfix' made the change 'Set DATE-BEG to '2022-11-02T08:42:38.232' from MJD-BEG.\n",
      "Set DATE-AVG to '2022-11-02T08:49:42.335' from MJD-AVG.\n",
      "Set DATE-END to '2022-11-02T08:56:46.437' from MJD-END'. [astropy.wcs.wcs]\n",
      "2022-12-02 01:27:30,213 - stpipe - WARNING - FITSFixedWarning: 'datfix' made the change 'Set DATE-BEG to '2022-11-02T08:42:38.232' from MJD-BEG.\n",
      "Set DATE-AVG to '2022-11-02T08:49:42.335' from MJD-AVG.\n",
      "Set DATE-END to '2022-11-02T08:56:46.437' from MJD-END'.\n",
      "WARNING: FITSFixedWarning: 'obsfix' made the change 'Set OBSGEO-L to    63.281076 from OBSGEO-[XYZ].\n",
      "Set OBSGEO-B to    28.491626 from OBSGEO-[XYZ].\n",
      "Set OBSGEO-H to 1394836264.421 from OBSGEO-[XYZ]'. [astropy.wcs.wcs]\n",
      "2022-12-02 01:27:30,215 - stpipe - WARNING - FITSFixedWarning: 'obsfix' made the change 'Set OBSGEO-L to    63.281076 from OBSGEO-[XYZ].\n",
      "Set OBSGEO-B to    28.491626 from OBSGEO-[XYZ].\n",
      "Set OBSGEO-H to 1394836264.421 from OBSGEO-[XYZ]'.\n",
      "2022-12-02 01:27:30,221 - stpipe - INFO -     with WCS of\n",
      "WARNING"
     ]
    },
    {
     "name": "stdout",
     "output_type": "stream",
     "text": [
      "\n",
      "....Updating header for 'jw02561001002_02101_00001_nrcblong_cal.fits' ...\n",
      "\n",
      "\n",
      "Processing jw02561001002_02101_00001_nrcblong_cal.fits['SCI',1]\n",
      "\n",
      "Updating header for jw02561001002_02101_00001_nrcblong_cal.fits[1]\n",
      "WCS Keywords\n",
      "\n",
      "CD_11  CD_12: -1.3086707370105878e-05 1.1591750580843092e-05\n",
      "CD_21  CD_22: 1.1554045446152509e-05 1.3163986927466306e-05\n",
      "CRVAL    : 3.532186187912733 -30.37186167890916\n",
      "CRPIX    : 1024.417 1024.311\n",
      "NAXIS    : 2048 2048\n",
      "Plate Scale : 0.06284633700280123\n",
      "ORIENTAT : 41.36602695229712\n",
      "WCSNAME  :  PS1\n",
      "\n",
      "....Updating header for 'jw02561001002_02101_00002_nrcblong_cal.fits' ...\n",
      "\n",
      "\n",
      "Processing jw02561001002_02101_00002_nrcblong_cal.fits['SCI',1]\n",
      "\n",
      "Updating header for jw02561001002_02101_00002_nrcblong_cal.fits[1]\n",
      "WCS Keywords\n",
      "\n",
      "CD_11  CD_12: -1.308687392026168e-05 1.1591560655577428e-05\n",
      "CD_21  CD_22: 1.1553856627006538e-05 1.3164154007060544e-05\n",
      "CRVAL    : 3.534858504624315 -30.371711520778778\n",
      "CRPIX    : 1024.417 1024.311\n",
      "NAXIS    : 2048 2048\n",
      "Plate Scale : 0.06284633657726284\n",
      "ORIENTAT : 41.365200659146716\n",
      "WCSNAME  :  PS1\n"
     ]
    },
    {
     "name": "stderr",
     "output_type": "stream",
     "text": [
      ": FITSFixedWarning: The WCS transformation has more axes (2) than the image it is associated with (0) [astropy.wcs.wcs]\n",
      "2022-12-02 01:27:30,269 - stpipe - WARNING - FITSFixedWarning: The WCS transformation has more axes (2) than the image it is associated with (0)\n",
      "WARNING: FITSFixedWarning: 'obsfix' made the change 'Set OBSGEO-L to    63.263556 from OBSGEO-[XYZ].\n",
      "Set OBSGEO-B to    28.494908 from OBSGEO-[XYZ].\n",
      "Set OBSGEO-H to 1394727362.015 from OBSGEO-[XYZ]'. [astropy.wcs.wcs]\n",
      "2022-12-02 01:27:30,272 - stpipe - WARNING - FITSFixedWarning: 'obsfix' made the change 'Set OBSGEO-L to    63.263556 from OBSGEO-[XYZ].\n",
      "Set OBSGEO-B to    28.494908 from OBSGEO-[XYZ].\n",
      "Set OBSGEO-H to 1394727362.015 from OBSGEO-[XYZ]'.\n",
      "WARNING: FITSFixedWarning: 'datfix' made the change 'Set DATE-BEG to '2022-11-02T08:58:12.312' from MJD-BEG.\n",
      "Set DATE-AVG to '2022-11-02T09:05:16.415' from MJD-AVG.\n",
      "Set DATE-END to '2022-11-02T09:12:20.517' from MJD-END'. [astropy.wcs.wcs]\n",
      "2022-12-02 01:27:30,294 - stpipe - WARNING - FITSFixedWarning: 'datfix' made the change 'Set DATE-BEG to '2022-11-02T08:58:12.312' from MJD-BEG.\n",
      "Set DATE-AVG to '2022-11-02T09:05:16.415' from MJD-AVG.\n",
      "Set DATE-END to '2022-11-02T09:12:20.517' from MJD-END'.\n",
      "WARNING: FITSFixedWarning: 'obsfix' made the change 'Set OBSGEO-L to    63.299758 from OBSGEO-[XYZ].\n",
      "Set OBSGEO-B to    28.488124 from OBSGEO-[XYZ].\n",
      "Set OBSGEO-H to 1394952435.627 from OBSGEO-[XYZ]'. [astropy.wcs.wcs]\n",
      "2022-12-02 01:27:30,296 - stpipe - WARNING - FITSFixedWarning: 'obsfix' made the change 'Set OBSGEO-L to    63.299758 from OBSGEO-[XYZ].\n",
      "Set OBSGEO-B to    28.488124 from OBSGEO-[XYZ].\n",
      "Set OBSGEO-H to 1394952435.627 from OBSGEO-[XYZ]'.\n",
      "WARNING: FITSFixedWarning: 'datfix' made the change 'Set DATE-BEG to '2022-11-02T08:58:12.312' from MJD-BEG.\n",
      "Set DATE-AVG to '2022-11-02T09:05:16.415' from MJD-AVG.\n",
      "Set DATE-END to '2022-11-02T09:12:20.517' from MJD-END'. [astropy.wcs.wcs]\n",
      "2022-12-02 01:27:30,319 - stpipe - WARNING - FITSFixedWarning: 'datfix' made the change 'Set DATE-BEG to '2022-11-02T08:58:12.312' from MJD-BEG.\n",
      "Set DATE-AVG to '2022-11-02T09:05:16.415' from MJD-AVG.\n",
      "Set DATE-END to '2022-11-02T09:12:20.517' from MJD-END'.\n",
      "WARNING: FITSFixedWarning: 'obsfix' made the change 'Set OBSGEO-L to    63.299758 from OBSGEO-[XYZ].\n",
      "Set OBSGEO-B to    28.488124 from OBSGEO-[XYZ].\n",
      "Set OBSGEO-H to 1394952435.627 from OBSGEO-[XYZ]'. [astropy.wcs.wcs]\n",
      "2022-12-02 01:27:30,322 - stpipe - WARNING - FITSFixedWarning: 'obsfix' made the change 'Set OBSGEO-L to    63.299758 from OBSGEO-[XYZ].\n",
      "Set OBSGEO-B to    28.488124 from OBSGEO-[XYZ].\n",
      "Set OBSGEO-H to 1394952435.627 from OBSGEO-[XYZ]'.\n",
      "2022-12-02 01:27:30,327 - stpipe - INFO -     with WCS of\n",
      "WARNING: FITSFixedWarning: The WCS transformation has more axes (2) than the image it is associated with (0) [astropy.wcs.wcs]\n",
      "2022-12-02 01:27:30,377 - stpipe - WARNING - FITSFixedWarning: The WCS transformation has more axes (2) than the image it is associated with (0)\n",
      "WARNING: FITSFixedWarning: 'obsfix' made the change 'Set OBSGEO-L to    63.263556 from OBSGEO-[XYZ].\n",
      "Set OBSGEO-B to    28.494908 from OBSGEO-[XYZ].\n",
      "Set OBSGEO-H to 1394727362.015 from OBSGEO-[XYZ]'. [astropy.wcs.wcs]\n",
      "2022-12-02 01:27:30,380 - stpipe - WARNING - FITSFixedWarning: 'obsfix' made the change 'Set OBSGEO-L to    63.263556 from OBSGEO-[XYZ].\n",
      "Set OBSGEO-B to    28.494908 from OBSGEO-[XYZ].\n",
      "Set OBSGEO-H to 1394727362.015 from OBSGEO-[XYZ]'.\n",
      "WARNING: FITSFixedWarning: 'datfix' made the change 'Set DATE-BEG to '2022-11-02T09:13:46.455' from MJD-BEG.\n",
      "Set DATE-AVG to '2022-11-02T09:20:50.558' from MJD-AVG.\n",
      "Set DATE-END to '2022-11-02T09:27:54.660' from MJD-END'. [astropy.wcs.wcs]\n",
      "2022-12-02 01:27:30,400 - stpipe - WARNING - FITSFixedWarning: 'datfix' made the change 'Set DATE-BEG to '2022-11-02T09:13:46.455' from MJD-BEG.\n",
      "Set DATE-AVG to '2022-11-02T09:20:50.558' from MJD-AVG.\n",
      "Set DATE-END to '2022-11-02T09:27:54.660' from MJD-END'.\n",
      "WARNING: FITSFixedWarning: 'obsfix' made the change 'Set OBSGEO-L to    63.317268 from OBSGEO-[XYZ].\n",
      "Set OBSGEO-B to    28.484837 from OBSGEO-[XYZ].\n",
      "Set OBSGEO-H to 1395061354.150 from OBSGEO-[XYZ]'. [astropy.wcs.wcs]\n",
      "2022-12-02 01:27:30,403 - stpipe - WARNING - FITSFixedWarning: 'obsfix' made the change 'Set OBSGEO-L to    63.317268 from OBSGEO-[XYZ].\n",
      "Set OBSGEO-B to    28.484837 from OBSGEO-[XYZ].\n",
      "Set OBSGEO-H to 1395061354.150 from OBSGEO-[XYZ]'.\n",
      "WARNING: FITSFixedWarning: 'datfix' made the change 'Set DATE-BEG to '2022-11-02T09:13:46.455' from MJD-BEG.\n",
      "Set DATE-AVG to '2022-11-02T09:20:50.558' from MJD-AVG.\n",
      "Set DATE-END to '2022-11-02T09:27:54.660' from MJD-END'. [astropy.wcs.wcs]\n",
      "2022-12-02 01:27:30,424 - stpipe - WARNING - FITSFixedWarning: 'datfix' made the change 'Set DATE-BEG to '2022-11-02T09:13:46.455' from MJD-BEG.\n",
      "Set DATE-AVG to '2022-11-02T09:20:50.558' from MJD-AVG.\n",
      "Set DATE-END to '2022-11-02T09:27:54.660' from MJD-END'.\n",
      "WARNING: FITSFixedWarning: 'obsfix' made the change 'Set OBSGEO-L to    63.317268 from OBSGEO-[XYZ].\n",
      "Set OBSGEO-B to    28.484837 from OBSGEO-[XYZ].\n",
      "Set OBSGEO-H to 1395061354.150 from OBSGEO-[XYZ]'. [astropy.wcs.wcs]\n",
      "2022-12-02 01:27:30,426 - stpipe - WARNING - FITSFixedWarning: 'obsfix' made the change 'Set OBSGEO-L to    63.317268 from OBSGEO-[XYZ].\n",
      "Set OBSGEO-B to    28.484837 from OBSGEO-[XYZ].\n",
      "Set OBSGEO-H to 1395061354.150 from OBSGEO-[XYZ]'.\n",
      "2022-12-02 01:27:30,432 - stpipe - INFO -     with WCS of\n"
     ]
    },
    {
     "name": "stdout",
     "output_type": "stream",
     "text": [
      "\n",
      "....Updating header for 'jw02561001002_02101_00003_nrcblong_cal.fits' ...\n",
      "\n",
      "\n",
      "Processing jw02561001002_02101_00003_nrcblong_cal.fits['SCI',1]\n",
      "\n",
      "Updating header for jw02561001002_02101_00003_nrcblong_cal.fits[1]\n",
      "WCS Keywords\n",
      "\n",
      "CD_11  CD_12: -1.3087137498761944e-05 1.159125994355814e-05\n",
      "CD_21  CD_22: 1.1553557686316709e-05 1.3164418438945206e-05\n",
      "CRVAL    : 3.53753018566684 -30.371561033155924\n",
      "CRPIX    : 1024.417 1024.311\n",
      "NAXIS    : 2048 2048\n",
      "Plate Scale : 0.06284633563074901\n",
      "ORIENTAT : 41.363892608145754\n",
      "WCSNAME  :  PS1\n",
      "\n",
      "....Updating header for 'jw02561001002_02101_00004_nrcblong_cal.fits' ...\n",
      "\n",
      "\n",
      "Processing jw02561001002_02101_00004_nrcblong_cal.fits['SCI',1]\n",
      "\n",
      "Updating header for jw02561001002_02101_00004_nrcblong_cal.fits[1]\n",
      "WCS Keywords\n",
      "\n",
      "CD_11  CD_12: -1.3087410774830997e-05 1.1590948718809207e-05\n",
      "CD_21  CD_22: 1.1553248277841035e-05 1.3164692611049447e-05\n",
      "CRVAL    : 3.540201782116718 -30.37141046297779\n",
      "CRPIX    : 1024.417 1024.311\n",
      "NAXIS    : 2048 2048\n",
      "Plate Scale : 0.06284633600928499\n",
      "ORIENTAT : 41.36253775806412\n",
      "WCSNAME  :  PS1\n"
     ]
    },
    {
     "name": "stderr",
     "output_type": "stream",
     "text": [
      "2022-12-02 01:27:30,486 - stpipe - INFO - Setting up logfile :  astrodrizzle.log\n"
     ]
    },
    {
     "name": "stdout",
     "output_type": "stream",
     "text": [
      "# (2022-12-01 14:27:30.473)\n",
      "# abell2744-preimg-02561-001-041.0-nrcb5-f277w-clear: Second Drizzle\n",
      "Setting up logfile :  astrodrizzle.log\n"
     ]
    },
    {
     "name": "stderr",
     "output_type": "stream",
     "text": [
      "2022-12-02 01:27:30,487 - stpipe - INFO - AstroDrizzle log file: astrodrizzle.log\n"
     ]
    },
    {
     "name": "stdout",
     "output_type": "stream",
     "text": [
      "AstroDrizzle log file: astrodrizzle.log\n"
     ]
    },
    {
     "name": "stderr",
     "output_type": "stream",
     "text": [
      "2022-12-02 01:27:30,488 - stpipe - INFO - AstroDrizzle Version 3.5.0 started at: 01:27:30.487 (02/12/2022)\n"
     ]
    },
    {
     "name": "stdout",
     "output_type": "stream",
     "text": [
      "AstroDrizzle Version 3.5.0 started at: 01:27:30.487 (02/12/2022)\n"
     ]
    },
    {
     "name": "stderr",
     "output_type": "stream",
     "text": [
      "2022-12-02 01:27:30,488 - stpipe - INFO - \n"
     ]
    },
    {
     "name": "stdout",
     "output_type": "stream",
     "text": [
      "\n"
     ]
    },
    {
     "name": "stderr",
     "output_type": "stream",
     "text": [
      "2022-12-02 01:27:30,489 - stpipe - INFO - Version Information\n",
      "2022-12-02 01:27:30,489 - stpipe - INFO - --------------------\n",
      "2022-12-02 01:27:30,489 - stpipe - INFO - Python Version [Clang 14.0.6 ]\n",
      "2022-12-02 01:27:30,490 - stpipe - INFO - 3.9.15 (main, Nov 24 2022, 08:29:02) \n",
      "2022-12-02 01:27:30,490 - stpipe - INFO - numpy Version -> 1.23.5 \n",
      "2022-12-02 01:27:30,490 - stpipe - INFO - astropy Version -> 5.1.1 \n",
      "2022-12-02 01:27:30,491 - stpipe - INFO - stwcs Version -> 1.7.2 \n",
      "2022-12-02 01:27:30,491 - stpipe - INFO - ==== Processing Step  Initialization  started at  01:27:30.491 (02/12/2022)\n"
     ]
    },
    {
     "name": "stdout",
     "output_type": "stream",
     "text": [
      "==== Processing Step  Initialization  started at  01:27:30.491 (02/12/2022)\n"
     ]
    },
    {
     "name": "stderr",
     "output_type": "stream",
     "text": [
      "2022-12-02 01:27:30,492 - stpipe - INFO - \n"
     ]
    },
    {
     "name": "stdout",
     "output_type": "stream",
     "text": [
      "\n"
     ]
    },
    {
     "name": "stderr",
     "output_type": "stream",
     "text": [
      "2022-12-02 01:27:30,533 - stpipe - INFO - Executing serially\n",
      "2022-12-02 01:27:30,587 - stpipe - INFO - Setting up output name: abell2744-preimg-02561-001-041.0-nrcb5-f277w-clear_drz.fits\n",
      "2022-12-02 01:27:30,588 - stpipe - INFO - -Creating imageObject List as input for processing steps.\n",
      "2022-12-02 01:27:30,650 - stpipe - WARNING - /Users/ivo/anaconda/envs/jwst_nircam/lib/python3.9/site-packages/astropy/wcs/wcs.py:725: FITSFixedWarning: 'obsfix' made the change 'Set OBSGEO-L to    63.263556 from OBSGEO-[XYZ].\n",
      "Set OBSGEO-B to    28.494908 from OBSGEO-[XYZ].\n",
      "Set OBSGEO-H to 1394727362.015 from OBSGEO-[XYZ]'.\n",
      "  warnings.warn(\n",
      "\n",
      "2022-12-02 01:27:30,658 - stpipe - INFO - Reading in MDRIZSKY of 0.1126424595713615\n",
      "2022-12-02 01:27:30,734 - stpipe - WARNING - /Users/ivo/anaconda/envs/jwst_nircam/lib/python3.9/site-packages/astropy/wcs/wcs.py:725: FITSFixedWarning: 'obsfix' made the change 'Set OBSGEO-L to    63.281076 from OBSGEO-[XYZ].\n",
      "Set OBSGEO-B to    28.491626 from OBSGEO-[XYZ].\n",
      "Set OBSGEO-H to 1394836264.421 from OBSGEO-[XYZ]'.\n",
      "  warnings.warn(\n",
      "\n",
      "2022-12-02 01:27:30,741 - stpipe - INFO - Reading in MDRIZSKY of 0.1122989356517792\n",
      "2022-12-02 01:27:30,815 - stpipe - WARNING - /Users/ivo/anaconda/envs/jwst_nircam/lib/python3.9/site-packages/astropy/wcs/wcs.py:725: FITSFixedWarning: 'obsfix' made the change 'Set OBSGEO-L to    63.299758 from OBSGEO-[XYZ].\n",
      "Set OBSGEO-B to    28.488124 from OBSGEO-[XYZ].\n",
      "Set OBSGEO-H to 1394952435.627 from OBSGEO-[XYZ]'.\n",
      "  warnings.warn(\n",
      "\n",
      "2022-12-02 01:27:30,822 - stpipe - INFO - Reading in MDRIZSKY of 0.1135078817605972\n",
      "2022-12-02 01:27:30,894 - stpipe - WARNING - /Users/ivo/anaconda/envs/jwst_nircam/lib/python3.9/site-packages/astropy/wcs/wcs.py:725: FITSFixedWarning: 'obsfix' made the change 'Set OBSGEO-L to    63.317268 from OBSGEO-[XYZ].\n",
      "Set OBSGEO-B to    28.484837 from OBSGEO-[XYZ].\n",
      "Set OBSGEO-H to 1395061354.150 from OBSGEO-[XYZ]'.\n",
      "  warnings.warn(\n",
      "\n",
      "2022-12-02 01:27:30,900 - stpipe - INFO - Reading in MDRIZSKY of 0.1141258776187897\n",
      "2022-12-02 01:27:30,916 - stpipe - INFO - No context image will be created for jw02561001002_02101_00001_nrcblong_cal.fits\n",
      "2022-12-02 01:27:30,916 - stpipe - INFO - No context image will be created for jw02561001002_02101_00002_nrcblong_cal.fits\n",
      "2022-12-02 01:27:30,916 - stpipe - INFO - No context image will be created for jw02561001002_02101_00003_nrcblong_cal.fits\n",
      "2022-12-02 01:27:30,917 - stpipe - INFO - No context image will be created for jw02561001002_02101_00004_nrcblong_cal.fits\n",
      "2022-12-02 01:27:30,928 - stpipe - INFO - Reset bit values of 4096 to a value of 0 in jw02561001002_02101_00001_nrcblong_cal.fits[DQ,1]\n",
      "2022-12-02 01:27:30,959 - stpipe - INFO - Reset bit values of 4096 to a value of 0 in jw02561001002_02101_00002_nrcblong_cal.fits[DQ,1]\n",
      "2022-12-02 01:27:30,988 - stpipe - INFO - Reset bit values of 4096 to a value of 0 in jw02561001002_02101_00003_nrcblong_cal.fits[DQ,1]\n",
      "2022-12-02 01:27:31,016 - stpipe - INFO - Reset bit values of 4096 to a value of 0 in jw02561001002_02101_00004_nrcblong_cal.fits[DQ,1]\n",
      "2022-12-02 01:27:31,036 - stpipe - INFO - -Creating output WCS.\n",
      "2022-12-02 01:27:31,038 - stpipe - INFO - No context image will be created for abell2744-preimg-02561-001-041.0-nrcb5-f277w-clear_drz.fits\n",
      "2022-12-02 01:27:31,039 - stpipe - INFO - WCS Keywords\n"
     ]
    },
    {
     "name": "stdout",
     "output_type": "stream",
     "text": [
      "WCS Keywords\n"
     ]
    },
    {
     "name": "stderr",
     "output_type": "stream",
     "text": [
      "2022-12-02 01:27:31,040 - stpipe - INFO - \n"
     ]
    },
    {
     "name": "stdout",
     "output_type": "stream",
     "text": [
      "\n"
     ]
    },
    {
     "name": "stderr",
     "output_type": "stream",
     "text": [
      "2022-12-02 01:27:31,041 - stpipe - INFO - Number of WCS axes: 2\n"
     ]
    },
    {
     "name": "stdout",
     "output_type": "stream",
     "text": [
      "Number of WCS axes: 2\n"
     ]
    },
    {
     "name": "stderr",
     "output_type": "stream",
     "text": [
      "2022-12-02 01:27:31,041 - stpipe - INFO - CTYPE : 'RA---TAN'  'DEC--TAN'  \n"
     ]
    },
    {
     "name": "stdout",
     "output_type": "stream",
     "text": [
      "CTYPE : 'RA---TAN'  'DEC--TAN'  \n"
     ]
    },
    {
     "name": "stderr",
     "output_type": "stream",
     "text": [
      "2022-12-02 01:27:31,042 - stpipe - INFO - CRVAL : 3.5361508472383063  -30.371700571904164  \n"
     ]
    },
    {
     "name": "stdout",
     "output_type": "stream",
     "text": [
      "CRVAL : 3.5361508472383063  -30.371700571904164  \n"
     ]
    },
    {
     "name": "stderr",
     "output_type": "stream",
     "text": [
      "2022-12-02 01:27:31,042 - stpipe - INFO - CRPIX : 1177.5  1174.0  \n"
     ]
    },
    {
     "name": "stdout",
     "output_type": "stream",
     "text": [
      "CRPIX : 1177.5  1174.0  \n"
     ]
    },
    {
     "name": "stderr",
     "output_type": "stream",
     "text": [
      "2022-12-02 01:27:31,043 - stpipe - INFO - CD1_1 CD1_2  : -1.3132835480748115e-05  1.156431969667578e-05  \n"
     ]
    },
    {
     "name": "stdout",
     "output_type": "stream",
     "text": [
      "CD1_1 CD1_2  : -1.3132835480748115e-05  1.156431969667578e-05  \n"
     ]
    },
    {
     "name": "stderr",
     "output_type": "stream",
     "text": [
      "2022-12-02 01:27:31,044 - stpipe - INFO - CD2_1 CD2_2  : 1.156431969667578e-05  1.3132835480748115e-05  \n"
     ]
    },
    {
     "name": "stdout",
     "output_type": "stream",
     "text": [
      "CD2_1 CD2_2  : 1.156431969667578e-05  1.3132835480748115e-05  \n"
     ]
    },
    {
     "name": "stderr",
     "output_type": "stream",
     "text": [
      "2022-12-02 01:27:31,045 - stpipe - INFO - NAXIS : 2355  2348\n"
     ]
    },
    {
     "name": "stdout",
     "output_type": "stream",
     "text": [
      "NAXIS : 2355  2348\n"
     ]
    },
    {
     "name": "stderr",
     "output_type": "stream",
     "text": [
      "2022-12-02 01:27:31,045 - stpipe - INFO - ********************************************************************************\n"
     ]
    },
    {
     "name": "stdout",
     "output_type": "stream",
     "text": [
      "********************************************************************************\n"
     ]
    },
    {
     "name": "stderr",
     "output_type": "stream",
     "text": [
      "2022-12-02 01:27:31,046 - stpipe - INFO - *\n"
     ]
    },
    {
     "name": "stdout",
     "output_type": "stream",
     "text": [
      "*\n"
     ]
    },
    {
     "name": "stderr",
     "output_type": "stream",
     "text": [
      "2022-12-02 01:27:31,047 - stpipe - INFO - *  Estimated memory usage:  up to 381 Mb.\n"
     ]
    },
    {
     "name": "stdout",
     "output_type": "stream",
     "text": [
      "*  Estimated memory usage:  up to 381 Mb.\n"
     ]
    },
    {
     "name": "stderr",
     "output_type": "stream",
     "text": [
      "2022-12-02 01:27:31,047 - stpipe - INFO - *  Output image size:       2355 X 2348 pixels. \n"
     ]
    },
    {
     "name": "stdout",
     "output_type": "stream",
     "text": [
      "*  Output image size:       2355 X 2348 pixels. \n"
     ]
    },
    {
     "name": "stderr",
     "output_type": "stream",
     "text": [
      "2022-12-02 01:27:31,049 - stpipe - INFO - *  Output image file:       ~ 63 Mb. \n"
     ]
    },
    {
     "name": "stdout",
     "output_type": "stream",
     "text": [
      "*  Output image file:       ~ 63 Mb. \n"
     ]
    },
    {
     "name": "stderr",
     "output_type": "stream",
     "text": [
      "2022-12-02 01:27:31,049 - stpipe - INFO - *  Cores available:         4\n"
     ]
    },
    {
     "name": "stdout",
     "output_type": "stream",
     "text": [
      "*  Cores available:         4\n"
     ]
    },
    {
     "name": "stderr",
     "output_type": "stream",
     "text": [
      "2022-12-02 01:27:31,050 - stpipe - INFO - *\n"
     ]
    },
    {
     "name": "stdout",
     "output_type": "stream",
     "text": [
      "*\n"
     ]
    },
    {
     "name": "stderr",
     "output_type": "stream",
     "text": [
      "2022-12-02 01:27:31,051 - stpipe - INFO - ********************************************************************************\n"
     ]
    },
    {
     "name": "stdout",
     "output_type": "stream",
     "text": [
      "********************************************************************************\n"
     ]
    },
    {
     "name": "stderr",
     "output_type": "stream",
     "text": [
      "2022-12-02 01:27:31,051 - stpipe - INFO - ==== Processing Step Initialization finished at 01:27:31.051 (02/12/2022)\n"
     ]
    },
    {
     "name": "stdout",
     "output_type": "stream",
     "text": [
      "==== Processing Step Initialization finished at 01:27:31.051 (02/12/2022)\n"
     ]
    },
    {
     "name": "stderr",
     "output_type": "stream",
     "text": [
      "2022-12-02 01:27:31,052 - stpipe - INFO - USER INPUT PARAMETERS common to all Processing Steps:\n",
      "2022-12-02 01:27:31,053 - stpipe - INFO - \tbuild :\tFalse\n",
      "2022-12-02 01:27:31,053 - stpipe - INFO - \tcoeffs :\tTrue\n",
      "2022-12-02 01:27:31,053 - stpipe - INFO - \tcontext :\tFalse\n",
      "2022-12-02 01:27:31,054 - stpipe - INFO - \tcrbit :\t4096\n",
      "2022-12-02 01:27:31,054 - stpipe - INFO - \tgroup :\t\n",
      "2022-12-02 01:27:31,055 - stpipe - INFO - \tin_memory :\tFalse\n",
      "2022-12-02 01:27:31,055 - stpipe - INFO - \tinput :\t['jw02561001002_02101_00001_nrcblong_cal.fits', 'jw02561001002_02101_00002_nrcblong_cal.fits', 'jw02561001002_02101_00003_nrcblong_cal.fits', 'jw02561001002_02101_00004_nrcblong_cal.fits']\n",
      "2022-12-02 01:27:31,055 - stpipe - INFO - \tmdriztab :\tFalse\n",
      "2022-12-02 01:27:31,056 - stpipe - INFO - \tnum_cores :\tNone\n",
      "2022-12-02 01:27:31,056 - stpipe - INFO - \toutput :\tabell2744-preimg-02561-001-041.0-nrcb5-f277w-clear\n",
      "2022-12-02 01:27:31,057 - stpipe - INFO - \tproc_unit :\tnative\n",
      "2022-12-02 01:27:31,057 - stpipe - INFO - \tresetbits :\t4096\n",
      "2022-12-02 01:27:31,057 - stpipe - INFO - \trules_file :\t\n",
      "2022-12-02 01:27:31,057 - stpipe - INFO - \trunfile :\tastrodrizzle.log\n",
      "2022-12-02 01:27:31,058 - stpipe - INFO - \tstepsize :\t10\n",
      "2022-12-02 01:27:31,058 - stpipe - INFO - \tupdatewcs :\tFalse\n",
      "2022-12-02 01:27:31,059 - stpipe - INFO - \twcskey :\t\n",
      "2022-12-02 01:27:31,059 - stpipe - INFO - ==== Processing Step  Static Mask  started at  01:27:31.059 (02/12/2022)\n"
     ]
    },
    {
     "name": "stdout",
     "output_type": "stream",
     "text": [
      "==== Processing Step  Static Mask  started at  01:27:31.059 (02/12/2022)\n"
     ]
    },
    {
     "name": "stderr",
     "output_type": "stream",
     "text": [
      "2022-12-02 01:27:31,060 - stpipe - INFO - \n"
     ]
    },
    {
     "name": "stdout",
     "output_type": "stream",
     "text": [
      "\n"
     ]
    },
    {
     "name": "stderr",
     "output_type": "stream",
     "text": [
      "2022-12-02 01:27:31,061 - stpipe - INFO - USER INPUT PARAMETERS for Static Mask Step:\n",
      "2022-12-02 01:27:31,061 - stpipe - INFO - \tstatic :\tTrue\n",
      "2022-12-02 01:27:31,062 - stpipe - INFO - \tstatic_sig :\t4.0\n",
      "2022-12-02 01:27:31,062 - stpipe - INFO - Computing static mask:\n",
      "2022-12-02 01:27:31,062 - stpipe - INFO - \n",
      "2022-12-02 01:27:31,144 - stpipe - INFO -   mode =  0.110869;   rms = 0.016940;   static_sig = 4.00\n",
      "2022-12-02 01:27:31,147 - stpipe - INFO - Computing static mask:\n",
      "2022-12-02 01:27:31,147 - stpipe - INFO - \n",
      "2022-12-02 01:27:31,227 - stpipe - INFO -   mode =  0.110407;   rms = 0.017586;   static_sig = 4.00\n",
      "2022-12-02 01:27:31,230 - stpipe - INFO - Computing static mask:\n",
      "2022-12-02 01:27:31,230 - stpipe - INFO - \n",
      "2022-12-02 01:27:31,308 - stpipe - INFO -   mode =  0.110792;   rms = 0.019344;   static_sig = 4.00\n",
      "2022-12-02 01:27:31,311 - stpipe - INFO - Computing static mask:\n",
      "2022-12-02 01:27:31,311 - stpipe - INFO - \n",
      "2022-12-02 01:27:31,390 - stpipe - INFO -   mode =  0.111335;   rms = 0.019659;   static_sig = 4.00\n",
      "2022-12-02 01:27:31,413 - stpipe - INFO - Saving static mask to disk: ./_2048x2048_1_staticMask.fits\n",
      "2022-12-02 01:27:31,414 - stpipe - INFO - ==== Processing Step Static Mask finished at 01:27:31.414 (02/12/2022)\n"
     ]
    },
    {
     "name": "stdout",
     "output_type": "stream",
     "text": [
      "==== Processing Step Static Mask finished at 01:27:31.414 (02/12/2022)\n"
     ]
    },
    {
     "name": "stderr",
     "output_type": "stream",
     "text": [
      "2022-12-02 01:27:31,415 - stpipe - INFO - ==== Processing Step  Subtract Sky  started at  01:27:31.415 (02/12/2022)\n"
     ]
    },
    {
     "name": "stdout",
     "output_type": "stream",
     "text": [
      "==== Processing Step  Subtract Sky  started at  01:27:31.415 (02/12/2022)\n"
     ]
    },
    {
     "name": "stderr",
     "output_type": "stream",
     "text": [
      "2022-12-02 01:27:31,415 - stpipe - INFO - \n"
     ]
    },
    {
     "name": "stdout",
     "output_type": "stream",
     "text": [
      "\n"
     ]
    },
    {
     "name": "stderr",
     "output_type": "stream",
     "text": [
      "2022-12-02 01:27:31,416 - stpipe - INFO - USER INPUT PARAMETERS for Sky Subtraction Step:\n",
      "2022-12-02 01:27:31,416 - stpipe - INFO - \tsky_bits :\t0\n",
      "2022-12-02 01:27:31,417 - stpipe - INFO - \tskyclip :\t5\n",
      "2022-12-02 01:27:31,417 - stpipe - INFO - \tskyfile :\t\n",
      "2022-12-02 01:27:31,417 - stpipe - INFO - \tskylower :\tNone\n",
      "2022-12-02 01:27:31,418 - stpipe - INFO - \tskylsigma :\t4.0\n",
      "2022-12-02 01:27:31,418 - stpipe - INFO - \tskymask_cat :\t\n",
      "2022-12-02 01:27:31,418 - stpipe - INFO - \tskymethod :\tlocalmin\n",
      "2022-12-02 01:27:31,419 - stpipe - INFO - \tskystat :\tmedian\n",
      "2022-12-02 01:27:31,419 - stpipe - INFO - \tskysub :\tTrue\n",
      "2022-12-02 01:27:31,419 - stpipe - INFO - \tskyupper :\tNone\n",
      "2022-12-02 01:27:31,419 - stpipe - INFO - \tskyuser :\t\n",
      "2022-12-02 01:27:31,420 - stpipe - INFO - \tskyusigma :\t4.0\n",
      "2022-12-02 01:27:31,420 - stpipe - INFO - \tskywidth :\t0.1\n",
      "2022-12-02 01:27:31,420 - stpipe - INFO - \tuse_static :\tTrue\n",
      "2022-12-02 01:27:31,503 - stpipe - INFO - ***** skymatch started on 2022-12-02 01:27:31.503333\n"
     ]
    },
    {
     "name": "stdout",
     "output_type": "stream",
     "text": [
      "***** skymatch started on 2022-12-02 01:27:31.503333\n"
     ]
    },
    {
     "name": "stderr",
     "output_type": "stream",
     "text": [
      "2022-12-02 01:27:31,504 - stpipe - INFO -       Version 1.0.9\n"
     ]
    },
    {
     "name": "stdout",
     "output_type": "stream",
     "text": [
      "      Version 1.0.9\n"
     ]
    },
    {
     "name": "stderr",
     "output_type": "stream",
     "text": [
      "2022-12-02 01:27:31,505 - stpipe - INFO - \n"
     ]
    },
    {
     "name": "stdout",
     "output_type": "stream",
     "text": [
      "\n"
     ]
    },
    {
     "name": "stderr",
     "output_type": "stream",
     "text": [
      "2022-12-02 01:27:31,505 - stpipe - INFO - 'skymatch' task will apply computed sky differences to input image file(s).\n"
     ]
    },
    {
     "name": "stdout",
     "output_type": "stream",
     "text": [
      "'skymatch' task will apply computed sky differences to input image file(s).\n"
     ]
    },
    {
     "name": "stderr",
     "output_type": "stream",
     "text": [
      "2022-12-02 01:27:31,506 - stpipe - INFO - \n"
     ]
    },
    {
     "name": "stdout",
     "output_type": "stream",
     "text": [
      "\n"
     ]
    },
    {
     "name": "stderr",
     "output_type": "stream",
     "text": [
      "2022-12-02 01:27:31,506 - stpipe - INFO - NOTE: Computed sky values WILL NOT be subtracted from image data ('subtractsky'=False).\n"
     ]
    },
    {
     "name": "stdout",
     "output_type": "stream",
     "text": [
      "NOTE: Computed sky values WILL NOT be subtracted from image data ('subtractsky'=False).\n"
     ]
    },
    {
     "name": "stderr",
     "output_type": "stream",
     "text": [
      "2022-12-02 01:27:31,507 - stpipe - INFO - 'MDRIZSKY' header keyword will represent sky value *computed* from data.\n"
     ]
    },
    {
     "name": "stdout",
     "output_type": "stream",
     "text": [
      "'MDRIZSKY' header keyword will represent sky value *computed* from data.\n"
     ]
    },
    {
     "name": "stderr",
     "output_type": "stream",
     "text": [
      "2022-12-02 01:27:31,508 - stpipe - INFO - \n"
     ]
    },
    {
     "name": "stdout",
     "output_type": "stream",
     "text": [
      "\n"
     ]
    },
    {
     "name": "stderr",
     "output_type": "stream",
     "text": [
      "2022-12-02 01:27:31,508 - stpipe - INFO - -----  User specified keywords:  -----\n"
     ]
    },
    {
     "name": "stdout",
     "output_type": "stream",
     "text": [
      "-----  User specified keywords:  -----\n"
     ]
    },
    {
     "name": "stderr",
     "output_type": "stream",
     "text": [
      "2022-12-02 01:27:31,509 - stpipe - INFO -        Sky Value Keyword:  'MDRIZSKY'\n"
     ]
    },
    {
     "name": "stdout",
     "output_type": "stream",
     "text": [
      "       Sky Value Keyword:  'MDRIZSKY'\n"
     ]
    },
    {
     "name": "stderr",
     "output_type": "stream",
     "text": [
      "2022-12-02 01:27:31,510 - stpipe - INFO -        Data Units Keyword: 'BUNIT'\n"
     ]
    },
    {
     "name": "stdout",
     "output_type": "stream",
     "text": [
      "       Data Units Keyword: 'BUNIT'\n"
     ]
    },
    {
     "name": "stderr",
     "output_type": "stream",
     "text": [
      "2022-12-02 01:27:31,511 - stpipe - INFO - \n"
     ]
    },
    {
     "name": "stdout",
     "output_type": "stream",
     "text": [
      "\n"
     ]
    },
    {
     "name": "stderr",
     "output_type": "stream",
     "text": [
      "2022-12-02 01:27:31,513 - stpipe - INFO - \n"
     ]
    },
    {
     "name": "stdout",
     "output_type": "stream",
     "text": [
      "\n"
     ]
    },
    {
     "name": "stderr",
     "output_type": "stream",
     "text": [
      "2022-12-02 01:27:31,513 - stpipe - INFO - -----  Input file list:  -----\n"
     ]
    },
    {
     "name": "stdout",
     "output_type": "stream",
     "text": [
      "-----  Input file list:  -----\n"
     ]
    },
    {
     "name": "stderr",
     "output_type": "stream",
     "text": [
      "2022-12-02 01:27:31,514 - stpipe - INFO - \n"
     ]
    },
    {
     "name": "stdout",
     "output_type": "stream",
     "text": [
      "\n"
     ]
    },
    {
     "name": "stderr",
     "output_type": "stream",
     "text": [
      "2022-12-02 01:27:31,515 - stpipe - INFO -    **  Input image: 'jw02561001002_02101_00001_nrcblong_cal.fits'\n"
     ]
    },
    {
     "name": "stdout",
     "output_type": "stream",
     "text": [
      "   **  Input image: 'jw02561001002_02101_00001_nrcblong_cal.fits'\n"
     ]
    },
    {
     "name": "stderr",
     "output_type": "stream",
     "text": [
      "2022-12-02 01:27:31,516 - stpipe - INFO -        EXT: 'SCI',1;\tMASK: jw02561001002_02101_00001_nrcblong_skymatch_mask_sci1.fits[0]\n"
     ]
    },
    {
     "name": "stdout",
     "output_type": "stream",
     "text": [
      "       EXT: 'SCI',1;\tMASK: jw02561001002_02101_00001_nrcblong_skymatch_mask_sci1.fits[0]\n"
     ]
    },
    {
     "name": "stderr",
     "output_type": "stream",
     "text": [
      "2022-12-02 01:27:31,516 - stpipe - INFO - \n"
     ]
    },
    {
     "name": "stdout",
     "output_type": "stream",
     "text": [
      "\n"
     ]
    },
    {
     "name": "stderr",
     "output_type": "stream",
     "text": [
      "2022-12-02 01:27:31,517 - stpipe - INFO -    **  Input image: 'jw02561001002_02101_00002_nrcblong_cal.fits'\n"
     ]
    },
    {
     "name": "stdout",
     "output_type": "stream",
     "text": [
      "   **  Input image: 'jw02561001002_02101_00002_nrcblong_cal.fits'\n"
     ]
    },
    {
     "name": "stderr",
     "output_type": "stream",
     "text": [
      "2022-12-02 01:27:31,518 - stpipe - INFO -        EXT: 'SCI',1;\tMASK: jw02561001002_02101_00002_nrcblong_skymatch_mask_sci1.fits[0]\n"
     ]
    },
    {
     "name": "stdout",
     "output_type": "stream",
     "text": [
      "       EXT: 'SCI',1;\tMASK: jw02561001002_02101_00002_nrcblong_skymatch_mask_sci1.fits[0]\n"
     ]
    },
    {
     "name": "stderr",
     "output_type": "stream",
     "text": [
      "2022-12-02 01:27:31,518 - stpipe - INFO - \n"
     ]
    },
    {
     "name": "stdout",
     "output_type": "stream",
     "text": [
      "\n"
     ]
    },
    {
     "name": "stderr",
     "output_type": "stream",
     "text": [
      "2022-12-02 01:27:31,519 - stpipe - INFO -    **  Input image: 'jw02561001002_02101_00003_nrcblong_cal.fits'\n"
     ]
    },
    {
     "name": "stdout",
     "output_type": "stream",
     "text": [
      "   **  Input image: 'jw02561001002_02101_00003_nrcblong_cal.fits'\n"
     ]
    },
    {
     "name": "stderr",
     "output_type": "stream",
     "text": [
      "2022-12-02 01:27:31,520 - stpipe - INFO -        EXT: 'SCI',1;\tMASK: jw02561001002_02101_00003_nrcblong_skymatch_mask_sci1.fits[0]\n"
     ]
    },
    {
     "name": "stdout",
     "output_type": "stream",
     "text": [
      "       EXT: 'SCI',1;\tMASK: jw02561001002_02101_00003_nrcblong_skymatch_mask_sci1.fits[0]\n"
     ]
    },
    {
     "name": "stderr",
     "output_type": "stream",
     "text": [
      "2022-12-02 01:27:31,520 - stpipe - INFO - \n"
     ]
    },
    {
     "name": "stdout",
     "output_type": "stream",
     "text": [
      "\n"
     ]
    },
    {
     "name": "stderr",
     "output_type": "stream",
     "text": [
      "2022-12-02 01:27:31,521 - stpipe - INFO -    **  Input image: 'jw02561001002_02101_00004_nrcblong_cal.fits'\n"
     ]
    },
    {
     "name": "stdout",
     "output_type": "stream",
     "text": [
      "   **  Input image: 'jw02561001002_02101_00004_nrcblong_cal.fits'\n"
     ]
    },
    {
     "name": "stderr",
     "output_type": "stream",
     "text": [
      "2022-12-02 01:27:31,522 - stpipe - INFO -        EXT: 'SCI',1;\tMASK: jw02561001002_02101_00004_nrcblong_skymatch_mask_sci1.fits[0]\n"
     ]
    },
    {
     "name": "stdout",
     "output_type": "stream",
     "text": [
      "       EXT: 'SCI',1;\tMASK: jw02561001002_02101_00004_nrcblong_skymatch_mask_sci1.fits[0]\n"
     ]
    },
    {
     "name": "stderr",
     "output_type": "stream",
     "text": [
      "2022-12-02 01:27:31,523 - stpipe - INFO - \n"
     ]
    },
    {
     "name": "stdout",
     "output_type": "stream",
     "text": [
      "\n"
     ]
    },
    {
     "name": "stderr",
     "output_type": "stream",
     "text": [
      "2022-12-02 01:27:31,524 - stpipe - INFO - -----  Sky statistics parameters:  -----\n"
     ]
    },
    {
     "name": "stdout",
     "output_type": "stream",
     "text": [
      "-----  Sky statistics parameters:  -----\n"
     ]
    },
    {
     "name": "stderr",
     "output_type": "stream",
     "text": [
      "2022-12-02 01:27:31,524 - stpipe - INFO -        statistics function: 'median'\n"
     ]
    },
    {
     "name": "stdout",
     "output_type": "stream",
     "text": [
      "       statistics function: 'median'\n"
     ]
    },
    {
     "name": "stderr",
     "output_type": "stream",
     "text": [
      "2022-12-02 01:27:31,525 - stpipe - INFO -        lower = None\n"
     ]
    },
    {
     "name": "stdout",
     "output_type": "stream",
     "text": [
      "       lower = None\n"
     ]
    },
    {
     "name": "stderr",
     "output_type": "stream",
     "text": [
      "2022-12-02 01:27:31,526 - stpipe - INFO -        upper = None\n"
     ]
    },
    {
     "name": "stdout",
     "output_type": "stream",
     "text": [
      "       upper = None\n"
     ]
    },
    {
     "name": "stderr",
     "output_type": "stream",
     "text": [
      "2022-12-02 01:27:31,527 - stpipe - INFO -        nclip = 5\n"
     ]
    },
    {
     "name": "stdout",
     "output_type": "stream",
     "text": [
      "       nclip = 5\n"
     ]
    },
    {
     "name": "stderr",
     "output_type": "stream",
     "text": [
      "2022-12-02 01:27:31,528 - stpipe - INFO -        lsigma = 4.0\n"
     ]
    },
    {
     "name": "stdout",
     "output_type": "stream",
     "text": [
      "       lsigma = 4.0\n"
     ]
    },
    {
     "name": "stderr",
     "output_type": "stream",
     "text": [
      "2022-12-02 01:27:31,528 - stpipe - INFO -        usigma = 4.0\n"
     ]
    },
    {
     "name": "stdout",
     "output_type": "stream",
     "text": [
      "       usigma = 4.0\n"
     ]
    },
    {
     "name": "stderr",
     "output_type": "stream",
     "text": [
      "2022-12-02 01:27:31,529 - stpipe - INFO -        binwidth = 0.1\n"
     ]
    },
    {
     "name": "stdout",
     "output_type": "stream",
     "text": [
      "       binwidth = 0.1\n"
     ]
    },
    {
     "name": "stderr",
     "output_type": "stream",
     "text": [
      "2022-12-02 01:27:31,530 - stpipe - INFO - \n"
     ]
    },
    {
     "name": "stdout",
     "output_type": "stream",
     "text": [
      "\n"
     ]
    },
    {
     "name": "stderr",
     "output_type": "stream",
     "text": [
      "2022-12-02 01:27:31,530 - stpipe - INFO - -----  Data->Brightness conversion parameters for input files:  -----\n"
     ]
    },
    {
     "name": "stdout",
     "output_type": "stream",
     "text": [
      "-----  Data->Brightness conversion parameters for input files:  -----\n"
     ]
    },
    {
     "name": "stderr",
     "output_type": "stream",
     "text": [
      "2022-12-02 01:27:31,531 - stpipe - INFO - \n"
     ]
    },
    {
     "name": "stdout",
     "output_type": "stream",
     "text": [
      "\n"
     ]
    },
    {
     "name": "stderr",
     "output_type": "stream",
     "text": [
      "2022-12-02 01:27:31,532 - stpipe - INFO -    *   Image: jw02561001002_02101_00001_nrcblong_cal.fits\n"
     ]
    },
    {
     "name": "stdout",
     "output_type": "stream",
     "text": [
      "   *   Image: jw02561001002_02101_00001_nrcblong_cal.fits\n"
     ]
    },
    {
     "name": "stderr",
     "output_type": "stream",
     "text": [
      "2022-12-02 01:27:31,544 - stpipe - WARNING - /Users/ivo/anaconda/envs/jwst_nircam/lib/python3.9/site-packages/astropy/wcs/wcs.py:725: FITSFixedWarning: 'obsfix' made the change 'Set OBSGEO-L to    63.263556 from OBSGEO-[XYZ].\n",
      "Set OBSGEO-B to    28.494908 from OBSGEO-[XYZ].\n",
      "Set OBSGEO-H to 1394727362.015 from OBSGEO-[XYZ]'.\n",
      "  warnings.warn(\n",
      "\n",
      "2022-12-02 01:27:31,547 - stpipe - INFO -        EXT = 'SCI',1\n"
     ]
    },
    {
     "name": "stdout",
     "output_type": "stream",
     "text": [
      "       EXT = 'SCI',1\n"
     ]
    },
    {
     "name": "stderr",
     "output_type": "stream",
     "text": [
      "2022-12-02 01:27:31,547 - stpipe - INFO -              Data units type: COUNT-RATE\n"
     ]
    },
    {
     "name": "stdout",
     "output_type": "stream",
     "text": [
      "             Data units type: COUNT-RATE\n"
     ]
    },
    {
     "name": "stderr",
     "output_type": "stream",
     "text": [
      "2022-12-02 01:27:31,548 - stpipe - INFO -              Conversion factor (data->brightness):  251.9897769705075\n"
     ]
    },
    {
     "name": "stdout",
     "output_type": "stream",
     "text": [
      "             Conversion factor (data->brightness):  251.9897769705075\n"
     ]
    },
    {
     "name": "stderr",
     "output_type": "stream",
     "text": [
      "2022-12-02 01:27:31,549 - stpipe - INFO - \n"
     ]
    },
    {
     "name": "stdout",
     "output_type": "stream",
     "text": [
      "\n"
     ]
    },
    {
     "name": "stderr",
     "output_type": "stream",
     "text": [
      "2022-12-02 01:27:31,550 - stpipe - INFO -    *   Image: jw02561001002_02101_00002_nrcblong_cal.fits\n"
     ]
    },
    {
     "name": "stdout",
     "output_type": "stream",
     "text": [
      "   *   Image: jw02561001002_02101_00002_nrcblong_cal.fits\n"
     ]
    },
    {
     "name": "stderr",
     "output_type": "stream",
     "text": [
      "2022-12-02 01:27:31,562 - stpipe - WARNING - /Users/ivo/anaconda/envs/jwst_nircam/lib/python3.9/site-packages/astropy/wcs/wcs.py:725: FITSFixedWarning: 'obsfix' made the change 'Set OBSGEO-L to    63.281076 from OBSGEO-[XYZ].\n",
      "Set OBSGEO-B to    28.491626 from OBSGEO-[XYZ].\n",
      "Set OBSGEO-H to 1394836264.421 from OBSGEO-[XYZ]'.\n",
      "  warnings.warn(\n",
      "\n",
      "2022-12-02 01:27:31,564 - stpipe - INFO -        EXT = 'SCI',1\n"
     ]
    },
    {
     "name": "stdout",
     "output_type": "stream",
     "text": [
      "       EXT = 'SCI',1\n"
     ]
    },
    {
     "name": "stderr",
     "output_type": "stream",
     "text": [
      "2022-12-02 01:27:31,564 - stpipe - INFO -              Data units type: COUNT-RATE\n"
     ]
    },
    {
     "name": "stdout",
     "output_type": "stream",
     "text": [
      "             Data units type: COUNT-RATE\n"
     ]
    },
    {
     "name": "stderr",
     "output_type": "stream",
     "text": [
      "2022-12-02 01:27:31,565 - stpipe - INFO -              Conversion factor (data->brightness):  251.98978027835315\n"
     ]
    },
    {
     "name": "stdout",
     "output_type": "stream",
     "text": [
      "             Conversion factor (data->brightness):  251.98978027835315\n"
     ]
    },
    {
     "name": "stderr",
     "output_type": "stream",
     "text": [
      "2022-12-02 01:27:31,566 - stpipe - INFO - \n"
     ]
    },
    {
     "name": "stdout",
     "output_type": "stream",
     "text": [
      "\n"
     ]
    },
    {
     "name": "stderr",
     "output_type": "stream",
     "text": [
      "2022-12-02 01:27:31,567 - stpipe - INFO -    *   Image: jw02561001002_02101_00003_nrcblong_cal.fits\n"
     ]
    },
    {
     "name": "stdout",
     "output_type": "stream",
     "text": [
      "   *   Image: jw02561001002_02101_00003_nrcblong_cal.fits\n"
     ]
    },
    {
     "name": "stderr",
     "output_type": "stream",
     "text": [
      "2022-12-02 01:27:31,579 - stpipe - WARNING - /Users/ivo/anaconda/envs/jwst_nircam/lib/python3.9/site-packages/astropy/wcs/wcs.py:725: FITSFixedWarning: 'obsfix' made the change 'Set OBSGEO-L to    63.299758 from OBSGEO-[XYZ].\n",
      "Set OBSGEO-B to    28.488124 from OBSGEO-[XYZ].\n",
      "Set OBSGEO-H to 1394952435.627 from OBSGEO-[XYZ]'.\n",
      "  warnings.warn(\n",
      "\n",
      "2022-12-02 01:27:31,581 - stpipe - INFO -        EXT = 'SCI',1\n"
     ]
    },
    {
     "name": "stdout",
     "output_type": "stream",
     "text": [
      "       EXT = 'SCI',1\n"
     ]
    },
    {
     "name": "stderr",
     "output_type": "stream",
     "text": [
      "2022-12-02 01:27:31,582 - stpipe - INFO -              Data units type: COUNT-RATE\n"
     ]
    },
    {
     "name": "stdout",
     "output_type": "stream",
     "text": [
      "             Data units type: COUNT-RATE\n"
     ]
    },
    {
     "name": "stderr",
     "output_type": "stream",
     "text": [
      "2022-12-02 01:27:31,583 - stpipe - INFO -              Conversion factor (data->brightness):  251.98978793270982\n"
     ]
    },
    {
     "name": "stdout",
     "output_type": "stream",
     "text": [
      "             Conversion factor (data->brightness):  251.98978793270982\n"
     ]
    },
    {
     "name": "stderr",
     "output_type": "stream",
     "text": [
      "2022-12-02 01:27:31,584 - stpipe - INFO - \n"
     ]
    },
    {
     "name": "stdout",
     "output_type": "stream",
     "text": [
      "\n"
     ]
    },
    {
     "name": "stderr",
     "output_type": "stream",
     "text": [
      "2022-12-02 01:27:31,585 - stpipe - INFO -    *   Image: jw02561001002_02101_00004_nrcblong_cal.fits\n"
     ]
    },
    {
     "name": "stdout",
     "output_type": "stream",
     "text": [
      "   *   Image: jw02561001002_02101_00004_nrcblong_cal.fits\n"
     ]
    },
    {
     "name": "stderr",
     "output_type": "stream",
     "text": [
      "2022-12-02 01:27:31,597 - stpipe - WARNING - /Users/ivo/anaconda/envs/jwst_nircam/lib/python3.9/site-packages/astropy/wcs/wcs.py:725: FITSFixedWarning: 'obsfix' made the change 'Set OBSGEO-L to    63.317268 from OBSGEO-[XYZ].\n",
      "Set OBSGEO-B to    28.484837 from OBSGEO-[XYZ].\n",
      "Set OBSGEO-H to 1395061354.150 from OBSGEO-[XYZ]'.\n",
      "  warnings.warn(\n",
      "\n",
      "2022-12-02 01:27:31,599 - stpipe - INFO -        EXT = 'SCI',1\n"
     ]
    },
    {
     "name": "stdout",
     "output_type": "stream",
     "text": [
      "       EXT = 'SCI',1\n"
     ]
    },
    {
     "name": "stderr",
     "output_type": "stream",
     "text": [
      "2022-12-02 01:27:31,600 - stpipe - INFO -              Data units type: COUNT-RATE\n"
     ]
    },
    {
     "name": "stdout",
     "output_type": "stream",
     "text": [
      "             Data units type: COUNT-RATE\n"
     ]
    },
    {
     "name": "stderr",
     "output_type": "stream",
     "text": [
      "2022-12-02 01:27:31,601 - stpipe - INFO -              Conversion factor (data->brightness):  251.98978489974715\n"
     ]
    },
    {
     "name": "stdout",
     "output_type": "stream",
     "text": [
      "             Conversion factor (data->brightness):  251.98978489974715\n"
     ]
    },
    {
     "name": "stderr",
     "output_type": "stream",
     "text": [
      "2022-12-02 01:27:31,602 - stpipe - INFO - \n"
     ]
    },
    {
     "name": "stdout",
     "output_type": "stream",
     "text": [
      "\n"
     ]
    },
    {
     "name": "stderr",
     "output_type": "stream",
     "text": [
      "2022-12-02 01:27:31,603 - stpipe - INFO - \n"
     ]
    },
    {
     "name": "stdout",
     "output_type": "stream",
     "text": [
      "\n"
     ]
    },
    {
     "name": "stderr",
     "output_type": "stream",
     "text": [
      "2022-12-02 01:27:31,603 - stpipe - INFO - -----  Computing sky values requested image extensions (detector chips):  -----\n"
     ]
    },
    {
     "name": "stdout",
     "output_type": "stream",
     "text": [
      "-----  Computing sky values requested image extensions (detector chips):  -----\n"
     ]
    },
    {
     "name": "stderr",
     "output_type": "stream",
     "text": [
      "2022-12-02 01:27:31,604 - stpipe - INFO - \n"
     ]
    },
    {
     "name": "stdout",
     "output_type": "stream",
     "text": [
      "\n"
     ]
    },
    {
     "name": "stderr",
     "output_type": "stream",
     "text": [
      "2022-12-02 01:27:31,738 - stpipe - INFO -    *   Image:   'jw02561001002_02101_00001_nrcblong_cal.fits['SCI',1]'  --  SKY = 28.384748264796805 (brightness units)\n"
     ]
    },
    {
     "name": "stdout",
     "output_type": "stream",
     "text": [
      "   *   Image:   'jw02561001002_02101_00001_nrcblong_cal.fits['SCI',1]'  --  SKY = 28.384748264796805 (brightness units)\n"
     ]
    },
    {
     "name": "stderr",
     "output_type": "stream",
     "text": [
      "2022-12-02 01:27:31,739 - stpipe - INFO -        Sky change (data units):\n"
     ]
    },
    {
     "name": "stdout",
     "output_type": "stream",
     "text": [
      "       Sky change (data units):\n"
     ]
    },
    {
     "name": "stderr",
     "output_type": "stream",
     "text": [
      "2022-12-02 01:27:31,739 - stpipe - INFO -       - EXT = 'SCI',1   delta(MDRIZSKY) = 0.112642   NEW MDRIZSKY = 0.112642\n"
     ]
    },
    {
     "name": "stdout",
     "output_type": "stream",
     "text": [
      "      - EXT = 'SCI',1   delta(MDRIZSKY) = 0.112642   NEW MDRIZSKY = 0.112642\n"
     ]
    },
    {
     "name": "stderr",
     "output_type": "stream",
     "text": [
      "2022-12-02 01:27:31,863 - stpipe - INFO -    *   Image:   'jw02561001002_02101_00002_nrcblong_cal.fits['SCI',1]'  --  SKY = 28.298184120384754 (brightness units)\n"
     ]
    },
    {
     "name": "stdout",
     "output_type": "stream",
     "text": [
      "   *   Image:   'jw02561001002_02101_00002_nrcblong_cal.fits['SCI',1]'  --  SKY = 28.298184120384754 (brightness units)\n"
     ]
    },
    {
     "name": "stderr",
     "output_type": "stream",
     "text": [
      "2022-12-02 01:27:31,864 - stpipe - INFO -        Sky change (data units):\n"
     ]
    },
    {
     "name": "stdout",
     "output_type": "stream",
     "text": [
      "       Sky change (data units):\n"
     ]
    },
    {
     "name": "stderr",
     "output_type": "stream",
     "text": [
      "2022-12-02 01:27:31,865 - stpipe - INFO -       - EXT = 'SCI',1   delta(MDRIZSKY) = 0.112299   NEW MDRIZSKY = 0.112299\n"
     ]
    },
    {
     "name": "stdout",
     "output_type": "stream",
     "text": [
      "      - EXT = 'SCI',1   delta(MDRIZSKY) = 0.112299   NEW MDRIZSKY = 0.112299\n"
     ]
    },
    {
     "name": "stderr",
     "output_type": "stream",
     "text": [
      "2022-12-02 01:27:31,989 - stpipe - INFO -    *   Image:   'jw02561001002_02101_00003_nrcblong_cal.fits['SCI',1]'  --  SKY = 28.602827053543997 (brightness units)\n"
     ]
    },
    {
     "name": "stdout",
     "output_type": "stream",
     "text": [
      "   *   Image:   'jw02561001002_02101_00003_nrcblong_cal.fits['SCI',1]'  --  SKY = 28.602827053543997 (brightness units)\n"
     ]
    },
    {
     "name": "stderr",
     "output_type": "stream",
     "text": [
      "2022-12-02 01:27:31,990 - stpipe - INFO -        Sky change (data units):\n"
     ]
    },
    {
     "name": "stdout",
     "output_type": "stream",
     "text": [
      "       Sky change (data units):\n"
     ]
    },
    {
     "name": "stderr",
     "output_type": "stream",
     "text": [
      "2022-12-02 01:27:31,991 - stpipe - INFO -       - EXT = 'SCI',1   delta(MDRIZSKY) = 0.113508   NEW MDRIZSKY = 0.113508\n"
     ]
    },
    {
     "name": "stdout",
     "output_type": "stream",
     "text": [
      "      - EXT = 'SCI',1   delta(MDRIZSKY) = 0.113508   NEW MDRIZSKY = 0.113508\n"
     ]
    },
    {
     "name": "stderr",
     "output_type": "stream",
     "text": [
      "2022-12-02 01:27:32,124 - stpipe - INFO -    *   Image:   'jw02561001002_02101_00004_nrcblong_cal.fits['SCI',1]'  --  SKY = 28.758555352653676 (brightness units)\n"
     ]
    },
    {
     "name": "stdout",
     "output_type": "stream",
     "text": [
      "   *   Image:   'jw02561001002_02101_00004_nrcblong_cal.fits['SCI',1]'  --  SKY = 28.758555352653676 (brightness units)\n"
     ]
    },
    {
     "name": "stderr",
     "output_type": "stream",
     "text": [
      "2022-12-02 01:27:32,125 - stpipe - INFO -        Sky change (data units):\n"
     ]
    },
    {
     "name": "stdout",
     "output_type": "stream",
     "text": [
      "       Sky change (data units):\n"
     ]
    },
    {
     "name": "stderr",
     "output_type": "stream",
     "text": [
      "2022-12-02 01:27:32,126 - stpipe - INFO -       - EXT = 'SCI',1   delta(MDRIZSKY) = 0.114126   NEW MDRIZSKY = 0.114126\n"
     ]
    },
    {
     "name": "stdout",
     "output_type": "stream",
     "text": [
      "      - EXT = 'SCI',1   delta(MDRIZSKY) = 0.114126   NEW MDRIZSKY = 0.114126\n"
     ]
    },
    {
     "name": "stderr",
     "output_type": "stream",
     "text": [
      "2022-12-02 01:27:32,127 - stpipe - INFO - ***** skymatch ended on 2022-12-02 01:27:32.127408\n"
     ]
    },
    {
     "name": "stdout",
     "output_type": "stream",
     "text": [
      "***** skymatch ended on 2022-12-02 01:27:32.127408\n"
     ]
    },
    {
     "name": "stderr",
     "output_type": "stream",
     "text": [
      "2022-12-02 01:27:32,128 - stpipe - INFO - TOTAL RUN TIME: 0:00:00.624075\n"
     ]
    },
    {
     "name": "stdout",
     "output_type": "stream",
     "text": [
      "TOTAL RUN TIME: 0:00:00.624075\n"
     ]
    },
    {
     "name": "stderr",
     "output_type": "stream",
     "text": [
      "2022-12-02 01:27:32,212 - stpipe - INFO - ==== Processing Step Subtract Sky finished at 01:27:32.212 (02/12/2022)\n"
     ]
    },
    {
     "name": "stdout",
     "output_type": "stream",
     "text": [
      "==== Processing Step Subtract Sky finished at 01:27:32.212 (02/12/2022)\n"
     ]
    },
    {
     "name": "stderr",
     "output_type": "stream",
     "text": [
      "2022-12-02 01:27:32,213 - stpipe - INFO - ==== Processing Step  Separate Drizzle  started at  01:27:32.213 (02/12/2022)\n"
     ]
    },
    {
     "name": "stdout",
     "output_type": "stream",
     "text": [
      "==== Processing Step  Separate Drizzle  started at  01:27:32.213 (02/12/2022)\n"
     ]
    },
    {
     "name": "stderr",
     "output_type": "stream",
     "text": [
      "2022-12-02 01:27:32,214 - stpipe - INFO - \n"
     ]
    },
    {
     "name": "stdout",
     "output_type": "stream",
     "text": [
      "\n"
     ]
    },
    {
     "name": "stderr",
     "output_type": "stream",
     "text": [
      "2022-12-02 01:27:32,214 - stpipe - INFO - Interpreted paramDict with single=True as:\n",
      "2022-12-02 01:27:32,215 - stpipe - INFO - {'build': False, 'stepsize': 10, 'coeffs': True, 'wcskey': '', 'kernel': 'turbo', 'wt_scl': 'exptime', 'pixfrac': 1.0, 'fillval': None, 'bits': 4, 'compress': False, 'units': 'cps'}\n",
      "2022-12-02 01:27:32,215 - stpipe - INFO - USER INPUT PARAMETERS for Separate Drizzle Step:\n",
      "2022-12-02 01:27:32,215 - stpipe - INFO - \tbits :\t4\n",
      "2022-12-02 01:27:32,215 - stpipe - INFO - \tbuild :\tFalse\n",
      "2022-12-02 01:27:32,216 - stpipe - INFO - \tclean :\tTrue\n",
      "2022-12-02 01:27:32,216 - stpipe - INFO - \tcoeffs :\tTrue\n",
      "2022-12-02 01:27:32,216 - stpipe - INFO - \tcompress :\tFalse\n",
      "2022-12-02 01:27:32,217 - stpipe - INFO - \tcrbit :\tNone\n",
      "2022-12-02 01:27:32,217 - stpipe - INFO - \tfillval :\tNone\n",
      "2022-12-02 01:27:32,217 - stpipe - INFO - \tkernel :\tturbo\n",
      "2022-12-02 01:27:32,217 - stpipe - INFO - \tnum_cores :\tNone\n",
      "2022-12-02 01:27:32,218 - stpipe - INFO - \tpixfrac :\t1.0\n",
      "2022-12-02 01:27:32,218 - stpipe - INFO - \tproc_unit :\telectrons\n",
      "2022-12-02 01:27:32,219 - stpipe - INFO - \trules_file :\tNone\n",
      "2022-12-02 01:27:32,219 - stpipe - INFO - \tstepsize :\t10\n",
      "2022-12-02 01:27:32,220 - stpipe - INFO - \tunits :\tcps\n",
      "2022-12-02 01:27:32,220 - stpipe - INFO - \twcskey :\t\n",
      "2022-12-02 01:27:32,220 - stpipe - INFO - \twht_type :\tNone\n",
      "2022-12-02 01:27:32,221 - stpipe - INFO - \twt_scl :\texptime\n",
      "2022-12-02 01:27:32,221 - stpipe - INFO -   **Using sub-sampling value of 10 for kernel turbo\n",
      "2022-12-02 01:27:32,221 - stpipe - INFO - Running Drizzle to create output frame with WCS of: \n",
      "2022-12-02 01:27:32,222 - stpipe - INFO - WCS Keywords\n"
     ]
    },
    {
     "name": "stdout",
     "output_type": "stream",
     "text": [
      "WCS Keywords\n"
     ]
    },
    {
     "name": "stderr",
     "output_type": "stream",
     "text": [
      "2022-12-02 01:27:32,223 - stpipe - INFO - \n"
     ]
    },
    {
     "name": "stdout",
     "output_type": "stream",
     "text": [
      "\n"
     ]
    },
    {
     "name": "stderr",
     "output_type": "stream",
     "text": [
      "2022-12-02 01:27:32,223 - stpipe - INFO - Number of WCS axes: 2\n"
     ]
    },
    {
     "name": "stdout",
     "output_type": "stream",
     "text": [
      "Number of WCS axes: 2\n"
     ]
    },
    {
     "name": "stderr",
     "output_type": "stream",
     "text": [
      "2022-12-02 01:27:32,224 - stpipe - INFO - CTYPE : 'RA---TAN'  'DEC--TAN'  \n"
     ]
    },
    {
     "name": "stdout",
     "output_type": "stream",
     "text": [
      "CTYPE : 'RA---TAN'  'DEC--TAN'  \n"
     ]
    },
    {
     "name": "stderr",
     "output_type": "stream",
     "text": [
      "2022-12-02 01:27:32,224 - stpipe - INFO - CRVAL : 3.5361508472383063  -30.371700571904164  \n"
     ]
    },
    {
     "name": "stdout",
     "output_type": "stream",
     "text": [
      "CRVAL : 3.5361508472383063  -30.371700571904164  \n"
     ]
    },
    {
     "name": "stderr",
     "output_type": "stream",
     "text": [
      "2022-12-02 01:27:32,225 - stpipe - INFO - CRPIX : 1177.5  1174.0  \n"
     ]
    },
    {
     "name": "stdout",
     "output_type": "stream",
     "text": [
      "CRPIX : 1177.5  1174.0  \n"
     ]
    },
    {
     "name": "stderr",
     "output_type": "stream",
     "text": [
      "2022-12-02 01:27:32,226 - stpipe - INFO - CD1_1 CD1_2  : -1.3132835480748115e-05  1.156431969667578e-05  \n"
     ]
    },
    {
     "name": "stdout",
     "output_type": "stream",
     "text": [
      "CD1_1 CD1_2  : -1.3132835480748115e-05  1.156431969667578e-05  \n"
     ]
    },
    {
     "name": "stderr",
     "output_type": "stream",
     "text": [
      "2022-12-02 01:27:32,227 - stpipe - INFO - CD2_1 CD2_2  : 1.156431969667578e-05  1.3132835480748115e-05  \n"
     ]
    },
    {
     "name": "stdout",
     "output_type": "stream",
     "text": [
      "CD2_1 CD2_2  : 1.156431969667578e-05  1.3132835480748115e-05  \n"
     ]
    },
    {
     "name": "stderr",
     "output_type": "stream",
     "text": [
      "2022-12-02 01:27:32,227 - stpipe - INFO - NAXIS : 2355  2348\n"
     ]
    },
    {
     "name": "stdout",
     "output_type": "stream",
     "text": [
      "NAXIS : 2355  2348\n"
     ]
    },
    {
     "name": "stderr",
     "output_type": "stream",
     "text": [
      "2022-12-02 01:27:32,228 - stpipe - INFO - Executing 4 parallel workers\n",
      "2022-12-02 01:27:32,275 - stpipe - INFO - -Drizzle input: jw02561001002_02101_00001_nrcblong_cal.fits[sci,1]\n",
      "2022-12-02 01:27:32,277 - stpipe - INFO - -Drizzle input: jw02561001002_02101_00002_nrcblong_cal.fits[sci,1]\n",
      "2022-12-02 01:27:32,284 - stpipe - INFO - -Drizzle input: jw02561001002_02101_00003_nrcblong_cal.fits[sci,1]\n",
      "2022-12-02 01:27:32,291 - stpipe - INFO - -Drizzle input: jw02561001002_02101_00004_nrcblong_cal.fits[sci,1]\n",
      "2022-12-02 01:27:32,300 - stpipe - INFO - Applying sky value of 0.112642 to jw02561001002_02101_00001_nrcblong_cal.fits[sci,1]\n",
      "2022-12-02 01:27:32,300 - stpipe - INFO - Applying sky value of 0.112299 to jw02561001002_02101_00002_nrcblong_cal.fits[sci,1]\n",
      "2022-12-02 01:27:32,307 - stpipe - INFO - Applying sky value of 0.113508 to jw02561001002_02101_00003_nrcblong_cal.fits[sci,1]\n",
      "2022-12-02 01:27:32,315 - stpipe - INFO - Applying sky value of 0.114126 to jw02561001002_02101_00004_nrcblong_cal.fits[sci,1]\n",
      "2022-12-02 01:27:32,379 - stpipe - INFO - Using WCSLIB-based coordinate transformation...\n",
      "2022-12-02 01:27:32,381 - stpipe - INFO - Using WCSLIB-based coordinate transformation...\n",
      "2022-12-02 01:27:32,386 - stpipe - INFO - stepsize = 10\n",
      "2022-12-02 01:27:32,386 - stpipe - INFO - stepsize = 10\n",
      "2022-12-02 01:27:32,400 - stpipe - INFO - -Drizzling using kernel = turbo\n",
      "2022-12-02 01:27:32,400 - stpipe - INFO - -Drizzling using kernel = turbo\n",
      "2022-12-02 01:27:32,401 - stpipe - INFO - Using WCSLIB-based coordinate transformation...\n",
      "2022-12-02 01:27:32,401 - stpipe - INFO - \n",
      "2022-12-02 01:27:32,401 - stpipe - INFO - \n",
      "2022-12-02 01:27:32,401 - stpipe - INFO - Using WCSLIB-based coordinate transformation...\n",
      "2022-12-02 01:27:32,403 - stpipe - INFO - stepsize = 10\n",
      "2022-12-02 01:27:32,403 - stpipe - INFO - stepsize = 10\n",
      "2022-12-02 01:27:32,416 - stpipe - INFO - -Drizzling using kernel = turbo\n",
      "2022-12-02 01:27:32,417 - stpipe - INFO - -Drizzling using kernel = turbo\n",
      "2022-12-02 01:27:32,417 - stpipe - INFO - \n",
      "2022-12-02 01:27:32,418 - stpipe - INFO - \n",
      "2022-12-02 01:27:32,726 - stpipe - INFO - -Generating simple FITS output: jw02561001002_02101_00002_nrcblong_single_sci.fits\n"
     ]
    },
    {
     "name": "stdout",
     "output_type": "stream",
     "text": [
      "-Generating simple FITS output: jw02561001002_02101_00002_nrcblong_single_sci.fits\n"
     ]
    },
    {
     "name": "stderr",
     "output_type": "stream",
     "text": [
      "2022-12-02 01:27:32,731 - stpipe - INFO - -Generating simple FITS output: jw02561001002_02101_00001_nrcblong_single_sci.fits\n"
     ]
    },
    {
     "name": "stdout",
     "output_type": "stream",
     "text": [
      "-Generating simple FITS output: jw02561001002_02101_00001_nrcblong_single_sci.fits\n"
     ]
    },
    {
     "name": "stderr",
     "output_type": "stream",
     "text": [
      "2022-12-02 01:27:32,746 - stpipe - INFO - -Generating simple FITS output: jw02561001002_02101_00004_nrcblong_single_sci.fits\n",
      "2022-12-02 01:27:32,746 - stpipe - WARNING - /Users/ivo/anaconda/envs/jwst_nircam/lib/python3.9/site-packages/astropy/io/fits/card.py:1008: VerifyWarning: Card is too long, comment will be truncated.\n",
      "  warnings.warn('Card is too long, comment will be truncated.',\n",
      "\n"
     ]
    },
    {
     "name": "stdout",
     "output_type": "stream",
     "text": [
      "-Generating simple FITS output: jw02561001002_02101_00004_nrcblong_single_sci.fits\n"
     ]
    },
    {
     "name": "stderr",
     "output_type": "stream",
     "text": [
      "2022-12-02 01:27:32,750 - stpipe - WARNING - /Users/ivo/anaconda/envs/jwst_nircam/lib/python3.9/site-packages/astropy/io/fits/card.py:1008: VerifyWarning: Card is too long, comment will be truncated.\n",
      "  warnings.warn('Card is too long, comment will be truncated.',\n",
      "\n",
      "2022-12-02 01:27:32,750 - stpipe - INFO - -Generating simple FITS output: jw02561001002_02101_00003_nrcblong_single_sci.fits\n"
     ]
    },
    {
     "name": "stdout",
     "output_type": "stream",
     "text": [
      "-Generating simple FITS output: jw02561001002_02101_00003_nrcblong_single_sci.fits\n"
     ]
    },
    {
     "name": "stderr",
     "output_type": "stream",
     "text": [
      "2022-12-02 01:27:32,766 - stpipe - WARNING - /Users/ivo/anaconda/envs/jwst_nircam/lib/python3.9/site-packages/astropy/io/fits/card.py:1008: VerifyWarning: Card is too long, comment will be truncated.\n",
      "  warnings.warn('Card is too long, comment will be truncated.',\n",
      "\n",
      "2022-12-02 01:27:32,769 - stpipe - WARNING - /Users/ivo/anaconda/envs/jwst_nircam/lib/python3.9/site-packages/astropy/io/fits/card.py:1008: VerifyWarning: Card is too long, comment will be truncated.\n",
      "  warnings.warn('Card is too long, comment will be truncated.',\n",
      "\n",
      "2022-12-02 01:27:32,774 - stpipe - WARNING - /Users/ivo/anaconda/envs/jwst_nircam/lib/python3.9/site-packages/astropy/wcs/wcs.py:725: FITSFixedWarning: 'obsfix' made the change 'Set OBSGEO-L to    63.281076 from OBSGEO-[XYZ].\n",
      "Set OBSGEO-B to    28.491626 from OBSGEO-[XYZ].\n",
      "Set OBSGEO-H to 1394836264.421 from OBSGEO-[XYZ]'.\n",
      "  warnings.warn(\n",
      "\n",
      "2022-12-02 01:27:32,777 - stpipe - WARNING - /Users/ivo/anaconda/envs/jwst_nircam/lib/python3.9/site-packages/astropy/wcs/wcs.py:725: FITSFixedWarning: 'obsfix' made the change 'Set OBSGEO-L to    63.263556 from OBSGEO-[XYZ].\n",
      "Set OBSGEO-B to    28.494908 from OBSGEO-[XYZ].\n",
      "Set OBSGEO-H to 1394727362.015 from OBSGEO-[XYZ]'.\n",
      "  warnings.warn(\n",
      "\n",
      "2022-12-02 01:27:32,789 - stpipe - INFO - Writing out image to disk: jw02561001002_02101_00002_nrcblong_single_sci.fits\n"
     ]
    },
    {
     "name": "stdout",
     "output_type": "stream",
     "text": [
      "Writing out image to disk: jw02561001002_02101_00002_nrcblong_single_sci.fits\n"
     ]
    },
    {
     "name": "stderr",
     "output_type": "stream",
     "text": [
      "2022-12-02 01:27:32,791 - stpipe - INFO - Writing out image to disk: jw02561001002_02101_00001_nrcblong_single_sci.fits\n",
      "2022-12-02 01:27:32,792 - stpipe - WARNING - /Users/ivo/anaconda/envs/jwst_nircam/lib/python3.9/site-packages/astropy/wcs/wcs.py:725: FITSFixedWarning: 'obsfix' made the change 'Set OBSGEO-L to    63.317268 from OBSGEO-[XYZ].\n",
      "Set OBSGEO-B to    28.484837 from OBSGEO-[XYZ].\n",
      "Set OBSGEO-H to 1395061354.150 from OBSGEO-[XYZ]'.\n",
      "  warnings.warn(\n",
      "\n"
     ]
    },
    {
     "name": "stdout",
     "output_type": "stream",
     "text": [
      "Writing out image to disk: jw02561001002_02101_00001_nrcblong_single_sci.fits\n"
     ]
    },
    {
     "name": "stderr",
     "output_type": "stream",
     "text": [
      "2022-12-02 01:27:32,796 - stpipe - WARNING - /Users/ivo/anaconda/envs/jwst_nircam/lib/python3.9/site-packages/astropy/wcs/wcs.py:725: FITSFixedWarning: 'obsfix' made the change 'Set OBSGEO-L to    63.299758 from OBSGEO-[XYZ].\n",
      "Set OBSGEO-B to    28.488124 from OBSGEO-[XYZ].\n",
      "Set OBSGEO-H to 1394952435.627 from OBSGEO-[XYZ]'.\n",
      "  warnings.warn(\n",
      "\n",
      "2022-12-02 01:27:32,806 - stpipe - INFO - Writing out image to disk: jw02561001002_02101_00004_nrcblong_single_sci.fits\n"
     ]
    },
    {
     "name": "stdout",
     "output_type": "stream",
     "text": [
      "Writing out image to disk: jw02561001002_02101_00004_nrcblong_single_sci.fits\n"
     ]
    },
    {
     "name": "stderr",
     "output_type": "stream",
     "text": [
      "2022-12-02 01:27:32,810 - stpipe - INFO - Writing out image to disk: jw02561001002_02101_00003_nrcblong_single_sci.fits\n"
     ]
    },
    {
     "name": "stdout",
     "output_type": "stream",
     "text": [
      "Writing out image to disk: jw02561001002_02101_00003_nrcblong_single_sci.fits\n"
     ]
    },
    {
     "name": "stderr",
     "output_type": "stream",
     "text": [
      "2022-12-02 01:27:32,942 - stpipe - INFO - Writing out image to disk: jw02561001002_02101_00002_nrcblong_single_wht.fits\n"
     ]
    },
    {
     "name": "stdout",
     "output_type": "stream",
     "text": [
      "Writing out image to disk: jw02561001002_02101_00002_nrcblong_single_wht.fits\n"
     ]
    },
    {
     "name": "stderr",
     "output_type": "stream",
     "text": [
      "2022-12-02 01:27:32,947 - stpipe - INFO - Writing out image to disk: jw02561001002_02101_00001_nrcblong_single_wht.fits\n"
     ]
    },
    {
     "name": "stdout",
     "output_type": "stream",
     "text": [
      "Writing out image to disk: jw02561001002_02101_00001_nrcblong_single_wht.fits\n"
     ]
    },
    {
     "name": "stderr",
     "output_type": "stream",
     "text": [
      "2022-12-02 01:27:32,964 - stpipe - INFO - Writing out image to disk: jw02561001002_02101_00004_nrcblong_single_wht.fits\n",
      "2022-12-02 01:27:32,964 - stpipe - INFO - Writing out image to disk: jw02561001002_02101_00003_nrcblong_single_wht.fits\n"
     ]
    },
    {
     "name": "stdout",
     "output_type": "stream",
     "text": [
      "Writing out image to disk: jw02561001002_02101_00004_nrcblong_single_wht.fits\n",
      "Writing out image to disk: jw02561001002_02101_00003_nrcblong_single_wht.fits\n"
     ]
    },
    {
     "name": "stderr",
     "output_type": "stream",
     "text": [
      "2022-12-02 01:27:33,287 - stpipe - INFO - ==== Processing Step Separate Drizzle finished at 01:27:33.283 (02/12/2022)\n"
     ]
    },
    {
     "name": "stdout",
     "output_type": "stream",
     "text": [
      "==== Processing Step Separate Drizzle finished at 01:27:33.283 (02/12/2022)\n"
     ]
    },
    {
     "name": "stderr",
     "output_type": "stream",
     "text": [
      "2022-12-02 01:27:33,293 - stpipe - INFO - ==== Processing Step  Create Median  started at  01:27:33.292 (02/12/2022)\n"
     ]
    },
    {
     "name": "stdout",
     "output_type": "stream",
     "text": [
      "==== Processing Step  Create Median  started at  01:27:33.292 (02/12/2022)\n"
     ]
    },
    {
     "name": "stderr",
     "output_type": "stream",
     "text": [
      "2022-12-02 01:27:33,294 - stpipe - INFO - \n"
     ]
    },
    {
     "name": "stdout",
     "output_type": "stream",
     "text": [
      "\n"
     ]
    },
    {
     "name": "stderr",
     "output_type": "stream",
     "text": [
      "2022-12-02 01:27:33,296 - stpipe - INFO - USER INPUT PARAMETERS for Create Median Step:\n",
      "2022-12-02 01:27:33,298 - stpipe - INFO - \tcombine_bufsize :\tNone\n",
      "2022-12-02 01:27:33,299 - stpipe - INFO - \tcombine_grow :\t1\n",
      "2022-12-02 01:27:33,299 - stpipe - INFO - \tcombine_hthresh :\tNone\n",
      "2022-12-02 01:27:33,300 - stpipe - INFO - \tcombine_lthresh :\tNone\n",
      "2022-12-02 01:27:33,301 - stpipe - INFO - \tcombine_maskpt :\t0.3\n",
      "2022-12-02 01:27:33,301 - stpipe - INFO - \tcombine_nhigh :\t0\n",
      "2022-12-02 01:27:33,302 - stpipe - INFO - \tcombine_nlow :\t0\n",
      "2022-12-02 01:27:33,302 - stpipe - INFO - \tcombine_nsigma :\t4 3\n",
      "2022-12-02 01:27:33,303 - stpipe - INFO - \tcombine_type :\tminmed\n",
      "2022-12-02 01:27:33,304 - stpipe - INFO - \tcompress :\tFalse\n",
      "2022-12-02 01:27:33,304 - stpipe - INFO - \tmedian :\tTrue\n",
      "2022-12-02 01:27:33,305 - stpipe - INFO - \tmedian_newmasks :\tTrue\n",
      "2022-12-02 01:27:33,306 - stpipe - INFO - \tproc_unit :\tnative\n",
      "2022-12-02 01:27:33,386 - stpipe - INFO - reference sky value for image 'jw02561001002_02101_00001_nrcblong_cal.fits' is 94.334455332309\n"
     ]
    },
    {
     "name": "stdout",
     "output_type": "stream",
     "text": [
      "reference sky value for image 'jw02561001002_02101_00001_nrcblong_cal.fits' is 94.334455332309\n"
     ]
    },
    {
     "name": "stderr",
     "output_type": "stream",
     "text": [
      "2022-12-02 01:27:33,437 - stpipe - INFO - reference sky value for image 'jw02561001002_02101_00002_nrcblong_cal.fits' is 94.0467650424242\n"
     ]
    },
    {
     "name": "stdout",
     "output_type": "stream",
     "text": [
      "reference sky value for image 'jw02561001002_02101_00002_nrcblong_cal.fits' is 94.0467650424242\n"
     ]
    },
    {
     "name": "stderr",
     "output_type": "stream",
     "text": [
      "2022-12-02 01:27:33,487 - stpipe - INFO - reference sky value for image 'jw02561001002_02101_00003_nrcblong_cal.fits' is 95.05921872228383\n"
     ]
    },
    {
     "name": "stdout",
     "output_type": "stream",
     "text": [
      "reference sky value for image 'jw02561001002_02101_00003_nrcblong_cal.fits' is 95.05921872228383\n"
     ]
    },
    {
     "name": "stderr",
     "output_type": "stream",
     "text": [
      "2022-12-02 01:27:33,538 - stpipe - INFO - reference sky value for image 'jw02561001002_02101_00004_nrcblong_cal.fits' is 95.57677047765254\n"
     ]
    },
    {
     "name": "stdout",
     "output_type": "stream",
     "text": [
      "reference sky value for image 'jw02561001002_02101_00004_nrcblong_cal.fits' is 95.57677047765254\n"
     ]
    },
    {
     "name": "stderr",
     "output_type": "stream",
     "text": [
      "2022-12-02 01:27:34,651 - stpipe - INFO - Saving output median image to: 'abell2744-preimg-02561-001-041.0-nrcb5-f277w-clear_med.fits'\n"
     ]
    },
    {
     "name": "stdout",
     "output_type": "stream",
     "text": [
      "Saving output median image to: 'abell2744-preimg-02561-001-041.0-nrcb5-f277w-clear_med.fits'\n"
     ]
    },
    {
     "name": "stderr",
     "output_type": "stream",
     "text": [
      "2022-12-02 01:27:34,699 - stpipe - INFO - ==== Processing Step Create Median finished at 01:27:34.69 (02/12/2022)\n"
     ]
    },
    {
     "name": "stdout",
     "output_type": "stream",
     "text": [
      "==== Processing Step Create Median finished at 01:27:34.69 (02/12/2022)\n"
     ]
    },
    {
     "name": "stderr",
     "output_type": "stream",
     "text": [
      "2022-12-02 01:27:34,700 - stpipe - INFO - ==== Processing Step  Blot  started at  01:27:34.700 (02/12/2022)\n"
     ]
    },
    {
     "name": "stdout",
     "output_type": "stream",
     "text": [
      "==== Processing Step  Blot  started at  01:27:34.700 (02/12/2022)\n"
     ]
    },
    {
     "name": "stderr",
     "output_type": "stream",
     "text": [
      "2022-12-02 01:27:34,701 - stpipe - INFO - \n"
     ]
    },
    {
     "name": "stdout",
     "output_type": "stream",
     "text": [
      "\n"
     ]
    },
    {
     "name": "stderr",
     "output_type": "stream",
     "text": [
      "2022-12-02 01:27:34,701 - stpipe - INFO - USER INPUT PARAMETERS for Blot Step:\n",
      "2022-12-02 01:27:34,702 - stpipe - INFO - \tblot_addsky :\tTrue\n",
      "2022-12-02 01:27:34,702 - stpipe - INFO - \tblot_interp :\tpoly5\n",
      "2022-12-02 01:27:34,703 - stpipe - INFO - \tblot_sinscl :\t1.0\n",
      "2022-12-02 01:27:34,703 - stpipe - INFO - \tblot_skyval :\t0.0\n",
      "2022-12-02 01:27:34,703 - stpipe - INFO - \tcoeffs :\tTrue\n",
      "2022-12-02 01:27:34,704 - stpipe - INFO -     Blot: creating blotted image:  jw02561001002_02101_00001_nrcblong_cal.fits[sci,1]\n"
     ]
    },
    {
     "name": "stdout",
     "output_type": "stream",
     "text": [
      "    Blot: creating blotted image:  jw02561001002_02101_00001_nrcblong_cal.fits[sci,1]\n"
     ]
    },
    {
     "name": "stderr",
     "output_type": "stream",
     "text": [
      "2022-12-02 01:27:34,744 - stpipe - INFO - Using default C-based coordinate transformation...\n"
     ]
    },
    {
     "name": "stdout",
     "output_type": "stream",
     "text": [
      "Using default C-based coordinate transformation...\n"
     ]
    },
    {
     "name": "stderr",
     "output_type": "stream",
     "text": [
      "2022-12-02 01:27:35,101 - stpipe - INFO - Applying sky value of 0.112642 to blotted image jw02561001002_02101_00001_nrcblong_cal.fits[sci,1]\n",
      "2022-12-02 01:27:35,143 - stpipe - INFO - -Generating simple FITS output: jw02561001002_02101_00001_nrcblong_sci1_blt.fits\n"
     ]
    },
    {
     "name": "stdout",
     "output_type": "stream",
     "text": [
      "-Generating simple FITS output: jw02561001002_02101_00001_nrcblong_sci1_blt.fits\n"
     ]
    },
    {
     "name": "stderr",
     "output_type": "stream",
     "text": [
      "2022-12-02 01:27:35,158 - stpipe - INFO - Writing out image to disk: jw02561001002_02101_00001_nrcblong_sci1_blt.fits\n"
     ]
    },
    {
     "name": "stdout",
     "output_type": "stream",
     "text": [
      "Writing out image to disk: jw02561001002_02101_00001_nrcblong_sci1_blt.fits\n"
     ]
    },
    {
     "name": "stderr",
     "output_type": "stream",
     "text": [
      "2022-12-02 01:27:35,199 - stpipe - INFO -     Blot: creating blotted image:  jw02561001002_02101_00002_nrcblong_cal.fits[sci,1]\n"
     ]
    },
    {
     "name": "stdout",
     "output_type": "stream",
     "text": [
      "    Blot: creating blotted image:  jw02561001002_02101_00002_nrcblong_cal.fits[sci,1]\n"
     ]
    },
    {
     "name": "stderr",
     "output_type": "stream",
     "text": [
      "2022-12-02 01:27:35,240 - stpipe - INFO - Using default C-based coordinate transformation...\n"
     ]
    },
    {
     "name": "stdout",
     "output_type": "stream",
     "text": [
      "Using default C-based coordinate transformation...\n"
     ]
    },
    {
     "name": "stderr",
     "output_type": "stream",
     "text": [
      "2022-12-02 01:27:35,597 - stpipe - INFO - Applying sky value of 0.112299 to blotted image jw02561001002_02101_00002_nrcblong_cal.fits[sci,1]\n",
      "2022-12-02 01:27:35,639 - stpipe - INFO - -Generating simple FITS output: jw02561001002_02101_00002_nrcblong_sci1_blt.fits\n"
     ]
    },
    {
     "name": "stdout",
     "output_type": "stream",
     "text": [
      "-Generating simple FITS output: jw02561001002_02101_00002_nrcblong_sci1_blt.fits\n"
     ]
    },
    {
     "name": "stderr",
     "output_type": "stream",
     "text": [
      "2022-12-02 01:27:35,654 - stpipe - INFO - Writing out image to disk: jw02561001002_02101_00002_nrcblong_sci1_blt.fits\n"
     ]
    },
    {
     "name": "stdout",
     "output_type": "stream",
     "text": [
      "Writing out image to disk: jw02561001002_02101_00002_nrcblong_sci1_blt.fits\n"
     ]
    },
    {
     "name": "stderr",
     "output_type": "stream",
     "text": [
      "2022-12-02 01:27:35,697 - stpipe - INFO -     Blot: creating blotted image:  jw02561001002_02101_00003_nrcblong_cal.fits[sci,1]\n"
     ]
    },
    {
     "name": "stdout",
     "output_type": "stream",
     "text": [
      "    Blot: creating blotted image:  jw02561001002_02101_00003_nrcblong_cal.fits[sci,1]\n"
     ]
    },
    {
     "name": "stderr",
     "output_type": "stream",
     "text": [
      "2022-12-02 01:27:35,732 - stpipe - INFO - Using default C-based coordinate transformation...\n"
     ]
    },
    {
     "name": "stdout",
     "output_type": "stream",
     "text": [
      "Using default C-based coordinate transformation...\n"
     ]
    },
    {
     "name": "stderr",
     "output_type": "stream",
     "text": [
      "2022-12-02 01:27:36,086 - stpipe - INFO - Applying sky value of 0.113508 to blotted image jw02561001002_02101_00003_nrcblong_cal.fits[sci,1]\n",
      "2022-12-02 01:27:36,129 - stpipe - INFO - -Generating simple FITS output: jw02561001002_02101_00003_nrcblong_sci1_blt.fits\n"
     ]
    },
    {
     "name": "stdout",
     "output_type": "stream",
     "text": [
      "-Generating simple FITS output: jw02561001002_02101_00003_nrcblong_sci1_blt.fits\n"
     ]
    },
    {
     "name": "stderr",
     "output_type": "stream",
     "text": [
      "2022-12-02 01:27:36,145 - stpipe - INFO - Writing out image to disk: jw02561001002_02101_00003_nrcblong_sci1_blt.fits\n"
     ]
    },
    {
     "name": "stdout",
     "output_type": "stream",
     "text": [
      "Writing out image to disk: jw02561001002_02101_00003_nrcblong_sci1_blt.fits\n"
     ]
    },
    {
     "name": "stderr",
     "output_type": "stream",
     "text": [
      "2022-12-02 01:27:36,188 - stpipe - INFO -     Blot: creating blotted image:  jw02561001002_02101_00004_nrcblong_cal.fits[sci,1]\n"
     ]
    },
    {
     "name": "stdout",
     "output_type": "stream",
     "text": [
      "    Blot: creating blotted image:  jw02561001002_02101_00004_nrcblong_cal.fits[sci,1]\n"
     ]
    },
    {
     "name": "stderr",
     "output_type": "stream",
     "text": [
      "2022-12-02 01:27:36,223 - stpipe - INFO - Using default C-based coordinate transformation...\n"
     ]
    },
    {
     "name": "stdout",
     "output_type": "stream",
     "text": [
      "Using default C-based coordinate transformation...\n"
     ]
    },
    {
     "name": "stderr",
     "output_type": "stream",
     "text": [
      "2022-12-02 01:27:36,574 - stpipe - INFO - Applying sky value of 0.114126 to blotted image jw02561001002_02101_00004_nrcblong_cal.fits[sci,1]\n",
      "2022-12-02 01:27:36,615 - stpipe - INFO - -Generating simple FITS output: jw02561001002_02101_00004_nrcblong_sci1_blt.fits\n"
     ]
    },
    {
     "name": "stdout",
     "output_type": "stream",
     "text": [
      "-Generating simple FITS output: jw02561001002_02101_00004_nrcblong_sci1_blt.fits\n"
     ]
    },
    {
     "name": "stderr",
     "output_type": "stream",
     "text": [
      "2022-12-02 01:27:36,630 - stpipe - INFO - Writing out image to disk: jw02561001002_02101_00004_nrcblong_sci1_blt.fits\n"
     ]
    },
    {
     "name": "stdout",
     "output_type": "stream",
     "text": [
      "Writing out image to disk: jw02561001002_02101_00004_nrcblong_sci1_blt.fits\n"
     ]
    },
    {
     "name": "stderr",
     "output_type": "stream",
     "text": [
      "2022-12-02 01:27:36,669 - stpipe - INFO - ==== Processing Step Blot finished at 01:27:36.669 (02/12/2022)\n"
     ]
    },
    {
     "name": "stdout",
     "output_type": "stream",
     "text": [
      "==== Processing Step Blot finished at 01:27:36.669 (02/12/2022)\n"
     ]
    },
    {
     "name": "stderr",
     "output_type": "stream",
     "text": [
      "2022-12-02 01:27:36,670 - stpipe - INFO - ==== Processing Step  Driz_CR  started at  01:27:36.670 (02/12/2022)\n"
     ]
    },
    {
     "name": "stdout",
     "output_type": "stream",
     "text": [
      "==== Processing Step  Driz_CR  started at  01:27:36.670 (02/12/2022)\n"
     ]
    },
    {
     "name": "stderr",
     "output_type": "stream",
     "text": [
      "2022-12-02 01:27:36,671 - stpipe - INFO - \n"
     ]
    },
    {
     "name": "stdout",
     "output_type": "stream",
     "text": [
      "\n"
     ]
    },
    {
     "name": "stderr",
     "output_type": "stream",
     "text": [
      "2022-12-02 01:27:36,671 - stpipe - INFO - USER INPUT PARAMETERS for Driz_CR Step:\n",
      "2022-12-02 01:27:36,672 - stpipe - INFO - \tcrbit :\t4096\n",
      "2022-12-02 01:27:36,672 - stpipe - INFO - \tdriz_cr :\tTrue\n",
      "2022-12-02 01:27:36,672 - stpipe - INFO - \tdriz_cr_corr :\tFalse\n",
      "2022-12-02 01:27:36,673 - stpipe - INFO - \tdriz_cr_ctegrow :\t0\n",
      "2022-12-02 01:27:36,673 - stpipe - INFO - \tdriz_cr_grow :\t1\n",
      "2022-12-02 01:27:36,673 - stpipe - INFO - \tdriz_cr_scale :\t2.5 0.7\n",
      "2022-12-02 01:27:36,674 - stpipe - INFO - \tdriz_cr_snr :\t8.0 5.0\n",
      "2022-12-02 01:27:36,674 - stpipe - INFO - \tinmemory :\tFalse\n",
      "2022-12-02 01:27:36,674 - stpipe - INFO - Executing 4 parallel workers\n",
      "2022-12-02 01:27:37,200 - stpipe - INFO - Creating output: jw02561001002_02101_00001_nrcblong_sci1_crmask.fits\n"
     ]
    },
    {
     "name": "stdout",
     "output_type": "stream",
     "text": [
      "Creating output: jw02561001002_02101_00001_nrcblong_sci1_crmask.fits\n"
     ]
    },
    {
     "name": "stderr",
     "output_type": "stream",
     "text": [
      "2022-12-02 01:27:37,216 - stpipe - INFO - Creating output: jw02561001002_02101_00002_nrcblong_sci1_crmask.fits\n"
     ]
    },
    {
     "name": "stdout",
     "output_type": "stream",
     "text": [
      "Creating output: jw02561001002_02101_00002_nrcblong_sci1_crmask.fits\n"
     ]
    },
    {
     "name": "stderr",
     "output_type": "stream",
     "text": [
      "2022-12-02 01:27:37,258 - stpipe - INFO - Creating output: jw02561001002_02101_00004_nrcblong_sci1_crmask.fits\n",
      "2022-12-02 01:27:37,259 - stpipe - INFO - Creating output: jw02561001002_02101_00003_nrcblong_sci1_crmask.fits\n"
     ]
    },
    {
     "name": "stdout",
     "output_type": "stream",
     "text": [
      "Creating output: jw02561001002_02101_00004_nrcblong_sci1_crmask.fits\n",
      "Creating output: jw02561001002_02101_00003_nrcblong_sci1_crmask.fits\n"
     ]
    },
    {
     "name": "stderr",
     "output_type": "stream",
     "text": [
      "2022-12-02 01:27:37,820 - stpipe - INFO - ==== Processing Step Driz_CR finished at 01:27:37.81 (02/12/2022)\n"
     ]
    },
    {
     "name": "stdout",
     "output_type": "stream",
     "text": [
      "==== Processing Step Driz_CR finished at 01:27:37.81 (02/12/2022)\n"
     ]
    },
    {
     "name": "stderr",
     "output_type": "stream",
     "text": [
      "2022-12-02 01:27:37,854 - stpipe - INFO - ==== Processing Step  Final Drizzle  started at  01:27:37.854 (02/12/2022)\n"
     ]
    },
    {
     "name": "stdout",
     "output_type": "stream",
     "text": [
      "==== Processing Step  Final Drizzle  started at  01:27:37.854 (02/12/2022)\n"
     ]
    },
    {
     "name": "stderr",
     "output_type": "stream",
     "text": [
      "2022-12-02 01:27:37,857 - stpipe - INFO - \n"
     ]
    },
    {
     "name": "stdout",
     "output_type": "stream",
     "text": [
      "\n"
     ]
    },
    {
     "name": "stderr",
     "output_type": "stream",
     "text": [
      "2022-12-02 01:27:37,864 - stpipe - INFO - Interpreted paramDict with single=False as:\n",
      "2022-12-02 01:27:37,865 - stpipe - INFO - {'build': False, 'stepsize': 10, 'coeffs': True, 'wcskey': '', 'wht_type': 'IVM', 'kernel': 'square', 'wt_scl': 'exptime', 'pixfrac': 0.8, 'fillval': None, 'maskval': None, 'bits': 4, 'units': 'cps'}\n",
      "2022-12-02 01:27:37,866 - stpipe - INFO - USER INPUT PARAMETERS for Final Drizzle Step:\n",
      "2022-12-02 01:27:37,867 - stpipe - INFO - \tbits :\t4\n",
      "2022-12-02 01:27:37,868 - stpipe - INFO - \tbuild :\tFalse\n",
      "2022-12-02 01:27:37,869 - stpipe - INFO - \tclean :\tTrue\n",
      "2022-12-02 01:27:37,869 - stpipe - INFO - \tcoeffs :\tTrue\n",
      "2022-12-02 01:27:37,870 - stpipe - INFO - \tcrbit :\t4096\n",
      "2022-12-02 01:27:37,870 - stpipe - INFO - \tfillval :\tNone\n",
      "2022-12-02 01:27:37,871 - stpipe - INFO - \tkernel :\tsquare\n",
      "2022-12-02 01:27:37,871 - stpipe - INFO - \tlogfile :\tastrodrizzle.log\n",
      "2022-12-02 01:27:37,872 - stpipe - INFO - \tmaskval :\tNone\n",
      "2022-12-02 01:27:37,873 - stpipe - INFO - \tpixfrac :\t0.8\n",
      "2022-12-02 01:27:37,873 - stpipe - INFO - \tproc_unit :\tnative\n",
      "2022-12-02 01:27:37,873 - stpipe - INFO - \trules_file :\tNone\n",
      "2022-12-02 01:27:37,874 - stpipe - INFO - \tstepsize :\t10\n",
      "2022-12-02 01:27:37,874 - stpipe - INFO - \tunits :\tcps\n",
      "2022-12-02 01:27:37,875 - stpipe - INFO - \twcskey :\t\n",
      "2022-12-02 01:27:37,875 - stpipe - INFO - \twht_type :\tIVM\n",
      "2022-12-02 01:27:37,876 - stpipe - INFO - \twt_scl :\texptime\n",
      "2022-12-02 01:27:37,877 - stpipe - INFO -   **Using sub-sampling value of 10 for kernel square\n",
      "2022-12-02 01:27:37,878 - stpipe - INFO - Running Drizzle to create output frame with WCS of: \n",
      "2022-12-02 01:27:37,880 - stpipe - INFO - WCS Keywords\n"
     ]
    },
    {
     "name": "stdout",
     "output_type": "stream",
     "text": [
      "WCS Keywords\n"
     ]
    },
    {
     "name": "stderr",
     "output_type": "stream",
     "text": [
      "2022-12-02 01:27:37,881 - stpipe - INFO - \n"
     ]
    },
    {
     "name": "stdout",
     "output_type": "stream",
     "text": [
      "\n"
     ]
    },
    {
     "name": "stderr",
     "output_type": "stream",
     "text": [
      "2022-12-02 01:27:37,883 - stpipe - INFO - Number of WCS axes: 2\n"
     ]
    },
    {
     "name": "stdout",
     "output_type": "stream",
     "text": [
      "Number of WCS axes: 2\n"
     ]
    },
    {
     "name": "stderr",
     "output_type": "stream",
     "text": [
      "2022-12-02 01:27:37,884 - stpipe - INFO - CTYPE : 'RA---TAN'  'DEC--TAN'  \n"
     ]
    },
    {
     "name": "stdout",
     "output_type": "stream",
     "text": [
      "CTYPE : 'RA---TAN'  'DEC--TAN'  \n"
     ]
    },
    {
     "name": "stderr",
     "output_type": "stream",
     "text": [
      "2022-12-02 01:27:37,885 - stpipe - INFO - CRVAL : 3.5361508472383063  -30.371700571904164  \n"
     ]
    },
    {
     "name": "stdout",
     "output_type": "stream",
     "text": [
      "CRVAL : 3.5361508472383063  -30.371700571904164  \n"
     ]
    },
    {
     "name": "stderr",
     "output_type": "stream",
     "text": [
      "2022-12-02 01:27:37,886 - stpipe - INFO - CRPIX : 1177.5  1174.0  \n"
     ]
    },
    {
     "name": "stdout",
     "output_type": "stream",
     "text": [
      "CRPIX : 1177.5  1174.0  \n"
     ]
    },
    {
     "name": "stderr",
     "output_type": "stream",
     "text": [
      "2022-12-02 01:27:37,887 - stpipe - INFO - CD1_1 CD1_2  : -1.3132835480748115e-05  1.156431969667578e-05  \n"
     ]
    },
    {
     "name": "stdout",
     "output_type": "stream",
     "text": [
      "CD1_1 CD1_2  : -1.3132835480748115e-05  1.156431969667578e-05  \n"
     ]
    },
    {
     "name": "stderr",
     "output_type": "stream",
     "text": [
      "2022-12-02 01:27:37,888 - stpipe - INFO - CD2_1 CD2_2  : 1.156431969667578e-05  1.3132835480748115e-05  \n"
     ]
    },
    {
     "name": "stdout",
     "output_type": "stream",
     "text": [
      "CD2_1 CD2_2  : 1.156431969667578e-05  1.3132835480748115e-05  \n"
     ]
    },
    {
     "name": "stderr",
     "output_type": "stream",
     "text": [
      "2022-12-02 01:27:37,889 - stpipe - INFO - NAXIS : 2355  2348\n"
     ]
    },
    {
     "name": "stdout",
     "output_type": "stream",
     "text": [
      "NAXIS : 2355  2348\n"
     ]
    },
    {
     "name": "stderr",
     "output_type": "stream",
     "text": [
      "2022-12-02 01:27:37,912 - stpipe - INFO - -Drizzle input: jw02561001002_02101_00001_nrcblong_cal.fits[sci,1]\n",
      "2022-12-02 01:27:37,930 - stpipe - INFO - Applying sky value of 0.112642 to jw02561001002_02101_00001_nrcblong_cal.fits[sci,1]\n",
      "2022-12-02 01:27:38,027 - stpipe - INFO - Automatically creating IVM files for chip 1\n",
      "2022-12-02 01:27:38,028 - stpipe - WARNING - Cannot find flat field file 'jwst_nircam_flat_0517.fits'\n",
      "2022-12-02 01:27:38,029 - stpipe - WARNING - Treating flatfield as a constant value of '1'.\n",
      "2022-12-02 01:27:38,084 - stpipe - INFO - Using WCSLIB-based coordinate transformation...\n",
      "2022-12-02 01:27:38,085 - stpipe - INFO - stepsize = 10\n",
      "2022-12-02 01:27:38,097 - stpipe - INFO - -Drizzling using kernel = square\n",
      "2022-12-02 01:27:38,098 - stpipe - INFO - \n",
      "2022-12-02 01:27:38,734 - stpipe - INFO - -Drizzle input: jw02561001002_02101_00002_nrcblong_cal.fits[sci,1]\n",
      "2022-12-02 01:27:38,753 - stpipe - INFO - Applying sky value of 0.112299 to jw02561001002_02101_00002_nrcblong_cal.fits[sci,1]\n",
      "2022-12-02 01:27:38,837 - stpipe - INFO - Automatically creating IVM files for chip 1\n",
      "2022-12-02 01:27:38,838 - stpipe - WARNING - Cannot find flat field file 'jwst_nircam_flat_0517.fits'\n",
      "2022-12-02 01:27:38,839 - stpipe - WARNING - Treating flatfield as a constant value of '1'.\n",
      "2022-12-02 01:27:38,857 - stpipe - INFO - Using WCSLIB-based coordinate transformation...\n",
      "2022-12-02 01:27:38,857 - stpipe - INFO - stepsize = 10\n",
      "2022-12-02 01:27:38,868 - stpipe - INFO - -Drizzling using kernel = square\n",
      "2022-12-02 01:27:38,868 - stpipe - INFO - \n",
      "2022-12-02 01:27:39,502 - stpipe - INFO - -Drizzle input: jw02561001002_02101_00003_nrcblong_cal.fits[sci,1]\n",
      "2022-12-02 01:27:39,521 - stpipe - INFO - Applying sky value of 0.113508 to jw02561001002_02101_00003_nrcblong_cal.fits[sci,1]\n",
      "2022-12-02 01:27:39,602 - stpipe - INFO - Automatically creating IVM files for chip 1\n",
      "2022-12-02 01:27:39,603 - stpipe - WARNING - Cannot find flat field file 'jwst_nircam_flat_0517.fits'\n",
      "2022-12-02 01:27:39,604 - stpipe - WARNING - Treating flatfield as a constant value of '1'.\n",
      "2022-12-02 01:27:39,623 - stpipe - INFO - Using WCSLIB-based coordinate transformation...\n",
      "2022-12-02 01:27:39,624 - stpipe - INFO - stepsize = 10\n",
      "2022-12-02 01:27:39,634 - stpipe - INFO - -Drizzling using kernel = square\n",
      "2022-12-02 01:27:39,634 - stpipe - INFO - \n",
      "2022-12-02 01:27:40,273 - stpipe - INFO - -Drizzle input: jw02561001002_02101_00004_nrcblong_cal.fits[sci,1]\n",
      "2022-12-02 01:27:40,291 - stpipe - INFO - Applying sky value of 0.114126 to jw02561001002_02101_00004_nrcblong_cal.fits[sci,1]\n",
      "2022-12-02 01:27:40,366 - stpipe - INFO - Automatically creating IVM files for chip 1\n",
      "2022-12-02 01:27:40,367 - stpipe - WARNING - Cannot find flat field file 'jwst_nircam_flat_0517.fits'\n",
      "2022-12-02 01:27:40,368 - stpipe - WARNING - Treating flatfield as a constant value of '1'.\n",
      "2022-12-02 01:27:40,384 - stpipe - INFO - Using WCSLIB-based coordinate transformation...\n",
      "2022-12-02 01:27:40,385 - stpipe - INFO - stepsize = 10\n",
      "2022-12-02 01:27:40,396 - stpipe - INFO - -Drizzling using kernel = square\n",
      "2022-12-02 01:27:40,397 - stpipe - INFO - \n",
      "2022-12-02 01:27:41,035 - stpipe - INFO - Deleting previous output product: abell2744-preimg-02561-001-041.0-nrcb5-f277w-clear_drz_sci.fits\n",
      "2022-12-02 01:27:41,037 - stpipe - INFO - Deleting previous output WHT product: abell2744-preimg-02561-001-041.0-nrcb5-f277w-clear_drz_wht.fits\n",
      "2022-12-02 01:27:41,401 - stpipe - INFO - -Generating simple FITS output: abell2744-preimg-02561-001-041.0-nrcb5-f277w-clear_drz_sci.fits\n"
     ]
    },
    {
     "name": "stdout",
     "output_type": "stream",
     "text": [
      "-Generating simple FITS output: abell2744-preimg-02561-001-041.0-nrcb5-f277w-clear_drz_sci.fits\n"
     ]
    },
    {
     "name": "stderr",
     "output_type": "stream",
     "text": [
      "2022-12-02 01:27:41,443 - stpipe - WARNING - /Users/ivo/anaconda/envs/jwst_nircam/lib/python3.9/site-packages/astropy/io/fits/card.py:1008: VerifyWarning: Card is too long, comment will be truncated.\n",
      "  warnings.warn('Card is too long, comment will be truncated.',\n",
      "\n",
      "2022-12-02 01:27:41,485 - stpipe - WARNING - /Users/ivo/anaconda/envs/jwst_nircam/lib/python3.9/site-packages/astropy/wcs/wcs.py:725: FITSFixedWarning: 'obsfix' made the change 'Set OBSGEO-L to    63.263556 from OBSGEO-[XYZ].\n",
      "Set OBSGEO-B to    28.494908 from OBSGEO-[XYZ].\n",
      "Set OBSGEO-H to 1394727362.015 from OBSGEO-[XYZ]'.\n",
      "  warnings.warn(\n",
      "\n",
      "2022-12-02 01:27:41,509 - stpipe - INFO - Writing out image to disk: abell2744-preimg-02561-001-041.0-nrcb5-f277w-clear_drz_sci.fits\n"
     ]
    },
    {
     "name": "stdout",
     "output_type": "stream",
     "text": [
      "Writing out image to disk: abell2744-preimg-02561-001-041.0-nrcb5-f277w-clear_drz_sci.fits\n"
     ]
    },
    {
     "name": "stderr",
     "output_type": "stream",
     "text": [
      "2022-12-02 01:27:41,661 - stpipe - INFO - Writing out image to disk: abell2744-preimg-02561-001-041.0-nrcb5-f277w-clear_drz_wht.fits\n"
     ]
    },
    {
     "name": "stdout",
     "output_type": "stream",
     "text": [
      "Writing out image to disk: abell2744-preimg-02561-001-041.0-nrcb5-f277w-clear_drz_wht.fits\n"
     ]
    },
    {
     "name": "stderr",
     "output_type": "stream",
     "text": [
      "2022-12-02 01:27:41,853 - stpipe - INFO - ==== Processing Step Final Drizzle finished at 01:27:41.853 (02/12/2022)\n"
     ]
    },
    {
     "name": "stdout",
     "output_type": "stream",
     "text": [
      "==== Processing Step Final Drizzle finished at 01:27:41.853 (02/12/2022)\n"
     ]
    },
    {
     "name": "stderr",
     "output_type": "stream",
     "text": [
      "2022-12-02 01:27:41,855 - stpipe - INFO - \n"
     ]
    },
    {
     "name": "stdout",
     "output_type": "stream",
     "text": [
      "\n"
     ]
    },
    {
     "name": "stderr",
     "output_type": "stream",
     "text": [
      "2022-12-02 01:27:41,856 - stpipe - INFO - AstroDrizzle Version 3.5.0 is finished processing at 01:27:41.856 (02/12/2022).\n"
     ]
    },
    {
     "name": "stdout",
     "output_type": "stream",
     "text": [
      "AstroDrizzle Version 3.5.0 is finished processing at 01:27:41.856 (02/12/2022).\n"
     ]
    },
    {
     "name": "stderr",
     "output_type": "stream",
     "text": [
      "2022-12-02 01:27:41,857 - stpipe - INFO - \n"
     ]
    },
    {
     "name": "stdout",
     "output_type": "stream",
     "text": [
      "\n"
     ]
    },
    {
     "name": "stderr",
     "output_type": "stream",
     "text": [
      "2022-12-02 01:27:41,858 - stpipe - INFO - \n"
     ]
    },
    {
     "name": "stdout",
     "output_type": "stream",
     "text": [
      "\n"
     ]
    },
    {
     "name": "stderr",
     "output_type": "stream",
     "text": [
      "2022-12-02 01:27:41,859 - stpipe - INFO - \n"
     ]
    },
    {
     "name": "stdout",
     "output_type": "stream",
     "text": [
      "\n"
     ]
    },
    {
     "name": "stderr",
     "output_type": "stream",
     "text": [
      "2022-12-02 01:27:41,860 - stpipe - INFO -    --------------------          --------------------\n"
     ]
    },
    {
     "name": "stdout",
     "output_type": "stream",
     "text": [
      "   --------------------          --------------------\n"
     ]
    },
    {
     "name": "stderr",
     "output_type": "stream",
     "text": [
      "2022-12-02 01:27:41,861 - stpipe - INFO -                    Step          Elapsed time\n"
     ]
    },
    {
     "name": "stdout",
     "output_type": "stream",
     "text": [
      "                   Step          Elapsed time\n"
     ]
    },
    {
     "name": "stderr",
     "output_type": "stream",
     "text": [
      "2022-12-02 01:27:41,862 - stpipe - INFO -    --------------------          --------------------\n"
     ]
    },
    {
     "name": "stdout",
     "output_type": "stream",
     "text": [
      "   --------------------          --------------------\n"
     ]
    },
    {
     "name": "stderr",
     "output_type": "stream",
     "text": [
      "2022-12-02 01:27:41,862 - stpipe - INFO - \n"
     ]
    },
    {
     "name": "stdout",
     "output_type": "stream",
     "text": [
      "\n"
     ]
    },
    {
     "name": "stderr",
     "output_type": "stream",
     "text": [
      "2022-12-02 01:27:41,863 - stpipe - INFO -          Initialization          0.5601 sec.\n"
     ]
    },
    {
     "name": "stdout",
     "output_type": "stream",
     "text": [
      "         Initialization          0.5601 sec.\n"
     ]
    },
    {
     "name": "stderr",
     "output_type": "stream",
     "text": [
      "2022-12-02 01:27:41,864 - stpipe - INFO -             Static Mask          0.3547 sec.\n"
     ]
    },
    {
     "name": "stdout",
     "output_type": "stream",
     "text": [
      "            Static Mask          0.3547 sec.\n"
     ]
    },
    {
     "name": "stderr",
     "output_type": "stream",
     "text": [
      "2022-12-02 01:27:41,865 - stpipe - INFO -            Subtract Sky          0.7973 sec.\n"
     ]
    },
    {
     "name": "stdout",
     "output_type": "stream",
     "text": [
      "           Subtract Sky          0.7973 sec.\n"
     ]
    },
    {
     "name": "stderr",
     "output_type": "stream",
     "text": [
      "2022-12-02 01:27:41,866 - stpipe - INFO -        Separate Drizzle          1.0697 sec.\n"
     ]
    },
    {
     "name": "stdout",
     "output_type": "stream",
     "text": [
      "       Separate Drizzle          1.0697 sec.\n"
     ]
    },
    {
     "name": "stderr",
     "output_type": "stream",
     "text": [
      "2022-12-02 01:27:41,867 - stpipe - INFO -           Create Median          1.4063 sec.\n"
     ]
    },
    {
     "name": "stdout",
     "output_type": "stream",
     "text": [
      "          Create Median          1.4063 sec.\n"
     ]
    },
    {
     "name": "stderr",
     "output_type": "stream",
     "text": [
      "2022-12-02 01:27:41,868 - stpipe - INFO -                    Blot          1.9692 sec.\n"
     ]
    },
    {
     "name": "stdout",
     "output_type": "stream",
     "text": [
      "                   Blot          1.9692 sec.\n"
     ]
    },
    {
     "name": "stderr",
     "output_type": "stream",
     "text": [
      "2022-12-02 01:27:41,869 - stpipe - INFO -                 Driz_CR          1.1452 sec.\n"
     ]
    },
    {
     "name": "stdout",
     "output_type": "stream",
     "text": [
      "                Driz_CR          1.1452 sec.\n"
     ]
    },
    {
     "name": "stderr",
     "output_type": "stream",
     "text": [
      "2022-12-02 01:27:41,870 - stpipe - INFO -           Final Drizzle          3.9997 sec.\n"
     ]
    },
    {
     "name": "stdout",
     "output_type": "stream",
     "text": [
      "          Final Drizzle          3.9997 sec.\n"
     ]
    },
    {
     "name": "stderr",
     "output_type": "stream",
     "text": [
      "2022-12-02 01:27:41,871 - stpipe - INFO -    ====================          ====================\n"
     ]
    },
    {
     "name": "stdout",
     "output_type": "stream",
     "text": [
      "   ====================          ====================\n"
     ]
    },
    {
     "name": "stderr",
     "output_type": "stream",
     "text": [
      "2022-12-02 01:27:41,872 - stpipe - INFO -                   Total          11.3022 sec.\n"
     ]
    },
    {
     "name": "stdout",
     "output_type": "stream",
     "text": [
      "                  Total          11.3022 sec.\n"
     ]
    },
    {
     "name": "stderr",
     "output_type": "stream",
     "text": [
      "2022-12-02 01:27:41,873 - stpipe - INFO - \n"
     ]
    },
    {
     "name": "stdout",
     "output_type": "stream",
     "text": [
      "\n"
     ]
    },
    {
     "name": "stderr",
     "output_type": "stream",
     "text": [
      "2022-12-02 01:27:41,874 - stpipe - INFO - Removing intermediate files for jw02561001002_02101_00001_nrcblong_cal.fits\n",
      "2022-12-02 01:27:41,881 - stpipe - INFO - Removing intermediate files for jw02561001002_02101_00002_nrcblong_cal.fits\n",
      "2022-12-02 01:27:41,888 - stpipe - INFO - Removing intermediate files for jw02561001002_02101_00003_nrcblong_cal.fits\n",
      "2022-12-02 01:27:41,895 - stpipe - INFO - Removing intermediate files for jw02561001002_02101_00004_nrcblong_cal.fits\n",
      "2022-12-02 01:27:41,902 - stpipe - INFO - Trailer file written to:  astrodrizzle.log\n"
     ]
    },
    {
     "name": "stdout",
     "output_type": "stream",
     "text": [
      "Trailer file written to:  astrodrizzle.log\n",
      "nircam_wisp_correction - jw02561001002_02101_00001_nrcblong_cal.fits: NIRCam filter F277W not supported\n",
      "nircam_wisp_correction - jw02561001002_02101_00002_nrcblong_cal.fits: NIRCam filter F277W not supported\n",
      "nircam_wisp_correction - jw02561001002_02101_00003_nrcblong_cal.fits: NIRCam filter F277W not supported\n"
     ]
    },
    {
     "name": "stderr",
     "output_type": "stream",
     "text": [
      "2022-12-02 01:27:42,135 - stpipe - INFO - Setting up logfile :  astrodrizzle.log\n"
     ]
    },
    {
     "name": "stdout",
     "output_type": "stream",
     "text": [
      "nircam_wisp_correction - jw02561001002_02101_00004_nrcblong_cal.fits: NIRCam filter F277W not supported\n",
      "Setting up logfile :  astrodrizzle.log\n"
     ]
    },
    {
     "name": "stderr",
     "output_type": "stream",
     "text": [
      "2022-12-02 01:27:42,136 - stpipe - INFO - AstroDrizzle log file: astrodrizzle.log\n"
     ]
    },
    {
     "name": "stdout",
     "output_type": "stream",
     "text": [
      "AstroDrizzle log file: astrodrizzle.log\n"
     ]
    },
    {
     "name": "stderr",
     "output_type": "stream",
     "text": [
      "2022-12-02 01:27:42,137 - stpipe - INFO - AstroDrizzle Version 3.5.0 started at: 01:27:42.137 (02/12/2022)\n"
     ]
    },
    {
     "name": "stdout",
     "output_type": "stream",
     "text": [
      "AstroDrizzle Version 3.5.0 started at: 01:27:42.137 (02/12/2022)\n"
     ]
    },
    {
     "name": "stderr",
     "output_type": "stream",
     "text": [
      "2022-12-02 01:27:42,138 - stpipe - INFO - \n"
     ]
    },
    {
     "name": "stdout",
     "output_type": "stream",
     "text": [
      "\n"
     ]
    },
    {
     "name": "stderr",
     "output_type": "stream",
     "text": [
      "2022-12-02 01:27:42,139 - stpipe - INFO - Version Information\n",
      "2022-12-02 01:27:42,140 - stpipe - INFO - --------------------\n",
      "2022-12-02 01:27:42,140 - stpipe - INFO - Python Version [Clang 14.0.6 ]\n",
      "2022-12-02 01:27:42,140 - stpipe - INFO - 3.9.15 (main, Nov 24 2022, 08:29:02) \n",
      "2022-12-02 01:27:42,141 - stpipe - INFO - numpy Version -> 1.23.5 \n",
      "2022-12-02 01:27:42,141 - stpipe - INFO - astropy Version -> 5.1.1 \n",
      "2022-12-02 01:27:42,142 - stpipe - INFO - stwcs Version -> 1.7.2 \n",
      "2022-12-02 01:27:42,142 - stpipe - INFO - ==== Processing Step  Initialization  started at  01:27:42.142 (02/12/2022)\n"
     ]
    },
    {
     "name": "stdout",
     "output_type": "stream",
     "text": [
      "==== Processing Step  Initialization  started at  01:27:42.142 (02/12/2022)\n"
     ]
    },
    {
     "name": "stderr",
     "output_type": "stream",
     "text": [
      "2022-12-02 01:27:42,143 - stpipe - INFO - \n"
     ]
    },
    {
     "name": "stdout",
     "output_type": "stream",
     "text": [
      "\n"
     ]
    },
    {
     "name": "stderr",
     "output_type": "stream",
     "text": [
      "2022-12-02 01:27:42,184 - stpipe - INFO - Executing serially\n",
      "2022-12-02 01:27:42,235 - stpipe - INFO - Setting up output name: abell2744-preimg-02561-001-041.0-nrcb5-f277w-clear_drz.fits\n",
      "2022-12-02 01:27:42,236 - stpipe - INFO - -Creating imageObject List as input for processing steps.\n",
      "2022-12-02 01:27:42,301 - stpipe - INFO - Reading in MDRIZSKY of 0.1126424595713615\n",
      "2022-12-02 01:27:42,380 - stpipe - WARNING - /Users/ivo/anaconda/envs/jwst_nircam/lib/python3.9/site-packages/astropy/wcs/wcs.py:725: FITSFixedWarning: 'obsfix' made the change 'Set OBSGEO-L to    63.281076 from OBSGEO-[XYZ].\n",
      "Set OBSGEO-B to    28.491626 from OBSGEO-[XYZ].\n",
      "Set OBSGEO-H to 1394836264.421 from OBSGEO-[XYZ]'.\n",
      "  warnings.warn(\n",
      "\n",
      "2022-12-02 01:27:42,389 - stpipe - INFO - Reading in MDRIZSKY of 0.1122989356517792\n",
      "2022-12-02 01:27:42,468 - stpipe - WARNING - /Users/ivo/anaconda/envs/jwst_nircam/lib/python3.9/site-packages/astropy/wcs/wcs.py:725: FITSFixedWarning: 'obsfix' made the change 'Set OBSGEO-L to    63.299758 from OBSGEO-[XYZ].\n",
      "Set OBSGEO-B to    28.488124 from OBSGEO-[XYZ].\n",
      "Set OBSGEO-H to 1394952435.627 from OBSGEO-[XYZ]'.\n",
      "  warnings.warn(\n",
      "\n",
      "2022-12-02 01:27:42,476 - stpipe - INFO - Reading in MDRIZSKY of 0.1135078817605972\n",
      "2022-12-02 01:27:42,558 - stpipe - WARNING - /Users/ivo/anaconda/envs/jwst_nircam/lib/python3.9/site-packages/astropy/wcs/wcs.py:725: FITSFixedWarning: 'obsfix' made the change 'Set OBSGEO-L to    63.317268 from OBSGEO-[XYZ].\n",
      "Set OBSGEO-B to    28.484837 from OBSGEO-[XYZ].\n",
      "Set OBSGEO-H to 1395061354.150 from OBSGEO-[XYZ]'.\n",
      "  warnings.warn(\n",
      "\n",
      "2022-12-02 01:27:42,566 - stpipe - INFO - Reading in MDRIZSKY of 0.1141258776187897\n",
      "2022-12-02 01:27:42,582 - stpipe - INFO - No context image will be created for jw02561001002_02101_00001_nrcblong_cal.fits\n",
      "2022-12-02 01:27:42,583 - stpipe - INFO - No context image will be created for jw02561001002_02101_00002_nrcblong_cal.fits\n",
      "2022-12-02 01:27:42,583 - stpipe - INFO - No context image will be created for jw02561001002_02101_00003_nrcblong_cal.fits\n",
      "2022-12-02 01:27:42,583 - stpipe - INFO - No context image will be created for jw02561001002_02101_00004_nrcblong_cal.fits\n",
      "2022-12-02 01:27:42,584 - stpipe - INFO - -Creating output WCS.\n",
      "2022-12-02 01:27:42,586 - stpipe - INFO - No context image will be created for abell2744-preimg-02561-001-041.0-nrcb5-f277w-clear_drz.fits\n",
      "2022-12-02 01:27:42,588 - stpipe - INFO - WCS Keywords\n"
     ]
    },
    {
     "name": "stdout",
     "output_type": "stream",
     "text": [
      "WCS Keywords\n"
     ]
    },
    {
     "name": "stderr",
     "output_type": "stream",
     "text": [
      "2022-12-02 01:27:42,589 - stpipe - INFO - \n"
     ]
    },
    {
     "name": "stdout",
     "output_type": "stream",
     "text": [
      "\n"
     ]
    },
    {
     "name": "stderr",
     "output_type": "stream",
     "text": [
      "2022-12-02 01:27:42,589 - stpipe - INFO - Number of WCS axes: 2\n"
     ]
    },
    {
     "name": "stdout",
     "output_type": "stream",
     "text": [
      "Number of WCS axes: 2\n"
     ]
    },
    {
     "name": "stderr",
     "output_type": "stream",
     "text": [
      "2022-12-02 01:27:42,590 - stpipe - INFO - CTYPE : 'RA---TAN'  'DEC--TAN'  \n"
     ]
    },
    {
     "name": "stdout",
     "output_type": "stream",
     "text": [
      "CTYPE : 'RA---TAN'  'DEC--TAN'  \n"
     ]
    },
    {
     "name": "stderr",
     "output_type": "stream",
     "text": [
      "2022-12-02 01:27:42,591 - stpipe - INFO - CRVAL : 3.5361508472383063  -30.371700571904164  \n"
     ]
    },
    {
     "name": "stdout",
     "output_type": "stream",
     "text": [
      "CRVAL : 3.5361508472383063  -30.371700571904164  \n"
     ]
    },
    {
     "name": "stderr",
     "output_type": "stream",
     "text": [
      "2022-12-02 01:27:42,592 - stpipe - INFO - CRPIX : 1177.5  1174.0  \n"
     ]
    },
    {
     "name": "stdout",
     "output_type": "stream",
     "text": [
      "CRPIX : 1177.5  1174.0  \n"
     ]
    },
    {
     "name": "stderr",
     "output_type": "stream",
     "text": [
      "2022-12-02 01:27:42,593 - stpipe - INFO - CD1_1 CD1_2  : -1.3132835480748115e-05  1.156431969667578e-05  \n"
     ]
    },
    {
     "name": "stdout",
     "output_type": "stream",
     "text": [
      "CD1_1 CD1_2  : -1.3132835480748115e-05  1.156431969667578e-05  \n"
     ]
    },
    {
     "name": "stderr",
     "output_type": "stream",
     "text": [
      "2022-12-02 01:27:42,593 - stpipe - INFO - CD2_1 CD2_2  : 1.156431969667578e-05  1.3132835480748115e-05  \n"
     ]
    },
    {
     "name": "stdout",
     "output_type": "stream",
     "text": [
      "CD2_1 CD2_2  : 1.156431969667578e-05  1.3132835480748115e-05  \n"
     ]
    },
    {
     "name": "stderr",
     "output_type": "stream",
     "text": [
      "2022-12-02 01:27:42,594 - stpipe - INFO - NAXIS : 2355  2348\n"
     ]
    },
    {
     "name": "stdout",
     "output_type": "stream",
     "text": [
      "NAXIS : 2355  2348\n"
     ]
    },
    {
     "name": "stderr",
     "output_type": "stream",
     "text": [
      "2022-12-02 01:27:42,595 - stpipe - INFO - ********************************************************************************\n"
     ]
    },
    {
     "name": "stdout",
     "output_type": "stream",
     "text": [
      "********************************************************************************\n"
     ]
    },
    {
     "name": "stderr",
     "output_type": "stream",
     "text": [
      "2022-12-02 01:27:42,596 - stpipe - INFO - *\n"
     ]
    },
    {
     "name": "stdout",
     "output_type": "stream",
     "text": [
      "*\n"
     ]
    },
    {
     "name": "stderr",
     "output_type": "stream",
     "text": [
      "2022-12-02 01:27:42,597 - stpipe - INFO - *  Estimated memory usage:  up to 95 Mb.\n"
     ]
    },
    {
     "name": "stdout",
     "output_type": "stream",
     "text": [
      "*  Estimated memory usage:  up to 95 Mb.\n"
     ]
    },
    {
     "name": "stderr",
     "output_type": "stream",
     "text": [
      "2022-12-02 01:27:42,598 - stpipe - INFO - *  Output image size:       2355 X 2348 pixels. \n"
     ]
    },
    {
     "name": "stdout",
     "output_type": "stream",
     "text": [
      "*  Output image size:       2355 X 2348 pixels. \n"
     ]
    },
    {
     "name": "stderr",
     "output_type": "stream",
     "text": [
      "2022-12-02 01:27:42,598 - stpipe - INFO - *  Output image file:       ~ 63 Mb. \n"
     ]
    },
    {
     "name": "stdout",
     "output_type": "stream",
     "text": [
      "*  Output image file:       ~ 63 Mb. \n"
     ]
    },
    {
     "name": "stderr",
     "output_type": "stream",
     "text": [
      "2022-12-02 01:27:42,599 - stpipe - INFO - *  Cores available:         1\n"
     ]
    },
    {
     "name": "stdout",
     "output_type": "stream",
     "text": [
      "*  Cores available:         1\n"
     ]
    },
    {
     "name": "stderr",
     "output_type": "stream",
     "text": [
      "2022-12-02 01:27:42,600 - stpipe - INFO - *\n"
     ]
    },
    {
     "name": "stdout",
     "output_type": "stream",
     "text": [
      "*\n"
     ]
    },
    {
     "name": "stderr",
     "output_type": "stream",
     "text": [
      "2022-12-02 01:27:42,601 - stpipe - INFO - ********************************************************************************\n"
     ]
    },
    {
     "name": "stdout",
     "output_type": "stream",
     "text": [
      "********************************************************************************\n"
     ]
    },
    {
     "name": "stderr",
     "output_type": "stream",
     "text": [
      "2022-12-02 01:27:42,601 - stpipe - INFO - ==== Processing Step Initialization finished at 01:27:42.60 (02/12/2022)\n"
     ]
    },
    {
     "name": "stdout",
     "output_type": "stream",
     "text": [
      "==== Processing Step Initialization finished at 01:27:42.60 (02/12/2022)\n"
     ]
    },
    {
     "name": "stderr",
     "output_type": "stream",
     "text": [
      "2022-12-02 01:27:42,602 - stpipe - INFO - USER INPUT PARAMETERS common to all Processing Steps:\n",
      "2022-12-02 01:27:42,602 - stpipe - INFO - \tbuild :\tFalse\n",
      "2022-12-02 01:27:42,603 - stpipe - INFO - \tcoeffs :\tTrue\n",
      "2022-12-02 01:27:42,603 - stpipe - INFO - \tcontext :\tFalse\n",
      "2022-12-02 01:27:42,603 - stpipe - INFO - \tcrbit :\t4096\n",
      "2022-12-02 01:27:42,604 - stpipe - INFO - \tgroup :\t\n",
      "2022-12-02 01:27:42,604 - stpipe - INFO - \tin_memory :\tFalse\n",
      "2022-12-02 01:27:42,604 - stpipe - INFO - \tinput :\t['jw02561001002_02101_00001_nrcblong_cal.fits', 'jw02561001002_02101_00002_nrcblong_cal.fits', 'jw02561001002_02101_00003_nrcblong_cal.fits', 'jw02561001002_02101_00004_nrcblong_cal.fits']\n",
      "2022-12-02 01:27:42,604 - stpipe - INFO - \tmdriztab :\tFalse\n",
      "2022-12-02 01:27:42,605 - stpipe - INFO - \tnum_cores :\tNone\n",
      "2022-12-02 01:27:42,605 - stpipe - INFO - \toutput :\tabell2744-preimg-02561-001-041.0-nrcb5-f277w-clear\n",
      "2022-12-02 01:27:42,606 - stpipe - INFO - \tproc_unit :\tnative\n",
      "2022-12-02 01:27:42,606 - stpipe - INFO - \tresetbits :\t0\n",
      "2022-12-02 01:27:42,606 - stpipe - INFO - \trules_file :\t\n",
      "2022-12-02 01:27:42,607 - stpipe - INFO - \trunfile :\tastrodrizzle.log\n",
      "2022-12-02 01:27:42,607 - stpipe - INFO - \tstepsize :\t10\n",
      "2022-12-02 01:27:42,607 - stpipe - INFO - \tupdatewcs :\tFalse\n",
      "2022-12-02 01:27:42,608 - stpipe - INFO - \twcskey :\t\n",
      "2022-12-02 01:27:42,608 - stpipe - INFO - ==== Processing Step  Static Mask  started at  01:27:42.608 (02/12/2022)\n"
     ]
    },
    {
     "name": "stdout",
     "output_type": "stream",
     "text": [
      "==== Processing Step  Static Mask  started at  01:27:42.608 (02/12/2022)\n"
     ]
    },
    {
     "name": "stderr",
     "output_type": "stream",
     "text": [
      "2022-12-02 01:27:42,609 - stpipe - INFO - \n"
     ]
    },
    {
     "name": "stdout",
     "output_type": "stream",
     "text": [
      "\n"
     ]
    },
    {
     "name": "stderr",
     "output_type": "stream",
     "text": [
      "2022-12-02 01:27:42,610 - stpipe - INFO - USER INPUT PARAMETERS for Static Mask Step:\n",
      "2022-12-02 01:27:42,611 - stpipe - INFO - \tstatic :\tTrue\n",
      "2022-12-02 01:27:42,611 - stpipe - INFO - \tstatic_sig :\t4.0\n",
      "2022-12-02 01:27:42,611 - stpipe - INFO - Computing static mask:\n",
      "2022-12-02 01:27:42,612 - stpipe - INFO - \n",
      "2022-12-02 01:27:42,697 - stpipe - INFO -   mode =  0.110869;   rms = 0.016940;   static_sig = 4.00\n",
      "2022-12-02 01:27:42,701 - stpipe - INFO - Computing static mask:\n",
      "2022-12-02 01:27:42,701 - stpipe - INFO - \n",
      "2022-12-02 01:27:42,787 - stpipe - INFO -   mode =  0.110407;   rms = 0.017586;   static_sig = 4.00\n",
      "2022-12-02 01:27:42,792 - stpipe - INFO - Computing static mask:\n",
      "2022-12-02 01:27:42,793 - stpipe - INFO - \n",
      "2022-12-02 01:27:42,874 - stpipe - INFO -   mode =  0.110792;   rms = 0.019344;   static_sig = 4.00\n",
      "2022-12-02 01:27:42,877 - stpipe - INFO - Computing static mask:\n",
      "2022-12-02 01:27:42,878 - stpipe - INFO - \n",
      "2022-12-02 01:27:42,964 - stpipe - INFO -   mode =  0.111335;   rms = 0.019659;   static_sig = 4.00\n",
      "2022-12-02 01:27:42,988 - stpipe - INFO - Saving static mask to disk: ./_2048x2048_1_staticMask.fits\n",
      "2022-12-02 01:27:42,988 - stpipe - INFO - ==== Processing Step Static Mask finished at 01:27:42.988 (02/12/2022)\n"
     ]
    },
    {
     "name": "stdout",
     "output_type": "stream",
     "text": [
      "==== Processing Step Static Mask finished at 01:27:42.988 (02/12/2022)\n"
     ]
    },
    {
     "name": "stderr",
     "output_type": "stream",
     "text": [
      "2022-12-02 01:27:42,989 - stpipe - INFO - ==== Processing Step  Subtract Sky  started at  01:27:42.98 (02/12/2022)\n"
     ]
    },
    {
     "name": "stdout",
     "output_type": "stream",
     "text": [
      "==== Processing Step  Subtract Sky  started at  01:27:42.98 (02/12/2022)\n"
     ]
    },
    {
     "name": "stderr",
     "output_type": "stream",
     "text": [
      "2022-12-02 01:27:42,990 - stpipe - INFO - \n"
     ]
    },
    {
     "name": "stdout",
     "output_type": "stream",
     "text": [
      "\n"
     ]
    },
    {
     "name": "stderr",
     "output_type": "stream",
     "text": [
      "2022-12-02 01:27:42,991 - stpipe - INFO - USER INPUT PARAMETERS for Sky Subtraction Step:\n",
      "2022-12-02 01:27:42,991 - stpipe - INFO - \tsky_bits :\t0\n",
      "2022-12-02 01:27:42,992 - stpipe - INFO - \tskyclip :\t5\n",
      "2022-12-02 01:27:42,992 - stpipe - INFO - \tskyfile :\t\n",
      "2022-12-02 01:27:42,993 - stpipe - INFO - \tskylower :\tNone\n",
      "2022-12-02 01:27:42,993 - stpipe - INFO - \tskylsigma :\t4.0\n",
      "2022-12-02 01:27:42,993 - stpipe - INFO - \tskymask_cat :\t\n",
      "2022-12-02 01:27:42,994 - stpipe - INFO - \tskymethod :\tlocalmin\n",
      "2022-12-02 01:27:42,994 - stpipe - INFO - \tskystat :\tmedian\n",
      "2022-12-02 01:27:42,994 - stpipe - INFO - \tskysub :\tTrue\n",
      "2022-12-02 01:27:42,995 - stpipe - INFO - \tskyupper :\tNone\n",
      "2022-12-02 01:27:42,995 - stpipe - INFO - \tskyuser :\t\n",
      "2022-12-02 01:27:42,996 - stpipe - INFO - \tskyusigma :\t4.0\n",
      "2022-12-02 01:27:42,996 - stpipe - INFO - \tskywidth :\t0.1\n",
      "2022-12-02 01:27:42,996 - stpipe - INFO - \tuse_static :\tTrue\n",
      "2022-12-02 01:27:43,094 - stpipe - INFO - ***** skymatch started on 2022-12-02 01:27:43.094700\n"
     ]
    },
    {
     "name": "stdout",
     "output_type": "stream",
     "text": [
      "***** skymatch started on 2022-12-02 01:27:43.094700\n"
     ]
    },
    {
     "name": "stderr",
     "output_type": "stream",
     "text": [
      "2022-12-02 01:27:43,095 - stpipe - INFO -       Version 1.0.9\n"
     ]
    },
    {
     "name": "stdout",
     "output_type": "stream",
     "text": [
      "      Version 1.0.9\n"
     ]
    },
    {
     "name": "stderr",
     "output_type": "stream",
     "text": [
      "2022-12-02 01:27:43,096 - stpipe - INFO - \n"
     ]
    },
    {
     "name": "stdout",
     "output_type": "stream",
     "text": [
      "\n"
     ]
    },
    {
     "name": "stderr",
     "output_type": "stream",
     "text": [
      "2022-12-02 01:27:43,097 - stpipe - INFO - 'skymatch' task will apply computed sky differences to input image file(s).\n"
     ]
    },
    {
     "name": "stdout",
     "output_type": "stream",
     "text": [
      "'skymatch' task will apply computed sky differences to input image file(s).\n"
     ]
    },
    {
     "name": "stderr",
     "output_type": "stream",
     "text": [
      "2022-12-02 01:27:43,098 - stpipe - INFO - \n"
     ]
    },
    {
     "name": "stdout",
     "output_type": "stream",
     "text": [
      "\n"
     ]
    },
    {
     "name": "stderr",
     "output_type": "stream",
     "text": [
      "2022-12-02 01:27:43,099 - stpipe - INFO - NOTE: Computed sky values WILL NOT be subtracted from image data ('subtractsky'=False).\n"
     ]
    },
    {
     "name": "stdout",
     "output_type": "stream",
     "text": [
      "NOTE: Computed sky values WILL NOT be subtracted from image data ('subtractsky'=False).\n"
     ]
    },
    {
     "name": "stderr",
     "output_type": "stream",
     "text": [
      "2022-12-02 01:27:43,100 - stpipe - INFO - 'MDRIZSKY' header keyword will represent sky value *computed* from data.\n"
     ]
    },
    {
     "name": "stdout",
     "output_type": "stream",
     "text": [
      "'MDRIZSKY' header keyword will represent sky value *computed* from data.\n"
     ]
    },
    {
     "name": "stderr",
     "output_type": "stream",
     "text": [
      "2022-12-02 01:27:43,101 - stpipe - INFO - \n"
     ]
    },
    {
     "name": "stdout",
     "output_type": "stream",
     "text": [
      "\n"
     ]
    },
    {
     "name": "stderr",
     "output_type": "stream",
     "text": [
      "2022-12-02 01:27:43,102 - stpipe - INFO - -----  User specified keywords:  -----\n"
     ]
    },
    {
     "name": "stdout",
     "output_type": "stream",
     "text": [
      "-----  User specified keywords:  -----\n"
     ]
    },
    {
     "name": "stderr",
     "output_type": "stream",
     "text": [
      "2022-12-02 01:27:43,102 - stpipe - INFO -        Sky Value Keyword:  'MDRIZSKY'\n"
     ]
    },
    {
     "name": "stdout",
     "output_type": "stream",
     "text": [
      "       Sky Value Keyword:  'MDRIZSKY'\n"
     ]
    },
    {
     "name": "stderr",
     "output_type": "stream",
     "text": [
      "2022-12-02 01:27:43,103 - stpipe - INFO -        Data Units Keyword: 'BUNIT'\n"
     ]
    },
    {
     "name": "stdout",
     "output_type": "stream",
     "text": [
      "       Data Units Keyword: 'BUNIT'\n"
     ]
    },
    {
     "name": "stderr",
     "output_type": "stream",
     "text": [
      "2022-12-02 01:27:43,104 - stpipe - INFO - \n"
     ]
    },
    {
     "name": "stdout",
     "output_type": "stream",
     "text": [
      "\n"
     ]
    },
    {
     "name": "stderr",
     "output_type": "stream",
     "text": [
      "2022-12-02 01:27:43,105 - stpipe - INFO - \n"
     ]
    },
    {
     "name": "stdout",
     "output_type": "stream",
     "text": [
      "\n"
     ]
    },
    {
     "name": "stderr",
     "output_type": "stream",
     "text": [
      "2022-12-02 01:27:43,106 - stpipe - INFO - -----  Input file list:  -----\n"
     ]
    },
    {
     "name": "stdout",
     "output_type": "stream",
     "text": [
      "-----  Input file list:  -----\n"
     ]
    },
    {
     "name": "stderr",
     "output_type": "stream",
     "text": [
      "2022-12-02 01:27:43,107 - stpipe - INFO - \n"
     ]
    },
    {
     "name": "stdout",
     "output_type": "stream",
     "text": [
      "\n"
     ]
    },
    {
     "name": "stderr",
     "output_type": "stream",
     "text": [
      "2022-12-02 01:27:43,108 - stpipe - INFO -    **  Input image: 'jw02561001002_02101_00001_nrcblong_cal.fits'\n"
     ]
    },
    {
     "name": "stdout",
     "output_type": "stream",
     "text": [
      "   **  Input image: 'jw02561001002_02101_00001_nrcblong_cal.fits'\n"
     ]
    },
    {
     "name": "stderr",
     "output_type": "stream",
     "text": [
      "2022-12-02 01:27:43,108 - stpipe - INFO -        EXT: 'SCI',1;\tMASK: jw02561001002_02101_00001_nrcblong_skymatch_mask_sci1.fits[0]\n"
     ]
    },
    {
     "name": "stdout",
     "output_type": "stream",
     "text": [
      "       EXT: 'SCI',1;\tMASK: jw02561001002_02101_00001_nrcblong_skymatch_mask_sci1.fits[0]\n"
     ]
    },
    {
     "name": "stderr",
     "output_type": "stream",
     "text": [
      "2022-12-02 01:27:43,109 - stpipe - INFO - \n"
     ]
    },
    {
     "name": "stdout",
     "output_type": "stream",
     "text": [
      "\n"
     ]
    },
    {
     "name": "stderr",
     "output_type": "stream",
     "text": [
      "2022-12-02 01:27:43,110 - stpipe - INFO -    **  Input image: 'jw02561001002_02101_00002_nrcblong_cal.fits'\n"
     ]
    },
    {
     "name": "stdout",
     "output_type": "stream",
     "text": [
      "   **  Input image: 'jw02561001002_02101_00002_nrcblong_cal.fits'\n"
     ]
    },
    {
     "name": "stderr",
     "output_type": "stream",
     "text": [
      "2022-12-02 01:27:43,111 - stpipe - INFO -        EXT: 'SCI',1;\tMASK: jw02561001002_02101_00002_nrcblong_skymatch_mask_sci1.fits[0]\n"
     ]
    },
    {
     "name": "stdout",
     "output_type": "stream",
     "text": [
      "       EXT: 'SCI',1;\tMASK: jw02561001002_02101_00002_nrcblong_skymatch_mask_sci1.fits[0]\n"
     ]
    },
    {
     "name": "stderr",
     "output_type": "stream",
     "text": [
      "2022-12-02 01:27:43,111 - stpipe - INFO - \n"
     ]
    },
    {
     "name": "stdout",
     "output_type": "stream",
     "text": [
      "\n"
     ]
    },
    {
     "name": "stderr",
     "output_type": "stream",
     "text": [
      "2022-12-02 01:27:43,112 - stpipe - INFO -    **  Input image: 'jw02561001002_02101_00003_nrcblong_cal.fits'\n"
     ]
    },
    {
     "name": "stdout",
     "output_type": "stream",
     "text": [
      "   **  Input image: 'jw02561001002_02101_00003_nrcblong_cal.fits'\n"
     ]
    },
    {
     "name": "stderr",
     "output_type": "stream",
     "text": [
      "2022-12-02 01:27:43,113 - stpipe - INFO -        EXT: 'SCI',1;\tMASK: jw02561001002_02101_00003_nrcblong_skymatch_mask_sci1.fits[0]\n"
     ]
    },
    {
     "name": "stdout",
     "output_type": "stream",
     "text": [
      "       EXT: 'SCI',1;\tMASK: jw02561001002_02101_00003_nrcblong_skymatch_mask_sci1.fits[0]\n"
     ]
    },
    {
     "name": "stderr",
     "output_type": "stream",
     "text": [
      "2022-12-02 01:27:43,114 - stpipe - INFO - \n"
     ]
    },
    {
     "name": "stdout",
     "output_type": "stream",
     "text": [
      "\n"
     ]
    },
    {
     "name": "stderr",
     "output_type": "stream",
     "text": [
      "2022-12-02 01:27:43,114 - stpipe - INFO -    **  Input image: 'jw02561001002_02101_00004_nrcblong_cal.fits'\n"
     ]
    },
    {
     "name": "stdout",
     "output_type": "stream",
     "text": [
      "   **  Input image: 'jw02561001002_02101_00004_nrcblong_cal.fits'\n"
     ]
    },
    {
     "name": "stderr",
     "output_type": "stream",
     "text": [
      "2022-12-02 01:27:43,115 - stpipe - INFO -        EXT: 'SCI',1;\tMASK: jw02561001002_02101_00004_nrcblong_skymatch_mask_sci1.fits[0]\n"
     ]
    },
    {
     "name": "stdout",
     "output_type": "stream",
     "text": [
      "       EXT: 'SCI',1;\tMASK: jw02561001002_02101_00004_nrcblong_skymatch_mask_sci1.fits[0]\n"
     ]
    },
    {
     "name": "stderr",
     "output_type": "stream",
     "text": [
      "2022-12-02 01:27:43,116 - stpipe - INFO - \n"
     ]
    },
    {
     "name": "stdout",
     "output_type": "stream",
     "text": [
      "\n"
     ]
    },
    {
     "name": "stderr",
     "output_type": "stream",
     "text": [
      "2022-12-02 01:27:43,117 - stpipe - INFO - -----  Sky statistics parameters:  -----\n"
     ]
    },
    {
     "name": "stdout",
     "output_type": "stream",
     "text": [
      "-----  Sky statistics parameters:  -----\n"
     ]
    },
    {
     "name": "stderr",
     "output_type": "stream",
     "text": [
      "2022-12-02 01:27:43,117 - stpipe - INFO -        statistics function: 'median'\n"
     ]
    },
    {
     "name": "stdout",
     "output_type": "stream",
     "text": [
      "       statistics function: 'median'\n"
     ]
    },
    {
     "name": "stderr",
     "output_type": "stream",
     "text": [
      "2022-12-02 01:27:43,118 - stpipe - INFO -        lower = None\n"
     ]
    },
    {
     "name": "stdout",
     "output_type": "stream",
     "text": [
      "       lower = None\n"
     ]
    },
    {
     "name": "stderr",
     "output_type": "stream",
     "text": [
      "2022-12-02 01:27:43,119 - stpipe - INFO -        upper = None\n"
     ]
    },
    {
     "name": "stdout",
     "output_type": "stream",
     "text": [
      "       upper = None\n"
     ]
    },
    {
     "name": "stderr",
     "output_type": "stream",
     "text": [
      "2022-12-02 01:27:43,120 - stpipe - INFO -        nclip = 5\n"
     ]
    },
    {
     "name": "stdout",
     "output_type": "stream",
     "text": [
      "       nclip = 5\n"
     ]
    },
    {
     "name": "stderr",
     "output_type": "stream",
     "text": [
      "2022-12-02 01:27:43,121 - stpipe - INFO -        lsigma = 4.0\n"
     ]
    },
    {
     "name": "stdout",
     "output_type": "stream",
     "text": [
      "       lsigma = 4.0\n"
     ]
    },
    {
     "name": "stderr",
     "output_type": "stream",
     "text": [
      "2022-12-02 01:27:43,121 - stpipe - INFO -        usigma = 4.0\n"
     ]
    },
    {
     "name": "stdout",
     "output_type": "stream",
     "text": [
      "       usigma = 4.0\n"
     ]
    },
    {
     "name": "stderr",
     "output_type": "stream",
     "text": [
      "2022-12-02 01:27:43,122 - stpipe - INFO -        binwidth = 0.1\n"
     ]
    },
    {
     "name": "stdout",
     "output_type": "stream",
     "text": [
      "       binwidth = 0.1\n"
     ]
    },
    {
     "name": "stderr",
     "output_type": "stream",
     "text": [
      "2022-12-02 01:27:43,123 - stpipe - INFO - \n"
     ]
    },
    {
     "name": "stdout",
     "output_type": "stream",
     "text": [
      "\n"
     ]
    },
    {
     "name": "stderr",
     "output_type": "stream",
     "text": [
      "2022-12-02 01:27:43,124 - stpipe - INFO - -----  Data->Brightness conversion parameters for input files:  -----\n"
     ]
    },
    {
     "name": "stdout",
     "output_type": "stream",
     "text": [
      "-----  Data->Brightness conversion parameters for input files:  -----\n"
     ]
    },
    {
     "name": "stderr",
     "output_type": "stream",
     "text": [
      "2022-12-02 01:27:43,125 - stpipe - INFO - \n"
     ]
    },
    {
     "name": "stdout",
     "output_type": "stream",
     "text": [
      "\n"
     ]
    },
    {
     "name": "stderr",
     "output_type": "stream",
     "text": [
      "2022-12-02 01:27:43,126 - stpipe - INFO -    *   Image: jw02561001002_02101_00001_nrcblong_cal.fits\n"
     ]
    },
    {
     "name": "stdout",
     "output_type": "stream",
     "text": [
      "   *   Image: jw02561001002_02101_00001_nrcblong_cal.fits\n"
     ]
    },
    {
     "name": "stderr",
     "output_type": "stream",
     "text": [
      "2022-12-02 01:27:43,138 - stpipe - WARNING - /Users/ivo/anaconda/envs/jwst_nircam/lib/python3.9/site-packages/astropy/wcs/wcs.py:725: FITSFixedWarning: 'obsfix' made the change 'Set OBSGEO-L to    63.263556 from OBSGEO-[XYZ].\n",
      "Set OBSGEO-B to    28.494908 from OBSGEO-[XYZ].\n",
      "Set OBSGEO-H to 1394727362.015 from OBSGEO-[XYZ]'.\n",
      "  warnings.warn(\n",
      "\n",
      "2022-12-02 01:27:43,141 - stpipe - INFO -        EXT = 'SCI',1\n"
     ]
    },
    {
     "name": "stdout",
     "output_type": "stream",
     "text": [
      "       EXT = 'SCI',1\n"
     ]
    },
    {
     "name": "stderr",
     "output_type": "stream",
     "text": [
      "2022-12-02 01:27:43,142 - stpipe - INFO -              Data units type: COUNT-RATE\n"
     ]
    },
    {
     "name": "stdout",
     "output_type": "stream",
     "text": [
      "             Data units type: COUNT-RATE\n"
     ]
    },
    {
     "name": "stderr",
     "output_type": "stream",
     "text": [
      "2022-12-02 01:27:43,143 - stpipe - INFO -              Conversion factor (data->brightness):  251.9897769705075\n"
     ]
    },
    {
     "name": "stdout",
     "output_type": "stream",
     "text": [
      "             Conversion factor (data->brightness):  251.9897769705075\n"
     ]
    },
    {
     "name": "stderr",
     "output_type": "stream",
     "text": [
      "2022-12-02 01:27:43,143 - stpipe - INFO - \n"
     ]
    },
    {
     "name": "stdout",
     "output_type": "stream",
     "text": [
      "\n"
     ]
    },
    {
     "name": "stderr",
     "output_type": "stream",
     "text": [
      "2022-12-02 01:27:43,144 - stpipe - INFO -    *   Image: jw02561001002_02101_00002_nrcblong_cal.fits\n"
     ]
    },
    {
     "name": "stdout",
     "output_type": "stream",
     "text": [
      "   *   Image: jw02561001002_02101_00002_nrcblong_cal.fits\n"
     ]
    },
    {
     "name": "stderr",
     "output_type": "stream",
     "text": [
      "2022-12-02 01:27:43,157 - stpipe - WARNING - /Users/ivo/anaconda/envs/jwst_nircam/lib/python3.9/site-packages/astropy/wcs/wcs.py:725: FITSFixedWarning: 'obsfix' made the change 'Set OBSGEO-L to    63.281076 from OBSGEO-[XYZ].\n",
      "Set OBSGEO-B to    28.491626 from OBSGEO-[XYZ].\n",
      "Set OBSGEO-H to 1394836264.421 from OBSGEO-[XYZ]'.\n",
      "  warnings.warn(\n",
      "\n",
      "2022-12-02 01:27:43,159 - stpipe - INFO -        EXT = 'SCI',1\n"
     ]
    },
    {
     "name": "stdout",
     "output_type": "stream",
     "text": [
      "       EXT = 'SCI',1\n"
     ]
    },
    {
     "name": "stderr",
     "output_type": "stream",
     "text": [
      "2022-12-02 01:27:43,160 - stpipe - INFO -              Data units type: COUNT-RATE\n"
     ]
    },
    {
     "name": "stdout",
     "output_type": "stream",
     "text": [
      "             Data units type: COUNT-RATE\n"
     ]
    },
    {
     "name": "stderr",
     "output_type": "stream",
     "text": [
      "2022-12-02 01:27:43,160 - stpipe - INFO -              Conversion factor (data->brightness):  251.98978027835315\n"
     ]
    },
    {
     "name": "stdout",
     "output_type": "stream",
     "text": [
      "             Conversion factor (data->brightness):  251.98978027835315\n"
     ]
    },
    {
     "name": "stderr",
     "output_type": "stream",
     "text": [
      "2022-12-02 01:27:43,161 - stpipe - INFO - \n"
     ]
    },
    {
     "name": "stdout",
     "output_type": "stream",
     "text": [
      "\n"
     ]
    },
    {
     "name": "stderr",
     "output_type": "stream",
     "text": [
      "2022-12-02 01:27:43,162 - stpipe - INFO -    *   Image: jw02561001002_02101_00003_nrcblong_cal.fits\n"
     ]
    },
    {
     "name": "stdout",
     "output_type": "stream",
     "text": [
      "   *   Image: jw02561001002_02101_00003_nrcblong_cal.fits\n"
     ]
    },
    {
     "name": "stderr",
     "output_type": "stream",
     "text": [
      "2022-12-02 01:27:43,175 - stpipe - WARNING - /Users/ivo/anaconda/envs/jwst_nircam/lib/python3.9/site-packages/astropy/wcs/wcs.py:725: FITSFixedWarning: 'obsfix' made the change 'Set OBSGEO-L to    63.299758 from OBSGEO-[XYZ].\n",
      "Set OBSGEO-B to    28.488124 from OBSGEO-[XYZ].\n",
      "Set OBSGEO-H to 1394952435.627 from OBSGEO-[XYZ]'.\n",
      "  warnings.warn(\n",
      "\n",
      "2022-12-02 01:27:43,177 - stpipe - INFO -        EXT = 'SCI',1\n"
     ]
    },
    {
     "name": "stdout",
     "output_type": "stream",
     "text": [
      "       EXT = 'SCI',1\n"
     ]
    },
    {
     "name": "stderr",
     "output_type": "stream",
     "text": [
      "2022-12-02 01:27:43,178 - stpipe - INFO -              Data units type: COUNT-RATE\n"
     ]
    },
    {
     "name": "stdout",
     "output_type": "stream",
     "text": [
      "             Data units type: COUNT-RATE\n"
     ]
    },
    {
     "name": "stderr",
     "output_type": "stream",
     "text": [
      "2022-12-02 01:27:43,179 - stpipe - INFO -              Conversion factor (data->brightness):  251.98978793270982\n"
     ]
    },
    {
     "name": "stdout",
     "output_type": "stream",
     "text": [
      "             Conversion factor (data->brightness):  251.98978793270982\n"
     ]
    },
    {
     "name": "stderr",
     "output_type": "stream",
     "text": [
      "2022-12-02 01:27:43,180 - stpipe - INFO - \n"
     ]
    },
    {
     "name": "stdout",
     "output_type": "stream",
     "text": [
      "\n"
     ]
    },
    {
     "name": "stderr",
     "output_type": "stream",
     "text": [
      "2022-12-02 01:27:43,180 - stpipe - INFO -    *   Image: jw02561001002_02101_00004_nrcblong_cal.fits\n"
     ]
    },
    {
     "name": "stdout",
     "output_type": "stream",
     "text": [
      "   *   Image: jw02561001002_02101_00004_nrcblong_cal.fits\n"
     ]
    },
    {
     "name": "stderr",
     "output_type": "stream",
     "text": [
      "2022-12-02 01:27:43,192 - stpipe - WARNING - /Users/ivo/anaconda/envs/jwst_nircam/lib/python3.9/site-packages/astropy/wcs/wcs.py:725: FITSFixedWarning: 'obsfix' made the change 'Set OBSGEO-L to    63.317268 from OBSGEO-[XYZ].\n",
      "Set OBSGEO-B to    28.484837 from OBSGEO-[XYZ].\n",
      "Set OBSGEO-H to 1395061354.150 from OBSGEO-[XYZ]'.\n",
      "  warnings.warn(\n",
      "\n",
      "2022-12-02 01:27:43,195 - stpipe - INFO -        EXT = 'SCI',1\n"
     ]
    },
    {
     "name": "stdout",
     "output_type": "stream",
     "text": [
      "       EXT = 'SCI',1\n"
     ]
    },
    {
     "name": "stderr",
     "output_type": "stream",
     "text": [
      "2022-12-02 01:27:43,195 - stpipe - INFO -              Data units type: COUNT-RATE\n"
     ]
    },
    {
     "name": "stdout",
     "output_type": "stream",
     "text": [
      "             Data units type: COUNT-RATE\n"
     ]
    },
    {
     "name": "stderr",
     "output_type": "stream",
     "text": [
      "2022-12-02 01:27:43,196 - stpipe - INFO -              Conversion factor (data->brightness):  251.98978489974715\n"
     ]
    },
    {
     "name": "stdout",
     "output_type": "stream",
     "text": [
      "             Conversion factor (data->brightness):  251.98978489974715\n"
     ]
    },
    {
     "name": "stderr",
     "output_type": "stream",
     "text": [
      "2022-12-02 01:27:43,197 - stpipe - INFO - \n"
     ]
    },
    {
     "name": "stdout",
     "output_type": "stream",
     "text": [
      "\n"
     ]
    },
    {
     "name": "stderr",
     "output_type": "stream",
     "text": [
      "2022-12-02 01:27:43,198 - stpipe - INFO - \n"
     ]
    },
    {
     "name": "stdout",
     "output_type": "stream",
     "text": [
      "\n"
     ]
    },
    {
     "name": "stderr",
     "output_type": "stream",
     "text": [
      "2022-12-02 01:27:43,199 - stpipe - INFO - -----  Computing sky values requested image extensions (detector chips):  -----\n"
     ]
    },
    {
     "name": "stdout",
     "output_type": "stream",
     "text": [
      "-----  Computing sky values requested image extensions (detector chips):  -----\n"
     ]
    },
    {
     "name": "stderr",
     "output_type": "stream",
     "text": [
      "2022-12-02 01:27:43,200 - stpipe - INFO - \n"
     ]
    },
    {
     "name": "stdout",
     "output_type": "stream",
     "text": [
      "\n"
     ]
    },
    {
     "name": "stderr",
     "output_type": "stream",
     "text": [
      "2022-12-02 01:27:43,339 - stpipe - INFO -    *   Image:   'jw02561001002_02101_00001_nrcblong_cal.fits['SCI',1]'  --  SKY = 28.384742632386374 (brightness units)\n"
     ]
    },
    {
     "name": "stdout",
     "output_type": "stream",
     "text": [
      "   *   Image:   'jw02561001002_02101_00001_nrcblong_cal.fits['SCI',1]'  --  SKY = 28.384742632386374 (brightness units)\n"
     ]
    },
    {
     "name": "stderr",
     "output_type": "stream",
     "text": [
      "2022-12-02 01:27:43,340 - stpipe - INFO -        Sky change (data units):\n"
     ]
    },
    {
     "name": "stdout",
     "output_type": "stream",
     "text": [
      "       Sky change (data units):\n"
     ]
    },
    {
     "name": "stderr",
     "output_type": "stream",
     "text": [
      "2022-12-02 01:27:43,340 - stpipe - INFO -       - EXT = 'SCI',1   delta(MDRIZSKY) = 0.112642   NEW MDRIZSKY = 0.112642\n"
     ]
    },
    {
     "name": "stdout",
     "output_type": "stream",
     "text": [
      "      - EXT = 'SCI',1   delta(MDRIZSKY) = 0.112642   NEW MDRIZSKY = 0.112642\n"
     ]
    },
    {
     "name": "stderr",
     "output_type": "stream",
     "text": [
      "2022-12-02 01:27:43,471 - stpipe - INFO -    *   Image:   'jw02561001002_02101_00002_nrcblong_cal.fits['SCI',1]'  --  SKY = 28.298157835802407 (brightness units)\n"
     ]
    },
    {
     "name": "stdout",
     "output_type": "stream",
     "text": [
      "   *   Image:   'jw02561001002_02101_00002_nrcblong_cal.fits['SCI',1]'  --  SKY = 28.298157835802407 (brightness units)\n"
     ]
    },
    {
     "name": "stderr",
     "output_type": "stream",
     "text": [
      "2022-12-02 01:27:43,473 - stpipe - INFO -        Sky change (data units):\n"
     ]
    },
    {
     "name": "stdout",
     "output_type": "stream",
     "text": [
      "       Sky change (data units):\n"
     ]
    },
    {
     "name": "stderr",
     "output_type": "stream",
     "text": [
      "2022-12-02 01:27:43,474 - stpipe - INFO -       - EXT = 'SCI',1   delta(MDRIZSKY) = 0.112299   NEW MDRIZSKY = 0.112299\n"
     ]
    },
    {
     "name": "stdout",
     "output_type": "stream",
     "text": [
      "      - EXT = 'SCI',1   delta(MDRIZSKY) = 0.112299   NEW MDRIZSKY = 0.112299\n"
     ]
    },
    {
     "name": "stderr",
     "output_type": "stream",
     "text": [
      "2022-12-02 01:27:43,603 - stpipe - INFO -    *   Image:   'jw02561001002_02101_00003_nrcblong_cal.fits['SCI',1]'  --  SKY = 28.602827053543997 (brightness units)\n"
     ]
    },
    {
     "name": "stdout",
     "output_type": "stream",
     "text": [
      "   *   Image:   'jw02561001002_02101_00003_nrcblong_cal.fits['SCI',1]'  --  SKY = 28.602827053543997 (brightness units)\n"
     ]
    },
    {
     "name": "stderr",
     "output_type": "stream",
     "text": [
      "2022-12-02 01:27:43,604 - stpipe - INFO -        Sky change (data units):\n"
     ]
    },
    {
     "name": "stdout",
     "output_type": "stream",
     "text": [
      "       Sky change (data units):\n"
     ]
    },
    {
     "name": "stderr",
     "output_type": "stream",
     "text": [
      "2022-12-02 01:27:43,605 - stpipe - INFO -       - EXT = 'SCI',1   delta(MDRIZSKY) = 0.113508   NEW MDRIZSKY = 0.113508\n"
     ]
    },
    {
     "name": "stdout",
     "output_type": "stream",
     "text": [
      "      - EXT = 'SCI',1   delta(MDRIZSKY) = 0.113508   NEW MDRIZSKY = 0.113508\n"
     ]
    },
    {
     "name": "stderr",
     "output_type": "stream",
     "text": [
      "2022-12-02 01:27:43,743 - stpipe - INFO -    *   Image:   'jw02561001002_02101_00004_nrcblong_cal.fits['SCI',1]'  --  SKY = 28.758555352653676 (brightness units)\n"
     ]
    },
    {
     "name": "stdout",
     "output_type": "stream",
     "text": [
      "   *   Image:   'jw02561001002_02101_00004_nrcblong_cal.fits['SCI',1]'  --  SKY = 28.758555352653676 (brightness units)\n"
     ]
    },
    {
     "name": "stderr",
     "output_type": "stream",
     "text": [
      "2022-12-02 01:27:43,744 - stpipe - INFO -        Sky change (data units):\n"
     ]
    },
    {
     "name": "stdout",
     "output_type": "stream",
     "text": [
      "       Sky change (data units):\n"
     ]
    },
    {
     "name": "stderr",
     "output_type": "stream",
     "text": [
      "2022-12-02 01:27:43,745 - stpipe - INFO -       - EXT = 'SCI',1   delta(MDRIZSKY) = 0.114126   NEW MDRIZSKY = 0.114126\n"
     ]
    },
    {
     "name": "stdout",
     "output_type": "stream",
     "text": [
      "      - EXT = 'SCI',1   delta(MDRIZSKY) = 0.114126   NEW MDRIZSKY = 0.114126\n"
     ]
    },
    {
     "name": "stderr",
     "output_type": "stream",
     "text": [
      "2022-12-02 01:27:43,746 - stpipe - INFO - ***** skymatch ended on 2022-12-02 01:27:43.746131\n"
     ]
    },
    {
     "name": "stdout",
     "output_type": "stream",
     "text": [
      "***** skymatch ended on 2022-12-02 01:27:43.746131\n"
     ]
    },
    {
     "name": "stderr",
     "output_type": "stream",
     "text": [
      "2022-12-02 01:27:43,747 - stpipe - INFO - TOTAL RUN TIME: 0:00:00.651431\n"
     ]
    },
    {
     "name": "stdout",
     "output_type": "stream",
     "text": [
      "TOTAL RUN TIME: 0:00:00.651431\n"
     ]
    },
    {
     "name": "stderr",
     "output_type": "stream",
     "text": [
      "2022-12-02 01:27:43,833 - stpipe - INFO - ==== Processing Step Subtract Sky finished at 01:27:43.833 (02/12/2022)\n"
     ]
    },
    {
     "name": "stdout",
     "output_type": "stream",
     "text": [
      "==== Processing Step Subtract Sky finished at 01:27:43.833 (02/12/2022)\n"
     ]
    },
    {
     "name": "stderr",
     "output_type": "stream",
     "text": [
      "2022-12-02 01:27:43,835 - stpipe - INFO - ==== Processing Step  Separate Drizzle  started at  01:27:43.83 (02/12/2022)\n"
     ]
    },
    {
     "name": "stdout",
     "output_type": "stream",
     "text": [
      "==== Processing Step  Separate Drizzle  started at  01:27:43.83 (02/12/2022)\n"
     ]
    },
    {
     "name": "stderr",
     "output_type": "stream",
     "text": [
      "2022-12-02 01:27:43,835 - stpipe - INFO - \n"
     ]
    },
    {
     "name": "stdout",
     "output_type": "stream",
     "text": [
      "\n"
     ]
    },
    {
     "name": "stderr",
     "output_type": "stream",
     "text": [
      "2022-12-02 01:27:43,836 - stpipe - INFO - Single drizzle step not performed.\n",
      "2022-12-02 01:27:43,837 - stpipe - INFO - ==== Processing Step Separate Drizzle finished at 01:27:43.837 (02/12/2022)\n"
     ]
    },
    {
     "name": "stdout",
     "output_type": "stream",
     "text": [
      "==== Processing Step Separate Drizzle finished at 01:27:43.837 (02/12/2022)\n"
     ]
    },
    {
     "name": "stderr",
     "output_type": "stream",
     "text": [
      "2022-12-02 01:27:43,838 - stpipe - INFO - ==== Processing Step  Create Median  started at  01:27:43.838 (02/12/2022)\n"
     ]
    },
    {
     "name": "stdout",
     "output_type": "stream",
     "text": [
      "==== Processing Step  Create Median  started at  01:27:43.838 (02/12/2022)\n"
     ]
    },
    {
     "name": "stderr",
     "output_type": "stream",
     "text": [
      "2022-12-02 01:27:43,839 - stpipe - INFO - \n"
     ]
    },
    {
     "name": "stdout",
     "output_type": "stream",
     "text": [
      "\n"
     ]
    },
    {
     "name": "stderr",
     "output_type": "stream",
     "text": [
      "2022-12-02 01:27:43,840 - stpipe - INFO - Median combination step not performed.\n",
      "2022-12-02 01:27:43,840 - stpipe - INFO - ==== Processing Step  Blot  started at  01:27:43.840 (02/12/2022)\n"
     ]
    },
    {
     "name": "stdout",
     "output_type": "stream",
     "text": [
      "==== Processing Step  Blot  started at  01:27:43.840 (02/12/2022)\n"
     ]
    },
    {
     "name": "stderr",
     "output_type": "stream",
     "text": [
      "2022-12-02 01:27:43,841 - stpipe - INFO - \n"
     ]
    },
    {
     "name": "stdout",
     "output_type": "stream",
     "text": [
      "\n"
     ]
    },
    {
     "name": "stderr",
     "output_type": "stream",
     "text": [
      "2022-12-02 01:27:43,841 - stpipe - INFO - Blot step not performed.\n",
      "2022-12-02 01:27:43,842 - stpipe - INFO - ==== Processing Step Blot finished at 01:27:43.842 (02/12/2022)\n"
     ]
    },
    {
     "name": "stdout",
     "output_type": "stream",
     "text": [
      "==== Processing Step Blot finished at 01:27:43.842 (02/12/2022)\n"
     ]
    },
    {
     "name": "stderr",
     "output_type": "stream",
     "text": [
      "2022-12-02 01:27:43,843 - stpipe - INFO - ==== Processing Step  Driz_CR  started at  01:27:43.843 (02/12/2022)\n"
     ]
    },
    {
     "name": "stdout",
     "output_type": "stream",
     "text": [
      "==== Processing Step  Driz_CR  started at  01:27:43.843 (02/12/2022)\n"
     ]
    },
    {
     "name": "stderr",
     "output_type": "stream",
     "text": [
      "2022-12-02 01:27:43,844 - stpipe - INFO - \n"
     ]
    },
    {
     "name": "stdout",
     "output_type": "stream",
     "text": [
      "\n"
     ]
    },
    {
     "name": "stderr",
     "output_type": "stream",
     "text": [
      "2022-12-02 01:27:43,845 - stpipe - INFO - Cosmic-ray identification (driz_cr) step not performed.\n",
      "2022-12-02 01:27:43,845 - stpipe - INFO - ==== Processing Step  Final Drizzle  started at  01:27:43.845 (02/12/2022)\n"
     ]
    },
    {
     "name": "stdout",
     "output_type": "stream",
     "text": [
      "==== Processing Step  Final Drizzle  started at  01:27:43.845 (02/12/2022)\n"
     ]
    },
    {
     "name": "stderr",
     "output_type": "stream",
     "text": [
      "2022-12-02 01:27:43,846 - stpipe - INFO - \n"
     ]
    },
    {
     "name": "stdout",
     "output_type": "stream",
     "text": [
      "\n"
     ]
    },
    {
     "name": "stderr",
     "output_type": "stream",
     "text": [
      "2022-12-02 01:27:43,847 - stpipe - INFO - Interpreted paramDict with single=False as:\n",
      "2022-12-02 01:27:43,848 - stpipe - INFO - {'build': False, 'stepsize': 10, 'coeffs': True, 'wcskey': '', 'wht_type': 'IVM', 'kernel': 'square', 'wt_scl': 'exptime', 'pixfrac': 0.8, 'fillval': None, 'maskval': None, 'bits': 4, 'units': 'cps'}\n",
      "2022-12-02 01:27:43,848 - stpipe - INFO - USER INPUT PARAMETERS for Final Drizzle Step:\n",
      "2022-12-02 01:27:43,849 - stpipe - INFO - \tbits :\t4\n",
      "2022-12-02 01:27:43,849 - stpipe - INFO - \tbuild :\tFalse\n",
      "2022-12-02 01:27:43,849 - stpipe - INFO - \tclean :\tTrue\n",
      "2022-12-02 01:27:43,850 - stpipe - INFO - \tcoeffs :\tTrue\n",
      "2022-12-02 01:27:43,850 - stpipe - INFO - \tcrbit :\t4096\n",
      "2022-12-02 01:27:43,850 - stpipe - INFO - \tfillval :\tNone\n",
      "2022-12-02 01:27:43,851 - stpipe - INFO - \tkernel :\tsquare\n",
      "2022-12-02 01:27:43,851 - stpipe - INFO - \tlogfile :\tastrodrizzle.log\n",
      "2022-12-02 01:27:43,851 - stpipe - INFO - \tmaskval :\tNone\n",
      "2022-12-02 01:27:43,852 - stpipe - INFO - \tpixfrac :\t0.8\n",
      "2022-12-02 01:27:43,852 - stpipe - INFO - \tproc_unit :\tnative\n",
      "2022-12-02 01:27:43,852 - stpipe - INFO - \trules_file :\tNone\n",
      "2022-12-02 01:27:43,852 - stpipe - INFO - \tstepsize :\t10\n",
      "2022-12-02 01:27:43,853 - stpipe - INFO - \tunits :\tcps\n",
      "2022-12-02 01:27:43,853 - stpipe - INFO - \twcskey :\t\n",
      "2022-12-02 01:27:43,854 - stpipe - INFO - \twht_type :\tIVM\n",
      "2022-12-02 01:27:43,854 - stpipe - INFO - \twt_scl :\texptime\n",
      "2022-12-02 01:27:43,854 - stpipe - INFO -   **Using sub-sampling value of 10 for kernel square\n",
      "2022-12-02 01:27:43,855 - stpipe - INFO - Running Drizzle to create output frame with WCS of: \n",
      "2022-12-02 01:27:43,855 - stpipe - INFO - WCS Keywords\n"
     ]
    },
    {
     "name": "stdout",
     "output_type": "stream",
     "text": [
      "WCS Keywords\n"
     ]
    },
    {
     "name": "stderr",
     "output_type": "stream",
     "text": [
      "2022-12-02 01:27:43,856 - stpipe - INFO - \n"
     ]
    },
    {
     "name": "stdout",
     "output_type": "stream",
     "text": [
      "\n"
     ]
    },
    {
     "name": "stderr",
     "output_type": "stream",
     "text": [
      "2022-12-02 01:27:43,857 - stpipe - INFO - Number of WCS axes: 2\n"
     ]
    },
    {
     "name": "stdout",
     "output_type": "stream",
     "text": [
      "Number of WCS axes: 2\n"
     ]
    },
    {
     "name": "stderr",
     "output_type": "stream",
     "text": [
      "2022-12-02 01:27:43,858 - stpipe - INFO - CTYPE : 'RA---TAN'  'DEC--TAN'  \n"
     ]
    },
    {
     "name": "stdout",
     "output_type": "stream",
     "text": [
      "CTYPE : 'RA---TAN'  'DEC--TAN'  \n"
     ]
    },
    {
     "name": "stderr",
     "output_type": "stream",
     "text": [
      "2022-12-02 01:27:43,859 - stpipe - INFO - CRVAL : 3.5361508472383063  -30.371700571904164  \n"
     ]
    },
    {
     "name": "stdout",
     "output_type": "stream",
     "text": [
      "CRVAL : 3.5361508472383063  -30.371700571904164  \n"
     ]
    },
    {
     "name": "stderr",
     "output_type": "stream",
     "text": [
      "2022-12-02 01:27:43,860 - stpipe - INFO - CRPIX : 1177.5  1174.0  \n"
     ]
    },
    {
     "name": "stdout",
     "output_type": "stream",
     "text": [
      "CRPIX : 1177.5  1174.0  \n"
     ]
    },
    {
     "name": "stderr",
     "output_type": "stream",
     "text": [
      "2022-12-02 01:27:43,861 - stpipe - INFO - CD1_1 CD1_2  : -1.3132835480748115e-05  1.156431969667578e-05  \n"
     ]
    },
    {
     "name": "stdout",
     "output_type": "stream",
     "text": [
      "CD1_1 CD1_2  : -1.3132835480748115e-05  1.156431969667578e-05  \n"
     ]
    },
    {
     "name": "stderr",
     "output_type": "stream",
     "text": [
      "2022-12-02 01:27:43,861 - stpipe - INFO - CD2_1 CD2_2  : 1.156431969667578e-05  1.3132835480748115e-05  \n"
     ]
    },
    {
     "name": "stdout",
     "output_type": "stream",
     "text": [
      "CD2_1 CD2_2  : 1.156431969667578e-05  1.3132835480748115e-05  \n"
     ]
    },
    {
     "name": "stderr",
     "output_type": "stream",
     "text": [
      "2022-12-02 01:27:43,863 - stpipe - INFO - NAXIS : 2355  2348\n"
     ]
    },
    {
     "name": "stdout",
     "output_type": "stream",
     "text": [
      "NAXIS : 2355  2348\n"
     ]
    },
    {
     "name": "stderr",
     "output_type": "stream",
     "text": [
      "2022-12-02 01:27:43,866 - stpipe - INFO - -Drizzle input: jw02561001002_02101_00001_nrcblong_cal.fits[sci,1]\n",
      "2022-12-02 01:27:43,885 - stpipe - INFO - Applying sky value of 0.112642 to jw02561001002_02101_00001_nrcblong_cal.fits[sci,1]\n",
      "2022-12-02 01:27:43,918 - stpipe - WARNING - No CR mask file found! Input DQ array not updated.\n",
      "2022-12-02 01:27:43,918 - stpipe - INFO - Automatically creating IVM files for chip 1\n",
      "2022-12-02 01:27:43,920 - stpipe - WARNING - Cannot find flat field file 'jwst_nircam_flat_0517.fits'\n",
      "2022-12-02 01:27:43,920 - stpipe - WARNING - Treating flatfield as a constant value of '1'.\n",
      "2022-12-02 01:27:43,933 - stpipe - INFO - Using WCSLIB-based coordinate transformation...\n",
      "2022-12-02 01:27:43,933 - stpipe - INFO - stepsize = 10\n",
      "2022-12-02 01:27:43,944 - stpipe - INFO - -Drizzling using kernel = square\n",
      "2022-12-02 01:27:43,944 - stpipe - INFO - \n",
      "2022-12-02 01:27:44,575 - stpipe - INFO - -Drizzle input: jw02561001002_02101_00002_nrcblong_cal.fits[sci,1]\n",
      "2022-12-02 01:27:44,591 - stpipe - INFO - Applying sky value of 0.112299 to jw02561001002_02101_00002_nrcblong_cal.fits[sci,1]\n",
      "2022-12-02 01:27:44,626 - stpipe - WARNING - No CR mask file found! Input DQ array not updated.\n",
      "2022-12-02 01:27:44,627 - stpipe - INFO - Automatically creating IVM files for chip 1\n",
      "2022-12-02 01:27:44,628 - stpipe - WARNING - Cannot find flat field file 'jwst_nircam_flat_0517.fits'\n",
      "2022-12-02 01:27:44,629 - stpipe - WARNING - Treating flatfield as a constant value of '1'.\n",
      "2022-12-02 01:27:44,641 - stpipe - INFO - Using WCSLIB-based coordinate transformation...\n",
      "2022-12-02 01:27:44,642 - stpipe - INFO - stepsize = 10\n",
      "2022-12-02 01:27:44,653 - stpipe - INFO - -Drizzling using kernel = square\n",
      "2022-12-02 01:27:44,653 - stpipe - INFO - \n",
      "2022-12-02 01:27:45,282 - stpipe - INFO - -Drizzle input: jw02561001002_02101_00003_nrcblong_cal.fits[sci,1]\n",
      "2022-12-02 01:27:45,300 - stpipe - INFO - Applying sky value of 0.113508 to jw02561001002_02101_00003_nrcblong_cal.fits[sci,1]\n",
      "2022-12-02 01:27:45,336 - stpipe - WARNING - No CR mask file found! Input DQ array not updated.\n",
      "2022-12-02 01:27:45,336 - stpipe - INFO - Automatically creating IVM files for chip 1\n",
      "2022-12-02 01:27:45,338 - stpipe - WARNING - Cannot find flat field file 'jwst_nircam_flat_0517.fits'\n",
      "2022-12-02 01:27:45,339 - stpipe - WARNING - Treating flatfield as a constant value of '1'.\n",
      "2022-12-02 01:27:45,351 - stpipe - INFO - Using WCSLIB-based coordinate transformation...\n",
      "2022-12-02 01:27:45,352 - stpipe - INFO - stepsize = 10\n",
      "2022-12-02 01:27:45,364 - stpipe - INFO - -Drizzling using kernel = square\n",
      "2022-12-02 01:27:45,365 - stpipe - INFO - \n",
      "2022-12-02 01:27:46,005 - stpipe - INFO - -Drizzle input: jw02561001002_02101_00004_nrcblong_cal.fits[sci,1]\n",
      "2022-12-02 01:27:46,020 - stpipe - INFO - Applying sky value of 0.114126 to jw02561001002_02101_00004_nrcblong_cal.fits[sci,1]\n",
      "2022-12-02 01:27:46,061 - stpipe - WARNING - No CR mask file found! Input DQ array not updated.\n",
      "2022-12-02 01:27:46,062 - stpipe - INFO - Automatically creating IVM files for chip 1\n",
      "2022-12-02 01:27:46,063 - stpipe - WARNING - Cannot find flat field file 'jwst_nircam_flat_0517.fits'\n",
      "2022-12-02 01:27:46,063 - stpipe - WARNING - Treating flatfield as a constant value of '1'.\n",
      "2022-12-02 01:27:46,076 - stpipe - INFO - Using WCSLIB-based coordinate transformation...\n",
      "2022-12-02 01:27:46,077 - stpipe - INFO - stepsize = 10\n",
      "2022-12-02 01:27:46,087 - stpipe - INFO - -Drizzling using kernel = square\n",
      "2022-12-02 01:27:46,088 - stpipe - INFO - \n",
      "2022-12-02 01:27:46,730 - stpipe - INFO - Deleting previous output product: abell2744-preimg-02561-001-041.0-nrcb5-f277w-clear_drz_sci.fits\n",
      "2022-12-02 01:27:46,732 - stpipe - INFO - Deleting previous output WHT product: abell2744-preimg-02561-001-041.0-nrcb5-f277w-clear_drz_wht.fits\n",
      "2022-12-02 01:27:47,100 - stpipe - INFO - -Generating simple FITS output: abell2744-preimg-02561-001-041.0-nrcb5-f277w-clear_drz_sci.fits\n"
     ]
    },
    {
     "name": "stdout",
     "output_type": "stream",
     "text": [
      "-Generating simple FITS output: abell2744-preimg-02561-001-041.0-nrcb5-f277w-clear_drz_sci.fits\n"
     ]
    },
    {
     "name": "stderr",
     "output_type": "stream",
     "text": [
      "2022-12-02 01:27:47,139 - stpipe - WARNING - /Users/ivo/anaconda/envs/jwst_nircam/lib/python3.9/site-packages/astropy/io/fits/card.py:1008: VerifyWarning: Card is too long, comment will be truncated.\n",
      "  warnings.warn('Card is too long, comment will be truncated.',\n",
      "\n",
      "2022-12-02 01:27:47,180 - stpipe - WARNING - /Users/ivo/anaconda/envs/jwst_nircam/lib/python3.9/site-packages/astropy/wcs/wcs.py:725: FITSFixedWarning: 'obsfix' made the change 'Set OBSGEO-L to    63.263556 from OBSGEO-[XYZ].\n",
      "Set OBSGEO-B to    28.494908 from OBSGEO-[XYZ].\n",
      "Set OBSGEO-H to 1394727362.015 from OBSGEO-[XYZ]'.\n",
      "  warnings.warn(\n",
      "\n",
      "2022-12-02 01:27:47,203 - stpipe - INFO - Writing out image to disk: abell2744-preimg-02561-001-041.0-nrcb5-f277w-clear_drz_sci.fits\n"
     ]
    },
    {
     "name": "stdout",
     "output_type": "stream",
     "text": [
      "Writing out image to disk: abell2744-preimg-02561-001-041.0-nrcb5-f277w-clear_drz_sci.fits\n"
     ]
    },
    {
     "name": "stderr",
     "output_type": "stream",
     "text": [
      "2022-12-02 01:27:47,355 - stpipe - INFO - Writing out image to disk: abell2744-preimg-02561-001-041.0-nrcb5-f277w-clear_drz_wht.fits\n"
     ]
    },
    {
     "name": "stdout",
     "output_type": "stream",
     "text": [
      "Writing out image to disk: abell2744-preimg-02561-001-041.0-nrcb5-f277w-clear_drz_wht.fits\n"
     ]
    },
    {
     "name": "stderr",
     "output_type": "stream",
     "text": [
      "2022-12-02 01:27:47,413 - stpipe - INFO - ==== Processing Step Final Drizzle finished at 01:27:47.413 (02/12/2022)\n"
     ]
    },
    {
     "name": "stdout",
     "output_type": "stream",
     "text": [
      "==== Processing Step Final Drizzle finished at 01:27:47.413 (02/12/2022)\n"
     ]
    },
    {
     "name": "stderr",
     "output_type": "stream",
     "text": [
      "2022-12-02 01:27:47,414 - stpipe - INFO - \n"
     ]
    },
    {
     "name": "stdout",
     "output_type": "stream",
     "text": [
      "\n"
     ]
    },
    {
     "name": "stderr",
     "output_type": "stream",
     "text": [
      "2022-12-02 01:27:47,415 - stpipe - INFO - AstroDrizzle Version 3.5.0 is finished processing at 01:27:47.415 (02/12/2022).\n"
     ]
    },
    {
     "name": "stdout",
     "output_type": "stream",
     "text": [
      "AstroDrizzle Version 3.5.0 is finished processing at 01:27:47.415 (02/12/2022).\n"
     ]
    },
    {
     "name": "stderr",
     "output_type": "stream",
     "text": [
      "2022-12-02 01:27:47,416 - stpipe - INFO - \n"
     ]
    },
    {
     "name": "stdout",
     "output_type": "stream",
     "text": [
      "\n"
     ]
    },
    {
     "name": "stderr",
     "output_type": "stream",
     "text": [
      "2022-12-02 01:27:47,417 - stpipe - INFO - \n"
     ]
    },
    {
     "name": "stdout",
     "output_type": "stream",
     "text": [
      "\n"
     ]
    },
    {
     "name": "stderr",
     "output_type": "stream",
     "text": [
      "2022-12-02 01:27:47,418 - stpipe - INFO - \n"
     ]
    },
    {
     "name": "stdout",
     "output_type": "stream",
     "text": [
      "\n"
     ]
    },
    {
     "name": "stderr",
     "output_type": "stream",
     "text": [
      "2022-12-02 01:27:47,419 - stpipe - INFO -    --------------------          --------------------\n"
     ]
    },
    {
     "name": "stdout",
     "output_type": "stream",
     "text": [
      "   --------------------          --------------------\n"
     ]
    },
    {
     "name": "stderr",
     "output_type": "stream",
     "text": [
      "2022-12-02 01:27:47,419 - stpipe - INFO -                    Step          Elapsed time\n"
     ]
    },
    {
     "name": "stdout",
     "output_type": "stream",
     "text": [
      "                   Step          Elapsed time\n"
     ]
    },
    {
     "name": "stderr",
     "output_type": "stream",
     "text": [
      "2022-12-02 01:27:47,420 - stpipe - INFO -    --------------------          --------------------\n"
     ]
    },
    {
     "name": "stdout",
     "output_type": "stream",
     "text": [
      "   --------------------          --------------------\n"
     ]
    },
    {
     "name": "stderr",
     "output_type": "stream",
     "text": [
      "2022-12-02 01:27:47,421 - stpipe - INFO - \n"
     ]
    },
    {
     "name": "stdout",
     "output_type": "stream",
     "text": [
      "\n"
     ]
    },
    {
     "name": "stderr",
     "output_type": "stream",
     "text": [
      "2022-12-02 01:27:47,422 - stpipe - INFO -          Initialization          0.4590 sec.\n"
     ]
    },
    {
     "name": "stdout",
     "output_type": "stream",
     "text": [
      "         Initialization          0.4590 sec.\n"
     ]
    },
    {
     "name": "stderr",
     "output_type": "stream",
     "text": [
      "2022-12-02 01:27:47,423 - stpipe - INFO -             Static Mask          0.3802 sec.\n"
     ]
    },
    {
     "name": "stdout",
     "output_type": "stream",
     "text": [
      "            Static Mask          0.3802 sec.\n"
     ]
    },
    {
     "name": "stderr",
     "output_type": "stream",
     "text": [
      "2022-12-02 01:27:47,424 - stpipe - INFO -            Subtract Sky          0.8441 sec.\n"
     ]
    },
    {
     "name": "stdout",
     "output_type": "stream",
     "text": [
      "           Subtract Sky          0.8441 sec.\n"
     ]
    },
    {
     "name": "stderr",
     "output_type": "stream",
     "text": [
      "2022-12-02 01:27:47,425 - stpipe - INFO -        Separate Drizzle          0.0023 sec.\n"
     ]
    },
    {
     "name": "stdout",
     "output_type": "stream",
     "text": [
      "       Separate Drizzle          0.0023 sec.\n"
     ]
    },
    {
     "name": "stderr",
     "output_type": "stream",
     "text": [
      "2022-12-02 01:27:47,425 - stpipe - INFO -           Create Median          0.0000 sec.\n"
     ]
    },
    {
     "name": "stdout",
     "output_type": "stream",
     "text": [
      "          Create Median          0.0000 sec.\n"
     ]
    },
    {
     "name": "stderr",
     "output_type": "stream",
     "text": [
      "2022-12-02 01:27:47,426 - stpipe - INFO -                    Blot          0.0019 sec.\n"
     ]
    },
    {
     "name": "stdout",
     "output_type": "stream",
     "text": [
      "                   Blot          0.0019 sec.\n"
     ]
    },
    {
     "name": "stderr",
     "output_type": "stream",
     "text": [
      "2022-12-02 01:27:47,427 - stpipe - INFO -                 Driz_CR          0.0000 sec.\n"
     ]
    },
    {
     "name": "stdout",
     "output_type": "stream",
     "text": [
      "                Driz_CR          0.0000 sec.\n"
     ]
    },
    {
     "name": "stderr",
     "output_type": "stream",
     "text": [
      "2022-12-02 01:27:47,428 - stpipe - INFO -           Final Drizzle          3.5678 sec.\n"
     ]
    },
    {
     "name": "stdout",
     "output_type": "stream",
     "text": [
      "          Final Drizzle          3.5678 sec.\n"
     ]
    },
    {
     "name": "stderr",
     "output_type": "stream",
     "text": [
      "2022-12-02 01:27:47,428 - stpipe - INFO -    ====================          ====================\n"
     ]
    },
    {
     "name": "stdout",
     "output_type": "stream",
     "text": [
      "   ====================          ====================\n"
     ]
    },
    {
     "name": "stderr",
     "output_type": "stream",
     "text": [
      "2022-12-02 01:27:47,429 - stpipe - INFO -                   Total          5.2552 sec.\n"
     ]
    },
    {
     "name": "stdout",
     "output_type": "stream",
     "text": [
      "                  Total          5.2552 sec.\n"
     ]
    },
    {
     "name": "stderr",
     "output_type": "stream",
     "text": [
      "2022-12-02 01:27:47,430 - stpipe - INFO - \n"
     ]
    },
    {
     "name": "stdout",
     "output_type": "stream",
     "text": [
      "\n"
     ]
    },
    {
     "name": "stderr",
     "output_type": "stream",
     "text": [
      "2022-12-02 01:27:47,431 - stpipe - INFO - Removing intermediate files for jw02561001002_02101_00001_nrcblong_cal.fits\n",
      "2022-12-02 01:27:47,435 - stpipe - INFO - Removing intermediate files for jw02561001002_02101_00002_nrcblong_cal.fits\n",
      "2022-12-02 01:27:47,439 - stpipe - INFO - Removing intermediate files for jw02561001002_02101_00003_nrcblong_cal.fits\n",
      "2022-12-02 01:27:47,443 - stpipe - INFO - Removing intermediate files for jw02561001002_02101_00004_nrcblong_cal.fits\n",
      "2022-12-02 01:27:47,447 - stpipe - INFO - Trailer file written to:  astrodrizzle.log\n"
     ]
    },
    {
     "name": "stdout",
     "output_type": "stream",
     "text": [
      "Trailer file written to:  astrodrizzle.log\n",
      "# Imaging background: {'bh': 256, 'bw': 256, 'fh': 3, 'fw': 3, 'pixel_scale': 0.06, 'get_median': False}\n",
      "# (2022-12-01 14:27:47.561)\n",
      "\n",
      "prep.blot_background(**{'visit': {'files': ['jw02561001002_02101_00001_nrcblong_cal.fits', 'jw02561001002_02101_00002_nrcblong_cal.fits', 'jw02561001002_02101_00003_nrcblong_cal.fits', 'jw02561001002_02101_00004_nrcblong_cal.fits'], 'footprint': <shapely.geometry.polygon.Polygon object at 0x7fbee85611c0>, 'product': 'abell2744-preimg-02561-001-041.0-nrcb5-f277w-clear'}, 'bkg_params': {'bh': 256, 'bw': 256, 'fh': 3, 'fw': 3, 'pixel_scale': 0.06}, 'verbose': True, 'skip_existing': True, 'get_median': False, 'log': True, 'stepsize': 10, 'kwargs': {}})\n",
      "\n"
     ]
    },
    {
     "name": "stderr",
     "output_type": "stream",
     "text": [
      "/Users/ivo/anaconda/envs/jwst_nircam/lib/python3.9/site-packages/grizli/prep.py:1697: RuntimeWarning: divide by zero encountered in divide\n",
      "  err = 1/np.sqrt(wht_data)\n",
      "WARNING: FITSFixedWarning: 'obsfix' made the change 'Set OBSGEO-L to    63.263556 from OBSGEO-[XYZ].\n",
      "Set OBSGEO-B to    28.494908 from OBSGEO-[XYZ].\n",
      "Set OBSGEO-H to 1394727362.015 from OBSGEO-[XYZ]'. [astropy.wcs.wcs]\n",
      "2022-12-02 01:27:47,799 - stpipe - WARNING - FITSFixedWarning: 'obsfix' made the change 'Set OBSGEO-L to    63.263556 from OBSGEO-[XYZ].\n",
      "Set OBSGEO-B to    28.494908 from OBSGEO-[XYZ].\n",
      "Set OBSGEO-H to 1394727362.015 from OBSGEO-[XYZ]'.\n"
     ]
    },
    {
     "name": "stdout",
     "output_type": "stream",
     "text": [
      "#   Blot background from abell2744-preimg-02561-001-041.0-nrcb5-f277w-clear_drz_sci.fits\n",
      "#   Blot background: jw02561001002_02101_00001_nrcblong_cal.fits[SCI,1]\n"
     ]
    },
    {
     "name": "stderr",
     "output_type": "stream",
     "text": [
      "WARNING: VerifyWarning: Card is too long, comment will be truncated. [astropy.io.fits.card]\n",
      "2022-12-02 01:27:48,183 - stpipe - WARNING - VerifyWarning: Card is too long, comment will be truncated.\n",
      "WARNING: FITSFixedWarning: 'obsfix' made the change 'Set OBSGEO-L to    63.281076 from OBSGEO-[XYZ].\n",
      "Set OBSGEO-B to    28.491626 from OBSGEO-[XYZ].\n",
      "Set OBSGEO-H to 1394836264.421 from OBSGEO-[XYZ]'. [astropy.wcs.wcs]\n",
      "2022-12-02 01:27:48,584 - stpipe - WARNING - FITSFixedWarning: 'obsfix' made the change 'Set OBSGEO-L to    63.281076 from OBSGEO-[XYZ].\n",
      "Set OBSGEO-B to    28.491626 from OBSGEO-[XYZ].\n",
      "Set OBSGEO-H to 1394836264.421 from OBSGEO-[XYZ]'.\n"
     ]
    },
    {
     "name": "stdout",
     "output_type": "stream",
     "text": [
      "#   Blot background: jw02561001002_02101_00002_nrcblong_cal.fits[SCI,1]\n"
     ]
    },
    {
     "name": "stderr",
     "output_type": "stream",
     "text": [
      "WARNING: VerifyWarning: Card is too long, comment will be truncated. [astropy.io.fits.card]\n",
      "2022-12-02 01:27:48,857 - stpipe - WARNING - VerifyWarning: Card is too long, comment will be truncated.\n",
      "WARNING: FITSFixedWarning: 'obsfix' made the change 'Set OBSGEO-L to    63.299758 from OBSGEO-[XYZ].\n",
      "Set OBSGEO-B to    28.488124 from OBSGEO-[XYZ].\n",
      "Set OBSGEO-H to 1394952435.627 from OBSGEO-[XYZ]'. [astropy.wcs.wcs]\n",
      "2022-12-02 01:27:49,250 - stpipe - WARNING - FITSFixedWarning: 'obsfix' made the change 'Set OBSGEO-L to    63.299758 from OBSGEO-[XYZ].\n",
      "Set OBSGEO-B to    28.488124 from OBSGEO-[XYZ].\n",
      "Set OBSGEO-H to 1394952435.627 from OBSGEO-[XYZ]'.\n"
     ]
    },
    {
     "name": "stdout",
     "output_type": "stream",
     "text": [
      "#   Blot background: jw02561001002_02101_00003_nrcblong_cal.fits[SCI,1]\n"
     ]
    },
    {
     "name": "stderr",
     "output_type": "stream",
     "text": [
      "WARNING: VerifyWarning: Card is too long, comment will be truncated. [astropy.io.fits.card]\n",
      "2022-12-02 01:27:49,515 - stpipe - WARNING - VerifyWarning: Card is too long, comment will be truncated.\n",
      "WARNING: FITSFixedWarning: 'obsfix' made the change 'Set OBSGEO-L to    63.317268 from OBSGEO-[XYZ].\n",
      "Set OBSGEO-B to    28.484837 from OBSGEO-[XYZ].\n",
      "Set OBSGEO-H to 1395061354.150 from OBSGEO-[XYZ]'. [astropy.wcs.wcs]\n",
      "2022-12-02 01:27:49,920 - stpipe - WARNING - FITSFixedWarning: 'obsfix' made the change 'Set OBSGEO-L to    63.317268 from OBSGEO-[XYZ].\n",
      "Set OBSGEO-B to    28.484837 from OBSGEO-[XYZ].\n",
      "Set OBSGEO-H to 1395061354.150 from OBSGEO-[XYZ]'.\n"
     ]
    },
    {
     "name": "stdout",
     "output_type": "stream",
     "text": [
      "#   Blot background: jw02561001002_02101_00004_nrcblong_cal.fits[SCI,1]\n"
     ]
    },
    {
     "name": "stderr",
     "output_type": "stream",
     "text": [
      "WARNING: VerifyWarning: Card is too long, comment will be truncated. [astropy.io.fits.card]\n",
      "2022-12-02 01:27:50,191 - stpipe - WARNING - VerifyWarning: Card is too long, comment will be truncated.\n"
     ]
    },
    {
     "name": "stdout",
     "output_type": "stream",
     "text": [
      "make_SEP_catalog: sep version = 1.2.1\n",
      "# (2022-12-01 14:27:50.475)\n",
      "sep: Image AB zeropoint =  26.475\n",
      "# (2022-12-01 14:27:50.594)\n",
      "SEP: Get background {'bw': 32.0, 'bh': 32.0, 'fw': 3, 'fh': 3}\n"
     ]
    },
    {
     "name": "stderr",
     "output_type": "stream",
     "text": [
      "/Users/ivo/anaconda/envs/jwst_nircam/lib/python3.9/site-packages/grizli/prep.py:1697: RuntimeWarning: divide by zero encountered in divide\n",
      "  err = 1/np.sqrt(wht_data)\n",
      "/Users/ivo/anaconda/envs/jwst_nircam/lib/python3.9/site-packages/grizli/prep.py:1772: RuntimeWarning: divide by zero encountered in divide\n",
      "  ratio = bkg.rms()/err\n"
     ]
    },
    {
     "name": "stdout",
     "output_type": "stream",
     "text": [
      "SEP: err_scale=0.048\n",
      "   SEP: Extract...\n",
      "    Done.\n",
      "compute_SEP_auto_params: sep version = 1.2.1\n",
      "compute_SEP_auto_params: autoparams=[2.5, <Quantity 0.35 arcsec>, 2.4, 3.8]; pixel_scale=0.06299535663233176; subpix=0; flux_radii=[0.2, 0.5, 0.9]\n"
     ]
    },
    {
     "name": "stderr",
     "output_type": "stream",
     "text": [
      "/Users/ivo/anaconda/envs/jwst_nircam/lib/python3.9/site-packages/grizli/prep.py:1878: RuntimeWarning: divide by zero encountered in log10\n",
      "  tab['mag_iso'] = 23.9-2.5*np.log10(tab['flux_iso'])\n",
      "/Users/ivo/anaconda/envs/jwst_nircam/lib/python3.9/site-packages/grizli/prep.py:1913: RuntimeWarning: invalid value encountered in log10\n",
      "  tab['mag_auto'] = 23.9-2.5*np.log10(total_flux)\n",
      "WARNING: VerifyWarning: Keyword name 'FILTER_TYPE' is greater than 8 characters or contains characters not allowed by the FITS standard; a HIERARCH card will be created. [astropy.io.fits.card]\n",
      "2022-12-02 01:27:53,377 - stpipe - WARNING - VerifyWarning: Keyword name 'FILTER_TYPE' is greater than 8 characters or contains characters not allowed by the FITS standard; a HIERARCH card will be created.\n",
      "WARNING: VerifyWarning: Keyword name 'THRESHOLD' is greater than 8 characters or contains characters not allowed by the FITS standard; a HIERARCH card will be created. [astropy.io.fits.card]\n",
      "2022-12-02 01:27:53,380 - stpipe - WARNING - VerifyWarning: Keyword name 'THRESHOLD' is greater than 8 characters or contains characters not allowed by the FITS standard; a HIERARCH card will be created.\n",
      "WARNING: VerifyWarning: Keyword name 'ERR_SCALE' is greater than 8 characters or contains characters not allowed by the FITS standard; a HIERARCH card will be created. [astropy.io.fits.card]\n",
      "2022-12-02 01:27:53,384 - stpipe - WARNING - VerifyWarning: Keyword name 'ERR_SCALE' is greater than 8 characters or contains characters not allowed by the FITS standard; a HIERARCH card will be created.\n",
      "WARNING: VerifyWarning: Card is too long, comment will be truncated. [astropy.io.fits.card]\n",
      "2022-12-02 01:27:53,393 - stpipe - WARNING - VerifyWarning: Card is too long, comment will be truncated.\n"
     ]
    },
    {
     "name": "stdout",
     "output_type": "stream",
     "text": [
      "# SEP abell2744-preimg-02561-001-041.0-nrcb5-f277w-clear.cat.fits: 2664 objects\n",
      "abell2744-preimg-02561-001-041.0-nrcb5-f277w-clear.cat.reg: x = X_WORLD, y=Y_WORLD, ellipse=False\n",
      "# (2022-12-01 14:27:53.498)\n",
      "\n",
      "jwst_utils.set_jwst_to_hst_keywords(**{'input': 'jw02561001002_02101_00001_nrcblong_cal.fits', 'reset': True, 'verbose': True, 'orig_keys': ['TELESCOP', 'INSTRUME', 'DETECTOR', 'FILTER', 'PUPIL', 'EXP_TYPE']})\n",
      "\n",
      "Reset: TELESCOP > JWST (OTELESCO)\n",
      "Reset: INSTRUME > NIRCAM (OINSTRUM)\n",
      "Reset: DETECTOR > NRCBLONG (ODETECTO)\n",
      "Reset: FILTER > F277W (OFILTER)\n",
      "Reset: PUPIL > CLEAR (OPUPIL)\n",
      "Reset: EXP_TYPE > NRC_IMAGE (OEXP_TYP)\n",
      "# (2022-12-01 14:27:53.759)\n",
      "\n",
      "jwst_utils.set_jwst_to_hst_keywords(**{'input': 'jw02561001002_02101_00002_nrcblong_cal.fits', 'reset': True, 'verbose': True, 'orig_keys': ['TELESCOP', 'INSTRUME', 'DETECTOR', 'FILTER', 'PUPIL', 'EXP_TYPE']})\n",
      "\n",
      "Reset: TELESCOP > JWST (OTELESCO)\n",
      "Reset: INSTRUME > NIRCAM (OINSTRUM)\n",
      "Reset: DETECTOR > NRCBLONG (ODETECTO)\n",
      "Reset: FILTER > F277W (OFILTER)\n",
      "Reset: PUPIL > CLEAR (OPUPIL)\n",
      "Reset: EXP_TYPE > NRC_IMAGE (OEXP_TYP)\n",
      "# (2022-12-01 14:27:54.014)\n",
      "\n",
      "jwst_utils.set_jwst_to_hst_keywords(**{'input': 'jw02561001002_02101_00003_nrcblong_cal.fits', 'reset': True, 'verbose': True, 'orig_keys': ['TELESCOP', 'INSTRUME', 'DETECTOR', 'FILTER', 'PUPIL', 'EXP_TYPE']})\n",
      "\n",
      "Reset: TELESCOP > JWST (OTELESCO)\n",
      "Reset: INSTRUME > NIRCAM (OINSTRUM)\n",
      "Reset: DETECTOR > NRCBLONG (ODETECTO)\n",
      "Reset: FILTER > F277W (OFILTER)\n",
      "Reset: PUPIL > CLEAR (OPUPIL)\n",
      "Reset: EXP_TYPE > NRC_IMAGE (OEXP_TYP)\n",
      "# (2022-12-01 14:27:54.260)\n",
      "\n",
      "jwst_utils.set_jwst_to_hst_keywords(**{'input': 'jw02561001002_02101_00004_nrcblong_cal.fits', 'reset': True, 'verbose': True, 'orig_keys': ['TELESCOP', 'INSTRUME', 'DETECTOR', 'FILTER', 'PUPIL', 'EXP_TYPE']})\n",
      "\n",
      "Reset: TELESCOP > JWST (OTELESCO)\n",
      "Reset: INSTRUME > NIRCAM (OINSTRUM)\n",
      "Reset: DETECTOR > NRCBLONG (ODETECTO)\n",
      "Reset: FILTER > F277W (OFILTER)\n",
      "Reset: PUPIL > CLEAR (OPUPIL)\n",
      "Reset: EXP_TYPE > NRC_IMAGE (OEXP_TYP)\n",
      "jw02561001002_02101_00001_nrcblong_cal.fits\n",
      "utils.fix_flt_nan: jw02561001002_02101_00001_nrcblong_cal.fits[SCI,1] NaNPixels=0\n",
      "jw02561001002_02101_00002_nrcblong_cal.fits\n",
      "utils.fix_flt_nan: jw02561001002_02101_00002_nrcblong_cal.fits[SCI,1] NaNPixels=0\n",
      "jw02561001002_02101_00003_nrcblong_cal.fits\n",
      "utils.fix_flt_nan: jw02561001002_02101_00003_nrcblong_cal.fits[SCI,1] NaNPixels=0\n",
      "jw02561001002_02101_00004_nrcblong_cal.fits\n",
      "utils.fix_flt_nan: jw02561001002_02101_00004_nrcblong_cal.fits[SCI,1] NaNPixels=0\n",
      "remove abell2744-preimg-02561-001-041.0-nrca5-f277w-clear_drz_wht.fits\n",
      "remove abell2744-preimg-02561-001-041.0-nrca5-f277w-clear_seg.fits\n",
      "remove abell2744-preimg-02561-001-041.0-nrca5-f277w-clear_bkg.fits\n",
      "remove abell2744-preimg-02561-001-041.0-nrcb5-f277w-clear_drz_wht.fits\n",
      "remove abell2744-preimg-02561-001-041.0-nrcb5-f277w-clear_seg.fits\n",
      "remove abell2744-preimg-02561-001-041.0-nrcb5-f277w-clear_bkg.fits\n"
     ]
    }
   ],
   "source": [
    "# This script will do all the preprocessing of all visits\n",
    "os.chdir(os.path.join(HOME_PATH, working_dir))\n",
    "auto_script.preprocess(field_root=root, HOME_PATH=HOME_PATH,\n",
    "                       visit_prep_args=visit_prep_args, **preprocess_args)"
   ]
  },
  {
   "cell_type": "code",
   "execution_count": 13,
   "id": "3c625386-c277-4847-9dcc-25ee03ab839f",
   "metadata": {},
   "outputs": [],
   "source": [
    "# report on failed visits \n",
    "os.chdir(os.path.join(HOME_PATH, working_dir))\n",
    "if len(glob('*failed')) > 0:\n",
    "    print('ERROR failed files',glob('*failed'))\n",
    "\n",
    "# copy a wcs reference file into the working director to use as reference pixel grid\n",
    "with fits.open('../hst_abell2744_f814w.fits') as ref_hdu:\n",
    "    header = ref_hdu[0].header\n",
    "    header['EQUINOX'] = 2000\n",
    "    ref_hdu.writeto('{0}_wcs-ref.fits'.format(root), overwrite=True,output_verify='fix')\n"
   ]
  },
  {
   "cell_type": "code",
   "execution_count": 15,
   "id": "012266d2-1960-47cc-b75f-2a35b23123a1",
   "metadata": {
    "collapsed": true,
    "jupyter": {
     "outputs_hidden": true
    },
    "tags": []
   },
   "outputs": [
    {
     "name": "stdout",
     "output_type": "stream",
     "text": [
      "# (2022-12-01 14:29:16.727)\n",
      "{'files': ['jw02561001002_02101_00001_nrcalong_cal.fits', 'jw02561001002_02101_00002_nrcalong_cal.fits', 'jw02561001002_02101_00003_nrcalong_cal.fits', 'jw02561001002_02101_00004_nrcalong_cal.fits'], 'footprint': <shapely.geometry.polygon.Polygon object at 0x7fbf3b6f7550>, 'product': 'abell2744-preimg-02561-001-041.0-nrca5-f277w-clear'}\n",
      "# (2022-12-01 14:29:16.728)\n",
      "{'files': ['jw02561001002_02101_00001_nrcblong_cal.fits', 'jw02561001002_02101_00002_nrcblong_cal.fits', 'jw02561001002_02101_00003_nrcblong_cal.fits', 'jw02561001002_02101_00004_nrcblong_cal.fits'], 'footprint': <shapely.geometry.polygon.Polygon object at 0x7fbf28e63fd0>, 'product': 'abell2744-preimg-02561-001-041.0-nrcb5-f277w-clear'}\n",
      "Drizzle mosaics in filters: dict_keys(['f277w'])\n",
      "\n",
      "\n",
      "### drizzle_overlaps: uncover-f277w (8)\n",
      "\n",
      "# (2022-12-01 14:29:16.728)\n",
      "\n",
      "jwst_utils.set_jwst_to_hst_keywords(**{'input': 'jw02561001002_02101_00001_nrcalong_cal.fits', 'reset': False, 'verbose': True, 'orig_keys': ['TELESCOP', 'INSTRUME', 'DETECTOR', 'FILTER', 'PUPIL', 'EXP_TYPE']})\n",
      "\n",
      "  Set: TELESCOP > HST\n",
      "  Set: INSTRUME > WFC3\n",
      "  Set: DETECTOR > IR\n",
      "# (2022-12-01 14:29:17.162)\n",
      "\n",
      "jwst_utils.set_jwst_to_hst_keywords(**{'input': 'jw02561001002_02101_00002_nrcalong_cal.fits', 'reset': False, 'verbose': True, 'orig_keys': ['TELESCOP', 'INSTRUME', 'DETECTOR', 'FILTER', 'PUPIL', 'EXP_TYPE']})\n",
      "\n",
      "  Set: TELESCOP > HST\n",
      "  Set: INSTRUME > WFC3\n",
      "  Set: DETECTOR > IR\n",
      "# (2022-12-01 14:29:17.591)\n",
      "\n",
      "jwst_utils.set_jwst_to_hst_keywords(**{'input': 'jw02561001002_02101_00003_nrcalong_cal.fits', 'reset': False, 'verbose': True, 'orig_keys': ['TELESCOP', 'INSTRUME', 'DETECTOR', 'FILTER', 'PUPIL', 'EXP_TYPE']})\n",
      "\n",
      "  Set: TELESCOP > HST\n",
      "  Set: INSTRUME > WFC3\n",
      "  Set: DETECTOR > IR\n",
      "# (2022-12-01 14:29:18.034)\n",
      "\n",
      "jwst_utils.set_jwst_to_hst_keywords(**{'input': 'jw02561001002_02101_00004_nrcalong_cal.fits', 'reset': False, 'verbose': True, 'orig_keys': ['TELESCOP', 'INSTRUME', 'DETECTOR', 'FILTER', 'PUPIL', 'EXP_TYPE']})\n",
      "\n",
      "  Set: TELESCOP > HST\n",
      "  Set: INSTRUME > WFC3\n",
      "  Set: DETECTOR > IR\n",
      "# (2022-12-01 14:29:18.464)\n",
      "\n",
      "jwst_utils.set_jwst_to_hst_keywords(**{'input': 'jw02561001002_02101_00001_nrcblong_cal.fits', 'reset': False, 'verbose': True, 'orig_keys': ['TELESCOP', 'INSTRUME', 'DETECTOR', 'FILTER', 'PUPIL', 'EXP_TYPE']})\n",
      "\n",
      "  Set: TELESCOP > HST\n",
      "  Set: INSTRUME > WFC3\n",
      "  Set: DETECTOR > IR\n",
      "# (2022-12-01 14:29:18.707)\n",
      "\n",
      "jwst_utils.set_jwst_to_hst_keywords(**{'input': 'jw02561001002_02101_00002_nrcblong_cal.fits', 'reset': False, 'verbose': True, 'orig_keys': ['TELESCOP', 'INSTRUME', 'DETECTOR', 'FILTER', 'PUPIL', 'EXP_TYPE']})\n",
      "\n",
      "  Set: TELESCOP > HST\n",
      "  Set: INSTRUME > WFC3\n",
      "  Set: DETECTOR > IR\n",
      "# (2022-12-01 14:29:18.967)\n",
      "\n",
      "jwst_utils.set_jwst_to_hst_keywords(**{'input': 'jw02561001002_02101_00003_nrcblong_cal.fits', 'reset': False, 'verbose': True, 'orig_keys': ['TELESCOP', 'INSTRUME', 'DETECTOR', 'FILTER', 'PUPIL', 'EXP_TYPE']})\n",
      "\n",
      "  Set: TELESCOP > HST\n",
      "  Set: INSTRUME > WFC3\n",
      "  Set: DETECTOR > IR\n",
      "# (2022-12-01 14:29:19.218)\n",
      "\n",
      "jwst_utils.set_jwst_to_hst_keywords(**{'input': 'jw02561001002_02101_00004_nrcblong_cal.fits', 'reset': False, 'verbose': True, 'orig_keys': ['TELESCOP', 'INSTRUME', 'DETECTOR', 'FILTER', 'PUPIL', 'EXP_TYPE']})\n",
      "\n",
      "  Set: TELESCOP > HST\n",
      "  Set: INSTRUME > WFC3\n",
      "  Set: DETECTOR > IR\n"
     ]
    },
    {
     "name": "stderr",
     "output_type": "stream",
     "text": [
      "2022-12-02 01:29:19,475 - stpipe - INFO - Setting up logfile :  astrodrizzle.log\n"
     ]
    },
    {
     "name": "stdout",
     "output_type": "stream",
     "text": [
      "Setting up logfile :  astrodrizzle.log\n"
     ]
    },
    {
     "name": "stderr",
     "output_type": "stream",
     "text": [
      "2022-12-02 01:29:19,477 - stpipe - INFO - AstroDrizzle log file: astrodrizzle.log\n"
     ]
    },
    {
     "name": "stdout",
     "output_type": "stream",
     "text": [
      "AstroDrizzle log file: astrodrizzle.log\n"
     ]
    },
    {
     "name": "stderr",
     "output_type": "stream",
     "text": [
      "2022-12-02 01:29:19,479 - stpipe - INFO - AstroDrizzle Version 3.5.0 started at: 01:29:19.478 (02/12/2022)\n"
     ]
    },
    {
     "name": "stdout",
     "output_type": "stream",
     "text": [
      "AstroDrizzle Version 3.5.0 started at: 01:29:19.478 (02/12/2022)\n"
     ]
    },
    {
     "name": "stderr",
     "output_type": "stream",
     "text": [
      "2022-12-02 01:29:19,479 - stpipe - INFO - \n"
     ]
    },
    {
     "name": "stdout",
     "output_type": "stream",
     "text": [
      "\n"
     ]
    },
    {
     "name": "stderr",
     "output_type": "stream",
     "text": [
      "2022-12-02 01:29:19,480 - stpipe - INFO - Version Information\n",
      "2022-12-02 01:29:19,481 - stpipe - INFO - --------------------\n",
      "2022-12-02 01:29:19,481 - stpipe - INFO - Python Version [Clang 14.0.6 ]\n",
      "2022-12-02 01:29:19,482 - stpipe - INFO - 3.9.15 (main, Nov 24 2022, 08:29:02) \n",
      "2022-12-02 01:29:19,482 - stpipe - INFO - numpy Version -> 1.23.5 \n",
      "2022-12-02 01:29:19,483 - stpipe - INFO - astropy Version -> 5.1.1 \n",
      "2022-12-02 01:29:19,483 - stpipe - INFO - stwcs Version -> 1.7.2 \n",
      "2022-12-02 01:29:19,484 - stpipe - INFO - ==== Processing Step  Initialization  started at  01:29:19.48 (02/12/2022)\n"
     ]
    },
    {
     "name": "stdout",
     "output_type": "stream",
     "text": [
      "==== Processing Step  Initialization  started at  01:29:19.48 (02/12/2022)\n"
     ]
    },
    {
     "name": "stderr",
     "output_type": "stream",
     "text": [
      "2022-12-02 01:29:19,485 - stpipe - INFO - \n"
     ]
    },
    {
     "name": "stdout",
     "output_type": "stream",
     "text": [
      "\n"
     ]
    },
    {
     "name": "stderr",
     "output_type": "stream",
     "text": [
      "2022-12-02 01:29:19,567 - stpipe - INFO - Executing serially\n",
      "2022-12-02 01:29:19,672 - stpipe - INFO - Setting up output name: uncover-f277w_drz.fits\n",
      "2022-12-02 01:29:19,673 - stpipe - INFO - ##############################################################################\n"
     ]
    },
    {
     "name": "stdout",
     "output_type": "stream",
     "text": [
      "##############################################################################\n"
     ]
    },
    {
     "name": "stderr",
     "output_type": "stream",
     "text": [
      "2022-12-02 01:29:19,674 - stpipe - INFO - #                                                                            #\n"
     ]
    },
    {
     "name": "stdout",
     "output_type": "stream",
     "text": [
      "#                                                                            #\n"
     ]
    },
    {
     "name": "stderr",
     "output_type": "stream",
     "text": [
      "2022-12-02 01:29:19,675 - stpipe - INFO - # “minmed” is highly recommended for three images,                           #\n"
     ]
    },
    {
     "name": "stdout",
     "output_type": "stream",
     "text": [
      "# “minmed” is highly recommended for three images,                           #\n"
     ]
    },
    {
     "name": "stderr",
     "output_type": "stream",
     "text": [
      "2022-12-02 01:29:19,676 - stpipe - INFO - #  and is good for four to six images,                                       #\n"
     ]
    },
    {
     "name": "stdout",
     "output_type": "stream",
     "text": [
      "#  and is good for four to six images,                                       #\n"
     ]
    },
    {
     "name": "stderr",
     "output_type": "stream",
     "text": [
      "2022-12-02 01:29:19,677 - stpipe - INFO - #  but should be avoided for ten or more images.                             #\n"
     ]
    },
    {
     "name": "stdout",
     "output_type": "stream",
     "text": [
      "#  but should be avoided for ten or more images.                             #\n"
     ]
    },
    {
     "name": "stderr",
     "output_type": "stream",
     "text": [
      "2022-12-02 01:29:19,678 - stpipe - INFO - #                                                                            #\n"
     ]
    },
    {
     "name": "stdout",
     "output_type": "stream",
     "text": [
      "#                                                                            #\n"
     ]
    },
    {
     "name": "stderr",
     "output_type": "stream",
     "text": [
      "2022-12-02 01:29:19,679 - stpipe - INFO - ##############################################################################\n"
     ]
    },
    {
     "name": "stdout",
     "output_type": "stream",
     "text": [
      "##############################################################################\n"
     ]
    },
    {
     "name": "stderr",
     "output_type": "stream",
     "text": [
      "2022-12-02 01:29:19,684 - stpipe - INFO - -Creating imageObject List as input for processing steps.\n",
      "2022-12-02 01:29:19,749 - stpipe - WARNING - /Users/ivo/anaconda/envs/jwst_nircam/lib/python3.9/site-packages/astropy/wcs/wcs.py:725: FITSFixedWarning: 'obsfix' made the change 'Set OBSGEO-L to    63.263556 from OBSGEO-[XYZ].\n",
      "Set OBSGEO-B to    28.494908 from OBSGEO-[XYZ].\n",
      "Set OBSGEO-H to 1394727362.015 from OBSGEO-[XYZ]'.\n",
      "  warnings.warn(\n",
      "\n",
      "2022-12-02 01:29:19,756 - stpipe - INFO - Reading in MDRIZSKY of 0.1155038699507713\n",
      "2022-12-02 01:29:19,836 - stpipe - WARNING - /Users/ivo/anaconda/envs/jwst_nircam/lib/python3.9/site-packages/astropy/wcs/wcs.py:725: FITSFixedWarning: 'obsfix' made the change 'Set OBSGEO-L to    63.281076 from OBSGEO-[XYZ].\n",
      "Set OBSGEO-B to    28.491626 from OBSGEO-[XYZ].\n",
      "Set OBSGEO-H to 1394836264.421 from OBSGEO-[XYZ]'.\n",
      "  warnings.warn(\n",
      "\n",
      "2022-12-02 01:29:19,844 - stpipe - INFO - Reading in MDRIZSKY of 0.1151476874947548\n",
      "2022-12-02 01:29:19,926 - stpipe - WARNING - /Users/ivo/anaconda/envs/jwst_nircam/lib/python3.9/site-packages/astropy/wcs/wcs.py:725: FITSFixedWarning: 'obsfix' made the change 'Set OBSGEO-L to    63.299758 from OBSGEO-[XYZ].\n",
      "Set OBSGEO-B to    28.488124 from OBSGEO-[XYZ].\n",
      "Set OBSGEO-H to 1394952435.627 from OBSGEO-[XYZ]'.\n",
      "  warnings.warn(\n",
      "\n",
      "2022-12-02 01:29:19,934 - stpipe - INFO - Reading in MDRIZSKY of 0.1170725896954536\n",
      "2022-12-02 01:29:20,015 - stpipe - WARNING - /Users/ivo/anaconda/envs/jwst_nircam/lib/python3.9/site-packages/astropy/wcs/wcs.py:725: FITSFixedWarning: 'obsfix' made the change 'Set OBSGEO-L to    63.317268 from OBSGEO-[XYZ].\n",
      "Set OBSGEO-B to    28.484837 from OBSGEO-[XYZ].\n",
      "Set OBSGEO-H to 1395061354.150 from OBSGEO-[XYZ]'.\n",
      "  warnings.warn(\n",
      "\n",
      "2022-12-02 01:29:20,022 - stpipe - INFO - Reading in MDRIZSKY of 0.1160109713673592\n",
      "2022-12-02 01:29:20,100 - stpipe - WARNING - /Users/ivo/anaconda/envs/jwst_nircam/lib/python3.9/site-packages/astropy/wcs/wcs.py:725: FITSFixedWarning: 'obsfix' made the change 'Set OBSGEO-L to    63.263556 from OBSGEO-[XYZ].\n",
      "Set OBSGEO-B to    28.494908 from OBSGEO-[XYZ].\n",
      "Set OBSGEO-H to 1394727362.015 from OBSGEO-[XYZ]'.\n",
      "  warnings.warn(\n",
      "\n",
      "2022-12-02 01:29:20,107 - stpipe - INFO - Reading in MDRIZSKY of 0.1126424372196198\n",
      "2022-12-02 01:29:20,185 - stpipe - WARNING - /Users/ivo/anaconda/envs/jwst_nircam/lib/python3.9/site-packages/astropy/wcs/wcs.py:725: FITSFixedWarning: 'obsfix' made the change 'Set OBSGEO-L to    63.281076 from OBSGEO-[XYZ].\n",
      "Set OBSGEO-B to    28.491626 from OBSGEO-[XYZ].\n",
      "Set OBSGEO-H to 1394836264.421 from OBSGEO-[XYZ]'.\n",
      "  warnings.warn(\n",
      "\n",
      "2022-12-02 01:29:20,192 - stpipe - INFO - Reading in MDRIZSKY of 0.1122988313436508\n",
      "2022-12-02 01:29:20,270 - stpipe - WARNING - /Users/ivo/anaconda/envs/jwst_nircam/lib/python3.9/site-packages/astropy/wcs/wcs.py:725: FITSFixedWarning: 'obsfix' made the change 'Set OBSGEO-L to    63.299758 from OBSGEO-[XYZ].\n",
      "Set OBSGEO-B to    28.488124 from OBSGEO-[XYZ].\n",
      "Set OBSGEO-H to 1394952435.627 from OBSGEO-[XYZ]'.\n",
      "  warnings.warn(\n",
      "\n",
      "2022-12-02 01:29:20,277 - stpipe - INFO - Reading in MDRIZSKY of 0.1135078817605972\n",
      "2022-12-02 01:29:20,353 - stpipe - WARNING - /Users/ivo/anaconda/envs/jwst_nircam/lib/python3.9/site-packages/astropy/wcs/wcs.py:725: FITSFixedWarning: 'obsfix' made the change 'Set OBSGEO-L to    63.317268 from OBSGEO-[XYZ].\n",
      "Set OBSGEO-B to    28.484837 from OBSGEO-[XYZ].\n",
      "Set OBSGEO-H to 1395061354.150 from OBSGEO-[XYZ]'.\n",
      "  warnings.warn(\n",
      "\n",
      "2022-12-02 01:29:20,360 - stpipe - INFO - Reading in MDRIZSKY of 0.1141258776187897\n",
      "2022-12-02 01:29:20,378 - stpipe - INFO - No context image will be created for jw02561001002_02101_00001_nrcalong_cal.fits\n",
      "2022-12-02 01:29:20,378 - stpipe - INFO - No context image will be created for jw02561001002_02101_00002_nrcalong_cal.fits\n",
      "2022-12-02 01:29:20,379 - stpipe - INFO - No context image will be created for jw02561001002_02101_00003_nrcalong_cal.fits\n",
      "2022-12-02 01:29:20,379 - stpipe - INFO - No context image will be created for jw02561001002_02101_00004_nrcalong_cal.fits\n",
      "2022-12-02 01:29:20,380 - stpipe - INFO - No context image will be created for jw02561001002_02101_00001_nrcblong_cal.fits\n",
      "2022-12-02 01:29:20,380 - stpipe - INFO - No context image will be created for jw02561001002_02101_00002_nrcblong_cal.fits\n",
      "2022-12-02 01:29:20,381 - stpipe - INFO - No context image will be created for jw02561001002_02101_00003_nrcblong_cal.fits\n",
      "2022-12-02 01:29:20,381 - stpipe - INFO - No context image will be created for jw02561001002_02101_00004_nrcblong_cal.fits\n",
      "2022-12-02 01:29:20,382 - stpipe - INFO - -Creating output WCS.\n",
      "2022-12-02 01:29:20,384 - stpipe - INFO - No context image will be created for uncover-f277w_drz.fits\n",
      "2022-12-02 01:29:20,390 - stpipe - INFO - Creating OUTPUT WCS from uncover_wcs-ref.fits[0]\n"
     ]
    },
    {
     "name": "stdout",
     "output_type": "stream",
     "text": [
      "Creating OUTPUT WCS from uncover_wcs-ref.fits[0]\n"
     ]
    },
    {
     "name": "stderr",
     "output_type": "stream",
     "text": [
      "2022-12-02 01:29:20,394 - stpipe - INFO - WCS Keywords\n"
     ]
    },
    {
     "name": "stdout",
     "output_type": "stream",
     "text": [
      "WCS Keywords\n"
     ]
    },
    {
     "name": "stderr",
     "output_type": "stream",
     "text": [
      "2022-12-02 01:29:20,396 - stpipe - INFO - \n"
     ]
    },
    {
     "name": "stdout",
     "output_type": "stream",
     "text": [
      "\n"
     ]
    },
    {
     "name": "stderr",
     "output_type": "stream",
     "text": [
      "2022-12-02 01:29:20,396 - stpipe - INFO - CD_11  CD_12: -1.1111111111111e-05 0.0\n"
     ]
    },
    {
     "name": "stdout",
     "output_type": "stream",
     "text": [
      "CD_11  CD_12: -1.1111111111111e-05 0.0\n"
     ]
    },
    {
     "name": "stderr",
     "output_type": "stream",
     "text": [
      "2022-12-02 01:29:20,398 - stpipe - INFO - CD_21  CD_22: 0.0 1.1111111111111e-05\n"
     ]
    },
    {
     "name": "stdout",
     "output_type": "stream",
     "text": [
      "CD_21  CD_22: 0.0 1.1111111111111e-05\n"
     ]
    },
    {
     "name": "stderr",
     "output_type": "stream",
     "text": [
      "2022-12-02 01:29:20,399 - stpipe - INFO - CRVAL    : 3.5875 -30.3966667\n"
     ]
    },
    {
     "name": "stdout",
     "output_type": "stream",
     "text": [
      "CRVAL    : 3.5875 -30.3966667\n"
     ]
    },
    {
     "name": "stderr",
     "output_type": "stream",
     "text": [
      "2022-12-02 01:29:20,400 - stpipe - INFO - CRPIX    : 5123.5 4207.5\n"
     ]
    },
    {
     "name": "stdout",
     "output_type": "stream",
     "text": [
      "CRPIX    : 5123.5 4207.5\n"
     ]
    },
    {
     "name": "stderr",
     "output_type": "stream",
     "text": [
      "2022-12-02 01:29:20,401 - stpipe - INFO - NAXIS    : 12070 11564\n"
     ]
    },
    {
     "name": "stdout",
     "output_type": "stream",
     "text": [
      "NAXIS    : 12070 11564\n"
     ]
    },
    {
     "name": "stderr",
     "output_type": "stream",
     "text": [
      "2022-12-02 01:29:20,402 - stpipe - INFO - Plate Scale : 0.0399999999999996\n"
     ]
    },
    {
     "name": "stdout",
     "output_type": "stream",
     "text": [
      "Plate Scale : 0.0399999999999996\n"
     ]
    },
    {
     "name": "stderr",
     "output_type": "stream",
     "text": [
      "2022-12-02 01:29:20,403 - stpipe - INFO - ORIENTAT : 0.0\n"
     ]
    },
    {
     "name": "stdout",
     "output_type": "stream",
     "text": [
      "ORIENTAT : 0.0\n"
     ]
    },
    {
     "name": "stderr",
     "output_type": "stream",
     "text": [
      "2022-12-02 01:29:20,405 - stpipe - INFO - ********************************************************************************\n"
     ]
    },
    {
     "name": "stdout",
     "output_type": "stream",
     "text": [
      "********************************************************************************\n"
     ]
    },
    {
     "name": "stderr",
     "output_type": "stream",
     "text": [
      "2022-12-02 01:29:20,406 - stpipe - INFO - *\n"
     ]
    },
    {
     "name": "stdout",
     "output_type": "stream",
     "text": [
      "*\n"
     ]
    },
    {
     "name": "stderr",
     "output_type": "stream",
     "text": [
      "2022-12-02 01:29:20,407 - stpipe - INFO - *  Estimated memory usage:  up to 1629 Mb.\n"
     ]
    },
    {
     "name": "stdout",
     "output_type": "stream",
     "text": [
      "*  Estimated memory usage:  up to 1629 Mb.\n"
     ]
    },
    {
     "name": "stderr",
     "output_type": "stream",
     "text": [
      "2022-12-02 01:29:20,408 - stpipe - INFO - *  Output image size:       12070 X 11564 pixels. \n"
     ]
    },
    {
     "name": "stdout",
     "output_type": "stream",
     "text": [
      "*  Output image size:       12070 X 11564 pixels. \n"
     ]
    },
    {
     "name": "stderr",
     "output_type": "stream",
     "text": [
      "2022-12-02 01:29:20,409 - stpipe - INFO - *  Output image file:       ~ 1597 Mb. \n"
     ]
    },
    {
     "name": "stdout",
     "output_type": "stream",
     "text": [
      "*  Output image file:       ~ 1597 Mb. \n"
     ]
    },
    {
     "name": "stderr",
     "output_type": "stream",
     "text": [
      "2022-12-02 01:29:20,410 - stpipe - INFO - *  Cores available:         1\n"
     ]
    },
    {
     "name": "stdout",
     "output_type": "stream",
     "text": [
      "*  Cores available:         1\n"
     ]
    },
    {
     "name": "stderr",
     "output_type": "stream",
     "text": [
      "2022-12-02 01:29:20,410 - stpipe - INFO - *\n"
     ]
    },
    {
     "name": "stdout",
     "output_type": "stream",
     "text": [
      "*\n"
     ]
    },
    {
     "name": "stderr",
     "output_type": "stream",
     "text": [
      "2022-12-02 01:29:20,411 - stpipe - INFO - ********************************************************************************\n"
     ]
    },
    {
     "name": "stdout",
     "output_type": "stream",
     "text": [
      "********************************************************************************\n"
     ]
    },
    {
     "name": "stderr",
     "output_type": "stream",
     "text": [
      "2022-12-02 01:29:20,412 - stpipe - INFO - ==== Processing Step Initialization finished at 01:29:20.412 (02/12/2022)\n"
     ]
    },
    {
     "name": "stdout",
     "output_type": "stream",
     "text": [
      "==== Processing Step Initialization finished at 01:29:20.412 (02/12/2022)\n"
     ]
    },
    {
     "name": "stderr",
     "output_type": "stream",
     "text": [
      "2022-12-02 01:29:20,413 - stpipe - INFO - USER INPUT PARAMETERS common to all Processing Steps:\n",
      "2022-12-02 01:29:20,413 - stpipe - INFO - \tbuild :\tFalse\n",
      "2022-12-02 01:29:20,414 - stpipe - INFO - \tcoeffs :\tTrue\n",
      "2022-12-02 01:29:20,414 - stpipe - INFO - \tcontext :\tFalse\n",
      "2022-12-02 01:29:20,415 - stpipe - INFO - \tcrbit :\t4096\n",
      "2022-12-02 01:29:20,416 - stpipe - INFO - \tgroup :\t\n",
      "2022-12-02 01:29:20,416 - stpipe - INFO - \tin_memory :\tFalse\n",
      "2022-12-02 01:29:20,416 - stpipe - INFO - \tinput :\t['jw02561001002_02101_00001_nrcalong_cal.fits', 'jw02561001002_02101_00002_nrcalong_cal.fits', 'jw02561001002_02101_00003_nrcalong_cal.fits', 'jw02561001002_02101_00004_nrcalong_cal.fits', 'jw02561001002_02101_00001_nrcblong_cal.fits', 'jw02561001002_02101_00002_nrcblong_cal.fits', 'jw02561001002_02101_00003_nrcblong_cal.fits', 'jw02561001002_02101_00004_nrcblong_cal.fits']\n",
      "2022-12-02 01:29:20,417 - stpipe - INFO - \tmdriztab :\tFalse\n",
      "2022-12-02 01:29:20,417 - stpipe - INFO - \tnum_cores :\tNone\n",
      "2022-12-02 01:29:20,418 - stpipe - INFO - \toutput :\tuncover-f277w\n",
      "2022-12-02 01:29:20,419 - stpipe - INFO - \tproc_unit :\tnative\n",
      "2022-12-02 01:29:20,420 - stpipe - INFO - \tresetbits :\t0\n",
      "2022-12-02 01:29:20,420 - stpipe - INFO - \trules_file :\t\n",
      "2022-12-02 01:29:20,421 - stpipe - INFO - \trunfile :\tastrodrizzle.log\n",
      "2022-12-02 01:29:20,421 - stpipe - INFO - \tstepsize :\t10\n",
      "2022-12-02 01:29:20,421 - stpipe - INFO - \tupdatewcs :\tFalse\n",
      "2022-12-02 01:29:20,422 - stpipe - INFO - \twcskey :\t\n",
      "2022-12-02 01:29:20,423 - stpipe - INFO - ==== Processing Step  Static Mask  started at  01:29:20.423 (02/12/2022)\n"
     ]
    },
    {
     "name": "stdout",
     "output_type": "stream",
     "text": [
      "==== Processing Step  Static Mask  started at  01:29:20.423 (02/12/2022)\n"
     ]
    },
    {
     "name": "stderr",
     "output_type": "stream",
     "text": [
      "2022-12-02 01:29:20,424 - stpipe - INFO - \n"
     ]
    },
    {
     "name": "stdout",
     "output_type": "stream",
     "text": [
      "\n"
     ]
    },
    {
     "name": "stderr",
     "output_type": "stream",
     "text": [
      "2022-12-02 01:29:20,426 - stpipe - INFO - Static Mask step not performed.\n",
      "2022-12-02 01:29:20,427 - stpipe - INFO - ==== Processing Step Static Mask finished at 01:29:20.427 (02/12/2022)\n"
     ]
    },
    {
     "name": "stdout",
     "output_type": "stream",
     "text": [
      "==== Processing Step Static Mask finished at 01:29:20.427 (02/12/2022)\n"
     ]
    },
    {
     "name": "stderr",
     "output_type": "stream",
     "text": [
      "2022-12-02 01:29:20,428 - stpipe - INFO - ==== Processing Step  Subtract Sky  started at  01:29:20.428 (02/12/2022)\n"
     ]
    },
    {
     "name": "stdout",
     "output_type": "stream",
     "text": [
      "==== Processing Step  Subtract Sky  started at  01:29:20.428 (02/12/2022)\n"
     ]
    },
    {
     "name": "stderr",
     "output_type": "stream",
     "text": [
      "2022-12-02 01:29:20,429 - stpipe - INFO - \n"
     ]
    },
    {
     "name": "stdout",
     "output_type": "stream",
     "text": [
      "\n"
     ]
    },
    {
     "name": "stderr",
     "output_type": "stream",
     "text": [
      "2022-12-02 01:29:20,431 - stpipe - INFO - Sky Subtraction step not performed.\n",
      "2022-12-02 01:29:20,675 - stpipe - INFO - Retrieving user computed sky values from image headers \n",
      "2022-12-02 01:29:20,676 - stpipe - INFO - recorded in the 'MDRIZSKY' header keywords.\n",
      "2022-12-02 01:29:20,677 - stpipe - INFO - Working on sky for: jw02561001002_02101_00001_nrcalong_cal.fits\n",
      "2022-12-02 01:29:20,678 - stpipe - INFO - User has computed their own sky values...\n"
     ]
    },
    {
     "name": "stdout",
     "output_type": "stream",
     "text": [
      "User has computed their own sky values...\n"
     ]
    },
    {
     "name": "stderr",
     "output_type": "stream",
     "text": [
      "2022-12-02 01:29:20,679 - stpipe - INFO - Working on sky for: jw02561001002_02101_00002_nrcalong_cal.fits\n",
      "2022-12-02 01:29:20,680 - stpipe - INFO - User has computed their own sky values...\n"
     ]
    },
    {
     "name": "stdout",
     "output_type": "stream",
     "text": [
      "User has computed their own sky values...\n"
     ]
    },
    {
     "name": "stderr",
     "output_type": "stream",
     "text": [
      "2022-12-02 01:29:20,680 - stpipe - INFO - Working on sky for: jw02561001002_02101_00003_nrcalong_cal.fits\n",
      "2022-12-02 01:29:20,681 - stpipe - INFO - User has computed their own sky values...\n"
     ]
    },
    {
     "name": "stdout",
     "output_type": "stream",
     "text": [
      "User has computed their own sky values...\n"
     ]
    },
    {
     "name": "stderr",
     "output_type": "stream",
     "text": [
      "2022-12-02 01:29:20,682 - stpipe - INFO - Working on sky for: jw02561001002_02101_00004_nrcalong_cal.fits\n",
      "2022-12-02 01:29:20,683 - stpipe - INFO - User has computed their own sky values...\n"
     ]
    },
    {
     "name": "stdout",
     "output_type": "stream",
     "text": [
      "User has computed their own sky values...\n"
     ]
    },
    {
     "name": "stderr",
     "output_type": "stream",
     "text": [
      "2022-12-02 01:29:20,683 - stpipe - INFO - Working on sky for: jw02561001002_02101_00001_nrcblong_cal.fits\n",
      "2022-12-02 01:29:20,684 - stpipe - INFO - User has computed their own sky values...\n"
     ]
    },
    {
     "name": "stdout",
     "output_type": "stream",
     "text": [
      "User has computed their own sky values...\n"
     ]
    },
    {
     "name": "stderr",
     "output_type": "stream",
     "text": [
      "2022-12-02 01:29:20,684 - stpipe - INFO - Working on sky for: jw02561001002_02101_00002_nrcblong_cal.fits\n",
      "2022-12-02 01:29:20,685 - stpipe - INFO - User has computed their own sky values...\n"
     ]
    },
    {
     "name": "stdout",
     "output_type": "stream",
     "text": [
      "User has computed their own sky values...\n"
     ]
    },
    {
     "name": "stderr",
     "output_type": "stream",
     "text": [
      "2022-12-02 01:29:20,686 - stpipe - INFO - Working on sky for: jw02561001002_02101_00003_nrcblong_cal.fits\n",
      "2022-12-02 01:29:20,686 - stpipe - INFO - User has computed their own sky values...\n"
     ]
    },
    {
     "name": "stdout",
     "output_type": "stream",
     "text": [
      "User has computed their own sky values...\n"
     ]
    },
    {
     "name": "stderr",
     "output_type": "stream",
     "text": [
      "2022-12-02 01:29:20,687 - stpipe - INFO - Working on sky for: jw02561001002_02101_00004_nrcblong_cal.fits\n",
      "2022-12-02 01:29:20,688 - stpipe - INFO - User has computed their own sky values...\n"
     ]
    },
    {
     "name": "stdout",
     "output_type": "stream",
     "text": [
      "User has computed their own sky values...\n"
     ]
    },
    {
     "name": "stderr",
     "output_type": "stream",
     "text": [
      "2022-12-02 01:29:20,689 - stpipe - INFO - ==== Processing Step Subtract Sky finished at 01:29:20.688 (02/12/2022)\n"
     ]
    },
    {
     "name": "stdout",
     "output_type": "stream",
     "text": [
      "==== Processing Step Subtract Sky finished at 01:29:20.688 (02/12/2022)\n"
     ]
    },
    {
     "name": "stderr",
     "output_type": "stream",
     "text": [
      "2022-12-02 01:29:20,690 - stpipe - INFO - ==== Processing Step  Separate Drizzle  started at  01:29:20.689 (02/12/2022)\n"
     ]
    },
    {
     "name": "stdout",
     "output_type": "stream",
     "text": [
      "==== Processing Step  Separate Drizzle  started at  01:29:20.689 (02/12/2022)\n"
     ]
    },
    {
     "name": "stderr",
     "output_type": "stream",
     "text": [
      "2022-12-02 01:29:20,690 - stpipe - INFO - \n"
     ]
    },
    {
     "name": "stdout",
     "output_type": "stream",
     "text": [
      "\n"
     ]
    },
    {
     "name": "stderr",
     "output_type": "stream",
     "text": [
      "2022-12-02 01:29:20,691 - stpipe - INFO - Single drizzle step not performed.\n",
      "2022-12-02 01:29:20,692 - stpipe - INFO - ==== Processing Step Separate Drizzle finished at 01:29:20.692 (02/12/2022)\n"
     ]
    },
    {
     "name": "stdout",
     "output_type": "stream",
     "text": [
      "==== Processing Step Separate Drizzle finished at 01:29:20.692 (02/12/2022)\n"
     ]
    },
    {
     "name": "stderr",
     "output_type": "stream",
     "text": [
      "2022-12-02 01:29:20,694 - stpipe - INFO - ==== Processing Step  Create Median  started at  01:29:20.693 (02/12/2022)\n"
     ]
    },
    {
     "name": "stdout",
     "output_type": "stream",
     "text": [
      "==== Processing Step  Create Median  started at  01:29:20.693 (02/12/2022)\n"
     ]
    },
    {
     "name": "stderr",
     "output_type": "stream",
     "text": [
      "2022-12-02 01:29:20,694 - stpipe - INFO - \n"
     ]
    },
    {
     "name": "stdout",
     "output_type": "stream",
     "text": [
      "\n"
     ]
    },
    {
     "name": "stderr",
     "output_type": "stream",
     "text": [
      "2022-12-02 01:29:20,695 - stpipe - INFO - Median combination step not performed.\n",
      "2022-12-02 01:29:20,696 - stpipe - INFO - ==== Processing Step  Blot  started at  01:29:20.696 (02/12/2022)\n"
     ]
    },
    {
     "name": "stdout",
     "output_type": "stream",
     "text": [
      "==== Processing Step  Blot  started at  01:29:20.696 (02/12/2022)\n"
     ]
    },
    {
     "name": "stderr",
     "output_type": "stream",
     "text": [
      "2022-12-02 01:29:20,697 - stpipe - INFO - \n"
     ]
    },
    {
     "name": "stdout",
     "output_type": "stream",
     "text": [
      "\n"
     ]
    },
    {
     "name": "stderr",
     "output_type": "stream",
     "text": [
      "2022-12-02 01:29:20,698 - stpipe - INFO - Blot step not performed.\n",
      "2022-12-02 01:29:20,699 - stpipe - INFO - ==== Processing Step Blot finished at 01:29:20.699 (02/12/2022)\n"
     ]
    },
    {
     "name": "stdout",
     "output_type": "stream",
     "text": [
      "==== Processing Step Blot finished at 01:29:20.699 (02/12/2022)\n"
     ]
    },
    {
     "name": "stderr",
     "output_type": "stream",
     "text": [
      "2022-12-02 01:29:20,700 - stpipe - INFO - ==== Processing Step  Driz_CR  started at  01:29:20.700 (02/12/2022)\n"
     ]
    },
    {
     "name": "stdout",
     "output_type": "stream",
     "text": [
      "==== Processing Step  Driz_CR  started at  01:29:20.700 (02/12/2022)\n"
     ]
    },
    {
     "name": "stderr",
     "output_type": "stream",
     "text": [
      "2022-12-02 01:29:20,701 - stpipe - INFO - \n"
     ]
    },
    {
     "name": "stdout",
     "output_type": "stream",
     "text": [
      "\n"
     ]
    },
    {
     "name": "stderr",
     "output_type": "stream",
     "text": [
      "2022-12-02 01:29:20,702 - stpipe - INFO - Cosmic-ray identification (driz_cr) step not performed.\n",
      "2022-12-02 01:29:20,703 - stpipe - INFO - ==== Processing Step  Final Drizzle  started at  01:29:20.703 (02/12/2022)\n"
     ]
    },
    {
     "name": "stdout",
     "output_type": "stream",
     "text": [
      "==== Processing Step  Final Drizzle  started at  01:29:20.703 (02/12/2022)\n"
     ]
    },
    {
     "name": "stderr",
     "output_type": "stream",
     "text": [
      "2022-12-02 01:29:20,704 - stpipe - INFO - \n"
     ]
    },
    {
     "name": "stdout",
     "output_type": "stream",
     "text": [
      "\n"
     ]
    },
    {
     "name": "stderr",
     "output_type": "stream",
     "text": [
      "2022-12-02 01:29:20,705 - stpipe - INFO - Interpreted paramDict with single=False as:\n",
      "2022-12-02 01:29:20,706 - stpipe - INFO - {'build': False, 'stepsize': 10, 'coeffs': True, 'wcskey': '', 'wht_type': 'IVM', 'kernel': 'square', 'wt_scl': 'exptime', 'pixfrac': 0.75, 'fillval': None, 'maskval': None, 'bits': 5, 'units': 'cps'}\n",
      "2022-12-02 01:29:20,706 - stpipe - INFO - USER INPUT PARAMETERS for Final Drizzle Step:\n",
      "2022-12-02 01:29:20,707 - stpipe - INFO - \tbits :\t5\n",
      "2022-12-02 01:29:20,708 - stpipe - INFO - \tbuild :\tFalse\n",
      "2022-12-02 01:29:20,708 - stpipe - INFO - \tclean :\tTrue\n",
      "2022-12-02 01:29:20,708 - stpipe - INFO - \tcoeffs :\tTrue\n",
      "2022-12-02 01:29:20,709 - stpipe - INFO - \tcrbit :\t4096\n",
      "2022-12-02 01:29:20,709 - stpipe - INFO - \tfillval :\tNone\n",
      "2022-12-02 01:29:20,709 - stpipe - INFO - \tkernel :\tsquare\n",
      "2022-12-02 01:29:20,710 - stpipe - INFO - \tlogfile :\tastrodrizzle.log\n",
      "2022-12-02 01:29:20,710 - stpipe - INFO - \tmaskval :\tNone\n",
      "2022-12-02 01:29:20,710 - stpipe - INFO - \tpixfrac :\t0.75\n",
      "2022-12-02 01:29:20,711 - stpipe - INFO - \tproc_unit :\tnative\n",
      "2022-12-02 01:29:20,711 - stpipe - INFO - \trules_file :\tNone\n",
      "2022-12-02 01:29:20,711 - stpipe - INFO - \tstepsize :\t10\n",
      "2022-12-02 01:29:20,712 - stpipe - INFO - \tunits :\tcps\n",
      "2022-12-02 01:29:20,712 - stpipe - INFO - \twcskey :\t\n",
      "2022-12-02 01:29:20,713 - stpipe - INFO - \twht_type :\tIVM\n",
      "2022-12-02 01:29:20,713 - stpipe - INFO - \twt_scl :\texptime\n",
      "2022-12-02 01:29:20,714 - stpipe - INFO -   **Using sub-sampling value of 10 for kernel square\n",
      "2022-12-02 01:29:20,715 - stpipe - INFO - Running Drizzle to create output frame with WCS of: \n",
      "2022-12-02 01:29:20,715 - stpipe - INFO - WCS Keywords\n"
     ]
    },
    {
     "name": "stdout",
     "output_type": "stream",
     "text": [
      "WCS Keywords\n"
     ]
    },
    {
     "name": "stderr",
     "output_type": "stream",
     "text": [
      "2022-12-02 01:29:20,716 - stpipe - INFO - \n"
     ]
    },
    {
     "name": "stdout",
     "output_type": "stream",
     "text": [
      "\n"
     ]
    },
    {
     "name": "stderr",
     "output_type": "stream",
     "text": [
      "2022-12-02 01:29:20,717 - stpipe - INFO - CD_11  CD_12: -1.1111111111111e-05 0.0\n"
     ]
    },
    {
     "name": "stdout",
     "output_type": "stream",
     "text": [
      "CD_11  CD_12: -1.1111111111111e-05 0.0\n"
     ]
    },
    {
     "name": "stderr",
     "output_type": "stream",
     "text": [
      "2022-12-02 01:29:20,718 - stpipe - INFO - CD_21  CD_22: 0.0 1.1111111111111e-05\n"
     ]
    },
    {
     "name": "stdout",
     "output_type": "stream",
     "text": [
      "CD_21  CD_22: 0.0 1.1111111111111e-05\n"
     ]
    },
    {
     "name": "stderr",
     "output_type": "stream",
     "text": [
      "2022-12-02 01:29:20,719 - stpipe - INFO - CRVAL    : 3.5875 -30.3966667\n"
     ]
    },
    {
     "name": "stdout",
     "output_type": "stream",
     "text": [
      "CRVAL    : 3.5875 -30.3966667\n"
     ]
    },
    {
     "name": "stderr",
     "output_type": "stream",
     "text": [
      "2022-12-02 01:29:20,719 - stpipe - INFO - CRPIX    : 5123.5 4207.5\n"
     ]
    },
    {
     "name": "stdout",
     "output_type": "stream",
     "text": [
      "CRPIX    : 5123.5 4207.5\n"
     ]
    },
    {
     "name": "stderr",
     "output_type": "stream",
     "text": [
      "2022-12-02 01:29:20,720 - stpipe - INFO - NAXIS    : 12070 11564\n"
     ]
    },
    {
     "name": "stdout",
     "output_type": "stream",
     "text": [
      "NAXIS    : 12070 11564\n"
     ]
    },
    {
     "name": "stderr",
     "output_type": "stream",
     "text": [
      "2022-12-02 01:29:20,721 - stpipe - INFO - Plate Scale : 0.0399999999999996\n"
     ]
    },
    {
     "name": "stdout",
     "output_type": "stream",
     "text": [
      "Plate Scale : 0.0399999999999996\n"
     ]
    },
    {
     "name": "stderr",
     "output_type": "stream",
     "text": [
      "2022-12-02 01:29:20,722 - stpipe - INFO - ORIENTAT : 0.0\n"
     ]
    },
    {
     "name": "stdout",
     "output_type": "stream",
     "text": [
      "ORIENTAT : 0.0\n"
     ]
    },
    {
     "name": "stderr",
     "output_type": "stream",
     "text": [
      "2022-12-02 01:29:20,848 - stpipe - INFO - -Drizzle input: jw02561001002_02101_00001_nrcalong_cal.fits[sci,1]\n",
      "2022-12-02 01:29:20,863 - stpipe - INFO - Applying sky value of 0.115504 to jw02561001002_02101_00001_nrcalong_cal.fits[sci,1]\n",
      "2022-12-02 01:29:20,875 - stpipe - WARNING - No CR mask file found! Input DQ array not updated.\n",
      "2022-12-02 01:29:20,875 - stpipe - INFO - Automatically creating IVM files for chip 1\n",
      "2022-12-02 01:29:20,880 - stpipe - WARNING - Cannot find flat field file 'jwst_nircam_flat_0502.fits'\n",
      "2022-12-02 01:29:20,881 - stpipe - WARNING - Treating flatfield as a constant value of '1'.\n",
      "2022-12-02 01:29:20,918 - stpipe - INFO - Using WCSLIB-based coordinate transformation...\n",
      "2022-12-02 01:29:20,919 - stpipe - INFO - stepsize = 10\n",
      "2022-12-02 01:29:20,931 - stpipe - INFO - -Drizzling using kernel = square\n",
      "2022-12-02 01:29:20,931 - stpipe - INFO - \n",
      "2022-12-02 01:29:22,146 - stpipe - INFO - -Drizzle input: jw02561001002_02101_00002_nrcalong_cal.fits[sci,1]\n",
      "2022-12-02 01:29:22,162 - stpipe - INFO - Applying sky value of 0.115148 to jw02561001002_02101_00002_nrcalong_cal.fits[sci,1]\n",
      "2022-12-02 01:29:22,174 - stpipe - WARNING - No CR mask file found! Input DQ array not updated.\n",
      "2022-12-02 01:29:22,175 - stpipe - INFO - Automatically creating IVM files for chip 1\n",
      "2022-12-02 01:29:22,176 - stpipe - WARNING - Cannot find flat field file 'jwst_nircam_flat_0502.fits'\n",
      "2022-12-02 01:29:22,176 - stpipe - WARNING - Treating flatfield as a constant value of '1'.\n",
      "2022-12-02 01:29:22,194 - stpipe - INFO - Using WCSLIB-based coordinate transformation...\n",
      "2022-12-02 01:29:22,195 - stpipe - INFO - stepsize = 10\n",
      "2022-12-02 01:29:22,205 - stpipe - INFO - -Drizzling using kernel = square\n",
      "2022-12-02 01:29:22,206 - stpipe - INFO - \n",
      "2022-12-02 01:29:23,334 - stpipe - INFO - -Drizzle input: jw02561001002_02101_00003_nrcalong_cal.fits[sci,1]\n",
      "2022-12-02 01:29:23,350 - stpipe - INFO - Applying sky value of 0.117073 to jw02561001002_02101_00003_nrcalong_cal.fits[sci,1]\n",
      "2022-12-02 01:29:23,358 - stpipe - WARNING - No CR mask file found! Input DQ array not updated.\n",
      "2022-12-02 01:29:23,359 - stpipe - INFO - Automatically creating IVM files for chip 1\n",
      "2022-12-02 01:29:23,360 - stpipe - WARNING - Cannot find flat field file 'jwst_nircam_flat_0502.fits'\n",
      "2022-12-02 01:29:23,360 - stpipe - WARNING - Treating flatfield as a constant value of '1'.\n",
      "2022-12-02 01:29:23,377 - stpipe - INFO - Using WCSLIB-based coordinate transformation...\n",
      "2022-12-02 01:29:23,377 - stpipe - INFO - stepsize = 10\n",
      "2022-12-02 01:29:23,387 - stpipe - INFO - -Drizzling using kernel = square\n",
      "2022-12-02 01:29:23,388 - stpipe - INFO - \n",
      "2022-12-02 01:29:24,512 - stpipe - INFO - -Drizzle input: jw02561001002_02101_00004_nrcalong_cal.fits[sci,1]\n",
      "2022-12-02 01:29:24,527 - stpipe - INFO - Applying sky value of 0.116011 to jw02561001002_02101_00004_nrcalong_cal.fits[sci,1]\n",
      "2022-12-02 01:29:24,535 - stpipe - WARNING - No CR mask file found! Input DQ array not updated.\n",
      "2022-12-02 01:29:24,536 - stpipe - INFO - Automatically creating IVM files for chip 1\n",
      "2022-12-02 01:29:24,537 - stpipe - WARNING - Cannot find flat field file 'jwst_nircam_flat_0502.fits'\n",
      "2022-12-02 01:29:24,538 - stpipe - WARNING - Treating flatfield as a constant value of '1'.\n",
      "2022-12-02 01:29:24,553 - stpipe - INFO - Using WCSLIB-based coordinate transformation...\n",
      "2022-12-02 01:29:24,553 - stpipe - INFO - stepsize = 10\n",
      "2022-12-02 01:29:24,563 - stpipe - INFO - -Drizzling using kernel = square\n",
      "2022-12-02 01:29:24,564 - stpipe - INFO - \n",
      "2022-12-02 01:29:25,686 - stpipe - INFO - -Drizzle input: jw02561001002_02101_00001_nrcblong_cal.fits[sci,1]\n",
      "2022-12-02 01:29:25,702 - stpipe - INFO - Applying sky value of 0.112642 to jw02561001002_02101_00001_nrcblong_cal.fits[sci,1]\n",
      "2022-12-02 01:29:25,710 - stpipe - WARNING - No CR mask file found! Input DQ array not updated.\n",
      "2022-12-02 01:29:25,711 - stpipe - INFO - Automatically creating IVM files for chip 1\n",
      "2022-12-02 01:29:25,712 - stpipe - WARNING - Cannot find flat field file 'jwst_nircam_flat_0517.fits'\n",
      "2022-12-02 01:29:25,713 - stpipe - WARNING - Treating flatfield as a constant value of '1'.\n",
      "2022-12-02 01:29:25,729 - stpipe - INFO - Using WCSLIB-based coordinate transformation...\n",
      "2022-12-02 01:29:25,730 - stpipe - INFO - stepsize = 10\n",
      "2022-12-02 01:29:25,740 - stpipe - INFO - -Drizzling using kernel = square\n",
      "2022-12-02 01:29:25,741 - stpipe - INFO - \n",
      "2022-12-02 01:29:26,923 - stpipe - INFO - -Drizzle input: jw02561001002_02101_00002_nrcblong_cal.fits[sci,1]\n",
      "2022-12-02 01:29:26,939 - stpipe - INFO - Applying sky value of 0.112299 to jw02561001002_02101_00002_nrcblong_cal.fits[sci,1]\n",
      "2022-12-02 01:29:26,949 - stpipe - WARNING - No CR mask file found! Input DQ array not updated.\n",
      "2022-12-02 01:29:26,950 - stpipe - INFO - Automatically creating IVM files for chip 1\n",
      "2022-12-02 01:29:26,951 - stpipe - WARNING - Cannot find flat field file 'jwst_nircam_flat_0517.fits'\n",
      "2022-12-02 01:29:26,952 - stpipe - WARNING - Treating flatfield as a constant value of '1'.\n",
      "2022-12-02 01:29:26,967 - stpipe - INFO - Using WCSLIB-based coordinate transformation...\n",
      "2022-12-02 01:29:26,968 - stpipe - INFO - stepsize = 10\n",
      "2022-12-02 01:29:26,978 - stpipe - INFO - -Drizzling using kernel = square\n",
      "2022-12-02 01:29:26,979 - stpipe - INFO - \n",
      "2022-12-02 01:29:28,107 - stpipe - INFO - -Drizzle input: jw02561001002_02101_00003_nrcblong_cal.fits[sci,1]\n",
      "2022-12-02 01:29:28,122 - stpipe - INFO - Applying sky value of 0.113508 to jw02561001002_02101_00003_nrcblong_cal.fits[sci,1]\n",
      "2022-12-02 01:29:28,130 - stpipe - WARNING - No CR mask file found! Input DQ array not updated.\n",
      "2022-12-02 01:29:28,131 - stpipe - INFO - Automatically creating IVM files for chip 1\n",
      "2022-12-02 01:29:28,132 - stpipe - WARNING - Cannot find flat field file 'jwst_nircam_flat_0517.fits'\n",
      "2022-12-02 01:29:28,132 - stpipe - WARNING - Treating flatfield as a constant value of '1'.\n",
      "2022-12-02 01:29:28,148 - stpipe - INFO - Using WCSLIB-based coordinate transformation...\n",
      "2022-12-02 01:29:28,148 - stpipe - INFO - stepsize = 10\n",
      "2022-12-02 01:29:28,158 - stpipe - INFO - -Drizzling using kernel = square\n",
      "2022-12-02 01:29:28,159 - stpipe - INFO - \n",
      "2022-12-02 01:29:29,279 - stpipe - INFO - -Drizzle input: jw02561001002_02101_00004_nrcblong_cal.fits[sci,1]\n",
      "2022-12-02 01:29:29,295 - stpipe - INFO - Applying sky value of 0.114126 to jw02561001002_02101_00004_nrcblong_cal.fits[sci,1]\n",
      "2022-12-02 01:29:29,305 - stpipe - WARNING - No CR mask file found! Input DQ array not updated.\n",
      "2022-12-02 01:29:29,306 - stpipe - INFO - Automatically creating IVM files for chip 1\n",
      "2022-12-02 01:29:29,307 - stpipe - WARNING - Cannot find flat field file 'jwst_nircam_flat_0517.fits'\n",
      "2022-12-02 01:29:29,308 - stpipe - WARNING - Treating flatfield as a constant value of '1'.\n",
      "2022-12-02 01:29:29,324 - stpipe - INFO - Using WCSLIB-based coordinate transformation...\n",
      "2022-12-02 01:29:29,325 - stpipe - INFO - stepsize = 10\n",
      "2022-12-02 01:29:29,337 - stpipe - INFO - -Drizzling using kernel = square\n",
      "2022-12-02 01:29:29,337 - stpipe - INFO - \n",
      "2022-12-02 01:29:31,092 - stpipe - INFO - -Generating simple FITS output: uncover-f277w_drz_sci.fits\n"
     ]
    },
    {
     "name": "stdout",
     "output_type": "stream",
     "text": [
      "-Generating simple FITS output: uncover-f277w_drz_sci.fits\n"
     ]
    },
    {
     "name": "stderr",
     "output_type": "stream",
     "text": [
      "2022-12-02 01:29:31,136 - stpipe - WARNING - /Users/ivo/anaconda/envs/jwst_nircam/lib/python3.9/site-packages/astropy/io/fits/card.py:1008: VerifyWarning: Card is too long, comment will be truncated.\n",
      "  warnings.warn('Card is too long, comment will be truncated.',\n",
      "\n",
      "2022-12-02 01:29:31,175 - stpipe - WARNING - /Users/ivo/anaconda/envs/jwst_nircam/lib/python3.9/site-packages/astropy/wcs/wcs.py:725: FITSFixedWarning: 'obsfix' made the change 'Set OBSGEO-L to    63.263556 from OBSGEO-[XYZ].\n",
      "Set OBSGEO-B to    28.494908 from OBSGEO-[XYZ].\n",
      "Set OBSGEO-H to 1394727362.015 from OBSGEO-[XYZ]'.\n",
      "  warnings.warn(\n",
      "\n",
      "2022-12-02 01:29:31,198 - stpipe - INFO - Writing out image to disk: uncover-f277w_drz_sci.fits\n"
     ]
    },
    {
     "name": "stdout",
     "output_type": "stream",
     "text": [
      "Writing out image to disk: uncover-f277w_drz_sci.fits\n"
     ]
    },
    {
     "name": "stderr",
     "output_type": "stream",
     "text": [
      "2022-12-02 01:29:32,353 - stpipe - INFO - Writing out image to disk: uncover-f277w_drz_wht.fits\n"
     ]
    },
    {
     "name": "stdout",
     "output_type": "stream",
     "text": [
      "Writing out image to disk: uncover-f277w_drz_wht.fits\n"
     ]
    },
    {
     "name": "stderr",
     "output_type": "stream",
     "text": [
      "2022-12-02 01:29:33,529 - stpipe - INFO - ==== Processing Step Final Drizzle finished at 01:29:33.529 (02/12/2022)\n"
     ]
    },
    {
     "name": "stdout",
     "output_type": "stream",
     "text": [
      "==== Processing Step Final Drizzle finished at 01:29:33.529 (02/12/2022)\n"
     ]
    },
    {
     "name": "stderr",
     "output_type": "stream",
     "text": [
      "2022-12-02 01:29:33,530 - stpipe - INFO - \n"
     ]
    },
    {
     "name": "stdout",
     "output_type": "stream",
     "text": [
      "\n"
     ]
    },
    {
     "name": "stderr",
     "output_type": "stream",
     "text": [
      "2022-12-02 01:29:33,531 - stpipe - INFO - AstroDrizzle Version 3.5.0 is finished processing at 01:29:33.531 (02/12/2022).\n"
     ]
    },
    {
     "name": "stdout",
     "output_type": "stream",
     "text": [
      "AstroDrizzle Version 3.5.0 is finished processing at 01:29:33.531 (02/12/2022).\n"
     ]
    },
    {
     "name": "stderr",
     "output_type": "stream",
     "text": [
      "2022-12-02 01:29:33,532 - stpipe - INFO - \n"
     ]
    },
    {
     "name": "stdout",
     "output_type": "stream",
     "text": [
      "\n"
     ]
    },
    {
     "name": "stderr",
     "output_type": "stream",
     "text": [
      "2022-12-02 01:29:33,533 - stpipe - INFO - \n"
     ]
    },
    {
     "name": "stdout",
     "output_type": "stream",
     "text": [
      "\n"
     ]
    },
    {
     "name": "stderr",
     "output_type": "stream",
     "text": [
      "2022-12-02 01:29:33,534 - stpipe - INFO - \n"
     ]
    },
    {
     "name": "stdout",
     "output_type": "stream",
     "text": [
      "\n"
     ]
    },
    {
     "name": "stderr",
     "output_type": "stream",
     "text": [
      "2022-12-02 01:29:33,535 - stpipe - INFO -    --------------------          --------------------\n"
     ]
    },
    {
     "name": "stdout",
     "output_type": "stream",
     "text": [
      "   --------------------          --------------------\n"
     ]
    },
    {
     "name": "stderr",
     "output_type": "stream",
     "text": [
      "2022-12-02 01:29:33,535 - stpipe - INFO -                    Step          Elapsed time\n"
     ]
    },
    {
     "name": "stdout",
     "output_type": "stream",
     "text": [
      "                   Step          Elapsed time\n"
     ]
    },
    {
     "name": "stderr",
     "output_type": "stream",
     "text": [
      "2022-12-02 01:29:33,536 - stpipe - INFO -    --------------------          --------------------\n"
     ]
    },
    {
     "name": "stdout",
     "output_type": "stream",
     "text": [
      "   --------------------          --------------------\n"
     ]
    },
    {
     "name": "stderr",
     "output_type": "stream",
     "text": [
      "2022-12-02 01:29:33,537 - stpipe - INFO - \n"
     ]
    },
    {
     "name": "stdout",
     "output_type": "stream",
     "text": [
      "\n"
     ]
    },
    {
     "name": "stderr",
     "output_type": "stream",
     "text": [
      "2022-12-02 01:29:33,538 - stpipe - INFO -          Initialization          0.9285 sec.\n"
     ]
    },
    {
     "name": "stdout",
     "output_type": "stream",
     "text": [
      "         Initialization          0.9285 sec.\n"
     ]
    },
    {
     "name": "stderr",
     "output_type": "stream",
     "text": [
      "2022-12-02 01:29:33,538 - stpipe - INFO -             Static Mask          0.0037 sec.\n"
     ]
    },
    {
     "name": "stdout",
     "output_type": "stream",
     "text": [
      "            Static Mask          0.0037 sec.\n"
     ]
    },
    {
     "name": "stderr",
     "output_type": "stream",
     "text": [
      "2022-12-02 01:29:33,539 - stpipe - INFO -            Subtract Sky          0.2607 sec.\n"
     ]
    },
    {
     "name": "stdout",
     "output_type": "stream",
     "text": [
      "           Subtract Sky          0.2607 sec.\n"
     ]
    },
    {
     "name": "stderr",
     "output_type": "stream",
     "text": [
      "2022-12-02 01:29:33,540 - stpipe - INFO -        Separate Drizzle          0.0026 sec.\n"
     ]
    },
    {
     "name": "stdout",
     "output_type": "stream",
     "text": [
      "       Separate Drizzle          0.0026 sec.\n"
     ]
    },
    {
     "name": "stderr",
     "output_type": "stream",
     "text": [
      "2022-12-02 01:29:33,541 - stpipe - INFO -           Create Median          0.0000 sec.\n"
     ]
    },
    {
     "name": "stdout",
     "output_type": "stream",
     "text": [
      "          Create Median          0.0000 sec.\n"
     ]
    },
    {
     "name": "stderr",
     "output_type": "stream",
     "text": [
      "2022-12-02 01:29:33,542 - stpipe - INFO -                    Blot          0.0030 sec.\n"
     ]
    },
    {
     "name": "stdout",
     "output_type": "stream",
     "text": [
      "                   Blot          0.0030 sec.\n"
     ]
    },
    {
     "name": "stderr",
     "output_type": "stream",
     "text": [
      "2022-12-02 01:29:33,543 - stpipe - INFO -                 Driz_CR          0.0000 sec.\n"
     ]
    },
    {
     "name": "stdout",
     "output_type": "stream",
     "text": [
      "                Driz_CR          0.0000 sec.\n"
     ]
    },
    {
     "name": "stderr",
     "output_type": "stream",
     "text": [
      "2022-12-02 01:29:33,543 - stpipe - INFO -           Final Drizzle          12.8262 sec.\n"
     ]
    },
    {
     "name": "stdout",
     "output_type": "stream",
     "text": [
      "          Final Drizzle          12.8262 sec.\n"
     ]
    },
    {
     "name": "stderr",
     "output_type": "stream",
     "text": [
      "2022-12-02 01:29:33,544 - stpipe - INFO -    ====================          ====================\n"
     ]
    },
    {
     "name": "stdout",
     "output_type": "stream",
     "text": [
      "   ====================          ====================\n"
     ]
    },
    {
     "name": "stderr",
     "output_type": "stream",
     "text": [
      "2022-12-02 01:29:33,545 - stpipe - INFO -                   Total          14.0246 sec.\n"
     ]
    },
    {
     "name": "stdout",
     "output_type": "stream",
     "text": [
      "                  Total          14.0246 sec.\n"
     ]
    },
    {
     "name": "stderr",
     "output_type": "stream",
     "text": [
      "2022-12-02 01:29:33,546 - stpipe - INFO - \n"
     ]
    },
    {
     "name": "stdout",
     "output_type": "stream",
     "text": [
      "\n"
     ]
    },
    {
     "name": "stderr",
     "output_type": "stream",
     "text": [
      "2022-12-02 01:29:33,547 - stpipe - INFO - Removing intermediate files for jw02561001002_02101_00001_nrcalong_cal.fits\n",
      "2022-12-02 01:29:33,550 - stpipe - INFO - Removing intermediate files for jw02561001002_02101_00002_nrcalong_cal.fits\n",
      "2022-12-02 01:29:33,553 - stpipe - INFO - Removing intermediate files for jw02561001002_02101_00003_nrcalong_cal.fits\n",
      "2022-12-02 01:29:33,557 - stpipe - INFO - Removing intermediate files for jw02561001002_02101_00004_nrcalong_cal.fits\n",
      "2022-12-02 01:29:33,561 - stpipe - INFO - Removing intermediate files for jw02561001002_02101_00001_nrcblong_cal.fits\n",
      "2022-12-02 01:29:33,564 - stpipe - INFO - Removing intermediate files for jw02561001002_02101_00002_nrcblong_cal.fits\n",
      "2022-12-02 01:29:33,568 - stpipe - INFO - Removing intermediate files for jw02561001002_02101_00003_nrcblong_cal.fits\n",
      "2022-12-02 01:29:33,571 - stpipe - INFO - Removing intermediate files for jw02561001002_02101_00004_nrcblong_cal.fits\n",
      "2022-12-02 01:29:33,575 - stpipe - INFO - Trailer file written to:  astrodrizzle.log\n"
     ]
    },
    {
     "name": "stdout",
     "output_type": "stream",
     "text": [
      "Trailer file written to:  astrodrizzle.log\n",
      "# (2022-12-01 14:29:34.156)\n",
      "\n",
      "jwst_utils.set_jwst_to_hst_keywords(**{'input': 'jw02561001002_02101_00001_nrcalong_cal.fits', 'reset': True, 'verbose': True, 'orig_keys': ['TELESCOP', 'INSTRUME', 'DETECTOR', 'FILTER', 'PUPIL', 'EXP_TYPE']})\n",
      "\n",
      "Reset: TELESCOP > JWST (OTELESCO)\n",
      "Reset: INSTRUME > NIRCAM (OINSTRUM)\n",
      "Reset: DETECTOR > NRCALONG (ODETECTO)\n",
      "Reset: FILTER > F277W (OFILTER)\n",
      "Reset: PUPIL > CLEAR (OPUPIL)\n",
      "Reset: EXP_TYPE > NRC_IMAGE (OEXP_TYP)\n",
      "# (2022-12-01 14:29:34.622)\n",
      "\n",
      "jwst_utils.set_jwst_to_hst_keywords(**{'input': 'jw02561001002_02101_00002_nrcalong_cal.fits', 'reset': True, 'verbose': True, 'orig_keys': ['TELESCOP', 'INSTRUME', 'DETECTOR', 'FILTER', 'PUPIL', 'EXP_TYPE']})\n",
      "\n",
      "Reset: TELESCOP > JWST (OTELESCO)\n",
      "Reset: INSTRUME > NIRCAM (OINSTRUM)\n",
      "Reset: DETECTOR > NRCALONG (ODETECTO)\n",
      "Reset: FILTER > F277W (OFILTER)\n",
      "Reset: PUPIL > CLEAR (OPUPIL)\n",
      "Reset: EXP_TYPE > NRC_IMAGE (OEXP_TYP)\n",
      "# (2022-12-01 14:29:35.083)\n",
      "\n",
      "jwst_utils.set_jwst_to_hst_keywords(**{'input': 'jw02561001002_02101_00003_nrcalong_cal.fits', 'reset': True, 'verbose': True, 'orig_keys': ['TELESCOP', 'INSTRUME', 'DETECTOR', 'FILTER', 'PUPIL', 'EXP_TYPE']})\n",
      "\n",
      "Reset: TELESCOP > JWST (OTELESCO)\n",
      "Reset: INSTRUME > NIRCAM (OINSTRUM)\n",
      "Reset: DETECTOR > NRCALONG (ODETECTO)\n",
      "Reset: FILTER > F277W (OFILTER)\n",
      "Reset: PUPIL > CLEAR (OPUPIL)\n",
      "Reset: EXP_TYPE > NRC_IMAGE (OEXP_TYP)\n",
      "# (2022-12-01 14:29:35.394)\n",
      "\n",
      "jwst_utils.set_jwst_to_hst_keywords(**{'input': 'jw02561001002_02101_00004_nrcalong_cal.fits', 'reset': True, 'verbose': True, 'orig_keys': ['TELESCOP', 'INSTRUME', 'DETECTOR', 'FILTER', 'PUPIL', 'EXP_TYPE']})\n",
      "\n",
      "Reset: TELESCOP > JWST (OTELESCO)\n",
      "Reset: INSTRUME > NIRCAM (OINSTRUM)\n",
      "Reset: DETECTOR > NRCALONG (ODETECTO)\n",
      "Reset: FILTER > F277W (OFILTER)\n",
      "Reset: PUPIL > CLEAR (OPUPIL)\n",
      "Reset: EXP_TYPE > NRC_IMAGE (OEXP_TYP)\n",
      "# (2022-12-01 14:29:35.646)\n",
      "\n",
      "jwst_utils.set_jwst_to_hst_keywords(**{'input': 'jw02561001002_02101_00001_nrcblong_cal.fits', 'reset': True, 'verbose': True, 'orig_keys': ['TELESCOP', 'INSTRUME', 'DETECTOR', 'FILTER', 'PUPIL', 'EXP_TYPE']})\n",
      "\n",
      "Reset: TELESCOP > JWST (OTELESCO)\n",
      "Reset: INSTRUME > NIRCAM (OINSTRUM)\n",
      "Reset: DETECTOR > NRCBLONG (ODETECTO)\n",
      "Reset: FILTER > F277W (OFILTER)\n",
      "Reset: PUPIL > CLEAR (OPUPIL)\n",
      "Reset: EXP_TYPE > NRC_IMAGE (OEXP_TYP)\n",
      "# (2022-12-01 14:29:35.908)\n",
      "\n",
      "jwst_utils.set_jwst_to_hst_keywords(**{'input': 'jw02561001002_02101_00002_nrcblong_cal.fits', 'reset': True, 'verbose': True, 'orig_keys': ['TELESCOP', 'INSTRUME', 'DETECTOR', 'FILTER', 'PUPIL', 'EXP_TYPE']})\n",
      "\n",
      "Reset: TELESCOP > JWST (OTELESCO)\n",
      "Reset: INSTRUME > NIRCAM (OINSTRUM)\n",
      "Reset: DETECTOR > NRCBLONG (ODETECTO)\n",
      "Reset: FILTER > F277W (OFILTER)\n",
      "Reset: PUPIL > CLEAR (OPUPIL)\n",
      "Reset: EXP_TYPE > NRC_IMAGE (OEXP_TYP)\n",
      "# (2022-12-01 14:29:36.148)\n",
      "\n",
      "jwst_utils.set_jwst_to_hst_keywords(**{'input': 'jw02561001002_02101_00003_nrcblong_cal.fits', 'reset': True, 'verbose': True, 'orig_keys': ['TELESCOP', 'INSTRUME', 'DETECTOR', 'FILTER', 'PUPIL', 'EXP_TYPE']})\n",
      "\n",
      "Reset: TELESCOP > JWST (OTELESCO)\n",
      "Reset: INSTRUME > NIRCAM (OINSTRUM)\n",
      "Reset: DETECTOR > NRCBLONG (ODETECTO)\n",
      "Reset: FILTER > F277W (OFILTER)\n",
      "Reset: PUPIL > CLEAR (OPUPIL)\n",
      "Reset: EXP_TYPE > NRC_IMAGE (OEXP_TYP)\n",
      "# (2022-12-01 14:29:36.400)\n",
      "\n",
      "jwst_utils.set_jwst_to_hst_keywords(**{'input': 'jw02561001002_02101_00004_nrcblong_cal.fits', 'reset': True, 'verbose': True, 'orig_keys': ['TELESCOP', 'INSTRUME', 'DETECTOR', 'FILTER', 'PUPIL', 'EXP_TYPE']})\n",
      "\n",
      "Reset: TELESCOP > JWST (OTELESCO)\n",
      "Reset: INSTRUME > NIRCAM (OINSTRUM)\n",
      "Reset: DETECTOR > NRCBLONG (ODETECTO)\n",
      "Reset: FILTER > F277W (OFILTER)\n",
      "Reset: PUPIL > CLEAR (OPUPIL)\n",
      "Reset: EXP_TYPE > NRC_IMAGE (OEXP_TYP)\n",
      "# (2022-12-01 14:29:38.765)\n",
      "{'files': ['jw02561001002_02101_00001_nrcalong_cal.fits', 'jw02561001002_02101_00002_nrcalong_cal.fits', 'jw02561001002_02101_00003_nrcalong_cal.fits', 'jw02561001002_02101_00004_nrcalong_cal.fits'], 'footprint': <shapely.geometry.polygon.Polygon object at 0x7fbf1b664220>, 'product': 'abell2744-preimg-02561-001-041.0-nrca5-f277w-clear'}\n",
      "# (2022-12-01 14:29:38.766)\n",
      "filt.upper not in filters\n",
      "# (2022-12-01 14:29:38.766)\n",
      "{'files': ['jw02561001002_02101_00001_nrcblong_cal.fits', 'jw02561001002_02101_00002_nrcblong_cal.fits', 'jw02561001002_02101_00003_nrcblong_cal.fits', 'jw02561001002_02101_00004_nrcblong_cal.fits'], 'footprint': <shapely.geometry.polygon.Polygon object at 0x7fbf1b6644c0>, 'product': 'abell2744-preimg-02561-001-041.0-nrcb5-f277w-clear'}\n",
      "# (2022-12-01 14:29:38.766)\n",
      "filt.upper not in filters\n",
      "No filters found (['F115W', 'F150W', 'F200W'])\n"
     ]
    }
   ],
   "source": [
    "# finally drizzle\n",
    "mosaic_args = kwargs['mosaic_args']\n",
    "\n",
    "mosaic_args['fill_mosaics'] = False\n",
    "\n",
    "# better \n",
    "mosaic_args['wcs_params']['pixel_scale'] = 0.06  \n",
    "mosaic_args['half_optical_pixscale'] = True\n",
    "\n",
    "# Not really ir/optical, but this comes from HST\n",
    "# ir are drizzled at mosaic_args['wcs_params']['pixel_scale'],\n",
    "# optical at half that\n",
    "\n",
    "mosaic_args['ir_filters'] = ['F277W','F356W','F410M','F444W']\n",
    "mosaic_args['optical_filters'] = ['F115W','F150W','F200W']\n",
    "\n",
    "mosaic_args['wcs_params']['pad_reference'] = 6 # small padding around edge, arcsec\n",
    "kwargs['mosaic_drizzle_args']['static'] = False\n",
    "\n",
    "if True:\n",
    "    auto_script.make_combined_mosaics(root, mosaic_args=mosaic_args,\n",
    "                                  mosaic_drizzle_args=kwargs['mosaic_drizzle_args'])\n"
   ]
  },
  {
   "cell_type": "code",
   "execution_count": 22,
   "id": "50859098-e3ef-4482-9215-ad4dfa001cbc",
   "metadata": {},
   "outputs": [
    {
     "data": {
      "text/plain": [
       "['uncover_visits.yaml',\n",
       " 'uncover-f277w_drz_sci.fits',\n",
       " 'uncover-f277w_drz_wht.fits']"
      ]
     },
     "execution_count": 22,
     "metadata": {},
     "output_type": "execute_result"
    }
   ],
   "source": [
    "# the reduced mosaics, mapped onto the reference grid are now in\n",
    "# root_drz_sci.fits [science image]\n",
    "# root_drz_sci.fits [wht image]\n",
    "glob(root+'*')"
   ]
  },
  {
   "cell_type": "code",
   "execution_count": 29,
   "id": "a7cad3cf-b4a4-4a38-87d0-ba1c42300ab3",
   "metadata": {},
   "outputs": [],
   "source": [
    "# inspect in ds9 "
   ]
  },
  {
   "cell_type": "markdown",
   "id": "5ee01615-2736-4a83-b5f0-3fe3a52a5f3f",
   "metadata": {},
   "source": [
    "# exercise \n",
    "\n",
    "1) download the first 8 frames in the F150W and F444W filter\n",
    "2) reduce in the same way\n",
    "3) create 3 color RGB image using the F150W, F277W, F444W bands"
   ]
  },
  {
   "cell_type": "code",
   "execution_count": null,
   "id": "cac7cb66-e5a0-4b9c-b311-f42561b1b484",
   "metadata": {},
   "outputs": [],
   "source": []
  }
 ],
 "metadata": {
  "kernelspec": {
   "display_name": "Python 3 (ipykernel)",
   "language": "python",
   "name": "python3"
  },
  "language_info": {
   "codemirror_mode": {
    "name": "ipython",
    "version": 3
   },
   "file_extension": ".py",
   "mimetype": "text/x-python",
   "name": "python",
   "nbconvert_exporter": "python",
   "pygments_lexer": "ipython3",
   "version": "3.9.15"
  }
 },
 "nbformat": 4,
 "nbformat_minor": 5
}
