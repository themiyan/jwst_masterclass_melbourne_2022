{
 "cells": [
  {
   "cell_type": "markdown",
   "id": "8601d466-97cb-4616-bd95-3c5c4e6dc5b0",
   "metadata": {},
   "source": [
    "# 1. INSTALL \n",
    "\n",
    "## 1.A conda env & Jupyter\n",
    "\n",
    "```\n",
    "conda create --name jwst_nircam python=3.9\n",
    "conda activate jwst_nircam\n",
    "conda install jupyter \n",
    "```\n",
    "\n",
    "## 1.B jupyter and grizli install\n",
    "```\n",
    "pip install \"grizli[jwst]\"\n",
    "pip install pyregion\n",
    "pip install git+https://github.com/gbrammer/dust_attenuation.git\n",
    "pip install git+https://github.com/gbrammer/dust_extinction.git \n",
    "```\n",
    "\n",
    "## 1.C put these into the ~/.bashrc or equivalent\n",
    "```\n",
    "export GRIZLI=\"${HOME}/grizli\" # dir for config files, here or anywhere else \n",
    "export iref=\"${GRIZLI}/iref/\"  # for WFC3 calibration files\n",
    "export jref=\"${GRIZLI}/jref/\"  # for ACS calibration files\n",
    "mkdir $GRIZLI\n",
    "mkdir $GRIZLI/CONF      # needed for grism configuration files\n",
    "mkdir $GRIZLI/templates # for redshift fits\n",
    "mkdir $iref\n",
    "mkdir $jref\n",
    "```"
   ]
  },
  {
   "cell_type": "code",
   "execution_count": null,
   "id": "0486b9f3-a9f9-4512-a1af-c3317821bdf4",
   "metadata": {},
   "outputs": [],
   "source": [
    "# Grizli and requirements, e.g., on google collab\n",
    "import importlib\n",
    "import sys\n",
    "import os\n",
    "\n",
    "try:\n",
    "    import grizli\n",
    "except:\n",
    "    ! pip install \"grizli[jwst]\"\n",
    "    ! pip install pyregion\n",
    "    ! pip install git+https://github.com/gbrammer/dust_attenuation.git\n",
    "    ! pip install git+https://github.com/gbrammer/dust_extinction.git \n",
    "\n",
    "## Module versions\n",
    "print(sys.version + '\\n')\n",
    "for module in ['grizli', 'tristars', 'mastquery', 'sep',\n",
    "               'numpy', 'scipy', 'astropy', 'astroquery', \n",
    "               'shapely', 'drizzlepac']:\n",
    "    try:\n",
    "        mod = importlib.import_module(module)\n",
    "        print('{0:>20} : {1}'.format(module, mod.__version__))\n",
    "    except ImportError:\n",
    "        print('{0:>20} : {1}'.format(module, '*failed*'))"
   ]
  },
  {
   "cell_type": "code",
   "execution_count": 4,
   "id": "58aa44fa",
   "metadata": {},
   "outputs": [
    {
     "name": "stdout",
     "output_type": "stream",
     "text": [
      "CRDS_PATH={ /Users/ivo/Astro/PROJECTS/JWST/crds_cache }\n",
      "CRDS_SERVER_URL={ https://jwst-crds.stsci.edu }\n"
     ]
    }
   ],
   "source": [
    "try:\n",
    "    import jwst\n",
    "except ImportError:\n",
    "    ! pip install jwst\n",
    "\n",
    "if os.getenv('CRDS_PATH') is None:\n",
    "    cache_dir = os.path.join(os.getcwd(), 'crds_cache')\n",
    "    print('Set CRDS_PATH=',cache_dir)\n",
    "    os.environ['CRDS_PATH'] = cache_dir\n",
    "    if not os.path.exists(cache_dir):\n",
    "        os.makedirs(cache_dir)\n",
    "else:\n",
    "    print(\"CRDS_PATH={\",os.getenv('CRDS_PATH'),'}')\n",
    "\n",
    "if os.getenv('CRDS_SERVER_URL') is None:\n",
    "    server = 'https://jwst-crds.stsci.edu'\n",
    "    print('Set CRDS_SERVER_URL={',server,'}')\n",
    "    os.environ['CRDS_SERVER_URL'] = 'https://jwst-crds.stsci.edu'\n",
    "else:\n",
    "    print(\"CRDS_SERVER_URL={\",os.getenv('CRDS_SERVER_URL'),\"}\")"
   ]
  },
  {
   "cell_type": "markdown",
   "id": "5da43a5d-63c1-47ff-a7eb-b3fba75fa899",
   "metadata": {
    "tags": []
   },
   "source": [
    "# 2. Download observations from MAST"
   ]
  },
  {
   "cell_type": "code",
   "execution_count": 32,
   "id": "e79241cb",
   "metadata": {},
   "outputs": [],
   "source": [
    "from astroquery.mast import Observations\n",
    "from astropy.table import unique, vstack, Table"
   ]
  },
  {
   "cell_type": "code",
   "execution_count": 33,
   "id": "074919fb",
   "metadata": {},
   "outputs": [],
   "source": [
    "# get F277W band data from UNCOVER program 2561\n",
    "obs = Observations.query_criteria(obs_collection = 'JWST', proposal_id = '2561', \n",
    "                                  instrument_name = 'Nircam', filters = 'F277W')"
   ]
  },
  {
   "cell_type": "code",
   "execution_count": 34,
   "id": "fa854a77",
   "metadata": {},
   "outputs": [
    {
     "data": {
      "text/html": [
       "<i>Row index=0</i>\n",
       "<table id=\"table140586494131600\">\n",
       "<thead><tr><th>obsID</th><th>obs_collection</th><th>dataproduct_type</th><th>obs_id</th><th>description</th><th>type</th><th>dataURI</th><th>productType</th><th>productGroupDescription</th><th>productSubGroupDescription</th><th>productDocumentationURL</th><th>project</th><th>prvversion</th><th>proposal_id</th><th>productFilename</th><th>size</th><th>parent_obsid</th><th>dataRights</th><th>calib_level</th></tr></thead>\n",
       "<thead><tr><th>str9</th><th>str4</th><th>str5</th><th>str36</th><th>str64</th><th>str1</th><th>str69</th><th>str9</th><th>str28</th><th>str11</th><th>str1</th><th>str7</th><th>str5</th><th>str4</th><th>str51</th><th>int64</th><th>str9</th><th>str6</th><th>int64</th></tr></thead>\n",
       "<tr><td>100379303</td><td>JWST</td><td>image</td><td>jw02561001004_02101_00006_nrcblong</td><td>source/target (L3) : association generator</td><td>S</td><td>mast:JWST/product/jw02561-o001_20221118t004454_image2_00345_asn.json</td><td>INFO</td><td>--</td><td>ASN</td><td>--</td><td>CALJWST</td><td>1.8.2</td><td>2561</td><td>jw02561-o001_20221118t004454_image2_00345_asn.json</td><td>1795</td><td>100379652</td><td>PUBLIC</td><td>2</td></tr>\n",
       "</table>"
      ],
      "text/plain": [
       "<Row index=0>\n",
       "  obsID   obs_collection dataproduct_type               obs_id                              description                 type                               dataURI                                productType productGroupDescription productSubGroupDescription productDocumentationURL project prvversion proposal_id                  productFilename                    size parent_obsid dataRights calib_level\n",
       "   str9        str4            str5                     str36                                  str64                    str1                                str69                                     str9             str28                    str11                      str1            str7     str5        str4                          str51                        int64     str9        str6       int64   \n",
       "--------- -------------- ---------------- ---------------------------------- ------------------------------------------ ---- -------------------------------------------------------------------- ----------- ----------------------- -------------------------- ----------------------- ------- ---------- ----------- -------------------------------------------------- ----- ------------ ---------- -----------\n",
       "100379303           JWST            image jw02561001004_02101_00006_nrcblong source/target (L3) : association generator    S mast:JWST/product/jw02561-o001_20221118t004454_image2_00345_asn.json        INFO                      --                        ASN                      -- CALJWST      1.8.2        2561 jw02561-o001_20221118t004454_image2_00345_asn.json  1795    100379652     PUBLIC           2"
      ]
     },
     "execution_count": 34,
     "metadata": {},
     "output_type": "execute_result"
    }
   ],
   "source": [
    "# unpack obs list into a Table with each entry corresponding to a unique file\n",
    "t = [Observations.get_product_list(o) for o in obs]\n",
    "files = unique(vstack(t), keys='productFilename')\n",
    "files[0]"
   ]
  },
  {
   "cell_type": "markdown",
   "id": "868dadb5-6478-4622-8ef2-50c991b35f42",
   "metadata": {},
   "source": [
    "## 2.A First look at \"level 3\" STScI pipeline reduced coadded images "
   ]
  },
  {
   "cell_type": "code",
   "execution_count": 36,
   "id": "8b5d558d-ca32-498b-8013-957a8b25def9",
   "metadata": {},
   "outputs": [
    {
     "data": {
      "text/html": [
       "<div><i>Table length=2</i>\n",
       "<table id=\"table140586777749104\" class=\"table-striped table-bordered table-condensed\">\n",
       "<thead><tr><th>obsID</th><th>obs_collection</th><th>dataproduct_type</th><th>obs_id</th><th>description</th><th>type</th><th>dataURI</th><th>productType</th><th>productGroupDescription</th><th>productSubGroupDescription</th><th>productDocumentationURL</th><th>project</th><th>prvversion</th><th>proposal_id</th><th>productFilename</th><th>size</th><th>parent_obsid</th><th>dataRights</th><th>calib_level</th></tr></thead>\n",
       "<thead><tr><th>str9</th><th>str4</th><th>str5</th><th>str36</th><th>str64</th><th>str1</th><th>str69</th><th>str9</th><th>str28</th><th>str11</th><th>str1</th><th>str7</th><th>str5</th><th>str4</th><th>str51</th><th>int64</th><th>str9</th><th>str6</th><th>int64</th></tr></thead>\n",
       "<tr><td>100379652</td><td>JWST</td><td>image</td><td>jw02561-o001_t003_nircam_clear-f277w</td><td>exposure/target (L2b/L3): rectified 2D image</td><td>D</td><td>mast:JWST/product/jw02561-o001_t003_nircam_clear-f277w_i2d.fits</td><td>SCIENCE</td><td>Minimum Recommended Products</td><td>I2D</td><td>--</td><td>CALJWST</td><td>1.8.2</td><td>2561</td><td>jw02561-o001_t003_nircam_clear-f277w_i2d.fits</td><td>823775040</td><td>100379652</td><td>PUBLIC</td><td>3</td></tr>\n",
       "<tr><td>101094748</td><td>JWST</td><td>image</td><td>jw02561-o003_t006_nircam_clear-f277w</td><td>exposure/target (L2b/L3): rectified 2D image</td><td>D</td><td>mast:JWST/product/jw02561-o003_t006_nircam_clear-f277w_i2d.fits</td><td>SCIENCE</td><td>Minimum Recommended Products</td><td>I2D</td><td>--</td><td>CALJWST</td><td>1.8.2</td><td>2561</td><td>jw02561-o003_t006_nircam_clear-f277w_i2d.fits</td><td>342927360</td><td>101094748</td><td>PUBLIC</td><td>3</td></tr>\n",
       "</table></div>"
      ],
      "text/plain": [
       "<Table length=2>\n",
       "  obsID   obs_collection dataproduct_type                obs_id                ...    size   parent_obsid dataRights calib_level\n",
       "   str9        str4            str5                      str36                 ...   int64       str9        str6       int64   \n",
       "--------- -------------- ---------------- ------------------------------------ ... --------- ------------ ---------- -----------\n",
       "100379652           JWST            image jw02561-o001_t003_nircam_clear-f277w ... 823775040    100379652     PUBLIC           3\n",
       "101094748           JWST            image jw02561-o003_t006_nircam_clear-f277w ... 342927360    101094748     PUBLIC           3"
      ]
     },
     "execution_count": 36,
     "metadata": {},
     "output_type": "execute_result"
    }
   ],
   "source": [
    "# only select \"level3\" reduced rectified 2D image (i2d.fits)\n",
    "lvl3 = (files['calib_level'] == 3)\n",
    "files_lvl3 = vstack( [f for f in files[lvl3] if 'i2d.fits' in f['dataURI']] )\n",
    "files_lvl3"
   ]
  },
  {
   "cell_type": "code",
   "execution_count": 37,
   "id": "66beac1a",
   "metadata": {},
   "outputs": [
    {
     "name": "stdout",
     "output_type": "stream",
     "text": [
      "Downloading URL https://mast.stsci.edu/api/v0.1/Download/file?uri=mast:JWST/product/jw02561-o001_t003_nircam_clear-f277w_i2d.fits to ./mastDownload/JWST/jw02561-o001_t003_nircam_clear-f277w/jw02561-o001_t003_nircam_clear-f277w_i2d.fits ... [Done]\n"
     ]
    }
   ],
   "source": [
    "# download only the first of the two files  \n",
    "manifest = Observations.download_products(files_lvl3[0])\n",
    "\n",
    "# add curl flag to get a download script\n",
    "# manifest = Observations.download_products(files_lvl3, curl_flag=True)"
   ]
  },
  {
   "cell_type": "code",
   "execution_count": 23,
   "id": "1f413277",
   "metadata": {
    "collapsed": true,
    "jupyter": {
     "outputs_hidden": true
    },
    "tags": []
   },
   "outputs": [
    {
     "name": "stdout",
     "output_type": "stream",
     "text": [
      ".\n",
      "./abell2744-preimg-02561-001-041.0-nrcb5-f277w-clear_ps1.radec\n",
      "./jw02561001002_02101_00003_nrcalong_cal.fits\n",
      "./abell2744-preimg-02561-001-041.0-nrca5-f277w-clear.cat.radec\n",
      "./jw02561001002_02101_00003_nrcblong_cal_onef_axis1.png\n",
      "./abell2744-preimg-02561-001-041.0-nrcb5-f277w-clear_ps1.reg\n",
      "./jw02561001002_02101_00001_nrcalong_cal.wcslog.fits\n",
      "./uncover_visits.yaml\n",
      "./jw02561001002_02101_00002_nrcalong_cal.fits\n",
      "./abell2744-preimg-02561-001-041.0-nrca5-f277w-clear_ps1.radec\n",
      "./abell2744-preimg-02561-001-041.0-nrca5-f277w-clear_wcs.fits\n",
      "./abell2744-preimg-02561-001-041.0-nrcb5-f277w-clear.cat.fits\n",
      "./abell2744-preimg-02561-001-041.0-nrcb5-f277w-clear.cat.radec\n",
      "./jw02561001002_02101_00003_nrcalong_cal_onef_axis1.png\n",
      "./abell2744-preimg-02561-001-041.0-nrcb5-f277w-clear_drz_sci.fits\n",
      "./jw02561001002_02101_00001_nrcblong_cal.wcslog.fits\n",
      "./jw02561001002_02101_00004_nrcalong_cal.wcslog.fits\n",
      "./abell2744-preimg-02561-001-041.0-nrcb5-f277w-clear.cat.reg\n",
      "./jw02561001002_02101_00001_nrcalong_cal.fits\n",
      "./abell2744-preimg-02561-001-041.0-nrca5-f277w-clear_wcs.png\n",
      "./jw02561001002_02101_00004_nrcblong_cal.wcslog.fits\n",
      "./jw02561001002_02101_00004_nrcalong_cal.fits\n",
      "./jw02561001002_02101_00002_nrcblong_cal_onef_axis1.png\n",
      "./abell2744-preimg-02561-001-041.0-nrcb5-f277w-clear_wcs.log\n",
      "./jw02561001002_02101_00002_nrcalong_cal_onef_axis1.png\n",
      "./astrodrizzle.log\n",
      "./abell2744-preimg-02561-001-041.0-nrca5-f277w-clear_drz_sci.fits\n",
      "./jw02561001002_02101_00001_nrcblong_cal.fits\n",
      "./abell2744-preimg-02561-001-041.0-nrca5-f277w-clear.cat.fits\n",
      "./abell2744-preimg-02561-001-041.0-nrcb5-f277w-clear_wcs.fits\n",
      "./jw02561001002_02101_00002_nrcblong_cal.wcslog.fits\n",
      "./jw02561001002_02101_00004_nrcalong_cal_onef_axis1.png\n",
      "./abell2744-preimg-02561-001-041.0-nrca5-f277w-clear_wcs.log\n",
      "./jw02561001002_02101_00002_nrcalong_cal.wcslog.fits\n",
      "./jw02561001002_02101_00004_nrcblong_cal.fits\n",
      "./jw02561001002_02101_00001_nrcalong_cal_onef_axis1.png\n",
      "./abell2744-preimg-02561-001-041.0-nrcb5-f277w-clear_wcs.png\n",
      "./jw02561001002_02101_00001_nrcblong_cal_onef_axis1.png\n",
      "./jw02561001002_02101_00004_nrcblong_cal_onef_axis1.png\n",
      "./uncover-f277w_drz_sci.fits\n",
      "./abell2744-preimg-02561-001-041.0-nrca5-f277w-clear.cat.reg\n",
      "./jw02561001002_02101_00003_nrcblong_cal.fits\n",
      "./uncover-f277w_drz_wht.fits\n",
      "./jw02561001002_02101_00003_nrcblong_cal.wcslog.fits\n",
      "./jw02561001002_02101_00002_nrcblong_cal.fits\n",
      "./abell2744-preimg-02561-001-041.0-nrca5-f277w-clear_ps1.reg\n",
      "./jw02561001002_02101_00003_nrcalong_cal.wcslog.fits\n"
     ]
    }
   ],
   "source": [
    "! find . \n",
    "# inspect the pipeline reduced files in ds9"
   ]
  },
  {
   "cell_type": "markdown",
   "id": "06c0a573-8b08-4e14-8490-020eec5310be",
   "metadata": {},
   "source": [
    "## 2.B download level 2b calibrated frames"
   ]
  },
  {
   "cell_type": "code",
   "execution_count": 39,
   "id": "3b3ab596",
   "metadata": {},
   "outputs": [
    {
     "data": {
      "text/html": [
       "<i>Row index=0</i>\n",
       "<table id=\"table140587898963328\">\n",
       "<thead><tr><th>obsID</th><th>obs_collection</th><th>dataproduct_type</th><th>obs_id</th><th>description</th><th>type</th><th>dataURI</th><th>productType</th><th>productGroupDescription</th><th>productSubGroupDescription</th><th>productDocumentationURL</th><th>project</th><th>prvversion</th><th>proposal_id</th><th>productFilename</th><th>size</th><th>parent_obsid</th><th>dataRights</th><th>calib_level</th></tr></thead>\n",
       "<thead><tr><th>str9</th><th>str4</th><th>str5</th><th>str36</th><th>str64</th><th>str1</th><th>str69</th><th>str9</th><th>str28</th><th>str11</th><th>str1</th><th>str7</th><th>str5</th><th>str4</th><th>str51</th><th>int64</th><th>str9</th><th>str6</th><th>int64</th></tr></thead>\n",
       "<tr><td>99946043</td><td>JWST</td><td>image</td><td>jw02561001002_02101_00001_nrcalong</td><td>exposure (L2b): 2D calibrated exposure average over integrations</td><td>S</td><td>mast:JWST/product/jw02561001002_02101_00001_nrcalong_cal.fits</td><td>SCIENCE</td><td>--</td><td>CAL</td><td>--</td><td>CALJWST</td><td>1.8.2</td><td>2561</td><td>jw02561001002_02101_00001_nrcalong_cal.fits</td><td>117538560</td><td>100379652</td><td>PUBLIC</td><td>2</td></tr>\n",
       "</table>"
      ],
      "text/plain": [
       "<Row index=0>\n",
       " obsID   obs_collection dataproduct_type               obs_id                                         description                            type                            dataURI                            productType productGroupDescription productSubGroupDescription productDocumentationURL project prvversion proposal_id               productFilename                  size   parent_obsid dataRights calib_level\n",
       "  str9        str4            str5                     str36                                             str64                               str1                             str69                                 str9             str28                    str11                      str1            str7     str5        str4                       str51                      int64       str9        str6       int64   \n",
       "-------- -------------- ---------------- ---------------------------------- ---------------------------------------------------------------- ---- ------------------------------------------------------------- ----------- ----------------------- -------------------------- ----------------------- ------- ---------- ----------- ------------------------------------------- --------- ------------ ---------- -----------\n",
       "99946043           JWST            image jw02561001002_02101_00001_nrcalong exposure (L2b): 2D calibrated exposure average over integrations    S mast:JWST/product/jw02561001002_02101_00001_nrcalong_cal.fits     SCIENCE                      --                        CAL                      -- CALJWST      1.8.2        2561 jw02561001002_02101_00001_nrcalong_cal.fits 117538560    100379652     PUBLIC           2"
      ]
     },
     "execution_count": 39,
     "metadata": {},
     "output_type": "execute_result"
    }
   ],
   "source": [
    "# download level 2b products (calibrated individual frames ending in _cal.fits)\n",
    "lvl2 = (files['calib_level'] == 2) & (files['productType'] == 'SCIENCE')\n",
    "files_lvl2 = vstack( [f for f in files[lvl2] if 'cal.fits' in f['dataURI']] )\n",
    "\n",
    "files_lvl2[0]"
   ]
  },
  {
   "cell_type": "code",
   "execution_count": 40,
   "id": "2a357645",
   "metadata": {},
   "outputs": [
    {
     "name": "stdout",
     "output_type": "stream",
     "text": [
      "Downloading URL https://mast.stsci.edu/api/v0.1/Download/file?uri=mast:JWST/product/jw02561001002_02101_00001_nrcalong_cal.fits to ./mastDownload/JWST/jw02561001002_02101_00001_nrcalong/jw02561001002_02101_00001_nrcalong_cal.fits ... [Done]\n",
      "Downloading URL https://mast.stsci.edu/api/v0.1/Download/file?uri=mast:JWST/product/jw02561001002_02101_00001_nrcblong_cal.fits to ./mastDownload/JWST/jw02561001002_02101_00001_nrcblong/jw02561001002_02101_00001_nrcblong_cal.fits ... [Done]\n",
      "Downloading URL https://mast.stsci.edu/api/v0.1/Download/file?uri=mast:JWST/product/jw02561001002_02101_00002_nrcalong_cal.fits to ./mastDownload/JWST/jw02561001002_02101_00002_nrcalong/jw02561001002_02101_00002_nrcalong_cal.fits ... [Done]\n",
      "Downloading URL https://mast.stsci.edu/api/v0.1/Download/file?uri=mast:JWST/product/jw02561001002_02101_00002_nrcblong_cal.fits to ./mastDownload/JWST/jw02561001002_02101_00002_nrcblong/jw02561001002_02101_00002_nrcblong_cal.fits ... [Done]\n",
      "Downloading URL https://mast.stsci.edu/api/v0.1/Download/file?uri=mast:JWST/product/jw02561001002_02101_00003_nrcalong_cal.fits to ./mastDownload/JWST/jw02561001002_02101_00003_nrcalong/jw02561001002_02101_00003_nrcalong_cal.fits ... [Done]\n",
      "Downloading URL https://mast.stsci.edu/api/v0.1/Download/file?uri=mast:JWST/product/jw02561001002_02101_00003_nrcblong_cal.fits to ./mastDownload/JWST/jw02561001002_02101_00003_nrcblong/jw02561001002_02101_00003_nrcblong_cal.fits ... [Done]\n",
      "Downloading URL https://mast.stsci.edu/api/v0.1/Download/file?uri=mast:JWST/product/jw02561001002_02101_00004_nrcalong_cal.fits to ./mastDownload/JWST/jw02561001002_02101_00004_nrcalong/jw02561001002_02101_00004_nrcalong_cal.fits ... [Done]\n",
      "Downloading URL https://mast.stsci.edu/api/v0.1/Download/file?uri=mast:JWST/product/jw02561001002_02101_00004_nrcblong_cal.fits to ./mastDownload/JWST/jw02561001002_02101_00004_nrcblong/jw02561001002_02101_00004_nrcblong_cal.fits ... [Done]\n"
     ]
    }
   ],
   "source": [
    "# download only the first 8 files (4 exposures of each a/b module)  \n",
    "manifest = Observations.download_products(files_lvl2[0:8])"
   ]
  },
  {
   "cell_type": "markdown",
   "id": "318b32c2-5b29-49fb-bb51-e38a62e6371f",
   "metadata": {},
   "source": [
    "# Reduction of level 2b cal frames with Grizli"
   ]
  },
  {
   "cell_type": "code",
   "execution_count": 98,
   "id": "c64a3c3a",
   "metadata": {},
   "outputs": [
    {
     "name": "stdout",
     "output_type": "stream",
     "text": [
      "/Users/ivo/Astro/PROJECTS/JWST/crds_cache\n",
      "https://jwst-crds.stsci.edu\n"
     ]
    }
   ],
   "source": [
    "print(os.environ['CRDS_PATH'])\n",
    "print(os.environ[\"CRDS_SERVER_URL\"])\n",
    "#os.environ['CRDS_CONTEXT'] = 'jwst_0863.pmap'\n",
    "#print(os.environ['CRDS_CONTEXT'])"
   ]
  },
  {
   "cell_type": "code",
   "execution_count": 28,
   "id": "32e32644-75e3-4b7b-bd5c-80ef8f871c52",
   "metadata": {},
   "outputs": [
    {
     "name": "stdout",
     "output_type": "stream",
     "text": [
      "Grizli version:  1.7\n",
      "cp: RAW/jw02561001002_02101_00003_nrcalong_cal.fits and ./RAW/jw02561001002_02101_00003_nrcalong_cal.fits are identical (not copied).\n",
      "cp: RAW/jw02561001002_02101_00002_nrcalong_cal.fits and ./RAW/jw02561001002_02101_00002_nrcalong_cal.fits are identical (not copied).\n",
      "cp: RAW/jw02561001002_02101_00001_nrcalong_cal.fits and ./RAW/jw02561001002_02101_00001_nrcalong_cal.fits are identical (not copied).\n",
      "cp: RAW/jw02561001002_02101_00004_nrcalong_cal.fits and ./RAW/jw02561001002_02101_00004_nrcalong_cal.fits are identical (not copied).\n",
      "cp: RAW/jw02561001002_02101_00001_nrcblong_cal.fits and ./RAW/jw02561001002_02101_00001_nrcblong_cal.fits are identical (not copied).\n",
      "cp: RAW/jw02561001002_02101_00004_nrcblong_cal.fits and ./RAW/jw02561001002_02101_00004_nrcblong_cal.fits are identical (not copied).\n",
      "cp: RAW/jw02561001002_02101_00003_nrcblong_cal.fits and ./RAW/jw02561001002_02101_00003_nrcblong_cal.fits are identical (not copied).\n",
      "cp: RAW/jw02561001002_02101_00002_nrcblong_cal.fits and ./RAW/jw02561001002_02101_00002_nrcblong_cal.fits are identical (not copied).\n"
     ]
    }
   ],
   "source": [
    "# setup paths and files for grizli\n",
    "from pathlib import Path\n",
    "from glob import glob\n",
    "\n",
    "import os\n",
    "import grizli\n",
    "from grizli import utils, prep, jwst_utils, multifit\n",
    "from grizli.pipeline import auto_script\n",
    "print('Grizli version: ', grizli.__version__)\n",
    "\n",
    "# This rootname used throughout\n",
    "root='uncover'            \n",
    "\n",
    "# Some directories needed for grizli \n",
    "if 'HOME_PATH' not in locals(): HOME_PATH=os.getcwd()\n",
    "working_dir = 'Prep'   # hardcoded in autoscript grizli... beware !\n",
    "raw_dir = '../RAW'\n",
    "\n",
    "Path(working_dir).mkdir(exist_ok=True)\n",
    "os.chdir(HOME_PATH+'/'+working_dir)\n",
    "Path(raw_dir).mkdir(exist_ok=True)\n",
    "os.chdir(HOME_PATH)\n",
    "\n",
    "# copy cal files into RAW directory\n",
    "! find . -name \"*cal.fits\" -exec cp {} RAW \\;"
   ]
  }
 ],
 "metadata": {
  "kernelspec": {
   "display_name": "Python 3 (ipykernel)",
   "language": "python",
   "name": "python3"
  },
  "language_info": {
   "codemirror_mode": {
    "name": "ipython",
    "version": 3
   },
   "file_extension": ".py",
   "mimetype": "text/x-python",
   "name": "python",
   "nbconvert_exporter": "python",
   "pygments_lexer": "ipython3",
   "version": "3.9.15"
  }
 },
 "nbformat": 4,
 "nbformat_minor": 5
}
