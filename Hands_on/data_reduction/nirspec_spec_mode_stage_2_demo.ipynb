{
 "cells": [
  {
   "cell_type": "markdown",
   "metadata": {},
   "source": [
    "<a id='top'></a>\n",
    "# JWST Spectroscopic Data Calibration: Pipeline Stage 2\n",
    "---\n",
    "**Authors**:  \n",
    "Maria Pena-Guerrero (pena@stsci.edu), Jo Taylor (jotaylor@stsci.edu)\n",
    "\n",
    "Based on original notebooks by Bryan Hilbert (hilbert@stsci.edu)\n",
    "\n",
    "**Latest Update**: June 10, 2022"
   ]
  },
  {
   "cell_type": "markdown",
   "metadata": {},
   "source": [
    "<div class=\"alert alert-block alert-warning\">\n",
    "    <h3><u><b>Notebook Goals</b></u></h3>\n",
    "<br>\n",
    "Working with the Spectroscopic Stage 2 Calibration Pipeline, we will:\n",
    "<ul>\n",
    "    <li>Look at the different ways to call the pipeline</li>\n",
    "    <li>Examine exactly what each pipeline step does to the science data</li>\n",
    "    <li>Look in detail at the steps in common to all spectroscopic modes</li>\n",
    "</ul>\n",
    "<br>\n",
    "<b><i>IMPORTANT</b></i>: The goal of this notebook is not to actually run the pipeline, since each step is only applied to specific JWST modes, but rather to illustrate <i>what</i> each step is doing and <i>how</i> you would run it if you need to. Any code below is provided to showcase how to run the pipeline or any steps, and is not intended to actually be executed.\n",
    "</div>"
   ]
  },
  {
   "cell_type": "markdown",
   "metadata": {},
   "source": [
    "## Table of Contents\n",
    "* [Introduction](#intro)\n",
    "* [Spectroscopy Modes](#spec_modes)\n",
    "* [Pipeline Resources and Documentation](#resources)\n",
    "   * [Installation](#installation)\n",
    "   * [Reference Files](#reference_files)\n",
    "* [Imports](#imports)\n",
    "* [Methods for calling steps/pipelines](#calling_methods)\n",
    "* [Parameter reference files](#parameter_reffiles)\n",
    "* [calwebb_spec2](#spec2) \n",
    "   * [Run the entire pipeline](#spec2_at_once)\n",
    "       * [run() method](#run_method)\n",
    "       * [call() method](#call_method)\n",
    "       * [command line](#command_line)\n",
    "   * [Run the individual pipeline steps](#spec2_step_by_step)\n",
    "       * [The `Assign WCS` step](#assign_wcs)\n",
    "       * [The `Background Subtraction` step](#background)\n",
    "       * [The `Imprint Subtraction` step](#imprint)\n",
    "       * [The `MSA Flagging` step](#msaflagging)\n",
    "       * [The `2D Extraction` step](#extract_2d)\n",
    "       * [The `Source Type` step](#srctype)\n",
    "       * [The `Master Background` step](#masterbg)\n",
    "       * [The `Wavecorr` step](#wavecorr)\n",
    "       * [The `Flat Field` step](#flat_field)\n",
    "       * [The `Straylight` step](#straylight)\n",
    "       * [The `Fringe Correction` step](#fringe)\n",
    "       * [The `Pathloss` step](#pathloss)\n",
    "       * [The `Barshadow` step](#barshadow)\n",
    "       * [The `Photom` step](#photom)\n",
    "       * [The `Resample Spec` step](#resample)\n",
    "       * [The `Cube Build` step](#cube_build)\n",
    "       * [The `1D Extraction` step](#extract_1d)\n"
   ]
  },
  {
   "cell_type": "markdown",
   "metadata": {},
   "source": [
    "<a id='intro'></a>\n",
    "## Introduction\n",
    "\n",
    "This notebook covers the Stage 2 processing of the JWST spectroscopic data, also known as *calwebb_spec2*. This material should serve as a reference guide when you need to run *calwebb_spec2*, or any of its constituent steps, in the future. \n",
    "\n",
    "**_IMPORTANT_**: The goal of this notebook is not to actually run the pipeline, since each step is only applied to specific JWST modes, but rather to illustrate *what* each step is doing and *how* you would run it if you need to. Any code below is provided to showcase how to run the pipeline or any steps, and is not intended to actually be run.\n",
    "\n",
    "*Calwebb_spec2* is the “Swiss army knife” of JWST pipelines. It contains corrections that are only applied to certain instruments and/or instrument modes. The pipeline is a wrapper which will string together the appropriate steps for each exposure in the proper order.\n",
    "\n",
    "The [*calwebb_spec2* pipeline](https://jwst-pipeline.readthedocs.io/en/stable/jwst/pipeline/calwebb_spec2.html#calwebb-spec2) applies corrections to slope images (countrate files) which are the output files of the [Stage 1 pipeline](https://jwst-pipeline.readthedocs.io/en/stable/jwst/pipeline/calwebb_detector1.html#calwebb-detector1). These slope images will be in the form of either *_rate* files (mean countrate across all integrations) or *_rateints* files (one countrate image per integration). A single input file can be processed or an association file listing multiple inputs can be supplied, in which case the processing steps will be applied to each input exposure one at a time. If *_rateints* products are used as input, each step applies its algorithm to each integration in the exposure, where appropriate.\n",
    "\n",
    "The main output from *calwebb_spec2* is a fully calibrated, but unrectified, exposure with suffix *_cal*, in units of MJy/str (or MJy for NIRSpec or NIRISS SOSS point sources). The exact datamodel type of this file will depend on the spectroscopic mode in use, see the [documentation](https://jwst-pipeline.readthedocs.io/en/stable/jwst/pipeline/calwebb_spec2.html#d-or-3d-calibrated-data) for complete details.\n",
    "\n",
    "Additionally, 1D extracted spectral products are also created. For non-TSO observations, these are *_x1d* files containing extracted spectra for one or more slits/sources. For TSO observations, these are 3D *_x1dints* files with extracted spectra for each integration. Finally, 2D or 3D rectified products (*_s2d* and *s3d*) may also be produced depending on the mode in use. However, the *_x1d*, *_x1dints*, *_s2d*, and *_s3d* products from *calwebb_spec2* are meant only for user examination of the data. It is the *_cal.fits* files that are passed on to Stage 3 of the pipeline and used for all further processing."
   ]
  },
  {
   "cell_type": "markdown",
   "metadata": {},
   "source": [
    "<a id='spec_modes'></a>\n",
    "## Spectroscopy Modes\n",
    "\n",
    "The subset, and order, of steps run by *calwebb_spec2* depends on the mode of the input JWST exposure. There are eight different spectroscopic instrument mode combinations, listed below:\n",
    "* NIRSpec FS = Fixed Slit\n",
    "* NIRSpec MOS = Multi-Object Spectroscopy (also called MSA or micro-shutter assembly)\n",
    "* NIRSpec IFU = Integral Field Unit\n",
    "* MIRI FS = LRS (Low Resolution Spectroscopy) Fixed Slit\n",
    "* MIRI SL = LRS Slitless\n",
    "* MIRI MRS = Medium Resolution Spectroscopy (IFU)\n",
    "* NIRISS SOSS = Single Object Slitless Spectroscopy\n",
    "* NIRISS and NIRCam WFSS = Wide-Field Slitless Spectroscopy\n",
    "\n",
    "The list of all *calwebb_spec2* steps and which modes they apply to can be found [here](https://jwst-pipeline.readthedocs.io/en/latest/jwst/pipeline/calwebb_spec2.html#calwebb-spec2)."
   ]
  },
  {
   "cell_type": "markdown",
   "metadata": {},
   "source": [
    "<a id='resources'></a>\n",
    "## Pipeline Resources and Documentation"
   ]
  },
  {
   "cell_type": "markdown",
   "metadata": {},
   "source": [
    "There are several different places to find information on installing and running the pipeline. This notebook will summarize each Stage 2 spectroscopic pipeline step. To find more in-depth instructions use the links below.\n",
    "\n",
    "* [JWST Documentation (JDox) for the Stage 2 spectroscopic pipeline](https://jwst-docs.stsci.edu/jwst-data-reduction-pipeline/stages-of-processing/calwebb_spec2) including short a short summary of what each step does.\n",
    "\n",
    "* [High-level description of all pipeline stages and steps](https://jwst-pipeline.readthedocs.io/en/latest/jwst/pipeline/main.html) from the pipeline software documentation website.\n",
    "\n",
    "* [`jwst` package documentation](https://jwst-pipeline.readthedocs.io/en/latest/jwst/introduction.html) including how to run the pipeline, input/output files, etc.\n",
    "\n",
    "* [`jwst` package GitHub repository, with installation instructions](https://github.com/spacetelescope/jwst/blob/master/README.md)\n",
    "\n",
    "* [**Help Desk**](https://stsci.service-now.com/jwst?id=sc_cat_item&sys_id=27a8af2fdbf2220033b55dd5ce9619cd&sysparm_category=e15706fc0a0a0aa7007fc21e1ab70c2f): **If you have any questions or problems regarding the pipeline, submit a ticket to the Help Desk**"
   ]
  },
  {
   "cell_type": "markdown",
   "metadata": {},
   "source": [
    "[Top of Notebook](#top)"
   ]
  },
  {
   "cell_type": "markdown",
   "metadata": {},
   "source": [
    "<a id='installation'></a>\n",
    "### Installation"
   ]
  },
  {
   "cell_type": "markdown",
   "metadata": {},
   "source": [
    "<div class=\"alert alert-block alert-info\">\n",
    "    During the JWebbinar, we will be working in a pre-existing environment where the <b>jwst</b> package has already been installed, so you won't need to install it yourself.\n",
    "</div>\n",
    "\n",
    "<div class=\"alert alert-block alert-warning\">\n",
    "If you wish to run this notebook outside of this JWebbinar, you will have to first install the <b>jwst</b> package.<br>\n",
    "\n",
    "For more detailed instructions on the various ways to install the package, see the [installation instructions](https://github.com/spacetelescope/jwst/blob/master/README.md) on GitHub.\n",
    "\n",
    "The easiest way to install the pipeline is via `pip`. Below we show how to create a new conda environment, activate that environment, and then install the latest released version of the pipeline. You can name your environment anything you like. In the lines below, replace `<env_name>` with your chosen environment name.\n",
    "\n",
    ">`conda create -n <env_name> python`<br>\n",
    ">`conda activate <env_name>`<br>\n",
    ">`pip install jwst`\n",
    "\n",
    "If you wish to install the development version of the pipeline, which is more recent than (but not as well tested compared to) the latest released version:\n",
    "\n",
    ">`conda create -n <env_name> python`<br>\n",
    ">`conda activate <env_name>`<br>\n",
    ">`pip install git+https://github.com/spacetelescope/jwst`\n",
    "    \n",
    "</div>"
   ]
  },
  {
   "cell_type": "markdown",
   "metadata": {},
   "source": [
    "<a id='reference_files'></a>\n",
    "### Reference Files"
   ]
  },
  {
   "cell_type": "markdown",
   "metadata": {},
   "source": [
    "[Calibration reference files](https://jwst-docs.stsci.edu/data-processing-and-calibration-files/calibration-reference-files) are a collection of FITS and ASDF files that are used to remove instrumental signatures and calibrate JWST data. For example, the dark current reference file contains a multiaccum ramp of dark current signal to be subtracted from the data during the dark current subtraction step. \n",
    "\n",
    "When running a pipeline or pipeline step, the pipeline will automatically look for any required reference files in a pre-defined local directory. If the required reference files are not present, they will automatically be downloaded from the Calibration Reference Data System (CRDS) at STScI.\n",
    "\n",
    "<div class=\"alert alert-block alert-info\">\n",
    "    During the JWebbinar, our pre-existing existing environment is set up to correctly use and store calibration reference files, and you do not need to set the environment variables below.\n",
    "</div>\n",
    "    \n",
    "<div class=\"alert alert-block alert-warning\">\n",
    "If you wish to run this notebook outside of this JWebbinar, you will have to specify a local directory in which to store reference files, along with the server to use to download the reference files from CRDS. To accomplish this, there are two environment variables that should be set prior to calling the pipeline. These are the CRDS_PATH and CRDS_SERVER_URL variables. In the example below, reference files will be downloaded to the \"crds_cache\" directory under the home directory.\n",
    "\n",
    ">`$ export CRDS_PATH=$HOME/crds_cache`<br>\n",
    ">`$ export CRDS_SERVER_URL=https://jwst-crds-pub.stsci.edu`<br>\n",
    "OR:<br>\n",
    "`os.environ[\"CRDS_PATH\"] = \"/user/myself/crds_cache\"`<br>\n",
    "`os.environ[\"CRDS_SERVER_URL\"] = \"https://jwst-crds-pub.stsci.edu\"`<br>\n",
    "\n",
    "The first time you run the pipeline, the [CRDS server](https://jwst-pipeline.readthedocs.io/en/latest/jwst/introduction.html#crds) should download all of the context and reference files that are needed for that pipeline run, and dump them into the CRDS_PATH directory. Subsequent executions of the pipeline will first look to see if it has what it needs in CRDS_PATH and anything it doesn't have will be downloaded from the STScI cache. \n",
    "</div>\n",
    "\n",
    "<div class=\"alert alert-block alert-warning\">NOTE: Users at STScI should automatically have access to the Calibration Reference Data System (CRDS) cache for running the pipeline, and can skip setting these environment variables.</div>"
   ]
  },
  {
   "cell_type": "markdown",
   "metadata": {},
   "source": [
    "[Top of Notebook](#top)"
   ]
  },
  {
   "cell_type": "markdown",
   "metadata": {},
   "source": [
    "<a id='imports'></a>\n",
    "## Imports"
   ]
  },
  {
   "cell_type": "markdown",
   "metadata": {},
   "source": [
    "Import packages to illustrate what is needed to run the pipeline and each of its steps."
   ]
  },
  {
   "cell_type": "code",
   "execution_count": 1,
   "metadata": {},
   "outputs": [],
   "source": [
    "# Packages that allow us to get information about objects:\n",
    "import asdf\n",
    "import os\n",
    "# Update to a path in your system (see details below at \"Reference files\")\n",
    "os.environ[\"CRDS_PATH\"] = \"./data/cal_ref_files\"\n",
    "os.environ[\"CRDS_SERVER_URL\"] = \"https://jwst-crds.stsci.edu\"\n",
    "\n",
    "# Astropy tools:\n",
    "from astropy.io import fits\n",
    "\n",
    "# JWST data models\n",
    "from jwst import datamodels\n",
    "\n",
    "# The entire calwebb_spec2 pipeline\n",
    "from jwst.pipeline.calwebb_spec2 import Spec2Pipeline\n",
    "\n",
    "# Individual steps that make up calwebb_spec2 and datamodels\n",
    "from jwst.assign_wcs.assign_wcs_step import AssignWcsStep\n",
    "from jwst.background.background_step import BackgroundStep\n",
    "from jwst.imprint.imprint_step import ImprintStep\n",
    "from jwst.msaflagopen.msaflagopen_step import MSAFlagOpenStep\n",
    "from jwst.extract_2d.extract_2d_step import Extract2dStep\n",
    "from jwst.srctype.srctype_step import SourceTypeStep\n",
    "from jwst.master_background.master_background_step import MasterBackgroundStep\n",
    "from jwst.wavecorr.wavecorr_step import WavecorrStep\n",
    "from jwst.flatfield.flat_field_step import FlatFieldStep\n",
    "from jwst.straylight.straylight_step import StraylightStep\n",
    "from jwst.fringe.fringe_step import FringeStep\n",
    "from jwst.pathloss.pathloss_step import PathLossStep\n",
    "from jwst.barshadow.barshadow_step import BarShadowStep\n",
    "from jwst.photom.photom_step import PhotomStep\n",
    "from jwst.resample import ResampleSpecStep\n",
    "from jwst.cube_build.cube_build_step import CubeBuildStep\n",
    "from jwst.extract_1d.extract_1d_step import Extract1dStep"
   ]
  },
  {
   "cell_type": "markdown",
   "metadata": {},
   "source": [
    "Check which version of the pipeline we are running:"
   ]
  },
  {
   "cell_type": "code",
   "execution_count": 2,
   "metadata": {},
   "outputs": [
    {
     "name": "stdout",
     "output_type": "stream",
     "text": [
      "1.8.0\n"
     ]
    }
   ],
   "source": [
    "import jwst\n",
    "print(jwst.__version__)"
   ]
  },
  {
   "cell_type": "markdown",
   "metadata": {},
   "source": [
    "Define the output directory."
   ]
  },
  {
   "cell_type": "code",
   "execution_count": 3,
   "metadata": {},
   "outputs": [],
   "source": [
    "# To make everything easier, all files saved by the pipeline\n",
    "# and pipeline steps will be saved to the working directory.\n",
    "output_dir = 'cals/'\n",
    "\n",
    "# Make sure the output directory exists before downloading any data\n",
    "if not os.path.exists(output_dir):\n",
    "    os.makedirs(output_dir)"
   ]
  },
  {
   "cell_type": "markdown",
   "metadata": {},
   "source": [
    "[Top of Notebook](#top)"
   ]
  },
  {
   "cell_type": "markdown",
   "metadata": {},
   "source": [
    "<a id='calling_methods'></a>\n",
    "## Methods for calling steps/pipelines"
   ]
  },
  {
   "cell_type": "markdown",
   "metadata": {},
   "source": [
    "There are three common methods by which the pipeline or pipeline steps can be called. From within python, the `run()` and `call()` methods of the pipeline or step classes can be used. Alternatively, the `strun` command can be used from the command line. Examples of each method are shown below.\n",
    "\n",
    "When using the `call()` method or `strun`, optional input parameters can be specified via [parameter reference files](#parameter_reffiles). When using the `run()` method, these parameters are instead specified within python."
   ]
  },
  {
   "cell_type": "markdown",
   "metadata": {},
   "source": [
    "<a id='parameter_reffiles'></a>\n",
    "## Parameter Reference Files"
   ]
  },
  {
   "cell_type": "markdown",
   "metadata": {},
   "source": [
    "When calling a pipeline or pipeline step using the `call()` method or the command line, [parameter reference files](https://jwst-pipeline.readthedocs.io/en/stable/jwst/stpipe/config_asdf.html#config-asdf-files) can be used to specify values for input parameters. These reference files are in [asdf](https://asdf.readthedocs.io/en/stable/) format and appear somewhat similar to json files when examined in a text editor. \n",
    "\n",
    "Versions of parameter reference files containing default parameter values for each step and pipeline are available in CRDS. When using the `call()` method, if you do not specify a parameter reference file name in the call, the pipeline or step will retrieve and use the appropriate file from CRDS, which will then run the pipeline or step with the parameter values in that file. If you provide the name of a parameter reference file, then the parameter values in that file will take precedence. For any parameter not specified in your parameter reference file, the pipeline will use the default value.\n",
    "\n",
    "When using `strun`, the parameter reference file is a required input."
   ]
  },
  {
   "cell_type": "markdown",
   "metadata": {},
   "source": [
    "Let's take a look at the contents of a parameter reference file. We'll open it using the asdf package, and use the `tree` attribute to see what's inside:"
   ]
  },
  {
   "cell_type": "code",
   "execution_count": 4,
   "metadata": {},
   "outputs": [
    {
     "name": "stderr",
     "output_type": "stream",
     "text": [
      "2022-10-12 15:40:05,958 - stpipe.Spec2Pipeline - INFO - Spec2Pipeline instance created.\n",
      "2022-10-12 15:40:05,960 - stpipe.Spec2Pipeline.bkg_subtract - INFO - BackgroundStep instance created.\n",
      "2022-10-12 15:40:05,962 - stpipe.Spec2Pipeline.assign_wcs - INFO - AssignWcsStep instance created.\n",
      "2022-10-12 15:40:05,964 - stpipe.Spec2Pipeline.imprint_subtract - INFO - ImprintStep instance created.\n",
      "2022-10-12 15:40:05,965 - stpipe.Spec2Pipeline.msa_flagging - INFO - MSAFlagOpenStep instance created.\n",
      "2022-10-12 15:40:05,967 - stpipe.Spec2Pipeline.extract_2d - INFO - Extract2dStep instance created.\n",
      "2022-10-12 15:40:05,971 - stpipe.Spec2Pipeline.master_background_mos - INFO - MasterBackgroundMosStep instance created.\n",
      "2022-10-12 15:40:05,973 - stpipe.Spec2Pipeline.master_background_mos.flat_field - INFO - FlatFieldStep instance created.\n",
      "2022-10-12 15:40:05,975 - stpipe.Spec2Pipeline.master_background_mos.pathloss - INFO - PathLossStep instance created.\n",
      "2022-10-12 15:40:05,976 - stpipe.Spec2Pipeline.master_background_mos.barshadow - INFO - BarShadowStep instance created.\n",
      "2022-10-12 15:40:05,978 - stpipe.Spec2Pipeline.master_background_mos.photom - INFO - PhotomStep instance created.\n",
      "2022-10-12 15:40:05,979 - stpipe.Spec2Pipeline.wavecorr - INFO - WavecorrStep instance created.\n",
      "2022-10-12 15:40:05,981 - stpipe.Spec2Pipeline.flat_field - INFO - FlatFieldStep instance created.\n",
      "2022-10-12 15:40:05,982 - stpipe.Spec2Pipeline.srctype - INFO - SourceTypeStep instance created.\n",
      "2022-10-12 15:40:05,984 - stpipe.Spec2Pipeline.straylight - INFO - StraylightStep instance created.\n",
      "2022-10-12 15:40:05,985 - stpipe.Spec2Pipeline.fringe - INFO - FringeStep instance created.\n",
      "2022-10-12 15:40:05,987 - stpipe.Spec2Pipeline.residual_fringe - INFO - ResidualFringeStep instance created.\n",
      "2022-10-12 15:40:05,988 - stpipe.Spec2Pipeline.pathloss - INFO - PathLossStep instance created.\n",
      "2022-10-12 15:40:05,990 - stpipe.Spec2Pipeline.barshadow - INFO - BarShadowStep instance created.\n",
      "2022-10-12 15:40:05,991 - stpipe.Spec2Pipeline.wfss_contam - INFO - WfssContamStep instance created.\n",
      "2022-10-12 15:40:05,993 - stpipe.Spec2Pipeline.photom - INFO - PhotomStep instance created.\n",
      "2022-10-12 15:40:05,995 - stpipe.Spec2Pipeline.resample_spec - INFO - ResampleSpecStep instance created.\n",
      "2022-10-12 15:40:05,998 - stpipe.Spec2Pipeline.cube_build - INFO - CubeBuildStep instance created.\n",
      "2022-10-12 15:40:06,000 - stpipe.Spec2Pipeline.extract_1d - INFO - Extract1dStep instance created.\n"
     ]
    }
   ],
   "source": [
    "step = Spec2Pipeline()\n",
    "spec2_param_reffile = os.path.join(output_dir, 'calwebb_spec2.asdf')\n",
    "step.export_config(spec2_param_reffile)\n",
    "spec2_reffile = asdf.open(spec2_param_reffile)"
   ]
  },
  {
   "cell_type": "code",
   "execution_count": 5,
   "metadata": {
    "scrolled": true
   },
   "outputs": [
    {
     "name": "stdout",
     "output_type": "stream",
     "text": [
      "\u001b[1mroot\u001b[0m (AsdfObject)\n",
      "\u001b[2m├─\u001b[0m\u001b[1masdf_library\u001b[0m (Software)\n",
      "\u001b[2m│ ├─\u001b[0m\u001b[1mauthor\u001b[0m (str): The ASDF Developers\n",
      "\u001b[2m│ ├─\u001b[0m\u001b[1mhomepage\u001b[0m (str): http://github.com/asdf-format/asdf\n",
      "\u001b[2m│ ├─\u001b[0m\u001b[1mname\u001b[0m (str): asdf\n",
      "\u001b[2m│ └─\u001b[0m\u001b[1mversion\u001b[0m (str): 2.13.0\n",
      "\u001b[2m├─\u001b[0m\u001b[1mhistory\u001b[0m (dict)\n",
      "\u001b[2m│ └─\u001b[0m\u001b[1mextensions\u001b[0m (list)\n",
      "\u001b[2m│   └─\u001b[0m[\u001b[1m0\u001b[0m] (ExtensionMetadata)\n",
      "\u001b[2m│     ├─\u001b[0m\u001b[1mextension_class\u001b[0m (str): asdf.extension.BuiltinExtension\n",
      "\u001b[2m│     └─\u001b[0m\u001b[1msoftware\u001b[0m (Software)\n",
      "\u001b[2m│       ├─\u001b[0m\u001b[1mname\u001b[0m (str): asdf\n",
      "\u001b[2m│       └─\u001b[0m\u001b[1mversion\u001b[0m (str): 2.13.0\n",
      "\u001b[2m├─\u001b[0m\u001b[1mclass\u001b[0m (str): jwst.pipeline.calwebb_spec2.Spec2Pipeline\n",
      "\u001b[2m├─\u001b[0m\u001b[1mname\u001b[0m (str): Spec2Pipeline\n",
      "\u001b[2m├─\u001b[0m\u001b[1mparameters\u001b[0m (dict)\n",
      "\u001b[2m│ ├─\u001b[0m\u001b[1mfail_on_exception\u001b[0m (bool): True\n",
      "\u001b[2m│ ├─\u001b[0m\u001b[1minput_dir\u001b[0m (str): \n",
      "\u001b[2m│ ├─\u001b[0m\u001b[1moutput_dir\u001b[0m (NoneType): None\n",
      "\u001b[2m│ ├─\u001b[0m\u001b[1moutput_ext\u001b[0m (str): .fits\n",
      "\u001b[2m│ ├─\u001b[0m\u001b[1moutput_file\u001b[0m (NoneType): None\n",
      "\u001b[2m│ ├─\u001b[0m\u001b[1moutput_use_index\u001b[0m (bool): True\n",
      "\u001b[2m│ ├─\u001b[0m\u001b[1moutput_use_model\u001b[0m (bool): False\n",
      "\u001b[2m│ ├─\u001b[0m\u001b[1mpost_hooks\u001b[0m (list)\n",
      "\u001b[2m│ ├─\u001b[0m\u001b[1mpre_hooks\u001b[0m (list)\n",
      "\u001b[2m│ ├─\u001b[0m\u001b[1msave_bsub\u001b[0m (bool): False\n",
      "\u001b[2m│ ├─\u001b[0m\u001b[1msave_results\u001b[0m (bool): False\n",
      "\u001b[2m│ ├─\u001b[0m\u001b[1msave_wfss_esec\u001b[0m (bool): False\n",
      "\u001b[2m│ ├─\u001b[0m\u001b[1msearch_output_file\u001b[0m (bool): True\n",
      "\u001b[2m│ ├─\u001b[0m\u001b[1mskip\u001b[0m (bool): False\n",
      "\u001b[2m│ └─\u001b[0m\u001b[1msuffix\u001b[0m (NoneType): None\n",
      "\u001b[2m└─\u001b[0m\u001b[1msteps\u001b[0m (list)\n",
      "\u001b[2m  ├─\u001b[0m[\u001b[1m0\u001b[0m] (dict)\n",
      "\u001b[2m  │ ├─\u001b[0m\u001b[1mclass\u001b[0m (str): jwst.background.background_step.BackgroundStep\n",
      "\u001b[2m  │ ├─\u001b[0m\u001b[1mname\u001b[0m (str): bkg_subtract\n",
      "\u001b[2m  │ └─\u001b[0m\u001b[1mparameters\u001b[0m (dict)\n",
      "\u001b[2m  │   ├─\u001b[0m\u001b[1minput_dir\u001b[0m (str): \n",
      "\u001b[2m  │   ├─\u001b[0m\u001b[1mmaxiters\u001b[0m (NoneType): None\n",
      "\u001b[2m  │   ├─\u001b[0m\u001b[1moutput_dir\u001b[0m (NoneType): None\n",
      "\u001b[2m  │   ├─\u001b[0m\u001b[1moutput_ext\u001b[0m (str): .fits\n",
      "\u001b[2m  │   ├─\u001b[0m\u001b[1moutput_file\u001b[0m (NoneType): None\n",
      "\u001b[2m  │   ├─\u001b[0m\u001b[1moutput_use_index\u001b[0m (bool): True\n",
      "\u001b[2m  │   ├─\u001b[0m\u001b[1moutput_use_model\u001b[0m (bool): False\n",
      "\u001b[2m  │   ├─\u001b[0m\u001b[1mpost_hooks\u001b[0m (list)\n",
      "\u001b[2m  │   ├─\u001b[0m\u001b[1mpre_hooks\u001b[0m (list)\n",
      "\u001b[2m  │   ├─\u001b[0m\u001b[1msave_combined_background\u001b[0m (bool): False\n",
      "\u001b[2m  │   ├─\u001b[0m\u001b[1msave_results\u001b[0m (bool): False\n",
      "\u001b[2m  │   ├─\u001b[0m\u001b[1msearch_output_file\u001b[0m (bool): True\n",
      "\u001b[2m  │   ├─\u001b[0m\u001b[1msigma\u001b[0m (float): 3.0\n",
      "\u001b[2m  │   ├─\u001b[0m\u001b[1mskip\u001b[0m (bool): False\n",
      "\u001b[2m  │   ├─\u001b[0m\u001b[1msuffix\u001b[0m (NoneType): None\n",
      "\u001b[2m  │   └─\u001b[0m\u001b[1mwfss_mmag_extract\u001b[0m (NoneType): None\n",
      "\u001b[2m  ├─\u001b[0m[\u001b[1m1\u001b[0m] (dict)\n",
      "\u001b[2m  │ ├─\u001b[0m\u001b[1mclass\u001b[0m (str): jwst.assign_wcs.assign_wcs_step.AssignWcsStep\n",
      "\u001b[2m  │ ├─\u001b[0m\u001b[1mname\u001b[0m (str): assign_wcs\n",
      "\u001b[2m  │ └─\u001b[0m\u001b[1mparameters\u001b[0m (dict)\n",
      "\u001b[2m  │   ├─\u001b[0m\u001b[1minput_dir\u001b[0m (str): \n",
      "\u001b[2m  │   ├─\u001b[0m\u001b[1moutput_dir\u001b[0m (NoneType): None\n",
      "\u001b[2m  │   ├─\u001b[0m\u001b[1moutput_ext\u001b[0m (str): .fits\n",
      "\u001b[2m  │   ├─\u001b[0m\u001b[1moutput_file\u001b[0m (NoneType): None\n",
      "\u001b[2m  │   ├─\u001b[0m\u001b[1moutput_use_index\u001b[0m (bool): True\n",
      "\u001b[2m  │   ├─\u001b[0m\u001b[1moutput_use_model\u001b[0m (bool): False\n",
      "\u001b[2m  │   ├─\u001b[0m\u001b[1mpost_hooks\u001b[0m (list)\n",
      "\u001b[2m  │   ├─\u001b[0m\u001b[1mpre_hooks\u001b[0m (list)\n",
      "\u001b[2m  │   ├─\u001b[0m\u001b[1msave_results\u001b[0m (bool): False\n",
      "\u001b[2m  │   ├─\u001b[0m\u001b[1msearch_output_file\u001b[0m (bool): True\n",
      "\u001b[2m  │   ├─\u001b[0m\u001b[1msip_approx\u001b[0m (bool): True\n",
      "\u001b[2m  │   ├─\u001b[0m\u001b[1msip_degree\u001b[0m (NoneType): None\n",
      "\u001b[2m  │   ├─\u001b[0m\u001b[1msip_inv_degree\u001b[0m (NoneType): None\n",
      "\u001b[2m  │   ├─\u001b[0m\u001b[1msip_max_inv_pix_error\u001b[0m (float): 0.1\n",
      "\u001b[2m  │   ├─\u001b[0m\u001b[1msip_max_pix_error\u001b[0m (float): 0.1\n",
      "\u001b[2m  │   ├─\u001b[0m\u001b[1msip_npoints\u001b[0m (int): 12\n",
      "\u001b[2m  │   ├─\u001b[0m\u001b[1mskip\u001b[0m (bool): False\n",
      "\u001b[2m  │   ├─\u001b[0m\u001b[1mslit_y_high\u001b[0m (float): 0.55\n",
      "\u001b[2m  │   ├─\u001b[0m\u001b[1mslit_y_low\u001b[0m (float): -0.55\n",
      "\u001b[2m  │   └─\u001b[0m\u001b[1msuffix\u001b[0m (NoneType): None\n",
      "\u001b[2m  ├─\u001b[0m[\u001b[1m2\u001b[0m] (dict)\n",
      "\u001b[2m  │ ├─\u001b[0m\u001b[1mclass\u001b[0m (str): jwst.imprint.imprint_step.ImprintStep\n",
      "\u001b[2m  │ ├─\u001b[0m\u001b[1mname\u001b[0m (str): imprint_subtract\n",
      "\u001b[2m  │ └─\u001b[0m\u001b[1mparameters\u001b[0m (dict)\n",
      "\u001b[2m  │   ├─\u001b[0m\u001b[1minput_dir\u001b[0m (str): \n",
      "\u001b[2m  │   ├─\u001b[0m\u001b[1moutput_dir\u001b[0m (NoneType): None\n",
      "\u001b[2m  │   ├─\u001b[0m\u001b[1moutput_ext\u001b[0m (str): .fits\n",
      "\u001b[2m  │   ├─\u001b[0m\u001b[1moutput_file\u001b[0m (NoneType): None\n",
      "\u001b[2m  │   ├─\u001b[0m\u001b[1moutput_use_index\u001b[0m (bool): True\n",
      "\u001b[2m  │   ├─\u001b[0m\u001b[1moutput_use_model\u001b[0m (bool): False\n",
      "\u001b[2m  │   ├─\u001b[0m\u001b[1mpost_hooks\u001b[0m (list)\n",
      "\u001b[2m  │   ├─\u001b[0m\u001b[1mpre_hooks\u001b[0m (list)\n",
      "\u001b[2m  │   ├─\u001b[0m\u001b[1msave_results\u001b[0m (bool): False\n",
      "\u001b[2m  │   ├─\u001b[0m\u001b[1msearch_output_file\u001b[0m (bool): True\n",
      "\u001b[2m  │   ├─\u001b[0m\u001b[1mskip\u001b[0m (bool): False\n",
      "\u001b[2m  │   └─\u001b[0m\u001b[1msuffix\u001b[0m (NoneType): None\n",
      "\u001b[2m  ├─\u001b[0m[\u001b[1m3\u001b[0m] (dict)\n",
      "\u001b[2m  │ ├─\u001b[0m\u001b[1mclass\u001b[0m (str): jwst.msaflagopen.msaflagopen_step.MSAFlagOpenStep\n",
      "\u001b[2m  │ ├─\u001b[0m\u001b[1mname\u001b[0m (str): msa_flagging\n",
      "\u001b[2m  │ └─\u001b[0m\u001b[1mparameters\u001b[0m (dict)\n",
      "\u001b[2m  │   ├─\u001b[0m\u001b[1minput_dir\u001b[0m (str): \n",
      "\u001b[2m  │   ├─\u001b[0m\u001b[1moutput_dir\u001b[0m (NoneType): None\n",
      "\u001b[2m  │   ├─\u001b[0m\u001b[1moutput_ext\u001b[0m (str): .fits\n",
      "\u001b[2m  │   ├─\u001b[0m\u001b[1moutput_file\u001b[0m (NoneType): None\n",
      "\u001b[2m  │   ├─\u001b[0m\u001b[1moutput_use_index\u001b[0m (bool): True\n",
      "\u001b[2m  │   ├─\u001b[0m\u001b[1moutput_use_model\u001b[0m (bool): False\n",
      "\u001b[2m  │   ├─\u001b[0m\u001b[1mpost_hooks\u001b[0m (list)\n",
      "\u001b[2m  │   ├─\u001b[0m\u001b[1mpre_hooks\u001b[0m (list)\n",
      "\u001b[2m  │   ├─\u001b[0m\u001b[1msave_results\u001b[0m (bool): False\n",
      "\u001b[2m  │   ├─\u001b[0m\u001b[1msearch_output_file\u001b[0m (bool): True\n",
      "\u001b[2m  │   ├─\u001b[0m\u001b[1mskip\u001b[0m (bool): False\n",
      "\u001b[2m  │   └─\u001b[0m\u001b[1msuffix\u001b[0m (NoneType): None\n",
      "\u001b[2m  ├─\u001b[0m[\u001b[1m4\u001b[0m] (dict)\n",
      "\u001b[2m  │ ├─\u001b[0m\u001b[1mclass\u001b[0m (str): jwst.extract_2d.extract_2d_step.Extract2dStep\n",
      "\u001b[2m  │ ├─\u001b[0m\u001b[1mname\u001b[0m (str): extract_2d\n",
      "\u001b[2m  │ └─\u001b[0m\u001b[1mparameters\u001b[0m (dict)\n",
      "\u001b[2m  │   ├─\u001b[0m\u001b[1mextract_orders\u001b[0m (NoneType): None\n",
      "\u001b[2m  │   ├─\u001b[0m\u001b[1mgrism_objects\u001b[0m (NoneType): None\n",
      "\u001b[2m  │   ├─\u001b[0m\u001b[1minput_dir\u001b[0m (str): \n",
      "\u001b[2m  │   ├─\u001b[0m\u001b[1moutput_dir\u001b[0m (NoneType): None\n",
      "\u001b[2m  │   ├─\u001b[0m\u001b[1moutput_ext\u001b[0m (str): .fits\n",
      "\u001b[2m  │   ├─\u001b[0m\u001b[1moutput_file\u001b[0m (NoneType): None\n",
      "\u001b[2m  │   ├─\u001b[0m\u001b[1moutput_use_index\u001b[0m (bool): True\n",
      "\u001b[2m  │   ├─\u001b[0m\u001b[1moutput_use_model\u001b[0m (bool): False\n",
      "\u001b[2m  │   ├─\u001b[0m\u001b[1mpost_hooks\u001b[0m (list)\n",
      "\u001b[2m  │   ├─\u001b[0m\u001b[1mpre_hooks\u001b[0m (list)\n",
      "\u001b[2m  │   ├─\u001b[0m\u001b[1msave_results\u001b[0m (bool): False\n",
      "\u001b[2m  │   ├─\u001b[0m\u001b[1msearch_output_file\u001b[0m (bool): True\n",
      "\u001b[2m  │   ├─\u001b[0m\u001b[1mskip\u001b[0m (bool): False\n",
      "\u001b[2m  │   ├─\u001b[0m\u001b[1mslit_name\u001b[0m (NoneType): None\n",
      "\u001b[2m  │   ├─\u001b[0m\u001b[1msuffix\u001b[0m (NoneType): None\n",
      "\u001b[2m  │   ├─\u001b[0m\u001b[1mtsgrism_extract_height\u001b[0m (NoneType): None\n",
      "\u001b[2m  │   ├─\u001b[0m\u001b[1mwfss_extract_half_height\u001b[0m (int): 5\n",
      "\u001b[2m  │   ├─\u001b[0m\u001b[1mwfss_mmag_extract\u001b[0m (NoneType): None\n",
      "\u001b[2m  │   └─\u001b[0m\u001b[1mwfss_nbright\u001b[0m (int): 1000\n",
      "\u001b[2m  ├─\u001b[0m[\u001b[1m5\u001b[0m] (dict)\n",
      "\u001b[2m  │ ├─\u001b[0m\u001b[1mclass\u001b[0m (str): jwst.master_background.master_background_mos_step.MasterBackgroundMosStep\n",
      "\u001b[2m  │ ├─\u001b[0m\u001b[1mname\u001b[0m (str): master_background_mos\n",
      "\u001b[2m  │ ├─\u001b[0m\u001b[1mparameters\u001b[0m (dict)\n",
      "\u001b[2m  │ │ ├─\u001b[0m\u001b[1mforce_subtract\u001b[0m (bool): False\n",
      "\u001b[2m  │ │ ├─\u001b[0m\u001b[1minput_dir\u001b[0m (str): \n",
      "\u001b[2m  │ │ ├─\u001b[0m\u001b[1minverse\u001b[0m (bool): False\n",
      "\u001b[2m  │ │ ├─\u001b[0m\u001b[1moutput_dir\u001b[0m (NoneType): None\n",
      "\u001b[2m  │ │ ├─\u001b[0m\u001b[1moutput_ext\u001b[0m (str): .fits\n",
      "\u001b[2m  │ │ ├─\u001b[0m\u001b[1moutput_file\u001b[0m (NoneType): None\n",
      "\u001b[2m  │ │ ├─\u001b[0m\u001b[1moutput_use_index\u001b[0m (bool): True\n",
      "\u001b[2m  │ │ ├─\u001b[0m\u001b[1moutput_use_model\u001b[0m (bool): True\n",
      "\u001b[2m  │ │ ├─\u001b[0m\u001b[1mpost_hooks\u001b[0m (list)\n",
      "\u001b[2m  │ │ ├─\u001b[0m\u001b[1mpre_hooks\u001b[0m (list)\n",
      "\u001b[2m  │ │ ├─\u001b[0m\u001b[1msave_background\u001b[0m (bool): False\n",
      "\u001b[2m  │ │ ├─\u001b[0m\u001b[1msave_results\u001b[0m (bool): False\n",
      "\u001b[2m  │ │ ├─\u001b[0m\u001b[1msearch_output_file\u001b[0m (bool): True\n",
      "\u001b[2m  │ │ ├─\u001b[0m\u001b[1mskip\u001b[0m (bool): False\n",
      "\u001b[2m  │ │ ├─\u001b[0m\u001b[1msuffix\u001b[0m (NoneType): None\n",
      "\u001b[2m  │ │ └─\u001b[0m\u001b[1muser_background\u001b[0m (NoneType): None\n",
      "\u001b[2m  │ └─\u001b[0m\u001b[1msteps\u001b[0m (list)\n",
      "\u001b[2m  │   ├─\u001b[0m[\u001b[1m0\u001b[0m] (dict)\n",
      "\u001b[2m  │   │ ├─\u001b[0m\u001b[1mclass\u001b[0m (str): jwst.flatfield.flat_field_step.FlatFieldStep\n",
      "\u001b[2m  │   │ ├─\u001b[0m\u001b[1mname\u001b[0m (str): flat_field\n",
      "\u001b[2m  │   │ └─\u001b[0m\u001b[1mparameters\u001b[0m (dict)\n",
      "\u001b[2m  │   │   ├─\u001b[0m\u001b[1minput_dir\u001b[0m (str): \n",
      "\u001b[2m  │   │   ├─\u001b[0m\u001b[1minverse\u001b[0m (bool): False\n",
      "\u001b[2m  │   │   ├─\u001b[0m\u001b[1moutput_dir\u001b[0m (NoneType): None\n",
      "\u001b[2m  │   │   ├─\u001b[0m\u001b[1moutput_ext\u001b[0m (str): .fits\n",
      "\u001b[2m  │   │   ├─\u001b[0m\u001b[1moutput_file\u001b[0m (NoneType): None\n",
      "\u001b[2m  │   │   ├─\u001b[0m\u001b[1moutput_use_index\u001b[0m (bool): True\n",
      "\u001b[2m  │   │   ├─\u001b[0m\u001b[1moutput_use_model\u001b[0m (bool): False\n",
      "\u001b[2m  │   │   ├─\u001b[0m\u001b[1mpost_hooks\u001b[0m (list)\n",
      "\u001b[2m  │   │   ├─\u001b[0m\u001b[1mpre_hooks\u001b[0m (list)\n",
      "\u001b[2m  │   │   ├─\u001b[0m\u001b[1msave_interpolated_flat\u001b[0m (bool): False\n",
      "\u001b[2m  │   │   ├─\u001b[0m\u001b[1msave_results\u001b[0m (bool): False\n",
      "\u001b[2m  │   │   ├─\u001b[0m\u001b[1msearch_output_file\u001b[0m (bool): True\n",
      "\u001b[2m  │   │   ├─\u001b[0m\u001b[1mskip\u001b[0m (bool): False\n",
      "\u001b[2m  │   │   ├─\u001b[0m\u001b[1msuffix\u001b[0m (NoneType): None\n",
      "\u001b[2m  │   │   └─\u001b[0m\u001b[1muser_supplied_flat\u001b[0m (NoneType): None\n",
      "\u001b[2m  │   ├─\u001b[0m[\u001b[1m1\u001b[0m] (dict)\n",
      "\u001b[2m  │   │ ├─\u001b[0m\u001b[1mclass\u001b[0m (str): jwst.pathloss.pathloss_step.PathLossStep\n",
      "\u001b[2m  │   │ ├─\u001b[0m\u001b[1mname\u001b[0m (str): pathloss\n",
      "\u001b[2m  │   │ └─\u001b[0m\u001b[1mparameters\u001b[0m (dict)\n",
      "\u001b[2m  │   │   ├─\u001b[0m\u001b[1minput_dir\u001b[0m (str): \n",
      "\u001b[2m  │   │   ├─\u001b[0m\u001b[1minverse\u001b[0m (bool): False\n",
      "\u001b[2m  │   │   ├─\u001b[0m\u001b[1moutput_dir\u001b[0m (NoneType): None\n",
      "\u001b[2m  │   │   ├─\u001b[0m\u001b[1moutput_ext\u001b[0m (str): .fits\n",
      "\u001b[2m  │   │   ├─\u001b[0m\u001b[1moutput_file\u001b[0m (NoneType): None\n",
      "\u001b[2m  │   │   ├─\u001b[0m\u001b[1moutput_use_index\u001b[0m (bool): True\n",
      "\u001b[2m  │   │   ├─\u001b[0m\u001b[1moutput_use_model\u001b[0m (bool): False\n",
      "\u001b[2m  │   │   ├─\u001b[0m\u001b[1mpost_hooks\u001b[0m (list)\n",
      "\u001b[2m  │   │   ├─\u001b[0m\u001b[1mpre_hooks\u001b[0m (list)\n",
      "\u001b[2m  │   │   ├─\u001b[0m\u001b[1msave_results\u001b[0m (bool): False\n",
      "\u001b[2m  │   │   ├─\u001b[0m\u001b[1msearch_output_file\u001b[0m (bool): True\n",
      "\u001b[2m  │   │   ├─\u001b[0m\u001b[1mskip\u001b[0m (bool): False\n",
      "\u001b[2m  │   │   ├─\u001b[0m\u001b[1msource_type\u001b[0m (NoneType): None\n",
      "\u001b[2m  │   │   └─\u001b[0m\u001b[1msuffix\u001b[0m (NoneType): None\n",
      "\u001b[2m  │   ├─\u001b[0m[\u001b[1m2\u001b[0m] (dict)\n",
      "\u001b[2m  │   │ ├─\u001b[0m\u001b[1mclass\u001b[0m (str): jwst.barshadow.barshadow_step.BarShadowStep\n",
      "\u001b[2m  │   │ ├─\u001b[0m\u001b[1mname\u001b[0m (str): barshadow\n",
      "\u001b[2m  │   │ └─\u001b[0m\u001b[1mparameters\u001b[0m (dict)\n",
      "\u001b[2m  │   │   ├─\u001b[0m\u001b[1minput_dir\u001b[0m (str): \n",
      "\u001b[2m  │   │   ├─\u001b[0m\u001b[1minverse\u001b[0m (bool): False\n",
      "\u001b[2m  │   │   ├─\u001b[0m\u001b[1moutput_dir\u001b[0m (NoneType): None\n",
      "\u001b[2m  │   │   ├─\u001b[0m\u001b[1moutput_ext\u001b[0m (str): .fits\n",
      "\u001b[2m  │   │   ├─\u001b[0m\u001b[1moutput_file\u001b[0m (NoneType): None\n",
      "\u001b[2m  │   │   ├─\u001b[0m\u001b[1moutput_use_index\u001b[0m (bool): True\n",
      "\u001b[2m  │   │   ├─\u001b[0m\u001b[1moutput_use_model\u001b[0m (bool): False\n",
      "\u001b[2m  │   │   ├─\u001b[0m\u001b[1mpost_hooks\u001b[0m (list)\n",
      "\u001b[2m  │   │   ├─\u001b[0m\u001b[1mpre_hooks\u001b[0m (list)\n",
      "\u001b[2m  │   │   ├─\u001b[0m\u001b[1msave_results\u001b[0m (bool): False\n",
      "\u001b[2m  │   │   ├─\u001b[0m\u001b[1msearch_output_file\u001b[0m (bool): True\n",
      "\u001b[2m  │   │   ├─\u001b[0m\u001b[1mskip\u001b[0m (bool): False\n",
      "\u001b[2m  │   │   ├─\u001b[0m\u001b[1msource_type\u001b[0m (NoneType): None\n",
      "\u001b[2m  │   │   └─\u001b[0m\u001b[1msuffix\u001b[0m (NoneType): None\n",
      "\u001b[2m  │   └─\u001b[0m[\u001b[1m3\u001b[0m] (dict)\n",
      "\u001b[2m  │     ├─\u001b[0m\u001b[1mclass\u001b[0m (str): jwst.photom.photom_step.PhotomStep\n",
      "\u001b[2m  │     ├─\u001b[0m\u001b[1mname\u001b[0m (str): photom\n",
      "\u001b[2m  │     └─\u001b[0m\u001b[1mparameters\u001b[0m (dict)\n",
      "\u001b[2m  │       ├─\u001b[0m\u001b[1minput_dir\u001b[0m (str): \n",
      "\u001b[2m  │       ├─\u001b[0m\u001b[1minverse\u001b[0m (bool): False\n",
      "\u001b[2m  │       ├─\u001b[0m\u001b[1moutput_dir\u001b[0m (NoneType): None\n",
      "\u001b[2m  │       ├─\u001b[0m\u001b[1moutput_ext\u001b[0m (str): .fits\n",
      "\u001b[2m  │       ├─\u001b[0m\u001b[1moutput_file\u001b[0m (NoneType): None\n",
      "\u001b[2m  │       ├─\u001b[0m\u001b[1moutput_use_index\u001b[0m (bool): True\n",
      "\u001b[2m  │       ├─\u001b[0m\u001b[1moutput_use_model\u001b[0m (bool): False\n",
      "\u001b[2m  │       ├─\u001b[0m\u001b[1mpost_hooks\u001b[0m (list)\n",
      "\u001b[2m  │       ├─\u001b[0m\u001b[1mpre_hooks\u001b[0m (list)\n",
      "\u001b[2m  │       ├─\u001b[0m\u001b[1msave_results\u001b[0m (bool): False\n",
      "\u001b[2m  │       ├─\u001b[0m\u001b[1msearch_output_file\u001b[0m (bool): True\n",
      "\u001b[2m  │       ├─\u001b[0m\u001b[1mskip\u001b[0m (bool): False\n",
      "\u001b[2m  │       ├─\u001b[0m\u001b[1msource_type\u001b[0m (NoneType): None\n",
      "\u001b[2m  │       └─\u001b[0m\u001b[1msuffix\u001b[0m (NoneType): None\n",
      "\u001b[2m  ├─\u001b[0m[\u001b[1m6\u001b[0m] (dict)\n",
      "\u001b[2m  │ ├─\u001b[0m\u001b[1mclass\u001b[0m (str): jwst.wavecorr.wavecorr_step.WavecorrStep\n",
      "\u001b[2m  │ ├─\u001b[0m\u001b[1mname\u001b[0m (str): wavecorr\n",
      "\u001b[2m  │ └─\u001b[0m\u001b[1mparameters\u001b[0m (dict)\n",
      "\u001b[2m  │   ├─\u001b[0m\u001b[1minput_dir\u001b[0m (str): \n",
      "\u001b[2m  │   ├─\u001b[0m\u001b[1moutput_dir\u001b[0m (NoneType): None\n",
      "\u001b[2m  │   ├─\u001b[0m\u001b[1moutput_ext\u001b[0m (str): .fits\n",
      "\u001b[2m  │   ├─\u001b[0m\u001b[1moutput_file\u001b[0m (NoneType): None\n",
      "\u001b[2m  │   ├─\u001b[0m\u001b[1moutput_use_index\u001b[0m (bool): True\n",
      "\u001b[2m  │   ├─\u001b[0m\u001b[1moutput_use_model\u001b[0m (bool): False\n",
      "\u001b[2m  │   ├─\u001b[0m\u001b[1mpost_hooks\u001b[0m (list)\n",
      "\u001b[2m  │   ├─\u001b[0m\u001b[1mpre_hooks\u001b[0m (list)\n",
      "\u001b[2m  │   ├─\u001b[0m\u001b[1msave_results\u001b[0m (bool): False\n",
      "\u001b[2m  │   ├─\u001b[0m\u001b[1msearch_output_file\u001b[0m (bool): True\n",
      "\u001b[2m  │   ├─\u001b[0m\u001b[1mskip\u001b[0m (bool): False\n",
      "\u001b[2m  │   └─\u001b[0m\u001b[1msuffix\u001b[0m (NoneType): None\n",
      "\u001b[2m  ├─\u001b[0m[\u001b[1m7\u001b[0m] (dict)\n",
      "\u001b[2m  │ ├─\u001b[0m\u001b[1mclass\u001b[0m (str): jwst.flatfield.flat_field_step.FlatFieldStep\n",
      "\u001b[2m  │ ├─\u001b[0m\u001b[1mname\u001b[0m (str): flat_field\n",
      "\u001b[2m  │ └─\u001b[0m\u001b[1mparameters\u001b[0m (dict)\n",
      "\u001b[2m  │   ├─\u001b[0m\u001b[1minput_dir\u001b[0m (str): \n",
      "\u001b[2m  │   ├─\u001b[0m\u001b[1minverse\u001b[0m (bool): False\n",
      "\u001b[2m  │   ├─\u001b[0m\u001b[1moutput_dir\u001b[0m (NoneType): None\n",
      "\u001b[2m  │   ├─\u001b[0m\u001b[1moutput_ext\u001b[0m (str): .fits\n",
      "\u001b[2m  │   ├─\u001b[0m\u001b[1moutput_file\u001b[0m (NoneType): None\n",
      "\u001b[2m  │   ├─\u001b[0m\u001b[1moutput_use_index\u001b[0m (bool): True\n",
      "\u001b[2m  │   ├─\u001b[0m\u001b[1moutput_use_model\u001b[0m (bool): False\n",
      "\u001b[2m  │   ├─\u001b[0m\u001b[1mpost_hooks\u001b[0m (list)\n",
      "\u001b[2m  │   ├─\u001b[0m\u001b[1mpre_hooks\u001b[0m (list)\n",
      "\u001b[2m  │   ├─\u001b[0m\u001b[1msave_interpolated_flat\u001b[0m (bool): False\n",
      "\u001b[2m  │   ├─\u001b[0m\u001b[1msave_results\u001b[0m (bool): False\n",
      "\u001b[2m  │   ├─\u001b[0m\u001b[1msearch_output_file\u001b[0m (bool): True\n",
      "\u001b[2m  │   ├─\u001b[0m\u001b[1mskip\u001b[0m (bool): False\n",
      "\u001b[2m  │   ├─\u001b[0m\u001b[1msuffix\u001b[0m (NoneType): None\n",
      "\u001b[2m  │   └─\u001b[0m\u001b[1muser_supplied_flat\u001b[0m (NoneType): None\n",
      "\u001b[2m  ├─\u001b[0m[\u001b[1m8\u001b[0m] (dict)\n",
      "\u001b[2m  │ ├─\u001b[0m\u001b[1mclass\u001b[0m (str): jwst.srctype.srctype_step.SourceTypeStep\n",
      "\u001b[2m  │ ├─\u001b[0m\u001b[1mname\u001b[0m (str): srctype\n",
      "\u001b[2m  │ └─\u001b[0m\u001b[1mparameters\u001b[0m (dict)\n",
      "\u001b[2m  │   ├─\u001b[0m\u001b[1minput_dir\u001b[0m (str): \n",
      "\u001b[2m  │   ├─\u001b[0m\u001b[1moutput_dir\u001b[0m (NoneType): None\n",
      "\u001b[2m  │   ├─\u001b[0m\u001b[1moutput_ext\u001b[0m (str): .fits\n",
      "\u001b[2m  │   ├─\u001b[0m\u001b[1moutput_file\u001b[0m (NoneType): None\n",
      "\u001b[2m  │   ├─\u001b[0m\u001b[1moutput_use_index\u001b[0m (bool): True\n",
      "\u001b[2m  │   ├─\u001b[0m\u001b[1moutput_use_model\u001b[0m (bool): False\n",
      "\u001b[2m  │   ├─\u001b[0m\u001b[1mpost_hooks\u001b[0m (list)\n",
      "\u001b[2m  │   ├─\u001b[0m\u001b[1mpre_hooks\u001b[0m (list)\n",
      "\u001b[2m  │   ├─\u001b[0m\u001b[1msave_results\u001b[0m (bool): False\n",
      "\u001b[2m  │   ├─\u001b[0m\u001b[1msearch_output_file\u001b[0m (bool): True\n",
      "\u001b[2m  │   ├─\u001b[0m\u001b[1mskip\u001b[0m (bool): False\n",
      "\u001b[2m  │   ├─\u001b[0m\u001b[1msource_type\u001b[0m (NoneType): None\n",
      "\u001b[2m  │   └─\u001b[0m\u001b[1msuffix\u001b[0m (NoneType): None\n",
      "\u001b[2m  ├─\u001b[0m[\u001b[1m9\u001b[0m] (dict)\n",
      "\u001b[2m  │ ├─\u001b[0m\u001b[1mclass\u001b[0m (str): jwst.straylight.straylight_step.StraylightStep\n",
      "\u001b[2m  │ ├─\u001b[0m\u001b[1mname\u001b[0m (str): straylight\n",
      "\u001b[2m  │ └─\u001b[0m\u001b[1mparameters\u001b[0m (dict)\n",
      "\u001b[2m  │   ├─\u001b[0m\u001b[1minput_dir\u001b[0m (str): \n",
      "\u001b[2m  │   ├─\u001b[0m\u001b[1moutput_dir\u001b[0m (NoneType): None\n",
      "\u001b[2m  │   ├─\u001b[0m\u001b[1moutput_ext\u001b[0m (str): .fits\n",
      "\u001b[2m  │   ├─\u001b[0m\u001b[1moutput_file\u001b[0m (NoneType): None\n",
      "\u001b[2m  │   ├─\u001b[0m\u001b[1moutput_use_index\u001b[0m (bool): True\n",
      "\u001b[2m  │   ├─\u001b[0m\u001b[1moutput_use_model\u001b[0m (bool): False\n",
      "\u001b[2m  │   ├─\u001b[0m\u001b[1mpost_hooks\u001b[0m (list)\n",
      "\u001b[2m  │   ├─\u001b[0m\u001b[1mpre_hooks\u001b[0m (list)\n",
      "\u001b[2m  │   ├─\u001b[0m\u001b[1msave_results\u001b[0m (bool): False\n",
      "\u001b[2m  │   ├─\u001b[0m\u001b[1msearch_output_file\u001b[0m (bool): True\n",
      "\u001b[2m  │   ├─\u001b[0m\u001b[1mskip\u001b[0m (bool): False\n",
      "\u001b[2m  │   └─\u001b[0m\u001b[1msuffix\u001b[0m (NoneType): None\n",
      "\u001b[2m  ├─\u001b[0m[\u001b[1m10\u001b[0m] (dict)\n",
      "\u001b[2m  │ ├─\u001b[0m\u001b[1mclass\u001b[0m (str): jwst.fringe.fringe_step.FringeStep\n",
      "\u001b[2m  │ ├─\u001b[0m\u001b[1mname\u001b[0m (str): fringe\n",
      "\u001b[2m  │ └─\u001b[0m\u001b[1mparameters\u001b[0m (dict)\n",
      "\u001b[2m  │   ├─\u001b[0m\u001b[1minput_dir\u001b[0m (str): \n",
      "\u001b[2m  │   ├─\u001b[0m\u001b[1moutput_dir\u001b[0m (NoneType): None\n",
      "\u001b[2m  │   ├─\u001b[0m\u001b[1moutput_ext\u001b[0m (str): .fits\n",
      "\u001b[2m  │   ├─\u001b[0m\u001b[1moutput_file\u001b[0m (NoneType): None\n",
      "\u001b[2m  │   ├─\u001b[0m\u001b[1moutput_use_index\u001b[0m (bool): True\n",
      "\u001b[2m  │   ├─\u001b[0m\u001b[1moutput_use_model\u001b[0m (bool): False\n",
      "\u001b[2m  │   ├─\u001b[0m\u001b[1mpost_hooks\u001b[0m (list)\n",
      "\u001b[2m  │   ├─\u001b[0m\u001b[1mpre_hooks\u001b[0m (list)\n",
      "\u001b[2m  │   ├─\u001b[0m\u001b[1msave_results\u001b[0m (bool): False\n",
      "\u001b[2m  │   ├─\u001b[0m\u001b[1msearch_output_file\u001b[0m (bool): True\n",
      "\u001b[2m  │   ├─\u001b[0m\u001b[1mskip\u001b[0m (bool): False\n",
      "\u001b[2m  │   └─\u001b[0m\u001b[1msuffix\u001b[0m (NoneType): None\n",
      "\u001b[2m  ├─\u001b[0m[\u001b[1m11\u001b[0m] (dict)\n",
      "\u001b[2m  │ ├─\u001b[0m\u001b[1mclass\u001b[0m (str): jwst.residual_fringe.residual_fringe_step.ResidualFringeStep\n",
      "\u001b[2m  │ ├─\u001b[0m\u001b[1mname\u001b[0m (str): residual_fringe\n",
      "\u001b[2m  │ └─\u001b[0m\u001b[1mparameters\u001b[0m (dict)\n",
      "\u001b[2m  │   ├─\u001b[0m\u001b[1mignore_region_max\u001b[0m (NoneType): None\n",
      "\u001b[2m  │   ├─\u001b[0m\u001b[1mignore_region_min\u001b[0m (NoneType): None\n",
      "\u001b[2m  │   ├─\u001b[0m\u001b[1minput_dir\u001b[0m (str): \n",
      "\u001b[2m  │   ├─\u001b[0m\u001b[1moutput_dir\u001b[0m (NoneType): None\n",
      "\u001b[2m  │   ├─\u001b[0m\u001b[1moutput_ext\u001b[0m (str): .fits\n",
      "\u001b[2m  │   ├─\u001b[0m\u001b[1moutput_file\u001b[0m (NoneType): None\n",
      "\u001b[2m  │   ├─\u001b[0m\u001b[1moutput_use_index\u001b[0m (bool): True\n",
      "\u001b[2m  │   ├─\u001b[0m\u001b[1moutput_use_model\u001b[0m (bool): False\n",
      "\u001b[2m  │   ├─\u001b[0m\u001b[1mpost_hooks\u001b[0m (list)\n",
      "\u001b[2m  │   ├─\u001b[0m\u001b[1mpre_hooks\u001b[0m (list)\n",
      "\u001b[2m  │   ├─\u001b[0m\u001b[1msave_intermediate_results\u001b[0m (bool): False\n",
      "\u001b[2m  │   ├─\u001b[0m\u001b[1msave_results\u001b[0m (bool): False\n",
      "\u001b[2m  │   ├─\u001b[0m\u001b[1msearch_output_file\u001b[0m (bool): False\n",
      "\u001b[2m  │   ├─\u001b[0m\u001b[1mskip\u001b[0m (bool): True\n",
      "\u001b[2m  │   └─\u001b[0m\u001b[1msuffix\u001b[0m (str): residual_fringe\n",
      "\u001b[2m  ├─\u001b[0m[\u001b[1m12\u001b[0m] (dict)\n",
      "\u001b[2m  │ ├─\u001b[0m\u001b[1mclass\u001b[0m (str): jwst.pathloss.pathloss_step.PathLossStep\n",
      "\u001b[2m  │ ├─\u001b[0m\u001b[1mname\u001b[0m (str): pathloss\n",
      "\u001b[2m  │ └─\u001b[0m\u001b[1mparameters\u001b[0m (dict)\n",
      "\u001b[2m  │   ├─\u001b[0m\u001b[1minput_dir\u001b[0m (str): \n",
      "\u001b[2m  │   ├─\u001b[0m\u001b[1minverse\u001b[0m (bool): False\n",
      "\u001b[2m  │   ├─\u001b[0m\u001b[1moutput_dir\u001b[0m (NoneType): None\n",
      "\u001b[2m  │   ├─\u001b[0m\u001b[1moutput_ext\u001b[0m (str): .fits\n",
      "\u001b[2m  │   ├─\u001b[0m\u001b[1moutput_file\u001b[0m (NoneType): None\n",
      "\u001b[2m  │   ├─\u001b[0m\u001b[1moutput_use_index\u001b[0m (bool): True\n",
      "\u001b[2m  │   ├─\u001b[0m\u001b[1moutput_use_model\u001b[0m (bool): False\n",
      "\u001b[2m  │   ├─\u001b[0m\u001b[1mpost_hooks\u001b[0m (list)\n",
      "\u001b[2m  │   ├─\u001b[0m\u001b[1mpre_hooks\u001b[0m (list)\n",
      "\u001b[2m  │   ├─\u001b[0m\u001b[1msave_results\u001b[0m (bool): False\n",
      "\u001b[2m  │   ├─\u001b[0m\u001b[1msearch_output_file\u001b[0m (bool): True\n",
      "\u001b[2m  │   ├─\u001b[0m\u001b[1mskip\u001b[0m (bool): False\n",
      "\u001b[2m  │   ├─\u001b[0m\u001b[1msource_type\u001b[0m (NoneType): None\n",
      "\u001b[2m  │   └─\u001b[0m\u001b[1msuffix\u001b[0m (NoneType): None\n",
      "\u001b[2m  ├─\u001b[0m[\u001b[1m13\u001b[0m] (dict)\n",
      "\u001b[2m  │ ├─\u001b[0m\u001b[1mclass\u001b[0m (str): jwst.barshadow.barshadow_step.BarShadowStep\n",
      "\u001b[2m  │ ├─\u001b[0m\u001b[1mname\u001b[0m (str): barshadow\n",
      "\u001b[2m  │ └─\u001b[0m\u001b[1mparameters\u001b[0m (dict)\n",
      "\u001b[2m  │   ├─\u001b[0m\u001b[1minput_dir\u001b[0m (str): \n",
      "\u001b[2m  │   ├─\u001b[0m\u001b[1minverse\u001b[0m (bool): False\n",
      "\u001b[2m  │   ├─\u001b[0m\u001b[1moutput_dir\u001b[0m (NoneType): None\n",
      "\u001b[2m  │   ├─\u001b[0m\u001b[1moutput_ext\u001b[0m (str): .fits\n",
      "\u001b[2m  │   ├─\u001b[0m\u001b[1moutput_file\u001b[0m (NoneType): None\n",
      "\u001b[2m  │   ├─\u001b[0m\u001b[1moutput_use_index\u001b[0m (bool): True\n",
      "\u001b[2m  │   ├─\u001b[0m\u001b[1moutput_use_model\u001b[0m (bool): False\n",
      "\u001b[2m  │   ├─\u001b[0m\u001b[1mpost_hooks\u001b[0m (list)\n",
      "\u001b[2m  │   ├─\u001b[0m\u001b[1mpre_hooks\u001b[0m (list)\n",
      "\u001b[2m  │   ├─\u001b[0m\u001b[1msave_results\u001b[0m (bool): False\n",
      "\u001b[2m  │   ├─\u001b[0m\u001b[1msearch_output_file\u001b[0m (bool): True\n",
      "\u001b[2m  │   ├─\u001b[0m\u001b[1mskip\u001b[0m (bool): False\n",
      "\u001b[2m  │   ├─\u001b[0m\u001b[1msource_type\u001b[0m (NoneType): None\n",
      "\u001b[2m  │   └─\u001b[0m\u001b[1msuffix\u001b[0m (NoneType): None\n",
      "\u001b[2m  ├─\u001b[0m[\u001b[1m14\u001b[0m] (dict)\n",
      "\u001b[2m  │ ├─\u001b[0m\u001b[1mclass\u001b[0m (str): jwst.wfss_contam.wfss_contam_step.WfssContamStep\n",
      "\u001b[2m  │ ├─\u001b[0m\u001b[1mname\u001b[0m (str): wfss_contam\n",
      "\u001b[2m  │ └─\u001b[0m\u001b[1mparameters\u001b[0m (dict)\n",
      "\u001b[2m  │   ├─\u001b[0m\u001b[1minput_dir\u001b[0m (str): \n",
      "\u001b[2m  │   ├─\u001b[0m\u001b[1mmaximum_cores\u001b[0m (str): none\n",
      "\u001b[2m  │   ├─\u001b[0m\u001b[1moutput_dir\u001b[0m (NoneType): None\n",
      "\u001b[2m  │   ├─\u001b[0m\u001b[1moutput_ext\u001b[0m (str): .fits\n",
      "\u001b[2m  │   ├─\u001b[0m\u001b[1moutput_file\u001b[0m (NoneType): None\n",
      "\u001b[2m  │   ├─\u001b[0m\u001b[1moutput_use_index\u001b[0m (bool): True\n",
      "\u001b[2m  │   ├─\u001b[0m\u001b[1moutput_use_model\u001b[0m (bool): False\n",
      "\u001b[2m  │   ├─\u001b[0m\u001b[1mpost_hooks\u001b[0m (list)\n",
      "\u001b[2m  │   ├─\u001b[0m\u001b[1mpre_hooks\u001b[0m (list)\n",
      "\u001b[2m  │   ├─\u001b[0m\u001b[1msave_contam_images\u001b[0m (bool): False\n",
      "\u001b[2m  │   ├─\u001b[0m\u001b[1msave_results\u001b[0m (bool): False\n",
      "\u001b[2m  │   ├─\u001b[0m\u001b[1msave_simulated_image\u001b[0m (bool): False\n",
      "\u001b[2m  │   ├─\u001b[0m\u001b[1msearch_output_file\u001b[0m (bool): True\n",
      "\u001b[2m  │   ├─\u001b[0m\u001b[1mskip\u001b[0m (bool): True\n",
      "\u001b[2m  │   └─\u001b[0m\u001b[1msuffix\u001b[0m (NoneType): None\n",
      "\u001b[2m  ├─\u001b[0m[\u001b[1m15\u001b[0m] (dict)\n",
      "\u001b[2m  │ ├─\u001b[0m\u001b[1mclass\u001b[0m (str): jwst.photom.photom_step.PhotomStep\n",
      "\u001b[2m  │ ├─\u001b[0m\u001b[1mname\u001b[0m (str): photom\n",
      "\u001b[2m  │ └─\u001b[0m\u001b[1mparameters\u001b[0m (dict)\n",
      "\u001b[2m  │   ├─\u001b[0m\u001b[1minput_dir\u001b[0m (str): \n",
      "\u001b[2m  │   ├─\u001b[0m\u001b[1minverse\u001b[0m (bool): False\n",
      "\u001b[2m  │   ├─\u001b[0m\u001b[1moutput_dir\u001b[0m (NoneType): None\n",
      "\u001b[2m  │   ├─\u001b[0m\u001b[1moutput_ext\u001b[0m (str): .fits\n",
      "\u001b[2m  │   ├─\u001b[0m\u001b[1moutput_file\u001b[0m (NoneType): None\n",
      "\u001b[2m  │   ├─\u001b[0m\u001b[1moutput_use_index\u001b[0m (bool): True\n",
      "\u001b[2m  │   ├─\u001b[0m\u001b[1moutput_use_model\u001b[0m (bool): False\n",
      "\u001b[2m  │   ├─\u001b[0m\u001b[1mpost_hooks\u001b[0m (list)\n",
      "\u001b[2m  │   ├─\u001b[0m\u001b[1mpre_hooks\u001b[0m (list)\n",
      "\u001b[2m  │   ├─\u001b[0m\u001b[1msave_results\u001b[0m (bool): False\n",
      "\u001b[2m  │   ├─\u001b[0m\u001b[1msearch_output_file\u001b[0m (bool): True\n",
      "\u001b[2m  │   ├─\u001b[0m\u001b[1mskip\u001b[0m (bool): False\n",
      "\u001b[2m  │   ├─\u001b[0m\u001b[1msource_type\u001b[0m (NoneType): None\n",
      "\u001b[2m  │   └─\u001b[0m\u001b[1msuffix\u001b[0m (NoneType): None\n",
      "\u001b[2m  ├─\u001b[0m[\u001b[1m16\u001b[0m] (dict)\n",
      "\u001b[2m  │ ├─\u001b[0m\u001b[1mclass\u001b[0m (str): jwst.resample.resample_spec_step.ResampleSpecStep\n",
      "\u001b[2m  │ ├─\u001b[0m\u001b[1mname\u001b[0m (str): resample_spec\n",
      "\u001b[2m  │ └─\u001b[0m\u001b[1mparameters\u001b[0m (dict)\n",
      "\u001b[2m  │   ├─\u001b[0m\u001b[1mallowed_memory\u001b[0m (NoneType): None\n",
      "\u001b[2m  │   ├─\u001b[0m\u001b[1mblendheaders\u001b[0m (bool): True\n",
      "\u001b[2m  │   ├─\u001b[0m\u001b[1mcrpix\u001b[0m (NoneType): None\n",
      "\u001b[2m  │   ├─\u001b[0m\u001b[1mcrval\u001b[0m (NoneType): None\n",
      "\u001b[2m  │   ├─\u001b[0m\u001b[1mfillval\u001b[0m (str): INDEF\n",
      "\u001b[2m  │   ├─\u001b[0m\u001b[1min_memory\u001b[0m (bool): True\n",
      "\u001b[2m  │   ├─\u001b[0m\u001b[1minput_dir\u001b[0m (str): \n",
      "\u001b[2m  │   ├─\u001b[0m\u001b[1mkernel\u001b[0m (str): square\n",
      "\u001b[2m  │   ├─\u001b[0m\u001b[1moutput_dir\u001b[0m (NoneType): None\n",
      "\u001b[2m  │   ├─\u001b[0m\u001b[1moutput_ext\u001b[0m (str): .fits\n",
      "\u001b[2m  │   ├─\u001b[0m\u001b[1moutput_file\u001b[0m (NoneType): None\n",
      "\u001b[2m  │   ├─\u001b[0m\u001b[1moutput_shape\u001b[0m (NoneType): None\n",
      "\u001b[2m  │   ├─\u001b[0m\u001b[1moutput_use_index\u001b[0m (bool): True\n",
      "\u001b[2m  │   ├─\u001b[0m\u001b[1moutput_use_model\u001b[0m (bool): False\n",
      "\u001b[2m  │   ├─\u001b[0m\u001b[1mpixel_scale\u001b[0m (NoneType): None\n",
      "\u001b[2m  │   ├─\u001b[0m\u001b[1mpixel_scale_ratio\u001b[0m (float): 1.0\n",
      "\u001b[2m  │   ├─\u001b[0m\u001b[1mpixfrac\u001b[0m (float): 1.0\n",
      "\u001b[2m  │   ├─\u001b[0m\u001b[1mpost_hooks\u001b[0m (list)\n",
      "\u001b[2m  │   ├─\u001b[0m\u001b[1mpre_hooks\u001b[0m (list)\n",
      "\u001b[2m  │   ├─\u001b[0m\u001b[1mrotation\u001b[0m (NoneType): None\n",
      "\u001b[2m  │   ├─\u001b[0m\u001b[1msave_results\u001b[0m (bool): False\n",
      "\u001b[2m  │   ├─\u001b[0m\u001b[1msearch_output_file\u001b[0m (bool): True\n",
      "\u001b[2m  │   ├─\u001b[0m\u001b[1msingle\u001b[0m (bool): False\n",
      "\u001b[2m  │   ├─\u001b[0m\u001b[1mskip\u001b[0m (bool): False\n",
      "\u001b[2m  │   ├─\u001b[0m\u001b[1msuffix\u001b[0m (NoneType): None\n",
      "\u001b[2m  │   └─\u001b[0m\u001b[1mweight_type\u001b[0m (str): ivm\n",
      "\u001b[2m  ├─\u001b[0m[\u001b[1m17\u001b[0m] (dict)\n",
      "\u001b[2m  │ ├─\u001b[0m\u001b[1mclass\u001b[0m (str): jwst.cube_build.cube_build_step.CubeBuildStep\n",
      "\u001b[2m  │ ├─\u001b[0m\u001b[1mname\u001b[0m (str): cube_build\n",
      "\u001b[2m  │ └─\u001b[0m\u001b[1mparameters\u001b[0m (dict)\n",
      "\u001b[2m  │   ├─\u001b[0m\u001b[1mband\u001b[0m (str): all\n",
      "\u001b[2m  │   ├─\u001b[0m\u001b[1mchannel\u001b[0m (str): all\n",
      "\u001b[2m  │   ├─\u001b[0m\u001b[1mcoord_system\u001b[0m (str): skyalign\n",
      "\u001b[2m  │   ├─\u001b[0m\u001b[1mfilter\u001b[0m (str): all\n",
      "\u001b[2m  │   ├─\u001b[0m\u001b[1mgrating\u001b[0m (str): all\n",
      "\u001b[2m  │   ├─\u001b[0m\u001b[1minput_dir\u001b[0m (str): \n",
      "\u001b[2m  │   ├─\u001b[0m\u001b[1moutput_dir\u001b[0m (NoneType): None\n",
      "\u001b[2m  │   ├─\u001b[0m\u001b[1moutput_ext\u001b[0m (str): .fits\n",
      "\u001b[2m  │   ├─\u001b[0m\u001b[1moutput_file\u001b[0m (NoneType): None\n",
      "\u001b[2m  │   ├─\u001b[0m\u001b[1moutput_type\u001b[0m (str): band\n",
      "\u001b[2m  │   ├─\u001b[0m\u001b[1moutput_use_index\u001b[0m (bool): True\n",
      "\u001b[2m  │   ├─\u001b[0m\u001b[1moutput_use_model\u001b[0m (bool): True\n",
      "\u001b[2m  │   ├─\u001b[0m\u001b[1mpost_hooks\u001b[0m (list)\n",
      "\u001b[2m  │   ├─\u001b[0m\u001b[1mpre_hooks\u001b[0m (list)\n",
      "\u001b[2m  │   ├─\u001b[0m\u001b[1mrois\u001b[0m (float): 0.0\n",
      "\u001b[2m  │   ├─\u001b[0m\u001b[1mroiw\u001b[0m (float): 0.0\n",
      "\u001b[2m  │   ├─\u001b[0m\u001b[1msave_results\u001b[0m (bool): False\n",
      "\u001b[2m  │   ├─\u001b[0m\u001b[1mscale1\u001b[0m (float): 0.0\n",
      "\u001b[2m  │   ├─\u001b[0m\u001b[1mscale2\u001b[0m (float): 0.0\n",
      "\u001b[2m  │   ├─\u001b[0m\u001b[1mscalew\u001b[0m (float): 0.0\n",
      "\u001b[2m  │   ├─\u001b[0m\u001b[1msearch_output_file\u001b[0m (bool): False\n",
      "\u001b[2m  │   ├─\u001b[0m\u001b[1msingle\u001b[0m (bool): False\n",
      "\u001b[2m  │   ├─\u001b[0m\u001b[1mskip\u001b[0m (bool): False\n",
      "\u001b[2m  │   ├─\u001b[0m\u001b[1mskip_dqflagging\u001b[0m (bool): False\n",
      "\u001b[2m  │   ├─\u001b[0m\u001b[1msuffix\u001b[0m (NoneType): None\n",
      "\u001b[2m  │   ├─\u001b[0m\u001b[1mwavemax\u001b[0m (NoneType): None\n",
      "\u001b[2m  │   ├─\u001b[0m\u001b[1mwavemin\u001b[0m (NoneType): None\n",
      "\u001b[2m  │   ├─\u001b[0m\u001b[1mweight_power\u001b[0m (float): 2.0\n",
      "\u001b[2m  │   └─\u001b[0m\u001b[1mweighting\u001b[0m (str): drizzle\n",
      "\u001b[2m  └─\u001b[0m[\u001b[1m18\u001b[0m] (dict)\n",
      "\u001b[2m    ├─\u001b[0m\u001b[1mclass\u001b[0m (str): jwst.extract_1d.extract_1d_step.Extract1dStep\n",
      "\u001b[2m    ├─\u001b[0m\u001b[1mname\u001b[0m (str): extract_1d\n",
      "\u001b[2m    └─\u001b[0m\u001b[1mparameters\u001b[0m (dict)\n",
      "\u001b[2m      ├─\u001b[0m\u001b[1mapply_apcorr\u001b[0m (bool): True\n",
      "\u001b[2m      ├─\u001b[0m\u001b[1mbkg_fit\u001b[0m (NoneType): None\n",
      "\u001b[2m      ├─\u001b[0m\u001b[1mbkg_order\u001b[0m (NoneType): None\n",
      "\u001b[2m      ├─\u001b[0m\u001b[1mbkg_sigma_clip\u001b[0m (float): 3.0\n",
      "\u001b[2m      ├─\u001b[0m\u001b[1mcenter_xy\u001b[0m (NoneType): None\n",
      "\u001b[2m      ├─\u001b[0m\u001b[1minput_dir\u001b[0m (str): \n",
      "\u001b[2m      ├─\u001b[0m\u001b[1mlog_increment\u001b[0m (int): 50\n",
      "\u001b[2m      ├─\u001b[0m\u001b[1moutput_dir\u001b[0m (NoneType): None\n",
      "\u001b[2m      ├─\u001b[0m\u001b[1moutput_ext\u001b[0m (str): .fits\n",
      "\u001b[2m      ├─\u001b[0m\u001b[1moutput_file\u001b[0m (NoneType): None\n",
      "\u001b[2m      ├─\u001b[0m\u001b[1moutput_use_index\u001b[0m (bool): True\n",
      "\u001b[2m      ├─\u001b[0m\u001b[1moutput_use_model\u001b[0m (bool): False\n",
      "\u001b[2m      ├─\u001b[0m\u001b[1mpost_hooks\u001b[0m (list)\n",
      "\u001b[2m      ├─\u001b[0m\u001b[1mpre_hooks\u001b[0m (list)\n",
      "\u001b[2m      ├─\u001b[0m\u001b[1msave_results\u001b[0m (bool): False\n",
      "\u001b[2m      ├─\u001b[0m\u001b[1msearch_output_file\u001b[0m (bool): True\n",
      "\u001b[2m      ├─\u001b[0m\u001b[1mskip\u001b[0m (bool): False\n",
      "\u001b[2m      ├─\u001b[0m\u001b[1msmoothing_length\u001b[0m (NoneType): None\n",
      "\u001b[2m      ├─\u001b[0m\u001b[1msoss_bad_pix\u001b[0m (str): model\n",
      "\u001b[2m      ├─\u001b[0m\u001b[1msoss_modelname\u001b[0m (NoneType): None\n",
      "\u001b[2m      ├─\u001b[0m\u001b[1msoss_n_os\u001b[0m (int): 2\n",
      "\u001b[2m      ├─\u001b[0m\u001b[1msoss_threshold\u001b[0m (float): 0.01\n",
      "\u001b[2m      ├─\u001b[0m\u001b[1msoss_tikfac\u001b[0m (NoneType): None\n",
      "\u001b[2m      ├─\u001b[0m\u001b[1msoss_transform\u001b[0m (NoneType): None\n",
      "\u001b[2m      ├─\u001b[0m\u001b[1msoss_width\u001b[0m (float): 40.0\n",
      "\u001b[2m      ├─\u001b[0m\u001b[1msubtract_background\u001b[0m (NoneType): None\n",
      "\u001b[2m      ├─\u001b[0m\u001b[1msuffix\u001b[0m (NoneType): None\n",
      "\u001b[2m      └─\u001b[0m\u001b[1muse_source_posn\u001b[0m (NoneType): None\n"
     ]
    }
   ],
   "source": [
    "spec2_reffile.info(max_rows=None)\n",
    "# or\n",
    "# spec2_reffile.tree"
   ]
  },
  {
   "cell_type": "markdown",
   "metadata": {},
   "source": [
    "The top part of the file contains various metadata entries about the file itself. Below that, you'll see a `'name'` entry, which lists `Spec2Pipeline` as the class to which these parameters apply. The next line contains the `parameters` entry, which lists parameters and values attached to the pipeline itself. Below this is the `steps` entry, which contains a list of dictionaries. Each dictionary refers to one step within the pipeline, and specifies parameters and values that apply to that step. If you look through these entries, you'll see the same parameters and values that we specified manually when using the `run()` method above."
   ]
  },
  {
   "cell_type": "markdown",
   "metadata": {},
   "source": [
    "Here's one way to programmatically edit a parameter reference file- it can be a bit tedious. It is often easier to open the ASDF file in a text editor and directly edit parameters."
   ]
  },
  {
   "cell_type": "code",
   "execution_count": 5,
   "metadata": {},
   "outputs": [],
   "source": [
    "for i in range(len(spec2_reffile[\"steps\"])):\n",
    "    if spec2_reffile[\"steps\"][i][\"name\"] == \"extract_2d\":\n",
    "        # Set minimum magnitude of objects to extract for WFSS data\n",
    "        spec2_reffile[\"steps\"][i][\"parameters\"][\"mmag_extract\"] = 20\n",
    "    elif spec2_reffile[\"steps\"][i][\"name\"] == \"extract_1d\":\n",
    "        # Fit a polynomial to the background values for each column or row\n",
    "        spec2_reffile[\"steps\"][i][\"parameters\"][\"bkg_fit\"] = \"poly\"\n",
    "    elif spec2_reffile[\"steps\"][i][\"name\"] == \"bkg_subtract\":\n",
    "        # Skip the default image-from-image background subtraction method\n",
    "        spec2_reffile[\"steps\"][i][\"parameters\"][\"skip\"] = True"
   ]
  },
  {
   "cell_type": "code",
   "execution_count": 6,
   "metadata": {},
   "outputs": [],
   "source": [
    "# Don't forget to close the file\n",
    "spec2_reffile.close()"
   ]
  },
  {
   "cell_type": "markdown",
   "metadata": {},
   "source": [
    "[Top of Notebook](#top)"
   ]
  },
  {
   "cell_type": "markdown",
   "metadata": {},
   "source": [
    "---\n",
    "<a id='spec2'></a>\n",
    "## The calwebb_spec2 pipeline: spectroscopic processing"
   ]
  },
  {
   "cell_type": "markdown",
   "metadata": {},
   "source": [
    "In the sections below, we will illustrate how to run the Stage 2 pipeline on a single input rate file. We will first show how to call the entire [*calwebb_spec2* pipeline](https://jwst-pipeline.readthedocs.io/en/latest/jwst/pipeline/calwebb_spec2.html#calwebb-spec2) on the file. The pipeline is a wrapper which wil']l string together all of the appropriate steps in the proper order. \n",
    "\n",
    "The final output from this call is a flux-calibrated exposure image which is ready to go into the Stage 3 pipeline.\n",
    "\n",
    "See [Figure 1](https://jwst-docs.stsci.edu/jwst-data-reduction-pipeline/stages-of-processing/calwebb_spec2) on the calwebb_spec2 algorithm page for a map of which steps are performed depending on spectroscopic mode."
   ]
  },
  {
   "cell_type": "markdown",
   "metadata": {},
   "source": [
    "<a id='spec2_at_once'></a>\n",
    "### Run the entire `calwebb_spec2` pipeline\n",
    "\n",
    "In this section we show how to run the entire calwebb_spec2 pipeline with a single call using the `run()`, `call()`, and `strun` methods. In this case the pipeline code can determine which instrument was used to collect the data and runs the appropriate steps in the proper order.\n",
    "\n",
    "You may set parameter values for some of the individual steps, save some outputs, etc, and then call the pipeline."
   ]
  },
  {
   "cell_type": "markdown",
   "metadata": {},
   "source": [
    "<a id='run_method'></a>\n",
    "#### Call the pipeline using the run() method"
   ]
  },
  {
   "cell_type": "markdown",
   "metadata": {},
   "source": [
    "When using the `run()` method to execute a pipeline (or step), the pipeline class is first instantiated without the data to be processed. Optional input parameters are specified using attributes of the class instance. Finally, the call to the `run()` method is made and the data are supplied.  See here for [more examples of the run() method](https://jwst-pipeline.readthedocs.io/en/stable/jwst/stpipe/call_via_run.html)."
   ]
  },
  {
   "cell_type": "markdown",
   "metadata": {},
   "source": [
    "The `run()` method does not take any kind of parameter reference file as input. If you wish to set values for various parameters, you must do that manually. Below, we set several parameters in order to show how it's done. \n",
    "\n",
    "How do you know what parameters are available to be set and what their default values are? The `spec` property for individual steps will list them. The property is less useful for the pipelines themselves, as it does not show the parameters for the steps comprising the pipeline.\n",
    "\n",
    "All steps and pipelines have several common parameters that can be set. \n",
    "\n",
    "* `save_results` specifies whether or not to save the output of that step/pipeline to a file. The default is False.\n",
    "* `output_dir` is the directory into which the output files will be saved.\n",
    "* `output_file` is the base filename to use for the saved result. Note that each step/pipeline will add a custom suffix onto output_file. "
   ]
  },
  {
   "cell_type": "markdown",
   "metadata": {},
   "source": [
    "<a id='spec2_using_run'></a>\n",
    "\n",
    "<div class=\"alert alert-block alert-info\">\n",
    "Here's how you would run the entire <i>calwebb_spec2</i> pipeline. When you run it, the output can be a little overwhelming. There will be multiple log entries printed to the screen for each step.\n",
    "</div>"
   ]
  },
  {
   "cell_type": "code",
   "execution_count": 5,
   "metadata": {
    "scrolled": true
   },
   "outputs": [
    {
     "name": "stderr",
     "output_type": "stream",
     "text": [
      "2022-10-12 15:40:15,364 - stpipe.Spec2Pipeline - INFO - Spec2Pipeline instance created.\n",
      "2022-10-12 15:40:15,366 - stpipe.Spec2Pipeline.bkg_subtract - INFO - BackgroundStep instance created.\n",
      "2022-10-12 15:40:15,368 - stpipe.Spec2Pipeline.assign_wcs - INFO - AssignWcsStep instance created.\n",
      "2022-10-12 15:40:15,370 - stpipe.Spec2Pipeline.imprint_subtract - INFO - ImprintStep instance created.\n",
      "2022-10-12 15:40:15,371 - stpipe.Spec2Pipeline.msa_flagging - INFO - MSAFlagOpenStep instance created.\n",
      "2022-10-12 15:40:15,373 - stpipe.Spec2Pipeline.extract_2d - INFO - Extract2dStep instance created.\n",
      "2022-10-12 15:40:15,377 - stpipe.Spec2Pipeline.master_background_mos - INFO - MasterBackgroundMosStep instance created.\n",
      "2022-10-12 15:40:15,378 - stpipe.Spec2Pipeline.master_background_mos.flat_field - INFO - FlatFieldStep instance created.\n",
      "2022-10-12 15:40:15,380 - stpipe.Spec2Pipeline.master_background_mos.pathloss - INFO - PathLossStep instance created.\n",
      "2022-10-12 15:40:15,382 - stpipe.Spec2Pipeline.master_background_mos.barshadow - INFO - BarShadowStep instance created.\n",
      "2022-10-12 15:40:15,385 - stpipe.Spec2Pipeline.master_background_mos.photom - INFO - PhotomStep instance created.\n",
      "2022-10-12 15:40:15,387 - stpipe.Spec2Pipeline.wavecorr - INFO - WavecorrStep instance created.\n",
      "2022-10-12 15:40:15,391 - stpipe.Spec2Pipeline.flat_field - INFO - FlatFieldStep instance created.\n",
      "2022-10-12 15:40:15,393 - stpipe.Spec2Pipeline.srctype - INFO - SourceTypeStep instance created.\n",
      "2022-10-12 15:40:15,395 - stpipe.Spec2Pipeline.straylight - INFO - StraylightStep instance created.\n",
      "2022-10-12 15:40:15,398 - stpipe.Spec2Pipeline.fringe - INFO - FringeStep instance created.\n",
      "2022-10-12 15:40:15,400 - stpipe.Spec2Pipeline.residual_fringe - INFO - ResidualFringeStep instance created.\n",
      "2022-10-12 15:40:15,403 - stpipe.Spec2Pipeline.pathloss - INFO - PathLossStep instance created.\n",
      "2022-10-12 15:40:15,405 - stpipe.Spec2Pipeline.barshadow - INFO - BarShadowStep instance created.\n",
      "2022-10-12 15:40:15,408 - stpipe.Spec2Pipeline.wfss_contam - INFO - WfssContamStep instance created.\n",
      "2022-10-12 15:40:15,411 - stpipe.Spec2Pipeline.photom - INFO - PhotomStep instance created.\n",
      "2022-10-12 15:40:15,413 - stpipe.Spec2Pipeline.resample_spec - INFO - ResampleSpecStep instance created.\n",
      "2022-10-12 15:40:15,416 - stpipe.Spec2Pipeline.cube_build - INFO - CubeBuildStep instance created.\n",
      "2022-10-12 15:40:15,418 - stpipe.Spec2Pipeline.extract_1d - INFO - Extract1dStep instance created.\n"
     ]
    }
   ],
   "source": [
    "# Create an instance of the pipeline class\n",
    "spec2 = Spec2Pipeline()\n",
    "\n",
    "# Set some parameters that pertain to the entire pipeline\n",
    "spec2.save_results = True\n",
    "spec2.output_dir = output_dir\n",
    "\n",
    "# Here you could some parameters that pertain to some of the individual steps\n",
    "# spec2.extract_2d.mmag_extract = 20 # Minimum magnitude of objects to extract for WFSS data\n",
    "# spec2.extract_1d.bkg_fit = 'poly' # Fit a polynomial to the background values for each column or row\n",
    "# spec2.bkg_subtract.skip = True # Skip the default image-from-image background subtraction method\n",
    "\n",
    "# Call the run() method, using an input rate file. \n",
    "# The line below is commented since we don't actually have a file to calibrate\n",
    "# result = spec2.run(rate_file)"
   ]
  },
  {
   "cell_type": "code",
   "execution_count": null,
   "metadata": {},
   "outputs": [],
   "source": [
    "rate_file = 'jw02767005001_03105_00002_nrs1_rate.fits'\n"
   ]
  },
  {
   "cell_type": "markdown",
   "metadata": {},
   "source": [
    "<a id='call_method'></a>\n",
    "#### Call the pipeline using the call() method"
   ]
  },
  {
   "cell_type": "markdown",
   "metadata": {},
   "source": [
    "When using the `call()` method, a single command will instantiate and run the pipeline (or step). The input data and optional parameter reference files are supplied in this single command. In this case, any desired input parameters cannot be set after instantiation, as with the `run()` method. See here for [example usage of call() method](https://jwst-pipeline.readthedocs.io/en/stable/jwst/stpipe/call_via_call.html).\n",
    "\n",
    "The commands below will call the pipeline using the `call()` method and will supply the parameter reference file. "
   ]
  },
  {
   "cell_type": "markdown",
   "metadata": {},
   "source": [
    "<div class=\"alert alert-block alert-info\">\n",
    "\n",
    "<b>Method #1:</b>\n",
    "<br>\n",
    "Provide the name of the observation file, the pipeline-specific input paramters, and the name of the parameter reference file that specifies step-specific parameters\n",
    "</div>"
   ]
  },
  {
   "cell_type": "raw",
   "metadata": {},
   "source": [
    "# To run this cell, you would need to change the cell type to \"Code\"\n",
    "rate_file = \n",
    "call_output = Spec2Pipeline.call(rate_file,\n",
    "                                 output_dir=output_dir,\n",
    "                                 save_results=True,\n",
    "                                 config_file=spec2_param_reffile)"
   ]
  },
  {
   "cell_type": "markdown",
   "metadata": {},
   "source": [
    "<div class=\"alert alert-block alert-info\">\n",
    "\n",
    "<b>Method #2:</b>\n",
    "<br>\n",
    "In this case, build a nested dictionary that specifies parameter values for various steps, and provide it in the call to call().\n",
    "</div>"
   ]
  },
  {
   "cell_type": "raw",
   "metadata": {},
   "source": [
    "# To run this cell, you would need to change the cell type to \"Code\"\n",
    "parameter_dict = {\"extract_2d\": {\"mmag_extract\": 20},\n",
    "                  \"extract_1d\": {\"bkg_fit\": \"poly\"},\n",
    "                  \"bkg_subtract\": {\"skip\": True}\n",
    "                 }\n",
    "call_output = Spec2Pipeline.call(rate_file, output_dir=output_dir, save_results=True, steps=parameter_dict)"
   ]
  },
  {
   "cell_type": "markdown",
   "metadata": {},
   "source": [
    "<a id='command_line'></a>\n",
    "#### Call the pipeline using the command line"
   ]
  },
  {
   "cell_type": "markdown",
   "metadata": {},
   "source": [
    "Calling a pipeline or step from the command line is similar to using the `call()` method. The data file to be processed, along with an optional parameter reference file and optional parameter/value pairs can be provided to the `strun` command. See here for [additional examples of command line calls](https://jwst-pipeline.readthedocs.io/en/stable/jwst/introduction.html?highlight=%22command%20line%22#running-from-the-command-line).\n",
    "\n",
    "The cells below contain two different command line commands that use `strun` to call the calwebb_spec2 pipeline. "
   ]
  },
  {
   "cell_type": "markdown",
   "metadata": {},
   "source": [
    "<div class=\"alert alert-block alert-info\">\n",
    "\n",
    "<b>Method #1:</b>\n",
    "<br>\n",
    "We provide the name of the pipeline class, the observation file, and explicitly set pipeline- and step-specific parameters. You can see that the command quickly becomes quite large with the added parameter settings. \n",
    "    \n",
    "```\n",
    "    strun jwst.pipeline.Spec2Pipeline myinput_rate.fits --save_results=True --output_dir='./' --steps.extract_2d.mmag_extract=20 --steps.extract_1d.bkg_fit='poly' --steps.bkg_subtract.skip=True\n",
    "```\n",
    "</div>"
   ]
  },
  {
   "cell_type": "markdown",
   "metadata": {},
   "source": [
    "<div class=\"alert alert-block alert-info\">\n",
    "\n",
    "<b>Method #2:</b>\n",
    "<br>\n",
    "This version of the command is much more succinct, as the parameter values to be set are all contained within the parameter reference file. The pipeline class is also contained in the parameter reference file, so there is no need to specify it in the command itself.\n",
    "    \n",
    "```\n",
    "    strun spec2_modified_paramfile.asdf myinput_rate.fits\n",
    "```\n",
    "</div>"
   ]
  },
  {
   "cell_type": "markdown",
   "metadata": {},
   "source": [
    "[Top of Notebook](#top)"
   ]
  },
  {
   "cell_type": "markdown",
   "metadata": {},
   "source": [
    "<a id='spec2_step_by_step'></a>\n",
    "## Run the individual pipeline steps"
   ]
  },
  {
   "cell_type": "markdown",
   "metadata": {},
   "source": [
    "In the sections below we explain what each step does and illustrate how to run it. We show only the `run()` method of executing steps, but the `call()` or `strun` methods could be used with the same syntax as shown above."
   ]
  },
  {
   "cell_type": "markdown",
   "metadata": {},
   "source": [
    "<a id='assign_wcs'></a>\n",
    "### The `Assign WCS` step\n",
    "\n",
    "#### Summary\n",
    "\n",
    "This step transforms positions in the detector frame to positions in a world coordinate system (WCS) - ICRS and wavelength. There may be intermediate coordinate frames depending on the instrument (e.g. from detector to slit frame). The WCS is saved in the ASDF extension of the FITS file, and it can be accessed as an attribute of the meta object when the fits file is opened as a datamodel. More information can be found at [assign_wcs](https://jwst-pipeline.readthedocs.io/en/stable/jwst/assign_wcs/index.html).\n",
    "\n",
    "#### Affected Modes\n",
    "This step is run for the following modes:\n",
    "- NIRSpec: all\n",
    "- MIRI: all\n",
    "- NIRISS: all\n",
    "- NIRCam: all\n",
    "\n",
    "#### Documentation\n",
    "\n",
    "[Full description](https://jwst-pipeline.readthedocs.io/en/stable/jwst/assign_wcs/main.html) of the step.\n",
    "\n",
    "#### Arguments\n",
    "\n",
    "There are no optional arguments for this step.\n",
    "\n",
    "#### Reference files used\n",
    "\n",
    "This step uses various reference files, see [`assign_wcs` reference files](https://jwst-pipeline.readthedocs.io/en/stable/jwst/assign_wcs/reference_files.html). \n"
   ]
  },
  {
   "cell_type": "markdown",
   "metadata": {},
   "source": [
    "#### Run the step"
   ]
  },
  {
   "cell_type": "raw",
   "metadata": {},
   "source": [
    "# To run this cell, you would need to change the cell type to \"Code\"\n",
    "# Using the run() method. Instantiate and set parameters\n",
    "step = AssignWcsStep()\n",
    "step.save_results = True\n",
    "step.output_dir = output_dir\n",
    "\n",
    "# Call the run() method\n",
    "result = step.run(rate_file)"
   ]
  },
  {
   "cell_type": "markdown",
   "metadata": {},
   "source": [
    "[Top of Notebook](#top)"
   ]
  },
  {
   "cell_type": "markdown",
   "metadata": {},
   "source": [
    "<a id='background'></a>\n",
    "## The `Background Subtraction` step\n",
    "\n",
    "#### Summary\n",
    "\n",
    "The background subtraction step performs image-from-image subtraction to remove the background signal. For non-WFSS modes, the step takes as input one target exposure and one or more background exposures, which are then subtracted from the target exposure. If more than one background exposure is provided, they will be averaged together first. The single or averaged background exposure is then subtracted from the SCI array of the target exposure, and the DQ arrays of the background and target exposures are combined using a bitwise OR operation. \n",
    "\n",
    "For WFSS exposures, a background reference image is scaled and subtracted from the target exposure.\n",
    "\n",
    "#### Documentation\n",
    "\n",
    "[Full description](https://jwst-pipeline.readthedocs.io/en/stable/jwst/background/description.html) of the step.\n",
    "\n",
    "#### Affected Modes\n",
    "This step is run for the following modes:\n",
    "- NIRSpec: all\n",
    "- MIRI: FS, MRS\n",
    "- NIRISS: all\n",
    "- NIRCam: all\n",
    "\n",
    "#### Arguments\n",
    "\n",
    "There are two optional arguments for this step that are only used for non-WFSS exposures. They are used in the process of creating an average background image, to control the sigma clipping. Please see the documentation for further details: [optional arguments](https://jwst-pipeline.readthedocs.io/en/latest/jwst/background_step/arguments.html).\n",
    "\n",
    "#### Reference files used\n",
    "\n",
    "This step uses reference files (`WFSSBKG` and `WAVELENGTHRANGE`) only when processing WFSS exposures, see [WFSS background reference files](https://jwst-pipeline.readthedocs.io/en/stable/jwst/background/reference_files.html)."
   ]
  },
  {
   "cell_type": "markdown",
   "metadata": {},
   "source": [
    "#### Run the step"
   ]
  },
  {
   "cell_type": "raw",
   "metadata": {},
   "source": [
    "# To run this cell, you would need to change the cell type to \"Code\"\n",
    "# Using the run() method. Instantiate and set parameters\n",
    "step = BackgroundStep()\n",
    "step.save_results = True\n",
    "step.output_dir = output_dir\n",
    "bkg_list = [background_img1, background_img2]\n",
    "\n",
    "# Call the run() method\n",
    "result = step.run(previous_result, bkg_list)"
   ]
  },
  {
   "cell_type": "markdown",
   "metadata": {},
   "source": [
    "[Top of Notebook](#top)"
   ]
  },
  {
   "cell_type": "markdown",
   "metadata": {},
   "source": [
    " <a id='imprint'> </a>\n",
    "## The `Imprint Subtraction` step\n",
    "\n",
    "#### Summary\n",
    "\n",
    "This is a NIRSpec-specific step, applied only to the MSA and IFU modes. The MSA metal grid of shutters is not completely opaque, allowing a small amount of light to leak through and create light patterns. Pattern removal is done by subtracting a dedicated exposure taken with all MSA shutters closed and the IFU entrance aperture blocked. This step requires two input parameters, the target exposure and the imprint exposure.\n",
    "\n",
    "#### Affected Modes\n",
    "This step is run for the following modes:\n",
    "- NIRSpec: MOS, IFU\n",
    "- MIRI: none\n",
    "- NIRISS: none\n",
    "- NIRCam: none\n",
    "\n",
    "#### Documentation\n",
    "\n",
    "[Full description](https://jwst-pipeline.readthedocs.io/en/stable/jwst/imprint/description.html) of the step.\n",
    "\n",
    "#### Arguments\n",
    "\n",
    "There are no optional arguments for this step.\n",
    "\n",
    "#### Reference files used\n",
    "\n",
    "This step uses no specific reference files.\n"
   ]
  },
  {
   "cell_type": "markdown",
   "metadata": {},
   "source": [
    "#### Run the step"
   ]
  },
  {
   "cell_type": "raw",
   "metadata": {},
   "source": [
    "# To run this cell, you would need to change the cell type to \"Code\"\n",
    "# Using the run() method. Instantiate and set parameters\n",
    "step = ImprintStep()\n",
    "step.save_results = True\n",
    "step.output_dir = output_dir\n",
    "msa_imprint = 'myinput_msa_imprint.fits'\n",
    "\n",
    "# Call the run() method\n",
    "result = step.run(previous_result, msa_imprint)"
   ]
  },
  {
   "cell_type": "markdown",
   "metadata": {},
   "source": [
    "[Top of Notebook](#top)"
   ]
  },
  {
   "cell_type": "markdown",
   "metadata": {},
   "source": [
    "<a id='msaflagging'></a>\n",
    "## The `MSA Flagging` step\n",
    "\n",
    "#### Summary\n",
    "\n",
    "This is a NIRSpec-specific step, applied only to the MSA and IFU modes. It flags pixels that are affected by MSA shutters that are stuck in the open position. \n",
    "\n",
    "#### Affected Modes\n",
    "This step is run for the following modes:\n",
    "- NIRSpec: MOS, IFU\n",
    "- MIRI: none\n",
    "- NIRISS: none\n",
    "- NIRCam: none\n",
    "\n",
    "#### Documentation\n",
    "\n",
    "[Full description](https://jwst-pipeline.readthedocs.io/en/stable/jwst/msaflagopen/description.html) of the step.\n",
    "\n",
    "#### Arguments\n",
    "\n",
    "There are no optional arguments for this step.\n",
    "\n",
    "#### Reference files used\n",
    "\n",
    "This step uses the [`MSAOPER` reference file](https://jwst-pipeline.readthedocs.io/en/stable/jwst/msaflagopen/reference_files.html)."
   ]
  },
  {
   "cell_type": "markdown",
   "metadata": {},
   "source": [
    "#### Run the step"
   ]
  },
  {
   "cell_type": "raw",
   "metadata": {},
   "source": [
    "# To run this cell, you would need to change the cell type to \"Code\"\n",
    "# Instantiate and set parameters\n",
    "step = MSAFlagOpenStep()\n",
    "step.output_dir = output_dir\n",
    "step.save_results = True\n",
    "\n",
    "# Call the run() method\n",
    "result = step.run(previous_result)"
   ]
  },
  {
   "cell_type": "markdown",
   "metadata": {},
   "source": [
    "[Top of Notebook](#top)"
   ]
  },
  {
   "cell_type": "markdown",
   "metadata": {},
   "source": [
    "<a id='extract_2d'></a>\n",
    "## The `2D Extraction` step \n",
    "\n",
    "#### Summary\n",
    "\n",
    "This step extracts 2D arrays from spectral images. The extractions are performed on all of the SCI, ERR, and DQ arrays of the input dataset, as well as any variance arrays that may be present. \n",
    "\n",
    "It also computes an array of wavelengths to attach to the extracted data. The extracted arrays are stored as one or more slit objects in an output `MultiSlitModel` and saved as separate tuples of extensions in the output FITS file.\n",
    "\n",
    "#### Affected Modes\n",
    "This step is run for the following modes:\n",
    "- NIRSpec: FS, MOS\n",
    "- MIRI: none\n",
    "- NIRISS: WFSS\n",
    "- NIRCam: all\n",
    "\n",
    "#### Documentation\n",
    "\n",
    "[Full description](https://jwst-pipeline.readthedocs.io/en/stable/jwst/extract_2d/main.html) of the step.\n",
    "\n",
    "#### Arguments\n",
    "\n",
    "This step has several [optional arguments](https://jwst-pipeline.readthedocs.io/en/stable/jwst/extract_2d/main.html#step-arguments).\n",
    "\n",
    "#### Reference files used\n",
    "For NIRISS and NIRCam WFSS modes, this step uses the [`WAVELENGTHRANGE` reference file](https://jwst-pipeline.readthedocs.io/en/stable/jwst/extract_2d/reference_files.html).\n"
   ]
  },
  {
   "cell_type": "markdown",
   "metadata": {},
   "source": [
    "#### Run the step"
   ]
  },
  {
   "cell_type": "raw",
   "metadata": {},
   "source": [
    "# To run this cell, you would need to change the cell type to \"Code\"\n",
    "# Instantiate and set parameters\n",
    "step = Extract2dStep()\n",
    "step.output_dir = output_dir\n",
    "step.save_results = True\n",
    "\n",
    "# Call using the saturation instance from the previously-run step\n",
    "result = step.run(previous_result)"
   ]
  },
  {
   "cell_type": "markdown",
   "metadata": {},
   "source": [
    "[Top of Notebook](#top)"
   ]
  },
  {
   "cell_type": "markdown",
   "metadata": {},
   "source": [
    "<a id='srctype'></a>\n",
    "## The `Source Type Determination` step \n",
    "\n",
    "#### Summary\n",
    "\n",
    "This step estimates if a spectroscopic source should be considered to be a point or extended object, and will populate each SCI extension's \"SRCTYPE\" keyword with \"POINT\", \"EXTENDED\", or \"UNKNOWN\". For single source observations, the pipeline will use information provided by the observer in their APT program. If the observer does not specify source type, the pipeline will attempt to determine it based on the observing configuration.\n",
    "\n",
    "For multi-source NIRSpec MOS observations, each source's stellarity can be supplied by the observer in the MSA Planning Tool. For multi-source WFSS observations, the source type keyword is always set to \"UNKNOWN\", and the actual source sizes are derived from the direct image's source catalog.\n",
    "\n",
    "The source type is used in some subsequent processing steps to apply source-dependent corrections.\n",
    "\n",
    "#### Affected Modes\n",
    "This step is run for the following modes:\n",
    "- NIRSpec: all\n",
    "- MIRI: all\n",
    "- NIRISS: all\n",
    "- NIRCam: all\n",
    "\n",
    "#### Documentation\n",
    "\n",
    "[Full description](https://jwst-pipeline.readthedocs.io/en/stable/jwst/srctype/description.html)\n",
    "\n",
    "#### Arguments\n",
    "\n",
    "There are no optional arguments for this step.\n",
    "\n",
    "#### Reference files used\n",
    "\n",
    "This step uses no specific reference files.\n"
   ]
  },
  {
   "cell_type": "markdown",
   "metadata": {},
   "source": [
    "#### Run the step"
   ]
  },
  {
   "cell_type": "raw",
   "metadata": {},
   "source": [
    "# To run this cell, you would need to change the cell type to \"Code\"\n",
    "# Instantiate and set parameters\n",
    "step = SourceTypeStep()\n",
    "step.output_dir = output_dir\n",
    "step.save_results = True\n",
    "\n",
    "# Call the run() method\n",
    "result = step.run(result)"
   ]
  },
  {
   "cell_type": "markdown",
   "metadata": {},
   "source": [
    "[Top of Notebook](#top)"
   ]
  },
  {
   "cell_type": "markdown",
   "metadata": {},
   "source": [
    "<a id='masterbg'></a>\n",
    "##  The `Master Background Subtraction` step \n",
    "\n",
    "#### Summary\n",
    "\n",
    "This step is typically run during Stage 3 spectroscopic processing (*calwebb_spec3*) for all modes **except** NIRSpec MOS, for which the step is instead run in *calwebb_spec2*.\n",
    "\n",
    "In general, the master background subtraction method works by taking a 1D background spectrum, interpolating it back into the 2D space of a science image, and then subtracting it. This allows for higher SNR background data to be used than what might be obtainable by doing direct image-from-image subtraction using only one or a few background images. The 1D master background spectrum can either be constructed on-the-fly by the calibration pipeline using available background data or supplied by the user. \n",
    "\n",
    "For NIRSpec *calwebb_spec2* processing, this step uses data from background slitlets or a user-supplied spectrum.\n",
    "\n",
    "#### Affected Modes\n",
    "This step is run for the following modes:\n",
    "- NIRSpec: MOS\n",
    "- MIRI: none\n",
    "- NIRISS: none\n",
    "- NIRCam: none\n",
    "\n",
    "#### Documentation\n",
    "\n",
    "[Full description](https://jwst-pipeline.readthedocs.io/en/stable/jwst/master_background/description.html) of the step.\n",
    "\n",
    "#### Arguments\n",
    "\n",
    "This steps has multiple optional arguments- for further details please see the [documentation](https://jwst-pipeline.readthedocs.io/en/stable/jwst/master_background/arguments.html).\n",
    "\n",
    "\n",
    "#### Reference files used\n",
    "\n",
    "This step uses no specific reference files.\n"
   ]
  },
  {
   "cell_type": "markdown",
   "metadata": {},
   "source": [
    "#### Run the step"
   ]
  },
  {
   "cell_type": "raw",
   "metadata": {},
   "source": [
    "# To run this cell, you would need to change the cell type to \"Code\"\n",
    "# Instantiate and set parameters\n",
    "step = MasterBackgroundStep()\n",
    "step.output_dir = output_dir\n",
    "step.save_results = True\n",
    "user_bkg = master_bkg_file\n",
    "\n",
    "# Call the run() method\n",
    "result = step.run(result, user_background=user_bkg)"
   ]
  },
  {
   "cell_type": "markdown",
   "metadata": {},
   "source": [
    "[Top of Notebook](#top)"
   ]
  },
  {
   "cell_type": "markdown",
   "metadata": {},
   "source": [
    "<a id='wavecorr'></a>\n",
    "## The `Wavelength Correction` step\n",
    "\n",
    "#### Summary\n",
    "\n",
    "This step is only applied to NIRSpec FS and MOS modes. It updates the wavelength assignments for point sources that are known to be off center (in the dispersion direction) in their slit.\n",
    "\n",
    "For NIRSpec MOS exposures, wavelength assignments created during extract_2d step are based on a source that’s perfectly centered in a slitlet. Most sources, however, are not centered in every slitlet in a real observation. The wavecorr step loops over all slit instances in the input science product and applies a wavelength correction to slits that contain a point source. The correction is based on each source's estimated X and Y position within a slitlet.\n",
    "\n",
    "For NIRSpec FS exposures, fixed slit data do not have an a priori estimate of the source location within a given slit. For each source, the target coordinates and aperture reference point are used to estimate the location within the slit. Any offsets to this estimation are then computed using the same method as for MOS slitlets.\n",
    "\n",
    "#### Affected Modes\n",
    "This step is run for the following modes:\n",
    "- NIRSpec: FS, MOS\n",
    "- MIRI: none\n",
    "- NIRISS: none\n",
    "- NIRCam: none\n",
    "\n",
    "#### Documentation\n",
    "\n",
    "[Full description](https://jwst-pipeline.readthedocs.io/en/stable/jwst/wavecorr/description.html) of the step.\n",
    "\n",
    "#### Arguments\n",
    "\n",
    "This step has no step-specific arguments.\n",
    "\n",
    "#### Reference files used\n",
    "\n",
    "This step uses the [`WAVECORR` reference file](https://jwst-pipeline.readthedocs.io/en/stable/jwst/wavecorr/reference_files.html).\n"
   ]
  },
  {
   "cell_type": "markdown",
   "metadata": {},
   "source": [
    "#### Run the step"
   ]
  },
  {
   "cell_type": "raw",
   "metadata": {},
   "source": [
    "# To run this cell, you would need to change the cell type to \"Code\"\n",
    "# Instantiate and set parameters\n",
    "step = WavecorrStep()\n",
    "step.output_dir = output_dir\n",
    "step.save_results = True\n",
    "\n",
    "# Call the run() method\n",
    "result = step.run(result)"
   ]
  },
  {
   "cell_type": "markdown",
   "metadata": {},
   "source": [
    "[Top of Notebook](#top)"
   ]
  },
  {
   "cell_type": "markdown",
   "metadata": {},
   "source": [
    "<a id='flat_field'></a>\n",
    "## The `Flat Field Correction` step"
   ]
  },
  {
   "cell_type": "markdown",
   "metadata": {},
   "source": [
    "#### Summary\n",
    "\n",
    "This step flat-fields an input science dataset by dividing by a flat-field reference image. The SCI array from the flat-field reference file is divided into both the SCI and ERR arrays of the science dataset, and the flat-field DQ array is combined with the science DQ array using a bitwise OR operation. \n",
    "\n",
    "Flat field correction for NIRSpec modes does not use one set reference image. The NIRSpec flat-field varies with wavelength, and the wavelength of light that falls on any given pixel depends on the mode in use and which slits are open. Instead, the flat-field is constructed on-the-fly by extracting the relevant regions from reference files, and then- for each pixel- interpolating the appropriate wavelength value for that pixel.\n",
    "\n",
    "#### Affected Modes\n",
    "This step is run for the following modes:\n",
    "- NIRSpec: all\n",
    "- MIRI: all\n",
    "- NIRISS: all\n",
    "- NIRCam: all\n",
    "\n",
    "#### Documentation\n",
    "\n",
    "[Full description](https://jwst-pipeline.readthedocs.io/en/stable/jwst/flatfield/main.html) of the step.\n",
    "\n",
    "#### Arguments\n",
    "\n",
    "This step has only one optional argument, used for NIRSpec modes: [save_interpolated_flat](https://jwst-pipeline.readthedocs.io/en/stable/jwst/flatfield/arguments.html).\n",
    "\n",
    "#### Reference files used\n",
    "\n",
    "This step uses several reference files: [non-NIRSpec flats](https://jwst-pipeline.readthedocs.io/en/stable/jwst/flatfield/reference_files.html) and [NIRSpec flats](https://jwst-pipeline.readthedocs.io/en/stable/jwst/flatfield/reference_files.html#reference-files-for-nirspec-spectroscopy).\n"
   ]
  },
  {
   "cell_type": "markdown",
   "metadata": {},
   "source": [
    "#### Run the step"
   ]
  },
  {
   "cell_type": "raw",
   "metadata": {},
   "source": [
    "# To run this cell, you would need to change the cell type to \"Code\"\n",
    "# Instantiate and set parameters\n",
    "step = FlatFieldStep()\n",
    "step.output_dir = output_dir\n",
    "step.save_results = True\n",
    "\n",
    "# Call the run() method\n",
    "result = step.run(result)"
   ]
  },
  {
   "cell_type": "markdown",
   "metadata": {},
   "source": [
    "[Top of Notebook](#top)"
   ]
  },
  {
   "cell_type": "markdown",
   "metadata": {},
   "source": [
    "<a id='straylight'></a>\n",
    "## The `Stray Light Correction` step"
   ]
  },
  {
   "cell_type": "markdown",
   "metadata": {},
   "source": [
    "#### Summary\n",
    "\n",
    "This step is only applied to MIRI MRS channel 1 and 2 data. The straylight correction uses information in the `REGIONS` reference file to determine which pixels belong to a slice and which pixels are located in the slice gaps. It removes stray light that may contaminate spectra by interpolating the measured signal in the inter-slice regions of the detector. The inter-slice regions nominally should not receive light from the sky and therefore should serve as a good measure of the amount of stray light within the exposure.\n",
    "\n",
    "\n",
    "#### Affected Modes\n",
    "This step is run for the following modes:\n",
    "- NIRSpec: none\n",
    "- MIRI: MRS\n",
    "- NIRISS: none\n",
    "- NIRCam: none\n",
    "\n",
    "#### Documentation\n",
    "\n",
    "[Full description](https://jwst-pipeline.readthedocs.io/en/stable/jwst/straylight/main.html) of the step.\n",
    "\n",
    "#### Arguments\n",
    "\n",
    "This step has three [optional arguments](https://jwst-pipeline.readthedocs.io/en/stable/jwst/straylight/arguments.html), depending on which algorithm is used to correct for stray light.\n",
    "\n",
    "#### Reference files used\n",
    "\n",
    "This step uses the [`REGIONS` reference file](https://jwst-pipeline.readthedocs.io/en/stable/jwst/straylight/reference_files.html).\n"
   ]
  },
  {
   "cell_type": "markdown",
   "metadata": {},
   "source": [
    "#### Run the step"
   ]
  },
  {
   "cell_type": "raw",
   "metadata": {},
   "source": [
    "# To run this cell, you would need to change the cell type to \"Code\"\n",
    "# Instantiate and set parameters\n",
    "step = StraylightStep()\n",
    "step.output_dir = output_dir\n",
    "step.save_results = True\n",
    "\n",
    "# Call the run() method\n",
    "result = step.run(result)"
   ]
  },
  {
   "cell_type": "markdown",
   "metadata": {},
   "source": [
    "[Top of Notebook](#top)"
   ]
  },
  {
   "cell_type": "markdown",
   "metadata": {},
   "source": [
    "<a id='fringe'></a>\n",
    "## The `Fringe Correction` step"
   ]
  },
  {
   "cell_type": "markdown",
   "metadata": {},
   "source": [
    "#### Summary\n",
    "This step applies a fringe correction to MIRI MRS images. There are significant fringes in MIRI IFU data. To correct them, the SCI array from a fringe reference file is divided into the SCI and ERR arrays of the science dataset. Only pixels that have valid (non-NaN) values in the SCI array of the reference file will be corrected. The DQ and variance arrays of the science exposure are not currently modified by this step.\n",
    "\n",
    "#### Affected Modes\n",
    "This step is run for the following modes:\n",
    "- NIRSpec: none\n",
    "- MIRI: MRS\n",
    "- NIRISS: none\n",
    "- NIRCam: none\n",
    "\n",
    "#### Documentation\n",
    "[Full description](https://jwst-pipeline.readthedocs.io/en/latest/jwst/fringe/main.html) of the step.\n",
    "\n",
    "#### Arguments\n",
    "This step has no step-specific arguments.\n",
    "\n",
    "#### Reference files used\n",
    "This step uses the [`FRINGE` reference file](https://jwst-pipeline.readthedocs.io/en/latest/jwst/fringe/reference_files.html)."
   ]
  },
  {
   "cell_type": "markdown",
   "metadata": {},
   "source": [
    "#### Run the step"
   ]
  },
  {
   "cell_type": "raw",
   "metadata": {},
   "source": [
    "# To run this cell, you would need to change the cell type to \"Code\"\n",
    "# Instantiate and set parameters\n",
    "step = FringeStep()\n",
    "step.output_dir = output_dir\n",
    "step.save_results = True\n",
    "\n",
    "# Call the run() method\n",
    "result = step.run(result)"
   ]
  },
  {
   "cell_type": "markdown",
   "metadata": {},
   "source": [
    "[Top of Notebook](#top)"
   ]
  },
  {
   "cell_type": "markdown",
   "metadata": {},
   "source": [
    "<a id='pathloss'></a>\n",
    "## The `Pathloss Correction` step"
   ]
  },
  {
   "cell_type": "markdown",
   "metadata": {},
   "source": [
    "#### Summary\n",
    "The pathloss step calculates and applies corrections that are needed to account for various types of signal loss in spectroscopic data. For NIRSpec, this correction accounts for losses in the optical system due to light being scattered outside the grating, and to light not passing through the aperture. For NIRISS SOSS data it corrects for the flux that falls outside the subarray. There is currently no correction for MIRI and NIRCam.\n",
    "\n",
    "#### Affected Modes\n",
    "This step is run for the following modes:\n",
    "- NIRSpec: all\n",
    "- MIRI: none\n",
    "- NIRISS: SOSS\n",
    "- NIRCam: none\n",
    "\n",
    "#### Documentation\n",
    "\n",
    "[Full description](https://jwst-pipeline.readthedocs.io/en/latest/jwst/pathloss/description.html) of the step.\n",
    "\n",
    "#### Arguments\n",
    "This step has no step-specific arguments.\n",
    "\n",
    "#### Reference files used\n",
    "This step uses the [`PATHLOSS` reference file](https://jwst-pipeline.readthedocs.io/en/latest/jwst/pathloss/reference_files.html)."
   ]
  },
  {
   "cell_type": "markdown",
   "metadata": {},
   "source": [
    "#### Run the step"
   ]
  },
  {
   "cell_type": "raw",
   "metadata": {},
   "source": [
    "# To run this cell, you would need to change the cell type to \"Code\"\n",
    "# Instantiate and set parameters\n",
    "step = PathLossStep()\n",
    "step.output_dir = output_dir\n",
    "step.save_results = True\n",
    "\n",
    "# Call the run() method\n",
    "result = step.run(result)"
   ]
  },
  {
   "cell_type": "markdown",
   "metadata": {},
   "source": [
    "[Top of Notebook](#top)"
   ]
  },
  {
   "cell_type": "markdown",
   "metadata": {},
   "source": [
    "<a id='barshadow'></a>\n",
    "## The `Barshadow` step"
   ]
  },
  {
   "cell_type": "markdown",
   "metadata": {},
   "source": [
    "#### Summary\n",
    "\n",
    "This step is only applied to NIRSpec MOS data, specifically to extended sources only. It calculates the correction due to the bar that separates adjacent microshutters. The correction values are divided into the SCI and ERR arrays, and the square of the correction values are divided into the variance arrays.\n",
    "\n",
    "#### Affected Modes\n",
    "This step is run for the following modes:\n",
    "- NIRSpec: MOS\n",
    "- MIRI: none\n",
    "- NIRISS: none\n",
    "- NIRCam: none\n",
    "\n",
    "#### Documentation\n",
    "\n",
    "[Full description](https://jwst-pipeline.readthedocs.io/en/stable/jwst/barshadow/description.html) of the step.\n",
    "\n",
    "#### Arguments\n",
    "\n",
    "This step has no specific arguments.\n",
    "\n",
    "#### Reference files used\n",
    "\n",
    "This step uses the [`BARSHADOW` reference file](https://jwst-pipeline.readthedocs.io/en/stable/jwst/barshadow/reference_files.html)\n"
   ]
  },
  {
   "cell_type": "markdown",
   "metadata": {},
   "source": [
    "#### Run the step"
   ]
  },
  {
   "cell_type": "raw",
   "metadata": {},
   "source": [
    "# To run this cell, you would need to change the cell type to \"Code\"\n",
    "# Instantiate and set parameters\n",
    "step = BarShadowStep()\n",
    "step.output_dir = output_dir\n",
    "step.save_results = True\n",
    "\n",
    "# Call the run() method\n",
    "result = step.run(result)"
   ]
  },
  {
   "cell_type": "markdown",
   "metadata": {},
   "source": [
    "[Top of Notebook](#top)"
   ]
  },
  {
   "cell_type": "markdown",
   "metadata": {},
   "source": [
    "<a id='photom'></a>\n",
    "## The `Photom` step"
   ]
  },
  {
   "cell_type": "markdown",
   "metadata": {},
   "source": [
    "#### Summary\n",
    "The photom step applies flux (photometric) calibration to convert data from units of countrate to surface brightness (MJy/Sr) or flux density (MJy). For NIRSpec and NIRISS SOSS observations of point sources, the output unit will be flux density, while all other observations will yield units of surface brightness. Pixels with wavelengths outside the range specified in each mode's reference file are set to zero and flagged as \"DO_NOT_USE\" in the DQ array. \n",
    "\n",
    "#### Affected Modes\n",
    "This step is run for the following modes:\n",
    "- NIRSpec: all\n",
    "- MIRI: all\n",
    "- NIRISS: all\n",
    "- NIRCam: all\n",
    "\n",
    "#### Documentation\n",
    "\n",
    "[Full description](https://jwst-pipeline.readthedocs.io/en/latest/jwst/photom/main.html) of the step.\n",
    "\n",
    "#### Arguments\n",
    "This step has no specific arguments.\n",
    "\n",
    "\n",
    "#### Reference files used\n",
    "The photom step uses the [`PHOTOM` and `AREA` reference files](https://jwst-pipeline.readthedocs.io/en/latest/jwst/photom/reference_files.html).\n",
    "\n"
   ]
  },
  {
   "cell_type": "markdown",
   "metadata": {},
   "source": [
    "#### Run the step"
   ]
  },
  {
   "cell_type": "raw",
   "metadata": {},
   "source": [
    "# To run this cell, you would need to change the cell type to \"Code\"\n",
    "# Instantiate and set parameters\n",
    "step = PhotomStep()\n",
    "step.output_dir = output_dir\n",
    "step.save_results = True\n",
    "\n",
    "# Call the run() method\n",
    "result = step.run(result)"
   ]
  },
  {
   "cell_type": "markdown",
   "metadata": {},
   "source": [
    "[Top of Notebook](#top)"
   ]
  },
  {
   "cell_type": "markdown",
   "metadata": {},
   "source": [
    "<a id='resample'></a>\n",
    "## The `Resample Spec` step"
   ]
  },
  {
   "cell_type": "markdown",
   "metadata": {},
   "source": [
    "#### Summary\n",
    "\n",
    "This step resamples each input 2D image based on the WCS and distortion information. \n",
    "\n",
    "The output from this step is the *_s2d* file. A reminder, these are not final rectified 2D products- those will be created during the Stage 3 iteration of the `resample_spec` step. These products are meant for user examination only.\n",
    "\n",
    "#### Affected Modes\n",
    "This step is run for the following modes:\n",
    "- NIRSpec: FS, MOS\n",
    "- MIRI: FS\n",
    "- NIRISS: none\n",
    "- NIRCam: none\n",
    "\n",
    "#### Documentation\n",
    "\n",
    "[Full description](https://jwst-pipeline.readthedocs.io/en/stable/jwst/resample/main.html) of the step.\n",
    "\n",
    "#### Arguments\n",
    "There is a list of [optional Astrodrizzle-style](https://jwst-pipeline.readthedocs.io/en/stable/jwst/resample/arguments.html) input parameters that can be used to customize the resampling process.\n",
    "\n",
    "#### Reference files used\n",
    "This step uses the [`DRIZPARS`](https://jwst-pipeline.readthedocs.io/en/stable/jwst/resample/reference_files.html) reference file. This file contains Astrodrizzle-style keywords that can be used to control the details of the resampling."
   ]
  },
  {
   "cell_type": "markdown",
   "metadata": {},
   "source": [
    "#### Run the step"
   ]
  },
  {
   "cell_type": "raw",
   "metadata": {},
   "source": [
    "# To run this cell, you would need to change the cell type to \"Code\"\n",
    "# Instantiate and set parameters\n",
    "step = ResampleSpecStep()\n",
    "step.output_dir = output_dir\n",
    "step.save_results = True\n",
    "\n",
    "# Call the run() method\n",
    "result = step.run(result)"
   ]
  },
  {
   "cell_type": "markdown",
   "metadata": {},
   "source": [
    "[Top of Notebook](#top)"
   ]
  },
  {
   "cell_type": "markdown",
   "metadata": {},
   "source": [
    "<a id='cube_build'></a>\n",
    "## The `Cube Building` step "
   ]
  },
  {
   "cell_type": "markdown",
   "metadata": {},
   "source": [
    "#### Summary\n",
    "\n",
    "This step is applied to MIRI or NIRSpec IFU 2D images to produce 3D spectral cubes. The 2D disjointed IFU slice spectra are corrected for distortion and assembled into a rectangular cube with three orthogonal axes: two spatial and one spectral.\n",
    "\n",
    "This step is run in both the *calwebb_spec2* and *calwebb_spec3* pipelines. In *calwebb_spec2*, where the input is a single MIRI or NIRSpec IFU exposure, the default output cube will be built from all the data in that single exposure. For MIRI this means using the data from different channels (e.g. 1A and 2A) that are recorded in a single exposure and the output IFU cube will have a non-linear wavelength dimension. For NIRSpec the data is from the single grating and filter combination contained in the exposure and will have a linear wavelength dimension. The *calwebb_spec2* pipeline calls cube_build with `output_type=multi`.\n",
    "\n",
    "The output from this step is the *_s3d* file. A reminder, these are not final rectified 3D products- those will be created during the Stage 3 iteration of the `cube_build` step. These products are meant for user examination only.\n",
    "\n",
    "#### Affected Modes\n",
    "This step is run for the following modes:\n",
    "- NIRSpec: IFU\n",
    "- MIRI: MRS\n",
    "- NIRISS: none\n",
    "- NIRCam: none\n",
    "\n",
    "#### Documentation\n",
    "\n",
    "[Full description](https://jwst-pipeline.readthedocs.io/en/stable/jwst/cube_build/main.html) of the step.\n",
    "\n",
    "#### Arguments\n",
    "\n",
    "There are a number of arguments that control the sampling size of the cube, as well as the type of data that is combined to create the cube. See all the [optional arguments](https://jwst-pipeline.readthedocs.io/en/stable/jwst/cube_build/arguments.html).\n",
    "\n",
    "#### Reference files used\n",
    "\n",
    "This step uses the [`CUBEPAR` reference file](https://jwst-pipeline.readthedocs.io/en/stable/jwst/cube_build/reference_files.html).\n"
   ]
  },
  {
   "cell_type": "markdown",
   "metadata": {},
   "source": [
    "#### Run the step"
   ]
  },
  {
   "cell_type": "raw",
   "metadata": {},
   "source": [
    "# To run this cell, you would need to change the cell type to \"Code\"\n",
    "# Instantiate and set parameters\n",
    "step = CubeBuildStep()\n",
    "step.output_dir = output_dir\n",
    "step.save_results = True\n",
    "\n",
    "# Call the run() method\n",
    "result = step.run(result)"
   ]
  },
  {
   "cell_type": "markdown",
   "metadata": {},
   "source": [
    "[Top of Notebook](#top)"
   ]
  },
  {
   "cell_type": "markdown",
   "metadata": {},
   "source": [
    "<a id='extract_1d'></a>\n",
    "## The `1D Extraction` step "
   ]
  },
  {
   "cell_type": "markdown",
   "metadata": {},
   "source": [
    "#### Summary\n",
    "\n",
    "This step extracts a 1D signal from a 2D or 3D dataset and writes spectral data to an output 1D extracted spectral data product. For all non-TSO modes, this is a file with suffix *_x1d*, and for TSO modes the suffix is *_x1dints*. A background may optionally be subtracted during this step if not already done.\n",
    "\n",
    "For non-WFSS modes, a reference file is used to specify the location and size of the target and background extraction regions. For WFSS modes, the extraction regions are defined as the 2D subarray/cutout for each source.\n",
    "\n",
    "For non-IFU data, rectangular apertures are used. For IFU point sources, the spectrum is extracted using circular aperture photometry with an optional background annulus. For IFU extended sources, rectangular aperture photometry is used over the entire image and no background is estimated. (Note that photometry is performed using the Astropy affiliated package [photutils](https://photutils.readthedocs.io/en/latest/).)\n",
    "\n",
    "For most spectral modes, an aperture correction is applied to the 1D data in order to put the results onto an infinite aperture scale.\n",
    "\n",
    "A reminder, these are not final 1D spectral products- those will be created during the Stage 3 iteration of the `extract_1d` step. These products are meant for user examination only.\n",
    "\n",
    "#### Affected Modes\n",
    "This step is run for the following modes:\n",
    "- NIRSpec: all\n",
    "- MIRI: all\n",
    "- NIRISS: all\n",
    "- NIRCam: all\n",
    "\n",
    "#### Documentation\n",
    "\n",
    "[Full description](https://jwst-pipeline.readthedocs.io/en/stable/jwst/extract_1d/description.html) of the step.\n",
    "\n",
    "#### Arguments\n",
    "\n",
    "This step has multiple [optional arguments](https://jwst-pipeline.readthedocs.io/en/stable/jwst/extract_1d/arguments.html).\n",
    "\n",
    "#### Reference files used\n",
    "\n",
    "This step uses the [`EXTRACT1D` and `APCORR` reference files](https://jwst-pipeline.readthedocs.io/en/stable/jwst/extract_1d/reference_files.html).\n"
   ]
  },
  {
   "cell_type": "markdown",
   "metadata": {},
   "source": [
    "#### Run the step"
   ]
  },
  {
   "cell_type": "raw",
   "metadata": {},
   "source": [
    "# To run this cell, you would need to change the cell type to \"Code\"\n",
    "# Instantiate and set parameters\n",
    "step = Extract1dStep()\n",
    "step.output_dir = output_dir\n",
    "step.save_results = True\n",
    "\n",
    "# Call the run() method\n",
    "result = step.run(result)"
   ]
  },
  {
   "cell_type": "markdown",
   "metadata": {},
   "source": [
    "[Top of Notebook](#top)"
   ]
  },
  {
   "cell_type": "markdown",
   "metadata": {},
   "source": [
    "<img style=\"float: right;\" src=\"https://raw.githubusercontent.com/spacetelescope/notebooks/master/assets/stsci_pri_combo_mark_horizonal_white_bkgd.png\" alt=\"Space Telescope Logo\" width=\"200px\"/>"
   ]
  }
 ],
 "metadata": {
  "kernelspec": {
   "display_name": "Python [conda env:jwst]",
   "language": "python",
   "name": "conda-env-jwst-py"
  },
  "language_info": {
   "codemirror_mode": {
    "name": "ipython",
    "version": 3
   },
   "file_extension": ".py",
   "mimetype": "text/x-python",
   "name": "python",
   "nbconvert_exporter": "python",
   "pygments_lexer": "ipython3",
   "version": "3.10.6"
  },
  "toc": {
   "base_numbering": 1,
   "nav_menu": {},
   "number_sections": true,
   "sideBar": true,
   "skip_h1_title": false,
   "title_cell": "Table of Contents",
   "title_sidebar": "Contents",
   "toc_cell": false,
   "toc_position": {},
   "toc_section_display": true,
   "toc_window_display": false
  }
 },
 "nbformat": 4,
 "nbformat_minor": 4
}
