{
 "cells": [
  {
   "cell_type": "markdown",
   "id": "6125ad34",
   "metadata": {},
   "source": [
    "Based on JWST JDAT NIRSpec MOS Optimal Spectral Extraction\n",
    "\n"
   ]
  },
  {
   "cell_type": "code",
   "execution_count": null,
   "id": "6ce1e5c6",
   "metadata": {},
   "outputs": [],
   "source": [
    "%matplotlib widget\n",
    "\n",
    "from glob import glob\n",
    "import numpy as np\n",
    "from jwst.datamodels import ImageModel, MultiSpecModel\n",
    "from astropy.io import fits\n",
    "from astropy.modeling import models, fitting\n",
    "from astropy.visualization import astropy_mpl_style, simple_norm\n",
    "from specutils import Spectrum1D\n",
    "from scipy.interpolate import interp1d, RegularGridInterpolator\n",
    "import matplotlib.pyplot as plt\n",
    "from matplotlib.patches import Rectangle\n",
    "from ipywidgets import interact\n",
    "import ipywidgets as widgets\n",
    "import os\n",
    "import tarfile\n",
    "import urllib.request\n",
    "plt.style.use(astropy_mpl_style) #use the style we imported for matplotlib displays\n"
   ]
  },
  {
   "cell_type": "code",
   "execution_count": null,
   "id": "ade865e8-23c3-42df-a104-2e7db68fbd4e",
   "metadata": {},
   "outputs": [],
   "source": []
  },
  {
   "cell_type": "markdown",
   "id": "7b4231e4",
   "metadata": {},
   "source": [
    "# select object and open it"
   ]
  },
  {
   "cell_type": "code",
   "execution_count": null,
   "id": "a0f80193",
   "metadata": {},
   "outputs": [],
   "source": [
    "obsid='200'\n",
    "objid = '14552'## 5 digits\n",
    "example_file = f'/jw2767-o{obsid}_s{objid}_nirspec_clear-prism'\n",
    "\n",
    "s2d_file = os.path.join('', example_file+'s2d.fits')\n",
    "x1d_file = os.path.join('', example_file+'x1d.fits')\n"
   ]
  },
  {
   "cell_type": "code",
   "execution_count": null,
   "id": "a610f521",
   "metadata": {},
   "outputs": [],
   "source": [
    "\n",
    "data_model = ImageModel(s2d_file)\n",
    "resampled_2d_image = data_model.data # if multiple SCI extensions, also specify EXTVER\n",
    "weights_2d_image = data_model.wht # we will use this to estimate the per-pixel variance later\n",
    "err_2d_image = data_model.err\n",
    "\n",
    "image_shape = resampled_2d_image.shape\n",
    "print(image_shape) #note the swap of x and y"
   ]
  },
  {
   "cell_type": "code",
   "execution_count": null,
   "id": "f2e44e74",
   "metadata": {},
   "outputs": [],
   "source": [
    "norm = simple_norm(resampled_2d_image, stretch='power')\n",
    "aspect_ratio = image_shape[1] / (2 * image_shape[0])\n",
    "fig1 = plt.figure() # we save these in dummy variables to avoid spurious Jupyter Notebook output\n",
    "img1 = plt.imshow(resampled_2d_image, cmap='gray', aspect=aspect_ratio, \n",
    "                  norm=norm, interpolation='none')\n",
    "clb1 = plt.colorbar()"
   ]
  },
  {
   "cell_type": "markdown",
   "id": "d59fcb56",
   "metadata": {},
   "source": [
    "# 1D extraction"
   ]
  },
  {
   "cell_type": "markdown",
   "id": "38972a62",
   "metadata": {},
   "source": [
    "## Define a region for extraction"
   ]
  },
  {
   "cell_type": "code",
   "execution_count": null,
   "id": "580732b8",
   "metadata": {},
   "outputs": [],
   "source": [
    "fig2 = plt.figure(figsize=(9,9)) # we want the largest figure that will fit in the notebook\n",
    "img2 = plt.imshow(resampled_2d_image, cmap='gray', aspect=aspect_ratio, \n",
    "                  norm=norm, interpolation='none') # reuse norm from earlier\n",
    "\n",
    "# create region box and slider\n",
    "region_x = region_y = 0\n",
    "region_h, region_w = image_shape\n",
    "region_rectangle = Rectangle((region_x, region_y), region_w, region_h, \n",
    "                             facecolor='none', edgecolor='b', linestyle='--')\n",
    "current_axis = plt.gca()\n",
    "current_axis.add_patch(region_rectangle)\n",
    "\n",
    "# interactive widget controls\n",
    "def region(x1=0, y1=0, x2=region_w-1, y2=region_h-1):\n",
    "    region_rectangle.set_bounds(x1, y1, x2-x1, y2-y1)\n",
    "    plt.draw()\n",
    "    \n",
    "interact1 = interact(region, x1=(0, region_w-2, 1), y1=(0, region_h-2, 1), \n",
    "                    x2=(1, region_w-1, 1), y2=(1, region_h-1, 1))"
   ]
  },
  {
   "cell_type": "code",
   "execution_count": null,
   "id": "42a7f558",
   "metadata": {},
   "outputs": [],
   "source": [
    "#comment these lines out if interativity is not desired\n",
    "\n",
    "x, y = region_rectangle.xy\n",
    "w = region_rectangle.get_width() \n",
    "h = region_rectangle.get_height()\n",
    "#uncomment and set these to your desired extraction region if interativity is not desired\n",
    "# x = y = 0\n",
    "# h, w = image_shape\n",
    "\n",
    "print(x, y, x+w, y+h)\n",
    "\n",
    "er_y, er_x = np.mgrid[y:y+h, x:x+w]\n",
    "extraction_region = resampled_2d_image[er_y, er_x]\n",
    "extraction_region_var = (data_model.err[er_y, er_x])**2\n",
    "\n",
    "weights_region = weights_2d_image[er_y, er_x]\n",
    "\n",
    "\n",
    "er_ny, er_nx = extraction_region.shape\n",
    "\n",
    "aspect_ratio = er_nx / (3. * er_ny)\n",
    "\n",
    "er_norm = simple_norm(extraction_region, stretch='power')\n",
    "fig3 = plt.figure()\n",
    "img3 = plt.imshow(extraction_region, cmap='gray', aspect=aspect_ratio, \n",
    "                  norm=er_norm, interpolation='none')\n",
    "clb3 = plt.colorbar()"
   ]
  },
  {
   "cell_type": "markdown",
   "id": "414c6568",
   "metadata": {},
   "source": [
    "## create a profile for extraction"
   ]
  },
  {
   "cell_type": "code",
   "execution_count": null,
   "id": "647f8a77",
   "metadata": {},
   "outputs": [],
   "source": [
    "slice_width = 30\n",
    "initial_column = er_nx // 2\n",
    "initial_column=100\n",
    "def kernel_slice_coadd(width, column_idx):\n",
    "    \"\"\"\n",
    "    Coadd a number of columns (= width) of the extraction region,\n",
    "    centered on column_idx.\n",
    "    \"\"\"\n",
    "    \n",
    "    half_width = width // 2\n",
    "    to_coadd = np.arange(max(0, column_idx - half_width), \n",
    "                         min(er_nx-1, column_idx + half_width))\n",
    "    return extraction_region[:, to_coadd].sum(axis=1) / width\n",
    "\n",
    "slice_0 = kernel_slice_coadd(slice_width, initial_column)"
   ]
  },
  {
   "cell_type": "code",
   "execution_count": null,
   "id": "b37558bd",
   "metadata": {},
   "outputs": [],
   "source": [
    "fig4, (iax4, pax4) = plt.subplots(nrows=1, ncols=2, figsize=(8, 4))\n",
    "plt.subplots_adjust(hspace=0.15, top=0.95, bottom=0.05)\n",
    "img4 = iax4.imshow(extraction_region, cmap='gray', aspect=aspect_ratio, \n",
    "                  norm=er_norm, interpolation='none')\n",
    "\n",
    "#create slice box\n",
    "def make_slice(width, column_idx):\n",
    "    sy, sh, sw = 0, er_ny, width\n",
    "    sx = column_idx - width // 2\n",
    "    return sx, sy, sw, sh\n",
    "\n",
    "*sxy, sw, sh = make_slice(slice_width, initial_column)\n",
    "slice_rectangle = Rectangle(sxy, sw, sh, facecolor='none', \n",
    "                            edgecolor='b', linestyle='--')\n",
    "iax4.add_patch(slice_rectangle)\n",
    "\n",
    "#plot the coadded slice\n",
    "xd_pixels = np.arange(er_ny)\n",
    "lin4, = pax4.plot(xd_pixels, slice_0, 'k-')\n",
    "pax4.set_xlabel('Cross-dispersion pixel')\n",
    "pax4.axes.set_ylabel('Coadded signal')\n",
    "\n",
    "column_slider = widgets.IntSlider(initial_column, 0, er_nx-1, 1)\n",
    "width_slider = widgets.IntSlider(slice_width, 1, er_nx-1, 1)\n",
    "\n",
    "#interactive controls\n",
    "def slice_update(column_idx, width):\n",
    "    #update rectangle\n",
    "    new_slice_box = make_slice(width, column_idx)\n",
    "    slice_rectangle.set_bounds(*new_slice_box)\n",
    "    #update line plot\n",
    "    lin4.set_ydata(kernel_slice_coadd(width, column_idx))\n",
    "    #update the axis limits\n",
    "    pax4.relim()\n",
    "    pax4.autoscale_view()\n",
    "    plt.draw()\n",
    "\n",
    "interact2 = interact(slice_update, column_idx=column_slider, width=width_slider)"
   ]
  },
  {
   "cell_type": "code",
   "execution_count": null,
   "id": "0e307591",
   "metadata": {},
   "outputs": [],
   "source": []
  },
  {
   "cell_type": "code",
   "execution_count": null,
   "id": "74958a8d",
   "metadata": {},
   "outputs": [],
   "source": [
    "kernel_slice = kernel_slice_coadd(width_slider.value, column_slider.value)\n",
    "bbox_extraction=  make_slice(width_slider.value, column_slider.value) ## for fig at the end"
   ]
  },
  {
   "cell_type": "code",
   "execution_count": null,
   "id": "db2e60cc",
   "metadata": {},
   "outputs": [],
   "source": [
    "max_pixel = np.argmax(kernel_slice)\n",
    "fwhm = 1.\n",
    "\n",
    "moffat_profile = models.Moffat1D(amplitude=1, gamma=fwhm, x_0=max_pixel, alpha=1)\n",
    "gauss_profile = models.Gaussian1D(amplitude=1, mean=max_pixel, stddev=fwhm)\n",
    "\n",
    "fig5 = plt.figure()\n",
    "kern5 = plt.plot(xd_pixels, kernel_slice / kernel_slice[max_pixel], label='Kernel Slice')\n",
    "moff5 = plt.plot(xd_pixels, moffat_profile(xd_pixels), label='Moffat Profile')\n",
    "gaus5 = plt.plot(xd_pixels, gauss_profile(xd_pixels), label='Gaussian Profile')\n",
    "lgd5 = plt.legend()"
   ]
  },
  {
   "cell_type": "code",
   "execution_count": null,
   "id": "3898aaa3",
   "metadata": {},
   "outputs": [],
   "source": [
    "psf_template = gauss_profile\n",
    "psf_template.amplitude = kernel_slice[max_pixel]\n",
    "print(psf_template)\n",
    "# If deblending multiple sources, add more PSF templates here:\n",
    "\n",
    "\n"
   ]
  },
  {
   "cell_type": "code",
   "execution_count": null,
   "id": "a5fc2d27",
   "metadata": {},
   "outputs": [],
   "source": [
    "background_poly = models.Polynomial1D(2)\n",
    "print(background_poly)"
   ]
  },
  {
   "cell_type": "code",
   "execution_count": null,
   "id": "5611b565",
   "metadata": {},
   "outputs": [],
   "source": [
    "### ignore the background component for now\n",
    "extraction_kernel = psf_template# + background_poly\n",
    "print(extraction_kernel)"
   ]
  },
  {
   "cell_type": "code",
   "execution_count": null,
   "id": "6055ddb2",
   "metadata": {},
   "outputs": [],
   "source": []
  },
  {
   "cell_type": "code",
   "execution_count": null,
   "id": "a06fd1cb",
   "metadata": {},
   "outputs": [],
   "source": [
    "fitter = fitting.LevMarLSQFitter()\n",
    "fit_extraction_kernel = fitter(extraction_kernel, xd_pixels, kernel_slice)\n",
    "print(fit_extraction_kernel)\n",
    "\n",
    "fit_line = fit_extraction_kernel(xd_pixels)\n",
    "\n",
    "fig6, (fax6, fln6) = plt.subplots(nrows=2, ncols=1, figsize=(8, 12))\n",
    "plt.subplots_adjust(hspace=0.15, top=0.95, bottom=0.05)\n",
    "\n",
    "if fit_extraction_kernel.n_submodels==1:\n",
    "    psf6 = fax6.plot(xd_pixels, fit_extraction_kernel(xd_pixels), label=\"PSF\")\n",
    "else:\n",
    "    psf6 = fax6.plot(xd_pixels, fit_extraction_kernel[0](xd_pixels), label=\"PSF\")\n",
    "    poly6 = fax6.plot(xd_pixels, fit_extraction_kernel[1](xd_pixels), label=\"Background\")\n",
    "sum6 = fax6.plot(xd_pixels, fit_line, label=\"Composite Kernel\")\n",
    "lgd6a = fax6.legend()\n",
    "lin6 = fln6.plot(xd_pixels, kernel_slice, label='Kernel Slice')\n",
    "fit6 = fln6.plot(xd_pixels, fit_line, 'o', label='Extraction Kernel')\n",
    "lgd6b = fln6.legend()"
   ]
  },
  {
   "cell_type": "markdown",
   "id": "8e5df026",
   "metadata": {},
   "source": [
    "## if the spatial profile needs to be varied as a function of wavelength"
   ]
  },
  {
   "cell_type": "code",
   "execution_count": null,
   "id": "b06b4481",
   "metadata": {},
   "outputs": [],
   "source": [
    "# from astropy.stats import sigma_clip\n",
    "\n",
    "# n_bin = 100\n",
    "# bin_width = er_nx // n_bin\n",
    "# bin_centers = np.arange(0, er_nx, bin_width+1, dtype=float) + bin_width // 2\n",
    "# binned_spectrum = np.hstack([extraction_region[:, i:i+bin_width+1].sum(axis=1)[:, None] \n",
    "#                                  for i in range(0, er_nx, bin_width+1)])\n",
    "# bin_fwhms = np.zeros_like(bin_centers, dtype=float)\n",
    "\n",
    "# for y in range(bin_centers.size):\n",
    "#     bin_fit = fitter(fit_extraction_kernel, xd_pixels, binned_spectrum[:, y])\n",
    "#     if fit_extraction_kernel.n_submodels==1:\n",
    "#         bin_fwhms[y] = bin_fit.stddev.value\n",
    "#     else:\n",
    "#         bin_fwhms[y] = bin_fit.stddev_0.value\n",
    "    \n",
    "# bin_ny, bin_nx = binned_spectrum.shape\n",
    "# bin_ar = bin_nx / (3 * bin_ny)\n",
    "\n",
    "# fig_fwhm, ax_fwhm = plt.subplots(nrows=2, ncols=1, figsize=(6, 10))\n",
    "# plt.subplots_adjust(hspace=0.05)\n",
    "# fwhm_img = ax_fwhm[0].imshow(binned_spectrum, aspect=bin_ar, interpolation='none',\n",
    "#                              cmap='gray')\n",
    "# fwhm_plot = ax_fwhm[1].plot(bin_centers, bin_fwhms)\n",
    "# xlbl_fwhm = ax_fwhm[1].set_xlabel(\"Bin center (px)\")\n",
    "# ylbl_fwhm = ax_fwhm[1].set_ylabel(\"FWHM (arcsec)\")"
   ]
  },
  {
   "cell_type": "markdown",
   "id": "e773dd96",
   "metadata": {},
   "source": [
    "## this gives an option to fix rectification issues if needed\n"
   ]
  },
  {
   "cell_type": "code",
   "execution_count": null,
   "id": "f234fd12",
   "metadata": {},
   "outputs": [],
   "source": [
    "trace_center_model = models.Polynomial1D(0) #we use a constant because the spectrum has already been rectified\n",
    "\n",
    "if fit_extraction_kernel.n_submodels==1:\n",
    "    trace_center_model.c0 = fit_extraction_kernel.mean.value # use the parameter for center of the PSF profile\n",
    "\n",
    "else:\n",
    "    trace_center_model.c0 = fit_extraction_kernel.mean_0.value # use the parameter for center of the PSF profile\n",
    "\n",
    "    \n",
    "print(trace_center_model)"
   ]
  },
  {
   "cell_type": "markdown",
   "id": "3f7b1963",
   "metadata": {},
   "source": [
    "\n",
    "## create a noise spectrum"
   ]
  },
  {
   "cell_type": "code",
   "execution_count": null,
   "id": "bfa49c1f",
   "metadata": {},
   "outputs": [],
   "source": [
    "# scale = 1.0 # adjust this if and when the NIRSpec PIXFRAC changes\n",
    "\n",
    "# # We want any pixel with 0 weight to be excluded from the calculation\n",
    "# # in the next step, so we'll use masked array operations.\n",
    "# bad_pixels = weights_region == 0\n",
    "# masked_wht = np.ma.array(weights_region, mask=bad_pixels)\n",
    "# variance_image = np.ma.divide(1., weights_region * scale**4)\n",
    "\n",
    "# # variance_image =  np.ma.multiply(error_region**2 , weights_region)"
   ]
  },
  {
   "cell_type": "code",
   "execution_count": null,
   "id": "7bd1d0c9",
   "metadata": {},
   "outputs": [],
   "source": [
    "# from copy import copy\n",
    "\n",
    "# fig_var = plt.figure()\n",
    "# palette = copy(plt.cm.gray)\n",
    "# palette.set_bad('r', alpha=0.7)\n",
    "# var_norm = simple_norm(variance_image, stretch='log', min_cut=0.006, max_cut=0.1)\n",
    "# img_var = plt.imshow(variance_image, interpolation='none', aspect=aspect_ratio, norm=var_norm, cmap=palette)\n",
    "# plt.colorbar()\n",
    "\n",
    "\n",
    "# ### red regions should be avoided"
   ]
  },
  {
   "cell_type": "markdown",
   "id": "70ed1ae7",
   "metadata": {},
   "source": [
    "## generate 1D "
   ]
  },
  {
   "cell_type": "code",
   "execution_count": null,
   "id": "009626f4",
   "metadata": {},
   "outputs": [],
   "source": [
    "spectrum = np.zeros(er_nx, dtype=float) #initialize our spectrum with zeros\n",
    "error = np.zeros(er_nx, dtype=float) #initialize our spectrum with zeros\n",
    "\n",
    "\n",
    "column_pixels = np.arange(er_nx)\n",
    "trace_centers = trace_center_model(column_pixels) # calculate our trace centers array\n",
    "\n",
    "# Loop over columns\n",
    "for x in column_pixels:\n",
    "    # create the kernel for this column, using the fit trace centers\n",
    "    kernel_column = fit_extraction_kernel.copy()\n",
    "    kernel_column.mean_0 = trace_centers[x]\n",
    "    # kernel_column.stddev_0 = fwhm_fit(x) # if accounting for a varying FWHM, uncomment this line.\n",
    "    kernel_values = kernel_column(xd_pixels)\n",
    "    \n",
    "    # isolate the relevant column in the spectrum and variance images\n",
    "    variance_column = extraction_region_var[:, x] # remember that numpy arrays are row, column\n",
    "    image_pixels = extraction_region[:, x]\n",
    "    \n",
    "    # calculate the kernal normalization\n",
    "    g_x = np.nansum(kernel_values**2 / variance_column)\n",
    "    if np.ma.is_masked(g_x): #this column isn't valid, so we'll skip it\n",
    "        continue\n",
    "    \n",
    "    # and now sum the weighted column\n",
    "    weighted_column = np.divide(image_pixels * kernel_values, variance_column)\n",
    "    spectrum[x] = np.nansum(weighted_column) / g_x\n",
    "    \n",
    "    error[x] = (1. / g_x)**0.5\n",
    "    \n",
    "\n",
    "    "
   ]
  },
  {
   "cell_type": "code",
   "execution_count": null,
   "id": "fa291f2f-b4cc-4c51-a9f1-00c829dea5ad",
   "metadata": {},
   "outputs": [],
   "source": []
  },
  {
   "cell_type": "markdown",
   "id": "7969be2f",
   "metadata": {},
   "source": [
    "### create wavelength seperately from data header"
   ]
  },
  {
   "cell_type": "code",
   "execution_count": null,
   "id": "4944092e",
   "metadata": {},
   "outputs": [],
   "source": [
    "wcs = data_model.meta.wcs\n",
    "# print(wcs.__repr__())\n",
    "alpha_C, delta_C, y = wcs(er_x, er_y)\n",
    "wavelength = y[0]"
   ]
  },
  {
   "cell_type": "markdown",
   "id": "fa1b765a",
   "metadata": {},
   "source": [
    "## plot 1d spectrum"
   ]
  },
  {
   "cell_type": "code",
   "execution_count": null,
   "id": "d5d683ea-fb9b-4fbe-9cd2-2d9819cd9fe0",
   "metadata": {},
   "outputs": [],
   "source": [
    "fig7 = plt.figure()\n",
    "\n",
    "plt.imshow(extraction_region, aspect=aspect_ratio)"
   ]
  },
  {
   "cell_type": "code",
   "execution_count": null,
   "id": "0f480c42-66f8-46f7-a24d-54f091f4eb92",
   "metadata": {},
   "outputs": [],
   "source": [
    "spec_1d = np.median(extraction_region, axis=0)"
   ]
  },
  {
   "cell_type": "code",
   "execution_count": null,
   "id": "f2f2a25c",
   "metadata": {},
   "outputs": [],
   "source": [
    "fig7 = plt.figure()\n",
    "spec7 = plt.plot(wavelength, spectrum, 'b-')\n",
    "\n",
    "err7 = plt.plot(wavelength, error, 'r-')\n",
    "\n",
    "\n",
    "# plt.plot(wavelength, spec_1d/1e12, 'g-')"
   ]
  },
  {
   "cell_type": "code",
   "execution_count": null,
   "id": "beabb1f7",
   "metadata": {},
   "outputs": [],
   "source": []
  },
  {
   "cell_type": "code",
   "execution_count": null,
   "id": "6b12498e",
   "metadata": {},
   "outputs": [],
   "source": []
  },
  {
   "cell_type": "markdown",
   "id": "ff02e774",
   "metadata": {},
   "source": [
    "## Save 1d extraction"
   ]
  },
  {
   "cell_type": "code",
   "execution_count": null,
   "id": "17400264",
   "metadata": {},
   "outputs": [],
   "source": [
    "def batch_save_extracted_spectrum(filename, wavelength, spectrum):\n",
    "    \"\"\"\n",
    "    Quick & dirty fits dump of an extracted spectrum.\n",
    "    Replace with your preferred output format & function.\n",
    "    \"\"\"\n",
    "    \n",
    "    wcol = fits.Column(name='wavelength', format='E', \n",
    "                       array=wavelength)\n",
    "    scol = fits.Column(name='spectrum', format='E',\n",
    "                       array=spectrum)\n",
    "    \n",
    "    ecol = fits.Column(name='error', format='E',\n",
    "                       array=error)\n",
    "    \n",
    "    cols = fits.ColDefs([wcol, scol, ecol])\n",
    "    hdu = fits.BinTableHDU.from_columns(cols)\n",
    "    hdu.writeto(filename, overwrite=True)"
   ]
  },
  {
   "cell_type": "code",
   "execution_count": null,
   "id": "a0fdd0a9",
   "metadata": {},
   "outputs": [],
   "source": [
    "filename = f'onedspec_obs{obsid}_{objid}.fits'\n",
    "\n",
    "batch_save_extracted_spectrum(filename , wavelength, spectrum)"
   ]
  },
  {
   "cell_type": "markdown",
   "id": "21cf2dbb",
   "metadata": {},
   "source": [
    "## save a fig with extraction process"
   ]
  },
  {
   "cell_type": "code",
   "execution_count": null,
   "id": "8845f295",
   "metadata": {},
   "outputs": [],
   "source": [
    "def batch_plot_output(resampled_image, extraction_bbox, \n",
    "                kernel_slice, kernel_model,\n",
    "                wavelength, spectrum, filename):\n",
    "    \"\"\"\n",
    "    Convenience function for summary output figures,\n",
    "    allowing visual inspection of the results from \n",
    "    each file being processed.\n",
    "    \"\"\"\n",
    "    \n",
    "    fig, (ax1, ax2, ax3) = plt.subplots(nrows=3, ncols=1, \n",
    "                                        figsize=(8,12))\n",
    "    fig.suptitle(filename)\n",
    "    \n",
    "    ny, nx = resampled_image.shape\n",
    "    aspect = nx / (2 * ny)\n",
    "    \n",
    "    # Subplot 1: Extraction region\n",
    "    power_norm = simple_norm(resampled_image, 'power')\n",
    "    er_img = ax1.imshow(resampled_image, interpolation='none',\n",
    "               aspect=aspect, norm=power_norm, cmap='gray')\n",
    "    rx, ry, rw, rh = extraction_bbox\n",
    "    region = Rectangle((rx, ry), rw, rh, facecolor='none', \n",
    "                       edgecolor='b', linestyle='--')\n",
    "    er_ptch = ax1.add_patch(region)\n",
    "    \n",
    "    # Subplot 2: Kernel fit\n",
    "    xd_pixels = np.arange(kernel_slice.size)\n",
    "    fit_line = kernel_model(xd_pixels)\n",
    "    ks_line = ax2.plot(xd_pixels, kernel_slice, label='Kernel Slice')\n",
    "    kf_line = ax2.plot(xd_pixels, fit_line, 'o', label='Extraction Kernel')\n",
    "    k_lgd = ax2.legend()\n",
    "    \n",
    "    # Subplot 3: Extracted spectrum\n",
    "    spec_line = ax3.plot(wavelength, spectrum)\n",
    "    \n",
    "    fig.savefig(filename, bbox_inches='tight')\n",
    "    plt.close(fig)"
   ]
  },
  {
   "cell_type": "code",
   "execution_count": null,
   "id": "52daf49a",
   "metadata": {},
   "outputs": [],
   "source": [
    "batch_plot_output(extraction_region, bbox_extraction, \n",
    "                kernel_slice, fit_extraction_kernel,\n",
    "                wavelength, spectrum, filename.replace('fits', 'pdf'))"
   ]
  },
  {
   "cell_type": "code",
   "execution_count": null,
   "id": "79d05857",
   "metadata": {},
   "outputs": [],
   "source": [
    "kernel_model"
   ]
  },
  {
   "cell_type": "code",
   "execution_count": null,
   "id": "0bf3d863",
   "metadata": {},
   "outputs": [],
   "source": []
  }
 ],
 "metadata": {
  "kernelspec": {
   "display_name": "Python (env)",
   "language": "python",
   "name": "myenv"
  },
  "language_info": {
   "codemirror_mode": {
    "name": "ipython",
    "version": 3
   },
   "file_extension": ".py",
   "mimetype": "text/x-python",
   "name": "python",
   "nbconvert_exporter": "python",
   "pygments_lexer": "ipython3",
   "version": "3.10.6"
  },
  "toc": {
   "base_numbering": 1,
   "nav_menu": {},
   "number_sections": true,
   "sideBar": true,
   "skip_h1_title": false,
   "title_cell": "Table of Contents",
   "title_sidebar": "Contents",
   "toc_cell": false,
   "toc_position": {},
   "toc_section_display": true,
   "toc_window_display": true
  }
 },
 "nbformat": 4,
 "nbformat_minor": 5
}
