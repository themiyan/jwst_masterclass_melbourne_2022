{
 "cells": [
  {
   "cell_type": "code",
   "execution_count": 4,
   "id": "dominican-welding",
   "metadata": {},
   "outputs": [],
   "source": [
    "from astroquery.mast import Observations\n",
    "import astropy\n",
    "import numpy as np\n",
    "import pandas as pd\n",
    "\n",
    "# Docs for astroquery MAST\n",
    "# https://astroquery.readthedocs.io/en/latest/mast/mast.html"
   ]
  },
  {
   "cell_type": "code",
   "execution_count": 6,
   "id": "passing-crack",
   "metadata": {},
   "outputs": [
    {
     "name": "stdout",
     "output_type": "stream",
     "text": [
      "INFO: MAST API token accepted, welcome Colin Jacobs [astroquery.mast.auth]\n",
      "eppn: \n",
      "ezid: anonymous\n",
      "anon: True\n",
      "scopes: []\n",
      "session: None\n",
      "token: None\n",
      "eppn: colinjacobs@stsci.edu\n",
      "ezid: colinjacobs\n",
      "attrib.uuid: cbbb11aa-f4b6-4e72-8633-0c5eb6d565a1\n",
      "attrib.first_name: Colin\n",
      "attrib.last_name: Jacobs\n",
      "attrib.display_name: Colin Jacobs\n",
      "attrib.internal: 0\n",
      "attrib.email: colinjacobs@swin.edu.au\n",
      "attrib.Jwstcalengdataaccess: false\n",
      "anon: False\n",
      "scopes: ['mast:user:info', 'mast:exclusive_access']\n",
      "session: None\n",
      "token: c67628a1...\n"
     ]
    },
    {
     "data": {
      "text/plain": [
       "{'eppn': 'colinjacobs@stsci.edu',\n",
       " 'ezid': 'colinjacobs',\n",
       " 'attrib': {'uuid': 'cbbb11aa-f4b6-4e72-8633-0c5eb6d565a1',\n",
       "  'first_name': 'Colin',\n",
       "  'last_name': 'Jacobs',\n",
       "  'display_name': 'Colin Jacobs',\n",
       "  'internal': '0',\n",
       "  'email': 'colinjacobs@swin.edu.au',\n",
       "  'Jwstcalengdataaccess': 'false'},\n",
       " 'anon': False,\n",
       " 'scopes': ['mast:user:info', 'mast:exclusive_access'],\n",
       " 'session': None,\n",
       " 'token': 'c67628a1...'}"
      ]
     },
     "execution_count": 6,
     "metadata": {},
     "output_type": "execute_result"
    }
   ],
   "source": [
    "mast_token = \"---\"\n",
    "my_session = Observations(mast_token=mast_token)\n",
    "# my_session = Observations()\n",
    "sessioninfo = Observations.session_info()\n",
    "my_session.session_info()"
   ]
  },
  {
   "cell_type": "code",
   "execution_count": 7,
   "id": "daily-latter",
   "metadata": {},
   "outputs": [
    {
     "name": "stderr",
     "output_type": "stream",
     "text": [
      "WARNING: InputWarning: Filter productType does not exist. This filter will be skipped. [astroquery.mast.discovery_portal]\n"
     ]
    }
   ],
   "source": [
    "obs_table = Observations.query_criteria(obs_collection='JWST', \n",
    "                                        instrument_name=\"nirspec\", \n",
    "                                        dataproduct_type=\"image\",\n",
    "                                        productType=\"SCIENCE\",\n",
    "                                        proposal_id=['2756'])\n",
    "data_products = Observations.get_product_list(obs_table)"
   ]
  },
  {
   "cell_type": "code",
   "execution_count": 14,
   "id": "exciting-matthew",
   "metadata": {},
   "outputs": [
    {
     "name": "stdout",
     "output_type": "stream",
     "text": [
      "181345 data products.\n"
     ]
    }
   ],
   "source": [
    "products = data_products.to_pandas()\n",
    "print(f\"{len(products)} data products.\")"
   ]
  },
  {
   "cell_type": "code",
   "execution_count": 15,
   "id": "b5b6542f",
   "metadata": {},
   "outputs": [],
   "source": [
    "products_filtered = Observations.filter_products(data_products,\n",
    "                                        productType=[\"SCIENCE\"],\n",
    "                                         calib_level=[1, 2, 3],\n",
    "                                        extension=\"uncal.fits\")"
   ]
  },
  {
   "cell_type": "code",
   "execution_count": 16,
   "id": "eedb3174",
   "metadata": {},
   "outputs": [
    {
     "name": "stdout",
     "output_type": "stream",
     "text": [
      "2322 data products after filtering.\n"
     ]
    }
   ],
   "source": [
    "print(f\"{len(products_filtered)} data products after filtering.\")"
   ]
  },
  {
   "cell_type": "code",
   "execution_count": 18,
   "id": "executive-picnic",
   "metadata": {
    "scrolled": true
   },
   "outputs": [],
   "source": [
    "## Download intermediate data products"
   ]
  },
  {
   "cell_type": "code",
   "execution_count": 19,
   "id": "bacterial-bronze",
   "metadata": {},
   "outputs": [
    {
     "name": "stdout",
     "output_type": "stream",
     "text": [
      "Downloading URL https://mast.stsci.edu/api/v0.1/Download/bundle.sh to ./mastDownload_20221130144947.sh ... [Done]\n"
     ]
    }
   ],
   "source": [
    "# manifest = my_session.download_products(productsf, productType=\"SCIENCE\", curl_flag=True)\n",
    "\n",
    "# Use curl_flag=True to save a script you can execute from the command line, or \n",
    "# False to grab the data products directly.\n",
    "\n",
    "manifest = my_session.download_products(products_filtered, curl_flag=True)"
   ]
  },
  {
   "cell_type": "code",
   "execution_count": 20,
   "id": "annual-somewhere",
   "metadata": {},
   "outputs": [
    {
     "data": {
      "text/html": [
       "<div><i>Table length=1</i>\n",
       "<table id=\"table140271691350752\" class=\"table-striped table-bordered table-condensed\">\n",
       "<thead><tr><th>Local Path</th><th>Status</th><th>Message</th></tr></thead>\n",
       "<thead><tr><th>str32</th><th>str8</th><th>object</th></tr></thead>\n",
       "<tr><td>./mastDownload_20221130144947.sh</td><td>COMPLETE</td><td>None</td></tr>\n",
       "</table></div>"
      ],
      "text/plain": [
       "<Table length=1>\n",
       "           Local Path             Status  Message\n",
       "             str32                 str8    object\n",
       "-------------------------------- -------- -------\n",
       "./mastDownload_20221130144947.sh COMPLETE    None"
      ]
     },
     "execution_count": 20,
     "metadata": {},
     "output_type": "execute_result"
    }
   ],
   "source": [
    "manifest"
   ]
  },
  {
   "cell_type": "code",
   "execution_count": null,
   "id": "close-identification",
   "metadata": {},
   "outputs": [],
   "source": []
  },
  {
   "cell_type": "code",
   "execution_count": null,
   "id": "d48e4980",
   "metadata": {},
   "outputs": [],
   "source": []
  }
 ],
 "metadata": {
  "kernelspec": {
   "display_name": "Python 3 (ipykernel)",
   "language": "python",
   "name": "python3"
  },
  "language_info": {
   "codemirror_mode": {
    "name": "ipython",
    "version": 3
   },
   "file_extension": ".py",
   "mimetype": "text/x-python",
   "name": "python",
   "nbconvert_exporter": "python",
   "pygments_lexer": "ipython3",
   "version": "3.10.6"
  }
 },
 "nbformat": 4,
 "nbformat_minor": 5
}
